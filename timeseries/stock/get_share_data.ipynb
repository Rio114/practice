{
 "cells": [
  {
   "cell_type": "code",
   "execution_count": 1,
   "id": "interracial-music",
   "metadata": {},
   "outputs": [],
   "source": [
    "import requests\n",
    "import io\n",
    "\n",
    "import pandas as pd"
   ]
  },
  {
   "cell_type": "code",
   "execution_count": 2,
   "id": "micro-butterfly",
   "metadata": {},
   "outputs": [],
   "source": [
    "SHARES = [\"TSE-1662\", \"TSE-1605\", \"TSE-8267\", \"TSE-7203\", \"TSE-9020\"]"
   ]
  },
  {
   "cell_type": "code",
   "execution_count": 4,
   "id": "first-pierce",
   "metadata": {},
   "outputs": [],
   "source": [
    "for s in SHARES:\n",
    "    url = f'https://www.quandl.com/api/v3/datasets/TSE/{s.split(\"-\")[1]}/data.csv'\n",
    "    res = requests.get(url).content\n",
    "    pd.read_csv(io.StringIO(res.decode('utf-8')), header=0, index_col=0).to_csv(f'{s}.csv')"
   ]
  },
  {
   "cell_type": "code",
   "execution_count": null,
   "id": "comfortable-sunglasses",
   "metadata": {},
   "outputs": [],
   "source": []
  }
 ],
 "metadata": {
  "kernelspec": {
   "display_name": "Python 3",
   "language": "python",
   "name": "python3"
  },
  "language_info": {
   "codemirror_mode": {
    "name": "ipython",
    "version": 3
   },
   "file_extension": ".py",
   "mimetype": "text/x-python",
   "name": "python",
   "nbconvert_exporter": "python",
   "pygments_lexer": "ipython3",
   "version": "3.8.7"
  }
 },
 "nbformat": 4,
 "nbformat_minor": 5
}
