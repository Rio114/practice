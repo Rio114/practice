{
 "cells": [
  {
   "cell_type": "code",
   "execution_count": 19,
   "id": "middle-folder",
   "metadata": {},
   "outputs": [],
   "source": [
    "import datetime\n",
    "\n",
    "import pandas as pd\n",
    "import matplotlib.pylab as plt\n",
    "plt.rcParams['figure.figsize'] = (8,6)\n",
    "import seaborn as sns\n",
    "import numpy as np"
   ]
  },
  {
   "cell_type": "code",
   "execution_count": 52,
   "id": "acting-wallet",
   "metadata": {},
   "outputs": [],
   "source": [
    "import lightgbm as lgb\n",
    "from statsmodels.stats.diagnostic import acorr_ljungbox\n",
    "import statsmodels.api as sm\n",
    "from scipy import stats"
   ]
  },
  {
   "cell_type": "code",
   "execution_count": 54,
   "id": "surface-retail",
   "metadata": {},
   "outputs": [],
   "source": [
    "def correlation_plot(data, lags=60):\n",
    "    fig = plt.figure(figsize=(10, 8))\n",
    "    # 自己相関のコレログラム\n",
    "    ax1 = fig.add_subplot(2, 1, 1)\n",
    "    ax1.set_ylim(-1.1, 1.1)\n",
    "    fig = sm.graphics.tsa.plot_acf(data, lags=lags, ax=ax1)\n",
    "    # 偏自己相関のコレログラム\n",
    "    ax2 = fig.add_subplot(2, 1, 2)\n",
    "    ax2.set_ylim(-1.1, 1.1)    \n",
    "    fig = sm.graphics.tsa.plot_pacf(data, lags=lags, ax=ax2)\n",
    "    plt.show()"
   ]
  },
  {
   "cell_type": "code",
   "execution_count": 21,
   "id": "congressional-beach",
   "metadata": {},
   "outputs": [],
   "source": [
    "INPUT_DIR = \"input/\""
   ]
  },
  {
   "cell_type": "code",
   "execution_count": 22,
   "id": "genetic-america",
   "metadata": {},
   "outputs": [],
   "source": [
    "data = pd.read_csv(INPUT_DIR + \"daily_production.csv\")\n",
    "data['date'] = pd.to_datetime(data['date'])\n",
    "data = data.set_index('date')"
   ]
  },
  {
   "cell_type": "code",
   "execution_count": 23,
   "id": "pharmaceutical-exception",
   "metadata": {},
   "outputs": [
    {
     "data": {
      "text/html": [
       "<div>\n",
       "<style scoped>\n",
       "    .dataframe tbody tr th:only-of-type {\n",
       "        vertical-align: middle;\n",
       "    }\n",
       "\n",
       "    .dataframe tbody tr th {\n",
       "        vertical-align: top;\n",
       "    }\n",
       "\n",
       "    .dataframe thead th {\n",
       "        text-align: right;\n",
       "    }\n",
       "</style>\n",
       "<table border=\"1\" class=\"dataframe\">\n",
       "  <thead>\n",
       "    <tr style=\"text-align: right;\">\n",
       "      <th></th>\n",
       "      <th>gasvol</th>\n",
       "      <th>choke</th>\n",
       "      <th>hrsonline</th>\n",
       "      <th>whp</th>\n",
       "      <th>wht</th>\n",
       "      <th>hrsoffline</th>\n",
       "      <th>year</th>\n",
       "      <th>week</th>\n",
       "      <th>dayofweek</th>\n",
       "    </tr>\n",
       "    <tr>\n",
       "      <th>date</th>\n",
       "      <th></th>\n",
       "      <th></th>\n",
       "      <th></th>\n",
       "      <th></th>\n",
       "      <th></th>\n",
       "      <th></th>\n",
       "      <th></th>\n",
       "      <th></th>\n",
       "      <th></th>\n",
       "    </tr>\n",
       "  </thead>\n",
       "  <tbody>\n",
       "    <tr>\n",
       "      <th>2005-01-11</th>\n",
       "      <td>1790574.461</td>\n",
       "      <td>35.8</td>\n",
       "      <td>24.0</td>\n",
       "      <td>163.0</td>\n",
       "      <td>53.5</td>\n",
       "      <td>0.0</td>\n",
       "      <td>2005</td>\n",
       "      <td>2</td>\n",
       "      <td>1</td>\n",
       "    </tr>\n",
       "    <tr>\n",
       "      <th>2005-01-12</th>\n",
       "      <td>2610154.532</td>\n",
       "      <td>97.4</td>\n",
       "      <td>24.0</td>\n",
       "      <td>72.3</td>\n",
       "      <td>43.3</td>\n",
       "      <td>0.0</td>\n",
       "      <td>2005</td>\n",
       "      <td>2</td>\n",
       "      <td>2</td>\n",
       "    </tr>\n",
       "    <tr>\n",
       "      <th>2005-01-13</th>\n",
       "      <td>0.000</td>\n",
       "      <td>0.0</td>\n",
       "      <td>0.0</td>\n",
       "      <td>0.0</td>\n",
       "      <td>0.0</td>\n",
       "      <td>24.0</td>\n",
       "      <td>2005</td>\n",
       "      <td>2</td>\n",
       "      <td>3</td>\n",
       "    </tr>\n",
       "    <tr>\n",
       "      <th>2005-01-14</th>\n",
       "      <td>0.000</td>\n",
       "      <td>0.0</td>\n",
       "      <td>0.0</td>\n",
       "      <td>0.0</td>\n",
       "      <td>0.0</td>\n",
       "      <td>24.0</td>\n",
       "      <td>2005</td>\n",
       "      <td>2</td>\n",
       "      <td>4</td>\n",
       "    </tr>\n",
       "    <tr>\n",
       "      <th>2005-01-15</th>\n",
       "      <td>0.000</td>\n",
       "      <td>0.0</td>\n",
       "      <td>0.0</td>\n",
       "      <td>0.0</td>\n",
       "      <td>0.0</td>\n",
       "      <td>24.0</td>\n",
       "      <td>2005</td>\n",
       "      <td>2</td>\n",
       "      <td>5</td>\n",
       "    </tr>\n",
       "  </tbody>\n",
       "</table>\n",
       "</div>"
      ],
      "text/plain": [
       "                 gasvol  choke  hrsonline    whp   wht  hrsoffline  year  \\\n",
       "date                                                                       \n",
       "2005-01-11  1790574.461   35.8       24.0  163.0  53.5         0.0  2005   \n",
       "2005-01-12  2610154.532   97.4       24.0   72.3  43.3         0.0  2005   \n",
       "2005-01-13        0.000    0.0        0.0    0.0   0.0        24.0  2005   \n",
       "2005-01-14        0.000    0.0        0.0    0.0   0.0        24.0  2005   \n",
       "2005-01-15        0.000    0.0        0.0    0.0   0.0        24.0  2005   \n",
       "\n",
       "            week  dayofweek  \n",
       "date                         \n",
       "2005-01-11     2          1  \n",
       "2005-01-12     2          2  \n",
       "2005-01-13     2          3  \n",
       "2005-01-14     2          4  \n",
       "2005-01-15     2          5  "
      ]
     },
     "execution_count": 23,
     "metadata": {},
     "output_type": "execute_result"
    }
   ],
   "source": [
    "data.head()"
   ]
  },
  {
   "cell_type": "code",
   "execution_count": 24,
   "id": "modular-hurricane",
   "metadata": {},
   "outputs": [
    {
     "data": {
      "text/html": [
       "<div>\n",
       "<style scoped>\n",
       "    .dataframe tbody tr th:only-of-type {\n",
       "        vertical-align: middle;\n",
       "    }\n",
       "\n",
       "    .dataframe tbody tr th {\n",
       "        vertical-align: top;\n",
       "    }\n",
       "\n",
       "    .dataframe thead th {\n",
       "        text-align: right;\n",
       "    }\n",
       "</style>\n",
       "<table border=\"1\" class=\"dataframe\">\n",
       "  <thead>\n",
       "    <tr style=\"text-align: right;\">\n",
       "      <th></th>\n",
       "      <th>gasvol</th>\n",
       "      <th>choke</th>\n",
       "      <th>hrsonline</th>\n",
       "      <th>whp</th>\n",
       "      <th>wht</th>\n",
       "      <th>hrsoffline</th>\n",
       "      <th>year</th>\n",
       "      <th>week</th>\n",
       "      <th>dayofweek</th>\n",
       "    </tr>\n",
       "  </thead>\n",
       "  <tbody>\n",
       "    <tr>\n",
       "      <th>count</th>\n",
       "      <td>5.080000e+03</td>\n",
       "      <td>5080.000000</td>\n",
       "      <td>5080.000000</td>\n",
       "      <td>5080.000000</td>\n",
       "      <td>5080.000000</td>\n",
       "      <td>5080.000000</td>\n",
       "      <td>5080.000000</td>\n",
       "      <td>5080.000000</td>\n",
       "      <td>5080.000000</td>\n",
       "    </tr>\n",
       "    <tr>\n",
       "      <th>mean</th>\n",
       "      <td>4.517001e+05</td>\n",
       "      <td>64.505906</td>\n",
       "      <td>18.132953</td>\n",
       "      <td>28.051555</td>\n",
       "      <td>32.831752</td>\n",
       "      <td>5.867047</td>\n",
       "      <td>2011.483465</td>\n",
       "      <td>26.507283</td>\n",
       "      <td>3.000000</td>\n",
       "    </tr>\n",
       "    <tr>\n",
       "      <th>std</th>\n",
       "      <td>5.511638e+05</td>\n",
       "      <td>44.109146</td>\n",
       "      <td>9.554588</td>\n",
       "      <td>21.576947</td>\n",
       "      <td>15.090307</td>\n",
       "      <td>9.554588</td>\n",
       "      <td>4.009995</td>\n",
       "      <td>14.978016</td>\n",
       "      <td>1.999705</td>\n",
       "    </tr>\n",
       "    <tr>\n",
       "      <th>min</th>\n",
       "      <td>0.000000e+00</td>\n",
       "      <td>0.000000</td>\n",
       "      <td>0.000000</td>\n",
       "      <td>0.000000</td>\n",
       "      <td>-20.000000</td>\n",
       "      <td>0.000000</td>\n",
       "      <td>2005.000000</td>\n",
       "      <td>1.000000</td>\n",
       "      <td>0.000000</td>\n",
       "    </tr>\n",
       "    <tr>\n",
       "      <th>25%</th>\n",
       "      <td>4.661764e+04</td>\n",
       "      <td>1.200000</td>\n",
       "      <td>14.075000</td>\n",
       "      <td>17.700000</td>\n",
       "      <td>28.375000</td>\n",
       "      <td>0.000000</td>\n",
       "      <td>2008.000000</td>\n",
       "      <td>14.000000</td>\n",
       "      <td>1.000000</td>\n",
       "    </tr>\n",
       "    <tr>\n",
       "      <th>50%</th>\n",
       "      <td>2.415290e+05</td>\n",
       "      <td>96.600000</td>\n",
       "      <td>24.000000</td>\n",
       "      <td>24.400000</td>\n",
       "      <td>37.800000</td>\n",
       "      <td>0.000000</td>\n",
       "      <td>2011.000000</td>\n",
       "      <td>26.500000</td>\n",
       "      <td>3.000000</td>\n",
       "    </tr>\n",
       "    <tr>\n",
       "      <th>75%</th>\n",
       "      <td>6.537928e+05</td>\n",
       "      <td>98.800000</td>\n",
       "      <td>24.000000</td>\n",
       "      <td>31.100000</td>\n",
       "      <td>43.800000</td>\n",
       "      <td>9.925000</td>\n",
       "      <td>2015.000000</td>\n",
       "      <td>39.000000</td>\n",
       "      <td>5.000000</td>\n",
       "    </tr>\n",
       "    <tr>\n",
       "      <th>max</th>\n",
       "      <td>2.737552e+06</td>\n",
       "      <td>100.000000</td>\n",
       "      <td>24.000000</td>\n",
       "      <td>190.300000</td>\n",
       "      <td>73.900000</td>\n",
       "      <td>24.000000</td>\n",
       "      <td>2018.000000</td>\n",
       "      <td>53.000000</td>\n",
       "      <td>6.000000</td>\n",
       "    </tr>\n",
       "  </tbody>\n",
       "</table>\n",
       "</div>"
      ],
      "text/plain": [
       "             gasvol        choke    hrsonline          whp          wht  \\\n",
       "count  5.080000e+03  5080.000000  5080.000000  5080.000000  5080.000000   \n",
       "mean   4.517001e+05    64.505906    18.132953    28.051555    32.831752   \n",
       "std    5.511638e+05    44.109146     9.554588    21.576947    15.090307   \n",
       "min    0.000000e+00     0.000000     0.000000     0.000000   -20.000000   \n",
       "25%    4.661764e+04     1.200000    14.075000    17.700000    28.375000   \n",
       "50%    2.415290e+05    96.600000    24.000000    24.400000    37.800000   \n",
       "75%    6.537928e+05    98.800000    24.000000    31.100000    43.800000   \n",
       "max    2.737552e+06   100.000000    24.000000   190.300000    73.900000   \n",
       "\n",
       "        hrsoffline         year         week    dayofweek  \n",
       "count  5080.000000  5080.000000  5080.000000  5080.000000  \n",
       "mean      5.867047  2011.483465    26.507283     3.000000  \n",
       "std       9.554588     4.009995    14.978016     1.999705  \n",
       "min       0.000000  2005.000000     1.000000     0.000000  \n",
       "25%       0.000000  2008.000000    14.000000     1.000000  \n",
       "50%       0.000000  2011.000000    26.500000     3.000000  \n",
       "75%       9.925000  2015.000000    39.000000     5.000000  \n",
       "max      24.000000  2018.000000    53.000000     6.000000  "
      ]
     },
     "execution_count": 24,
     "metadata": {},
     "output_type": "execute_result"
    }
   ],
   "source": [
    "data.describe()"
   ]
  },
  {
   "cell_type": "code",
   "execution_count": 25,
   "id": "recovered-archive",
   "metadata": {},
   "outputs": [],
   "source": [
    "# 目的変数と説明変数（特徴量）の選択\n",
    "\n",
    "target = ['gasrate']\n",
    "# features = ['choke', 'whp', 'wht', 'year', 'week', 'dayofweek'] \n",
    "features = ['choke','hrsonline','whp', 'year', 'week', 'dayofweek'] # whtはどちらかというと結果なのでリークの恐れあり。\n",
    "\n",
    "data['gasrate'] = data['gasvol'] / data['hrsonline']"
   ]
  },
  {
   "cell_type": "code",
   "execution_count": 26,
   "id": "biological-penalty",
   "metadata": {},
   "outputs": [],
   "source": [
    "# 追加の説明変数\n",
    "## LigthGBMなどの決定木系アルゴリズムでは多重共線性をあまり気にせずに特徴量をたくさん入れることができる。\n",
    "## しかし、Train/Validに過学習してしまうためやり過ぎに注意。\n",
    "## ヒアリングでアイディアを探す。\n",
    "\n",
    "# 過去の生産レート\n",
    "for l in range(1,10):\n",
    "    data[f'rate_shift_{l}d'] = data['gasrate'].shift(l).bfill()\n",
    "    features.append(f'rate_shift_{l}d')\n",
    "    \n",
    "\n",
    "# # 直近のシャットイン時間\n",
    "# for l in range(1,10):\n",
    "#     data[f'hrsoffline_shift_{l}d'] = data['hrsoffline'].shift(l).bfill()\n",
    "#     features.append(f'hrsoffline_shift_{l}d')"
   ]
  },
  {
   "cell_type": "code",
   "execution_count": 27,
   "id": "silver-rebate",
   "metadata": {},
   "outputs": [
    {
     "data": {
      "text/html": [
       "<div>\n",
       "<style scoped>\n",
       "    .dataframe tbody tr th:only-of-type {\n",
       "        vertical-align: middle;\n",
       "    }\n",
       "\n",
       "    .dataframe tbody tr th {\n",
       "        vertical-align: top;\n",
       "    }\n",
       "\n",
       "    .dataframe thead th {\n",
       "        text-align: right;\n",
       "    }\n",
       "</style>\n",
       "<table border=\"1\" class=\"dataframe\">\n",
       "  <thead>\n",
       "    <tr style=\"text-align: right;\">\n",
       "      <th></th>\n",
       "      <th>gasvol</th>\n",
       "      <th>choke</th>\n",
       "      <th>hrsonline</th>\n",
       "      <th>whp</th>\n",
       "      <th>wht</th>\n",
       "      <th>hrsoffline</th>\n",
       "      <th>year</th>\n",
       "      <th>week</th>\n",
       "      <th>dayofweek</th>\n",
       "      <th>gasrate</th>\n",
       "      <th>rate_shift_1d</th>\n",
       "      <th>rate_shift_2d</th>\n",
       "      <th>rate_shift_3d</th>\n",
       "      <th>rate_shift_4d</th>\n",
       "      <th>rate_shift_5d</th>\n",
       "      <th>rate_shift_6d</th>\n",
       "      <th>rate_shift_7d</th>\n",
       "      <th>rate_shift_8d</th>\n",
       "      <th>rate_shift_9d</th>\n",
       "    </tr>\n",
       "    <tr>\n",
       "      <th>date</th>\n",
       "      <th></th>\n",
       "      <th></th>\n",
       "      <th></th>\n",
       "      <th></th>\n",
       "      <th></th>\n",
       "      <th></th>\n",
       "      <th></th>\n",
       "      <th></th>\n",
       "      <th></th>\n",
       "      <th></th>\n",
       "      <th></th>\n",
       "      <th></th>\n",
       "      <th></th>\n",
       "      <th></th>\n",
       "      <th></th>\n",
       "      <th></th>\n",
       "      <th></th>\n",
       "      <th></th>\n",
       "      <th></th>\n",
       "    </tr>\n",
       "  </thead>\n",
       "  <tbody>\n",
       "    <tr>\n",
       "      <th>2005-01-11</th>\n",
       "      <td>1790574.461</td>\n",
       "      <td>35.8</td>\n",
       "      <td>24.0</td>\n",
       "      <td>163.0</td>\n",
       "      <td>53.5</td>\n",
       "      <td>0.0</td>\n",
       "      <td>2005</td>\n",
       "      <td>2</td>\n",
       "      <td>1</td>\n",
       "      <td>74607.269208</td>\n",
       "      <td>74607.269208</td>\n",
       "      <td>74607.269208</td>\n",
       "      <td>74607.269208</td>\n",
       "      <td>74607.269208</td>\n",
       "      <td>74607.269208</td>\n",
       "      <td>74607.269208</td>\n",
       "      <td>74607.269208</td>\n",
       "      <td>74607.269208</td>\n",
       "      <td>74607.269208</td>\n",
       "    </tr>\n",
       "    <tr>\n",
       "      <th>2005-01-12</th>\n",
       "      <td>2610154.532</td>\n",
       "      <td>97.4</td>\n",
       "      <td>24.0</td>\n",
       "      <td>72.3</td>\n",
       "      <td>43.3</td>\n",
       "      <td>0.0</td>\n",
       "      <td>2005</td>\n",
       "      <td>2</td>\n",
       "      <td>2</td>\n",
       "      <td>108756.438833</td>\n",
       "      <td>74607.269208</td>\n",
       "      <td>74607.269208</td>\n",
       "      <td>74607.269208</td>\n",
       "      <td>74607.269208</td>\n",
       "      <td>74607.269208</td>\n",
       "      <td>74607.269208</td>\n",
       "      <td>74607.269208</td>\n",
       "      <td>74607.269208</td>\n",
       "      <td>74607.269208</td>\n",
       "    </tr>\n",
       "    <tr>\n",
       "      <th>2005-01-13</th>\n",
       "      <td>0.000</td>\n",
       "      <td>0.0</td>\n",
       "      <td>0.0</td>\n",
       "      <td>0.0</td>\n",
       "      <td>0.0</td>\n",
       "      <td>24.0</td>\n",
       "      <td>2005</td>\n",
       "      <td>2</td>\n",
       "      <td>3</td>\n",
       "      <td>NaN</td>\n",
       "      <td>108756.438833</td>\n",
       "      <td>74607.269208</td>\n",
       "      <td>74607.269208</td>\n",
       "      <td>74607.269208</td>\n",
       "      <td>74607.269208</td>\n",
       "      <td>74607.269208</td>\n",
       "      <td>74607.269208</td>\n",
       "      <td>74607.269208</td>\n",
       "      <td>74607.269208</td>\n",
       "    </tr>\n",
       "    <tr>\n",
       "      <th>2005-01-14</th>\n",
       "      <td>0.000</td>\n",
       "      <td>0.0</td>\n",
       "      <td>0.0</td>\n",
       "      <td>0.0</td>\n",
       "      <td>0.0</td>\n",
       "      <td>24.0</td>\n",
       "      <td>2005</td>\n",
       "      <td>2</td>\n",
       "      <td>4</td>\n",
       "      <td>NaN</td>\n",
       "      <td>74273.947958</td>\n",
       "      <td>108756.438833</td>\n",
       "      <td>74607.269208</td>\n",
       "      <td>74607.269208</td>\n",
       "      <td>74607.269208</td>\n",
       "      <td>74607.269208</td>\n",
       "      <td>74607.269208</td>\n",
       "      <td>74607.269208</td>\n",
       "      <td>74607.269208</td>\n",
       "    </tr>\n",
       "    <tr>\n",
       "      <th>2005-01-15</th>\n",
       "      <td>0.000</td>\n",
       "      <td>0.0</td>\n",
       "      <td>0.0</td>\n",
       "      <td>0.0</td>\n",
       "      <td>0.0</td>\n",
       "      <td>24.0</td>\n",
       "      <td>2005</td>\n",
       "      <td>2</td>\n",
       "      <td>5</td>\n",
       "      <td>NaN</td>\n",
       "      <td>74273.947958</td>\n",
       "      <td>74273.947958</td>\n",
       "      <td>108756.438833</td>\n",
       "      <td>74607.269208</td>\n",
       "      <td>74607.269208</td>\n",
       "      <td>74607.269208</td>\n",
       "      <td>74607.269208</td>\n",
       "      <td>74607.269208</td>\n",
       "      <td>74607.269208</td>\n",
       "    </tr>\n",
       "  </tbody>\n",
       "</table>\n",
       "</div>"
      ],
      "text/plain": [
       "                 gasvol  choke  hrsonline    whp   wht  hrsoffline  year  \\\n",
       "date                                                                       \n",
       "2005-01-11  1790574.461   35.8       24.0  163.0  53.5         0.0  2005   \n",
       "2005-01-12  2610154.532   97.4       24.0   72.3  43.3         0.0  2005   \n",
       "2005-01-13        0.000    0.0        0.0    0.0   0.0        24.0  2005   \n",
       "2005-01-14        0.000    0.0        0.0    0.0   0.0        24.0  2005   \n",
       "2005-01-15        0.000    0.0        0.0    0.0   0.0        24.0  2005   \n",
       "\n",
       "            week  dayofweek        gasrate  rate_shift_1d  rate_shift_2d  \\\n",
       "date                                                                       \n",
       "2005-01-11     2          1   74607.269208   74607.269208   74607.269208   \n",
       "2005-01-12     2          2  108756.438833   74607.269208   74607.269208   \n",
       "2005-01-13     2          3            NaN  108756.438833   74607.269208   \n",
       "2005-01-14     2          4            NaN   74273.947958  108756.438833   \n",
       "2005-01-15     2          5            NaN   74273.947958   74273.947958   \n",
       "\n",
       "            rate_shift_3d  rate_shift_4d  rate_shift_5d  rate_shift_6d  \\\n",
       "date                                                                     \n",
       "2005-01-11   74607.269208   74607.269208   74607.269208   74607.269208   \n",
       "2005-01-12   74607.269208   74607.269208   74607.269208   74607.269208   \n",
       "2005-01-13   74607.269208   74607.269208   74607.269208   74607.269208   \n",
       "2005-01-14   74607.269208   74607.269208   74607.269208   74607.269208   \n",
       "2005-01-15  108756.438833   74607.269208   74607.269208   74607.269208   \n",
       "\n",
       "            rate_shift_7d  rate_shift_8d  rate_shift_9d  \n",
       "date                                                     \n",
       "2005-01-11   74607.269208   74607.269208   74607.269208  \n",
       "2005-01-12   74607.269208   74607.269208   74607.269208  \n",
       "2005-01-13   74607.269208   74607.269208   74607.269208  \n",
       "2005-01-14   74607.269208   74607.269208   74607.269208  \n",
       "2005-01-15   74607.269208   74607.269208   74607.269208  "
      ]
     },
     "execution_count": 27,
     "metadata": {},
     "output_type": "execute_result"
    }
   ],
   "source": [
    "data.head()"
   ]
  },
  {
   "cell_type": "code",
   "execution_count": 28,
   "id": "touched-praise",
   "metadata": {},
   "outputs": [
    {
     "data": {
      "text/plain": [
       "(5080, 19)"
      ]
     },
     "execution_count": 28,
     "metadata": {},
     "output_type": "execute_result"
    }
   ],
   "source": [
    "data.shape"
   ]
  },
  {
   "cell_type": "code",
   "execution_count": 42,
   "id": "cordless-myrtle",
   "metadata": {},
   "outputs": [],
   "source": [
    "train_start = datetime.datetime(2012, 1, 1)\n",
    "valid_start = datetime.datetime(2016, 9, 1)\n",
    "test_start = datetime.datetime(2017, 9, 1)\n",
    "test_end = datetime.datetime(2018, 9, 1)"
   ]
  },
  {
   "cell_type": "code",
   "execution_count": 43,
   "id": "younger-blanket",
   "metadata": {},
   "outputs": [],
   "source": [
    "cond = data['hrsonline'] > 20 #元のデータの75％は20時間以上Online\n",
    "cond &= data['gasrate'] > 0 #Onlineでも生産量０は不正値とみなす。\n",
    "\n",
    "df = data[cond].copy() # copyしないとメモリ上で値を共有するので片方をいじるともう片方も更新されてしまう。\n",
    "df_train = df[(df.index >= train_start) & (df.index < valid_start)]\n",
    "df_valid = df[(df.index >= valid_start) & (df.index < test_start)]\n",
    "df_test = df[(df.index >= test_start) & (df.index < test_end)]"
   ]
  },
  {
   "cell_type": "code",
   "execution_count": 44,
   "id": "recreational-photograph",
   "metadata": {},
   "outputs": [],
   "source": [
    "lgb_train = lgb.Dataset(df_train[features], df_train[target].apply(np.log1p)) #数字が大きい、かつ変動も大きいので対数変換する。結果が安定しやすい。\n",
    "lgb_valid = lgb.Dataset(df_valid[features], df_valid[target].apply(np.log1p))\n",
    "lgb_test = lgb.Dataset(df_test[features], df_test[target].apply(np.log1p))\n",
    "params = {'metric' : 'rmse'} # 評価基準を設定する。LightGBMはパラメーターチューニングがあまり有効でないので他はデフォルトで。"
   ]
  },
  {
   "cell_type": "code",
   "execution_count": 45,
   "id": "polar-assistant",
   "metadata": {},
   "outputs": [
    {
     "name": "stdout",
     "output_type": "stream",
     "text": [
      "[LightGBM] [Warning] Auto-choosing col-wise multi-threading, the overhead of testing was 0.000105 seconds.\n",
      "You can set `force_col_wise=true` to remove the overhead.\n",
      "[LightGBM] [Info] Total Bins 2836\n",
      "[LightGBM] [Info] Number of data points in the train set: 1120, number of used features: 15\n",
      "[LightGBM] [Info] Start training from score 9.048330\n",
      "Training until validation scores don't improve for 10 rounds\n",
      "[10]\tvalid_0's rmse: 0.295134\n",
      "[20]\tvalid_0's rmse: 0.308117\n",
      "Early stopping, best iteration is:\n",
      "[13]\tvalid_0's rmse: 0.292501\n"
     ]
    }
   ],
   "source": [
    "model = lgb.train(params = params,\n",
    "                  train_set = lgb_train,\n",
    "                  num_boost_round = 1000,\n",
    "                  valid_sets =lgb_valid,\n",
    "                  verbose_eval=10,\n",
    "                  early_stopping_rounds = 10\n",
    "                 )"
   ]
  },
  {
   "cell_type": "code",
   "execution_count": 46,
   "id": "consolidated-medicaid",
   "metadata": {},
   "outputs": [],
   "source": [
    "df_eval = df_test.copy()\n",
    "df_eval['pred'] = model.predict(df_test[features])"
   ]
  },
  {
   "cell_type": "code",
   "execution_count": 62,
   "id": "timely-probability",
   "metadata": {},
   "outputs": [],
   "source": [
    "def plot_prediction(df_eval):\n",
    "\n",
    "    actual = df_eval[target[0]]\n",
    "    pred = df_eval['pred'].apply(np.expm1)\n",
    "    \n",
    "    mape = (np.abs(pred - actual) / actual * 100).mean()\n",
    "    \n",
    "    plt.title('LGBM prediction vs actual')\n",
    "    actual.plot(label='actual')\n",
    "    pred.plot(label=f'predict, MAPE:{mape:.2f} %')\n",
    "    plt.ylabel('gas rate (sm3/hr)')\n",
    "    plt.legend()\n",
    "    plt.show()\n",
    "    \n",
    "    plt.title('LGBM residual') \n",
    "    (pred - actual).plot(label='residual')\n",
    "    plt.legend()\n",
    "    plt.show()"
   ]
  },
  {
   "cell_type": "code",
   "execution_count": 63,
   "id": "designing-powder",
   "metadata": {},
   "outputs": [
    {
     "data": {
      "image/png": "[encoded data removed]",
      "text/plain": [
       "<Figure size 576x432 with 1 Axes>"
      ]
     },
     "metadata": {
      "needs_background": "light"
     },
     "output_type": "display_data"
    },
    {
     "data": {
      "image/png": "[encoded data removed]",
      "text/plain": [
       "<Figure size 576x432 with 1 Axes>"
      ]
     },
     "metadata": {
      "needs_background": "light"
     },
     "output_type": "display_data"
    }
   ],
   "source": [
    "plot_prediction(df_eval)"
   ]
  },
  {
   "cell_type": "code",
   "execution_count": 49,
   "id": "alien-flesh",
   "metadata": {},
   "outputs": [
    {
     "data": {
      "text/html": [
       "<div>\n",
       "<style scoped>\n",
       "    .dataframe tbody tr th:only-of-type {\n",
       "        vertical-align: middle;\n",
       "    }\n",
       "\n",
       "    .dataframe tbody tr th {\n",
       "        vertical-align: top;\n",
       "    }\n",
       "\n",
       "    .dataframe thead th {\n",
       "        text-align: right;\n",
       "    }\n",
       "</style>\n",
       "<table border=\"1\" class=\"dataframe\">\n",
       "  <thead>\n",
       "    <tr style=\"text-align: right;\">\n",
       "      <th></th>\n",
       "      <th>gain</th>\n",
       "    </tr>\n",
       "  </thead>\n",
       "  <tbody>\n",
       "    <tr>\n",
       "      <th>whp</th>\n",
       "      <td>1152.498493</td>\n",
       "    </tr>\n",
       "    <tr>\n",
       "      <th>year</th>\n",
       "      <td>430.068951</td>\n",
       "    </tr>\n",
       "    <tr>\n",
       "      <th>choke</th>\n",
       "      <td>160.465712</td>\n",
       "    </tr>\n",
       "    <tr>\n",
       "      <th>rate_shift_1d</th>\n",
       "      <td>156.920029</td>\n",
       "    </tr>\n",
       "    <tr>\n",
       "      <th>rate_shift_5d</th>\n",
       "      <td>47.903614</td>\n",
       "    </tr>\n",
       "    <tr>\n",
       "      <th>rate_shift_3d</th>\n",
       "      <td>44.152707</td>\n",
       "    </tr>\n",
       "    <tr>\n",
       "      <th>rate_shift_8d</th>\n",
       "      <td>35.597774</td>\n",
       "    </tr>\n",
       "    <tr>\n",
       "      <th>rate_shift_7d</th>\n",
       "      <td>34.658761</td>\n",
       "    </tr>\n",
       "    <tr>\n",
       "      <th>rate_shift_2d</th>\n",
       "      <td>23.833656</td>\n",
       "    </tr>\n",
       "    <tr>\n",
       "      <th>rate_shift_4d</th>\n",
       "      <td>22.493965</td>\n",
       "    </tr>\n",
       "    <tr>\n",
       "      <th>week</th>\n",
       "      <td>20.366810</td>\n",
       "    </tr>\n",
       "    <tr>\n",
       "      <th>rate_shift_6d</th>\n",
       "      <td>15.948435</td>\n",
       "    </tr>\n",
       "    <tr>\n",
       "      <th>rate_shift_9d</th>\n",
       "      <td>14.617121</td>\n",
       "    </tr>\n",
       "    <tr>\n",
       "      <th>hrsonline</th>\n",
       "      <td>10.853450</td>\n",
       "    </tr>\n",
       "    <tr>\n",
       "      <th>dayofweek</th>\n",
       "      <td>9.827803</td>\n",
       "    </tr>\n",
       "  </tbody>\n",
       "</table>\n",
       "</div>"
      ],
      "text/plain": [
       "                      gain\n",
       "whp            1152.498493\n",
       "year            430.068951\n",
       "choke           160.465712\n",
       "rate_shift_1d   156.920029\n",
       "rate_shift_5d    47.903614\n",
       "rate_shift_3d    44.152707\n",
       "rate_shift_8d    35.597774\n",
       "rate_shift_7d    34.658761\n",
       "rate_shift_2d    23.833656\n",
       "rate_shift_4d    22.493965\n",
       "week             20.366810\n",
       "rate_shift_6d    15.948435\n",
       "rate_shift_9d    14.617121\n",
       "hrsonline        10.853450\n",
       "dayofweek         9.827803"
      ]
     },
     "execution_count": 49,
     "metadata": {},
     "output_type": "execute_result"
    }
   ],
   "source": [
    "# 重要度とは、決定木系のアルゴリズムで説明変数ごとの分岐でのスコアの変動の合計\n",
    "importances = pd.DataFrame(model.feature_importance('gain'), index=features, columns=['gain'])\n",
    "importances.sort_values('gain', ascending=False)"
   ]
  },
  {
   "cell_type": "code",
   "execution_count": 53,
   "id": "accepted-receptor",
   "metadata": {},
   "outputs": [
    {
     "name": "stdout",
     "output_type": "stream",
     "text": [
      "Jack Bera: \t Jarque_beraResult(statistic=31.476118187715603, pvalue=1.4623380473199887e-07)\n"
     ]
    },
    {
     "data": {
      "image/png": "[encoded data removed]",
      "text/plain": [
       "<Figure size 576x432 with 1 Axes>"
      ]
     },
     "metadata": {
      "needs_background": "light"
     },
     "output_type": "display_data"
    }
   ],
   "source": [
    "diff_arr = df_eval['pred'] - df_eval['gasrate']\n",
    "\n",
    "diff_arr.hist(bins=50)\n",
    "\n",
    "jarque_bera_test = stats.jarque_bera(diff_arr)\n",
    "print('Jack Bera:', '\\t', jarque_bera_test)"
   ]
  },
  {
   "cell_type": "code",
   "execution_count": 55,
   "id": "conscious-martin",
   "metadata": {},
   "outputs": [
    {
     "data": {
      "image/png": "[encoded data removed]",
      "text/plain": [
       "<Figure size 720x576 with 2 Axes>"
      ]
     },
     "metadata": {
      "needs_background": "light"
     },
     "output_type": "display_data"
    },
    {
     "name": "stdout",
     "output_type": "stream",
     "text": [
      "1 52.66809473588963 3.949552824765384e-13\n",
      "2 98.16323983765177 4.831959732263848e-22\n",
      "3 124.0060364075961 1.0581655073961313e-26\n",
      "4 145.76458060611074 1.6449921989535384e-30\n",
      "5 165.67323183278685 6.110155991563277e-34\n",
      "6 186.01982843475503 1.7851468489478451e-37\n",
      "7 204.47205503598693 1.2957942379516743e-40\n",
      "8 225.98835023451957 2.0885786172499062e-44\n",
      "9 247.80566521284325 2.898444672123362e-48\n",
      "10 261.22244505200666 2.362540050044643e-50\n"
     ]
    },
    {
     "name": "stderr",
     "output_type": "stream",
     "text": [
      "/home/ryoji/.cache/pypoetry/virtualenvs/timeseries-weK0nu0g-py3.8/lib/python3.8/site-packages/statsmodels/stats/diagnostic.py:559: FutureWarning: The value returned will change to a single DataFrame after 0.12 is released.  Set return_df to True to use to return a DataFrame now.  Set return_df to False to silence this warning.\n",
      "  warnings.warn(msg, FutureWarning)\n"
     ]
    }
   ],
   "source": [
    "correlation_plot(diff_arr)\n",
    "\n",
    "results = acorr_ljungbox(diff_arr, lags=10)\n",
    "lag = 1\n",
    "for lb, p in zip(results[0], results[1]):\n",
    "    print(lag, lb, p)\n",
    "    lag += 1"
   ]
  },
  {
   "cell_type": "code",
   "execution_count": 57,
   "id": "eight-prince",
   "metadata": {},
   "outputs": [
    {
     "name": "stdout",
     "output_type": "stream",
     "text": [
      "---ctt---\n",
      "(-4.956061935904802, 0.001219637633758616, 1, 151, {'1%': -4.449541009683263, '5%': -3.872082734430435, '10%': -3.577746361147748}, 2186.2851882812956)\n",
      "---ct---\n",
      "(-4.359563707303718, 0.0025383010702716012, 1, 151, {'1%': -4.020010057177695, '5%': -3.4399749739075576, '10%': -3.144351820618417}, 2190.2426151076056)\n",
      "---c---\n",
      "(-4.225852004672468, 0.0005955626093499199, 1, 151, {'1%': -3.4744158894942156, '5%': -2.880878382771059, '10%': -2.577081275821236}, 2188.8400427039487)\n",
      "---nc---\n",
      "(-0.5058421000436003, 0.49372118642127866, 7, 145, {'1%': -2.581331819262782, '5%': -1.9430022196892043, '10%': -1.6151090404690638}, 2198.0497003463915)\n"
     ]
    },
    {
     "data": {
      "image/png": "[encoded data removed]",
      "text/plain": [
       "<Figure size 576x432 with 1 Axes>"
      ]
     },
     "metadata": {
      "needs_background": "light"
     },
     "output_type": "display_data"
    }
   ],
   "source": [
    "y = diff_arr\n",
    "y.plot()\n",
    "regs = ['ctt', 'ct', 'c', 'nc'] # 2次のトレンド＋定数項、1次のトレンド＋定数項, トレンドなし＋定数項、トレンド・定数項なし\n",
    "for r in regs:\n",
    "    print(f'---{r}---')\n",
    "    print(sm.tsa.stattools.adfuller(y, regression=r))"
   ]
  },
  {
   "cell_type": "code",
   "execution_count": null,
   "id": "pointed-interference",
   "metadata": {},
   "outputs": [],
   "source": []
  }
 ],
 "metadata": {
  "kernelspec": {
   "display_name": "Python 3",
   "language": "python",
   "name": "python3"
  },
  "language_info": {
   "codemirror_mode": {
    "name": "ipython",
    "version": 3
   },
   "file_extension": ".py",
   "mimetype": "text/x-python",
   "name": "python",
   "nbconvert_exporter": "python",
   "pygments_lexer": "ipython3",
   "version": "3.8.7"
  }
 },
 "nbformat": 4,
 "nbformat_minor": 5
}
