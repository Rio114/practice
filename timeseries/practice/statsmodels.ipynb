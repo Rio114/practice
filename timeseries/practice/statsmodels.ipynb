{
 "cells": [
  {
   "cell_type": "code",
   "execution_count": 1,
   "id": "historical-buffer",
   "metadata": {},
   "outputs": [],
   "source": [
    "import requests\n",
    "import io\n",
    "import datetime\n",
    "\n",
    "import numpy as np\n",
    "import pandas as pd\n",
    "import matplotlib.pylab as plt"
   ]
  },
  {
   "cell_type": "code",
   "execution_count": 2,
   "id": "satellite-prevention",
   "metadata": {},
   "outputs": [],
   "source": [
    "import statsmodels.api as sm\n",
    "\n",
    "from statsmodels.stats.diagnostic import acorr_ljungbox"
   ]
  },
  {
   "cell_type": "code",
   "execution_count": 3,
   "id": "moved-contributor",
   "metadata": {},
   "outputs": [],
   "source": [
    "df = pd.read_csv('QUARTERLY.csv')"
   ]
  },
  {
   "cell_type": "code",
   "execution_count": 4,
   "id": "measured-trick",
   "metadata": {},
   "outputs": [],
   "source": [
    "def correlation_plot(data, lags=40):\n",
    "    fig = plt.figure(figsize=(10, 8))\n",
    "    # 自己相関のコレログラム\n",
    "    ax1 = fig.add_subplot(2, 1, 1)\n",
    "    ax1.set_ylim(-1.1, 1.1)\n",
    "    fig = sm.graphics.tsa.plot_acf(data, lags=lags, ax=ax1)\n",
    "    # 偏自己相関のコレログラム\n",
    "    ax2 = fig.add_subplot(2, 1, 2)\n",
    "    ax2.set_ylim(-1.1, 1.1)    \n",
    "    fig = sm.graphics.tsa.plot_pacf(data, lags=lags, ax=ax2)\n",
    "    plt.show()"
   ]
  },
  {
   "cell_type": "code",
   "execution_count": 6,
   "id": "polyphonic-coordinator",
   "metadata": {},
   "outputs": [
    {
     "data": {
      "text/plain": [
       "Index(['Unnamed: 0', 'ffr', 'tbill', 'tb1yr', 'r5', 'r10', 'ppinsa',\n",
       "       'finished', 'cpi', 'cpicore', 'm1nsa', 'm2sa', 'm2nsa', 'unemp',\n",
       "       'indprod', 'rgpdp', 'potent', 'deflator', 'curr'],\n",
       "      dtype='object')"
      ]
     },
     "execution_count": 6,
     "metadata": {},
     "output_type": "execute_result"
    }
   ],
   "source": [
    "df.columns"
   ]
  },
  {
   "cell_type": "code",
   "execution_count": 10,
   "id": "hired-theater",
   "metadata": {},
   "outputs": [
    {
     "data": {
      "text/html": [
       "<div>\n",
       "<style scoped>\n",
       "    .dataframe tbody tr th:only-of-type {\n",
       "        vertical-align: middle;\n",
       "    }\n",
       "\n",
       "    .dataframe tbody tr th {\n",
       "        vertical-align: top;\n",
       "    }\n",
       "\n",
       "    .dataframe thead th {\n",
       "        text-align: right;\n",
       "    }\n",
       "</style>\n",
       "<table border=\"1\" class=\"dataframe\">\n",
       "  <thead>\n",
       "    <tr style=\"text-align: right;\">\n",
       "      <th></th>\n",
       "      <th>Unnamed: 0</th>\n",
       "      <th>ffr</th>\n",
       "      <th>tbill</th>\n",
       "      <th>tb1yr</th>\n",
       "      <th>r5</th>\n",
       "      <th>r10</th>\n",
       "      <th>ppinsa</th>\n",
       "      <th>finished</th>\n",
       "      <th>cpi</th>\n",
       "      <th>cpicore</th>\n",
       "      <th>m1nsa</th>\n",
       "      <th>m2sa</th>\n",
       "      <th>m2nsa</th>\n",
       "      <th>unemp</th>\n",
       "      <th>indprod</th>\n",
       "      <th>rgpdp</th>\n",
       "      <th>potent</th>\n",
       "      <th>deflator</th>\n",
       "      <th>curr</th>\n",
       "    </tr>\n",
       "  </thead>\n",
       "  <tbody>\n",
       "    <tr>\n",
       "      <th>0</th>\n",
       "      <td>1960Q1</td>\n",
       "      <td>3.93</td>\n",
       "      <td>3.87</td>\n",
       "      <td>4.57</td>\n",
       "      <td>4.64</td>\n",
       "      <td>4.49</td>\n",
       "      <td>31.67</td>\n",
       "      <td>33.20</td>\n",
       "      <td>29.40</td>\n",
       "      <td>18.92</td>\n",
       "      <td>140.53</td>\n",
       "      <td>896.1</td>\n",
       "      <td>299.40</td>\n",
       "      <td>5.13</td>\n",
       "      <td>23.93</td>\n",
       "      <td>2845.3</td>\n",
       "      <td>2824.2</td>\n",
       "      <td>18.521</td>\n",
       "      <td>31.8</td>\n",
       "    </tr>\n",
       "    <tr>\n",
       "      <th>1</th>\n",
       "      <td>1960Q2</td>\n",
       "      <td>3.70</td>\n",
       "      <td>2.99</td>\n",
       "      <td>3.87</td>\n",
       "      <td>4.30</td>\n",
       "      <td>4.26</td>\n",
       "      <td>31.73</td>\n",
       "      <td>33.40</td>\n",
       "      <td>29.57</td>\n",
       "      <td>19.00</td>\n",
       "      <td>138.40</td>\n",
       "      <td>903.3</td>\n",
       "      <td>300.03</td>\n",
       "      <td>5.23</td>\n",
       "      <td>23.41</td>\n",
       "      <td>2832.0</td>\n",
       "      <td>2851.2</td>\n",
       "      <td>18.579</td>\n",
       "      <td>31.9</td>\n",
       "    </tr>\n",
       "    <tr>\n",
       "      <th>2</th>\n",
       "      <td>1960Q3</td>\n",
       "      <td>2.94</td>\n",
       "      <td>2.36</td>\n",
       "      <td>3.07</td>\n",
       "      <td>3.67</td>\n",
       "      <td>3.83</td>\n",
       "      <td>31.63</td>\n",
       "      <td>33.43</td>\n",
       "      <td>29.59</td>\n",
       "      <td>19.07</td>\n",
       "      <td>139.60</td>\n",
       "      <td>919.4</td>\n",
       "      <td>305.50</td>\n",
       "      <td>5.53</td>\n",
       "      <td>23.02</td>\n",
       "      <td>2836.6</td>\n",
       "      <td>2878.7</td>\n",
       "      <td>18.648</td>\n",
       "      <td>32.2</td>\n",
       "    </tr>\n",
       "    <tr>\n",
       "      <th>3</th>\n",
       "      <td>1960Q4</td>\n",
       "      <td>2.30</td>\n",
       "      <td>2.31</td>\n",
       "      <td>2.99</td>\n",
       "      <td>3.75</td>\n",
       "      <td>3.89</td>\n",
       "      <td>31.70</td>\n",
       "      <td>33.67</td>\n",
       "      <td>29.78</td>\n",
       "      <td>19.14</td>\n",
       "      <td>142.67</td>\n",
       "      <td>932.8</td>\n",
       "      <td>312.30</td>\n",
       "      <td>6.27</td>\n",
       "      <td>22.47</td>\n",
       "      <td>2800.2</td>\n",
       "      <td>2906.7</td>\n",
       "      <td>18.700</td>\n",
       "      <td>32.6</td>\n",
       "    </tr>\n",
       "    <tr>\n",
       "      <th>4</th>\n",
       "      <td>1961Q1</td>\n",
       "      <td>2.00</td>\n",
       "      <td>2.35</td>\n",
       "      <td>2.87</td>\n",
       "      <td>3.64</td>\n",
       "      <td>3.79</td>\n",
       "      <td>31.80</td>\n",
       "      <td>33.63</td>\n",
       "      <td>29.84</td>\n",
       "      <td>19.17</td>\n",
       "      <td>142.23</td>\n",
       "      <td>948.9</td>\n",
       "      <td>317.10</td>\n",
       "      <td>6.80</td>\n",
       "      <td>22.13</td>\n",
       "      <td>2816.9</td>\n",
       "      <td>2934.8</td>\n",
       "      <td>18.743</td>\n",
       "      <td>32.1</td>\n",
       "    </tr>\n",
       "  </tbody>\n",
       "</table>\n",
       "</div>"
      ],
      "text/plain": [
       "  Unnamed: 0   ffr  tbill  tb1yr    r5   r10  ppinsa  finished    cpi  \\\n",
       "0     1960Q1  3.93   3.87   4.57  4.64  4.49   31.67     33.20  29.40   \n",
       "1     1960Q2  3.70   2.99   3.87  4.30  4.26   31.73     33.40  29.57   \n",
       "2     1960Q3  2.94   2.36   3.07  3.67  3.83   31.63     33.43  29.59   \n",
       "3     1960Q4  2.30   2.31   2.99  3.75  3.89   31.70     33.67  29.78   \n",
       "4     1961Q1  2.00   2.35   2.87  3.64  3.79   31.80     33.63  29.84   \n",
       "\n",
       "   cpicore   m1nsa   m2sa   m2nsa  unemp  indprod   rgpdp  potent  deflator  \\\n",
       "0    18.92  140.53  896.1  299.40   5.13    23.93  2845.3  2824.2    18.521   \n",
       "1    19.00  138.40  903.3  300.03   5.23    23.41  2832.0  2851.2    18.579   \n",
       "2    19.07  139.60  919.4  305.50   5.53    23.02  2836.6  2878.7    18.648   \n",
       "3    19.14  142.67  932.8  312.30   6.27    22.47  2800.2  2906.7    18.700   \n",
       "4    19.17  142.23  948.9  317.10   6.80    22.13  2816.9  2934.8    18.743   \n",
       "\n",
       "   curr  \n",
       "0  31.8  \n",
       "1  31.9  \n",
       "2  32.2  \n",
       "3  32.6  \n",
       "4  32.1  "
      ]
     },
     "execution_count": 10,
     "metadata": {},
     "output_type": "execute_result"
    }
   ],
   "source": [
    "df.head()"
   ]
  },
  {
   "cell_type": "code",
   "execution_count": 62,
   "id": "interim-sucking",
   "metadata": {},
   "outputs": [],
   "source": [
    "y = df['unemp'].dropna()"
   ]
  },
  {
   "cell_type": "code",
   "execution_count": 64,
   "id": "related-gazette",
   "metadata": {},
   "outputs": [
    {
     "data": {
      "text/plain": [
       "<AxesSubplot:>"
      ]
     },
     "execution_count": 64,
     "metadata": {},
     "output_type": "execute_result"
    },
    {
     "data": {
      "image/png": "[encoded data removed]",
      "text/plain": [
       "<Figure size 432x288 with 1 Axes>"
      ]
     },
     "metadata": {
      "needs_background": "light"
     },
     "output_type": "display_data"
    }
   ],
   "source": [
    "df['unemp'].plot()"
   ]
  },
  {
   "cell_type": "code",
   "execution_count": 63,
   "id": "agricultural-dispute",
   "metadata": {},
   "outputs": [
    {
     "data": {
      "image/png": "[encoded data removed]",
      "text/plain": [
       "<Figure size 720x576 with 2 Axes>"
      ]
     },
     "metadata": {
      "needs_background": "light"
     },
     "output_type": "display_data"
    }
   ],
   "source": [
    "correlation_plot(y)"
   ]
  },
  {
   "cell_type": "code",
   "execution_count": 66,
   "id": "understood-theta",
   "metadata": {},
   "outputs": [
    {
     "name": "stdout",
     "output_type": "stream",
     "text": [
      "---ctt---\n",
      "(-2.700307553666679, 0.4541294246242923, 9, 202, {'1%': -4.429415685178409, '5%': -3.8619465867159213, '10%': -3.5715142605753076}, 14.342734928674645)\n",
      "---ct---\n",
      "(-2.7107507139443627, 0.23164591715240807, 9, 202, {'1%': -4.004300299325148, '5%': -3.432451607287579, '10%': -3.139948906775787}, 12.582816292142525)\n",
      "---c---\n",
      "(-2.597747221312522, 0.09346376545524082, 9, 202, {'1%': -3.4631437906252636, '5%': -2.8759570379821047, '10%': -2.574454682874228}, 11.39043844213802)\n",
      "---nc---\n",
      "(0.05972477514940414, 0.7037905728736606, 12, 199, {'1%': -2.5770667644756444, '5%': -1.942430759336949, '10%': -1.615550641718986}, 13.888856100769772)\n"
     ]
    },
    {
     "data": {
      "image/png": "[encoded data removed]",
      "text/plain": [
       "<Figure size 432x288 with 1 Axes>"
      ]
     },
     "metadata": {
      "needs_background": "light"
     },
     "output_type": "display_data"
    }
   ],
   "source": [
    "# 単位根過程であるかを検定。単位根過程（＝非定常過程）だとARを適用できない。\n",
    "# p値が大きいと、単位根過程であることを棄却できない。すなわち、定常状態ではないと判断する。\n",
    "y.plot()\n",
    "regs = ['ctt', 'ct', 'c', 'nc'] # 2次のトレンド＋定数項、1次のトレンド＋定数項, トレンドなし＋定数項、トレンド・定数項なし\n",
    "for r in regs:\n",
    "    print(f'---{r}---')\n",
    "    print(sm.tsa.stattools.adfuller(y, regression=r))"
   ]
  },
  {
   "cell_type": "code",
   "execution_count": 67,
   "id": "helpful-spider",
   "metadata": {},
   "outputs": [
    {
     "data": {
      "text/plain": [
       "12"
      ]
     },
     "execution_count": 67,
     "metadata": {},
     "output_type": "execute_result"
    }
   ],
   "source": [
    "# 考えられるパラメータの組み合わせを全て作成\n",
    "max_p = 2 #AR(自己回帰過程)の次数：いくつ前までの数字を回帰させるか\n",
    "max_d = 1 #I（和分過程）の次数：原系列に対して何回差分を取るか\n",
    "max_q = 1 #MA（移動平均過程）の次数：いくつ前までのノイズを回帰させるか\n",
    "params = []\n",
    "\n",
    "for p in range(0, max_p + 1):\n",
    "    for d in range(0, max_d + 1): \n",
    "        for q in range(0, max_q + 1): \n",
    "            params.append([p,d,q])\n",
    "\n",
    "len(params)"
   ]
  },
  {
   "cell_type": "code",
   "execution_count": 68,
   "id": "joint-degree",
   "metadata": {},
   "outputs": [],
   "source": [
    "# MAPEを計算する自作関数を定義\n",
    "def calc_mape(true, pred):\n",
    "    \n",
    "    act = list(true)\n",
    "    preds = list(pred)\n",
    "    total = 0\n",
    "    for i in range(len(act)):\n",
    "        ape = np.abs((act[i] - preds[i])/act[i])\n",
    "        total += ape\n",
    "    mape = (total / len(act)) * 100\n",
    "    \n",
    "    return mape"
   ]
  },
  {
   "cell_type": "code",
   "execution_count": 69,
   "id": "democratic-while",
   "metadata": {
    "scrolled": true
   },
   "outputs": [
    {
     "name": "stderr",
     "output_type": "stream",
     "text": [
      "[Parallel(n_jobs=-1)]: Using backend LokyBackend with 4 concurrent workers.\n",
      "[Parallel(n_jobs=-1)]: Done   5 tasks      | elapsed:    3.2s\n",
      "[Parallel(n_jobs=-1)]: Done   7 out of  12 | elapsed:    3.3s remaining:    2.3s\n",
      "[Parallel(n_jobs=-1)]: Done   9 out of  12 | elapsed:    3.4s remaining:    1.1s\n",
      "[Parallel(n_jobs=-1)]: Done  12 out of  12 | elapsed:    3.5s finished\n"
     ]
    },
    {
     "data": {
      "text/html": [
       "<div>\n",
       "<style scoped>\n",
       "    .dataframe tbody tr th:only-of-type {\n",
       "        vertical-align: middle;\n",
       "    }\n",
       "\n",
       "    .dataframe tbody tr th {\n",
       "        vertical-align: top;\n",
       "    }\n",
       "\n",
       "    .dataframe thead th {\n",
       "        text-align: right;\n",
       "    }\n",
       "</style>\n",
       "<table border=\"1\" class=\"dataframe\">\n",
       "  <thead>\n",
       "    <tr style=\"text-align: right;\">\n",
       "      <th></th>\n",
       "      <th>params</th>\n",
       "      <th>aic</th>\n",
       "    </tr>\n",
       "  </thead>\n",
       "  <tbody>\n",
       "    <tr>\n",
       "      <th>0</th>\n",
       "      <td>[2, 1, 1]</td>\n",
       "      <td>23.837184</td>\n",
       "    </tr>\n",
       "    <tr>\n",
       "      <th>1</th>\n",
       "      <td>[1, 1, 0]</td>\n",
       "      <td>23.837793</td>\n",
       "    </tr>\n",
       "    <tr>\n",
       "      <th>2</th>\n",
       "      <td>[2, 1, 0]</td>\n",
       "      <td>24.885100</td>\n",
       "    </tr>\n",
       "    <tr>\n",
       "      <th>3</th>\n",
       "      <td>[1, 1, 1]</td>\n",
       "      <td>24.964485</td>\n",
       "    </tr>\n",
       "    <tr>\n",
       "      <th>4</th>\n",
       "      <td>[2, 0, 0]</td>\n",
       "      <td>25.376715</td>\n",
       "    </tr>\n",
       "    <tr>\n",
       "      <th>5</th>\n",
       "      <td>[2, 0, 1]</td>\n",
       "      <td>26.579965</td>\n",
       "    </tr>\n",
       "    <tr>\n",
       "      <th>6</th>\n",
       "      <td>[0, 1, 1]</td>\n",
       "      <td>52.283882</td>\n",
       "    </tr>\n",
       "    <tr>\n",
       "      <th>7</th>\n",
       "      <td>[1, 0, 1]</td>\n",
       "      <td>54.712751</td>\n",
       "    </tr>\n",
       "    <tr>\n",
       "      <th>8</th>\n",
       "      <td>[0, 1, 0]</td>\n",
       "      <td>142.958049</td>\n",
       "    </tr>\n",
       "    <tr>\n",
       "      <th>9</th>\n",
       "      <td>[1, 0, 0]</td>\n",
       "      <td>144.683188</td>\n",
       "    </tr>\n",
       "  </tbody>\n",
       "</table>\n",
       "</div>"
      ],
      "text/plain": [
       "      params         aic\n",
       "0  [2, 1, 1]   23.837184\n",
       "1  [1, 1, 0]   23.837793\n",
       "2  [2, 1, 0]   24.885100\n",
       "3  [1, 1, 1]   24.964485\n",
       "4  [2, 0, 0]   25.376715\n",
       "5  [2, 0, 1]   26.579965\n",
       "6  [0, 1, 1]   52.283882\n",
       "7  [1, 0, 1]   54.712751\n",
       "8  [0, 1, 0]  142.958049\n",
       "9  [1, 0, 0]  144.683188"
      ]
     },
     "execution_count": 69,
     "metadata": {},
     "output_type": "execute_result"
    }
   ],
   "source": [
    "# AIC計算用のメソッドを作成\n",
    "def aic_calculater(param):\n",
    "    aic = sm.tsa.statespace.SARIMAX(endog=y, trend=\"n\", order=(param[0], param[1], param[2]), \n",
    "                                enforce_invertibility = False, enforce_stationarity = False).fit().aic\n",
    "    return aic\n",
    " \n",
    "# 並列計算: n_jobs=-1とするとCPUコア数の数だけ並列化される\n",
    "import joblib\n",
    "aic_list = joblib.Parallel(n_jobs=-1, verbose=10)([joblib.delayed(aic_calculater)(param) for param in params])\n",
    " \n",
    "# AICが小さくなる順にのパラメータの組み合わせを並べ変え\n",
    "aic_df = pd.DataFrame({\"params\": params, \"aic\": aic_list})\n",
    "aic_df.sort_values(\"aic\", inplace=True)\n",
    "aic_df = aic_df.reset_index(drop=True)\n",
    "aic_df.head(10)\n"
   ]
  },
  {
   "cell_type": "code",
   "execution_count": 86,
   "id": "better-damages",
   "metadata": {},
   "outputs": [],
   "source": [
    "# AICが最小のパラメータを当てはめる\n",
    "param = [2,1,1]\n",
    "\n",
    "model = sm.tsa.statespace.SARIMAX(endog=y, trend=\"c\", order=(param[0], param[1], param[2]), \n",
    "                                enforce_invertibility = False, enforce_stationarity = False)\n",
    "results = model.fit()"
   ]
  },
  {
   "cell_type": "code",
   "execution_count": 87,
   "id": "authentic-electric",
   "metadata": {},
   "outputs": [
    {
     "data": {
      "text/html": [
       "<table class=\"simpletable\">\n",
       "<caption>SARIMAX Results</caption>\n",
       "<tr>\n",
       "  <th>Dep. Variable:</th>         <td>unemp</td>      <th>  No. Observations:  </th>   <td>212</td> \n",
       "</tr>\n",
       "<tr>\n",
       "  <th>Model:</th>           <td>SARIMAX(2, 1, 1)</td> <th>  Log Likelihood     </th> <td>-7.915</td>\n",
       "</tr>\n",
       "<tr>\n",
       "  <th>Date:</th>            <td>Sun, 11 Apr 2021</td> <th>  AIC                </th> <td>25.831</td>\n",
       "</tr>\n",
       "<tr>\n",
       "  <th>Time:</th>                <td>17:49:28</td>     <th>  BIC                </th> <td>42.543</td>\n",
       "</tr>\n",
       "<tr>\n",
       "  <th>Sample:</th>                  <td>0</td>        <th>  HQIC               </th> <td>32.588</td>\n",
       "</tr>\n",
       "<tr>\n",
       "  <th></th>                      <td> - 212</td>      <th>                     </th>    <td> </td>  \n",
       "</tr>\n",
       "<tr>\n",
       "  <th>Covariance Type:</th>        <td>opg</td>       <th>                     </th>    <td> </td>  \n",
       "</tr>\n",
       "</table>\n",
       "<table class=\"simpletable\">\n",
       "<tr>\n",
       "      <td></td>         <th>coef</th>     <th>std err</th>      <th>z</th>      <th>P>|z|</th>  <th>[0.025</th>    <th>0.975]</th>  \n",
       "</tr>\n",
       "<tr>\n",
       "  <th>intercept</th> <td>    0.0006</td> <td>    0.009</td> <td>    0.061</td> <td> 0.951</td> <td>   -0.017</td> <td>    0.018</td>\n",
       "</tr>\n",
       "<tr>\n",
       "  <th>ar.L1</th>     <td>    1.3065</td> <td>    0.242</td> <td>    5.397</td> <td> 0.000</td> <td>    0.832</td> <td>    1.781</td>\n",
       "</tr>\n",
       "<tr>\n",
       "  <th>ar.L2</th>     <td>   -0.4829</td> <td>    0.161</td> <td>   -2.997</td> <td> 0.003</td> <td>   -0.799</td> <td>   -0.167</td>\n",
       "</tr>\n",
       "<tr>\n",
       "  <th>ma.L1</th>     <td>   -0.5955</td> <td>    0.251</td> <td>   -2.375</td> <td> 0.018</td> <td>   -1.087</td> <td>   -0.104</td>\n",
       "</tr>\n",
       "<tr>\n",
       "  <th>sigma2</th>    <td>    0.0630</td> <td>    0.005</td> <td>   12.484</td> <td> 0.000</td> <td>    0.053</td> <td>    0.073</td>\n",
       "</tr>\n",
       "</table>\n",
       "<table class=\"simpletable\">\n",
       "<tr>\n",
       "  <th>Ljung-Box (L1) (Q):</th>     <td>0.12</td> <th>  Jarque-Bera (JB):  </th> <td>58.32</td>\n",
       "</tr>\n",
       "<tr>\n",
       "  <th>Prob(Q):</th>                <td>0.72</td> <th>  Prob(JB):          </th> <td>0.00</td> \n",
       "</tr>\n",
       "<tr>\n",
       "  <th>Heteroskedasticity (H):</th> <td>0.68</td> <th>  Skew:              </th> <td>0.69</td> \n",
       "</tr>\n",
       "<tr>\n",
       "  <th>Prob(H) (two-sided):</th>    <td>0.11</td> <th>  Kurtosis:          </th> <td>5.20</td> \n",
       "</tr>\n",
       "</table><br/><br/>Warnings:<br/>[1] Covariance matrix calculated using the outer product of gradients (complex-step)."
      ],
      "text/plain": [
       "<class 'statsmodels.iolib.summary.Summary'>\n",
       "\"\"\"\n",
       "                               SARIMAX Results                                \n",
       "==============================================================================\n",
       "Dep. Variable:                  unemp   No. Observations:                  212\n",
       "Model:               SARIMAX(2, 1, 1)   Log Likelihood                  -7.915\n",
       "Date:                Sun, 11 Apr 2021   AIC                             25.831\n",
       "Time:                        17:49:28   BIC                             42.543\n",
       "Sample:                             0   HQIC                            32.588\n",
       "                                - 212                                         \n",
       "Covariance Type:                  opg                                         \n",
       "==============================================================================\n",
       "                 coef    std err          z      P>|z|      [0.025      0.975]\n",
       "------------------------------------------------------------------------------\n",
       "intercept      0.0006      0.009      0.061      0.951      -0.017       0.018\n",
       "ar.L1          1.3065      0.242      5.397      0.000       0.832       1.781\n",
       "ar.L2         -0.4829      0.161     -2.997      0.003      -0.799      -0.167\n",
       "ma.L1         -0.5955      0.251     -2.375      0.018      -1.087      -0.104\n",
       "sigma2         0.0630      0.005     12.484      0.000       0.053       0.073\n",
       "===================================================================================\n",
       "Ljung-Box (L1) (Q):                   0.12   Jarque-Bera (JB):                58.32\n",
       "Prob(Q):                              0.72   Prob(JB):                         0.00\n",
       "Heteroskedasticity (H):               0.68   Skew:                             0.69\n",
       "Prob(H) (two-sided):                  0.11   Kurtosis:                         5.20\n",
       "===================================================================================\n",
       "\n",
       "Warnings:\n",
       "[1] Covariance matrix calculated using the outer product of gradients (complex-step).\n",
       "\"\"\""
      ]
     },
     "execution_count": 87,
     "metadata": {},
     "output_type": "execute_result"
    }
   ],
   "source": [
    "results.summary()"
   ]
  },
  {
   "cell_type": "code",
   "execution_count": 88,
   "id": "optimum-flooring",
   "metadata": {},
   "outputs": [],
   "source": [
    "y_pred = results.predict()"
   ]
  },
  {
   "cell_type": "code",
   "execution_count": 89,
   "id": "successful-bobby",
   "metadata": {},
   "outputs": [
    {
     "data": {
      "image/png": "[encoded data removed]",
      "text/plain": [
       "<Figure size 720x576 with 2 Axes>"
      ]
     },
     "metadata": {
      "needs_background": "light"
     },
     "output_type": "display_data"
    },
    {
     "name": "stdout",
     "output_type": "stream",
     "text": [
      "1 31.407358393436613 2.0918661192174406e-08\n",
      "2 32.17163059898189 1.0328070136829723e-07\n",
      "3 33.382568259590016 2.674466427674678e-07\n",
      "4 33.520234294093434 9.345863486714638e-07\n",
      "5 33.71255105243962 2.7162167552986298e-06\n",
      "6 33.739300403096955 7.553774732767332e-06\n",
      "7 33.741286001426396 1.925463615300642e-05\n",
      "8 35.44546157565785 2.2177077418783093e-05\n",
      "9 35.51352708422251 4.835083265032384e-05\n",
      "10 35.731012028854636 9.36205619062822e-05\n"
     ]
    },
    {
     "name": "stderr",
     "output_type": "stream",
     "text": [
      "/home/rnomura/.cache/pypoetry/virtualenvs/timeseries-KrZpyNEk-py3.8/lib/python3.8/site-packages/statsmodels/stats/diagnostic.py:559: FutureWarning: The value returned will change to a single DataFrame after 0.12 is released.  Set return_df to True to use to return a DataFrame now.  Set return_df to False to silence this warning.\n",
      "  warnings.warn(msg, FutureWarning)\n"
     ]
    }
   ],
   "source": [
    "diff_arr = y_pred - y\n",
    "correlation_plot(diff_arr)\n",
    "\n",
    "results = acorr_ljungbox(diff_arr, lags=10)\n",
    "lag = 1\n",
    "for lb, p in zip(results[0], results[1]):\n",
    "    print(lag, lb, p)\n",
    "    lag += 1"
   ]
  },
  {
   "cell_type": "code",
   "execution_count": null,
   "id": "boxed-edmonton",
   "metadata": {},
   "outputs": [],
   "source": []
  },
  {
   "cell_type": "code",
   "execution_count": null,
   "id": "brown-variety",
   "metadata": {},
   "outputs": [],
   "source": []
  }
 ],
 "metadata": {
  "kernelspec": {
   "display_name": "Python 3",
   "language": "python",
   "name": "python3"
  },
  "language_info": {
   "codemirror_mode": {
    "name": "ipython",
    "version": 3
   },
   "file_extension": ".py",
   "mimetype": "text/x-python",
   "name": "python",
   "nbconvert_exporter": "python",
   "pygments_lexer": "ipython3",
   "version": "3.8.7"
  }
 },
 "nbformat": 4,
 "nbformat_minor": 5
}
