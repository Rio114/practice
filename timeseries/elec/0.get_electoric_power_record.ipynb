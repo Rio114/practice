{
 "cells": [
  {
   "cell_type": "code",
   "execution_count": 1,
   "id": "prescription-possession",
   "metadata": {},
   "outputs": [],
   "source": [
    "import requests\n",
    "import io\n",
    "import os\n",
    "\n",
    "import pandas as pd"
   ]
  },
  {
   "cell_type": "code",
   "execution_count": 2,
   "id": "grave-wayne",
   "metadata": {},
   "outputs": [],
   "source": [
    "# https://www.tepco.co.jp/forecast/html/download-j.html\n",
    "# https://www.tepco.co.jp/forecast/html/images/juyo-{year}.csv\n",
    "\n",
    "YEARS = [2016, 2017, 2018, 2019, 2020, 2021]\n",
    "\n",
    "# Colabではコメントアウトを外す。\n",
    "\n",
    "# from google.colab import drive\n",
    "# drive.mount('/content/drive')\n",
    "\n",
    "# GOOGLE_MY_DRIVE = \"/content/drive/MyDrive/JAPEX/code/input/\"\n",
    "\n",
    "\n",
    "INPUT_DIR = \"input/\"\n",
    "\n",
    "# INPUT_DIR = GOOGLE_MY_DRIVE"
   ]
  },
  {
   "cell_type": "code",
   "execution_count": 3,
   "id": "critical-claim",
   "metadata": {},
   "outputs": [],
   "source": [
    "os.makedirs(INPUT_DIR, exist_ok=True)"
   ]
  },
  {
   "cell_type": "code",
   "execution_count": 4,
   "id": "integral-fantasy",
   "metadata": {},
   "outputs": [],
   "source": [
    "# CSVに直接アクセスできる\n",
    "# 日本語のカラム名なのでshift-jisエンコードで読み込む\n",
    "# 1行目はヘッダー\n",
    "\n",
    "for y in YEARS:\n",
    "    url = f'https://www.tepco.co.jp/forecast/html/images/juyo-{y}.csv'\n",
    "    res = requests.get(url).content\n",
    "    df = pd.read_csv(io.StringIO(res.decode(\"shift-jis\")), header=1)\n",
    "    df.to_csv(INPUT_DIR + f\"juyo-{y}.csv\", index=False)"
   ]
  },
  {
   "cell_type": "code",
   "execution_count": 5,
   "id": "noble-niagara",
   "metadata": {},
   "outputs": [
    {
     "data": {
      "text/html": [
       "<div>\n",
       "<style scoped>\n",
       "    .dataframe tbody tr th:only-of-type {\n",
       "        vertical-align: middle;\n",
       "    }\n",
       "\n",
       "    .dataframe tbody tr th {\n",
       "        vertical-align: top;\n",
       "    }\n",
       "\n",
       "    .dataframe thead th {\n",
       "        text-align: right;\n",
       "    }\n",
       "</style>\n",
       "<table border=\"1\" class=\"dataframe\">\n",
       "  <thead>\n",
       "    <tr style=\"text-align: right;\">\n",
       "      <th></th>\n",
       "      <th>DATE</th>\n",
       "      <th>TIME</th>\n",
       "      <th>実績(万kW)</th>\n",
       "    </tr>\n",
       "  </thead>\n",
       "  <tbody>\n",
       "    <tr>\n",
       "      <th>0</th>\n",
       "      <td>2017/1/1</td>\n",
       "      <td>0:00</td>\n",
       "      <td>2783</td>\n",
       "    </tr>\n",
       "    <tr>\n",
       "      <th>1</th>\n",
       "      <td>2017/1/1</td>\n",
       "      <td>1:00</td>\n",
       "      <td>2634</td>\n",
       "    </tr>\n",
       "    <tr>\n",
       "      <th>2</th>\n",
       "      <td>2017/1/1</td>\n",
       "      <td>2:00</td>\n",
       "      <td>2520</td>\n",
       "    </tr>\n",
       "    <tr>\n",
       "      <th>3</th>\n",
       "      <td>2017/1/1</td>\n",
       "      <td>3:00</td>\n",
       "      <td>2438</td>\n",
       "    </tr>\n",
       "    <tr>\n",
       "      <th>4</th>\n",
       "      <td>2017/1/1</td>\n",
       "      <td>4:00</td>\n",
       "      <td>2389</td>\n",
       "    </tr>\n",
       "  </tbody>\n",
       "</table>\n",
       "</div>"
      ],
      "text/plain": [
       "       DATE  TIME  実績(万kW)\n",
       "0  2017/1/1  0:00     2783\n",
       "1  2017/1/1  1:00     2634\n",
       "2  2017/1/1  2:00     2520\n",
       "3  2017/1/1  3:00     2438\n",
       "4  2017/1/1  4:00     2389"
      ]
     },
     "execution_count": 5,
     "metadata": {},
     "output_type": "execute_result"
    }
   ],
   "source": [
    "y = YEARS[1]\n",
    "df = pd.read_csv(INPUT_DIR + f\"juyo-{y}.csv\")\n",
    "df.head()"
   ]
  },
  {
   "cell_type": "code",
   "execution_count": null,
   "id": "tribal-louisville",
   "metadata": {},
   "outputs": [],
   "source": []
  }
 ],
 "metadata": {
  "kernelspec": {
   "display_name": "Python 3",
   "language": "python",
   "name": "python3"
  },
  "language_info": {
   "codemirror_mode": {
    "name": "ipython",
    "version": 3
   },
   "file_extension": ".py",
   "mimetype": "text/x-python",
   "name": "python",
   "nbconvert_exporter": "python",
   "pygments_lexer": "ipython3",
   "version": "3.8.7"
  }
 },
 "nbformat": 4,
 "nbformat_minor": 5
}
