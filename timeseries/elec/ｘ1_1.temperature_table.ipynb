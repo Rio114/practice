{
 "cells": [
  {
   "cell_type": "code",
   "execution_count": 1,
   "id": "prescription-possession",
   "metadata": {},
   "outputs": [],
   "source": [
    "import pandas as pd\n",
    "import matplotlib.pyplot as plt"
   ]
  },
  {
   "cell_type": "code",
   "execution_count": 2,
   "id": "grave-wayne",
   "metadata": {},
   "outputs": [],
   "source": [
    "INPUT_DIR = \"input/\""
   ]
  },
  {
   "cell_type": "code",
   "execution_count": 3,
   "id": "arbitrary-lingerie",
   "metadata": {},
   "outputs": [
    {
     "data": {
      "text/html": [
       "<div>\n",
       "<style scoped>\n",
       "    .dataframe tbody tr th:only-of-type {\n",
       "        vertical-align: middle;\n",
       "    }\n",
       "\n",
       "    .dataframe tbody tr th {\n",
       "        vertical-align: top;\n",
       "    }\n",
       "\n",
       "    .dataframe thead th {\n",
       "        text-align: right;\n",
       "    }\n",
       "</style>\n",
       "<table border=\"1\" class=\"dataframe\">\n",
       "  <thead>\n",
       "    <tr style=\"text-align: right;\">\n",
       "      <th></th>\n",
       "      <th>date</th>\n",
       "      <th>temperature</th>\n",
       "      <th>品質情報</th>\n",
       "      <th>均質番号</th>\n",
       "    </tr>\n",
       "  </thead>\n",
       "  <tbody>\n",
       "    <tr>\n",
       "      <th>0</th>\n",
       "      <td>2016/4/1</td>\n",
       "      <td>12.8</td>\n",
       "      <td>8</td>\n",
       "      <td>1</td>\n",
       "    </tr>\n",
       "    <tr>\n",
       "      <th>1</th>\n",
       "      <td>2016/4/2</td>\n",
       "      <td>10.5</td>\n",
       "      <td>8</td>\n",
       "      <td>1</td>\n",
       "    </tr>\n",
       "    <tr>\n",
       "      <th>2</th>\n",
       "      <td>2016/4/3</td>\n",
       "      <td>13.1</td>\n",
       "      <td>8</td>\n",
       "      <td>1</td>\n",
       "    </tr>\n",
       "    <tr>\n",
       "      <th>3</th>\n",
       "      <td>2016/4/4</td>\n",
       "      <td>15.6</td>\n",
       "      <td>8</td>\n",
       "      <td>1</td>\n",
       "    </tr>\n",
       "    <tr>\n",
       "      <th>4</th>\n",
       "      <td>2016/4/5</td>\n",
       "      <td>10.8</td>\n",
       "      <td>8</td>\n",
       "      <td>1</td>\n",
       "    </tr>\n",
       "  </tbody>\n",
       "</table>\n",
       "</div>"
      ],
      "text/plain": [
       "       date  temperature  品質情報  均質番号\n",
       "0  2016/4/1         12.8     8     1\n",
       "1  2016/4/2         10.5     8     1\n",
       "2  2016/4/3         13.1     8     1\n",
       "3  2016/4/4         15.6     8     1\n",
       "4  2016/4/5         10.8     8     1"
      ]
     },
     "execution_count": 3,
     "metadata": {},
     "output_type": "execute_result"
    }
   ],
   "source": [
    "# ref: https://www.data.jma.go.jp/gmd/risk/obsdl/index.php\n",
    "\n",
    "df = pd.read_csv(INPUT_DIR + 'temp.csv', header=3, encoding=\"shift-jis\")\n",
    "df = df.rename(columns={\"Unnamed: 0\":\"date\", \"Unnamed: 1\":\"temperature\"})\n",
    "df.head()"
   ]
  },
  {
   "cell_type": "code",
   "execution_count": 4,
   "id": "limited-jason",
   "metadata": {},
   "outputs": [
    {
     "name": "stdout",
     "output_type": "stream",
     "text": [
      "<class 'pandas.core.frame.DataFrame'>\n",
      "RangeIndex: 1796 entries, 0 to 1795\n",
      "Data columns (total 4 columns):\n",
      " #   Column       Non-Null Count  Dtype  \n",
      "---  ------       --------------  -----  \n",
      " 0   date         1796 non-null   object \n",
      " 1   temperature  1796 non-null   float64\n",
      " 2   品質情報         1796 non-null   int64  \n",
      " 3   均質番号         1796 non-null   int64  \n",
      "dtypes: float64(1), int64(2), object(1)\n",
      "memory usage: 56.2+ KB\n"
     ]
    }
   ],
   "source": [
    "#欠損無し\n",
    "df.info()"
   ]
  },
  {
   "cell_type": "code",
   "execution_count": 5,
   "id": "departmental-completion",
   "metadata": {},
   "outputs": [
    {
     "data": {
      "text/html": [
       "<div>\n",
       "<style scoped>\n",
       "    .dataframe tbody tr th:only-of-type {\n",
       "        vertical-align: middle;\n",
       "    }\n",
       "\n",
       "    .dataframe tbody tr th {\n",
       "        vertical-align: top;\n",
       "    }\n",
       "\n",
       "    .dataframe thead th {\n",
       "        text-align: right;\n",
       "    }\n",
       "</style>\n",
       "<table border=\"1\" class=\"dataframe\">\n",
       "  <thead>\n",
       "    <tr style=\"text-align: right;\">\n",
       "      <th></th>\n",
       "      <th>temperature</th>\n",
       "      <th>品質情報</th>\n",
       "      <th>均質番号</th>\n",
       "    </tr>\n",
       "  </thead>\n",
       "  <tbody>\n",
       "    <tr>\n",
       "      <th>count</th>\n",
       "      <td>1796.000000</td>\n",
       "      <td>1796.000000</td>\n",
       "      <td>1796.0</td>\n",
       "    </tr>\n",
       "    <tr>\n",
       "      <th>mean</th>\n",
       "      <td>16.565535</td>\n",
       "      <td>7.994989</td>\n",
       "      <td>1.0</td>\n",
       "    </tr>\n",
       "    <tr>\n",
       "      <th>std</th>\n",
       "      <td>7.868848</td>\n",
       "      <td>0.122542</td>\n",
       "      <td>0.0</td>\n",
       "    </tr>\n",
       "    <tr>\n",
       "      <th>min</th>\n",
       "      <td>0.000000</td>\n",
       "      <td>5.000000</td>\n",
       "      <td>1.0</td>\n",
       "    </tr>\n",
       "    <tr>\n",
       "      <th>25%</th>\n",
       "      <td>9.300000</td>\n",
       "      <td>8.000000</td>\n",
       "      <td>1.0</td>\n",
       "    </tr>\n",
       "    <tr>\n",
       "      <th>50%</th>\n",
       "      <td>16.850000</td>\n",
       "      <td>8.000000</td>\n",
       "      <td>1.0</td>\n",
       "    </tr>\n",
       "    <tr>\n",
       "      <th>75%</th>\n",
       "      <td>23.025000</td>\n",
       "      <td>8.000000</td>\n",
       "      <td>1.0</td>\n",
       "    </tr>\n",
       "    <tr>\n",
       "      <th>max</th>\n",
       "      <td>32.200000</td>\n",
       "      <td>8.000000</td>\n",
       "      <td>1.0</td>\n",
       "    </tr>\n",
       "  </tbody>\n",
       "</table>\n",
       "</div>"
      ],
      "text/plain": [
       "       temperature         品質情報    均質番号\n",
       "count  1796.000000  1796.000000  1796.0\n",
       "mean     16.565535     7.994989     1.0\n",
       "std       7.868848     0.122542     0.0\n",
       "min       0.000000     5.000000     1.0\n",
       "25%       9.300000     8.000000     1.0\n",
       "50%      16.850000     8.000000     1.0\n",
       "75%      23.025000     8.000000     1.0\n",
       "max      32.200000     8.000000     1.0"
      ]
     },
     "execution_count": 5,
     "metadata": {},
     "output_type": "execute_result"
    }
   ],
   "source": [
    "df.describe()"
   ]
  },
  {
   "cell_type": "code",
   "execution_count": 6,
   "id": "noble-niagara",
   "metadata": {},
   "outputs": [],
   "source": [
    "df = df.drop(df.columns[[2,3]], axis=1) # 品質情報や均質番号は一旦無視\n",
    "df['date'] = pd.to_datetime(df['date'])"
   ]
  },
  {
   "cell_type": "code",
   "execution_count": 7,
   "id": "fourth-hudson",
   "metadata": {},
   "outputs": [
    {
     "data": {
      "text/plain": [
       "Text(0, 0.5, 'degC')"
      ]
     },
     "execution_count": 7,
     "metadata": {},
     "output_type": "execute_result"
    },
    {
     "data": {
      "image/png": "[encoded data removed]",
      "text/plain": [
       "<Figure size 432x288 with 1 Axes>"
      ]
     },
     "metadata": {
      "needs_background": "light"
     },
     "output_type": "display_data"
    }
   ],
   "source": [
    "plt.title('temperature (TOKYO)')\n",
    "df.set_index('date')['temperature'].plot()\n",
    "plt.ylabel('degC')"
   ]
  },
  {
   "cell_type": "code",
   "execution_count": 8,
   "id": "above-tiffany",
   "metadata": {},
   "outputs": [
    {
     "data": {
      "text/html": [
       "<div>\n",
       "<style scoped>\n",
       "    .dataframe tbody tr th:only-of-type {\n",
       "        vertical-align: middle;\n",
       "    }\n",
       "\n",
       "    .dataframe tbody tr th {\n",
       "        vertical-align: top;\n",
       "    }\n",
       "\n",
       "    .dataframe thead th {\n",
       "        text-align: right;\n",
       "    }\n",
       "</style>\n",
       "<table border=\"1\" class=\"dataframe\">\n",
       "  <thead>\n",
       "    <tr style=\"text-align: right;\">\n",
       "      <th></th>\n",
       "      <th>temperature</th>\n",
       "      <th>temperature_std</th>\n",
       "    </tr>\n",
       "    <tr>\n",
       "      <th>date</th>\n",
       "      <th></th>\n",
       "      <th></th>\n",
       "    </tr>\n",
       "  </thead>\n",
       "  <tbody>\n",
       "    <tr>\n",
       "      <th>2016-04-04</th>\n",
       "      <td>15.028571</td>\n",
       "      <td>2.238090</td>\n",
       "    </tr>\n",
       "    <tr>\n",
       "      <th>2016-04-11</th>\n",
       "      <td>14.685714</td>\n",
       "      <td>2.928269</td>\n",
       "    </tr>\n",
       "    <tr>\n",
       "      <th>2016-04-18</th>\n",
       "      <td>16.771429</td>\n",
       "      <td>1.362246</td>\n",
       "    </tr>\n",
       "    <tr>\n",
       "      <th>2016-04-25</th>\n",
       "      <td>17.114286</td>\n",
       "      <td>1.722816</td>\n",
       "    </tr>\n",
       "    <tr>\n",
       "      <th>2016-05-02</th>\n",
       "      <td>20.371429</td>\n",
       "      <td>1.893598</td>\n",
       "    </tr>\n",
       "  </tbody>\n",
       "</table>\n",
       "</div>"
      ],
      "text/plain": [
       "            temperature  temperature_std\n",
       "date                                    \n",
       "2016-04-04    15.028571         2.238090\n",
       "2016-04-11    14.685714         2.928269\n",
       "2016-04-18    16.771429         1.362246\n",
       "2016-04-25    17.114286         1.722816\n",
       "2016-05-02    20.371429         1.893598"
      ]
     },
     "execution_count": 8,
     "metadata": {},
     "output_type": "execute_result"
    }
   ],
   "source": [
    "df_week_temp = df.copy().reset_index(drop=False)\n",
    "df_week_temp['year'] = df_week_temp['date'].dt.isocalendar().year\n",
    "df_week_temp['week'] = df_week_temp['date'].dt.isocalendar().week #週番号（1~53）の取得\n",
    "\n",
    "grp = df_week_temp.groupby(['year', 'week'])\n",
    "\n",
    "se_week = grp.mean()['temperature']\n",
    "df_week = pd.DataFrame(se_week)\n",
    "df_week['temperature_std'] = grp.std()['temperature']\n",
    "df_week['date'] = grp.min()['date'] # 週の最初の日をインデックスにする。\n",
    "df_week = df_week.set_index('date')\n",
    "df_week = df_week.drop(df_week.index[[0, -1]]) #半端な週を除く\n",
    "df_week.head()"
   ]
  },
  {
   "cell_type": "code",
   "execution_count": 9,
   "id": "spanish-arctic",
   "metadata": {},
   "outputs": [
    {
     "data": {
      "text/html": [
       "<div>\n",
       "<style scoped>\n",
       "    .dataframe tbody tr th:only-of-type {\n",
       "        vertical-align: middle;\n",
       "    }\n",
       "\n",
       "    .dataframe tbody tr th {\n",
       "        vertical-align: top;\n",
       "    }\n",
       "\n",
       "    .dataframe thead th {\n",
       "        text-align: right;\n",
       "    }\n",
       "</style>\n",
       "<table border=\"1\" class=\"dataframe\">\n",
       "  <thead>\n",
       "    <tr style=\"text-align: right;\">\n",
       "      <th></th>\n",
       "      <th>temperature</th>\n",
       "      <th>temperature_std</th>\n",
       "    </tr>\n",
       "    <tr>\n",
       "      <th>date</th>\n",
       "      <th></th>\n",
       "      <th></th>\n",
       "    </tr>\n",
       "  </thead>\n",
       "  <tbody>\n",
       "    <tr>\n",
       "      <th>2016-04-01</th>\n",
       "      <td>15.446667</td>\n",
       "      <td>2.469641</td>\n",
       "    </tr>\n",
       "    <tr>\n",
       "      <th>2016-05-01</th>\n",
       "      <td>20.161290</td>\n",
       "      <td>1.905374</td>\n",
       "    </tr>\n",
       "    <tr>\n",
       "      <th>2016-06-01</th>\n",
       "      <td>22.353333</td>\n",
       "      <td>2.003399</td>\n",
       "    </tr>\n",
       "    <tr>\n",
       "      <th>2016-07-01</th>\n",
       "      <td>25.374194</td>\n",
       "      <td>2.224555</td>\n",
       "    </tr>\n",
       "    <tr>\n",
       "      <th>2016-08-01</th>\n",
       "      <td>27.116129</td>\n",
       "      <td>1.703153</td>\n",
       "    </tr>\n",
       "  </tbody>\n",
       "</table>\n",
       "</div>"
      ],
      "text/plain": [
       "            temperature  temperature_std\n",
       "date                                    \n",
       "2016-04-01    15.446667         2.469641\n",
       "2016-05-01    20.161290         1.905374\n",
       "2016-06-01    22.353333         2.003399\n",
       "2016-07-01    25.374194         2.224555\n",
       "2016-08-01    27.116129         1.703153"
      ]
     },
     "execution_count": 9,
     "metadata": {},
     "output_type": "execute_result"
    }
   ],
   "source": [
    "df_month_temp = df.copy().reset_index(drop=False)\n",
    "df_month_temp['year'] = df_month_temp['date'].dt.year\n",
    "df_month_temp['month'] = df_month_temp['date'].dt.month #月の取得\n",
    "\n",
    "grp = df_month_temp.groupby(['year', 'month'])\n",
    "\n",
    "se_month = grp.mean()['temperature']\n",
    "df_month = pd.DataFrame(se_month)\n",
    "df_month['temperature_std'] = grp.std()['temperature']\n",
    "df_month['date'] = grp.min()['date'] # 最初の日をインデックスにする。\n",
    "df_month = df_month.set_index('date')\n",
    "df_month.head()"
   ]
  },
  {
   "cell_type": "code",
   "execution_count": 10,
   "id": "streaming-grocery",
   "metadata": {},
   "outputs": [
    {
     "data": {
      "text/html": [
       "<div>\n",
       "<style scoped>\n",
       "    .dataframe tbody tr th:only-of-type {\n",
       "        vertical-align: middle;\n",
       "    }\n",
       "\n",
       "    .dataframe tbody tr th {\n",
       "        vertical-align: top;\n",
       "    }\n",
       "\n",
       "    .dataframe thead th {\n",
       "        text-align: right;\n",
       "    }\n",
       "</style>\n",
       "<table border=\"1\" class=\"dataframe\">\n",
       "  <thead>\n",
       "    <tr style=\"text-align: right;\">\n",
       "      <th></th>\n",
       "      <th>temperature</th>\n",
       "      <th>temperature_std</th>\n",
       "    </tr>\n",
       "    <tr>\n",
       "      <th>date</th>\n",
       "      <th></th>\n",
       "      <th></th>\n",
       "    </tr>\n",
       "  </thead>\n",
       "  <tbody>\n",
       "    <tr>\n",
       "      <th>2017-01-01</th>\n",
       "      <td>15.825266</td>\n",
       "      <td>7.886118</td>\n",
       "    </tr>\n",
       "    <tr>\n",
       "      <th>2018-01-01</th>\n",
       "      <td>16.770907</td>\n",
       "      <td>8.129271</td>\n",
       "    </tr>\n",
       "    <tr>\n",
       "      <th>2019-01-01</th>\n",
       "      <td>16.440164</td>\n",
       "      <td>7.661283</td>\n",
       "    </tr>\n",
       "    <tr>\n",
       "      <th>2020-01-01</th>\n",
       "      <td>16.529431</td>\n",
       "      <td>7.504154</td>\n",
       "    </tr>\n",
       "  </tbody>\n",
       "</table>\n",
       "</div>"
      ],
      "text/plain": [
       "            temperature  temperature_std\n",
       "date                                    \n",
       "2017-01-01    15.825266         7.886118\n",
       "2018-01-01    16.770907         8.129271\n",
       "2019-01-01    16.440164         7.661283\n",
       "2020-01-01    16.529431         7.504154"
      ]
     },
     "execution_count": 10,
     "metadata": {},
     "output_type": "execute_result"
    }
   ],
   "source": [
    "df_year_temp = df_month.copy().reset_index(drop=False)\n",
    "df_year_temp['year'] = df_year_temp['date'].dt.year\n",
    "\n",
    "grp = df_year_temp.groupby(['year'])\n",
    "\n",
    "se_year = grp.mean()['temperature']\n",
    "df_year = pd.DataFrame(se_year)\n",
    "df_year['temperature_std'] = grp.std()['temperature']\n",
    "df_year['date'] = grp.min()['date'] # 最初の日をインデックスにする。\n",
    "df_year = df_year.set_index('date')\n",
    "df_year = df_year.drop(df_year.index[[0, -1]]) #半端な年を除く\n",
    "df_year.head()"
   ]
  },
  {
   "cell_type": "code",
   "execution_count": 11,
   "id": "rational-actor",
   "metadata": {},
   "outputs": [],
   "source": [
    "df.to_csv(INPUT_DIR + 'daily_temperature.csv', index=True)\n",
    "df_week.to_csv(INPUT_DIR + 'weekly_temperature.csv', index=True)\n",
    "df_month.to_csv(INPUT_DIR + 'monthly_temperature.csv', index=True)\n",
    "df_year.to_csv(INPUT_DIR + 'yearly_temperature.csv', index=True)"
   ]
  },
  {
   "cell_type": "code",
   "execution_count": null,
   "id": "delayed-badge",
   "metadata": {},
   "outputs": [],
   "source": []
  }
 ],
 "metadata": {
  "kernelspec": {
   "display_name": "Python 3",
   "language": "python",
   "name": "python3"
  },
  "language_info": {
   "codemirror_mode": {
    "name": "ipython",
    "version": 3
   },
   "file_extension": ".py",
   "mimetype": "text/x-python",
   "name": "python",
   "nbconvert_exporter": "python",
   "pygments_lexer": "ipython3",
   "version": "3.8.7"
  }
 },
 "nbformat": 4,
 "nbformat_minor": 5
}
