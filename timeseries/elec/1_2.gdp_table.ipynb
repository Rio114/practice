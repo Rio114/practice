{
 "cells": [
  {
   "cell_type": "code",
   "execution_count": 1,
   "id": "prescription-possession",
   "metadata": {},
   "outputs": [],
   "source": [
    "import re\n",
    "import pandas as pd\n",
    "import matplotlib.pyplot as plt"
   ]
  },
  {
   "cell_type": "code",
   "execution_count": 2,
   "id": "grave-wayne",
   "metadata": {},
   "outputs": [],
   "source": [
    "INPUT_DIR = \"input/\""
   ]
  },
  {
   "cell_type": "code",
   "execution_count": 3,
   "id": "arbitrary-lingerie",
   "metadata": {
    "scrolled": true
   },
   "outputs": [
    {
     "data": {
      "text/html": [
       "<div>\n",
       "<style scoped>\n",
       "    .dataframe tbody tr th:only-of-type {\n",
       "        vertical-align: middle;\n",
       "    }\n",
       "\n",
       "    .dataframe tbody tr th {\n",
       "        vertical-align: top;\n",
       "    }\n",
       "\n",
       "    .dataframe thead th {\n",
       "        text-align: right;\n",
       "    }\n",
       "</style>\n",
       "<table border=\"1\" class=\"dataframe\">\n",
       "  <thead>\n",
       "    <tr style=\"text-align: right;\">\n",
       "      <th></th>\n",
       "      <th>quater</th>\n",
       "      <th>gdp</th>\n",
       "    </tr>\n",
       "  </thead>\n",
       "  <tbody>\n",
       "    <tr>\n",
       "      <th>1</th>\n",
       "      <td>1994/ 1- 3.</td>\n",
       "      <td>123,456.1</td>\n",
       "    </tr>\n",
       "    <tr>\n",
       "      <th>2</th>\n",
       "      <td>4- 6.</td>\n",
       "      <td>124,896.6</td>\n",
       "    </tr>\n",
       "    <tr>\n",
       "      <th>3</th>\n",
       "      <td>7- 9.</td>\n",
       "      <td>125,738.4</td>\n",
       "    </tr>\n",
       "    <tr>\n",
       "      <th>4</th>\n",
       "      <td>10-12.</td>\n",
       "      <td>136,825.0</td>\n",
       "    </tr>\n",
       "    <tr>\n",
       "      <th>5</th>\n",
       "      <td>1995/ 1- 3.</td>\n",
       "      <td>124,494.6</td>\n",
       "    </tr>\n",
       "  </tbody>\n",
       "</table>\n",
       "</div>"
      ],
      "text/plain": [
       "        quater         gdp\n",
       "1  1994/ 1- 3.  123,456.1 \n",
       "2        4- 6.  124,896.6 \n",
       "3        7- 9.  125,738.4 \n",
       "4       10-12.  136,825.0 \n",
       "5  1995/ 1- 3.  124,494.6 "
      ]
     },
     "execution_count": 3,
     "metadata": {},
     "output_type": "execute_result"
    }
   ],
   "source": [
    "# https://www.esri.cao.go.jp/jp/sna/data/data_list/sokuhou/files/files_sokuhou.html\n",
    "\n",
    "df = pd.read_csv(INPUT_DIR + 'gdp.csv', header=5, encoding=\"shift-jis\")\n",
    "df = df[['Unnamed: 0', 'GDP(Expenditure Approach)']]\\\n",
    "        .rename(columns={'Unnamed: 0':'quater', 'GDP(Expenditure Approach)':'gdp'})\\\n",
    "        .drop(df.index[[0, -1]])\n",
    "df.head()"
   ]
  },
  {
   "cell_type": "code",
   "execution_count": 4,
   "id": "right-publisher",
   "metadata": {},
   "outputs": [],
   "source": [
    "def convert_figure(string):\n",
    "    '''\n",
    "    文字列から小数に変換する\n",
    "    '''\n",
    "    pattern = \"\\,| \" #桁区切りのカンマ及び空白の除去\n",
    "    result = re.sub(pattern, '', string)\n",
    "    \n",
    "    pattern = \"\\.\" #小数点\n",
    "    result = re.sub(pattern, '.', result)\n",
    "    return float(result)"
   ]
  },
  {
   "cell_type": "code",
   "execution_count": 5,
   "id": "bigger-lincoln",
   "metadata": {},
   "outputs": [],
   "source": [
    "df.index = pd.date_range('1994-01-01', '2020-12-31', freq=\"QS\", name='date')\n",
    "df['gdp'] = df['gdp'].apply(convert_figure) / 100000 # 100兆円単位にする。\n",
    "df = df.reset_index(drop=False)"
   ]
  },
  {
   "cell_type": "code",
   "execution_count": 6,
   "id": "limited-jason",
   "metadata": {},
   "outputs": [],
   "source": [
    "# 日次テーブルにする。テーブルの結合のため同一四半期内では同じGDPが入る。\n",
    "df_daily = pd.DataFrame(index=pd.date_range('2016-04-01', '2020-12-31', name='date')).reset_index(drop=False)\n",
    "df_daily = pd.merge(df_daily, df[['date', 'gdp']], on='date', how='left').ffill()\n",
    "df_daily.to_csv(INPUT_DIR + 'daily_gdp.csv', index=True)"
   ]
  },
  {
   "cell_type": "code",
   "execution_count": 7,
   "id": "general-pound",
   "metadata": {},
   "outputs": [
    {
     "data": {
      "text/plain": [
       "Text(0, 0.5, 'GDP (100,000,000,000 JPY)')"
      ]
     },
     "execution_count": 7,
     "metadata": {},
     "output_type": "execute_result"
    },
    {
     "data": {
      "image/png": "[encoded data removed]",
      "text/plain": [
       "<Figure size 432x288 with 1 Axes>"
      ]
     },
     "metadata": {
      "needs_background": "light"
     },
     "output_type": "display_data"
    }
   ],
   "source": [
    "plt.title('Nominal GDP (JAPAN)')\n",
    "df_daily.set_index('date')['gdp'].plot()\n",
    "plt.ylabel('GDP (100,000,000,000 JPY)')"
   ]
  },
  {
   "cell_type": "code",
   "execution_count": 8,
   "id": "departmental-completion",
   "metadata": {},
   "outputs": [],
   "source": [
    "df_weekly = df_daily[df_daily['date'].dt.dayofweek == 0]\n",
    "df_weekly.to_csv(INPUT_DIR + 'weekly_gdp.csv', index=True)"
   ]
  },
  {
   "cell_type": "code",
   "execution_count": 9,
   "id": "tested-stuart",
   "metadata": {},
   "outputs": [
    {
     "data": {
      "text/plain": [
       "<AxesSubplot:xlabel='date'>"
      ]
     },
     "execution_count": 9,
     "metadata": {},
     "output_type": "execute_result"
    },
    {
     "data": {
      "image/png": "[encoded data removed]",
      "text/plain": [
       "<Figure size 432x288 with 1 Axes>"
      ]
     },
     "metadata": {
      "needs_background": "light"
     },
     "output_type": "display_data"
    }
   ],
   "source": [
    "df_weekly.set_index('date')['gdp'].plot()"
   ]
  },
  {
   "cell_type": "code",
   "execution_count": 10,
   "id": "intimate-gabriel",
   "metadata": {},
   "outputs": [
    {
     "data": {
      "text/html": [
       "<div>\n",
       "<style scoped>\n",
       "    .dataframe tbody tr th:only-of-type {\n",
       "        vertical-align: middle;\n",
       "    }\n",
       "\n",
       "    .dataframe tbody tr th {\n",
       "        vertical-align: top;\n",
       "    }\n",
       "\n",
       "    .dataframe thead th {\n",
       "        text-align: right;\n",
       "    }\n",
       "</style>\n",
       "<table border=\"1\" class=\"dataframe\">\n",
       "  <thead>\n",
       "    <tr style=\"text-align: right;\">\n",
       "      <th></th>\n",
       "      <th>date</th>\n",
       "      <th>gdp</th>\n",
       "    </tr>\n",
       "  </thead>\n",
       "  <tbody>\n",
       "    <tr>\n",
       "      <th>0</th>\n",
       "      <td>2016-04-01</td>\n",
       "      <td>1.342716</td>\n",
       "    </tr>\n",
       "    <tr>\n",
       "      <th>1</th>\n",
       "      <td>2016-04-02</td>\n",
       "      <td>1.342716</td>\n",
       "    </tr>\n",
       "    <tr>\n",
       "      <th>2</th>\n",
       "      <td>2016-04-03</td>\n",
       "      <td>1.342716</td>\n",
       "    </tr>\n",
       "    <tr>\n",
       "      <th>3</th>\n",
       "      <td>2016-04-04</td>\n",
       "      <td>1.342716</td>\n",
       "    </tr>\n",
       "    <tr>\n",
       "      <th>4</th>\n",
       "      <td>2016-04-05</td>\n",
       "      <td>1.342716</td>\n",
       "    </tr>\n",
       "  </tbody>\n",
       "</table>\n",
       "</div>"
      ],
      "text/plain": [
       "        date       gdp\n",
       "0 2016-04-01  1.342716\n",
       "1 2016-04-02  1.342716\n",
       "2 2016-04-03  1.342716\n",
       "3 2016-04-04  1.342716\n",
       "4 2016-04-05  1.342716"
      ]
     },
     "execution_count": 10,
     "metadata": {},
     "output_type": "execute_result"
    }
   ],
   "source": [
    "df_daily.head()"
   ]
  },
  {
   "cell_type": "code",
   "execution_count": null,
   "id": "recognized-spectacular",
   "metadata": {},
   "outputs": [],
   "source": []
  }
 ],
 "metadata": {
  "kernelspec": {
   "display_name": "Python 3",
   "language": "python",
   "name": "python3"
  },
  "language_info": {
   "codemirror_mode": {
    "name": "ipython",
    "version": 3
   },
   "file_extension": ".py",
   "mimetype": "text/x-python",
   "name": "python",
   "nbconvert_exporter": "python",
   "pygments_lexer": "ipython3",
   "version": "3.8.7"
  }
 },
 "nbformat": 4,
 "nbformat_minor": 5
}
