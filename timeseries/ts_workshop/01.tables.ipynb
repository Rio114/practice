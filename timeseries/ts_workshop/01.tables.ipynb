{
 "cells": [
  {
   "cell_type": "markdown",
   "id": "quiet-recall",
   "metadata": {},
   "source": [
    "# データの前処理\n",
    "\n",
    "ヘッダーや日本語カラムの処理、不要カラムの削除など\n",
    "\n",
    "実行前に`gdp.csv`や`temp.csv`は`INPUT_DIR`の示すフォルダに保存しておく必要がある。"
   ]
  },
  {
   "cell_type": "markdown",
   "id": "unsigned-webcam",
   "metadata": {},
   "source": [
    "# 電力データ"
   ]
  },
  {
   "cell_type": "code",
   "execution_count": 1,
   "id": "occasional-decade",
   "metadata": {},
   "outputs": [],
   "source": [
    "import requests\n",
    "import io\n",
    "import datetime\n",
    "\n",
    "import pandas as pd\n",
    "import matplotlib.pylab as plt"
   ]
  },
  {
   "cell_type": "code",
   "execution_count": 2,
   "id": "cognitive-strain",
   "metadata": {},
   "outputs": [],
   "source": [
    "# https://www.tepco.co.jp/forecast/html/download-j.html\n",
    "# https://www.tepco.co.jp/forecast/html/images/juyo-{year}.csv\n",
    "\n",
    "YEARS = [2016, 2017, 2018, 2019, 2020, 2021]\n",
    "\n",
    "# Colabではコメントアウトを外す。\n",
    "\n",
    "# from google.colab import drive\n",
    "# drive.mount('/content/drive')\n",
    "\n",
    "# GOOGLE_MY_DRIVE = \"/content/drive/MyDrive/code/input/\"\n",
    "\n",
    "\n",
    "INPUT_DIR = \"input/\"\n",
    "\n",
    "# INPUT_DIR = GOOGLE_MY_DRIVE"
   ]
  },
  {
   "cell_type": "code",
   "execution_count": 3,
   "id": "educational-hartford",
   "metadata": {},
   "outputs": [],
   "source": [
    "df_list = [pd.read_csv(INPUT_DIR + f\"juyo-{y}.csv\") for y in YEARS]\n",
    "df = pd.concat(df_list)"
   ]
  },
  {
   "cell_type": "code",
   "execution_count": 4,
   "id": "protective-gates",
   "metadata": {},
   "outputs": [
    {
     "data": {
      "text/html": [
       "<div>\n",
       "<style scoped>\n",
       "    .dataframe tbody tr th:only-of-type {\n",
       "        vertical-align: middle;\n",
       "    }\n",
       "\n",
       "    .dataframe tbody tr th {\n",
       "        vertical-align: top;\n",
       "    }\n",
       "\n",
       "    .dataframe thead th {\n",
       "        text-align: right;\n",
       "    }\n",
       "</style>\n",
       "<table border=\"1\" class=\"dataframe\">\n",
       "  <thead>\n",
       "    <tr style=\"text-align: right;\">\n",
       "      <th></th>\n",
       "      <th>実績(万kW)</th>\n",
       "    </tr>\n",
       "  </thead>\n",
       "  <tbody>\n",
       "    <tr>\n",
       "      <th>count</th>\n",
       "      <td>43632.000000</td>\n",
       "    </tr>\n",
       "    <tr>\n",
       "      <th>mean</th>\n",
       "      <td>3249.712321</td>\n",
       "    </tr>\n",
       "    <tr>\n",
       "      <th>std</th>\n",
       "      <td>651.745081</td>\n",
       "    </tr>\n",
       "    <tr>\n",
       "      <th>min</th>\n",
       "      <td>1877.000000</td>\n",
       "    </tr>\n",
       "    <tr>\n",
       "      <th>25%</th>\n",
       "      <td>2734.000000</td>\n",
       "    </tr>\n",
       "    <tr>\n",
       "      <th>50%</th>\n",
       "      <td>3204.000000</td>\n",
       "    </tr>\n",
       "    <tr>\n",
       "      <th>75%</th>\n",
       "      <td>3670.000000</td>\n",
       "    </tr>\n",
       "    <tr>\n",
       "      <th>max</th>\n",
       "      <td>5653.000000</td>\n",
       "    </tr>\n",
       "  </tbody>\n",
       "</table>\n",
       "</div>"
      ],
      "text/plain": [
       "            実績(万kW)\n",
       "count  43632.000000\n",
       "mean    3249.712321\n",
       "std      651.745081\n",
       "min     1877.000000\n",
       "25%     2734.000000\n",
       "50%     3204.000000\n",
       "75%     3670.000000\n",
       "max     5653.000000"
      ]
     },
     "execution_count": 4,
     "metadata": {},
     "output_type": "execute_result"
    }
   ],
   "source": [
    "df.describe()"
   ]
  },
  {
   "cell_type": "code",
   "execution_count": 5,
   "id": "worldwide-complexity",
   "metadata": {},
   "outputs": [
    {
     "name": "stdout",
     "output_type": "stream",
     "text": [
      "<class 'pandas.core.frame.DataFrame'>\n",
      "Int64Index: 43632 entries, 0 to 1967\n",
      "Data columns (total 3 columns):\n",
      " #   Column   Non-Null Count  Dtype \n",
      "---  ------   --------------  ----- \n",
      " 0   DATE     43632 non-null  object\n",
      " 1   TIME     43632 non-null  object\n",
      " 2   実績(万kW)  43632 non-null  int64 \n",
      "dtypes: int64(1), object(2)\n",
      "memory usage: 1.3+ MB\n"
     ]
    }
   ],
   "source": [
    "# Null(欠損値)は無い\n",
    "df.info()"
   ]
  },
  {
   "cell_type": "code",
   "execution_count": 6,
   "id": "young-louisville",
   "metadata": {},
   "outputs": [],
   "source": [
    "df[\"datetime\"] = pd.to_datetime(df[\"DATE\"] + \" \" + df[\"TIME\"]) # Datetime型にしておくと処理が楽\n",
    "df['date'] = pd.to_datetime(df['DATE'])\n",
    "df[\"power\"] = df[\"実績(万kW)\"] / 100  # GW unit, カラム名は英語にする\n",
    "df = df.set_index(\"datetime\")"
   ]
  },
  {
   "cell_type": "code",
   "execution_count": 7,
   "id": "communist-belle",
   "metadata": {},
   "outputs": [
    {
     "data": {
      "text/html": [
       "<div>\n",
       "<style scoped>\n",
       "    .dataframe tbody tr th:only-of-type {\n",
       "        vertical-align: middle;\n",
       "    }\n",
       "\n",
       "    .dataframe tbody tr th {\n",
       "        vertical-align: top;\n",
       "    }\n",
       "\n",
       "    .dataframe thead th {\n",
       "        text-align: right;\n",
       "    }\n",
       "</style>\n",
       "<table border=\"1\" class=\"dataframe\">\n",
       "  <thead>\n",
       "    <tr style=\"text-align: right;\">\n",
       "      <th></th>\n",
       "      <th>power</th>\n",
       "      <th>power_std</th>\n",
       "    </tr>\n",
       "    <tr>\n",
       "      <th>date</th>\n",
       "      <th></th>\n",
       "      <th></th>\n",
       "    </tr>\n",
       "  </thead>\n",
       "  <tbody>\n",
       "    <tr>\n",
       "      <th>2016-04-01</th>\n",
       "      <td>29.844167</td>\n",
       "      <td>3.890796</td>\n",
       "    </tr>\n",
       "    <tr>\n",
       "      <th>2016-04-02</th>\n",
       "      <td>29.074167</td>\n",
       "      <td>3.279035</td>\n",
       "    </tr>\n",
       "    <tr>\n",
       "      <th>2016-04-03</th>\n",
       "      <td>26.582500</td>\n",
       "      <td>2.745138</td>\n",
       "    </tr>\n",
       "    <tr>\n",
       "      <th>2016-04-04</th>\n",
       "      <td>29.562083</td>\n",
       "      <td>4.809870</td>\n",
       "    </tr>\n",
       "    <tr>\n",
       "      <th>2016-04-05</th>\n",
       "      <td>31.905000</td>\n",
       "      <td>5.068970</td>\n",
       "    </tr>\n",
       "  </tbody>\n",
       "</table>\n",
       "</div>"
      ],
      "text/plain": [
       "                power  power_std\n",
       "date                            \n",
       "2016-04-01  29.844167   3.890796\n",
       "2016-04-02  29.074167   3.279035\n",
       "2016-04-03  26.582500   2.745138\n",
       "2016-04-04  29.562083   4.809870\n",
       "2016-04-05  31.905000   5.068970"
      ]
     },
     "execution_count": 7,
     "metadata": {},
     "output_type": "execute_result"
    }
   ],
   "source": [
    "#同じ日付のデータ（時刻が異なる）で集めて平均・標準偏差を取る\n",
    "se_day = df.groupby('date').mean()['power']\n",
    "df_day = pd.DataFrame(se_day)\n",
    "df_day['power_std'] = df.groupby('date').std()['power'] \n",
    "df_day.head()"
   ]
  },
  {
   "cell_type": "code",
   "execution_count": 8,
   "id": "supported-explorer",
   "metadata": {},
   "outputs": [
    {
     "data": {
      "text/html": [
       "<div>\n",
       "<style scoped>\n",
       "    .dataframe tbody tr th:only-of-type {\n",
       "        vertical-align: middle;\n",
       "    }\n",
       "\n",
       "    .dataframe tbody tr th {\n",
       "        vertical-align: top;\n",
       "    }\n",
       "\n",
       "    .dataframe thead th {\n",
       "        text-align: right;\n",
       "    }\n",
       "</style>\n",
       "<table border=\"1\" class=\"dataframe\">\n",
       "  <thead>\n",
       "    <tr style=\"text-align: right;\">\n",
       "      <th></th>\n",
       "      <th>power</th>\n",
       "      <th>power_std</th>\n",
       "    </tr>\n",
       "    <tr>\n",
       "      <th>date</th>\n",
       "      <th></th>\n",
       "      <th></th>\n",
       "    </tr>\n",
       "  </thead>\n",
       "  <tbody>\n",
       "    <tr>\n",
       "      <th>2016-04-04</th>\n",
       "      <td>29.249286</td>\n",
       "      <td>2.442016</td>\n",
       "    </tr>\n",
       "    <tr>\n",
       "      <th>2016-04-11</th>\n",
       "      <td>29.392024</td>\n",
       "      <td>2.068137</td>\n",
       "    </tr>\n",
       "    <tr>\n",
       "      <th>2016-04-18</th>\n",
       "      <td>28.636488</td>\n",
       "      <td>1.573074</td>\n",
       "    </tr>\n",
       "    <tr>\n",
       "      <th>2016-04-25</th>\n",
       "      <td>28.005298</td>\n",
       "      <td>2.433128</td>\n",
       "    </tr>\n",
       "    <tr>\n",
       "      <th>2016-05-02</th>\n",
       "      <td>25.686905</td>\n",
       "      <td>1.276991</td>\n",
       "    </tr>\n",
       "  </tbody>\n",
       "</table>\n",
       "</div>"
      ],
      "text/plain": [
       "                power  power_std\n",
       "date                            \n",
       "2016-04-04  29.249286   2.442016\n",
       "2016-04-11  29.392024   2.068137\n",
       "2016-04-18  28.636488   1.573074\n",
       "2016-04-25  28.005298   2.433128\n",
       "2016-05-02  25.686905   1.276991"
      ]
     },
     "execution_count": 8,
     "metadata": {},
     "output_type": "execute_result"
    }
   ],
   "source": [
    "# 週単位で平均・標準偏差を算出。時刻単位のデータではなく、日付単位のデータで集計する。平均気温などの算出方法に倣う。\n",
    "df_week_temp = df_day.copy().reset_index(drop=False)\n",
    "df_week_temp['year'] = df_week_temp['date'].dt.isocalendar().year\n",
    "df_week_temp['week'] = df_week_temp['date'].dt.isocalendar().week #週番号（1~53）の取得\n",
    "\n",
    "grp = df_week_temp.groupby(['year', 'week'])\n",
    "\n",
    "se_week = grp.mean()['power']\n",
    "df_week = pd.DataFrame(se_week)\n",
    "df_week['power_std'] = grp.std()['power']\n",
    "df_week['date'] = grp.min()['date'] # 週の最初の日をインデックスにする。\n",
    "df_week = df_week.set_index('date')\n",
    "df_week = df_week.drop(df_week.index[[0, -1]]) #半端な週を除く\n",
    "df_week.head()"
   ]
  },
  {
   "cell_type": "code",
   "execution_count": 9,
   "id": "incorporate-climb",
   "metadata": {
    "scrolled": true
   },
   "outputs": [
    {
     "data": {
      "text/html": [
       "<div>\n",
       "<style scoped>\n",
       "    .dataframe tbody tr th:only-of-type {\n",
       "        vertical-align: middle;\n",
       "    }\n",
       "\n",
       "    .dataframe tbody tr th {\n",
       "        vertical-align: top;\n",
       "    }\n",
       "\n",
       "    .dataframe thead th {\n",
       "        text-align: right;\n",
       "    }\n",
       "</style>\n",
       "<table border=\"1\" class=\"dataframe\">\n",
       "  <thead>\n",
       "    <tr style=\"text-align: right;\">\n",
       "      <th></th>\n",
       "      <th>power</th>\n",
       "      <th>power_std</th>\n",
       "    </tr>\n",
       "    <tr>\n",
       "      <th>date</th>\n",
       "      <th></th>\n",
       "      <th></th>\n",
       "    </tr>\n",
       "  </thead>\n",
       "  <tbody>\n",
       "    <tr>\n",
       "      <th>2016-04-01</th>\n",
       "      <td>28.939944</td>\n",
       "      <td>1.906330</td>\n",
       "    </tr>\n",
       "    <tr>\n",
       "      <th>2016-05-01</th>\n",
       "      <td>28.385927</td>\n",
       "      <td>2.510186</td>\n",
       "    </tr>\n",
       "    <tr>\n",
       "      <th>2016-06-01</th>\n",
       "      <td>30.217639</td>\n",
       "      <td>1.957951</td>\n",
       "    </tr>\n",
       "    <tr>\n",
       "      <th>2016-07-01</th>\n",
       "      <td>33.144852</td>\n",
       "      <td>2.865702</td>\n",
       "    </tr>\n",
       "    <tr>\n",
       "      <th>2016-08-01</th>\n",
       "      <td>34.949583</td>\n",
       "      <td>3.306579</td>\n",
       "    </tr>\n",
       "  </tbody>\n",
       "</table>\n",
       "</div>"
      ],
      "text/plain": [
       "                power  power_std\n",
       "date                            \n",
       "2016-04-01  28.939944   1.906330\n",
       "2016-05-01  28.385927   2.510186\n",
       "2016-06-01  30.217639   1.957951\n",
       "2016-07-01  33.144852   2.865702\n",
       "2016-08-01  34.949583   3.306579"
      ]
     },
     "execution_count": 9,
     "metadata": {},
     "output_type": "execute_result"
    }
   ],
   "source": [
    "# 月の集計。こちらも日付単位から集計する。\n",
    "df_month_temp = df_day.copy().reset_index(drop=False)\n",
    "df_month_temp['year'] = df_month_temp['date'].dt.year\n",
    "df_month_temp['month'] = df_month_temp['date'].dt.month #月の取得\n",
    "\n",
    "grp = df_month_temp.groupby(['year', 'month'])\n",
    "\n",
    "se_month = grp.mean()['power']\n",
    "df_month = pd.DataFrame(se_month)\n",
    "df_month['power_std'] = grp.std()['power']\n",
    "df_month['date'] = grp.min()['date'] # 最初の日をインデックスにする。\n",
    "df_month = df_month.set_index('date')\n",
    "df_month.head()"
   ]
  },
  {
   "cell_type": "code",
   "execution_count": 10,
   "id": "objective-municipality",
   "metadata": {},
   "outputs": [
    {
     "data": {
      "text/html": [
       "<div>\n",
       "<style scoped>\n",
       "    .dataframe tbody tr th:only-of-type {\n",
       "        vertical-align: middle;\n",
       "    }\n",
       "\n",
       "    .dataframe tbody tr th {\n",
       "        vertical-align: top;\n",
       "    }\n",
       "\n",
       "    .dataframe thead th {\n",
       "        text-align: right;\n",
       "    }\n",
       "</style>\n",
       "<table border=\"1\" class=\"dataframe\">\n",
       "  <thead>\n",
       "    <tr style=\"text-align: right;\">\n",
       "      <th></th>\n",
       "      <th>power</th>\n",
       "      <th>power_std</th>\n",
       "    </tr>\n",
       "    <tr>\n",
       "      <th>date</th>\n",
       "      <th></th>\n",
       "      <th></th>\n",
       "    </tr>\n",
       "  </thead>\n",
       "  <tbody>\n",
       "    <tr>\n",
       "      <th>2017-01-01</th>\n",
       "      <td>32.661112</td>\n",
       "      <td>2.909179</td>\n",
       "    </tr>\n",
       "    <tr>\n",
       "      <th>2018-01-01</th>\n",
       "      <td>33.247894</td>\n",
       "      <td>3.835275</td>\n",
       "    </tr>\n",
       "    <tr>\n",
       "      <th>2019-01-01</th>\n",
       "      <td>32.580764</td>\n",
       "      <td>3.130210</td>\n",
       "    </tr>\n",
       "    <tr>\n",
       "      <th>2020-01-01</th>\n",
       "      <td>31.735284</td>\n",
       "      <td>3.568286</td>\n",
       "    </tr>\n",
       "  </tbody>\n",
       "</table>\n",
       "</div>"
      ],
      "text/plain": [
       "                power  power_std\n",
       "date                            \n",
       "2017-01-01  32.661112   2.909179\n",
       "2018-01-01  33.247894   3.835275\n",
       "2019-01-01  32.580764   3.130210\n",
       "2020-01-01  31.735284   3.568286"
      ]
     },
     "execution_count": 10,
     "metadata": {},
     "output_type": "execute_result"
    }
   ],
   "source": [
    "# 年単位の集計。こちらは月単位のデータから集計する。\n",
    "df_year_temp = df_month.copy().reset_index(drop=False)\n",
    "df_year_temp['year'] = df_year_temp['date'].dt.year\n",
    "\n",
    "grp = df_year_temp.groupby(['year'])\n",
    "\n",
    "se_year = grp.mean()['power']\n",
    "df_year = pd.DataFrame(se_year)\n",
    "df_year['power_std'] = grp.std()['power']\n",
    "df_year['date'] = grp.min()['date'] # 最初の日をインデックスにする。\n",
    "df_year = df_year.set_index('date')\n",
    "df_year = df_year.drop(df_year.index[[0, -1]]) #半端な年を除く\n",
    "df_year.head()"
   ]
  },
  {
   "cell_type": "code",
   "execution_count": 11,
   "id": "wireless-compact",
   "metadata": {},
   "outputs": [
    {
     "data": {
      "image/png": "[encoded data removed]",
      "text/plain": [
       "<Figure size 432x288 with 1 Axes>"
      ]
     },
     "metadata": {
      "needs_background": "light"
     },
     "output_type": "display_data"
    },
    {
     "data": {
      "image/png": "[encoded data removed]",
      "text/plain": [
       "<Figure size 432x288 with 1 Axes>"
      ]
     },
     "metadata": {
      "needs_background": "light"
     },
     "output_type": "display_data"
    },
    {
     "data": {
      "image/png": "[encoded data removed]",
      "text/plain": [
       "<Figure size 432x288 with 1 Axes>"
      ]
     },
     "metadata": {
      "needs_background": "light"
     },
     "output_type": "display_data"
    },
    {
     "data": {
      "image/png": "[encoded data removed]",
      "text/plain": [
       "<Figure size 432x288 with 1 Axes>"
      ]
     },
     "metadata": {
      "needs_background": "light"
     },
     "output_type": "display_data"
    },
    {
     "data": {
      "image/png": "[encoded data removed]",
      "text/plain": [
       "<Figure size 432x288 with 1 Axes>"
      ]
     },
     "metadata": {
      "needs_background": "light"
     },
     "output_type": "display_data"
    }
   ],
   "source": [
    "dfs = [df, df_day, df_week, df_month, df_year]\n",
    "comments = ['hourly', 'daily', 'weekly', 'monthly', 'yearly']\n",
    "\n",
    "for c, d in zip(comments, dfs):\n",
    "    plt.title(f'{c}')\n",
    "    d['power'].plot()\n",
    "    plt.ylabel('power (GW)')\n",
    "    plt.show()"
   ]
  },
  {
   "cell_type": "code",
   "execution_count": 12,
   "id": "continuous-beverage",
   "metadata": {},
   "outputs": [],
   "source": [
    "df[['power']].to_csv(INPUT_DIR + 'hourly.csv', index=True)\n",
    "df_day.to_csv(INPUT_DIR + 'daily.csv', index=True)\n",
    "df_week.to_csv(INPUT_DIR + 'weekly.csv', index=True)\n",
    "df_month.to_csv(INPUT_DIR + 'monthly.csv', index=True)\n",
    "df_year.to_csv(INPUT_DIR + 'yearly.csv', index=True)"
   ]
  },
  {
   "cell_type": "code",
   "execution_count": 13,
   "id": "running-morrison",
   "metadata": {},
   "outputs": [],
   "source": [
    "df_day = pd.read_csv(INPUT_DIR + 'daily.csv')\n",
    "df_day['date'] = pd.to_datetime(df_day['date'])\n",
    "df_day = df_day.set_index('date')\n",
    "\n",
    "df_week = pd.read_csv(INPUT_DIR + 'weekly.csv')\n",
    "df_week['date'] = pd.to_datetime(df_week['date'])\n",
    "df_week = df_week.set_index('date')\n",
    "\n",
    "df_month = pd.read_csv(INPUT_DIR + 'monthly.csv')\n",
    "df_month['date'] = pd.to_datetime(df_month['date'])\n",
    "df_month = df_month.set_index('date')\n",
    "\n",
    "df_year = pd.read_csv(INPUT_DIR + 'yearly.csv')\n",
    "df_year['date'] = pd.to_datetime(df_year['date'])\n",
    "df_year = df_year.set_index('date')"
   ]
  },
  {
   "cell_type": "markdown",
   "id": "boolean-raise",
   "metadata": {},
   "source": [
    "# 気温データ"
   ]
  },
  {
   "cell_type": "code",
   "execution_count": null,
   "id": "tight-saskatchewan",
   "metadata": {},
   "outputs": [],
   "source": [
    "import pandas as pd\n",
    "import matplotlib.pyplot as plt"
   ]
  },
  {
   "cell_type": "code",
   "execution_count": 3,
   "id": "arbitrary-lingerie",
   "metadata": {},
   "outputs": [
    {
     "data": {
      "text/html": [
       "<div>\n",
       "<style scoped>\n",
       "    .dataframe tbody tr th:only-of-type {\n",
       "        vertical-align: middle;\n",
       "    }\n",
       "\n",
       "    .dataframe tbody tr th {\n",
       "        vertical-align: top;\n",
       "    }\n",
       "\n",
       "    .dataframe thead th {\n",
       "        text-align: right;\n",
       "    }\n",
       "</style>\n",
       "<table border=\"1\" class=\"dataframe\">\n",
       "  <thead>\n",
       "    <tr style=\"text-align: right;\">\n",
       "      <th></th>\n",
       "      <th>date</th>\n",
       "      <th>temperature</th>\n",
       "      <th>品質情報</th>\n",
       "      <th>均質番号</th>\n",
       "    </tr>\n",
       "  </thead>\n",
       "  <tbody>\n",
       "    <tr>\n",
       "      <th>0</th>\n",
       "      <td>2016/4/1</td>\n",
       "      <td>12.8</td>\n",
       "      <td>8</td>\n",
       "      <td>1</td>\n",
       "    </tr>\n",
       "    <tr>\n",
       "      <th>1</th>\n",
       "      <td>2016/4/2</td>\n",
       "      <td>10.5</td>\n",
       "      <td>8</td>\n",
       "      <td>1</td>\n",
       "    </tr>\n",
       "    <tr>\n",
       "      <th>2</th>\n",
       "      <td>2016/4/3</td>\n",
       "      <td>13.1</td>\n",
       "      <td>8</td>\n",
       "      <td>1</td>\n",
       "    </tr>\n",
       "    <tr>\n",
       "      <th>3</th>\n",
       "      <td>2016/4/4</td>\n",
       "      <td>15.6</td>\n",
       "      <td>8</td>\n",
       "      <td>1</td>\n",
       "    </tr>\n",
       "    <tr>\n",
       "      <th>4</th>\n",
       "      <td>2016/4/5</td>\n",
       "      <td>10.8</td>\n",
       "      <td>8</td>\n",
       "      <td>1</td>\n",
       "    </tr>\n",
       "  </tbody>\n",
       "</table>\n",
       "</div>"
      ],
      "text/plain": [
       "       date  temperature  品質情報  均質番号\n",
       "0  2016/4/1         12.8     8     1\n",
       "1  2016/4/2         10.5     8     1\n",
       "2  2016/4/3         13.1     8     1\n",
       "3  2016/4/4         15.6     8     1\n",
       "4  2016/4/5         10.8     8     1"
      ]
     },
     "execution_count": 3,
     "metadata": {},
     "output_type": "execute_result"
    }
   ],
   "source": [
    "# ref: https://www.data.jma.go.jp/gmd/risk/obsdl/index.php\n",
    "\n",
    "df = pd.read_csv(INPUT_DIR + 'temp.csv', header=3, encoding=\"shift-jis\")\n",
    "df = df.rename(columns={\"Unnamed: 0\":\"date\", \"Unnamed: 1\":\"temperature\"})\n",
    "df.head()"
   ]
  },
  {
   "cell_type": "code",
   "execution_count": 4,
   "id": "limited-jason",
   "metadata": {},
   "outputs": [
    {
     "name": "stdout",
     "output_type": "stream",
     "text": [
      "<class 'pandas.core.frame.DataFrame'>\n",
      "RangeIndex: 1796 entries, 0 to 1795\n",
      "Data columns (total 4 columns):\n",
      " #   Column       Non-Null Count  Dtype  \n",
      "---  ------       --------------  -----  \n",
      " 0   date         1796 non-null   object \n",
      " 1   temperature  1796 non-null   float64\n",
      " 2   品質情報         1796 non-null   int64  \n",
      " 3   均質番号         1796 non-null   int64  \n",
      "dtypes: float64(1), int64(2), object(1)\n",
      "memory usage: 56.2+ KB\n"
     ]
    }
   ],
   "source": [
    "#欠損無し\n",
    "df.info()"
   ]
  },
  {
   "cell_type": "code",
   "execution_count": 5,
   "id": "departmental-completion",
   "metadata": {},
   "outputs": [
    {
     "data": {
      "text/html": [
       "<div>\n",
       "<style scoped>\n",
       "    .dataframe tbody tr th:only-of-type {\n",
       "        vertical-align: middle;\n",
       "    }\n",
       "\n",
       "    .dataframe tbody tr th {\n",
       "        vertical-align: top;\n",
       "    }\n",
       "\n",
       "    .dataframe thead th {\n",
       "        text-align: right;\n",
       "    }\n",
       "</style>\n",
       "<table border=\"1\" class=\"dataframe\">\n",
       "  <thead>\n",
       "    <tr style=\"text-align: right;\">\n",
       "      <th></th>\n",
       "      <th>temperature</th>\n",
       "      <th>品質情報</th>\n",
       "      <th>均質番号</th>\n",
       "    </tr>\n",
       "  </thead>\n",
       "  <tbody>\n",
       "    <tr>\n",
       "      <th>count</th>\n",
       "      <td>1796.000000</td>\n",
       "      <td>1796.000000</td>\n",
       "      <td>1796.0</td>\n",
       "    </tr>\n",
       "    <tr>\n",
       "      <th>mean</th>\n",
       "      <td>16.565535</td>\n",
       "      <td>7.994989</td>\n",
       "      <td>1.0</td>\n",
       "    </tr>\n",
       "    <tr>\n",
       "      <th>std</th>\n",
       "      <td>7.868848</td>\n",
       "      <td>0.122542</td>\n",
       "      <td>0.0</td>\n",
       "    </tr>\n",
       "    <tr>\n",
       "      <th>min</th>\n",
       "      <td>0.000000</td>\n",
       "      <td>5.000000</td>\n",
       "      <td>1.0</td>\n",
       "    </tr>\n",
       "    <tr>\n",
       "      <th>25%</th>\n",
       "      <td>9.300000</td>\n",
       "      <td>8.000000</td>\n",
       "      <td>1.0</td>\n",
       "    </tr>\n",
       "    <tr>\n",
       "      <th>50%</th>\n",
       "      <td>16.850000</td>\n",
       "      <td>8.000000</td>\n",
       "      <td>1.0</td>\n",
       "    </tr>\n",
       "    <tr>\n",
       "      <th>75%</th>\n",
       "      <td>23.025000</td>\n",
       "      <td>8.000000</td>\n",
       "      <td>1.0</td>\n",
       "    </tr>\n",
       "    <tr>\n",
       "      <th>max</th>\n",
       "      <td>32.200000</td>\n",
       "      <td>8.000000</td>\n",
       "      <td>1.0</td>\n",
       "    </tr>\n",
       "  </tbody>\n",
       "</table>\n",
       "</div>"
      ],
      "text/plain": [
       "       temperature         品質情報    均質番号\n",
       "count  1796.000000  1796.000000  1796.0\n",
       "mean     16.565535     7.994989     1.0\n",
       "std       7.868848     0.122542     0.0\n",
       "min       0.000000     5.000000     1.0\n",
       "25%       9.300000     8.000000     1.0\n",
       "50%      16.850000     8.000000     1.0\n",
       "75%      23.025000     8.000000     1.0\n",
       "max      32.200000     8.000000     1.0"
      ]
     },
     "execution_count": 5,
     "metadata": {},
     "output_type": "execute_result"
    }
   ],
   "source": [
    "df.describe()"
   ]
  },
  {
   "cell_type": "code",
   "execution_count": 6,
   "id": "noble-niagara",
   "metadata": {},
   "outputs": [],
   "source": [
    "df = df.drop(df.columns[[2,3]], axis=1) # 品質情報や均質番号は一旦無視\n",
    "df['date'] = pd.to_datetime(df['date'])"
   ]
  },
  {
   "cell_type": "code",
   "execution_count": 7,
   "id": "fourth-hudson",
   "metadata": {},
   "outputs": [
    {
     "data": {
      "text/plain": [
       "Text(0, 0.5, 'degC')"
      ]
     },
     "execution_count": 7,
     "metadata": {},
     "output_type": "execute_result"
    },
    {
     "data": {
      "image/png": "[encoded data removed]",
      "text/plain": [
       "<Figure size 432x288 with 1 Axes>"
      ]
     },
     "metadata": {
      "needs_background": "light"
     },
     "output_type": "display_data"
    }
   ],
   "source": [
    "plt.title('temperature (TOKYO)')\n",
    "df.set_index('date')['temperature'].plot()\n",
    "plt.ylabel('degC')"
   ]
  },
  {
   "cell_type": "code",
   "execution_count": 8,
   "id": "above-tiffany",
   "metadata": {},
   "outputs": [
    {
     "data": {
      "text/html": [
       "<div>\n",
       "<style scoped>\n",
       "    .dataframe tbody tr th:only-of-type {\n",
       "        vertical-align: middle;\n",
       "    }\n",
       "\n",
       "    .dataframe tbody tr th {\n",
       "        vertical-align: top;\n",
       "    }\n",
       "\n",
       "    .dataframe thead th {\n",
       "        text-align: right;\n",
       "    }\n",
       "</style>\n",
       "<table border=\"1\" class=\"dataframe\">\n",
       "  <thead>\n",
       "    <tr style=\"text-align: right;\">\n",
       "      <th></th>\n",
       "      <th>temperature</th>\n",
       "      <th>temperature_std</th>\n",
       "    </tr>\n",
       "    <tr>\n",
       "      <th>date</th>\n",
       "      <th></th>\n",
       "      <th></th>\n",
       "    </tr>\n",
       "  </thead>\n",
       "  <tbody>\n",
       "    <tr>\n",
       "      <th>2016-04-04</th>\n",
       "      <td>15.028571</td>\n",
       "      <td>2.238090</td>\n",
       "    </tr>\n",
       "    <tr>\n",
       "      <th>2016-04-11</th>\n",
       "      <td>14.685714</td>\n",
       "      <td>2.928269</td>\n",
       "    </tr>\n",
       "    <tr>\n",
       "      <th>2016-04-18</th>\n",
       "      <td>16.771429</td>\n",
       "      <td>1.362246</td>\n",
       "    </tr>\n",
       "    <tr>\n",
       "      <th>2016-04-25</th>\n",
       "      <td>17.114286</td>\n",
       "      <td>1.722816</td>\n",
       "    </tr>\n",
       "    <tr>\n",
       "      <th>2016-05-02</th>\n",
       "      <td>20.371429</td>\n",
       "      <td>1.893598</td>\n",
       "    </tr>\n",
       "  </tbody>\n",
       "</table>\n",
       "</div>"
      ],
      "text/plain": [
       "            temperature  temperature_std\n",
       "date                                    \n",
       "2016-04-04    15.028571         2.238090\n",
       "2016-04-11    14.685714         2.928269\n",
       "2016-04-18    16.771429         1.362246\n",
       "2016-04-25    17.114286         1.722816\n",
       "2016-05-02    20.371429         1.893598"
      ]
     },
     "execution_count": 8,
     "metadata": {},
     "output_type": "execute_result"
    }
   ],
   "source": [
    "df_week_temp = df.copy().reset_index(drop=False)\n",
    "df_week_temp['year'] = df_week_temp['date'].dt.isocalendar().year\n",
    "df_week_temp['week'] = df_week_temp['date'].dt.isocalendar().week #週番号（1~53）の取得\n",
    "\n",
    "grp = df_week_temp.groupby(['year', 'week'])\n",
    "\n",
    "se_week = grp.mean()['temperature']\n",
    "df_week = pd.DataFrame(se_week)\n",
    "df_week['temperature_std'] = grp.std()['temperature']\n",
    "df_week['date'] = grp.min()['date'] # 週の最初の日をインデックスにする。\n",
    "df_week = df_week.set_index('date')\n",
    "df_week = df_week.drop(df_week.index[[0, -1]]) #半端な週を除く\n",
    "df_week.head()"
   ]
  },
  {
   "cell_type": "code",
   "execution_count": 9,
   "id": "spanish-arctic",
   "metadata": {},
   "outputs": [
    {
     "data": {
      "text/html": [
       "<div>\n",
       "<style scoped>\n",
       "    .dataframe tbody tr th:only-of-type {\n",
       "        vertical-align: middle;\n",
       "    }\n",
       "\n",
       "    .dataframe tbody tr th {\n",
       "        vertical-align: top;\n",
       "    }\n",
       "\n",
       "    .dataframe thead th {\n",
       "        text-align: right;\n",
       "    }\n",
       "</style>\n",
       "<table border=\"1\" class=\"dataframe\">\n",
       "  <thead>\n",
       "    <tr style=\"text-align: right;\">\n",
       "      <th></th>\n",
       "      <th>temperature</th>\n",
       "      <th>temperature_std</th>\n",
       "    </tr>\n",
       "    <tr>\n",
       "      <th>date</th>\n",
       "      <th></th>\n",
       "      <th></th>\n",
       "    </tr>\n",
       "  </thead>\n",
       "  <tbody>\n",
       "    <tr>\n",
       "      <th>2016-04-01</th>\n",
       "      <td>15.446667</td>\n",
       "      <td>2.469641</td>\n",
       "    </tr>\n",
       "    <tr>\n",
       "      <th>2016-05-01</th>\n",
       "      <td>20.161290</td>\n",
       "      <td>1.905374</td>\n",
       "    </tr>\n",
       "    <tr>\n",
       "      <th>2016-06-01</th>\n",
       "      <td>22.353333</td>\n",
       "      <td>2.003399</td>\n",
       "    </tr>\n",
       "    <tr>\n",
       "      <th>2016-07-01</th>\n",
       "      <td>25.374194</td>\n",
       "      <td>2.224555</td>\n",
       "    </tr>\n",
       "    <tr>\n",
       "      <th>2016-08-01</th>\n",
       "      <td>27.116129</td>\n",
       "      <td>1.703153</td>\n",
       "    </tr>\n",
       "  </tbody>\n",
       "</table>\n",
       "</div>"
      ],
      "text/plain": [
       "            temperature  temperature_std\n",
       "date                                    \n",
       "2016-04-01    15.446667         2.469641\n",
       "2016-05-01    20.161290         1.905374\n",
       "2016-06-01    22.353333         2.003399\n",
       "2016-07-01    25.374194         2.224555\n",
       "2016-08-01    27.116129         1.703153"
      ]
     },
     "execution_count": 9,
     "metadata": {},
     "output_type": "execute_result"
    }
   ],
   "source": [
    "df_month_temp = df.copy().reset_index(drop=False)\n",
    "df_month_temp['year'] = df_month_temp['date'].dt.year\n",
    "df_month_temp['month'] = df_month_temp['date'].dt.month #月の取得\n",
    "\n",
    "grp = df_month_temp.groupby(['year', 'month'])\n",
    "\n",
    "se_month = grp.mean()['temperature']\n",
    "df_month = pd.DataFrame(se_month)\n",
    "df_month['temperature_std'] = grp.std()['temperature']\n",
    "df_month['date'] = grp.min()['date'] # 最初の日をインデックスにする。\n",
    "df_month = df_month.set_index('date')\n",
    "df_month.head()"
   ]
  },
  {
   "cell_type": "code",
   "execution_count": 10,
   "id": "streaming-grocery",
   "metadata": {},
   "outputs": [
    {
     "data": {
      "text/html": [
       "<div>\n",
       "<style scoped>\n",
       "    .dataframe tbody tr th:only-of-type {\n",
       "        vertical-align: middle;\n",
       "    }\n",
       "\n",
       "    .dataframe tbody tr th {\n",
       "        vertical-align: top;\n",
       "    }\n",
       "\n",
       "    .dataframe thead th {\n",
       "        text-align: right;\n",
       "    }\n",
       "</style>\n",
       "<table border=\"1\" class=\"dataframe\">\n",
       "  <thead>\n",
       "    <tr style=\"text-align: right;\">\n",
       "      <th></th>\n",
       "      <th>temperature</th>\n",
       "      <th>temperature_std</th>\n",
       "    </tr>\n",
       "    <tr>\n",
       "      <th>date</th>\n",
       "      <th></th>\n",
       "      <th></th>\n",
       "    </tr>\n",
       "  </thead>\n",
       "  <tbody>\n",
       "    <tr>\n",
       "      <th>2017-01-01</th>\n",
       "      <td>15.825266</td>\n",
       "      <td>7.886118</td>\n",
       "    </tr>\n",
       "    <tr>\n",
       "      <th>2018-01-01</th>\n",
       "      <td>16.770907</td>\n",
       "      <td>8.129271</td>\n",
       "    </tr>\n",
       "    <tr>\n",
       "      <th>2019-01-01</th>\n",
       "      <td>16.440164</td>\n",
       "      <td>7.661283</td>\n",
       "    </tr>\n",
       "    <tr>\n",
       "      <th>2020-01-01</th>\n",
       "      <td>16.529431</td>\n",
       "      <td>7.504154</td>\n",
       "    </tr>\n",
       "  </tbody>\n",
       "</table>\n",
       "</div>"
      ],
      "text/plain": [
       "            temperature  temperature_std\n",
       "date                                    \n",
       "2017-01-01    15.825266         7.886118\n",
       "2018-01-01    16.770907         8.129271\n",
       "2019-01-01    16.440164         7.661283\n",
       "2020-01-01    16.529431         7.504154"
      ]
     },
     "execution_count": 10,
     "metadata": {},
     "output_type": "execute_result"
    }
   ],
   "source": [
    "df_year_temp = df_month.copy().reset_index(drop=False)\n",
    "df_year_temp['year'] = df_year_temp['date'].dt.year\n",
    "\n",
    "grp = df_year_temp.groupby(['year'])\n",
    "\n",
    "se_year = grp.mean()['temperature']\n",
    "df_year = pd.DataFrame(se_year)\n",
    "df_year['temperature_std'] = grp.std()['temperature']\n",
    "df_year['date'] = grp.min()['date'] # 最初の日をインデックスにする。\n",
    "df_year = df_year.set_index('date')\n",
    "df_year = df_year.drop(df_year.index[[0, -1]]) #半端な年を除く\n",
    "df_year.head()"
   ]
  },
  {
   "cell_type": "code",
   "execution_count": 11,
   "id": "rational-actor",
   "metadata": {},
   "outputs": [],
   "source": [
    "df.to_csv(INPUT_DIR + 'daily_temperature.csv', index=True)\n",
    "df_week.to_csv(INPUT_DIR + 'weekly_temperature.csv', index=True)\n",
    "df_month.to_csv(INPUT_DIR + 'monthly_temperature.csv', index=True)\n",
    "df_year.to_csv(INPUT_DIR + 'yearly_temperature.csv', index=True)"
   ]
  },
  {
   "cell_type": "markdown",
   "id": "statewide-effects",
   "metadata": {},
   "source": [
    "# GDPデータ"
   ]
  },
  {
   "cell_type": "code",
   "execution_count": 1,
   "id": "prescription-possession",
   "metadata": {},
   "outputs": [],
   "source": [
    "import re\n",
    "import pandas as pd\n",
    "import matplotlib.pyplot as plt"
   ]
  },
  {
   "cell_type": "code",
   "execution_count": 3,
   "id": "atlantic-spotlight",
   "metadata": {
    "scrolled": true
   },
   "outputs": [
    {
     "data": {
      "text/html": [
       "<div>\n",
       "<style scoped>\n",
       "    .dataframe tbody tr th:only-of-type {\n",
       "        vertical-align: middle;\n",
       "    }\n",
       "\n",
       "    .dataframe tbody tr th {\n",
       "        vertical-align: top;\n",
       "    }\n",
       "\n",
       "    .dataframe thead th {\n",
       "        text-align: right;\n",
       "    }\n",
       "</style>\n",
       "<table border=\"1\" class=\"dataframe\">\n",
       "  <thead>\n",
       "    <tr style=\"text-align: right;\">\n",
       "      <th></th>\n",
       "      <th>quater</th>\n",
       "      <th>gdp</th>\n",
       "    </tr>\n",
       "  </thead>\n",
       "  <tbody>\n",
       "    <tr>\n",
       "      <th>1</th>\n",
       "      <td>1994/ 1- 3.</td>\n",
       "      <td>123,456.1</td>\n",
       "    </tr>\n",
       "    <tr>\n",
       "      <th>2</th>\n",
       "      <td>4- 6.</td>\n",
       "      <td>124,896.6</td>\n",
       "    </tr>\n",
       "    <tr>\n",
       "      <th>3</th>\n",
       "      <td>7- 9.</td>\n",
       "      <td>125,738.4</td>\n",
       "    </tr>\n",
       "    <tr>\n",
       "      <th>4</th>\n",
       "      <td>10-12.</td>\n",
       "      <td>136,825.0</td>\n",
       "    </tr>\n",
       "    <tr>\n",
       "      <th>5</th>\n",
       "      <td>1995/ 1- 3.</td>\n",
       "      <td>124,494.6</td>\n",
       "    </tr>\n",
       "  </tbody>\n",
       "</table>\n",
       "</div>"
      ],
      "text/plain": [
       "        quater         gdp\n",
       "1  1994/ 1- 3.  123,456.1 \n",
       "2        4- 6.  124,896.6 \n",
       "3        7- 9.  125,738.4 \n",
       "4       10-12.  136,825.0 \n",
       "5  1995/ 1- 3.  124,494.6 "
      ]
     },
     "execution_count": 3,
     "metadata": {},
     "output_type": "execute_result"
    }
   ],
   "source": [
    "# https://www.esri.cao.go.jp/jp/sna/data/data_list/sokuhou/files/files_sokuhou.html\n",
    "\n",
    "df = pd.read_csv(INPUT_DIR + 'gdp.csv', header=5, encoding=\"shift-jis\")\n",
    "df = df[['Unnamed: 0', 'GDP(Expenditure Approach)']]\\\n",
    "        .rename(columns={'Unnamed: 0':'quater', 'GDP(Expenditure Approach)':'gdp'})\\\n",
    "        .drop(df.index[[0, -1]])\n",
    "df.head()"
   ]
  },
  {
   "cell_type": "code",
   "execution_count": 4,
   "id": "right-publisher",
   "metadata": {},
   "outputs": [],
   "source": [
    "def convert_figure(string):\n",
    "    '''\n",
    "    文字列から小数に変換する\n",
    "    '''\n",
    "    pattern = \"\\,| \" #桁区切りのカンマ及び空白の除去\n",
    "    result = re.sub(pattern, '', string)\n",
    "    \n",
    "    pattern = \"\\.\" #小数点\n",
    "    result = re.sub(pattern, '.', result)\n",
    "    return float(result)"
   ]
  },
  {
   "cell_type": "code",
   "execution_count": 5,
   "id": "bigger-lincoln",
   "metadata": {},
   "outputs": [],
   "source": [
    "df.index = pd.date_range('1994-01-01', '2020-12-31', freq=\"QS\", name='date')\n",
    "df['gdp'] = df['gdp'].apply(convert_figure) / 100000 # 100兆円単位にする。\n",
    "df = df.reset_index(drop=False)"
   ]
  },
  {
   "cell_type": "code",
   "execution_count": 6,
   "id": "failing-magnet",
   "metadata": {},
   "outputs": [],
   "source": [
    "# 日次テーブルにする。テーブルの結合のため同一四半期内では同じGDPが入る。\n",
    "df_daily = pd.DataFrame(index=pd.date_range('2016-04-01', '2020-12-31', name='date')).reset_index(drop=False)\n",
    "df_daily = pd.merge(df_daily, df[['date', 'gdp']], on='date', how='left').ffill()\n",
    "df_daily.to_csv(INPUT_DIR + 'daily_gdp.csv', index=True)"
   ]
  },
  {
   "cell_type": "code",
   "execution_count": 7,
   "id": "general-pound",
   "metadata": {},
   "outputs": [
    {
     "data": {
      "text/plain": [
       "Text(0, 0.5, 'GDP (100,000,000,000 JPY)')"
      ]
     },
     "execution_count": 7,
     "metadata": {},
     "output_type": "execute_result"
    },
    {
     "data": {
      "image/png": "[encoded data removed]",
      "text/plain": [
       "<Figure size 432x288 with 1 Axes>"
      ]
     },
     "metadata": {
      "needs_background": "light"
     },
     "output_type": "display_data"
    }
   ],
   "source": [
    "plt.title('Nominal GDP (JAPAN)')\n",
    "df_daily.set_index('date')['gdp'].plot()\n",
    "plt.ylabel('GDP (100,000,000,000 JPY)')"
   ]
  },
  {
   "cell_type": "code",
   "execution_count": 8,
   "id": "charged-albania",
   "metadata": {},
   "outputs": [],
   "source": [
    "df_weekly = df_daily[df_daily['date'].dt.dayofweek == 0]\n",
    "df_weekly.to_csv(INPUT_DIR + 'weekly_gdp.csv', index=True)"
   ]
  },
  {
   "cell_type": "code",
   "execution_count": 9,
   "id": "tested-stuart",
   "metadata": {},
   "outputs": [
    {
     "data": {
      "text/plain": [
       "<AxesSubplot:xlabel='date'>"
      ]
     },
     "execution_count": 9,
     "metadata": {},
     "output_type": "execute_result"
    },
    {
     "data": {
      "image/png": "[encoded data removed]",
      "text/plain": [
       "<Figure size 432x288 with 1 Axes>"
      ]
     },
     "metadata": {
      "needs_background": "light"
     },
     "output_type": "display_data"
    }
   ],
   "source": [
    "df_weekly.set_index('date')['gdp'].plot()"
   ]
  },
  {
   "cell_type": "code",
   "execution_count": 10,
   "id": "intimate-gabriel",
   "metadata": {},
   "outputs": [
    {
     "data": {
      "text/html": [
       "<div>\n",
       "<style scoped>\n",
       "    .dataframe tbody tr th:only-of-type {\n",
       "        vertical-align: middle;\n",
       "    }\n",
       "\n",
       "    .dataframe tbody tr th {\n",
       "        vertical-align: top;\n",
       "    }\n",
       "\n",
       "    .dataframe thead th {\n",
       "        text-align: right;\n",
       "    }\n",
       "</style>\n",
       "<table border=\"1\" class=\"dataframe\">\n",
       "  <thead>\n",
       "    <tr style=\"text-align: right;\">\n",
       "      <th></th>\n",
       "      <th>date</th>\n",
       "      <th>gdp</th>\n",
       "    </tr>\n",
       "  </thead>\n",
       "  <tbody>\n",
       "    <tr>\n",
       "      <th>0</th>\n",
       "      <td>2016-04-01</td>\n",
       "      <td>1.342716</td>\n",
       "    </tr>\n",
       "    <tr>\n",
       "      <th>1</th>\n",
       "      <td>2016-04-02</td>\n",
       "      <td>1.342716</td>\n",
       "    </tr>\n",
       "    <tr>\n",
       "      <th>2</th>\n",
       "      <td>2016-04-03</td>\n",
       "      <td>1.342716</td>\n",
       "    </tr>\n",
       "    <tr>\n",
       "      <th>3</th>\n",
       "      <td>2016-04-04</td>\n",
       "      <td>1.342716</td>\n",
       "    </tr>\n",
       "    <tr>\n",
       "      <th>4</th>\n",
       "      <td>2016-04-05</td>\n",
       "      <td>1.342716</td>\n",
       "    </tr>\n",
       "  </tbody>\n",
       "</table>\n",
       "</div>"
      ],
      "text/plain": [
       "        date       gdp\n",
       "0 2016-04-01  1.342716\n",
       "1 2016-04-02  1.342716\n",
       "2 2016-04-03  1.342716\n",
       "3 2016-04-04  1.342716\n",
       "4 2016-04-05  1.342716"
      ]
     },
     "execution_count": 10,
     "metadata": {},
     "output_type": "execute_result"
    }
   ],
   "source": [
    "df_daily.head()"
   ]
  },
  {
   "cell_type": "code",
   "execution_count": null,
   "id": "qualified-trash",
   "metadata": {},
   "outputs": [],
   "source": []
  }
 ],
 "metadata": {
  "kernelspec": {
   "display_name": "Python 3",
   "language": "python",
   "name": "python3"
  },
  "language_info": {
   "codemirror_mode": {
    "name": "ipython",
    "version": 3
   },
   "file_extension": ".py",
   "mimetype": "text/x-python",
   "name": "python",
   "nbconvert_exporter": "python",
   "pygments_lexer": "ipython3",
   "version": "3.8.7"
  }
 },
 "nbformat": 4,
 "nbformat_minor": 5
}
