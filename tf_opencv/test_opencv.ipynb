{
 "cells": [
  {
   "cell_type": "code",
   "execution_count": 1,
   "metadata": {},
   "outputs": [],
   "source": [
    "import cv2"
   ]
  },
  {
   "cell_type": "code",
   "execution_count": 2,
   "metadata": {},
   "outputs": [],
   "source": [
    "low_dir = 'data/low/'\n",
    "high_dir = 'data/high/'\n",
    "data_dir = 'data/'\n",
    "\n",
    "filename = 'movie2.mp4'\n",
    "\n",
    "# path = 'data/movie.mp4'\n",
    "path = data_dir + filename"
   ]
  },
  {
   "cell_type": "code",
   "execution_count": 3,
   "metadata": {},
   "outputs": [
    {
     "name": "stdout",
     "output_type": "stream",
     "text": [
      "width: 426\n",
      "height: 240\n",
      "frame_count: 8114\n",
      "frame_rate: 29.97002997002997\n"
     ]
    }
   ],
   "source": [
    "cap = cv2.VideoCapture(path)\n",
    "\n",
    "width = int(cap.get(cv2.CAP_PROP_FRAME_WIDTH)) # 動画の画面横幅\n",
    "height = int(cap.get(cv2.CAP_PROP_FRAME_HEIGHT)) # 動画の画面縦幅\n",
    "fcnt = int(cap.get(cv2.CAP_PROP_FRAME_COUNT)) # 総フレーム数\n",
    "fps = cap.get(cv2.CAP_PROP_FPS)\n",
    "print('width:',  width)\n",
    "print('height:',  height)\n",
    "print('frame_count:',  fcnt)\n",
    "print('frame_rate:',  fps)    "
   ]
  },
  {
   "cell_type": "code",
   "execution_count": 4,
   "metadata": {},
   "outputs": [],
   "source": [
    "r = 1 / 4\n",
    "\n",
    "for f in range(fcnt):\n",
    "    ret, frame = cap.read()\n",
    "    if(f % int(fps*3) == 0):\n",
    "        imgname = filename.split('.')[0] + f'_{f}.jpg'\n",
    "        \n",
    "        low_frame = cv2.resize(frame , (int(width*r), int(height*r)))\n",
    "\n",
    "        cv2.imwrite(high_dir+imgname, frame[:, 1:-1,:])    \n",
    "        cv2.imwrite(low_dir+imgname, low_frame)"
   ]
  },
  {
   "cell_type": "code",
   "execution_count": 5,
   "metadata": {},
   "outputs": [],
   "source": [
    "# cv2.imshow('frame', frame)\n",
    "# cv2.waitKey(0)\n",
    "# cv2.destroyAllWindows()\n",
    "\n",
    "# cv2.imshow('frame', low_frame)\n",
    "# cv2.waitKey(0)\n",
    "# cv2.destroyAllWindows()"
   ]
  },
  {
   "cell_type": "code",
   "execution_count": 6,
   "metadata": {},
   "outputs": [
    {
     "name": "stdout",
     "output_type": "stream",
     "text": [
      "width: 106\n",
      "height: 60\n",
      "frame_count: 8114\n",
      "frame_rate: 29.97002997002997\n"
     ]
    }
   ],
   "source": [
    "print('width:',  int(width*r))\n",
    "print('height:',  int(height*r))\n",
    "print('frame_count:',  fcnt)\n",
    "print('frame_rate:',  fps)   "
   ]
  },
  {
   "cell_type": "code",
   "execution_count": null,
   "metadata": {},
   "outputs": [],
   "source": []
  }
 ],
 "metadata": {
  "kernelspec": {
   "display_name": "Python 3",
   "language": "python",
   "name": "python3"
  },
  "language_info": {
   "codemirror_mode": {
    "name": "ipython",
    "version": 3
   },
   "file_extension": ".py",
   "mimetype": "text/x-python",
   "name": "python",
   "nbconvert_exporter": "python",
   "pygments_lexer": "ipython3",
   "version": "3.6.9"
  }
 },
 "nbformat": 4,
 "nbformat_minor": 4
}
