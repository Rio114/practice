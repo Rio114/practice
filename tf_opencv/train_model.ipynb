{
 "cells": [
  {
   "cell_type": "code",
   "execution_count": 1,
   "metadata": {},
   "outputs": [
    {
     "name": "stderr",
     "output_type": "stream",
     "text": [
      "Using TensorFlow backend.\n"
     ]
    }
   ],
   "source": [
    "import numpy as np\n",
    "import cv2\n",
    "\n",
    "from tensorflow.compat.v1 import ConfigProto\n",
    "from tensorflow.compat.v1 import InteractiveSession\n",
    "config = ConfigProto()\n",
    "config.gpu_options.allow_growth = True\n",
    "session = InteractiveSession(config=config)\n",
    "\n",
    "from srgan import SRGAN\n",
    "from generator import ImageDataGenerator"
   ]
  },
  {
   "cell_type": "code",
   "execution_count": 2,
   "metadata": {},
   "outputs": [],
   "source": [
    "# !TF_ENABLE_GPU_GARBAGE_COLLECTION=false"
   ]
  },
  {
   "cell_type": "code",
   "execution_count": 3,
   "metadata": {},
   "outputs": [],
   "source": [
    "# from tensorflow.python.client import device_lib\n",
    "# device_lib.list_local_devices()"
   ]
  },
  {
   "cell_type": "code",
   "execution_count": 4,
   "metadata": {},
   "outputs": [],
   "source": [
    "input_dir = 'data/train/low/'\n",
    "tgt_dir = 'data/train/high/'\n",
    "\n",
    "input_dir_val = 'data/val/low/'\n",
    "tgt_dir_val = 'data/val/high/'\n",
    "\n",
    "\n",
    "test_file = 'UBMk30rjy0o_17675_1.jpg'\n",
    "test_low_path =  input_dir_val + test_file\n",
    "test_high_path = tgt_dir_val + test_file\n",
    "test_out_path = 'data/out/' + test_file\n",
    "test_test_path = 'data/test/' + test_file\n",
    "\n",
    "vgg_path = 'vgg16_notop.hdf5'\n",
    "\n",
    "input_shape = (135, 240, 3)\n",
    "tgt_shape = (540, 960, 3)\n",
    "\n",
    "batch_size = 2"
   ]
  },
  {
   "cell_type": "code",
   "execution_count": 5,
   "metadata": {},
   "outputs": [
    {
     "name": "stderr",
     "output_type": "stream",
     "text": [
      "/home/keras/srgan.py:141: UserWarning: Update your `Network` call to the Keras 2 API: `Network(name=\"generator\", inputs=Tensor(\"in..., outputs=Tensor(\"co...)`\n",
      "  self.shared_generator = Network(input=layers[0], output=layers[-1], name='generator')\n",
      "/home/keras/srgan.py:178: UserWarning: Update your `Network` call to the Keras 2 API: `Network(name=\"discriminator\", inputs=Tensor(\"in..., outputs=Tensor(\"de...)`\n",
      "  self.shared_discriminator = Network(input=layers[0], output=layers[-1], name='discriminator')\n",
      "/usr/local/lib/python3.6/dist-packages/keras/engine/saving.py:341: UserWarning: No training configuration found in save file: the model was *not* compiled. Compile it manually.\n",
      "  warnings.warn('No training configuration found in save file: '\n"
     ]
    }
   ],
   "source": [
    "srgan = SRGAN(vgg_path, batch_size, input_shape, tgt_shape)\n",
    "gen = ImageDataGenerator(input_dir, tgt_dir, batch_size)\n",
    "gen_valid = ImageDataGenerator(input_dir_val, tgt_dir_val, batch_size)"
   ]
  },
  {
   "cell_type": "code",
   "execution_count": 6,
   "metadata": {},
   "outputs": [],
   "source": [
    "# test_img_low = ((cv2.imread(test_low_path) - 127.5) / 127.5)[np.newaxis, :, :, :]\n",
    "# test_img_high = ((cv2.imread(test_high_path)- 127.5) / 127.5)[np.newaxis, :, :, :]\n",
    "\n",
    "# test_img_sr = srgan.generator.predict(test_img_low)\n",
    "# test_img_sr_int = ((test_img_sr * 127.5) + 127.5).astype('u1')[0]\n",
    "# cv2.imwrite(test_test_path, test_img_sr_int)"
   ]
  },
  {
   "cell_type": "code",
   "execution_count": 7,
   "metadata": {
    "scrolled": true
   },
   "outputs": [
    {
     "name": "stdout",
     "output_type": "stream",
     "text": [
      "epoch 0\n",
      "d_loss_real:0.3918609321117401, d_loss_fake:1.1208797693252563, vgg_loss:25.55741310119629\n",
      "epoch 100\n",
      "d_loss_real:0.7527655959129333, d_loss_fake:0.5895166397094727, vgg_loss:7.762607097625732\n",
      "epoch 200\n",
      "d_loss_real:0.7115524411201477, d_loss_fake:0.5319671034812927, vgg_loss:5.08284854888916\n",
      "epoch 300\n",
      "d_loss_real:0.6312448978424072, d_loss_fake:0.5844377279281616, vgg_loss:2.9085707664489746\n",
      "epoch 400\n",
      "d_loss_real:0.8251923322677612, d_loss_fake:0.779094934463501, vgg_loss:2.6864397525787354\n",
      "epoch 500\n",
      "d_loss_real:0.8838603496551514, d_loss_fake:0.37219423055648804, vgg_loss:4.2160210609436035\n",
      "epoch 600\n",
      "d_loss_real:0.7492925524711609, d_loss_fake:0.33821046352386475, vgg_loss:8.460834503173828\n",
      "epoch 700\n",
      "d_loss_real:0.2605392038822174, d_loss_fake:0.3458854556083679, vgg_loss:8.691084861755371\n",
      "epoch 800\n",
      "d_loss_real:0.18896064162254333, d_loss_fake:0.577235221862793, vgg_loss:6.895414352416992\n",
      "epoch 900\n",
      "d_loss_real:1.1384382247924805, d_loss_fake:1.1025753021240234, vgg_loss:8.759455680847168\n",
      "epoch 1000\n",
      "d_loss_real:1.0523136854171753, d_loss_fake:0.25792834162712097, vgg_loss:16.790956497192383\n",
      "epoch 1100\n",
      "d_loss_real:0.7087885737419128, d_loss_fake:0.2257649302482605, vgg_loss:8.952844619750977\n",
      "epoch 1200\n",
      "d_loss_real:0.39564260840415955, d_loss_fake:2.2448880672454834, vgg_loss:9.23256778717041\n",
      "epoch 1300\n",
      "d_loss_real:1.2775920629501343, d_loss_fake:0.12041719257831573, vgg_loss:7.607047080993652\n",
      "epoch 1400\n",
      "d_loss_real:0.6420015096664429, d_loss_fake:0.836510181427002, vgg_loss:2.775376558303833\n",
      "epoch 1500\n",
      "d_loss_real:0.6399765014648438, d_loss_fake:0.7621368169784546, vgg_loss:1.9244458675384521\n",
      "epoch 1600\n",
      "d_loss_real:1.318731665611267, d_loss_fake:0.7799078226089478, vgg_loss:5.895137786865234\n",
      "epoch 1700\n",
      "d_loss_real:0.8111575841903687, d_loss_fake:0.7760765552520752, vgg_loss:5.720738410949707\n",
      "epoch 1800\n",
      "d_loss_real:1.6584439277648926, d_loss_fake:0.2967483401298523, vgg_loss:6.663715839385986\n",
      "epoch 1900\n",
      "d_loss_real:1.3773691654205322, d_loss_fake:0.4330708980560303, vgg_loss:4.704521179199219\n",
      "epoch 2000\n",
      "d_loss_real:0.9337009191513062, d_loss_fake:0.46337890625, vgg_loss:5.5861382484436035\n",
      "epoch 2100\n",
      "d_loss_real:1.216384768486023, d_loss_fake:0.7309538125991821, vgg_loss:6.027745246887207\n",
      "epoch 2200\n",
      "d_loss_real:0.5142791271209717, d_loss_fake:0.390076220035553, vgg_loss:7.643332004547119\n",
      "epoch 2300\n",
      "d_loss_real:0.9255918860435486, d_loss_fake:0.519862174987793, vgg_loss:9.457145690917969\n",
      "epoch 2400\n",
      "d_loss_real:0.502466082572937, d_loss_fake:0.28224319219589233, vgg_loss:4.381949424743652\n",
      "epoch 2500\n",
      "d_loss_real:1.5819121599197388, d_loss_fake:0.5569704174995422, vgg_loss:12.87258243560791\n",
      "epoch 2600\n",
      "d_loss_real:1.7441343069076538, d_loss_fake:0.72334885597229, vgg_loss:10.065417289733887\n",
      "epoch 2700\n",
      "d_loss_real:1.0484524965286255, d_loss_fake:0.4270654022693634, vgg_loss:6.921782493591309\n",
      "epoch 2800\n",
      "d_loss_real:0.13464169204235077, d_loss_fake:1.0683461427688599, vgg_loss:5.010162830352783\n",
      "epoch 2900\n",
      "d_loss_real:0.18924666941165924, d_loss_fake:0.48594677448272705, vgg_loss:4.702024936676025\n",
      "epoch 3000\n",
      "d_loss_real:1.146855354309082, d_loss_fake:0.947573721408844, vgg_loss:9.802412033081055\n",
      "epoch 3100\n",
      "d_loss_real:1.4090592861175537, d_loss_fake:1.1760860681533813, vgg_loss:8.173738479614258\n",
      "epoch 3200\n",
      "d_loss_real:0.6982806921005249, d_loss_fake:0.5698487162590027, vgg_loss:1.6407904624938965\n",
      "epoch 3300\n",
      "d_loss_real:0.6346162557601929, d_loss_fake:0.5233337879180908, vgg_loss:3.6193082332611084\n",
      "epoch 3400\n",
      "d_loss_real:0.11438224464654922, d_loss_fake:1.7021751403808594, vgg_loss:2.771641254425049\n",
      "epoch 3500\n",
      "d_loss_real:0.2081855684518814, d_loss_fake:0.2088368833065033, vgg_loss:13.294384002685547\n",
      "epoch 3600\n",
      "d_loss_real:1.219283938407898, d_loss_fake:0.1634797900915146, vgg_loss:5.715428829193115\n",
      "epoch 3700\n",
      "d_loss_real:0.5423824787139893, d_loss_fake:2.901777744293213, vgg_loss:13.941158294677734\n",
      "epoch 3800\n",
      "d_loss_real:0.45844727754592896, d_loss_fake:1.0822614431381226, vgg_loss:8.287605285644531\n",
      "epoch 3900\n",
      "d_loss_real:1.5850987434387207, d_loss_fake:1.1146920919418335, vgg_loss:5.908843994140625\n",
      "epoch 4000\n",
      "d_loss_real:0.7879247665405273, d_loss_fake:0.14578115940093994, vgg_loss:5.521830081939697\n",
      "epoch 4100\n",
      "d_loss_real:0.6224598288536072, d_loss_fake:1.3512743711471558, vgg_loss:1.8951232433319092\n",
      "epoch 4200\n",
      "d_loss_real:0.5871816277503967, d_loss_fake:1.3428288698196411, vgg_loss:4.905593395233154\n",
      "epoch 4300\n",
      "d_loss_real:0.6051670908927917, d_loss_fake:1.5299749374389648, vgg_loss:8.568217277526855\n",
      "epoch 4400\n",
      "d_loss_real:0.7961408495903015, d_loss_fake:0.9100581407546997, vgg_loss:2.6829895973205566\n",
      "epoch 4500\n",
      "d_loss_real:0.023325316607952118, d_loss_fake:2.9513869285583496, vgg_loss:4.62676477432251\n",
      "epoch 4600\n",
      "d_loss_real:0.16425852477550507, d_loss_fake:1.1029502153396606, vgg_loss:5.974663257598877\n",
      "epoch 4700\n",
      "d_loss_real:0.8916077017784119, d_loss_fake:0.1893484890460968, vgg_loss:2.8441193103790283\n",
      "epoch 4800\n",
      "d_loss_real:0.024098142981529236, d_loss_fake:0.7149450778961182, vgg_loss:3.7526028156280518\n",
      "epoch 4900\n",
      "d_loss_real:0.549916684627533, d_loss_fake:0.6867535710334778, vgg_loss:6.302491664886475\n",
      "epoch 5000\n",
      "d_loss_real:1.1583335399627686, d_loss_fake:2.055518865585327, vgg_loss:4.6281819343566895\n",
      "epoch 5100\n",
      "d_loss_real:1.0236897468566895, d_loss_fake:0.32389622926712036, vgg_loss:6.846273422241211\n",
      "epoch 5200\n",
      "d_loss_real:0.9723128080368042, d_loss_fake:2.7627716064453125, vgg_loss:6.656994819641113\n",
      "epoch 5300\n",
      "d_loss_real:1.7416038513183594, d_loss_fake:0.9219370484352112, vgg_loss:6.496890544891357\n",
      "epoch 5400\n",
      "d_loss_real:0.5077434778213501, d_loss_fake:1.7625455856323242, vgg_loss:5.022990703582764\n",
      "epoch 5500\n",
      "d_loss_real:0.9877314567565918, d_loss_fake:0.9469530582427979, vgg_loss:5.296632289886475\n",
      "epoch 5600\n",
      "d_loss_real:0.1601361334323883, d_loss_fake:1.925634503364563, vgg_loss:3.6348044872283936\n",
      "epoch 5700\n",
      "d_loss_real:0.16750645637512207, d_loss_fake:1.9527939558029175, vgg_loss:5.718879222869873\n",
      "epoch 5800\n",
      "d_loss_real:0.04058043658733368, d_loss_fake:0.8128048777580261, vgg_loss:11.016363143920898\n",
      "epoch 5900\n",
      "d_loss_real:1.3632855415344238, d_loss_fake:0.4379009008407593, vgg_loss:9.978571891784668\n",
      "epoch 6000\n",
      "d_loss_real:0.9097671508789062, d_loss_fake:0.7648705840110779, vgg_loss:6.811337947845459\n",
      "epoch 6100\n",
      "d_loss_real:0.03681028261780739, d_loss_fake:0.379795104265213, vgg_loss:5.605133533477783\n",
      "epoch 6200\n",
      "d_loss_real:0.02133030816912651, d_loss_fake:0.339077353477478, vgg_loss:5.73903226852417\n",
      "epoch 6300\n",
      "d_loss_real:0.6145825982093811, d_loss_fake:0.9560129642486572, vgg_loss:9.153830528259277\n",
      "epoch 6400\n",
      "d_loss_real:0.5437178015708923, d_loss_fake:0.18279577791690826, vgg_loss:4.604428768157959\n",
      "epoch 6500\n",
      "d_loss_real:0.04576825350522995, d_loss_fake:3.146162509918213, vgg_loss:14.866228103637695\n",
      "epoch 6600\n",
      "d_loss_real:0.08822952210903168, d_loss_fake:2.6585965156555176, vgg_loss:7.849129676818848\n",
      "epoch 6700\n",
      "d_loss_real:0.674293577671051, d_loss_fake:1.8073869943618774, vgg_loss:4.562542915344238\n",
      "epoch 6800\n",
      "d_loss_real:0.07053641974925995, d_loss_fake:1.845534086227417, vgg_loss:9.24669075012207\n"
     ]
    },
    {
     "ename": "ResourceExhaustedError",
     "evalue": " OOM when allocating tensor with shape[2,32,540,960] and type float on /job:localhost/replica:0/task:0/device:GPU:0 by allocator GPU_0_bfc\n\t [[{{node Adam/gradients_1/gradients/SquaredDifference_30_grad/mul_1-0-TransposeNHWCToNCHW-LayoutOptimizer}}]]\nHint: If you want to see a list of allocated tensors when OOM happens, add report_tensor_allocations_upon_oom to RunOptions for current allocation info.\n [Op:__inference_keras_scratch_graph_18745]\n\nFunction call stack:\nkeras_scratch_graph\n",
     "output_type": "error",
     "traceback": [
      "\u001b[0;31m---------------------------------------------------------------------------\u001b[0m",
      "\u001b[0;31mResourceExhaustedError\u001b[0m                    Traceback (most recent call last)",
      "\u001b[0;32m<ipython-input-7-1350879cf1f1>\u001b[0m in \u001b[0;36m<module>\u001b[0;34m\u001b[0m\n\u001b[1;32m      1\u001b[0m \u001b[0;32mfor\u001b[0m \u001b[0me\u001b[0m \u001b[0;32min\u001b[0m \u001b[0mrange\u001b[0m\u001b[0;34m(\u001b[0m\u001b[0;36m10001\u001b[0m\u001b[0;34m)\u001b[0m\u001b[0;34m:\u001b[0m\u001b[0;34m\u001b[0m\u001b[0;34m\u001b[0m\u001b[0m\n\u001b[1;32m      2\u001b[0m     \u001b[0mX_low\u001b[0m\u001b[0;34m,\u001b[0m \u001b[0mX_high\u001b[0m \u001b[0;34m=\u001b[0m \u001b[0mgen\u001b[0m\u001b[0;34m.\u001b[0m\u001b[0mflow_from_directory\u001b[0m\u001b[0;34m(\u001b[0m\u001b[0;34m)\u001b[0m\u001b[0;34m.\u001b[0m\u001b[0m__next__\u001b[0m\u001b[0;34m(\u001b[0m\u001b[0;34m)\u001b[0m\u001b[0;34m\u001b[0m\u001b[0;34m\u001b[0m\u001b[0m\n\u001b[0;32m----> 3\u001b[0;31m     \u001b[0msrgan\u001b[0m\u001b[0;34m.\u001b[0m\u001b[0mtrain\u001b[0m\u001b[0;34m(\u001b[0m\u001b[0mX_low\u001b[0m\u001b[0;34m,\u001b[0m \u001b[0mX_high\u001b[0m\u001b[0;34m)\u001b[0m\u001b[0;34m\u001b[0m\u001b[0;34m\u001b[0m\u001b[0m\n\u001b[0m\u001b[1;32m      4\u001b[0m     \u001b[0;32mif\u001b[0m \u001b[0me\u001b[0m \u001b[0;34m%\u001b[0m \u001b[0;36m100\u001b[0m \u001b[0;34m==\u001b[0m \u001b[0;36m0\u001b[0m\u001b[0;34m:\u001b[0m\u001b[0;34m\u001b[0m\u001b[0;34m\u001b[0m\u001b[0m\n\u001b[1;32m      5\u001b[0m         \u001b[0mprint\u001b[0m\u001b[0;34m(\u001b[0m\u001b[0;34m'epoch'\u001b[0m\u001b[0;34m,\u001b[0m \u001b[0me\u001b[0m\u001b[0;34m)\u001b[0m\u001b[0;34m\u001b[0m\u001b[0;34m\u001b[0m\u001b[0m\n",
      "\u001b[0;32m/home/keras/srgan.py\u001b[0m in \u001b[0;36mtrain\u001b[0;34m(self, X_low, X_high)\u001b[0m\n\u001b[1;32m    222\u001b[0m         \u001b[0;31m# -----------------\u001b[0m\u001b[0;34m\u001b[0m\u001b[0;34m\u001b[0m\u001b[0;34m\u001b[0m\u001b[0m\n\u001b[1;32m    223\u001b[0m         \u001b[0md_loss_real\u001b[0m \u001b[0;34m=\u001b[0m \u001b[0mself\u001b[0m\u001b[0;34m.\u001b[0m\u001b[0mdiscriminator\u001b[0m\u001b[0;34m.\u001b[0m\u001b[0mtrain_on_batch\u001b[0m\u001b[0;34m(\u001b[0m\u001b[0mimgs_high\u001b[0m\u001b[0;34m,\u001b[0m \u001b[0mnp\u001b[0m\u001b[0;34m.\u001b[0m\u001b[0mones\u001b[0m\u001b[0;34m(\u001b[0m\u001b[0;34m(\u001b[0m\u001b[0mbatch_size\u001b[0m\u001b[0;34m,\u001b[0m \u001b[0;36m1\u001b[0m\u001b[0;34m)\u001b[0m\u001b[0;34m)\u001b[0m\u001b[0;34m)\u001b[0m\u001b[0;34m\u001b[0m\u001b[0;34m\u001b[0m\u001b[0m\n\u001b[0;32m--> 224\u001b[0;31m         \u001b[0md_loss_fake\u001b[0m \u001b[0;34m=\u001b[0m \u001b[0mself\u001b[0m\u001b[0;34m.\u001b[0m\u001b[0mdisc_combined\u001b[0m\u001b[0;34m.\u001b[0m\u001b[0mtrain_on_batch\u001b[0m\u001b[0;34m(\u001b[0m\u001b[0mimgs_low\u001b[0m\u001b[0;34m,\u001b[0m \u001b[0mnp\u001b[0m\u001b[0;34m.\u001b[0m\u001b[0mzeros\u001b[0m\u001b[0;34m(\u001b[0m\u001b[0;34m(\u001b[0m\u001b[0mbatch_size\u001b[0m\u001b[0;34m,\u001b[0m \u001b[0;36m1\u001b[0m\u001b[0;34m)\u001b[0m\u001b[0;34m)\u001b[0m\u001b[0;34m)\u001b[0m\u001b[0;34m\u001b[0m\u001b[0;34m\u001b[0m\u001b[0m\n\u001b[0m\u001b[1;32m    225\u001b[0m \u001b[0;34m\u001b[0m\u001b[0m\n\u001b[1;32m    226\u001b[0m         \u001b[0;31m# -----------------\u001b[0m\u001b[0;34m\u001b[0m\u001b[0;34m\u001b[0m\u001b[0;34m\u001b[0m\u001b[0m\n",
      "\u001b[0;32m/usr/local/lib/python3.6/dist-packages/keras/engine/training.py\u001b[0m in \u001b[0;36mtrain_on_batch\u001b[0;34m(self, x, y, sample_weight, class_weight, reset_metrics)\u001b[0m\n\u001b[1;32m   1512\u001b[0m             \u001b[0mins\u001b[0m \u001b[0;34m=\u001b[0m \u001b[0mx\u001b[0m \u001b[0;34m+\u001b[0m \u001b[0my\u001b[0m \u001b[0;34m+\u001b[0m \u001b[0msample_weights\u001b[0m\u001b[0;34m\u001b[0m\u001b[0;34m\u001b[0m\u001b[0m\n\u001b[1;32m   1513\u001b[0m         \u001b[0mself\u001b[0m\u001b[0;34m.\u001b[0m\u001b[0m_make_train_function\u001b[0m\u001b[0;34m(\u001b[0m\u001b[0;34m)\u001b[0m\u001b[0;34m\u001b[0m\u001b[0;34m\u001b[0m\u001b[0m\n\u001b[0;32m-> 1514\u001b[0;31m         \u001b[0moutputs\u001b[0m \u001b[0;34m=\u001b[0m \u001b[0mself\u001b[0m\u001b[0;34m.\u001b[0m\u001b[0mtrain_function\u001b[0m\u001b[0;34m(\u001b[0m\u001b[0mins\u001b[0m\u001b[0;34m)\u001b[0m\u001b[0;34m\u001b[0m\u001b[0;34m\u001b[0m\u001b[0m\n\u001b[0m\u001b[1;32m   1515\u001b[0m \u001b[0;34m\u001b[0m\u001b[0m\n\u001b[1;32m   1516\u001b[0m         \u001b[0;32mif\u001b[0m \u001b[0mreset_metrics\u001b[0m\u001b[0;34m:\u001b[0m\u001b[0;34m\u001b[0m\u001b[0;34m\u001b[0m\u001b[0m\n",
      "\u001b[0;32m/usr/local/lib/python3.6/dist-packages/tensorflow_core/python/keras/backend.py\u001b[0m in \u001b[0;36m__call__\u001b[0;34m(self, inputs)\u001b[0m\n\u001b[1;32m   3725\u001b[0m         \u001b[0mvalue\u001b[0m \u001b[0;34m=\u001b[0m \u001b[0mmath_ops\u001b[0m\u001b[0;34m.\u001b[0m\u001b[0mcast\u001b[0m\u001b[0;34m(\u001b[0m\u001b[0mvalue\u001b[0m\u001b[0;34m,\u001b[0m \u001b[0mtensor\u001b[0m\u001b[0;34m.\u001b[0m\u001b[0mdtype\u001b[0m\u001b[0;34m)\u001b[0m\u001b[0;34m\u001b[0m\u001b[0;34m\u001b[0m\u001b[0m\n\u001b[1;32m   3726\u001b[0m       \u001b[0mconverted_inputs\u001b[0m\u001b[0;34m.\u001b[0m\u001b[0mappend\u001b[0m\u001b[0;34m(\u001b[0m\u001b[0mvalue\u001b[0m\u001b[0;34m)\u001b[0m\u001b[0;34m\u001b[0m\u001b[0;34m\u001b[0m\u001b[0m\n\u001b[0;32m-> 3727\u001b[0;31m     \u001b[0moutputs\u001b[0m \u001b[0;34m=\u001b[0m \u001b[0mself\u001b[0m\u001b[0;34m.\u001b[0m\u001b[0m_graph_fn\u001b[0m\u001b[0;34m(\u001b[0m\u001b[0;34m*\u001b[0m\u001b[0mconverted_inputs\u001b[0m\u001b[0;34m)\u001b[0m\u001b[0;34m\u001b[0m\u001b[0;34m\u001b[0m\u001b[0m\n\u001b[0m\u001b[1;32m   3728\u001b[0m \u001b[0;34m\u001b[0m\u001b[0m\n\u001b[1;32m   3729\u001b[0m     \u001b[0;31m# EagerTensor.numpy() will often make a copy to ensure memory safety.\u001b[0m\u001b[0;34m\u001b[0m\u001b[0;34m\u001b[0m\u001b[0;34m\u001b[0m\u001b[0m\n",
      "\u001b[0;32m/usr/local/lib/python3.6/dist-packages/tensorflow_core/python/eager/function.py\u001b[0m in \u001b[0;36m__call__\u001b[0;34m(self, *args, **kwargs)\u001b[0m\n\u001b[1;32m   1549\u001b[0m       \u001b[0mTypeError\u001b[0m\u001b[0;34m:\u001b[0m \u001b[0mFor\u001b[0m \u001b[0minvalid\u001b[0m \u001b[0mpositional\u001b[0m\u001b[0;34m/\u001b[0m\u001b[0mkeyword\u001b[0m \u001b[0margument\u001b[0m \u001b[0mcombinations\u001b[0m\u001b[0;34m.\u001b[0m\u001b[0;34m\u001b[0m\u001b[0;34m\u001b[0m\u001b[0m\n\u001b[1;32m   1550\u001b[0m     \"\"\"\n\u001b[0;32m-> 1551\u001b[0;31m     \u001b[0;32mreturn\u001b[0m \u001b[0mself\u001b[0m\u001b[0;34m.\u001b[0m\u001b[0m_call_impl\u001b[0m\u001b[0;34m(\u001b[0m\u001b[0margs\u001b[0m\u001b[0;34m,\u001b[0m \u001b[0mkwargs\u001b[0m\u001b[0;34m)\u001b[0m\u001b[0;34m\u001b[0m\u001b[0;34m\u001b[0m\u001b[0m\n\u001b[0m\u001b[1;32m   1552\u001b[0m \u001b[0;34m\u001b[0m\u001b[0m\n\u001b[1;32m   1553\u001b[0m   \u001b[0;32mdef\u001b[0m \u001b[0m_call_impl\u001b[0m\u001b[0;34m(\u001b[0m\u001b[0mself\u001b[0m\u001b[0;34m,\u001b[0m \u001b[0margs\u001b[0m\u001b[0;34m,\u001b[0m \u001b[0mkwargs\u001b[0m\u001b[0;34m,\u001b[0m \u001b[0mcancellation_manager\u001b[0m\u001b[0;34m=\u001b[0m\u001b[0;32mNone\u001b[0m\u001b[0;34m)\u001b[0m\u001b[0;34m:\u001b[0m\u001b[0;34m\u001b[0m\u001b[0;34m\u001b[0m\u001b[0m\n",
      "\u001b[0;32m/usr/local/lib/python3.6/dist-packages/tensorflow_core/python/eager/function.py\u001b[0m in \u001b[0;36m_call_impl\u001b[0;34m(self, args, kwargs, cancellation_manager)\u001b[0m\n\u001b[1;32m   1589\u001b[0m       raise TypeError(\"Keyword arguments {} unknown. Expected {}.\".format(\n\u001b[1;32m   1590\u001b[0m           list(kwargs.keys()), list(self._arg_keywords)))\n\u001b[0;32m-> 1591\u001b[0;31m     \u001b[0;32mreturn\u001b[0m \u001b[0mself\u001b[0m\u001b[0;34m.\u001b[0m\u001b[0m_call_flat\u001b[0m\u001b[0;34m(\u001b[0m\u001b[0margs\u001b[0m\u001b[0;34m,\u001b[0m \u001b[0mself\u001b[0m\u001b[0;34m.\u001b[0m\u001b[0mcaptured_inputs\u001b[0m\u001b[0;34m,\u001b[0m \u001b[0mcancellation_manager\u001b[0m\u001b[0;34m)\u001b[0m\u001b[0;34m\u001b[0m\u001b[0;34m\u001b[0m\u001b[0m\n\u001b[0m\u001b[1;32m   1592\u001b[0m \u001b[0;34m\u001b[0m\u001b[0m\n\u001b[1;32m   1593\u001b[0m   \u001b[0;32mdef\u001b[0m \u001b[0m_filtered_call\u001b[0m\u001b[0;34m(\u001b[0m\u001b[0mself\u001b[0m\u001b[0;34m,\u001b[0m \u001b[0margs\u001b[0m\u001b[0;34m,\u001b[0m \u001b[0mkwargs\u001b[0m\u001b[0;34m)\u001b[0m\u001b[0;34m:\u001b[0m\u001b[0;34m\u001b[0m\u001b[0;34m\u001b[0m\u001b[0m\n",
      "\u001b[0;32m/usr/local/lib/python3.6/dist-packages/tensorflow_core/python/eager/function.py\u001b[0m in \u001b[0;36m_call_flat\u001b[0;34m(self, args, captured_inputs, cancellation_manager)\u001b[0m\n\u001b[1;32m   1690\u001b[0m       \u001b[0;31m# No tape is watching; skip to running the function.\u001b[0m\u001b[0;34m\u001b[0m\u001b[0;34m\u001b[0m\u001b[0;34m\u001b[0m\u001b[0m\n\u001b[1;32m   1691\u001b[0m       return self._build_call_outputs(self._inference_function.call(\n\u001b[0;32m-> 1692\u001b[0;31m           ctx, args, cancellation_manager=cancellation_manager))\n\u001b[0m\u001b[1;32m   1693\u001b[0m     forward_backward = self._select_forward_and_backward_functions(\n\u001b[1;32m   1694\u001b[0m         \u001b[0margs\u001b[0m\u001b[0;34m,\u001b[0m\u001b[0;34m\u001b[0m\u001b[0;34m\u001b[0m\u001b[0m\n",
      "\u001b[0;32m/usr/local/lib/python3.6/dist-packages/tensorflow_core/python/eager/function.py\u001b[0m in \u001b[0;36mcall\u001b[0;34m(self, ctx, args, cancellation_manager)\u001b[0m\n\u001b[1;32m    543\u001b[0m               \u001b[0minputs\u001b[0m\u001b[0;34m=\u001b[0m\u001b[0margs\u001b[0m\u001b[0;34m,\u001b[0m\u001b[0;34m\u001b[0m\u001b[0;34m\u001b[0m\u001b[0m\n\u001b[1;32m    544\u001b[0m               \u001b[0mattrs\u001b[0m\u001b[0;34m=\u001b[0m\u001b[0;34m(\u001b[0m\u001b[0;34m\"executor_type\"\u001b[0m\u001b[0;34m,\u001b[0m \u001b[0mexecutor_type\u001b[0m\u001b[0;34m,\u001b[0m \u001b[0;34m\"config_proto\"\u001b[0m\u001b[0;34m,\u001b[0m \u001b[0mconfig\u001b[0m\u001b[0;34m)\u001b[0m\u001b[0;34m,\u001b[0m\u001b[0;34m\u001b[0m\u001b[0;34m\u001b[0m\u001b[0m\n\u001b[0;32m--> 545\u001b[0;31m               ctx=ctx)\n\u001b[0m\u001b[1;32m    546\u001b[0m         \u001b[0;32melse\u001b[0m\u001b[0;34m:\u001b[0m\u001b[0;34m\u001b[0m\u001b[0;34m\u001b[0m\u001b[0m\n\u001b[1;32m    547\u001b[0m           outputs = execute.execute_with_cancellation(\n",
      "\u001b[0;32m/usr/local/lib/python3.6/dist-packages/tensorflow_core/python/eager/execute.py\u001b[0m in \u001b[0;36mquick_execute\u001b[0;34m(op_name, num_outputs, inputs, attrs, ctx, name)\u001b[0m\n\u001b[1;32m     65\u001b[0m     \u001b[0;32melse\u001b[0m\u001b[0;34m:\u001b[0m\u001b[0;34m\u001b[0m\u001b[0;34m\u001b[0m\u001b[0m\n\u001b[1;32m     66\u001b[0m       \u001b[0mmessage\u001b[0m \u001b[0;34m=\u001b[0m \u001b[0me\u001b[0m\u001b[0;34m.\u001b[0m\u001b[0mmessage\u001b[0m\u001b[0;34m\u001b[0m\u001b[0;34m\u001b[0m\u001b[0m\n\u001b[0;32m---> 67\u001b[0;31m     \u001b[0msix\u001b[0m\u001b[0;34m.\u001b[0m\u001b[0mraise_from\u001b[0m\u001b[0;34m(\u001b[0m\u001b[0mcore\u001b[0m\u001b[0;34m.\u001b[0m\u001b[0m_status_to_exception\u001b[0m\u001b[0;34m(\u001b[0m\u001b[0me\u001b[0m\u001b[0;34m.\u001b[0m\u001b[0mcode\u001b[0m\u001b[0;34m,\u001b[0m \u001b[0mmessage\u001b[0m\u001b[0;34m)\u001b[0m\u001b[0;34m,\u001b[0m \u001b[0;32mNone\u001b[0m\u001b[0;34m)\u001b[0m\u001b[0;34m\u001b[0m\u001b[0;34m\u001b[0m\u001b[0m\n\u001b[0m\u001b[1;32m     68\u001b[0m   \u001b[0;32mexcept\u001b[0m \u001b[0mTypeError\u001b[0m \u001b[0;32mas\u001b[0m \u001b[0me\u001b[0m\u001b[0;34m:\u001b[0m\u001b[0;34m\u001b[0m\u001b[0;34m\u001b[0m\u001b[0m\n\u001b[1;32m     69\u001b[0m     keras_symbolic_tensors = [\n",
      "\u001b[0;32m/usr/local/lib/python3.6/dist-packages/six.py\u001b[0m in \u001b[0;36mraise_from\u001b[0;34m(value, from_value)\u001b[0m\n",
      "\u001b[0;31mResourceExhaustedError\u001b[0m:  OOM when allocating tensor with shape[2,32,540,960] and type float on /job:localhost/replica:0/task:0/device:GPU:0 by allocator GPU_0_bfc\n\t [[{{node Adam/gradients_1/gradients/SquaredDifference_30_grad/mul_1-0-TransposeNHWCToNCHW-LayoutOptimizer}}]]\nHint: If you want to see a list of allocated tensors when OOM happens, add report_tensor_allocations_upon_oom to RunOptions for current allocation info.\n [Op:__inference_keras_scratch_graph_18745]\n\nFunction call stack:\nkeras_scratch_graph\n"
     ]
    }
   ],
   "source": [
    "for e in range(10001):\n",
    "    X_low, X_high = gen.flow_from_directory().__next__()\n",
    "    srgan.train(X_low, X_high)\n",
    "    if e % 100 == 0:\n",
    "        print('epoch', e)\n",
    "        srgan.valid(X_low, X_high)\n",
    "        \n",
    "        test_img_low = ((cv2.imread(test_low_path) - 127.5) / 127.5)[np.newaxis, :, :, :]\n",
    "        test_img_high = ((cv2.imread(test_high_path)- 127.5) / 127.5)[np.newaxis, :, :, :]\n",
    "\n",
    "        test_img_sr = srgan.generator.predict(test_img_low)\n",
    "        test_img_sr_int = ((test_img_sr * 127.5) + 127.5).astype('u1')[0]\n",
    "        test_out_path = 'data/out/'  + test_file.split('.')[0] + f'_test_{e}.jpg'\n",
    "        cv2.imwrite(test_out_path, test_img_sr_int)"
   ]
  },
  {
   "cell_type": "code",
   "execution_count": null,
   "metadata": {},
   "outputs": [],
   "source": [
    "# srgan.generator.save('20200511_generator.h5', include_optimizer=False)"
   ]
  },
  {
   "cell_type": "code",
   "execution_count": 10,
   "metadata": {},
   "outputs": [
    {
     "name": "stderr",
     "output_type": "stream",
     "text": [
      "/usr/local/lib/python3.6/dist-packages/keras/engine/saving.py:341: UserWarning: No training configuration found in save file: the model was *not* compiled. Compile it manually.\n",
      "  warnings.warn('No training configuration found in save file: '\n"
     ]
    }
   ],
   "source": [
    "from keras.models import Model, load_model\n",
    "from keras.engine.network import Network\n",
    "from keras.layers import Input\n",
    "\n",
    "pre_model = load_model('20200510_generator.h5')\n",
    "# pre_model = srgan.generator\n",
    "pre_net = Network(inputs=pre_model.input, outputs=pre_model.get_layer(pre_model.layers[-1].name).output, name='learned')\n",
    "\n",
    "input_layer = Input(shape = (270, 480, 3))\n",
    "sr_out = pre_net(input_layer)\n",
    "sr_generator = Model(input_layer, sr_out)\n"
   ]
  },
  {
   "cell_type": "code",
   "execution_count": null,
   "metadata": {},
   "outputs": [],
   "source": []
  },
  {
   "cell_type": "code",
   "execution_count": 11,
   "metadata": {},
   "outputs": [
    {
     "data": {
      "text/plain": [
       "True"
      ]
     },
     "execution_count": 11,
     "metadata": {},
     "output_type": "execute_result"
    }
   ],
   "source": [
    "img_list = []\n",
    "for i in range(4):\n",
    "    test_file = f'UBMk30rjy0o_17675_{i}.jpg'\n",
    "    path = input_dir_val + test_file\n",
    "    test_img_low = ((cv2.imread(path) - 127.5) / 127.5)\n",
    "    img_list.append(test_img_low)\n",
    "\n",
    "h0 = np.vstack([img_list[0], img_list[1]])\n",
    "h1 = np.vstack([img_list[2], img_list[3]])\n",
    "img = np.hstack([h0, h1])\n",
    "img_gen = sr_generator.predict(img.reshape((1, 270, 480, 3)))\n",
    "\n",
    "img_int = ((img_gen * 127.5) + 127.5).astype('u1').reshape((1080, 1920, 3))\n",
    "cv2.imwrite('out_premerged.jpg', img_int)"
   ]
  },
  {
   "cell_type": "code",
   "execution_count": null,
   "metadata": {},
   "outputs": [],
   "source": []
  }
 ],
 "metadata": {
  "kernelspec": {
   "display_name": "Python 3",
   "language": "python",
   "name": "python3"
  },
  "language_info": {
   "codemirror_mode": {
    "name": "ipython",
    "version": 3
   },
   "file_extension": ".py",
   "mimetype": "text/x-python",
   "name": "python",
   "nbconvert_exporter": "python",
   "pygments_lexer": "ipython3",
   "version": "3.6.9"
  }
 },
 "nbformat": 4,
 "nbformat_minor": 2
}
