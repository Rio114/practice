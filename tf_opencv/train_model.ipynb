{
 "cells": [
  {
   "cell_type": "code",
   "execution_count": 1,
   "metadata": {},
   "outputs": [
    {
     "name": "stderr",
     "output_type": "stream",
     "text": [
      "Using TensorFlow backend.\n"
     ]
    }
   ],
   "source": [
    "import numpy as np\n",
    "import cv2\n",
    "\n",
    "from tensorflow.compat.v1 import ConfigProto\n",
    "from tensorflow.compat.v1 import InteractiveSession\n",
    "config = ConfigProto()\n",
    "config.gpu_options.allow_growth = True\n",
    "session = InteractiveSession(config=config)\n",
    "\n",
    "from srgan2 import SRGAN\n",
    "from generator import ImageDataGenerator"
   ]
  },
  {
   "cell_type": "code",
   "execution_count": 2,
   "metadata": {},
   "outputs": [],
   "source": [
    "# !TF_ENABLE_GPU_GARBAGE_COLLECTION=false"
   ]
  },
  {
   "cell_type": "code",
   "execution_count": 3,
   "metadata": {},
   "outputs": [],
   "source": [
    "# from tensorflow.python.client import device_lib\n",
    "# device_lib.list_local_devices()"
   ]
  },
  {
   "cell_type": "code",
   "execution_count": 8,
   "metadata": {},
   "outputs": [],
   "source": [
    "input_dir = 'data/train/low/'\n",
    "tgt_dir = 'data/train/high/'\n",
    "\n",
    "input_dir_val = 'data/val/low/'\n",
    "tgt_dir_val = 'data/val/high/'\n",
    "\n",
    "\n",
    "test_file = 'UBMk30rjy0o_17675_1.jpg'\n",
    "test_low_path =  input_dir_val + test_file\n",
    "test_high_path = tgt_dir_val + test_file\n",
    "test_out_path = 'data/out/' + test_file\n",
    "test_test_path = 'data/test/' + test_file\n",
    "\n",
    "vgg_path = 'models/vgg16_notop.hdf5'\n",
    "\n",
    "input_shape = (270, 480, 3)\n",
    "tgt_shape = (540, 960, 3)\n",
    "\n",
    "batch_size = 2"
   ]
  },
  {
   "cell_type": "code",
   "execution_count": 9,
   "metadata": {},
   "outputs": [
    {
     "name": "stderr",
     "output_type": "stream",
     "text": [
      "/usr/local/lib/python3.6/dist-packages/keras/engine/saving.py:341: UserWarning: No training configuration found in save file: the model was *not* compiled. Compile it manually.\n",
      "  warnings.warn('No training configuration found in save file: '\n"
     ]
    }
   ],
   "source": [
    "srgan = SRGAN(vgg_path, batch_size, input_shape, tgt_shape)\n",
    "gen = ImageDataGenerator(input_dir, tgt_dir, batch_size)\n",
    "gen_valid = ImageDataGenerator(input_dir_val, tgt_dir_val, batch_size)"
   ]
  },
  {
   "cell_type": "code",
   "execution_count": 10,
   "metadata": {},
   "outputs": [],
   "source": [
    "# test_img_low = ((cv2.imread(test_low_path) - 127.5) / 127.5)[np.newaxis, :, :, :]\n",
    "# test_img_high = ((cv2.imread(test_high_path)- 127.5) / 127.5)[np.newaxis, :, :, :]\n",
    "\n",
    "# test_img_sr = srgan.generator.predict(test_img_low)\n",
    "# test_img_sr_int = ((test_img_sr * 127.5) + 127.5).astype('u1')[0]\n",
    "# cv2.imwrite(test_test_path, test_img_sr_int)"
   ]
  },
  {
   "cell_type": "code",
   "execution_count": 11,
   "metadata": {
    "scrolled": true
   },
   "outputs": [
    {
     "name": "stdout",
     "output_type": "stream",
     "text": [
      "epoch 0\n",
      "d_loss_real:1.1484068632125854, d_loss_fake:0.38119134306907654, vgg_loss:17.1591854095459\n",
      "epoch 100\n",
      "d_loss_real:0.7196857929229736, d_loss_fake:0.6614207029342651, vgg_loss:3.5309343338012695\n",
      "epoch 200\n",
      "d_loss_real:0.7170820236206055, d_loss_fake:0.6391987800598145, vgg_loss:2.3811795711517334\n",
      "epoch 300\n",
      "d_loss_real:0.6957992315292358, d_loss_fake:0.6954551935195923, vgg_loss:2.9955098628997803\n",
      "epoch 400\n",
      "d_loss_real:0.697943925857544, d_loss_fake:0.6946111917495728, vgg_loss:3.131446599960327\n",
      "epoch 500\n",
      "d_loss_real:0.7416832447052002, d_loss_fake:0.7165399789810181, vgg_loss:2.930420160293579\n",
      "epoch 600\n",
      "d_loss_real:0.6703459024429321, d_loss_fake:0.6869553327560425, vgg_loss:2.786417007446289\n",
      "epoch 700\n",
      "d_loss_real:0.7435316443443298, d_loss_fake:0.7065401077270508, vgg_loss:1.951074242591858\n",
      "epoch 800\n",
      "d_loss_real:0.7239294052124023, d_loss_fake:0.6618557572364807, vgg_loss:1.2817351818084717\n",
      "epoch 900\n",
      "d_loss_real:0.7529546618461609, d_loss_fake:0.6776461005210876, vgg_loss:1.6047145128250122\n",
      "epoch 1000\n",
      "d_loss_real:0.7242574691772461, d_loss_fake:0.6784306168556213, vgg_loss:0.907333493232727\n",
      "epoch 1100\n",
      "d_loss_real:0.7547767162322998, d_loss_fake:0.6853229999542236, vgg_loss:2.175684690475464\n",
      "epoch 1200\n",
      "d_loss_real:0.7122247219085693, d_loss_fake:0.7070722579956055, vgg_loss:3.0746970176696777\n",
      "epoch 1300\n",
      "d_loss_real:0.6658979058265686, d_loss_fake:0.6887354850769043, vgg_loss:2.8975026607513428\n",
      "epoch 1400\n",
      "d_loss_real:0.6880239248275757, d_loss_fake:0.7267736196517944, vgg_loss:1.3766359090805054\n",
      "epoch 1500\n",
      "d_loss_real:0.7237833738327026, d_loss_fake:0.674618124961853, vgg_loss:0.8074819445610046\n",
      "epoch 1600\n",
      "d_loss_real:0.7215536832809448, d_loss_fake:0.7112791538238525, vgg_loss:2.698944330215454\n",
      "epoch 1700\n",
      "d_loss_real:0.7596725821495056, d_loss_fake:0.7127977609634399, vgg_loss:1.434381127357483\n",
      "epoch 1800\n",
      "d_loss_real:0.6927429437637329, d_loss_fake:0.6832199096679688, vgg_loss:1.4698067903518677\n",
      "epoch 1900\n",
      "d_loss_real:0.6969584226608276, d_loss_fake:0.6461994051933289, vgg_loss:2.5617799758911133\n",
      "epoch 2000\n",
      "d_loss_real:0.7251655459403992, d_loss_fake:0.6545321941375732, vgg_loss:1.8352130651474\n",
      "epoch 2100\n",
      "d_loss_real:0.7156535387039185, d_loss_fake:0.6573874950408936, vgg_loss:2.0611391067504883\n",
      "epoch 2200\n",
      "d_loss_real:0.7116972804069519, d_loss_fake:0.7881934642791748, vgg_loss:1.6575852632522583\n",
      "epoch 2300\n",
      "d_loss_real:0.7326655387878418, d_loss_fake:0.6968691945075989, vgg_loss:1.9162697792053223\n",
      "epoch 2400\n",
      "d_loss_real:0.6930021047592163, d_loss_fake:0.6750108003616333, vgg_loss:1.6288411617279053\n",
      "epoch 2500\n",
      "d_loss_real:0.700971245765686, d_loss_fake:0.6651803255081177, vgg_loss:1.8004100322723389\n",
      "epoch 2600\n",
      "d_loss_real:0.6975887417793274, d_loss_fake:0.6878280639648438, vgg_loss:2.2882487773895264\n",
      "epoch 2700\n",
      "d_loss_real:0.6356614828109741, d_loss_fake:0.735270619392395, vgg_loss:0.890948474407196\n",
      "epoch 2800\n",
      "d_loss_real:0.7326412200927734, d_loss_fake:0.6884252429008484, vgg_loss:1.145277738571167\n",
      "epoch 2900\n",
      "d_loss_real:0.7134642601013184, d_loss_fake:0.6727802753448486, vgg_loss:0.8800404071807861\n",
      "epoch 3000\n",
      "d_loss_real:0.7020911574363708, d_loss_fake:0.7075515389442444, vgg_loss:2.070143938064575\n",
      "epoch 3100\n",
      "d_loss_real:0.7457201480865479, d_loss_fake:0.7613294124603271, vgg_loss:1.7917499542236328\n",
      "epoch 3200\n",
      "d_loss_real:0.7240378856658936, d_loss_fake:0.6882758140563965, vgg_loss:1.1369273662567139\n",
      "epoch 3300\n",
      "d_loss_real:0.6906358599662781, d_loss_fake:0.69319748878479, vgg_loss:1.3563823699951172\n",
      "epoch 3400\n",
      "d_loss_real:0.7136178016662598, d_loss_fake:0.6560708284378052, vgg_loss:0.7888369560241699\n",
      "epoch 3500\n",
      "d_loss_real:0.7482090592384338, d_loss_fake:0.6558154225349426, vgg_loss:1.0185569524765015\n",
      "epoch 3600\n",
      "d_loss_real:0.6587622165679932, d_loss_fake:0.6858799457550049, vgg_loss:1.3519197702407837\n",
      "epoch 3700\n",
      "d_loss_real:0.6931799650192261, d_loss_fake:0.6714248061180115, vgg_loss:0.4669637382030487\n",
      "epoch 3800\n",
      "d_loss_real:0.6954779624938965, d_loss_fake:0.6999242305755615, vgg_loss:1.7379757165908813\n",
      "epoch 3900\n",
      "d_loss_real:0.6873013973236084, d_loss_fake:0.6716434359550476, vgg_loss:0.5790941119194031\n",
      "epoch 4000\n",
      "d_loss_real:0.709176778793335, d_loss_fake:0.666793704032898, vgg_loss:1.0623960494995117\n",
      "epoch 4100\n",
      "d_loss_real:0.7107372283935547, d_loss_fake:0.681463897228241, vgg_loss:1.2584377527236938\n",
      "epoch 4200\n",
      "d_loss_real:0.7050566673278809, d_loss_fake:0.6520601511001587, vgg_loss:1.2956640720367432\n",
      "epoch 4300\n",
      "d_loss_real:0.727774977684021, d_loss_fake:0.6734673976898193, vgg_loss:1.6575992107391357\n",
      "epoch 4400\n",
      "d_loss_real:0.7464479207992554, d_loss_fake:0.6976821422576904, vgg_loss:1.2592484951019287\n",
      "epoch 4500\n",
      "d_loss_real:0.7270150184631348, d_loss_fake:0.6938980221748352, vgg_loss:1.5000218152999878\n",
      "epoch 4600\n",
      "d_loss_real:0.7263607382774353, d_loss_fake:0.6328402757644653, vgg_loss:1.2690881490707397\n",
      "epoch 4700\n",
      "d_loss_real:0.6699948906898499, d_loss_fake:0.6132400631904602, vgg_loss:0.5764421820640564\n",
      "epoch 4800\n",
      "d_loss_real:0.6989586353302002, d_loss_fake:0.6888478994369507, vgg_loss:1.38608980178833\n",
      "epoch 4900\n",
      "d_loss_real:0.6700560450553894, d_loss_fake:0.62254798412323, vgg_loss:1.1390429735183716\n",
      "epoch 5000\n",
      "d_loss_real:0.7328954935073853, d_loss_fake:0.6310397386550903, vgg_loss:1.2472542524337769\n",
      "epoch 5100\n",
      "d_loss_real:0.6733596324920654, d_loss_fake:0.6730356812477112, vgg_loss:1.8871941566467285\n",
      "epoch 5200\n",
      "d_loss_real:0.7244783639907837, d_loss_fake:0.6871554851531982, vgg_loss:1.2471652030944824\n",
      "epoch 5300\n",
      "d_loss_real:0.7159750461578369, d_loss_fake:0.653720498085022, vgg_loss:0.9644830226898193\n",
      "epoch 5400\n",
      "d_loss_real:0.7084289789199829, d_loss_fake:0.6789699792861938, vgg_loss:0.7754684686660767\n",
      "epoch 5500\n",
      "d_loss_real:0.7322583198547363, d_loss_fake:0.6919976472854614, vgg_loss:2.2692596912384033\n",
      "epoch 5600\n",
      "d_loss_real:0.7104520797729492, d_loss_fake:0.7351272106170654, vgg_loss:1.4000874757766724\n",
      "epoch 5700\n",
      "d_loss_real:0.674232006072998, d_loss_fake:0.6962919235229492, vgg_loss:1.6735725402832031\n",
      "epoch 5800\n",
      "d_loss_real:0.7516192197799683, d_loss_fake:0.7081037759780884, vgg_loss:1.258172869682312\n",
      "epoch 5900\n",
      "d_loss_real:0.6809525489807129, d_loss_fake:0.7135674357414246, vgg_loss:1.140261173248291\n",
      "epoch 6000\n",
      "d_loss_real:0.7218322157859802, d_loss_fake:0.6909149885177612, vgg_loss:2.0840091705322266\n",
      "epoch 6100\n",
      "d_loss_real:0.6555017232894897, d_loss_fake:0.7161381244659424, vgg_loss:1.314085841178894\n",
      "epoch 6200\n",
      "d_loss_real:0.710162878036499, d_loss_fake:0.661282479763031, vgg_loss:1.2498719692230225\n",
      "epoch 6300\n",
      "d_loss_real:0.7220847010612488, d_loss_fake:0.636439859867096, vgg_loss:1.276117205619812\n",
      "epoch 6400\n",
      "d_loss_real:0.7400230169296265, d_loss_fake:0.6360366344451904, vgg_loss:1.778877854347229\n",
      "epoch 6500\n",
      "d_loss_real:0.7405533790588379, d_loss_fake:0.6890097856521606, vgg_loss:2.7942023277282715\n",
      "epoch 6600\n",
      "d_loss_real:0.7179008722305298, d_loss_fake:0.6903460025787354, vgg_loss:0.9395624399185181\n",
      "epoch 6700\n",
      "d_loss_real:0.7283188700675964, d_loss_fake:0.7077831029891968, vgg_loss:1.483291506767273\n",
      "epoch 6800\n",
      "d_loss_real:0.7222903966903687, d_loss_fake:0.6957970857620239, vgg_loss:1.6703100204467773\n",
      "epoch 6900\n",
      "d_loss_real:0.6918528079986572, d_loss_fake:0.6788505911827087, vgg_loss:1.3809630870819092\n",
      "epoch 7000\n",
      "d_loss_real:0.7012985944747925, d_loss_fake:0.6981428861618042, vgg_loss:1.1270787715911865\n",
      "epoch 7100\n",
      "d_loss_real:0.6759696006774902, d_loss_fake:0.6751104593276978, vgg_loss:0.7100809216499329\n",
      "epoch 7200\n",
      "d_loss_real:0.7655359506607056, d_loss_fake:0.6006325483322144, vgg_loss:0.7704575657844543\n",
      "epoch 7300\n",
      "d_loss_real:0.7728296518325806, d_loss_fake:0.7183160781860352, vgg_loss:1.0538984537124634\n",
      "epoch 7400\n",
      "d_loss_real:0.7332526445388794, d_loss_fake:0.6893119215965271, vgg_loss:1.5691863298416138\n",
      "epoch 7500\n",
      "d_loss_real:0.6896555423736572, d_loss_fake:0.6875934600830078, vgg_loss:2.135930061340332\n",
      "epoch 7600\n",
      "d_loss_real:0.763782262802124, d_loss_fake:0.6828601360321045, vgg_loss:1.6556501388549805\n",
      "epoch 7700\n",
      "d_loss_real:0.7209432125091553, d_loss_fake:0.6553850173950195, vgg_loss:1.4189616441726685\n",
      "epoch 7800\n",
      "d_loss_real:0.7146013379096985, d_loss_fake:0.6964527368545532, vgg_loss:1.154862403869629\n",
      "epoch 7900\n",
      "d_loss_real:0.7300068140029907, d_loss_fake:0.6882085204124451, vgg_loss:1.217012882232666\n",
      "epoch 8000\n"
     ]
    },
    {
     "name": "stdout",
     "output_type": "stream",
     "text": [
      "d_loss_real:0.6833106875419617, d_loss_fake:0.6442772746086121, vgg_loss:1.0728516578674316\n",
      "epoch 8100\n",
      "d_loss_real:0.7413156628608704, d_loss_fake:0.7254693508148193, vgg_loss:0.7106648087501526\n",
      "epoch 8200\n",
      "d_loss_real:0.7031893730163574, d_loss_fake:0.6904920339584351, vgg_loss:0.7868041396141052\n",
      "epoch 8300\n",
      "d_loss_real:0.7178293466567993, d_loss_fake:0.6323229074478149, vgg_loss:0.8455759286880493\n",
      "epoch 8400\n",
      "d_loss_real:0.7088638544082642, d_loss_fake:0.7378358840942383, vgg_loss:1.6042277812957764\n",
      "epoch 8500\n",
      "d_loss_real:0.7142859697341919, d_loss_fake:0.6675015687942505, vgg_loss:0.8343786597251892\n",
      "epoch 8600\n",
      "d_loss_real:0.7022349238395691, d_loss_fake:0.6752859354019165, vgg_loss:1.4925854206085205\n",
      "epoch 8700\n",
      "d_loss_real:0.7090908288955688, d_loss_fake:0.6545664072036743, vgg_loss:0.7444463968276978\n",
      "epoch 8800\n",
      "d_loss_real:0.6938109397888184, d_loss_fake:0.6627925634384155, vgg_loss:1.5483609437942505\n",
      "epoch 8900\n",
      "d_loss_real:0.7126727104187012, d_loss_fake:0.630710244178772, vgg_loss:1.8319870233535767\n",
      "epoch 9000\n",
      "d_loss_real:0.6917139291763306, d_loss_fake:0.6710976362228394, vgg_loss:2.376532793045044\n",
      "epoch 9100\n",
      "d_loss_real:0.7374100089073181, d_loss_fake:0.6701366901397705, vgg_loss:3.4393415451049805\n",
      "epoch 9200\n",
      "d_loss_real:0.6847852468490601, d_loss_fake:0.6790856122970581, vgg_loss:0.6707698702812195\n",
      "epoch 9300\n",
      "d_loss_real:0.6917332410812378, d_loss_fake:0.6486932039260864, vgg_loss:1.4912736415863037\n",
      "epoch 9400\n",
      "d_loss_real:0.6797167062759399, d_loss_fake:0.6705633401870728, vgg_loss:2.5441298484802246\n",
      "epoch 9500\n",
      "d_loss_real:0.6791571378707886, d_loss_fake:0.6692993640899658, vgg_loss:0.6565840244293213\n",
      "epoch 9600\n",
      "d_loss_real:0.6794137954711914, d_loss_fake:0.7068423628807068, vgg_loss:1.7865455150604248\n",
      "epoch 9700\n",
      "d_loss_real:0.6894170045852661, d_loss_fake:0.6927682161331177, vgg_loss:1.399276614189148\n",
      "epoch 9800\n",
      "d_loss_real:0.6775484085083008, d_loss_fake:0.6757327318191528, vgg_loss:1.1647796630859375\n",
      "epoch 9900\n",
      "d_loss_real:0.6629812717437744, d_loss_fake:0.7270311713218689, vgg_loss:2.137026309967041\n",
      "epoch 10000\n",
      "d_loss_real:0.6777844429016113, d_loss_fake:0.6891262531280518, vgg_loss:1.4356030225753784\n"
     ]
    }
   ],
   "source": [
    "for e in range(10001):\n",
    "    X_low, X_high = gen.flow_from_directory().__next__()\n",
    "    srgan.train(X_low, X_high)\n",
    "    if e % 100 == 0:\n",
    "        print('epoch', e)\n",
    "        srgan.valid(X_low, X_high)\n",
    "        \n",
    "        test_img_low = ((cv2.imread(test_low_path) - 127.5) / 127.5)[np.newaxis, :, :, :]\n",
    "        test_img_high = ((cv2.imread(test_high_path)- 127.5) / 127.5)[np.newaxis, :, :, :]\n",
    "\n",
    "        test_img_sr = srgan.generator.predict(test_img_low)\n",
    "        test_img_sr_int = ((test_img_sr * 127.5) + 127.5).astype('u1')[0]\n",
    "        test_out_path = 'data/out/'  + test_file.split('.')[0] + f'_test_{e}.jpg'\n",
    "        cv2.imwrite(test_out_path, test_img_sr_int)"
   ]
  },
  {
   "cell_type": "code",
   "execution_count": 12,
   "metadata": {},
   "outputs": [],
   "source": [
    "srgan.generator.save('models/20200512_generator.h5', include_optimizer=False)"
   ]
  },
  {
   "cell_type": "code",
   "execution_count": 13,
   "metadata": {},
   "outputs": [],
   "source": [
    "from keras.models import Model, load_model\n",
    "from keras.engine.network import Network\n",
    "from keras.layers import Input\n",
    "\n",
    "# pre_model = load_model('20200510_generator.h5')\n",
    "pre_model = srgan.generator\n",
    "pre_net = Network(inputs=pre_model.input, outputs=pre_model.get_layer(pre_model.layers[-1].name).output, name='learned')\n",
    "\n",
    "input_layer = Input(shape = (540, 960, 3))\n",
    "sr_out = pre_net(input_layer)\n",
    "sr_generator = Model(input_layer, sr_out)\n"
   ]
  },
  {
   "cell_type": "code",
   "execution_count": null,
   "metadata": {},
   "outputs": [],
   "source": []
  },
  {
   "cell_type": "code",
   "execution_count": 14,
   "metadata": {},
   "outputs": [
    {
     "data": {
      "text/plain": [
       "True"
      ]
     },
     "execution_count": 14,
     "metadata": {},
     "output_type": "execute_result"
    }
   ],
   "source": [
    "img_list = []\n",
    "for i in range(4):\n",
    "    test_file = f'UBMk30rjy0o_17675_{i}.jpg'\n",
    "    path = input_dir_val + test_file\n",
    "    test_img_low = ((cv2.imread(path) - 127.5) / 127.5)\n",
    "    img_list.append(test_img_low)\n",
    "\n",
    "h0 = np.vstack([img_list[0], img_list[1]])\n",
    "h1 = np.vstack([img_list[2], img_list[3]])\n",
    "img = np.hstack([h0, h1])\n",
    "img_gen = sr_generator.predict(img.reshape((1, 540, 960, 3)))\n",
    "\n",
    "img_int = ((img_gen * 127.5) + 127.5).astype('u1').reshape((1080, 1920, 3))\n",
    "cv2.imwrite('data/test/20200511_out_premerged.jpg', img_int)"
   ]
  },
  {
   "cell_type": "code",
   "execution_count": null,
   "metadata": {},
   "outputs": [],
   "source": []
  }
 ],
 "metadata": {
  "kernelspec": {
   "display_name": "Python 3",
   "language": "python",
   "name": "python3"
  },
  "language_info": {
   "codemirror_mode": {
    "name": "ipython",
    "version": 3
   },
   "file_extension": ".py",
   "mimetype": "text/x-python",
   "name": "python",
   "nbconvert_exporter": "python",
   "pygments_lexer": "ipython3",
   "version": "3.6.9"
  }
 },
 "nbformat": 4,
 "nbformat_minor": 2
}
