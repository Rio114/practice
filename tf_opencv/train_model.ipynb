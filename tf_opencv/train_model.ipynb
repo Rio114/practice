{
 "cells": [
  {
   "cell_type": "code",
   "execution_count": null,
   "metadata": {},
   "outputs": [],
   "source": [
    "from srgan import SRGAN"
   ]
  },
  {
   "cell_type": "code",
   "execution_count": null,
   "metadata": {},
   "outputs": [],
   "source": [
    "from generator import ImageDataGenerator"
   ]
  },
  {
   "cell_type": "code",
   "execution_count": null,
   "metadata": {},
   "outputs": [],
   "source": [
    "from tensorflow.compat.v1 import ConfigProto\n",
    "from tensorflow.compat.v1 import InteractiveSession\n",
    "\n",
    "config = ConfigProto()\n",
    "config.gpu_options.allow_growth = True\n",
    "session = InteractiveSession(config=config)"
   ]
  },
  {
   "cell_type": "code",
   "execution_count": null,
   "metadata": {},
   "outputs": [],
   "source": [
    "from tensorflow.python.client import device_lib\n",
    "device_lib.list_local_devices()"
   ]
  },
  {
   "cell_type": "code",
   "execution_count": null,
   "metadata": {},
   "outputs": [],
   "source": [
    "vgg_path = 'vgg16_notop.hdf5'\n",
    "input_shape=(270, 480, 3)\n",
    "tgt_shape=(1080, 1920, 3)\n",
    "\n",
    "# input_shape=(180, 320, 3)\n",
    "# tgt_shape=(720, 1280, 3)\n",
    "\n",
    "# input_shape=(90, 160, 3)\n",
    "# tgt_shape=(360, 640, 3)\n",
    "\n",
    "# input_shape=(60, 106, 3)\n",
    "# tgt_shape=(240, 424, 3)\n",
    "\n",
    "batch_size = 4\n",
    "srgan = SRGAN(vgg_path, batch_size, input_shape, tgt_shape)"
   ]
  },
  {
   "cell_type": "code",
   "execution_count": null,
   "metadata": {
    "scrolled": true
   },
   "outputs": [],
   "source": [
    "srgan.vgg_combined.get_weights()[0]"
   ]
  },
  {
   "cell_type": "code",
   "execution_count": null,
   "metadata": {},
   "outputs": [],
   "source": [
    "input_dir = 'data/low/'\n",
    "tgt_dir = 'data/high/'\n",
    "gen = ImageDataGenerator(input_dir, tgt_dir, batch_size)"
   ]
  },
  {
   "cell_type": "code",
   "execution_count": null,
   "metadata": {
    "scrolled": true
   },
   "outputs": [],
   "source": [
    "for e in range(100):\n",
    "    print('epoch', e)\n",
    "    data = gen.flow_from_directory().__next__()\n",
    "    X_low = data[0]\n",
    "    X_high = data[1]\n",
    "    srgan.train(X_low, X_high)"
   ]
  },
  {
   "cell_type": "code",
   "execution_count": null,
   "metadata": {
    "scrolled": true
   },
   "outputs": [],
   "source": [
    "srgan.vgg_combined.get_weights()[0]"
   ]
  },
  {
   "cell_type": "code",
   "execution_count": null,
   "metadata": {},
   "outputs": [],
   "source": []
  }
 ],
 "metadata": {
  "kernelspec": {
   "display_name": "Python 3",
   "language": "python",
   "name": "python3"
  },
  "language_info": {
   "codemirror_mode": {
    "name": "ipython",
    "version": 3
   },
   "file_extension": ".py",
   "mimetype": "text/x-python",
   "name": "python",
   "nbconvert_exporter": "python",
   "pygments_lexer": "ipython3",
   "version": "3.6.9"
  }
 },
 "nbformat": 4,
 "nbformat_minor": 2
}
