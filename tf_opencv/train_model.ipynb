{
 "cells": [
  {
   "cell_type": "code",
   "execution_count": 1,
   "metadata": {},
   "outputs": [
    {
     "name": "stderr",
     "output_type": "stream",
     "text": [
      "Using TensorFlow backend.\n"
     ]
    }
   ],
   "source": [
    "import numpy as np\n",
    "import cv2\n",
    "\n",
    "from tensorflow.compat.v1 import ConfigProto\n",
    "from tensorflow.compat.v1 import InteractiveSession\n",
    "config = ConfigProto()\n",
    "config.gpu_options.allow_growth = True\n",
    "session = InteractiveSession(config=config)\n",
    "\n",
    "from srgan2 import SRGAN\n",
    "from generator import ImageDataGenerator"
   ]
  },
  {
   "cell_type": "code",
   "execution_count": 2,
   "metadata": {},
   "outputs": [],
   "source": [
    "# !TF_ENABLE_GPU_GARBAGE_COLLECTION=false"
   ]
  },
  {
   "cell_type": "code",
   "execution_count": 3,
   "metadata": {},
   "outputs": [],
   "source": [
    "# from tensorflow.python.client import device_lib\n",
    "# device_lib.list_local_devices()"
   ]
  },
  {
   "cell_type": "code",
   "execution_count": 4,
   "metadata": {},
   "outputs": [],
   "source": [
    "input_dir = 'data/train/low/'\n",
    "tgt_dir = 'data/train/high/'\n",
    "\n",
    "input_dir_val = 'data/val/low/'\n",
    "tgt_dir_val = 'data/val/high/'\n",
    "\n",
    "\n",
    "test_file = 'UBMk30rjy0o_17675_1.jpg'\n",
    "test_low_path =  input_dir_val + test_file\n",
    "test_high_path = tgt_dir_val + test_file\n",
    "test_out_path = 'data/out/' + test_file\n",
    "test_test_path = 'data/test/' + test_file\n",
    "\n",
    "vgg_path = 'models/vgg16_notop.hdf5'\n",
    "\n",
    "input_shape = (270, 480, 3)\n",
    "tgt_shape = (540, 960, 3)\n",
    "\n",
    "batch_size = 1"
   ]
  },
  {
   "cell_type": "code",
   "execution_count": 5,
   "metadata": {},
   "outputs": [
    {
     "name": "stderr",
     "output_type": "stream",
     "text": [
      "/home/keras/srgan2.py:114: UserWarning: Update your `Network` call to the Keras 2 API: `Network(name=\"generator\", inputs=Tensor(\"in..., outputs=Tensor(\"ou...)`\n",
      "  self.shared_generator = Network(input=layers[0], output=layers[-1], name='generator')\n",
      "/home/keras/srgan2.py:141: UserWarning: Update your `Network` call to the Keras 2 API: `Network(name=\"discriminator\", inputs=Tensor(\"in..., outputs=Tensor(\"de...)`\n",
      "  self.shared_discriminator = Network(input=layers[0], output=layers[-1], name='discriminator')\n",
      "/usr/local/lib/python3.6/dist-packages/keras/engine/saving.py:341: UserWarning: No training configuration found in save file: the model was *not* compiled. Compile it manually.\n",
      "  warnings.warn('No training configuration found in save file: '\n"
     ]
    }
   ],
   "source": [
    "srgan = SRGAN(vgg_path, batch_size, input_shape, tgt_shape)\n",
    "gen = ImageDataGenerator(input_dir, tgt_dir, batch_size)\n",
    "gen_valid = ImageDataGenerator(input_dir_val, tgt_dir_val, batch_size)"
   ]
  },
  {
   "cell_type": "code",
   "execution_count": null,
   "metadata": {
    "scrolled": true
   },
   "outputs": [
    {
     "name": "stdout",
     "output_type": "stream",
     "text": [
      "epoch 0\n",
      "d_loss_real:0.45005810260772705, d_loss_fake:0.9880667924880981, vgg_loss:7.561858654022217\n",
      "epoch 100\n",
      "d_loss_real:0.7159875631332397, d_loss_fake:0.6700860857963562, vgg_loss:8.77290153503418\n"
     ]
    }
   ],
   "source": [
    "for e in range(10001):\n",
    "    X_low, X_high = gen.flow_from_directory().__next__()\n",
    "    srgan.train(X_low, X_high)\n",
    "    if e % 100 == 0:\n",
    "        print('epoch', e)\n",
    "        srgan.valid(X_low, X_high)\n",
    "        \n",
    "        test_img_low = ((cv2.imread(test_low_path) - 127.5) / 127.5)[np.newaxis, :, :, :]\n",
    "        test_img_high = ((cv2.imread(test_high_path)- 127.5) / 127.5)[np.newaxis, :, :, :]\n",
    "\n",
    "        test_img_sr = srgan.generator.predict(test_img_low)\n",
    "        test_img_sr_int = ((test_img_sr * 127.5) + 127.5).astype('u1')[0]\n",
    "        test_out_path = 'data/out/'  + test_file.split('.')[0] + f'_test_{e}.jpg'\n",
    "        cv2.imwrite(test_out_path, test_img_sr_int)"
   ]
  },
  {
   "cell_type": "code",
   "execution_count": null,
   "metadata": {},
   "outputs": [],
   "source": [
    "srgan.generator.save('models/20200512_generator.h5', include_optimizer=False)"
   ]
  },
  {
   "cell_type": "code",
   "execution_count": null,
   "metadata": {},
   "outputs": [],
   "source": [
    "from keras.models import Model, load_model\n",
    "from keras.engine.network import Network\n",
    "from keras.layers import Input\n",
    "\n",
    "# pre_model = load_model('20200510_generator.h5')\n",
    "pre_model = srgan.generator\n",
    "pre_net = Network(inputs=pre_model.input, outputs=pre_model.get_layer(pre_model.layers[-1].name).output, name='learned')\n",
    "\n",
    "input_layer = Input(shape = (540, 960, 3))\n",
    "sr_out = pre_net(input_layer)\n",
    "sr_generator = Model(input_layer, sr_out)\n"
   ]
  },
  {
   "cell_type": "code",
   "execution_count": null,
   "metadata": {},
   "outputs": [],
   "source": [
    "img_list = []\n",
    "for i in range(4):\n",
    "    test_file = f'UBMk30rjy0o_17675_{i}.jpg'\n",
    "    path = input_dir_val + test_file\n",
    "    test_img_low = ((cv2.imread(path) - 127.5) / 127.5)\n",
    "    img_list.append(test_img_low)\n",
    "\n",
    "h0 = np.vstack([img_list[0], img_list[1]])\n",
    "h1 = np.vstack([img_list[2], img_list[3]])\n",
    "img = np.hstack([h0, h1])\n",
    "img_gen = sr_generator.predict(img.reshape((1, 540, 960, 3)))\n",
    "\n",
    "img_int = ((img_gen * 127.5) + 127.5).astype('u1').reshape((1080, 1920, 3))\n",
    "cv2.imwrite('data/test/20200511_out_premerged.jpg', img_int)"
   ]
  },
  {
   "cell_type": "code",
   "execution_count": null,
   "metadata": {},
   "outputs": [],
   "source": []
  }
 ],
 "metadata": {
  "kernelspec": {
   "display_name": "Python 3",
   "language": "python",
   "name": "python3"
  },
  "language_info": {
   "codemirror_mode": {
    "name": "ipython",
    "version": 3
   },
   "file_extension": ".py",
   "mimetype": "text/x-python",
   "name": "python",
   "nbconvert_exporter": "python",
   "pygments_lexer": "ipython3",
   "version": "3.6.9"
  }
 },
 "nbformat": 4,
 "nbformat_minor": 2
}
