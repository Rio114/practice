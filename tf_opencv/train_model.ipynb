{
 "cells": [
  {
   "cell_type": "code",
   "execution_count": 1,
   "metadata": {},
   "outputs": [
    {
     "name": "stderr",
     "output_type": "stream",
     "text": [
      "Using TensorFlow backend.\n"
     ]
    }
   ],
   "source": [
    "import numpy as np\n",
    "import cv2\n",
    "\n",
    "from tensorflow.compat.v1 import ConfigProto\n",
    "from tensorflow.compat.v1 import InteractiveSession\n",
    "config = ConfigProto()\n",
    "# config.gpu_options.allow_growth = True\n",
    "config.gpu_options.per_process_gpu_memory_fraction = 0.8\n",
    "session = InteractiveSession(config=config)\n",
    "\n",
    "from srgan2 import SRGAN\n",
    "from generator import ImageDataGenerator"
   ]
  },
  {
   "cell_type": "code",
   "execution_count": 2,
   "metadata": {},
   "outputs": [],
   "source": [
    "# !TF_ENABLE_GPU_GARBAGE_COLLECTION=false"
   ]
  },
  {
   "cell_type": "code",
   "execution_count": 3,
   "metadata": {},
   "outputs": [],
   "source": [
    "# from tensorflow.python.client import device_lib\n",
    "# device_lib.list_local_devices()"
   ]
  },
  {
   "cell_type": "code",
   "execution_count": 4,
   "metadata": {},
   "outputs": [],
   "source": [
    "r = 2\n",
    "input_dir = f'data/train/{r}/low/'\n",
    "tgt_dir = f'data/train/{r}/high/'\n",
    "\n",
    "input_dir_val = f'data/val/{r}/low/'\n",
    "tgt_dir_val = f'data/val/{r}/high/'\n",
    "\n",
    "\n",
    "test_file = 'UBMk30rjy0o_17675_42.jpg'\n",
    "test_low_path =  input_dir_val + test_file\n",
    "test_high_path = tgt_dir_val + test_file\n",
    "test_out_path = 'data/out/' + test_file\n",
    "test_test_path = 'data/test/' + test_file\n",
    "\n",
    "vgg_path = 'models/vgg16_notop.hdf5'\n",
    "\n",
    "input_shape = (67, 120, 3)\n",
    "tgt_shape = (134, 240, 3)\n",
    "\n",
    "batch_size = 16"
   ]
  },
  {
   "cell_type": "code",
   "execution_count": 5,
   "metadata": {
    "scrolled": true
   },
   "outputs": [
    {
     "name": "stderr",
     "output_type": "stream",
     "text": [
      "/home/keras/srgan2.py:102: UserWarning: Update your `Network` call to the Keras 2 API: `Network(name=\"generator\", inputs=Tensor(\"in..., outputs=Tensor(\"ou...)`\n",
      "  self.shared_generator = Network(input=layers[0], output=layers[-1], name='generator')\n",
      "/home/keras/srgan2.py:131: UserWarning: Update your `Network` call to the Keras 2 API: `Network(name=\"discriminator\", inputs=Tensor(\"in..., outputs=Tensor(\"de...)`\n",
      "  self.shared_discriminator = Network(input=layers[0], output=layers[-1], name='discriminator')\n",
      "/usr/local/lib/python3.6/dist-packages/keras/engine/saving.py:341: UserWarning: No training configuration found in save file: the model was *not* compiled. Compile it manually.\n",
      "  warnings.warn('No training configuration found in save file: '\n"
     ]
    }
   ],
   "source": [
    "srgan = SRGAN(vgg_path, batch_size, input_shape, tgt_shape)\n",
    "gen = ImageDataGenerator(input_dir, tgt_dir, batch_size)\n",
    "gen_valid = ImageDataGenerator(input_dir_val, tgt_dir_val, batch_size)"
   ]
  },
  {
   "cell_type": "code",
   "execution_count": 6,
   "metadata": {
    "scrolled": true
   },
   "outputs": [
    {
     "name": "stdout",
     "output_type": "stream",
     "text": [
      "epoch 0\n",
      "d_loss_real:1.348144769668579, d_loss_fake:0.0859028548002243, vgg_loss:27.327592849731445\n",
      "epoch 100\n",
      "d_loss_real:0.713306188583374, d_loss_fake:0.6655640602111816, vgg_loss:6.495380878448486\n",
      "epoch 200\n",
      "d_loss_real:0.6893531084060669, d_loss_fake:0.6879932880401611, vgg_loss:7.170319557189941\n",
      "epoch 300\n",
      "d_loss_real:0.6710020303726196, d_loss_fake:0.7160060405731201, vgg_loss:4.387297630310059\n",
      "epoch 400\n",
      "d_loss_real:0.6943860054016113, d_loss_fake:0.6786378026008606, vgg_loss:3.887230634689331\n",
      "epoch 500\n",
      "d_loss_real:0.7051687836647034, d_loss_fake:0.672368586063385, vgg_loss:5.469685077667236\n",
      "epoch 600\n",
      "d_loss_real:0.6632356643676758, d_loss_fake:0.6883395910263062, vgg_loss:3.349947690963745\n",
      "epoch 700\n",
      "d_loss_real:0.7061704397201538, d_loss_fake:0.683529794216156, vgg_loss:4.129391670227051\n",
      "epoch 800\n",
      "d_loss_real:0.6782545447349548, d_loss_fake:0.6791698932647705, vgg_loss:3.3970985412597656\n",
      "epoch 900\n",
      "d_loss_real:0.6824143528938293, d_loss_fake:0.685114860534668, vgg_loss:3.660672187805176\n",
      "epoch 1000\n",
      "d_loss_real:0.708964467048645, d_loss_fake:0.6958678960800171, vgg_loss:5.399455547332764\n",
      "epoch 1100\n",
      "d_loss_real:0.7022975087165833, d_loss_fake:0.7125380039215088, vgg_loss:5.447351455688477\n",
      "epoch 1200\n",
      "d_loss_real:0.6910004615783691, d_loss_fake:0.6917115449905396, vgg_loss:3.650434970855713\n",
      "epoch 1300\n",
      "d_loss_real:0.6899987459182739, d_loss_fake:0.6995068788528442, vgg_loss:4.485098838806152\n",
      "epoch 1400\n",
      "d_loss_real:0.6834443807601929, d_loss_fake:0.6954536437988281, vgg_loss:6.855463027954102\n",
      "epoch 1500\n",
      "d_loss_real:0.6886771321296692, d_loss_fake:0.6822044849395752, vgg_loss:6.244729518890381\n",
      "epoch 1600\n",
      "d_loss_real:0.704309344291687, d_loss_fake:0.6979735493659973, vgg_loss:2.565629720687866\n",
      "epoch 1700\n",
      "d_loss_real:0.6917595863342285, d_loss_fake:0.6886532306671143, vgg_loss:6.612246990203857\n",
      "epoch 1800\n",
      "d_loss_real:0.6897037029266357, d_loss_fake:0.6983603239059448, vgg_loss:5.231740474700928\n",
      "epoch 1900\n",
      "d_loss_real:0.6967452764511108, d_loss_fake:0.6941176056861877, vgg_loss:3.3561251163482666\n",
      "epoch 2000\n",
      "d_loss_real:0.6978919506072998, d_loss_fake:0.6891751289367676, vgg_loss:4.802577495574951\n"
     ]
    }
   ],
   "source": [
    "for e in range(2001):\n",
    "    X_low, X_high = gen.flow_from_directory().__next__()\n",
    "    srgan.train(X_low, X_high)\n",
    "    if e % 100 == 0:\n",
    "        print('epoch', e)\n",
    "        srgan.valid(X_low, X_high)\n",
    "        \n",
    "        test_img_low = ((cv2.imread(test_low_path) - 127.5) / 127.5)[np.newaxis, :, :, :]\n",
    "        test_img_high = ((cv2.imread(test_high_path)- 127.5) / 127.5)[np.newaxis, :, :, :]\n",
    "\n",
    "        test_img_sr = srgan.generator.predict(test_img_low)\n",
    "        test_img_sr_int = ((test_img_sr * 127.5) + 127.5).astype('u1')[0]\n",
    "        test_out_path = 'data/out/'  + test_file.split('.')[0] + f'_test_{e}.jpg'\n",
    "        cv2.imwrite(test_out_path, test_img_sr_int)"
   ]
  },
  {
   "cell_type": "code",
   "execution_count": 7,
   "metadata": {},
   "outputs": [],
   "source": [
    "srgan.generator.save('models/20200515_generator.h5', include_optimizer=False)"
   ]
  },
  {
   "cell_type": "code",
   "execution_count": null,
   "metadata": {},
   "outputs": [],
   "source": []
  }
 ],
 "metadata": {
  "kernelspec": {
   "display_name": "Python 3",
   "language": "python",
   "name": "python3"
  },
  "language_info": {
   "codemirror_mode": {
    "name": "ipython",
    "version": 3
   },
   "file_extension": ".py",
   "mimetype": "text/x-python",
   "name": "python",
   "nbconvert_exporter": "python",
   "pygments_lexer": "ipython3",
   "version": "3.6.9"
  }
 },
 "nbformat": 4,
 "nbformat_minor": 2
}
