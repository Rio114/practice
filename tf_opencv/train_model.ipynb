{
 "cells": [
  {
   "cell_type": "code",
   "execution_count": 1,
   "metadata": {},
   "outputs": [
    {
     "name": "stderr",
     "output_type": "stream",
     "text": [
      "Using TensorFlow backend.\n"
     ]
    }
   ],
   "source": [
    "import numpy as np\n",
    "import cv2\n",
    "\n",
    "from tensorflow.compat.v1 import ConfigProto\n",
    "from tensorflow.compat.v1 import InteractiveSession\n",
    "config = ConfigProto()\n",
    "# config.gpu_options.allow_growth = True\n",
    "config.gpu_options.per_process_gpu_memory_fraction = 0.8\n",
    "session = InteractiveSession(config=config)\n",
    "\n",
    "from srgan_d import SRGAN\n",
    "from generator import ImageDataGenerator"
   ]
  },
  {
   "cell_type": "code",
   "execution_count": 2,
   "metadata": {},
   "outputs": [],
   "source": [
    "# !TF_ENABLE_GPU_GARBAGE_COLLECTION=false"
   ]
  },
  {
   "cell_type": "code",
   "execution_count": 3,
   "metadata": {},
   "outputs": [],
   "source": [
    "# from tensorflow.python.client import device_lib\n",
    "# device_lib.list_local_devices()"
   ]
  },
  {
   "cell_type": "code",
   "execution_count": 4,
   "metadata": {},
   "outputs": [],
   "source": [
    "r = 2\n",
    "input_dir = f'data/train/{r}/low/'\n",
    "tgt_dir = f'data/train/{r}/high/'\n",
    "\n",
    "input_dir_val = f'data/val/{r}/low/'\n",
    "tgt_dir_val = f'data/val/{r}/high/'\n",
    "\n",
    "\n",
    "test_file = 'UBMk30rjy0o_17675_42.jpg'\n",
    "test_low_path =  input_dir_val + test_file\n",
    "test_high_path = tgt_dir_val + test_file\n",
    "test_out_path = 'data/out/' + test_file\n",
    "test_test_path = 'data/test/' + test_file\n",
    "\n",
    "vgg_path = 'models/vgg16_notop.hdf5'\n",
    "\n",
    "input_shape = (67, 120, 3)\n",
    "tgt_shape = (134, 240, 3)\n",
    "\n",
    "batch_size = 16"
   ]
  },
  {
   "cell_type": "code",
   "execution_count": 5,
   "metadata": {
    "scrolled": false
   },
   "outputs": [
    {
     "name": "stderr",
     "output_type": "stream",
     "text": [
      "/home/keras/srgan_d.py:110: UserWarning: Update your `Network` call to the Keras 2 API: `Network(name=\"generator\", inputs=Tensor(\"in..., outputs=Tensor(\"ou...)`\n",
      "  self.shared_generator = Network(input=layers[0], output=layers[-1], name='generator')\n",
      "/home/keras/srgan_d.py:139: UserWarning: Update your `Network` call to the Keras 2 API: `Network(name=\"discriminator\", inputs=Tensor(\"in..., outputs=Tensor(\"de...)`\n",
      "  self.shared_discriminator = Network(input=layers[0], output=layers[-1], name='discriminator')\n",
      "/usr/local/lib/python3.6/dist-packages/keras/engine/saving.py:341: UserWarning: No training configuration found in save file: the model was *not* compiled. Compile it manually.\n",
      "  warnings.warn('No training configuration found in save file: '\n"
     ]
    }
   ],
   "source": [
    "srgan = SRGAN(vgg_path, batch_size, input_shape, tgt_shape)\n",
    "gen = ImageDataGenerator(input_dir, tgt_dir, batch_size)\n",
    "gen_valid = ImageDataGenerator(input_dir_val, tgt_dir_val, batch_size)"
   ]
  },
  {
   "cell_type": "code",
   "execution_count": null,
   "metadata": {
    "scrolled": false
   },
   "outputs": [
    {
     "name": "stdout",
     "output_type": "stream",
     "text": [
      "epoch 0\n",
      "d_loss_real:7.424835681915283, d_loss_fake:0.0011580570135265589, vgg_loss:4.483985424041748\n",
      "epoch 100\n",
      "d_loss_real:0.6698594093322754, d_loss_fake:0.5411350727081299, vgg_loss:1.1800169944763184\n",
      "epoch 200\n",
      "d_loss_real:0.6996190547943115, d_loss_fake:0.6266014575958252, vgg_loss:0.6828950047492981\n",
      "epoch 300\n",
      "d_loss_real:0.5520012378692627, d_loss_fake:0.41125160455703735, vgg_loss:0.5830435156822205\n",
      "epoch 400\n",
      "d_loss_real:0.5024400949478149, d_loss_fake:0.354085773229599, vgg_loss:0.6755682229995728\n",
      "epoch 500\n",
      "d_loss_real:0.6221754550933838, d_loss_fake:0.29660072922706604, vgg_loss:0.6487149596214294\n",
      "epoch 600\n",
      "d_loss_real:0.8004252910614014, d_loss_fake:0.6654926538467407, vgg_loss:0.31895315647125244\n"
     ]
    }
   ],
   "source": [
    "for e in range(10001):\n",
    "    X_low, X_high = gen.flow_from_directory().__next__()\n",
    "    srgan.train(X_low, X_high)\n",
    "    if e % 100 == 0:\n",
    "        print('epoch', e)\n",
    "        srgan.valid(X_low, X_high)\n",
    "        \n",
    "        test_img_low = (cv2.imread(test_low_path) / 255.0)[np.newaxis, :, :, :]\n",
    "        test_img_high = (cv2.imread(test_high_path) / 255.0)[np.newaxis, :, :, :]\n",
    "\n",
    "        test_img_sr = srgan.generator.predict(test_img_low)\n",
    "        test_img_sr_int = (test_img_sr * 255).astype('u1')[0]\n",
    "        test_out_path = 'data/out/'  + test_file.split('.')[0] + f'_test_{e}.jpg'\n",
    "        cv2.imwrite(test_out_path, test_img_sr_int)"
   ]
  },
  {
   "cell_type": "code",
   "execution_count": null,
   "metadata": {},
   "outputs": [],
   "source": [
    "srgan.generator.save('models/20200515_generator.h5', include_optimizer=False)"
   ]
  },
  {
   "cell_type": "code",
   "execution_count": null,
   "metadata": {},
   "outputs": [],
   "source": []
  }
 ],
 "metadata": {
  "kernelspec": {
   "display_name": "Python 3",
   "language": "python",
   "name": "python3"
  },
  "language_info": {
   "codemirror_mode": {
    "name": "ipython",
    "version": 3
   },
   "file_extension": ".py",
   "mimetype": "text/x-python",
   "name": "python",
   "nbconvert_exporter": "python",
   "pygments_lexer": "ipython3",
   "version": "3.6.9"
  }
 },
 "nbformat": 4,
 "nbformat_minor": 2
}
