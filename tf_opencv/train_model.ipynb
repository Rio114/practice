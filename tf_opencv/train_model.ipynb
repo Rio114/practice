{
 "cells": [
  {
   "cell_type": "code",
   "execution_count": 1,
   "metadata": {},
   "outputs": [
    {
     "name": "stderr",
     "output_type": "stream",
     "text": [
      "Using TensorFlow backend.\n"
     ]
    }
   ],
   "source": [
    "import numpy as np\n",
    "import cv2\n",
    "\n",
    "from tensorflow.compat.v1 import ConfigProto\n",
    "from tensorflow.compat.v1 import InteractiveSession\n",
    "config = ConfigProto()\n",
    "config.gpu_options.allow_growth = True\n",
    "session = InteractiveSession(config=config)\n",
    "\n",
    "from srgan2 import SRGAN\n",
    "from generator import ImageDataGenerator"
   ]
  },
  {
   "cell_type": "code",
   "execution_count": 2,
   "metadata": {},
   "outputs": [],
   "source": [
    "# !TF_ENABLE_GPU_GARBAGE_COLLECTION=false"
   ]
  },
  {
   "cell_type": "code",
   "execution_count": 3,
   "metadata": {},
   "outputs": [],
   "source": [
    "# from tensorflow.python.client import device_lib\n",
    "# device_lib.list_local_devices()"
   ]
  },
  {
   "cell_type": "code",
   "execution_count": 4,
   "metadata": {},
   "outputs": [],
   "source": [
    "input_dir = 'data/train/low/'\n",
    "tgt_dir = 'data/train/high/'\n",
    "\n",
    "input_dir_val = 'data/val/low/'\n",
    "tgt_dir_val = 'data/val/high/'\n",
    "\n",
    "\n",
    "test_file = 'UBMk30rjy0o_17675_1.jpg'\n",
    "test_low_path =  input_dir_val + test_file\n",
    "test_high_path = tgt_dir_val + test_file\n",
    "test_out_path = 'data/out/' + test_file\n",
    "test_test_path = 'data/test/' + test_file\n",
    "\n",
    "vgg_path = 'models/vgg16_notop.hdf5'\n",
    "\n",
    "input_shape = (270, 480, 3)\n",
    "tgt_shape = (540, 960, 3)\n",
    "\n",
    "batch_size = 2"
   ]
  },
  {
   "cell_type": "code",
   "execution_count": 5,
   "metadata": {},
   "outputs": [
    {
     "name": "stderr",
     "output_type": "stream",
     "text": [
      "/home/keras/srgan2.py:117: UserWarning: Update your `Network` call to the Keras 2 API: `Network(name=\"generator\", inputs=Tensor(\"in..., outputs=Tensor(\"ou...)`\n",
      "  self.shared_generator = Network(input=layers[0], output=layers[-1], name='generator')\n",
      "/home/keras/srgan2.py:144: UserWarning: Update your `Network` call to the Keras 2 API: `Network(name=\"discriminator\", inputs=Tensor(\"in..., outputs=Tensor(\"de...)`\n",
      "  self.shared_discriminator = Network(input=layers[0], output=layers[-1], name='discriminator')\n",
      "/usr/local/lib/python3.6/dist-packages/keras/engine/saving.py:341: UserWarning: No training configuration found in save file: the model was *not* compiled. Compile it manually.\n",
      "  warnings.warn('No training configuration found in save file: '\n"
     ]
    }
   ],
   "source": [
    "srgan = SRGAN(vgg_path, batch_size, input_shape, tgt_shape)\n",
    "gen = ImageDataGenerator(input_dir, tgt_dir, batch_size)\n",
    "gen_valid = ImageDataGenerator(input_dir_val, tgt_dir_val, batch_size)"
   ]
  },
  {
   "cell_type": "code",
   "execution_count": 6,
   "metadata": {
    "scrolled": true
   },
   "outputs": [
    {
     "name": "stdout",
     "output_type": "stream",
     "text": [
      "epoch 0\n",
      "d_loss_real:0.6147506833076477, d_loss_fake:0.88106369972229, vgg_loss:41.772254943847656\n",
      "epoch 100\n",
      "d_loss_real:0.7693082690238953, d_loss_fake:0.6603702306747437, vgg_loss:5.580763339996338\n",
      "epoch 200\n",
      "d_loss_real:0.6941056847572327, d_loss_fake:0.5961278676986694, vgg_loss:11.799095153808594\n",
      "epoch 300\n",
      "d_loss_real:0.7108472585678101, d_loss_fake:0.7372462749481201, vgg_loss:5.391521453857422\n",
      "epoch 400\n",
      "d_loss_real:0.6911447644233704, d_loss_fake:0.7125765085220337, vgg_loss:6.275691032409668\n",
      "epoch 500\n",
      "d_loss_real:0.6845912933349609, d_loss_fake:0.7506411075592041, vgg_loss:3.3432278633117676\n",
      "epoch 600\n",
      "d_loss_real:0.665634036064148, d_loss_fake:0.6942337155342102, vgg_loss:5.60209846496582\n",
      "epoch 700\n",
      "d_loss_real:0.658833920955658, d_loss_fake:0.7311057448387146, vgg_loss:3.1756842136383057\n",
      "epoch 800\n",
      "d_loss_real:0.700053870677948, d_loss_fake:0.6909812092781067, vgg_loss:6.162304401397705\n",
      "epoch 900\n",
      "d_loss_real:0.7125135660171509, d_loss_fake:0.6903052926063538, vgg_loss:18.69904327392578\n",
      "epoch 1000\n",
      "d_loss_real:0.7037721276283264, d_loss_fake:0.7266108989715576, vgg_loss:8.59652042388916\n",
      "epoch 1100\n",
      "d_loss_real:0.6406086087226868, d_loss_fake:0.707403302192688, vgg_loss:4.052239894866943\n",
      "epoch 1200\n",
      "d_loss_real:0.7007868885993958, d_loss_fake:0.7016867995262146, vgg_loss:7.700684547424316\n",
      "epoch 1300\n",
      "d_loss_real:0.6699946522712708, d_loss_fake:0.7073145508766174, vgg_loss:6.653011322021484\n",
      "epoch 1400\n",
      "d_loss_real:0.6666698455810547, d_loss_fake:0.6575109958648682, vgg_loss:6.929028511047363\n",
      "epoch 1500\n",
      "d_loss_real:0.6861166954040527, d_loss_fake:0.6760389804840088, vgg_loss:7.90093994140625\n",
      "epoch 1600\n",
      "d_loss_real:0.6657460927963257, d_loss_fake:0.6897144317626953, vgg_loss:3.339690685272217\n",
      "epoch 1700\n",
      "d_loss_real:0.705364465713501, d_loss_fake:0.6798315644264221, vgg_loss:4.195163726806641\n",
      "epoch 1800\n",
      "d_loss_real:0.7058035135269165, d_loss_fake:0.6772923469543457, vgg_loss:2.833805561065674\n",
      "epoch 1900\n",
      "d_loss_real:0.6987448334693909, d_loss_fake:0.6993059515953064, vgg_loss:4.414052486419678\n",
      "epoch 2000\n",
      "d_loss_real:0.7128123044967651, d_loss_fake:0.6799241900444031, vgg_loss:3.902529716491699\n",
      "epoch 2100\n",
      "d_loss_real:0.6972872018814087, d_loss_fake:0.6937779188156128, vgg_loss:3.2824807167053223\n",
      "epoch 2200\n",
      "d_loss_real:0.6884833574295044, d_loss_fake:0.6910865306854248, vgg_loss:6.076234340667725\n",
      "epoch 2300\n",
      "d_loss_real:0.7074066400527954, d_loss_fake:0.6992879509925842, vgg_loss:4.909990310668945\n",
      "epoch 2400\n",
      "d_loss_real:0.7297226190567017, d_loss_fake:0.683525562286377, vgg_loss:7.087553977966309\n",
      "epoch 2500\n",
      "d_loss_real:0.6730540990829468, d_loss_fake:0.6904960870742798, vgg_loss:11.158169746398926\n",
      "epoch 2600\n",
      "d_loss_real:0.6787537336349487, d_loss_fake:0.6871280670166016, vgg_loss:5.366683006286621\n",
      "epoch 2700\n",
      "d_loss_real:0.6937686204910278, d_loss_fake:0.7201908230781555, vgg_loss:3.969989538192749\n",
      "epoch 2800\n",
      "d_loss_real:0.7121981382369995, d_loss_fake:0.6888059973716736, vgg_loss:3.918647527694702\n",
      "epoch 2900\n",
      "d_loss_real:0.6908391714096069, d_loss_fake:0.6876863241195679, vgg_loss:8.664443969726562\n",
      "epoch 3000\n",
      "d_loss_real:0.6840294599533081, d_loss_fake:0.6857268810272217, vgg_loss:4.873833179473877\n",
      "epoch 3100\n",
      "d_loss_real:0.6789854764938354, d_loss_fake:0.6895976066589355, vgg_loss:4.713777542114258\n",
      "epoch 3200\n",
      "d_loss_real:0.6810482740402222, d_loss_fake:0.7337664365768433, vgg_loss:3.0759329795837402\n",
      "epoch 3300\n",
      "d_loss_real:0.691035270690918, d_loss_fake:0.6932204365730286, vgg_loss:3.7531604766845703\n",
      "epoch 3400\n",
      "d_loss_real:0.6918259263038635, d_loss_fake:0.6930021643638611, vgg_loss:3.407914876937866\n",
      "epoch 3500\n",
      "d_loss_real:0.7073513269424438, d_loss_fake:0.6684483885765076, vgg_loss:6.175342559814453\n",
      "epoch 3600\n",
      "d_loss_real:0.6734832525253296, d_loss_fake:0.6986314058303833, vgg_loss:7.23746395111084\n",
      "epoch 3700\n",
      "d_loss_real:0.7261635065078735, d_loss_fake:0.7020531296730042, vgg_loss:4.073361873626709\n",
      "epoch 3800\n",
      "d_loss_real:0.680148720741272, d_loss_fake:0.6736619472503662, vgg_loss:16.1286563873291\n",
      "epoch 3900\n",
      "d_loss_real:0.7175977826118469, d_loss_fake:0.6825283765792847, vgg_loss:1.8132965564727783\n",
      "epoch 4000\n",
      "d_loss_real:0.7315760850906372, d_loss_fake:0.6924760341644287, vgg_loss:3.418243646621704\n",
      "epoch 4100\n",
      "d_loss_real:0.6766694784164429, d_loss_fake:0.6834307909011841, vgg_loss:4.413692951202393\n",
      "epoch 4200\n",
      "d_loss_real:0.6874191761016846, d_loss_fake:0.6799075603485107, vgg_loss:4.13205099105835\n",
      "epoch 4300\n",
      "d_loss_real:0.6948239803314209, d_loss_fake:0.669104814529419, vgg_loss:2.728712797164917\n",
      "epoch 4400\n",
      "d_loss_real:0.6867281198501587, d_loss_fake:0.6568466424942017, vgg_loss:3.261111259460449\n",
      "epoch 4500\n",
      "d_loss_real:0.7292899489402771, d_loss_fake:0.6636508107185364, vgg_loss:2.793246269226074\n",
      "epoch 4600\n",
      "d_loss_real:0.6704517602920532, d_loss_fake:0.6793074011802673, vgg_loss:4.719311237335205\n",
      "epoch 4700\n",
      "d_loss_real:0.683901309967041, d_loss_fake:0.691052258014679, vgg_loss:3.7484419345855713\n",
      "epoch 4800\n",
      "d_loss_real:0.6849946975708008, d_loss_fake:0.6780061721801758, vgg_loss:4.491726398468018\n",
      "epoch 4900\n",
      "d_loss_real:0.6876039505004883, d_loss_fake:0.7128398418426514, vgg_loss:4.835652828216553\n",
      "epoch 5000\n",
      "d_loss_real:0.7076048851013184, d_loss_fake:0.6818819046020508, vgg_loss:3.37327241897583\n"
     ]
    }
   ],
   "source": [
    "for e in range(5001):\n",
    "    X_low, X_high = gen.flow_from_directory().__next__()\n",
    "    srgan.train(X_low, X_high)\n",
    "    if e % 100 == 0:\n",
    "        print('epoch', e)\n",
    "        srgan.valid(X_low, X_high)\n",
    "        \n",
    "        test_img_low = ((cv2.imread(test_low_path) - 127.5) / 127.5)[np.newaxis, :, :, :]\n",
    "        test_img_high = ((cv2.imread(test_high_path)- 127.5) / 127.5)[np.newaxis, :, :, :]\n",
    "\n",
    "        test_img_sr = srgan.generator.predict(test_img_low)\n",
    "        test_img_sr_int = ((test_img_sr * 127.5) + 127.5).astype('u1')[0]\n",
    "        test_out_path = 'data/out/'  + test_file.split('.')[0] + f'_test_{e}.jpg'\n",
    "        cv2.imwrite(test_out_path, test_img_sr_int)"
   ]
  },
  {
   "cell_type": "code",
   "execution_count": 7,
   "metadata": {},
   "outputs": [],
   "source": [
    "srgan.generator.save('models/20200512_generator.h5', include_optimizer=False)"
   ]
  },
  {
   "cell_type": "code",
   "execution_count": 8,
   "metadata": {},
   "outputs": [],
   "source": [
    "from keras.models import Model, load_model\n",
    "from keras.engine.network import Network\n",
    "from keras.layers import Input\n",
    "\n",
    "# pre_model = load_model('20200510_generator.h5')\n",
    "pre_model = srgan.generator\n",
    "pre_net = Network(inputs=pre_model.input, outputs=pre_model.get_layer(pre_model.layers[-1].name).output, name='learned')\n",
    "\n",
    "input_layer = Input(shape = (540, 960, 3))\n",
    "sr_out = pre_net(input_layer)\n",
    "sr_generator = Model(input_layer, sr_out)\n"
   ]
  },
  {
   "cell_type": "code",
   "execution_count": 9,
   "metadata": {},
   "outputs": [
    {
     "data": {
      "text/plain": [
       "True"
      ]
     },
     "execution_count": 9,
     "metadata": {},
     "output_type": "execute_result"
    }
   ],
   "source": [
    "img_list = []\n",
    "for i in range(4):\n",
    "    test_file = f'UBMk30rjy0o_17675_{i}.jpg'\n",
    "    path = input_dir_val + test_file\n",
    "    test_img_low = ((cv2.imread(path) - 127.5) / 127.5)\n",
    "    img_list.append(test_img_low)\n",
    "\n",
    "h0 = np.vstack([img_list[0], img_list[1]])\n",
    "h1 = np.vstack([img_list[2], img_list[3]])\n",
    "img = np.hstack([h0, h1])\n",
    "img_gen = sr_generator.predict(img.reshape((1, 540, 960, 3)))\n",
    "\n",
    "img_int = ((img_gen * 127.5) + 127.5).astype('u1').reshape((1080, 1920, 3))\n",
    "cv2.imwrite('data/test/20200512_out_premerged.jpg', img_int)"
   ]
  },
  {
   "cell_type": "code",
   "execution_count": null,
   "metadata": {},
   "outputs": [],
   "source": []
  }
 ],
 "metadata": {
  "kernelspec": {
   "display_name": "Python 3",
   "language": "python",
   "name": "python3"
  },
  "language_info": {
   "codemirror_mode": {
    "name": "ipython",
    "version": 3
   },
   "file_extension": ".py",
   "mimetype": "text/x-python",
   "name": "python",
   "nbconvert_exporter": "python",
   "pygments_lexer": "ipython3",
   "version": "3.6.9"
  }
 },
 "nbformat": 4,
 "nbformat_minor": 2
}
