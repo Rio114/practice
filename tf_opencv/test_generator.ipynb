{
 "cells": [
  {
   "cell_type": "code",
   "execution_count": 1,
   "metadata": {},
   "outputs": [],
   "source": [
    "import cv2\n",
    "import numpy as np"
   ]
  },
  {
   "cell_type": "code",
   "execution_count": 2,
   "metadata": {},
   "outputs": [],
   "source": [
    "from tensorflow.compat.v1 import ConfigProto\n",
    "from tensorflow.compat.v1 import InteractiveSession\n",
    "config = ConfigProto()\n",
    "config.gpu_options.allow_growth = True\n",
    "session = InteractiveSession(config=config)"
   ]
  },
  {
   "cell_type": "code",
   "execution_count": 3,
   "metadata": {},
   "outputs": [
    {
     "name": "stderr",
     "output_type": "stream",
     "text": [
      "Using TensorFlow backend.\n"
     ]
    }
   ],
   "source": [
    "from srgan2 import SRGAN"
   ]
  },
  {
   "cell_type": "code",
   "execution_count": 4,
   "metadata": {},
   "outputs": [],
   "source": [
    "fname = 'UBMk30rjy0o.mp4'\n",
    "path = 'data/val/' + fname"
   ]
  },
  {
   "cell_type": "code",
   "execution_count": 5,
   "metadata": {},
   "outputs": [],
   "source": [
    "cap = cv2.VideoCapture(path)\n",
    "w = int(cap.get(cv2.CAP_PROP_FRAME_WIDTH)) # 動画の画面横幅\n",
    "h = int(cap.get(cv2.CAP_PROP_FRAME_HEIGHT)) # 動画の画面縦幅\n",
    "fcnt = int(cap.get(cv2.CAP_PROP_FRAME_COUNT)) # 総フレーム数\n",
    "fps = cap.get(cv2.CAP_PROP_FPS)\n",
    "\n",
    "for _ in range(1000):\n",
    "    ret, frame = cap.read()\n",
    "low_frame = cv2.resize(frame , (int(w/2), int(h/2)))"
   ]
  },
  {
   "cell_type": "code",
   "execution_count": 6,
   "metadata": {},
   "outputs": [],
   "source": [
    "input_dir = 'data/train/low/'\n",
    "tgt_dir = 'data/train/high/'\n",
    "\n",
    "input_dir_val = 'data/val/low/'\n",
    "tgt_dir_val = 'data/val/high/'\n",
    "\n",
    "\n",
    "test_file = 'UBMk30rjy0o_17675_1.jpg'\n",
    "test_low_path =  input_dir_val + test_file\n",
    "test_high_path = tgt_dir_val + test_file\n",
    "test_out_path = 'data/out/' + test_file\n",
    "test_test_path = 'data/test/' + test_file\n",
    "\n",
    "vgg_path = 'models/vgg16_notop.hdf5'\n",
    "\n",
    "input_shape = (540, 960, 3)\n",
    "tgt_shape = (1080, 1920, 3)\n",
    "\n",
    "batch_size = 2"
   ]
  },
  {
   "cell_type": "code",
   "execution_count": 7,
   "metadata": {},
   "outputs": [
    {
     "name": "stderr",
     "output_type": "stream",
     "text": [
      "/home/keras/srgan2.py:114: UserWarning: Update your `Network` call to the Keras 2 API: `Network(name=\"generator\", inputs=Tensor(\"in..., outputs=Tensor(\"ou...)`\n",
      "  self.shared_generator = Network(input=layers[0], output=layers[-1], name='generator')\n",
      "/home/keras/srgan2.py:141: UserWarning: Update your `Network` call to the Keras 2 API: `Network(name=\"discriminator\", inputs=Tensor(\"in..., outputs=Tensor(\"de...)`\n",
      "  self.shared_discriminator = Network(input=layers[0], output=layers[-1], name='discriminator')\n",
      "/usr/local/lib/python3.6/dist-packages/keras/engine/saving.py:341: UserWarning: No training configuration found in save file: the model was *not* compiled. Compile it manually.\n",
      "  warnings.warn('No training configuration found in save file: '\n"
     ]
    }
   ],
   "source": [
    "srgan = SRGAN(vgg_path, batch_size, input_shape, tgt_shape)"
   ]
  },
  {
   "cell_type": "code",
   "execution_count": 12,
   "metadata": {},
   "outputs": [],
   "source": [
    "from keras.models import Model, load_model"
   ]
  },
  {
   "cell_type": "code",
   "execution_count": 13,
   "metadata": {},
   "outputs": [],
   "source": [
    "m = load_model('models/20200512_generator.h5')"
   ]
  },
  {
   "cell_type": "code",
   "execution_count": 14,
   "metadata": {},
   "outputs": [
    {
     "name": "stdout",
     "output_type": "stream",
     "text": [
      "Model: \"model_1\"\n",
      "__________________________________________________________________________________________________\n",
      "Layer (type)                    Output Shape         Param #     Connected to                     \n",
      "==================================================================================================\n",
      "input_1 (InputLayer)            (None, 270, 480, 3)  0                                            \n",
      "__________________________________________________________________________________________________\n",
      "G_Head_conv0 (Conv2D)           (None, 270, 480, 32) 896         input_1[0][0]                    \n",
      "__________________________________________________________________________________________________\n",
      "G_Head_act0 (PReLU)             (None, 270, 480, 32) 4147200     G_Head_conv0[0][0]               \n",
      "__________________________________________________________________________________________________\n",
      "G_Body_0_conv0 (Conv2D)         (None, 270, 480, 32) 9248        G_Head_act0[0][0]                \n",
      "__________________________________________________________________________________________________\n",
      "G_Body_0_norm0 (BatchNormalizat (None, 270, 480, 32) 128         G_Body_0_conv0[0][0]             \n",
      "__________________________________________________________________________________________________\n",
      "G_Body_0_act0 (PReLU)           (None, 270, 480, 32) 4147200     G_Body_0_norm0[0][0]             \n",
      "__________________________________________________________________________________________________\n",
      "G_Body_0_conv1 (Conv2D)         (None, 270, 480, 32) 9248        G_Body_0_act0[0][0]              \n",
      "__________________________________________________________________________________________________\n",
      "G_Body_0_norm1 (BatchNormalizat (None, 270, 480, 32) 128         G_Body_0_conv1[0][0]             \n",
      "__________________________________________________________________________________________________\n",
      "G_Body_0_act1 (PReLU)           (None, 270, 480, 32) 4147200     G_Body_0_norm1[0][0]             \n",
      "__________________________________________________________________________________________________\n",
      "add_1 (Add)                     (None, 270, 480, 32) 0           G_Body_0_act1[0][0]              \n",
      "                                                                 G_Head_act0[0][0]                \n",
      "__________________________________________________________________________________________________\n",
      "G_Body_1_conv0 (Conv2D)         (None, 270, 480, 32) 9248        add_1[0][0]                      \n",
      "__________________________________________________________________________________________________\n",
      "G_Body_1_norm0 (BatchNormalizat (None, 270, 480, 32) 128         G_Body_1_conv0[0][0]             \n",
      "__________________________________________________________________________________________________\n",
      "G_Body_1_act0 (PReLU)           (None, 270, 480, 32) 4147200     G_Body_1_norm0[0][0]             \n",
      "__________________________________________________________________________________________________\n",
      "G_Body_1_conv1 (Conv2D)         (None, 270, 480, 32) 9248        G_Body_1_act0[0][0]              \n",
      "__________________________________________________________________________________________________\n",
      "G_Body_1_norm1 (BatchNormalizat (None, 270, 480, 32) 128         G_Body_1_conv1[0][0]             \n",
      "__________________________________________________________________________________________________\n",
      "G_Body_1_act1 (PReLU)           (None, 270, 480, 32) 4147200     G_Body_1_norm1[0][0]             \n",
      "__________________________________________________________________________________________________\n",
      "add_2 (Add)                     (None, 270, 480, 32) 0           G_Body_1_act1[0][0]              \n",
      "                                                                 add_1[0][0]                      \n",
      "__________________________________________________________________________________________________\n",
      "add_3 (Add)                     (None, 270, 480, 32) 0           G_Head_act0[0][0]                \n",
      "                                                                 add_2[0][0]                      \n",
      "__________________________________________________________________________________________________\n",
      "G_Up_1_upsamp (UpSampling2D)    (None, 540, 960, 32) 0           add_3[0][0]                      \n",
      "__________________________________________________________________________________________________\n",
      "G_Body_2_conv0 (Conv2D)         (None, 540, 960, 32) 9248        G_Up_1_upsamp[0][0]              \n",
      "__________________________________________________________________________________________________\n",
      "G_Body_2_norm0 (BatchNormalizat (None, 540, 960, 32) 128         G_Body_2_conv0[0][0]             \n",
      "__________________________________________________________________________________________________\n",
      "G_Body_2_act0 (PReLU)           (None, 540, 960, 32) 16588800    G_Body_2_norm0[0][0]             \n",
      "__________________________________________________________________________________________________\n",
      "G_Body_2_conv1 (Conv2D)         (None, 540, 960, 32) 9248        G_Body_2_act0[0][0]              \n",
      "__________________________________________________________________________________________________\n",
      "G_Body_2_norm1 (BatchNormalizat (None, 540, 960, 32) 128         G_Body_2_conv1[0][0]             \n",
      "__________________________________________________________________________________________________\n",
      "add_4 (Add)                     (None, 540, 960, 32) 0           G_Up_1_upsamp[0][0]              \n",
      "                                                                 G_Body_2_norm1[0][0]             \n",
      "__________________________________________________________________________________________________\n",
      "outRGB (Conv2D)                 (None, 540, 960, 3)  867         add_4[0][0]                      \n",
      "==================================================================================================\n",
      "Total params: 37,382,819\n",
      "Trainable params: 37,382,435\n",
      "Non-trainable params: 384\n",
      "__________________________________________________________________________________________________\n"
     ]
    }
   ],
   "source": [
    "m.summary()"
   ]
  },
  {
   "cell_type": "code",
   "execution_count": 10,
   "metadata": {},
   "outputs": [
    {
     "ename": "ValueError",
     "evalue": "Shapes (540, 960, 32) and (270, 480, 32) are incompatible",
     "output_type": "error",
     "traceback": [
      "\u001b[0;31m---------------------------------------------------------------------------\u001b[0m",
      "\u001b[0;31mValueError\u001b[0m                                Traceback (most recent call last)",
      "\u001b[0;32m<ipython-input-10-b3046d4d10d5>\u001b[0m in \u001b[0;36m<module>\u001b[0;34m\u001b[0m\n\u001b[1;32m      1\u001b[0m \u001b[0mmodel\u001b[0m \u001b[0;34m=\u001b[0m \u001b[0msrgan\u001b[0m\u001b[0;34m.\u001b[0m\u001b[0mgenerator\u001b[0m\u001b[0;34m\u001b[0m\u001b[0;34m\u001b[0m\u001b[0m\n\u001b[0;32m----> 2\u001b[0;31m \u001b[0mmodel\u001b[0m\u001b[0;34m.\u001b[0m\u001b[0mload_weights\u001b[0m\u001b[0;34m(\u001b[0m\u001b[0;34m'models/20200512_generator.h5'\u001b[0m\u001b[0;34m)\u001b[0m\u001b[0;34m\u001b[0m\u001b[0;34m\u001b[0m\u001b[0m\n\u001b[0m",
      "\u001b[0;32m/usr/local/lib/python3.6/dist-packages/keras/engine/saving.py\u001b[0m in \u001b[0;36mload_wrapper\u001b[0;34m(*args, **kwargs)\u001b[0m\n\u001b[1;32m    490\u001b[0m                 \u001b[0mos\u001b[0m\u001b[0;34m.\u001b[0m\u001b[0mremove\u001b[0m\u001b[0;34m(\u001b[0m\u001b[0mtmp_filepath\u001b[0m\u001b[0;34m)\u001b[0m\u001b[0;34m\u001b[0m\u001b[0;34m\u001b[0m\u001b[0m\n\u001b[1;32m    491\u001b[0m             \u001b[0;32mreturn\u001b[0m \u001b[0mres\u001b[0m\u001b[0;34m\u001b[0m\u001b[0;34m\u001b[0m\u001b[0m\n\u001b[0;32m--> 492\u001b[0;31m         \u001b[0;32mreturn\u001b[0m \u001b[0mload_function\u001b[0m\u001b[0;34m(\u001b[0m\u001b[0;34m*\u001b[0m\u001b[0margs\u001b[0m\u001b[0;34m,\u001b[0m \u001b[0;34m**\u001b[0m\u001b[0mkwargs\u001b[0m\u001b[0;34m)\u001b[0m\u001b[0;34m\u001b[0m\u001b[0;34m\u001b[0m\u001b[0m\n\u001b[0m\u001b[1;32m    493\u001b[0m \u001b[0;34m\u001b[0m\u001b[0m\n\u001b[1;32m    494\u001b[0m     \u001b[0;32mreturn\u001b[0m \u001b[0mload_wrapper\u001b[0m\u001b[0;34m\u001b[0m\u001b[0;34m\u001b[0m\u001b[0m\n",
      "\u001b[0;32m/usr/local/lib/python3.6/dist-packages/keras/engine/network.py\u001b[0m in \u001b[0;36mload_weights\u001b[0;34m(self, filepath, by_name, skip_mismatch, reshape)\u001b[0m\n\u001b[1;32m   1228\u001b[0m             \u001b[0;32melse\u001b[0m\u001b[0;34m:\u001b[0m\u001b[0;34m\u001b[0m\u001b[0;34m\u001b[0m\u001b[0m\n\u001b[1;32m   1229\u001b[0m                 saving.load_weights_from_hdf5_group(\n\u001b[0;32m-> 1230\u001b[0;31m                     f, self.layers, reshape=reshape)\n\u001b[0m\u001b[1;32m   1231\u001b[0m             \u001b[0;32mif\u001b[0m \u001b[0mhasattr\u001b[0m\u001b[0;34m(\u001b[0m\u001b[0mf\u001b[0m\u001b[0;34m,\u001b[0m \u001b[0;34m'close'\u001b[0m\u001b[0;34m)\u001b[0m\u001b[0;34m:\u001b[0m\u001b[0;34m\u001b[0m\u001b[0;34m\u001b[0m\u001b[0m\n\u001b[1;32m   1232\u001b[0m                 \u001b[0mf\u001b[0m\u001b[0;34m.\u001b[0m\u001b[0mclose\u001b[0m\u001b[0;34m(\u001b[0m\u001b[0;34m)\u001b[0m\u001b[0;34m\u001b[0m\u001b[0;34m\u001b[0m\u001b[0m\n",
      "\u001b[0;32m/usr/local/lib/python3.6/dist-packages/keras/engine/saving.py\u001b[0m in \u001b[0;36mload_weights_from_hdf5_group\u001b[0;34m(f, layers, reshape)\u001b[0m\n\u001b[1;32m   1235\u001b[0m                              ' elements.')\n\u001b[1;32m   1236\u001b[0m         \u001b[0mweight_value_tuples\u001b[0m \u001b[0;34m+=\u001b[0m \u001b[0mzip\u001b[0m\u001b[0;34m(\u001b[0m\u001b[0msymbolic_weights\u001b[0m\u001b[0;34m,\u001b[0m \u001b[0mweight_values\u001b[0m\u001b[0;34m)\u001b[0m\u001b[0;34m\u001b[0m\u001b[0;34m\u001b[0m\u001b[0m\n\u001b[0;32m-> 1237\u001b[0;31m     \u001b[0mK\u001b[0m\u001b[0;34m.\u001b[0m\u001b[0mbatch_set_value\u001b[0m\u001b[0;34m(\u001b[0m\u001b[0mweight_value_tuples\u001b[0m\u001b[0;34m)\u001b[0m\u001b[0;34m\u001b[0m\u001b[0;34m\u001b[0m\u001b[0m\n\u001b[0m\u001b[1;32m   1238\u001b[0m \u001b[0;34m\u001b[0m\u001b[0m\n\u001b[1;32m   1239\u001b[0m \u001b[0;34m\u001b[0m\u001b[0m\n",
      "\u001b[0;32m/usr/local/lib/python3.6/dist-packages/keras/backend/tensorflow_backend.py\u001b[0m in \u001b[0;36mbatch_set_value\u001b[0;34m(tuples)\u001b[0m\n\u001b[1;32m   2958\u001b[0m             \u001b[0;31m`\u001b[0m\u001b[0mvalue\u001b[0m\u001b[0;31m`\u001b[0m \u001b[0mshould\u001b[0m \u001b[0mbe\u001b[0m \u001b[0ma\u001b[0m \u001b[0mNumpy\u001b[0m \u001b[0marray\u001b[0m\u001b[0;34m.\u001b[0m\u001b[0;34m\u001b[0m\u001b[0;34m\u001b[0m\u001b[0m\n\u001b[1;32m   2959\u001b[0m     \"\"\"\n\u001b[0;32m-> 2960\u001b[0;31m     \u001b[0mtf_keras_backend\u001b[0m\u001b[0;34m.\u001b[0m\u001b[0mbatch_set_value\u001b[0m\u001b[0;34m(\u001b[0m\u001b[0mtuples\u001b[0m\u001b[0;34m)\u001b[0m\u001b[0;34m\u001b[0m\u001b[0;34m\u001b[0m\u001b[0m\n\u001b[0m\u001b[1;32m   2961\u001b[0m \u001b[0;34m\u001b[0m\u001b[0m\n\u001b[1;32m   2962\u001b[0m \u001b[0;34m\u001b[0m\u001b[0m\n",
      "\u001b[0;32m/usr/local/lib/python3.6/dist-packages/tensorflow_core/python/keras/backend.py\u001b[0m in \u001b[0;36mbatch_set_value\u001b[0;34m(tuples)\u001b[0m\n\u001b[1;32m   3321\u001b[0m     \u001b[0;32mwith\u001b[0m \u001b[0mops\u001b[0m\u001b[0;34m.\u001b[0m\u001b[0minit_scope\u001b[0m\u001b[0;34m(\u001b[0m\u001b[0;34m)\u001b[0m\u001b[0;34m:\u001b[0m\u001b[0;34m\u001b[0m\u001b[0;34m\u001b[0m\u001b[0m\n\u001b[1;32m   3322\u001b[0m       \u001b[0;32mfor\u001b[0m \u001b[0mx\u001b[0m\u001b[0;34m,\u001b[0m \u001b[0mvalue\u001b[0m \u001b[0;32min\u001b[0m \u001b[0mtuples\u001b[0m\u001b[0;34m:\u001b[0m\u001b[0;34m\u001b[0m\u001b[0;34m\u001b[0m\u001b[0m\n\u001b[0;32m-> 3323\u001b[0;31m         \u001b[0mx\u001b[0m\u001b[0;34m.\u001b[0m\u001b[0massign\u001b[0m\u001b[0;34m(\u001b[0m\u001b[0mnp\u001b[0m\u001b[0;34m.\u001b[0m\u001b[0masarray\u001b[0m\u001b[0;34m(\u001b[0m\u001b[0mvalue\u001b[0m\u001b[0;34m,\u001b[0m \u001b[0mdtype\u001b[0m\u001b[0;34m=\u001b[0m\u001b[0mdtype\u001b[0m\u001b[0;34m(\u001b[0m\u001b[0mx\u001b[0m\u001b[0;34m)\u001b[0m\u001b[0;34m)\u001b[0m\u001b[0;34m)\u001b[0m\u001b[0;34m\u001b[0m\u001b[0;34m\u001b[0m\u001b[0m\n\u001b[0m\u001b[1;32m   3324\u001b[0m   \u001b[0;32melse\u001b[0m\u001b[0;34m:\u001b[0m\u001b[0;34m\u001b[0m\u001b[0;34m\u001b[0m\u001b[0m\n\u001b[1;32m   3325\u001b[0m     \u001b[0;32mwith\u001b[0m \u001b[0mget_graph\u001b[0m\u001b[0;34m(\u001b[0m\u001b[0;34m)\u001b[0m\u001b[0;34m.\u001b[0m\u001b[0mas_default\u001b[0m\u001b[0;34m(\u001b[0m\u001b[0;34m)\u001b[0m\u001b[0;34m:\u001b[0m\u001b[0;34m\u001b[0m\u001b[0;34m\u001b[0m\u001b[0m\n",
      "\u001b[0;32m/usr/local/lib/python3.6/dist-packages/tensorflow_core/python/ops/resource_variable_ops.py\u001b[0m in \u001b[0;36massign\u001b[0;34m(self, value, use_locking, name, read_value)\u001b[0m\n\u001b[1;32m    817\u001b[0m     \u001b[0;32mwith\u001b[0m \u001b[0m_handle_graph\u001b[0m\u001b[0;34m(\u001b[0m\u001b[0mself\u001b[0m\u001b[0;34m.\u001b[0m\u001b[0mhandle\u001b[0m\u001b[0;34m)\u001b[0m\u001b[0;34m:\u001b[0m\u001b[0;34m\u001b[0m\u001b[0;34m\u001b[0m\u001b[0m\n\u001b[1;32m    818\u001b[0m       \u001b[0mvalue_tensor\u001b[0m \u001b[0;34m=\u001b[0m \u001b[0mops\u001b[0m\u001b[0;34m.\u001b[0m\u001b[0mconvert_to_tensor\u001b[0m\u001b[0;34m(\u001b[0m\u001b[0mvalue\u001b[0m\u001b[0;34m,\u001b[0m \u001b[0mdtype\u001b[0m\u001b[0;34m=\u001b[0m\u001b[0mself\u001b[0m\u001b[0;34m.\u001b[0m\u001b[0mdtype\u001b[0m\u001b[0;34m)\u001b[0m\u001b[0;34m\u001b[0m\u001b[0;34m\u001b[0m\u001b[0m\n\u001b[0;32m--> 819\u001b[0;31m       \u001b[0mself\u001b[0m\u001b[0;34m.\u001b[0m\u001b[0m_shape\u001b[0m\u001b[0;34m.\u001b[0m\u001b[0massert_is_compatible_with\u001b[0m\u001b[0;34m(\u001b[0m\u001b[0mvalue_tensor\u001b[0m\u001b[0;34m.\u001b[0m\u001b[0mshape\u001b[0m\u001b[0;34m)\u001b[0m\u001b[0;34m\u001b[0m\u001b[0;34m\u001b[0m\u001b[0m\n\u001b[0m\u001b[1;32m    820\u001b[0m       assign_op = gen_resource_variable_ops.assign_variable_op(\n\u001b[1;32m    821\u001b[0m           self.handle, value_tensor, name=name)\n",
      "\u001b[0;32m/usr/local/lib/python3.6/dist-packages/tensorflow_core/python/framework/tensor_shape.py\u001b[0m in \u001b[0;36massert_is_compatible_with\u001b[0;34m(self, other)\u001b[0m\n\u001b[1;32m   1108\u001b[0m     \"\"\"\n\u001b[1;32m   1109\u001b[0m     \u001b[0;32mif\u001b[0m \u001b[0;32mnot\u001b[0m \u001b[0mself\u001b[0m\u001b[0;34m.\u001b[0m\u001b[0mis_compatible_with\u001b[0m\u001b[0;34m(\u001b[0m\u001b[0mother\u001b[0m\u001b[0;34m)\u001b[0m\u001b[0;34m:\u001b[0m\u001b[0;34m\u001b[0m\u001b[0;34m\u001b[0m\u001b[0m\n\u001b[0;32m-> 1110\u001b[0;31m       \u001b[0;32mraise\u001b[0m \u001b[0mValueError\u001b[0m\u001b[0;34m(\u001b[0m\u001b[0;34m\"Shapes %s and %s are incompatible\"\u001b[0m \u001b[0;34m%\u001b[0m \u001b[0;34m(\u001b[0m\u001b[0mself\u001b[0m\u001b[0;34m,\u001b[0m \u001b[0mother\u001b[0m\u001b[0;34m)\u001b[0m\u001b[0;34m)\u001b[0m\u001b[0;34m\u001b[0m\u001b[0;34m\u001b[0m\u001b[0m\n\u001b[0m\u001b[1;32m   1111\u001b[0m \u001b[0;34m\u001b[0m\u001b[0m\n\u001b[1;32m   1112\u001b[0m   \u001b[0;32mdef\u001b[0m \u001b[0mmost_specific_compatible_shape\u001b[0m\u001b[0;34m(\u001b[0m\u001b[0mself\u001b[0m\u001b[0;34m,\u001b[0m \u001b[0mother\u001b[0m\u001b[0;34m)\u001b[0m\u001b[0;34m:\u001b[0m\u001b[0;34m\u001b[0m\u001b[0;34m\u001b[0m\u001b[0m\n",
      "\u001b[0;31mValueError\u001b[0m: Shapes (540, 960, 32) and (270, 480, 32) are incompatible"
     ]
    }
   ],
   "source": [
    "model = srgan.generator\n",
    "model.load_weights('models/20200512_generator.h5')"
   ]
  },
  {
   "cell_type": "code",
   "execution_count": 11,
   "metadata": {},
   "outputs": [
    {
     "name": "stdout",
     "output_type": "stream",
     "text": [
      "Model: \"model_1\"\n",
      "__________________________________________________________________________________________________\n",
      "Layer (type)                    Output Shape         Param #     Connected to                     \n",
      "==================================================================================================\n",
      "input_1 (InputLayer)            (None, 540, 960, 3)  0                                            \n",
      "__________________________________________________________________________________________________\n",
      "G_Head_conv0 (Conv2D)           (None, 540, 960, 32) 896         input_1[0][0]                    \n",
      "__________________________________________________________________________________________________\n",
      "G_Head_act0 (PReLU)             (None, 540, 960, 32) 16588800    G_Head_conv0[0][0]               \n",
      "__________________________________________________________________________________________________\n",
      "G_Body_0_conv0 (Conv2D)         (None, 540, 960, 32) 9248        G_Head_act0[0][0]                \n",
      "__________________________________________________________________________________________________\n",
      "G_Body_0_norm0 (BatchNormalizat (None, 540, 960, 32) 128         G_Body_0_conv0[0][0]             \n",
      "__________________________________________________________________________________________________\n",
      "G_Body_0_act0 (PReLU)           (None, 540, 960, 32) 16588800    G_Body_0_norm0[0][0]             \n",
      "__________________________________________________________________________________________________\n",
      "G_Body_0_conv1 (Conv2D)         (None, 540, 960, 32) 9248        G_Body_0_act0[0][0]              \n",
      "__________________________________________________________________________________________________\n",
      "G_Body_0_norm1 (BatchNormalizat (None, 540, 960, 32) 128         G_Body_0_conv1[0][0]             \n",
      "__________________________________________________________________________________________________\n",
      "G_Body_0_act1 (PReLU)           (None, 540, 960, 32) 16588800    G_Body_0_norm1[0][0]             \n",
      "__________________________________________________________________________________________________\n",
      "add_1 (Add)                     (None, 540, 960, 32) 0           G_Body_0_act1[0][0]              \n",
      "                                                                 G_Head_act0[0][0]                \n",
      "__________________________________________________________________________________________________\n",
      "G_Body_1_conv0 (Conv2D)         (None, 540, 960, 32) 9248        add_1[0][0]                      \n",
      "__________________________________________________________________________________________________\n",
      "G_Body_1_norm0 (BatchNormalizat (None, 540, 960, 32) 128         G_Body_1_conv0[0][0]             \n",
      "__________________________________________________________________________________________________\n",
      "G_Body_1_act0 (PReLU)           (None, 540, 960, 32) 16588800    G_Body_1_norm0[0][0]             \n",
      "__________________________________________________________________________________________________\n",
      "G_Body_1_conv1 (Conv2D)         (None, 540, 960, 32) 9248        G_Body_1_act0[0][0]              \n",
      "__________________________________________________________________________________________________\n",
      "G_Body_1_norm1 (BatchNormalizat (None, 540, 960, 32) 128         G_Body_1_conv1[0][0]             \n",
      "__________________________________________________________________________________________________\n",
      "G_Body_1_act1 (PReLU)           (None, 540, 960, 32) 16588800    G_Body_1_norm1[0][0]             \n",
      "__________________________________________________________________________________________________\n",
      "add_2 (Add)                     (None, 540, 960, 32) 0           G_Body_1_act1[0][0]              \n",
      "                                                                 add_1[0][0]                      \n",
      "__________________________________________________________________________________________________\n",
      "add_3 (Add)                     (None, 540, 960, 32) 0           G_Head_act0[0][0]                \n",
      "                                                                 add_2[0][0]                      \n",
      "__________________________________________________________________________________________________\n",
      "G_Up_1_upsamp (UpSampling2D)    (None, 1080, 1920, 3 0           add_3[0][0]                      \n",
      "__________________________________________________________________________________________________\n",
      "G_Body_2_conv0 (Conv2D)         (None, 1080, 1920, 3 9248        G_Up_1_upsamp[0][0]              \n",
      "__________________________________________________________________________________________________\n",
      "G_Body_2_norm0 (BatchNormalizat (None, 1080, 1920, 3 128         G_Body_2_conv0[0][0]             \n",
      "__________________________________________________________________________________________________\n",
      "G_Body_2_act0 (PReLU)           (None, 1080, 1920, 3 66355200    G_Body_2_norm0[0][0]             \n",
      "__________________________________________________________________________________________________\n",
      "G_Body_2_conv1 (Conv2D)         (None, 1080, 1920, 3 9248        G_Body_2_act0[0][0]              \n",
      "__________________________________________________________________________________________________\n",
      "G_Body_2_norm1 (BatchNormalizat (None, 1080, 1920, 3 128         G_Body_2_conv1[0][0]             \n",
      "__________________________________________________________________________________________________\n",
      "add_4 (Add)                     (None, 1080, 1920, 3 0           G_Up_1_upsamp[0][0]              \n",
      "                                                                 G_Body_2_norm1[0][0]             \n",
      "__________________________________________________________________________________________________\n",
      "outRGB (Conv2D)                 (None, 1080, 1920, 3 867         add_4[0][0]                      \n",
      "==================================================================================================\n",
      "Total params: 149,357,219\n",
      "Trainable params: 149,356,835\n",
      "Non-trainable params: 384\n",
      "__________________________________________________________________________________________________\n"
     ]
    }
   ],
   "source": [
    "model.summary()"
   ]
  },
  {
   "cell_type": "code",
   "execution_count": 18,
   "metadata": {},
   "outputs": [
    {
     "data": {
      "text/plain": [
       "(540, 960, 3)"
      ]
     },
     "execution_count": 18,
     "metadata": {},
     "output_type": "execute_result"
    }
   ],
   "source": [
    "low_frame.shape"
   ]
  },
  {
   "cell_type": "code",
   "execution_count": 19,
   "metadata": {},
   "outputs": [
    {
     "data": {
      "text/plain": [
       "True"
      ]
     },
     "execution_count": 19,
     "metadata": {},
     "output_type": "execute_result"
    }
   ],
   "source": [
    "img = (low_frame - 127.5 ) / 127.5\n",
    "img_gen = model.predict(img[np.newaxis, :, :, :])\n",
    "\n",
    "img_int = ((img_gen * 127.5) + 127.5).astype('u1').reshape((1080, 1920, 3))\n",
    "cv2.imwrite('test.jpg', img_int)"
   ]
  },
  {
   "cell_type": "code",
   "execution_count": 20,
   "metadata": {},
   "outputs": [
    {
     "data": {
      "text/plain": [
       "True"
      ]
     },
     "execution_count": 20,
     "metadata": {},
     "output_type": "execute_result"
    }
   ],
   "source": [
    "cv2.imwrite('test_low.jpg', low_frame)"
   ]
  },
  {
   "cell_type": "code",
   "execution_count": null,
   "metadata": {},
   "outputs": [],
   "source": []
  }
 ],
 "metadata": {
  "kernelspec": {
   "display_name": "Python 3",
   "language": "python",
   "name": "python3"
  },
  "language_info": {
   "codemirror_mode": {
    "name": "ipython",
    "version": 3
   },
   "file_extension": ".py",
   "mimetype": "text/x-python",
   "name": "python",
   "nbconvert_exporter": "python",
   "pygments_lexer": "ipython3",
   "version": "3.6.9"
  }
 },
 "nbformat": 4,
 "nbformat_minor": 2
}
