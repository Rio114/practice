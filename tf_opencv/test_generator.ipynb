{
 "cells": [
  {
   "cell_type": "code",
   "execution_count": 1,
   "metadata": {},
   "outputs": [],
   "source": [
    "import cv2\n",
    "import numpy as np"
   ]
  },
  {
   "cell_type": "code",
   "execution_count": 3,
   "metadata": {},
   "outputs": [],
   "source": [
    "from tensorflow.compat.v1 import ConfigProto\n",
    "from tensorflow.compat.v1 import InteractiveSession\n",
    "config = ConfigProto()\n",
    "config.gpu_options.allow_growth = True\n",
    "session = InteractiveSession(config=config)"
   ]
  },
  {
   "cell_type": "code",
   "execution_count": 4,
   "metadata": {},
   "outputs": [
    {
     "name": "stderr",
     "output_type": "stream",
     "text": [
      "Using TensorFlow backend.\n"
     ]
    }
   ],
   "source": [
    "from srgan2 import SRGAN"
   ]
  },
  {
   "cell_type": "code",
   "execution_count": 5,
   "metadata": {},
   "outputs": [],
   "source": [
    "fname = 'UBMk30rjy0o.mp4'\n",
    "path = 'data/val/' + fname"
   ]
  },
  {
   "cell_type": "code",
   "execution_count": 13,
   "metadata": {},
   "outputs": [],
   "source": [
    "cap = cv2.VideoCapture(path)\n",
    "w = int(cap.get(cv2.CAP_PROP_FRAME_WIDTH)) # 動画の画面横幅\n",
    "h = int(cap.get(cv2.CAP_PROP_FRAME_HEIGHT)) # 動画の画面縦幅\n",
    "fcnt = int(cap.get(cv2.CAP_PROP_FRAME_COUNT)) # 総フレーム数\n",
    "fps = cap.get(cv2.CAP_PROP_FPS)\n",
    "\n",
    "for _ in range(1000):\n",
    "    ret, frame = cap.read()\n",
    "low_frame = cv2.resize(frame , (int(w/2), int(h/2)))"
   ]
  },
  {
   "cell_type": "code",
   "execution_count": 14,
   "metadata": {},
   "outputs": [],
   "source": [
    "input_dir = 'data/train/low/'\n",
    "tgt_dir = 'data/train/high/'\n",
    "\n",
    "input_dir_val = 'data/val/low/'\n",
    "tgt_dir_val = 'data/val/high/'\n",
    "\n",
    "\n",
    "test_file = 'UBMk30rjy0o_17675_1.jpg'\n",
    "test_low_path =  input_dir_val + test_file\n",
    "test_high_path = tgt_dir_val + test_file\n",
    "test_out_path = 'data/out/' + test_file\n",
    "test_test_path = 'data/test/' + test_file\n",
    "\n",
    "vgg_path = 'models/vgg16_notop.hdf5'\n",
    "\n",
    "input_shape = (540, 960, 3)\n",
    "tgt_shape = (1080, 1920, 3)\n",
    "\n",
    "batch_size = 2"
   ]
  },
  {
   "cell_type": "code",
   "execution_count": 15,
   "metadata": {},
   "outputs": [],
   "source": [
    "srgan = SRGAN(vgg_path, batch_size, input_shape, tgt_shape)"
   ]
  },
  {
   "cell_type": "code",
   "execution_count": 16,
   "metadata": {},
   "outputs": [],
   "source": [
    "model = srgan.generator\n",
    "model.load_weights('models/20200511_generator.h5')"
   ]
  },
  {
   "cell_type": "code",
   "execution_count": 17,
   "metadata": {},
   "outputs": [
    {
     "name": "stdout",
     "output_type": "stream",
     "text": [
      "Model: \"model_6\"\n",
      "__________________________________________________________________________________________________\n",
      "Layer (type)                    Output Shape         Param #     Connected to                     \n",
      "==================================================================================================\n",
      "input_6 (InputLayer)            (None, 540, 960, 3)  0                                            \n",
      "__________________________________________________________________________________________________\n",
      "G_Head_conv0 (Conv2D)           (None, 540, 960, 64) 15616       input_6[0][0]                    \n",
      "__________________________________________________________________________________________________\n",
      "G_Body_0_conv0 (Conv2D)         (None, 540, 960, 64) 36928       G_Head_conv0[0][0]               \n",
      "__________________________________________________________________________________________________\n",
      "G_Body_0_norm0 (BatchNormalizat (None, 540, 960, 64) 256         G_Body_0_conv0[0][0]             \n",
      "__________________________________________________________________________________________________\n",
      "G_Body_0_act0 (Activation)      (None, 540, 960, 64) 0           G_Body_0_norm0[0][0]             \n",
      "__________________________________________________________________________________________________\n",
      "G_Body_0_conv1 (Conv2D)         (None, 540, 960, 64) 36928       G_Body_0_act0[0][0]              \n",
      "__________________________________________________________________________________________________\n",
      "G_Body_0_norm1 (BatchNormalizat (None, 540, 960, 64) 256         G_Body_0_conv1[0][0]             \n",
      "__________________________________________________________________________________________________\n",
      "G_Body_0_act1 (Activation)      (None, 540, 960, 64) 0           G_Body_0_norm1[0][0]             \n",
      "__________________________________________________________________________________________________\n",
      "add_5 (Add)                     (None, 540, 960, 64) 0           G_Body_0_act1[0][0]              \n",
      "                                                                 G_Head_conv0[0][0]               \n",
      "__________________________________________________________________________________________________\n",
      "G_Body_1_conv0 (Conv2D)         (None, 540, 960, 64) 36928       add_5[0][0]                      \n",
      "__________________________________________________________________________________________________\n",
      "G_Body_1_norm0 (BatchNormalizat (None, 540, 960, 64) 256         G_Body_1_conv0[0][0]             \n",
      "__________________________________________________________________________________________________\n",
      "G_Body_1_act0 (Activation)      (None, 540, 960, 64) 0           G_Body_1_norm0[0][0]             \n",
      "__________________________________________________________________________________________________\n",
      "G_Body_1_conv1 (Conv2D)         (None, 540, 960, 64) 36928       G_Body_1_act0[0][0]              \n",
      "__________________________________________________________________________________________________\n",
      "G_Body_1_norm1 (BatchNormalizat (None, 540, 960, 64) 256         G_Body_1_conv1[0][0]             \n",
      "__________________________________________________________________________________________________\n",
      "G_Body_1_act1 (Activation)      (None, 540, 960, 64) 0           G_Body_1_norm1[0][0]             \n",
      "__________________________________________________________________________________________________\n",
      "add_6 (Add)                     (None, 540, 960, 64) 0           G_Body_1_act1[0][0]              \n",
      "                                                                 add_5[0][0]                      \n",
      "__________________________________________________________________________________________________\n",
      "add_7 (Add)                     (None, 540, 960, 64) 0           G_Head_conv0[0][0]               \n",
      "                                                                 add_6[0][0]                      \n",
      "__________________________________________________________________________________________________\n",
      "G_Up_1_upsamp (UpSampling2D)    (None, 1080, 1920, 6 0           add_7[0][0]                      \n",
      "__________________________________________________________________________________________________\n",
      "G_Body_4_conv0 (Conv2D)         (None, 1080, 1920, 6 36928       G_Up_1_upsamp[0][0]              \n",
      "__________________________________________________________________________________________________\n",
      "G_Body_4_norm0 (BatchNormalizat (None, 1080, 1920, 6 256         G_Body_4_conv0[0][0]             \n",
      "__________________________________________________________________________________________________\n",
      "G_Body_4_act0 (Activation)      (None, 1080, 1920, 6 0           G_Body_4_norm0[0][0]             \n",
      "__________________________________________________________________________________________________\n",
      "G_Body_4_conv1 (Conv2D)         (None, 1080, 1920, 6 36928       G_Body_4_act0[0][0]              \n",
      "__________________________________________________________________________________________________\n",
      "G_Body_4_norm1 (BatchNormalizat (None, 1080, 1920, 6 256         G_Body_4_conv1[0][0]             \n",
      "__________________________________________________________________________________________________\n",
      "G_Body_4_act1 (Activation)      (None, 1080, 1920, 6 0           G_Body_4_norm1[0][0]             \n",
      "                                                                 add_8[0][0]                      \n",
      "__________________________________________________________________________________________________\n",
      "add_8 (Add)                     (None, 1080, 1920, 6 0           G_Body_4_act1[0][0]              \n",
      "                                                                 G_Up_1_upsamp[0][0]              \n",
      "__________________________________________________________________________________________________\n",
      "GoutR (Conv2D)                  (None, 1080, 1920, 1 577         G_Body_4_act1[1][0]              \n",
      "__________________________________________________________________________________________________\n",
      "GoutG (Conv2D)                  (None, 1080, 1920, 1 577         G_Body_4_act1[1][0]              \n",
      "__________________________________________________________________________________________________\n",
      "GoutB (Conv2D)                  (None, 1080, 1920, 1 577         G_Body_4_act1[1][0]              \n",
      "__________________________________________________________________________________________________\n",
      "concatenate_2 (Concatenate)     (None, 1080, 1920, 3 0           GoutR[0][0]                      \n",
      "                                                                 GoutG[0][0]                      \n",
      "                                                                 GoutB[0][0]                      \n",
      "==================================================================================================\n",
      "Total params: 240,451\n",
      "Trainable params: 239,683\n",
      "Non-trainable params: 768\n",
      "__________________________________________________________________________________________________\n"
     ]
    }
   ],
   "source": [
    "model.summary()"
   ]
  },
  {
   "cell_type": "code",
   "execution_count": 18,
   "metadata": {},
   "outputs": [
    {
     "data": {
      "text/plain": [
       "(540, 960, 3)"
      ]
     },
     "execution_count": 18,
     "metadata": {},
     "output_type": "execute_result"
    }
   ],
   "source": [
    "low_frame.shape"
   ]
  },
  {
   "cell_type": "code",
   "execution_count": 19,
   "metadata": {},
   "outputs": [
    {
     "data": {
      "text/plain": [
       "True"
      ]
     },
     "execution_count": 19,
     "metadata": {},
     "output_type": "execute_result"
    }
   ],
   "source": [
    "img = (low_frame - 127.5 ) / 127.5\n",
    "img_gen = model.predict(img[np.newaxis, :, :, :])\n",
    "\n",
    "img_int = ((img_gen * 127.5) + 127.5).astype('u1').reshape((1080, 1920, 3))\n",
    "cv2.imwrite('test.jpg', img_int)"
   ]
  },
  {
   "cell_type": "code",
   "execution_count": 20,
   "metadata": {},
   "outputs": [
    {
     "data": {
      "text/plain": [
       "True"
      ]
     },
     "execution_count": 20,
     "metadata": {},
     "output_type": "execute_result"
    }
   ],
   "source": [
    "cv2.imwrite('test_low.jpg', low_frame)"
   ]
  },
  {
   "cell_type": "code",
   "execution_count": null,
   "metadata": {},
   "outputs": [],
   "source": []
  }
 ],
 "metadata": {
  "kernelspec": {
   "display_name": "Python 3",
   "language": "python",
   "name": "python3"
  },
  "language_info": {
   "codemirror_mode": {
    "name": "ipython",
    "version": 3
   },
   "file_extension": ".py",
   "mimetype": "text/x-python",
   "name": "python",
   "nbconvert_exporter": "python",
   "pygments_lexer": "ipython3",
   "version": "3.6.9"
  }
 },
 "nbformat": 4,
 "nbformat_minor": 2
}
