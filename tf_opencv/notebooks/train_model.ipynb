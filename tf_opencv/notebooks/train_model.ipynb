{
 "cells": [
  {
   "cell_type": "code",
   "execution_count": 1,
   "metadata": {},
   "outputs": [
    {
     "name": "stderr",
     "output_type": "stream",
     "text": [
      "Using TensorFlow backend.\n"
     ]
    }
   ],
   "source": [
    "import os\n",
    "import sys\n",
    "sys.path.append('../modules')\n",
    "\n",
    "import numpy as np\n",
    "import cv2\n",
    "\n",
    "from tensorflow.compat.v1 import ConfigProto\n",
    "from tensorflow.compat.v1 import InteractiveSession\n",
    "config = ConfigProto()\n",
    "# config.gpu_options.allow_growth = True\n",
    "config.gpu_options.per_process_gpu_memory_fraction = 0.8\n",
    "session = InteractiveSession(config=config)\n",
    "\n",
    "from srgan_d import SRGAN\n",
    "from generator import ImageDataGenerator"
   ]
  },
  {
   "cell_type": "code",
   "execution_count": 2,
   "metadata": {},
   "outputs": [],
   "source": [
    "r = 2\n",
    "input_dir = f'../data/train/{r}/low/'\n",
    "tgt_dir = f'../data/train/{r}/high/'\n",
    "\n",
    "input_dir_val = f'../data/val/{r}/low/'\n",
    "tgt_dir_val = f'../data/val/{r}/high/'\n",
    "\n",
    "\n",
    "test_file = 'UBMk30rjy0o_17675_42.jpg'\n",
    "test_low_path =  input_dir_val + test_file\n",
    "test_high_path = tgt_dir_val + test_file\n",
    "test_out_dir = '../data/out/'\n",
    "\n",
    "model_dir = '../models/'\n",
    "vgg_name = 'vgg16_notop.hdf5'\n",
    "vgg_path = model_dir + vgg_name\n",
    "\n",
    "input_shape = (67, 120, 3)\n",
    "tgt_shape = (134, 240, 3)\n",
    "\n",
    "batch_size = 8"
   ]
  },
  {
   "cell_type": "code",
   "execution_count": 3,
   "metadata": {
    "scrolled": true
   },
   "outputs": [
    {
     "name": "stderr",
     "output_type": "stream",
     "text": [
      "../modules/srgan_d.py:111: UserWarning: Update your `Network` call to the Keras 2 API: `Network(name=\"generator\", inputs=Tensor(\"in..., outputs=Tensor(\"ou...)`\n",
      "  self.shared_generator = Network(input=layers[0], output=layers[-1], name='generator')\n",
      "../modules/srgan_d.py:153: UserWarning: Update your `Network` call to the Keras 2 API: `Network(name=\"discriminator\", inputs=Tensor(\"in..., outputs=Tensor(\"de...)`\n",
      "  self.shared_discriminator = Network(input=layers[0], output=layers[-1], name='discriminator')\n",
      "/usr/local/lib/python3.6/dist-packages/keras/engine/saving.py:341: UserWarning: No training configuration found in save file: the model was *not* compiled. Compile it manually.\n",
      "  warnings.warn('No training configuration found in save file: '\n"
     ]
    }
   ],
   "source": [
    "srgan = SRGAN(vgg_path, batch_size, input_shape, tgt_shape)\n",
    "gen = ImageDataGenerator(input_dir, tgt_dir, batch_size)\n",
    "gen_valid = ImageDataGenerator(input_dir_val, tgt_dir_val, batch_size)"
   ]
  },
  {
   "cell_type": "code",
   "execution_count": 4,
   "metadata": {
    "scrolled": true
   },
   "outputs": [
    {
     "name": "stdout",
     "output_type": "stream",
     "text": [
      "Model: \"model_1\"\n",
      "__________________________________________________________________________________________________\n",
      "Layer (type)                    Output Shape         Param #     Connected to                     \n",
      "==================================================================================================\n",
      "input_1 (InputLayer)            (None, 67, 120, 3)   0                                            \n",
      "__________________________________________________________________________________________________\n",
      "G_Head_conv0 (Conv2D)           (None, 67, 120, 128) 3584        input_1[0][0]                    \n",
      "__________________________________________________________________________________________________\n",
      "G_Head_norm0 (BatchNormalizatio (None, 67, 120, 128) 512         G_Head_conv0[0][0]               \n",
      "__________________________________________________________________________________________________\n",
      "G_Head_act0 (LeakyReLU)         (None, 67, 120, 128) 0           G_Head_norm0[0][0]               \n",
      "__________________________________________________________________________________________________\n",
      "G_Body_0_conv0 (Conv2D)         (None, 67, 120, 128) 147584      G_Head_act0[0][0]                \n",
      "__________________________________________________________________________________________________\n",
      "G_Body_0_norm0 (BatchNormalizat (None, 67, 120, 128) 512         G_Body_0_conv0[0][0]             \n",
      "__________________________________________________________________________________________________\n",
      "G_Body_0_act0 (LeakyReLU)       (None, 67, 120, 128) 0           G_Body_0_norm0[0][0]             \n",
      "__________________________________________________________________________________________________\n",
      "G_Body_0_conv1 (Conv2D)         (None, 67, 120, 128) 147584      G_Body_0_act0[0][0]              \n",
      "__________________________________________________________________________________________________\n",
      "G_Body_0_norm1 (BatchNormalizat (None, 67, 120, 128) 512         G_Body_0_conv1[0][0]             \n",
      "__________________________________________________________________________________________________\n",
      "G_Body_0_act1 (LeakyReLU)       (None, 67, 120, 128) 0           G_Body_0_norm1[0][0]             \n",
      "__________________________________________________________________________________________________\n",
      "add_1 (Add)                     (None, 67, 120, 128) 0           G_Body_0_act1[0][0]              \n",
      "                                                                 G_Head_act0[0][0]                \n",
      "__________________________________________________________________________________________________\n",
      "G_Body_1_conv0 (Conv2D)         (None, 67, 120, 128) 147584      add_1[0][0]                      \n",
      "__________________________________________________________________________________________________\n",
      "G_Body_1_norm0 (BatchNormalizat (None, 67, 120, 128) 512         G_Body_1_conv0[0][0]             \n",
      "__________________________________________________________________________________________________\n",
      "G_Body_1_act0 (LeakyReLU)       (None, 67, 120, 128) 0           G_Body_1_norm0[0][0]             \n",
      "__________________________________________________________________________________________________\n",
      "G_Body_1_conv1 (Conv2D)         (None, 67, 120, 128) 147584      G_Body_1_act0[0][0]              \n",
      "__________________________________________________________________________________________________\n",
      "G_Body_1_norm1 (BatchNormalizat (None, 67, 120, 128) 512         G_Body_1_conv1[0][0]             \n",
      "__________________________________________________________________________________________________\n",
      "G_Body_1_act1 (LeakyReLU)       (None, 67, 120, 128) 0           G_Body_1_norm1[0][0]             \n",
      "__________________________________________________________________________________________________\n",
      "add_2 (Add)                     (None, 67, 120, 128) 0           G_Body_1_act1[0][0]              \n",
      "                                                                 add_1[0][0]                      \n",
      "__________________________________________________________________________________________________\n",
      "add_3 (Add)                     (None, 67, 120, 128) 0           G_Head_act0[0][0]                \n",
      "                                                                 add_2[0][0]                      \n",
      "__________________________________________________________________________________________________\n",
      "G_Up_1_upsamp (UpSampling2D)    (None, 134, 240, 128 0           add_3[0][0]                      \n",
      "__________________________________________________________________________________________________\n",
      "G_Body_3_conv0 (Conv2D)         (None, 134, 240, 128 147584      G_Up_1_upsamp[0][0]              \n",
      "__________________________________________________________________________________________________\n",
      "G_Body_3_norm0 (BatchNormalizat (None, 134, 240, 128 512         G_Body_3_conv0[0][0]             \n",
      "__________________________________________________________________________________________________\n",
      "G_Body_3_act0 (LeakyReLU)       (None, 134, 240, 128 0           G_Body_3_norm0[0][0]             \n",
      "__________________________________________________________________________________________________\n",
      "G_Body_3_conv1 (Conv2D)         (None, 134, 240, 128 147584      G_Body_3_act0[0][0]              \n",
      "__________________________________________________________________________________________________\n",
      "G_Body_3_norm1 (BatchNormalizat (None, 134, 240, 128 512         G_Body_3_conv1[0][0]             \n",
      "__________________________________________________________________________________________________\n",
      "G_Body_3_act1 (LeakyReLU)       (None, 134, 240, 128 0           G_Body_3_norm1[0][0]             \n",
      "__________________________________________________________________________________________________\n",
      "add_4 (Add)                     (None, 134, 240, 128 0           G_Body_3_act1[0][0]              \n",
      "                                                                 G_Up_1_upsamp[0][0]              \n",
      "__________________________________________________________________________________________________\n",
      "G_Tail_norm0 (BatchNormalizatio (None, 134, 240, 128 512         add_4[0][0]                      \n",
      "__________________________________________________________________________________________________\n",
      "outRGB (Conv2D)                 (None, 134, 240, 3)  3459        G_Tail_norm0[0][0]               \n",
      "==================================================================================================\n",
      "Total params: 896,643\n",
      "Trainable params: 894,595\n",
      "Non-trainable params: 2,048\n",
      "__________________________________________________________________________________________________\n"
     ]
    }
   ],
   "source": [
    "srgan.generator.summary()"
   ]
  },
  {
   "cell_type": "code",
   "execution_count": null,
   "metadata": {
    "scrolled": true
   },
   "outputs": [
    {
     "name": "stdout",
     "output_type": "stream",
     "text": [
      "epoch 0\n",
      "d_loss_real:0.4914948344230652, d_loss_fake:1.0407686233520508, vgg_loss:0.5939614176750183\n",
      "epoch 100\n",
      "d_loss_real:0.5160975456237793, d_loss_fake:0.624387264251709, vgg_loss:0.5183566808700562\n",
      "epoch 200\n",
      "d_loss_real:0.6036903262138367, d_loss_fake:0.6694714426994324, vgg_loss:0.33328622579574585\n",
      "epoch 300\n",
      "d_loss_real:0.6745109558105469, d_loss_fake:0.702735185623169, vgg_loss:0.19668911397457123\n",
      "epoch 400\n",
      "d_loss_real:0.712861180305481, d_loss_fake:0.6736838817596436, vgg_loss:0.31766003370285034\n",
      "epoch 500\n",
      "d_loss_real:0.6955215930938721, d_loss_fake:0.6811579465866089, vgg_loss:0.14818622171878815\n",
      "epoch 600\n",
      "d_loss_real:0.6481887102127075, d_loss_fake:0.6986109018325806, vgg_loss:0.12946920096874237\n",
      "epoch 700\n",
      "d_loss_real:0.6616953611373901, d_loss_fake:0.6573883891105652, vgg_loss:0.14242161810398102\n",
      "epoch 800\n",
      "d_loss_real:0.6652133464813232, d_loss_fake:0.7414003610610962, vgg_loss:0.18427929282188416\n",
      "epoch 900\n",
      "d_loss_real:0.670425534248352, d_loss_fake:0.721577525138855, vgg_loss:0.13480742275714874\n",
      "epoch 1000\n",
      "d_loss_real:0.6370457410812378, d_loss_fake:0.6197403073310852, vgg_loss:0.15924914181232452\n",
      "epoch 1100\n",
      "d_loss_real:0.7062726616859436, d_loss_fake:0.5647186040878296, vgg_loss:0.16839368641376495\n",
      "epoch 1200\n",
      "d_loss_real:0.7195108532905579, d_loss_fake:0.6428804397583008, vgg_loss:0.13479496538639069\n",
      "epoch 1300\n",
      "d_loss_real:0.6213314533233643, d_loss_fake:0.7322725057601929, vgg_loss:0.14539732038974762\n",
      "epoch 1400\n",
      "d_loss_real:0.8150080442428589, d_loss_fake:0.8307653069496155, vgg_loss:0.1462927907705307\n",
      "epoch 1500\n",
      "d_loss_real:0.751025915145874, d_loss_fake:0.44981124997138977, vgg_loss:0.17400315403938293\n",
      "epoch 1600\n",
      "d_loss_real:0.6224263906478882, d_loss_fake:0.46528851985931396, vgg_loss:0.19174854457378387\n",
      "epoch 1700\n",
      "d_loss_real:1.0843303203582764, d_loss_fake:1.0414197444915771, vgg_loss:0.14540912210941315\n",
      "epoch 1800\n",
      "d_loss_real:0.742406964302063, d_loss_fake:0.992188572883606, vgg_loss:0.15725655853748322\n",
      "epoch 1900\n",
      "d_loss_real:0.7492735385894775, d_loss_fake:0.708613395690918, vgg_loss:0.24879190325737\n",
      "epoch 2000\n",
      "d_loss_real:1.2381502389907837, d_loss_fake:1.2246942520141602, vgg_loss:0.12148535996675491\n",
      "epoch 2100\n",
      "d_loss_real:1.1019177436828613, d_loss_fake:0.9610673189163208, vgg_loss:0.2979058623313904\n",
      "epoch 2200\n",
      "d_loss_real:0.9318736791610718, d_loss_fake:0.8442823886871338, vgg_loss:0.2244470864534378\n",
      "epoch 2300\n",
      "d_loss_real:0.8225815296173096, d_loss_fake:0.8547544479370117, vgg_loss:0.16646699607372284\n",
      "epoch 2400\n",
      "d_loss_real:0.569770097732544, d_loss_fake:0.6676038503646851, vgg_loss:0.1331159770488739\n",
      "epoch 2500\n",
      "d_loss_real:1.0003511905670166, d_loss_fake:0.8045791387557983, vgg_loss:0.18815898895263672\n",
      "epoch 2600\n",
      "d_loss_real:0.9265098571777344, d_loss_fake:0.9145941734313965, vgg_loss:0.17686933279037476\n",
      "epoch 2700\n",
      "d_loss_real:1.1062159538269043, d_loss_fake:1.2369695901870728, vgg_loss:0.21134920418262482\n",
      "epoch 2800\n",
      "d_loss_real:0.9733852744102478, d_loss_fake:1.006361961364746, vgg_loss:0.20058473944664001\n",
      "epoch 2900\n",
      "d_loss_real:0.9028765559196472, d_loss_fake:0.5040116310119629, vgg_loss:0.18942829966545105\n",
      "epoch 3000\n",
      "d_loss_real:0.6707196235656738, d_loss_fake:0.5973753929138184, vgg_loss:0.23665863275527954\n",
      "epoch 3100\n",
      "d_loss_real:1.006546974182129, d_loss_fake:0.7192193269729614, vgg_loss:0.19114060699939728\n",
      "epoch 3200\n",
      "d_loss_real:0.7221484184265137, d_loss_fake:1.1239047050476074, vgg_loss:0.1762532889842987\n",
      "epoch 3300\n",
      "d_loss_real:0.7861596345901489, d_loss_fake:0.4743824303150177, vgg_loss:0.13299964368343353\n",
      "epoch 3400\n",
      "d_loss_real:1.1247034072875977, d_loss_fake:0.5335581302642822, vgg_loss:0.24961887300014496\n",
      "epoch 3500\n",
      "d_loss_real:1.0584919452667236, d_loss_fake:1.0318717956542969, vgg_loss:0.1418551802635193\n",
      "epoch 3600\n",
      "d_loss_real:1.120572566986084, d_loss_fake:1.0392544269561768, vgg_loss:0.2392042577266693\n",
      "epoch 3700\n",
      "d_loss_real:1.059504747390747, d_loss_fake:0.6339547634124756, vgg_loss:0.16542409360408783\n",
      "epoch 3800\n",
      "d_loss_real:0.937252402305603, d_loss_fake:0.7788556814193726, vgg_loss:0.24270042777061462\n",
      "epoch 3900\n",
      "d_loss_real:0.5759251713752747, d_loss_fake:0.7460254430770874, vgg_loss:0.2184377759695053\n",
      "epoch 4000\n",
      "d_loss_real:1.0741313695907593, d_loss_fake:1.0357656478881836, vgg_loss:0.18390534818172455\n",
      "epoch 4100\n",
      "d_loss_real:1.5826650857925415, d_loss_fake:0.7411259412765503, vgg_loss:0.15969687700271606\n"
     ]
    }
   ],
   "source": [
    "for e in range(10001):\n",
    "    X_low, X_high = gen.flow_from_directory().__next__()\n",
    "    srgan.train(X_low, X_high)\n",
    "    if e % 100 == 0:\n",
    "        print('epoch', e)\n",
    "        srgan.valid(X_low, X_high)\n",
    "        \n",
    "        test_img_low = (cv2.imread(test_low_path) / 255.0)[np.newaxis, :, :, :]\n",
    "        test_img_high = (cv2.imread(test_high_path) / 255.0)[np.newaxis, :, :, :]\n",
    "\n",
    "        test_img_sr = srgan.generator.predict(test_img_low)\n",
    "        test_img_sr_int = (test_img_sr * 255).astype('u1')[0]\n",
    "        test_out_path = test_out_dir + test_file.split('.')[0] + f'_test_{e}.jpg'\n",
    "        cv2.imwrite(test_out_path, test_img_sr_int)"
   ]
  },
  {
   "cell_type": "code",
   "execution_count": null,
   "metadata": {},
   "outputs": [],
   "source": [
    "out_model_name = '20200604_generator.h5'\n",
    "srgan.generator.save(model_dir + out_model_name, include_optimizer=False)"
   ]
  },
  {
   "cell_type": "code",
   "execution_count": null,
   "metadata": {},
   "outputs": [],
   "source": []
  },
  {
   "cell_type": "code",
   "execution_count": null,
   "metadata": {},
   "outputs": [],
   "source": []
  }
 ],
 "metadata": {
  "kernelspec": {
   "display_name": "Python 3",
   "language": "python",
   "name": "python3"
  },
  "language_info": {
   "codemirror_mode": {
    "name": "ipython",
    "version": 3
   },
   "file_extension": ".py",
   "mimetype": "text/x-python",
   "name": "python",
   "nbconvert_exporter": "python",
   "pygments_lexer": "ipython3",
   "version": "3.6.9"
  }
 },
 "nbformat": 4,
 "nbformat_minor": 2
}
