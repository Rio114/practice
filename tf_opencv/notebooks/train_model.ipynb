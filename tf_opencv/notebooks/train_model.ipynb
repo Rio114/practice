{
 "cells": [
  {
   "cell_type": "code",
   "execution_count": 1,
   "metadata": {},
   "outputs": [
    {
     "name": "stderr",
     "output_type": "stream",
     "text": [
      "Using TensorFlow backend.\n"
     ]
    }
   ],
   "source": [
    "import os\n",
    "import sys\n",
    "sys.path.append('../modules')\n",
    "\n",
    "import numpy as np\n",
    "import cv2\n",
    "\n",
    "from tensorflow.compat.v1 import ConfigProto\n",
    "from tensorflow.compat.v1 import InteractiveSession\n",
    "config = ConfigProto()\n",
    "# config.gpu_options.allow_growth = True\n",
    "config.gpu_options.per_process_gpu_memory_fraction = 0.8\n",
    "session = InteractiveSession(config=config)\n",
    "\n",
    "from srgan_d import SRGAN\n",
    "from generator import ImageDataGenerator"
   ]
  },
  {
   "cell_type": "code",
   "execution_count": 2,
   "metadata": {},
   "outputs": [],
   "source": [
    "r = 2\n",
    "input_dir = f'../data/train/{r}/low/'\n",
    "tgt_dir = f'../data/train/{r}/high/'\n",
    "\n",
    "input_dir_val = f'../data/val/{r}/low/'\n",
    "tgt_dir_val = f'../data/val/{r}/high/'\n",
    "\n",
    "\n",
    "test_file = 'UBMk30rjy0o_17675_42.jpg'\n",
    "test_low_path =  input_dir_val + test_file\n",
    "test_high_path = tgt_dir_val + test_file\n",
    "test_out_dir = '../data/out/'\n",
    "\n",
    "model_dir = '../models/'\n",
    "vgg_name = 'vgg16_notop.hdf5'\n",
    "vgg_path = model_dir + vgg_name\n",
    "\n",
    "input_shape = (67, 120, 3)\n",
    "tgt_shape = (134, 240, 3)\n",
    "\n",
    "batch_size = 16"
   ]
  },
  {
   "cell_type": "code",
   "execution_count": 3,
   "metadata": {
    "scrolled": false
   },
   "outputs": [
    {
     "name": "stderr",
     "output_type": "stream",
     "text": [
      "../modules/srgan_d.py:110: UserWarning: Update your `Network` call to the Keras 2 API: `Network(name=\"generator\", inputs=Tensor(\"in..., outputs=Tensor(\"ou...)`\n",
      "  self.shared_generator = Network(input=layers[0], output=layers[-1], name='generator')\n",
      "../modules/srgan_d.py:139: UserWarning: Update your `Network` call to the Keras 2 API: `Network(name=\"discriminator\", inputs=Tensor(\"in..., outputs=Tensor(\"de...)`\n",
      "  self.shared_discriminator = Network(input=layers[0], output=layers[-1], name='discriminator')\n",
      "/usr/local/lib/python3.6/dist-packages/keras/engine/saving.py:341: UserWarning: No training configuration found in save file: the model was *not* compiled. Compile it manually.\n",
      "  warnings.warn('No training configuration found in save file: '\n"
     ]
    }
   ],
   "source": [
    "srgan = SRGAN(vgg_path, batch_size, input_shape, tgt_shape)\n",
    "gen = ImageDataGenerator(input_dir, tgt_dir, batch_size)\n",
    "gen_valid = ImageDataGenerator(input_dir_val, tgt_dir_val, batch_size)"
   ]
  },
  {
   "cell_type": "code",
   "execution_count": 4,
   "metadata": {
    "scrolled": true
   },
   "outputs": [
    {
     "name": "stdout",
     "output_type": "stream",
     "text": [
      "epoch 0\n",
      "d_loss_real:0.322417676448822, d_loss_fake:1.6530476808547974, vgg_loss:4.2931742668151855\n",
      "epoch 100\n",
      "d_loss_real:0.5585377216339111, d_loss_fake:0.713955819606781, vgg_loss:1.6487029790878296\n"
     ]
    }
   ],
   "source": [
    "for e in range(101):\n",
    "    X_low, X_high = gen.flow_from_directory().__next__()\n",
    "    srgan.train(X_low, X_high)\n",
    "    if e % 100 == 0:\n",
    "        print('epoch', e)\n",
    "        srgan.valid(X_low, X_high)\n",
    "        \n",
    "        test_img_low = (cv2.imread(test_low_path) / 255.0)[np.newaxis, :, :, :]\n",
    "        test_img_high = (cv2.imread(test_high_path) / 255.0)[np.newaxis, :, :, :]\n",
    "\n",
    "        test_img_sr = srgan.generator.predict(test_img_low)\n",
    "        test_img_sr_int = (test_img_sr * 255).astype('u1')[0]\n",
    "        test_out_path = test_out_dir + test_file.split('.')[0] + f'_test_{e}.jpg'\n",
    "        cv2.imwrite(test_out_path, test_img_sr_int)"
   ]
  },
  {
   "cell_type": "code",
   "execution_count": 6,
   "metadata": {},
   "outputs": [],
   "source": [
    "out_model_name = '20200516_generator.h5'\n",
    "srgan.generator.save(model_dir + out_model_name, include_optimizer=False)"
   ]
  },
  {
   "cell_type": "code",
   "execution_count": null,
   "metadata": {},
   "outputs": [],
   "source": []
  }
 ],
 "metadata": {
  "kernelspec": {
   "display_name": "Python 3",
   "language": "python",
   "name": "python3"
  },
  "language_info": {
   "codemirror_mode": {
    "name": "ipython",
    "version": 3
   },
   "file_extension": ".py",
   "mimetype": "text/x-python",
   "name": "python",
   "nbconvert_exporter": "python",
   "pygments_lexer": "ipython3",
   "version": "3.6.9"
  }
 },
 "nbformat": 4,
 "nbformat_minor": 2
}
