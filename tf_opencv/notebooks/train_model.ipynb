{
 "cells": [
  {
   "cell_type": "code",
   "execution_count": 1,
   "metadata": {},
   "outputs": [
    {
     "name": "stderr",
     "output_type": "stream",
     "text": [
      "Using TensorFlow backend.\n"
     ]
    }
   ],
   "source": [
    "import os\n",
    "import sys\n",
    "sys.path.append('../modules')\n",
    "\n",
    "import numpy as np\n",
    "import cv2\n",
    "\n",
    "from tensorflow.compat.v1 import ConfigProto\n",
    "from tensorflow.compat.v1 import InteractiveSession\n",
    "config = ConfigProto()\n",
    "# config.gpu_options.allow_growth = True\n",
    "config.gpu_options.per_process_gpu_memory_fraction = 0.8\n",
    "session = InteractiveSession(config=config)\n",
    "\n",
    "from srgan_d import SRGAN\n",
    "from generator import ImageDataGenerator"
   ]
  },
  {
   "cell_type": "code",
   "execution_count": 2,
   "metadata": {},
   "outputs": [],
   "source": [
    "r = 2\n",
    "input_dir = f'../data/train/{r}/low/'\n",
    "tgt_dir = f'../data/train/{r}/high/'\n",
    "\n",
    "input_dir_val = f'../data/val/{r}/low/'\n",
    "tgt_dir_val = f'../data/val/{r}/high/'\n",
    "\n",
    "\n",
    "test_file = 'UBMk30rjy0o_17675_42.jpg'\n",
    "test_low_path =  input_dir_val + test_file\n",
    "test_high_path = tgt_dir_val + test_file\n",
    "test_out_dir = '../data/out/'\n",
    "\n",
    "model_dir = '../models/'\n",
    "vgg_name = 'vgg16_notop.hdf5'\n",
    "vgg_path = model_dir + vgg_name\n",
    "\n",
    "input_shape = (67, 120, 3)\n",
    "tgt_shape = (134, 240, 3)\n",
    "\n",
    "batch_size = 8"
   ]
  },
  {
   "cell_type": "code",
   "execution_count": 3,
   "metadata": {
    "scrolled": true
   },
   "outputs": [
    {
     "name": "stderr",
     "output_type": "stream",
     "text": [
      "../modules/srgan_d.py:111: UserWarning: Update your `Network` call to the Keras 2 API: `Network(name=\"generator\", inputs=Tensor(\"in..., outputs=Tensor(\"ou...)`\n",
      "  self.shared_generator = Network(input=layers[0], output=layers[-1], name='generator')\n",
      "../modules/srgan_d.py:153: UserWarning: Update your `Network` call to the Keras 2 API: `Network(name=\"discriminator\", inputs=Tensor(\"in..., outputs=Tensor(\"de...)`\n",
      "  self.shared_discriminator = Network(input=layers[0], output=layers[-1], name='discriminator')\n",
      "/usr/local/lib/python3.6/dist-packages/keras/engine/saving.py:341: UserWarning: No training configuration found in save file: the model was *not* compiled. Compile it manually.\n",
      "  warnings.warn('No training configuration found in save file: '\n"
     ]
    }
   ],
   "source": [
    "srgan = SRGAN(vgg_path, batch_size, input_shape, tgt_shape)\n",
    "gen = ImageDataGenerator(input_dir, tgt_dir, batch_size)\n",
    "gen_valid = ImageDataGenerator(input_dir_val, tgt_dir_val, batch_size)"
   ]
  },
  {
   "cell_type": "code",
   "execution_count": 4,
   "metadata": {
    "scrolled": true
   },
   "outputs": [
    {
     "name": "stdout",
     "output_type": "stream",
     "text": [
      "Model: \"model_1\"\n",
      "__________________________________________________________________________________________________\n",
      "Layer (type)                    Output Shape         Param #     Connected to                     \n",
      "==================================================================================================\n",
      "input_1 (InputLayer)            (None, 67, 120, 3)   0                                            \n",
      "__________________________________________________________________________________________________\n",
      "G_Head_conv0 (Conv2D)           (None, 67, 120, 128) 3584        input_1[0][0]                    \n",
      "__________________________________________________________________________________________________\n",
      "G_Head_norm0 (BatchNormalizatio (None, 67, 120, 128) 512         G_Head_conv0[0][0]               \n",
      "__________________________________________________________________________________________________\n",
      "G_Head_act0 (LeakyReLU)         (None, 67, 120, 128) 0           G_Head_norm0[0][0]               \n",
      "__________________________________________________________________________________________________\n",
      "G_Body_0_conv0 (Conv2D)         (None, 67, 120, 128) 147584      G_Head_act0[0][0]                \n",
      "__________________________________________________________________________________________________\n",
      "G_Body_0_norm0 (BatchNormalizat (None, 67, 120, 128) 512         G_Body_0_conv0[0][0]             \n",
      "__________________________________________________________________________________________________\n",
      "G_Body_0_act0 (LeakyReLU)       (None, 67, 120, 128) 0           G_Body_0_norm0[0][0]             \n",
      "__________________________________________________________________________________________________\n",
      "G_Body_0_conv1 (Conv2D)         (None, 67, 120, 128) 147584      G_Body_0_act0[0][0]              \n",
      "__________________________________________________________________________________________________\n",
      "G_Body_0_norm1 (BatchNormalizat (None, 67, 120, 128) 512         G_Body_0_conv1[0][0]             \n",
      "__________________________________________________________________________________________________\n",
      "G_Body_0_act1 (LeakyReLU)       (None, 67, 120, 128) 0           G_Body_0_norm1[0][0]             \n",
      "__________________________________________________________________________________________________\n",
      "add_1 (Add)                     (None, 67, 120, 128) 0           G_Body_0_act1[0][0]              \n",
      "                                                                 G_Head_act0[0][0]                \n",
      "__________________________________________________________________________________________________\n",
      "G_Body_1_conv0 (Conv2D)         (None, 67, 120, 128) 147584      add_1[0][0]                      \n",
      "__________________________________________________________________________________________________\n",
      "G_Body_1_norm0 (BatchNormalizat (None, 67, 120, 128) 512         G_Body_1_conv0[0][0]             \n",
      "__________________________________________________________________________________________________\n",
      "G_Body_1_act0 (LeakyReLU)       (None, 67, 120, 128) 0           G_Body_1_norm0[0][0]             \n",
      "__________________________________________________________________________________________________\n",
      "G_Body_1_conv1 (Conv2D)         (None, 67, 120, 128) 147584      G_Body_1_act0[0][0]              \n",
      "__________________________________________________________________________________________________\n",
      "G_Body_1_norm1 (BatchNormalizat (None, 67, 120, 128) 512         G_Body_1_conv1[0][0]             \n",
      "__________________________________________________________________________________________________\n",
      "G_Body_1_act1 (LeakyReLU)       (None, 67, 120, 128) 0           G_Body_1_norm1[0][0]             \n",
      "__________________________________________________________________________________________________\n",
      "add_2 (Add)                     (None, 67, 120, 128) 0           G_Body_1_act1[0][0]              \n",
      "                                                                 add_1[0][0]                      \n",
      "__________________________________________________________________________________________________\n",
      "add_3 (Add)                     (None, 67, 120, 128) 0           G_Head_act0[0][0]                \n",
      "                                                                 add_2[0][0]                      \n",
      "__________________________________________________________________________________________________\n",
      "G_Up_1_upsamp (UpSampling2D)    (None, 134, 240, 128 0           add_3[0][0]                      \n",
      "__________________________________________________________________________________________________\n",
      "G_Body_3_conv0 (Conv2D)         (None, 134, 240, 128 147584      G_Up_1_upsamp[0][0]              \n",
      "__________________________________________________________________________________________________\n",
      "G_Body_3_norm0 (BatchNormalizat (None, 134, 240, 128 512         G_Body_3_conv0[0][0]             \n",
      "__________________________________________________________________________________________________\n",
      "G_Body_3_act0 (LeakyReLU)       (None, 134, 240, 128 0           G_Body_3_norm0[0][0]             \n",
      "__________________________________________________________________________________________________\n",
      "G_Body_3_conv1 (Conv2D)         (None, 134, 240, 128 147584      G_Body_3_act0[0][0]              \n",
      "__________________________________________________________________________________________________\n",
      "G_Body_3_norm1 (BatchNormalizat (None, 134, 240, 128 512         G_Body_3_conv1[0][0]             \n",
      "__________________________________________________________________________________________________\n",
      "G_Body_3_act1 (LeakyReLU)       (None, 134, 240, 128 0           G_Body_3_norm1[0][0]             \n",
      "__________________________________________________________________________________________________\n",
      "add_4 (Add)                     (None, 134, 240, 128 0           G_Body_3_act1[0][0]              \n",
      "                                                                 G_Up_1_upsamp[0][0]              \n",
      "__________________________________________________________________________________________________\n",
      "G_Tail_norm0 (BatchNormalizatio (None, 134, 240, 128 512         add_4[0][0]                      \n",
      "__________________________________________________________________________________________________\n",
      "outRGB (Conv2D)                 (None, 134, 240, 3)  3459        G_Tail_norm0[0][0]               \n",
      "==================================================================================================\n",
      "Total params: 896,643\n",
      "Trainable params: 894,595\n",
      "Non-trainable params: 2,048\n",
      "__________________________________________________________________________________________________\n"
     ]
    }
   ],
   "source": [
    "srgan.generator.summary()"
   ]
  },
  {
   "cell_type": "code",
   "execution_count": 5,
   "metadata": {
    "scrolled": true
   },
   "outputs": [
    {
     "name": "stdout",
     "output_type": "stream",
     "text": [
      "epoch 0\n",
      "d_loss_real:0.6001166701316833, d_loss_fake:0.7436120510101318, vgg_loss:0.6515061259269714\n"
     ]
    },
    {
     "ename": "KeyboardInterrupt",
     "evalue": "",
     "output_type": "error",
     "traceback": [
      "\u001b[0;31m---------------------------------------------------------------------------\u001b[0m",
      "\u001b[0;31mKeyboardInterrupt\u001b[0m                         Traceback (most recent call last)",
      "\u001b[0;32m<ipython-input-5-84979ae0035c>\u001b[0m in \u001b[0;36m<module>\u001b[0;34m\u001b[0m\n\u001b[1;32m      1\u001b[0m \u001b[0;32mfor\u001b[0m \u001b[0me\u001b[0m \u001b[0;32min\u001b[0m \u001b[0mrange\u001b[0m\u001b[0;34m(\u001b[0m\u001b[0;36m4001\u001b[0m\u001b[0;34m)\u001b[0m\u001b[0;34m:\u001b[0m\u001b[0;34m\u001b[0m\u001b[0;34m\u001b[0m\u001b[0m\n\u001b[0;32m----> 2\u001b[0;31m     \u001b[0mX_low\u001b[0m\u001b[0;34m,\u001b[0m \u001b[0mX_high\u001b[0m \u001b[0;34m=\u001b[0m \u001b[0mgen\u001b[0m\u001b[0;34m.\u001b[0m\u001b[0mflow_from_directory\u001b[0m\u001b[0;34m(\u001b[0m\u001b[0;34m)\u001b[0m\u001b[0;34m.\u001b[0m\u001b[0m__next__\u001b[0m\u001b[0;34m(\u001b[0m\u001b[0;34m)\u001b[0m\u001b[0;34m\u001b[0m\u001b[0;34m\u001b[0m\u001b[0m\n\u001b[0m\u001b[1;32m      3\u001b[0m     \u001b[0msrgan\u001b[0m\u001b[0;34m.\u001b[0m\u001b[0mtrain\u001b[0m\u001b[0;34m(\u001b[0m\u001b[0mX_low\u001b[0m\u001b[0;34m,\u001b[0m \u001b[0mX_high\u001b[0m\u001b[0;34m)\u001b[0m\u001b[0;34m\u001b[0m\u001b[0;34m\u001b[0m\u001b[0m\n\u001b[1;32m      4\u001b[0m     \u001b[0;32mif\u001b[0m \u001b[0me\u001b[0m \u001b[0;34m%\u001b[0m \u001b[0;36m100\u001b[0m \u001b[0;34m==\u001b[0m \u001b[0;36m0\u001b[0m\u001b[0;34m:\u001b[0m\u001b[0;34m\u001b[0m\u001b[0;34m\u001b[0m\u001b[0m\n\u001b[1;32m      5\u001b[0m         \u001b[0mprint\u001b[0m\u001b[0;34m(\u001b[0m\u001b[0;34m'epoch'\u001b[0m\u001b[0;34m,\u001b[0m \u001b[0me\u001b[0m\u001b[0;34m)\u001b[0m\u001b[0;34m\u001b[0m\u001b[0;34m\u001b[0m\u001b[0m\n",
      "\u001b[0;32m/home/work/modules/generator.py\u001b[0m in \u001b[0;36mflow_from_directory\u001b[0;34m(self)\u001b[0m\n\u001b[1;32m     23\u001b[0m             \u001b[0mY_list\u001b[0m \u001b[0;34m=\u001b[0m \u001b[0;34m[\u001b[0m\u001b[0;34m]\u001b[0m\u001b[0;34m\u001b[0m\u001b[0;34m\u001b[0m\u001b[0m\n\u001b[1;32m     24\u001b[0m             \u001b[0mnum\u001b[0m \u001b[0;34m=\u001b[0m \u001b[0mlen\u001b[0m\u001b[0;34m(\u001b[0m\u001b[0mself\u001b[0m\u001b[0;34m.\u001b[0m\u001b[0mimg_list\u001b[0m\u001b[0;34m)\u001b[0m\u001b[0;34m\u001b[0m\u001b[0;34m\u001b[0m\u001b[0m\n\u001b[0;32m---> 25\u001b[0;31m             \u001b[0mimges\u001b[0m \u001b[0;34m=\u001b[0m \u001b[0mrandom\u001b[0m\u001b[0;34m.\u001b[0m\u001b[0msample\u001b[0m\u001b[0;34m(\u001b[0m\u001b[0mself\u001b[0m\u001b[0;34m.\u001b[0m\u001b[0mimg_list\u001b[0m\u001b[0;34m,\u001b[0m \u001b[0mnum\u001b[0m\u001b[0;34m)\u001b[0m\u001b[0;34m\u001b[0m\u001b[0;34m\u001b[0m\u001b[0m\n\u001b[0m\u001b[1;32m     26\u001b[0m             \u001b[0;32mfor\u001b[0m \u001b[0mi\u001b[0m \u001b[0;32min\u001b[0m \u001b[0mrange\u001b[0m\u001b[0;34m(\u001b[0m\u001b[0mnum\u001b[0m \u001b[0;34m//\u001b[0m \u001b[0mbatch_size\u001b[0m \u001b[0;34m-\u001b[0m \u001b[0;36m1\u001b[0m\u001b[0;34m)\u001b[0m\u001b[0;34m:\u001b[0m\u001b[0;34m\u001b[0m\u001b[0;34m\u001b[0m\u001b[0m\n\u001b[1;32m     27\u001b[0m                 \u001b[0mtrain_imges\u001b[0m \u001b[0;34m=\u001b[0m \u001b[0mimges\u001b[0m\u001b[0;34m[\u001b[0m\u001b[0mi\u001b[0m\u001b[0;34m*\u001b[0m\u001b[0mbatch_size\u001b[0m\u001b[0;34m:\u001b[0m\u001b[0;34m(\u001b[0m\u001b[0mi\u001b[0m\u001b[0;34m+\u001b[0m\u001b[0;36m1\u001b[0m\u001b[0;34m)\u001b[0m\u001b[0;34m*\u001b[0m\u001b[0mbatch_size\u001b[0m\u001b[0;34m]\u001b[0m\u001b[0;34m\u001b[0m\u001b[0;34m\u001b[0m\u001b[0m\n",
      "\u001b[0;32m/usr/lib/python3.6/random.py\u001b[0m in \u001b[0;36msample\u001b[0;34m(self, population, k)\u001b[0m\n\u001b[1;32m    328\u001b[0m             \u001b[0;32mfor\u001b[0m \u001b[0mi\u001b[0m \u001b[0;32min\u001b[0m \u001b[0mrange\u001b[0m\u001b[0;34m(\u001b[0m\u001b[0mk\u001b[0m\u001b[0;34m)\u001b[0m\u001b[0;34m:\u001b[0m         \u001b[0;31m# invariant:  non-selected at [0,n-i)\u001b[0m\u001b[0;34m\u001b[0m\u001b[0;34m\u001b[0m\u001b[0m\n\u001b[1;32m    329\u001b[0m                 \u001b[0mj\u001b[0m \u001b[0;34m=\u001b[0m \u001b[0mrandbelow\u001b[0m\u001b[0;34m(\u001b[0m\u001b[0mn\u001b[0m\u001b[0;34m-\u001b[0m\u001b[0mi\u001b[0m\u001b[0;34m)\u001b[0m\u001b[0;34m\u001b[0m\u001b[0;34m\u001b[0m\u001b[0m\n\u001b[0;32m--> 330\u001b[0;31m                 \u001b[0mresult\u001b[0m\u001b[0;34m[\u001b[0m\u001b[0mi\u001b[0m\u001b[0;34m]\u001b[0m \u001b[0;34m=\u001b[0m \u001b[0mpool\u001b[0m\u001b[0;34m[\u001b[0m\u001b[0mj\u001b[0m\u001b[0;34m]\u001b[0m\u001b[0;34m\u001b[0m\u001b[0;34m\u001b[0m\u001b[0m\n\u001b[0m\u001b[1;32m    331\u001b[0m                 \u001b[0mpool\u001b[0m\u001b[0;34m[\u001b[0m\u001b[0mj\u001b[0m\u001b[0;34m]\u001b[0m \u001b[0;34m=\u001b[0m \u001b[0mpool\u001b[0m\u001b[0;34m[\u001b[0m\u001b[0mn\u001b[0m\u001b[0;34m-\u001b[0m\u001b[0mi\u001b[0m\u001b[0;34m-\u001b[0m\u001b[0;36m1\u001b[0m\u001b[0;34m]\u001b[0m   \u001b[0;31m# move non-selected item into vacancy\u001b[0m\u001b[0;34m\u001b[0m\u001b[0;34m\u001b[0m\u001b[0m\n\u001b[1;32m    332\u001b[0m         \u001b[0;32melse\u001b[0m\u001b[0;34m:\u001b[0m\u001b[0;34m\u001b[0m\u001b[0;34m\u001b[0m\u001b[0m\n",
      "\u001b[0;31mKeyboardInterrupt\u001b[0m: "
     ]
    }
   ],
   "source": [
    "for e in range(4001):\n",
    "    X_low, X_high = gen.flow_from_directory().__next__()\n",
    "    srgan.train(X_low, X_high)\n",
    "    if e % 100 == 0:\n",
    "        print('epoch', e)\n",
    "        srgan.valid(X_low, X_high)\n",
    "        \n",
    "        test_img_low = (cv2.imread(test_low_path) / 255.0)[np.newaxis, :, :, :]\n",
    "        test_img_high = (cv2.imread(test_high_path) / 255.0)[np.newaxis, :, :, :]\n",
    "\n",
    "        test_img_sr = srgan.generator.predict(test_img_low)\n",
    "        test_img_sr_int = (test_img_sr * 255).astype('u1')[0]\n",
    "        test_out_path = test_out_dir + test_file.split('.')[0] + f'_test_{e}.jpg'\n",
    "        cv2.imwrite(test_out_path, test_img_sr_int)"
   ]
  },
  {
   "cell_type": "code",
   "execution_count": null,
   "metadata": {},
   "outputs": [],
   "source": [
    "out_model_name = '20200604_generator.h5'\n",
    "srgan.generator.save(model_dir + out_model_name, include_optimizer=False)"
   ]
  },
  {
   "cell_type": "code",
   "execution_count": null,
   "metadata": {},
   "outputs": [],
   "source": []
  },
  {
   "cell_type": "code",
   "execution_count": null,
   "metadata": {},
   "outputs": [],
   "source": []
  }
 ],
 "metadata": {
  "kernelspec": {
   "display_name": "Python 3",
   "language": "python",
   "name": "python3"
  },
  "language_info": {
   "codemirror_mode": {
    "name": "ipython",
    "version": 3
   },
   "file_extension": ".py",
   "mimetype": "text/x-python",
   "name": "python",
   "nbconvert_exporter": "python",
   "pygments_lexer": "ipython3",
   "version": "3.6.9"
  }
 },
 "nbformat": 4,
 "nbformat_minor": 2
}
