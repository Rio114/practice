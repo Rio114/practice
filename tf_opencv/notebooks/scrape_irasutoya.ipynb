{
 "cells": [
  {
   "cell_type": "code",
   "execution_count": 1,
   "metadata": {},
   "outputs": [],
   "source": [
    "from bs4 import BeautifulSoup\n",
    "import requests\n",
    "# import pandas as pd\n",
    "import time\n",
    "import re\n",
    "import urllib\n",
    "import os"
   ]
  },
  {
   "cell_type": "code",
   "execution_count": 2,
   "metadata": {},
   "outputs": [
    {
     "name": "stdout",
     "output_type": "stream",
     "text": [
      "[]\n"
     ]
    }
   ],
   "source": [
    "DATAFOLDER = '../data/irasutoya/'\n",
    "print(os.listdir(DATAFOLDER))"
   ]
  },
  {
   "cell_type": "code",
   "execution_count": 139,
   "metadata": {},
   "outputs": [],
   "source": [
    "url = 'https://www.irasutoya.com/2020/01/blog-post_335.html'"
   ]
  },
  {
   "cell_type": "code",
   "execution_count": 123,
   "metadata": {},
   "outputs": [],
   "source": [
    "def get_categories(url):\n",
    "    soup = BeautifulSoup(requests.get(url).content)\n",
    "    cat_url_list = []\n",
    "    cat_name_list = []\n",
    "    href_list = soup.find('div', {'class':'widget-content list-label-widget-content'}).find_all('a')\n",
    "    for href in href_list:\n",
    "        cat_url_list.append(href['href'])\n",
    "        cat_name_list.append(href.text)\n",
    "    return cat_url_list, cat_name_list"
   ]
  },
  {
   "cell_type": "code",
   "execution_count": 137,
   "metadata": {
    "scrolled": true
   },
   "outputs": [
    {
     "ename": "KeyboardInterrupt",
     "evalue": "",
     "output_type": "error",
     "traceback": [
      "\u001b[0;31m---------------------------------------------------------------------------\u001b[0m",
      "\u001b[0;31mKeyboardInterrupt\u001b[0m                         Traceback (most recent call last)",
      "\u001b[0;32m<ipython-input-137-590925470799>\u001b[0m in \u001b[0;36m<module>\u001b[0;34m\u001b[0m\n\u001b[1;32m     11\u001b[0m     \u001b[0;32mif\u001b[0m \u001b[0mnext_url\u001b[0m \u001b[0;34m==\u001b[0m \u001b[0;32mNone\u001b[0m\u001b[0;34m:\u001b[0m\u001b[0;34m\u001b[0m\u001b[0;34m\u001b[0m\u001b[0m\n\u001b[1;32m     12\u001b[0m         \u001b[0;32mbreak\u001b[0m\u001b[0;34m\u001b[0m\u001b[0;34m\u001b[0m\u001b[0m\n\u001b[0;32m---> 13\u001b[0;31m     \u001b[0msoup\u001b[0m \u001b[0;34m=\u001b[0m \u001b[0mBeautifulSoup\u001b[0m\u001b[0;34m(\u001b[0m\u001b[0mrequests\u001b[0m\u001b[0;34m.\u001b[0m\u001b[0mget\u001b[0m\u001b[0;34m(\u001b[0m\u001b[0mnext_url\u001b[0m\u001b[0;34m)\u001b[0m\u001b[0;34m.\u001b[0m\u001b[0mcontent\u001b[0m\u001b[0;34m)\u001b[0m\u001b[0;34m\u001b[0m\u001b[0;34m\u001b[0m\u001b[0m\n\u001b[0m\u001b[1;32m     14\u001b[0m     \u001b[0mimg_href_list\u001b[0m \u001b[0;34m=\u001b[0m \u001b[0msoup\u001b[0m\u001b[0;34m.\u001b[0m\u001b[0mfind_all\u001b[0m\u001b[0;34m(\u001b[0m\u001b[0;34m'div'\u001b[0m\u001b[0;34m,\u001b[0m \u001b[0;34m{\u001b[0m\u001b[0;34m'class'\u001b[0m\u001b[0;34m:\u001b[0m\u001b[0;34m\"boxmeta clearfix\"\u001b[0m\u001b[0;34m}\u001b[0m\u001b[0;34m)\u001b[0m\u001b[0;34m\u001b[0m\u001b[0;34m\u001b[0m\u001b[0m\n",
      "\u001b[0;32m/usr/local/lib/python3.6/dist-packages/requests/api.py\u001b[0m in \u001b[0;36mget\u001b[0;34m(url, params, **kwargs)\u001b[0m\n\u001b[1;32m     73\u001b[0m \u001b[0;34m\u001b[0m\u001b[0m\n\u001b[1;32m     74\u001b[0m     \u001b[0mkwargs\u001b[0m\u001b[0;34m.\u001b[0m\u001b[0msetdefault\u001b[0m\u001b[0;34m(\u001b[0m\u001b[0;34m'allow_redirects'\u001b[0m\u001b[0;34m,\u001b[0m \u001b[0;32mTrue\u001b[0m\u001b[0;34m)\u001b[0m\u001b[0;34m\u001b[0m\u001b[0;34m\u001b[0m\u001b[0m\n\u001b[0;32m---> 75\u001b[0;31m     \u001b[0;32mreturn\u001b[0m \u001b[0mrequest\u001b[0m\u001b[0;34m(\u001b[0m\u001b[0;34m'get'\u001b[0m\u001b[0;34m,\u001b[0m \u001b[0murl\u001b[0m\u001b[0;34m,\u001b[0m \u001b[0mparams\u001b[0m\u001b[0;34m=\u001b[0m\u001b[0mparams\u001b[0m\u001b[0;34m,\u001b[0m \u001b[0;34m**\u001b[0m\u001b[0mkwargs\u001b[0m\u001b[0;34m)\u001b[0m\u001b[0;34m\u001b[0m\u001b[0;34m\u001b[0m\u001b[0m\n\u001b[0m\u001b[1;32m     76\u001b[0m \u001b[0;34m\u001b[0m\u001b[0m\n\u001b[1;32m     77\u001b[0m \u001b[0;34m\u001b[0m\u001b[0m\n",
      "\u001b[0;32m/usr/local/lib/python3.6/dist-packages/requests/api.py\u001b[0m in \u001b[0;36mrequest\u001b[0;34m(method, url, **kwargs)\u001b[0m\n\u001b[1;32m     58\u001b[0m     \u001b[0;31m# cases, and look like a memory leak in others.\u001b[0m\u001b[0;34m\u001b[0m\u001b[0;34m\u001b[0m\u001b[0;34m\u001b[0m\u001b[0m\n\u001b[1;32m     59\u001b[0m     \u001b[0;32mwith\u001b[0m \u001b[0msessions\u001b[0m\u001b[0;34m.\u001b[0m\u001b[0mSession\u001b[0m\u001b[0;34m(\u001b[0m\u001b[0;34m)\u001b[0m \u001b[0;32mas\u001b[0m \u001b[0msession\u001b[0m\u001b[0;34m:\u001b[0m\u001b[0;34m\u001b[0m\u001b[0;34m\u001b[0m\u001b[0m\n\u001b[0;32m---> 60\u001b[0;31m         \u001b[0;32mreturn\u001b[0m \u001b[0msession\u001b[0m\u001b[0;34m.\u001b[0m\u001b[0mrequest\u001b[0m\u001b[0;34m(\u001b[0m\u001b[0mmethod\u001b[0m\u001b[0;34m=\u001b[0m\u001b[0mmethod\u001b[0m\u001b[0;34m,\u001b[0m \u001b[0murl\u001b[0m\u001b[0;34m=\u001b[0m\u001b[0murl\u001b[0m\u001b[0;34m,\u001b[0m \u001b[0;34m**\u001b[0m\u001b[0mkwargs\u001b[0m\u001b[0;34m)\u001b[0m\u001b[0;34m\u001b[0m\u001b[0;34m\u001b[0m\u001b[0m\n\u001b[0m\u001b[1;32m     61\u001b[0m \u001b[0;34m\u001b[0m\u001b[0m\n\u001b[1;32m     62\u001b[0m \u001b[0;34m\u001b[0m\u001b[0m\n",
      "\u001b[0;32m/usr/local/lib/python3.6/dist-packages/requests/sessions.py\u001b[0m in \u001b[0;36mrequest\u001b[0;34m(self, method, url, params, data, headers, cookies, files, auth, timeout, allow_redirects, proxies, hooks, stream, verify, cert, json)\u001b[0m\n\u001b[1;32m    531\u001b[0m         }\n\u001b[1;32m    532\u001b[0m         \u001b[0msend_kwargs\u001b[0m\u001b[0;34m.\u001b[0m\u001b[0mupdate\u001b[0m\u001b[0;34m(\u001b[0m\u001b[0msettings\u001b[0m\u001b[0;34m)\u001b[0m\u001b[0;34m\u001b[0m\u001b[0;34m\u001b[0m\u001b[0m\n\u001b[0;32m--> 533\u001b[0;31m         \u001b[0mresp\u001b[0m \u001b[0;34m=\u001b[0m \u001b[0mself\u001b[0m\u001b[0;34m.\u001b[0m\u001b[0msend\u001b[0m\u001b[0;34m(\u001b[0m\u001b[0mprep\u001b[0m\u001b[0;34m,\u001b[0m \u001b[0;34m**\u001b[0m\u001b[0msend_kwargs\u001b[0m\u001b[0;34m)\u001b[0m\u001b[0;34m\u001b[0m\u001b[0;34m\u001b[0m\u001b[0m\n\u001b[0m\u001b[1;32m    534\u001b[0m \u001b[0;34m\u001b[0m\u001b[0m\n\u001b[1;32m    535\u001b[0m         \u001b[0;32mreturn\u001b[0m \u001b[0mresp\u001b[0m\u001b[0;34m\u001b[0m\u001b[0;34m\u001b[0m\u001b[0m\n",
      "\u001b[0;32m/usr/local/lib/python3.6/dist-packages/requests/sessions.py\u001b[0m in \u001b[0;36msend\u001b[0;34m(self, request, **kwargs)\u001b[0m\n\u001b[1;32m    644\u001b[0m \u001b[0;34m\u001b[0m\u001b[0m\n\u001b[1;32m    645\u001b[0m         \u001b[0;31m# Send the request\u001b[0m\u001b[0;34m\u001b[0m\u001b[0;34m\u001b[0m\u001b[0;34m\u001b[0m\u001b[0m\n\u001b[0;32m--> 646\u001b[0;31m         \u001b[0mr\u001b[0m \u001b[0;34m=\u001b[0m \u001b[0madapter\u001b[0m\u001b[0;34m.\u001b[0m\u001b[0msend\u001b[0m\u001b[0;34m(\u001b[0m\u001b[0mrequest\u001b[0m\u001b[0;34m,\u001b[0m \u001b[0;34m**\u001b[0m\u001b[0mkwargs\u001b[0m\u001b[0;34m)\u001b[0m\u001b[0;34m\u001b[0m\u001b[0;34m\u001b[0m\u001b[0m\n\u001b[0m\u001b[1;32m    647\u001b[0m \u001b[0;34m\u001b[0m\u001b[0m\n\u001b[1;32m    648\u001b[0m         \u001b[0;31m# Total elapsed time of the request (approximately)\u001b[0m\u001b[0;34m\u001b[0m\u001b[0;34m\u001b[0m\u001b[0;34m\u001b[0m\u001b[0m\n",
      "\u001b[0;32m/usr/local/lib/python3.6/dist-packages/requests/adapters.py\u001b[0m in \u001b[0;36msend\u001b[0;34m(self, request, stream, timeout, verify, cert, proxies)\u001b[0m\n\u001b[1;32m    447\u001b[0m                     \u001b[0mdecode_content\u001b[0m\u001b[0;34m=\u001b[0m\u001b[0;32mFalse\u001b[0m\u001b[0;34m,\u001b[0m\u001b[0;34m\u001b[0m\u001b[0;34m\u001b[0m\u001b[0m\n\u001b[1;32m    448\u001b[0m                     \u001b[0mretries\u001b[0m\u001b[0;34m=\u001b[0m\u001b[0mself\u001b[0m\u001b[0;34m.\u001b[0m\u001b[0mmax_retries\u001b[0m\u001b[0;34m,\u001b[0m\u001b[0;34m\u001b[0m\u001b[0;34m\u001b[0m\u001b[0m\n\u001b[0;32m--> 449\u001b[0;31m                     \u001b[0mtimeout\u001b[0m\u001b[0;34m=\u001b[0m\u001b[0mtimeout\u001b[0m\u001b[0;34m\u001b[0m\u001b[0;34m\u001b[0m\u001b[0m\n\u001b[0m\u001b[1;32m    450\u001b[0m                 )\n\u001b[1;32m    451\u001b[0m \u001b[0;34m\u001b[0m\u001b[0m\n",
      "\u001b[0;32m/usr/local/lib/python3.6/dist-packages/urllib3/connectionpool.py\u001b[0m in \u001b[0;36murlopen\u001b[0;34m(self, method, url, body, headers, retries, redirect, assert_same_host, timeout, pool_timeout, release_conn, chunked, body_pos, **response_kw)\u001b[0m\n\u001b[1;32m    670\u001b[0m                 \u001b[0mbody\u001b[0m\u001b[0;34m=\u001b[0m\u001b[0mbody\u001b[0m\u001b[0;34m,\u001b[0m\u001b[0;34m\u001b[0m\u001b[0;34m\u001b[0m\u001b[0m\n\u001b[1;32m    671\u001b[0m                 \u001b[0mheaders\u001b[0m\u001b[0;34m=\u001b[0m\u001b[0mheaders\u001b[0m\u001b[0;34m,\u001b[0m\u001b[0;34m\u001b[0m\u001b[0;34m\u001b[0m\u001b[0m\n\u001b[0;32m--> 672\u001b[0;31m                 \u001b[0mchunked\u001b[0m\u001b[0;34m=\u001b[0m\u001b[0mchunked\u001b[0m\u001b[0;34m,\u001b[0m\u001b[0;34m\u001b[0m\u001b[0;34m\u001b[0m\u001b[0m\n\u001b[0m\u001b[1;32m    673\u001b[0m             )\n\u001b[1;32m    674\u001b[0m \u001b[0;34m\u001b[0m\u001b[0m\n",
      "\u001b[0;32m/usr/local/lib/python3.6/dist-packages/urllib3/connectionpool.py\u001b[0m in \u001b[0;36m_make_request\u001b[0;34m(self, conn, method, url, timeout, chunked, **httplib_request_kw)\u001b[0m\n\u001b[1;32m    374\u001b[0m         \u001b[0;31m# Trigger any extra validation we need to do.\u001b[0m\u001b[0;34m\u001b[0m\u001b[0;34m\u001b[0m\u001b[0;34m\u001b[0m\u001b[0m\n\u001b[1;32m    375\u001b[0m         \u001b[0;32mtry\u001b[0m\u001b[0;34m:\u001b[0m\u001b[0;34m\u001b[0m\u001b[0;34m\u001b[0m\u001b[0m\n\u001b[0;32m--> 376\u001b[0;31m             \u001b[0mself\u001b[0m\u001b[0;34m.\u001b[0m\u001b[0m_validate_conn\u001b[0m\u001b[0;34m(\u001b[0m\u001b[0mconn\u001b[0m\u001b[0;34m)\u001b[0m\u001b[0;34m\u001b[0m\u001b[0;34m\u001b[0m\u001b[0m\n\u001b[0m\u001b[1;32m    377\u001b[0m         \u001b[0;32mexcept\u001b[0m \u001b[0;34m(\u001b[0m\u001b[0mSocketTimeout\u001b[0m\u001b[0;34m,\u001b[0m \u001b[0mBaseSSLError\u001b[0m\u001b[0;34m)\u001b[0m \u001b[0;32mas\u001b[0m \u001b[0me\u001b[0m\u001b[0;34m:\u001b[0m\u001b[0;34m\u001b[0m\u001b[0;34m\u001b[0m\u001b[0m\n\u001b[1;32m    378\u001b[0m             \u001b[0;31m# Py2 raises this as a BaseSSLError, Py3 raises it as socket timeout.\u001b[0m\u001b[0;34m\u001b[0m\u001b[0;34m\u001b[0m\u001b[0;34m\u001b[0m\u001b[0m\n",
      "\u001b[0;32m/usr/local/lib/python3.6/dist-packages/urllib3/connectionpool.py\u001b[0m in \u001b[0;36m_validate_conn\u001b[0;34m(self, conn)\u001b[0m\n\u001b[1;32m    992\u001b[0m         \u001b[0;31m# Force connect early to allow us to validate the connection.\u001b[0m\u001b[0;34m\u001b[0m\u001b[0;34m\u001b[0m\u001b[0;34m\u001b[0m\u001b[0m\n\u001b[1;32m    993\u001b[0m         \u001b[0;32mif\u001b[0m \u001b[0;32mnot\u001b[0m \u001b[0mgetattr\u001b[0m\u001b[0;34m(\u001b[0m\u001b[0mconn\u001b[0m\u001b[0;34m,\u001b[0m \u001b[0;34m\"sock\"\u001b[0m\u001b[0;34m,\u001b[0m \u001b[0;32mNone\u001b[0m\u001b[0;34m)\u001b[0m\u001b[0;34m:\u001b[0m  \u001b[0;31m# AppEngine might not have  `.sock`\u001b[0m\u001b[0;34m\u001b[0m\u001b[0;34m\u001b[0m\u001b[0m\n\u001b[0;32m--> 994\u001b[0;31m             \u001b[0mconn\u001b[0m\u001b[0;34m.\u001b[0m\u001b[0mconnect\u001b[0m\u001b[0;34m(\u001b[0m\u001b[0;34m)\u001b[0m\u001b[0;34m\u001b[0m\u001b[0;34m\u001b[0m\u001b[0m\n\u001b[0m\u001b[1;32m    995\u001b[0m \u001b[0;34m\u001b[0m\u001b[0m\n\u001b[1;32m    996\u001b[0m         \u001b[0;32mif\u001b[0m \u001b[0;32mnot\u001b[0m \u001b[0mconn\u001b[0m\u001b[0;34m.\u001b[0m\u001b[0mis_verified\u001b[0m\u001b[0;34m:\u001b[0m\u001b[0;34m\u001b[0m\u001b[0;34m\u001b[0m\u001b[0m\n",
      "\u001b[0;32m/usr/local/lib/python3.6/dist-packages/urllib3/connection.py\u001b[0m in \u001b[0;36mconnect\u001b[0;34m(self)\u001b[0m\n\u001b[1;32m    332\u001b[0m     \u001b[0;32mdef\u001b[0m \u001b[0mconnect\u001b[0m\u001b[0;34m(\u001b[0m\u001b[0mself\u001b[0m\u001b[0;34m)\u001b[0m\u001b[0;34m:\u001b[0m\u001b[0;34m\u001b[0m\u001b[0;34m\u001b[0m\u001b[0m\n\u001b[1;32m    333\u001b[0m         \u001b[0;31m# Add certificate verification\u001b[0m\u001b[0;34m\u001b[0m\u001b[0;34m\u001b[0m\u001b[0;34m\u001b[0m\u001b[0m\n\u001b[0;32m--> 334\u001b[0;31m         \u001b[0mconn\u001b[0m \u001b[0;34m=\u001b[0m \u001b[0mself\u001b[0m\u001b[0;34m.\u001b[0m\u001b[0m_new_conn\u001b[0m\u001b[0;34m(\u001b[0m\u001b[0;34m)\u001b[0m\u001b[0;34m\u001b[0m\u001b[0;34m\u001b[0m\u001b[0m\n\u001b[0m\u001b[1;32m    335\u001b[0m         \u001b[0mhostname\u001b[0m \u001b[0;34m=\u001b[0m \u001b[0mself\u001b[0m\u001b[0;34m.\u001b[0m\u001b[0mhost\u001b[0m\u001b[0;34m\u001b[0m\u001b[0;34m\u001b[0m\u001b[0m\n\u001b[1;32m    336\u001b[0m \u001b[0;34m\u001b[0m\u001b[0m\n",
      "\u001b[0;32m/usr/local/lib/python3.6/dist-packages/urllib3/connection.py\u001b[0m in \u001b[0;36m_new_conn\u001b[0;34m(self)\u001b[0m\n\u001b[1;32m    155\u001b[0m         \u001b[0;32mtry\u001b[0m\u001b[0;34m:\u001b[0m\u001b[0;34m\u001b[0m\u001b[0;34m\u001b[0m\u001b[0m\n\u001b[1;32m    156\u001b[0m             conn = connection.create_connection(\n\u001b[0;32m--> 157\u001b[0;31m                 \u001b[0;34m(\u001b[0m\u001b[0mself\u001b[0m\u001b[0;34m.\u001b[0m\u001b[0m_dns_host\u001b[0m\u001b[0;34m,\u001b[0m \u001b[0mself\u001b[0m\u001b[0;34m.\u001b[0m\u001b[0mport\u001b[0m\u001b[0;34m)\u001b[0m\u001b[0;34m,\u001b[0m \u001b[0mself\u001b[0m\u001b[0;34m.\u001b[0m\u001b[0mtimeout\u001b[0m\u001b[0;34m,\u001b[0m \u001b[0;34m**\u001b[0m\u001b[0mextra_kw\u001b[0m\u001b[0;34m\u001b[0m\u001b[0;34m\u001b[0m\u001b[0m\n\u001b[0m\u001b[1;32m    158\u001b[0m             )\n\u001b[1;32m    159\u001b[0m \u001b[0;34m\u001b[0m\u001b[0m\n",
      "\u001b[0;32m/usr/local/lib/python3.6/dist-packages/urllib3/util/connection.py\u001b[0m in \u001b[0;36mcreate_connection\u001b[0;34m(address, timeout, source_address, socket_options)\u001b[0m\n\u001b[1;32m     59\u001b[0m     \u001b[0mfamily\u001b[0m \u001b[0;34m=\u001b[0m \u001b[0mallowed_gai_family\u001b[0m\u001b[0;34m(\u001b[0m\u001b[0;34m)\u001b[0m\u001b[0;34m\u001b[0m\u001b[0;34m\u001b[0m\u001b[0m\n\u001b[1;32m     60\u001b[0m \u001b[0;34m\u001b[0m\u001b[0m\n\u001b[0;32m---> 61\u001b[0;31m     \u001b[0;32mfor\u001b[0m \u001b[0mres\u001b[0m \u001b[0;32min\u001b[0m \u001b[0msocket\u001b[0m\u001b[0;34m.\u001b[0m\u001b[0mgetaddrinfo\u001b[0m\u001b[0;34m(\u001b[0m\u001b[0mhost\u001b[0m\u001b[0;34m,\u001b[0m \u001b[0mport\u001b[0m\u001b[0;34m,\u001b[0m \u001b[0mfamily\u001b[0m\u001b[0;34m,\u001b[0m \u001b[0msocket\u001b[0m\u001b[0;34m.\u001b[0m\u001b[0mSOCK_STREAM\u001b[0m\u001b[0;34m)\u001b[0m\u001b[0;34m:\u001b[0m\u001b[0;34m\u001b[0m\u001b[0;34m\u001b[0m\u001b[0m\n\u001b[0m\u001b[1;32m     62\u001b[0m         \u001b[0maf\u001b[0m\u001b[0;34m,\u001b[0m \u001b[0msocktype\u001b[0m\u001b[0;34m,\u001b[0m \u001b[0mproto\u001b[0m\u001b[0;34m,\u001b[0m \u001b[0mcanonname\u001b[0m\u001b[0;34m,\u001b[0m \u001b[0msa\u001b[0m \u001b[0;34m=\u001b[0m \u001b[0mres\u001b[0m\u001b[0;34m\u001b[0m\u001b[0;34m\u001b[0m\u001b[0m\n\u001b[1;32m     63\u001b[0m         \u001b[0msock\u001b[0m \u001b[0;34m=\u001b[0m \u001b[0;32mNone\u001b[0m\u001b[0;34m\u001b[0m\u001b[0;34m\u001b[0m\u001b[0m\n",
      "\u001b[0;32m/usr/lib/python3.6/socket.py\u001b[0m in \u001b[0;36mgetaddrinfo\u001b[0;34m(host, port, family, type, proto, flags)\u001b[0m\n\u001b[1;32m    743\u001b[0m     \u001b[0;31m# and socket type values to enum constants.\u001b[0m\u001b[0;34m\u001b[0m\u001b[0;34m\u001b[0m\u001b[0;34m\u001b[0m\u001b[0m\n\u001b[1;32m    744\u001b[0m     \u001b[0maddrlist\u001b[0m \u001b[0;34m=\u001b[0m \u001b[0;34m[\u001b[0m\u001b[0;34m]\u001b[0m\u001b[0;34m\u001b[0m\u001b[0;34m\u001b[0m\u001b[0m\n\u001b[0;32m--> 745\u001b[0;31m     \u001b[0;32mfor\u001b[0m \u001b[0mres\u001b[0m \u001b[0;32min\u001b[0m \u001b[0m_socket\u001b[0m\u001b[0;34m.\u001b[0m\u001b[0mgetaddrinfo\u001b[0m\u001b[0;34m(\u001b[0m\u001b[0mhost\u001b[0m\u001b[0;34m,\u001b[0m \u001b[0mport\u001b[0m\u001b[0;34m,\u001b[0m \u001b[0mfamily\u001b[0m\u001b[0;34m,\u001b[0m \u001b[0mtype\u001b[0m\u001b[0;34m,\u001b[0m \u001b[0mproto\u001b[0m\u001b[0;34m,\u001b[0m \u001b[0mflags\u001b[0m\u001b[0;34m)\u001b[0m\u001b[0;34m:\u001b[0m\u001b[0;34m\u001b[0m\u001b[0;34m\u001b[0m\u001b[0m\n\u001b[0m\u001b[1;32m    746\u001b[0m         \u001b[0maf\u001b[0m\u001b[0;34m,\u001b[0m \u001b[0msocktype\u001b[0m\u001b[0;34m,\u001b[0m \u001b[0mproto\u001b[0m\u001b[0;34m,\u001b[0m \u001b[0mcanonname\u001b[0m\u001b[0;34m,\u001b[0m \u001b[0msa\u001b[0m \u001b[0;34m=\u001b[0m \u001b[0mres\u001b[0m\u001b[0;34m\u001b[0m\u001b[0;34m\u001b[0m\u001b[0m\n\u001b[1;32m    747\u001b[0m         addrlist.append((_intenum_converter(af, AddressFamily),\n",
      "\u001b[0;31mKeyboardInterrupt\u001b[0m: "
     ]
    }
   ],
   "source": [
    "def get_image_urls(cat_url):\n",
    "    soup = BeautifulSoup(requests.get(cat_url).content)\n",
    "    img_url_list = []\n",
    "    img_name_list = []\n",
    "    img_href_list = soup.find_all('div', {'class':\"boxmeta clearfix\"})\n",
    "\n",
    "    while(True):\n",
    "        for href in img_href_list:\n",
    "            img_url_list.append(href.find('a')['href'])\n",
    "            img_name_list.append(href.find('a').text)\n",
    "        next_url = soup.find('div', {'class':'blog-pager'}).find('a', {'title':\"前の投稿\"})['href']\n",
    "        if next_url == None:\n",
    "            break\n",
    "        soup = BeautifulSoup(requests.get(next_url).content)\n",
    "        img_href_list = soup.find_all('div', {'class':\"boxmeta clearfix\"})\n",
    "    return img_url_list, img_name_list"
   ]
  },
  {
   "cell_type": "code",
   "execution_count": 144,
   "metadata": {},
   "outputs": [
    {
     "data": {
      "text/plain": [
       "'https://www.irasutoya.com/search/label/%E3%81%93%E3%81%A9%E3%82%82'"
      ]
     },
     "execution_count": 144,
     "metadata": {},
     "output_type": "execute_result"
    }
   ],
   "source": [
    "cat_url_list[0]"
   ]
  },
  {
   "cell_type": "code",
   "execution_count": null,
   "metadata": {},
   "outputs": [],
   "source": []
  },
  {
   "cell_type": "code",
   "execution_count": null,
   "metadata": {},
   "outputs": [],
   "source": []
  },
  {
   "cell_type": "code",
   "execution_count": null,
   "metadata": {},
   "outputs": [],
   "source": []
  },
  {
   "cell_type": "code",
   "execution_count": 140,
   "metadata": {},
   "outputs": [],
   "source": [
    "def get_image(img_url):\n",
    "    soup = BeautifulSoup(requests.get(img_url).content)\n",
    "    images = soup.find_all('div', {'class':\"separator\"})\n",
    "    for obj in images:\n",
    "        obj_row = obj.find_all('a')\n",
    "        for ob in obj_row:\n",
    "            try:\n",
    "                img_url = ob.find('img')['src']\n",
    "                img_title = ob.find('img')['alt']\n",
    "                img_name = img_url.split('/')[-1]\n",
    "                print(img_title, img_name,  img_url)\n",
    "            except:\n",
    "                break\n",
    "    caption = images[-1].text\n",
    "    print(caption)"
   ]
  },
  {
   "cell_type": "code",
   "execution_count": 141,
   "metadata": {},
   "outputs": [
    {
     "name": "stdout",
     "output_type": "stream",
     "text": [
      "レントゲン写真を撮る子供のイラスト（男の子） medical_xray_rentogen_boy.png https://1.bp.blogspot.com/-ZsV56hrD2q0/Xexq31b0RPI/AAAAAAABWjg/9OxhAwE7kygAsDPrqbzIYeMbdM-Y35IZwCNcBGAsYHQ/s350/medical_xray_rentogen_boy.png\n",
      "レントゲン写真を撮る子供のイラスト（女の子） medical_xray_rentogen_girl.png https://1.bp.blogspot.com/-1z9ptUcy76E/Xexq5-nb4hI/AAAAAAABWjw/cCXPAb2HM5QyxVM_7BoJ23fPkdn5n1InQCNcBGAsYHQ/s350/medical_xray_rentogen_girl.png\n",
      "胸部のレントゲンを撮影している男の子と女の子のイラストです。\n"
     ]
    }
   ],
   "source": [
    "url = 'https://www.irasutoya.com/2020/01/blog-post_335.html'\n",
    "get_image(url)"
   ]
  },
  {
   "cell_type": "code",
   "execution_count": null,
   "metadata": {},
   "outputs": [],
   "source": []
  },
  {
   "cell_type": "code",
   "execution_count": null,
   "metadata": {},
   "outputs": [],
   "source": []
  },
  {
   "cell_type": "code",
   "execution_count": 89,
   "metadata": {},
   "outputs": [],
   "source": [
    "path = DATAFOLDER + img_name\n",
    "data = urllib.request.urlopen(img_url).read()\n",
    "with open(path, mode=\"wb\") as f:\n",
    "    f.write(data)"
   ]
  },
  {
   "cell_type": "code",
   "execution_count": 124,
   "metadata": {},
   "outputs": [
    {
     "data": {
      "text/plain": [
       "['https://www.irasutoya.com/search/label/%E3%81%93%E3%81%A9%E3%82%82',\n",
       " 'https://www.irasutoya.com/search/label/%E8%81%B7%E6%A5%AD',\n",
       " 'https://www.irasutoya.com/search/label/%E7%97%85%E6%B0%97',\n",
       " 'https://www.irasutoya.com/search/label/%E3%83%9D%E3%83%BC%E3%82%BA',\n",
       " 'https://www.irasutoya.com/search/label/%E4%BC%9A%E7%A4%BE',\n",
       " 'https://www.irasutoya.com/search/label/%E3%81%8A%E9%87%91',\n",
       " 'https://www.irasutoya.com/search/label/%E9%81%93%E5%85%B7',\n",
       " 'https://www.irasutoya.com/search/label/%E9%81%95%E5%8F%8D',\n",
       " 'https://www.irasutoya.com/search/label/%E3%83%93%E3%82%B8%E3%83%8D%E3%82%B9',\n",
       " 'https://www.irasutoya.com/search/label/%E5%AD%A6%E6%A0%A1',\n",
       " 'https://www.irasutoya.com/search/label/%E3%83%95%E3%82%A1%E3%83%83%E3%82%B7%E3%83%A7%E3%83%B3',\n",
       " 'https://www.irasutoya.com/search/label/%E4%BA%8B%E6%95%85',\n",
       " 'https://www.irasutoya.com/search/label/%E9%A3%9F%E3%81%B9%E7%89%A9',\n",
       " 'https://www.irasutoya.com/search/label/%E5%8C%BB%E7%99%82',\n",
       " 'https://www.irasutoya.com/search/label/%E8%B6%A3%E5%91%B3',\n",
       " 'https://www.irasutoya.com/search/label/%E3%82%B9%E3%83%9D%E3%83%BC%E3%83%84',\n",
       " 'https://www.irasutoya.com/search/label/%E5%BB%BA%E7%89%A9',\n",
       " 'https://www.irasutoya.com/search/label/%E3%82%B9%E3%82%A4%E3%83%BC%E3%83%84',\n",
       " 'https://www.irasutoya.com/search/label/%E6%97%85%E8%A1%8C',\n",
       " 'https://www.irasutoya.com/search/label/%E3%81%8A%E3%82%82%E3%81%A1%E3%82%83',\n",
       " 'https://www.irasutoya.com/search/label/%E5%AE%B6%E9%9B%BB',\n",
       " 'https://www.irasutoya.com/search/label/%E5%AE%B6%E6%97%8F',\n",
       " 'https://www.irasutoya.com/search/label/%E3%82%AD%E3%83%A3%E3%83%A9%E3%82%AF%E3%82%BF%E3%83%BC',\n",
       " 'https://www.irasutoya.com/search/label/%E6%96%87%E5%AD%97',\n",
       " 'https://www.irasutoya.com/search/label/%E6%96%99%E7%90%86',\n",
       " 'https://www.irasutoya.com/search/label/%E5%8B%95%E7%89%A9%E3%82%AD%E3%83%A3%E3%83%A9',\n",
       " 'https://www.irasutoya.com/search/label/%E6%A9%9F%E6%A2%B0',\n",
       " 'https://www.irasutoya.com/search/label/%E3%83%9E%E3%83%BC%E3%82%AF',\n",
       " 'https://www.irasutoya.com/search/label/%E6%97%A5%E6%9C%AC',\n",
       " 'https://www.irasutoya.com/search/label/%E5%8C%BB%E7%99%82%E6%A9%9F%E5%99%A8',\n",
       " 'https://www.irasutoya.com/search/label/%E9%9F%B3%E6%A5%BD',\n",
       " 'https://www.irasutoya.com/search/label/%E8%BB%8A',\n",
       " 'https://www.irasutoya.com/search/label/%E9%A3%B2%E3%81%BF%E7%89%A9',\n",
       " 'https://www.irasutoya.com/search/label/%E3%82%B3%E3%83%B3%E3%83%94%E3%83%A5%E3%83%BC%E3%82%BF%E3%83%BC',\n",
       " 'https://www.irasutoya.com/search/label/%E3%82%B7%E3%83%A7%E3%83%83%E3%83%94%E3%83%B3%E3%82%B0',\n",
       " 'https://www.irasutoya.com/search/label/%E5%AE%B6%E5%85%B7',\n",
       " 'https://www.irasutoya.com/search/label/%E8%80%81%E4%BA%BA',\n",
       " 'https://www.irasutoya.com/search/label/%E3%83%91%E3%83%BC%E3%83%86%E3%82%A3',\n",
       " 'https://www.irasutoya.com/search/label/%E3%82%B9%E3%83%9E%E3%83%BC%E3%83%88%E3%83%95%E3%82%A9%E3%83%B3',\n",
       " 'https://www.irasutoya.com/search/label/%E8%8B%A5%E8%80%85',\n",
       " 'https://www.irasutoya.com/search/label/%E3%83%9E%E3%83%8A%E3%83%BC',\n",
       " 'https://www.irasutoya.com/search/label/%E4%B9%97%E3%82%8A%E7%89%A9',\n",
       " 'https://www.irasutoya.com/search/label/%E5%8B%95%E7%89%A9',\n",
       " 'https://www.irasutoya.com/search/label/%E9%A3%9F%E4%BA%8B',\n",
       " 'https://www.irasutoya.com/search/label/%E5%8F%8B%E9%81%94',\n",
       " 'https://www.irasutoya.com/search/label/%E7%94%9F%E6%B4%BB',\n",
       " 'https://www.irasutoya.com/search/label/%E5%A4%8F',\n",
       " 'https://www.irasutoya.com/search/label/%E3%82%A4%E3%83%B3%E3%82%BF%E3%83%BC%E3%83%8D%E3%83%83%E3%83%88',\n",
       " 'https://www.irasutoya.com/search/label/%E9%AD%9A',\n",
       " 'https://www.irasutoya.com/search/label/%E8%BB%BD%E9%A3%9F',\n",
       " 'https://www.irasutoya.com/search/label/%E9%87%8E%E8%8F%9C',\n",
       " 'https://www.irasutoya.com/search/label/%E7%81%BD%E5%AE%B3',\n",
       " 'https://www.irasutoya.com/search/label/%E5%8F%97%E9%A8%93',\n",
       " 'https://www.irasutoya.com/search/label/%E6%81%8B%E6%84%9B',\n",
       " 'https://www.irasutoya.com/search/label/%E4%BA%BA%E4%BD%93',\n",
       " 'https://www.irasutoya.com/search/label/%E5%86%AC',\n",
       " 'https://www.irasutoya.com/search/label/%E7%BE%8E%E8%A1%93',\n",
       " 'https://www.irasutoya.com/search/label/%E9%81%8B%E5%8B%95',\n",
       " 'https://www.irasutoya.com/search/label/%E8%A1%A8%E6%83%85',\n",
       " 'https://www.irasutoya.com/search/label/%E4%BC%BC%E9%A1%94%E7%B5%B5',\n",
       " 'https://www.irasutoya.com/search/label/%E6%8E%83%E9%99%A4',\n",
       " 'https://www.irasutoya.com/search/label/%E3%83%9A%E3%83%83%E3%83%88',\n",
       " 'https://www.irasutoya.com/search/label/%E6%88%A6%E4%BA%89',\n",
       " 'https://www.irasutoya.com/search/label/%E7%A7%91%E5%AD%A6',\n",
       " 'https://www.irasutoya.com/search/label/%E7%9D%A1%E7%9C%A0',\n",
       " 'https://www.irasutoya.com/search/label/%E7%BE%8E%E5%AE%B9',\n",
       " 'https://www.irasutoya.com/search/label/%E4%B8%96%E7%95%8C',\n",
       " 'https://www.irasutoya.com/search/label/%E3%81%8A%E6%AD%A3%E6%9C%88',\n",
       " 'https://www.irasutoya.com/search/label/%E6%9C%AC',\n",
       " 'https://www.irasutoya.com/search/label/%E9%A2%A8%E6%99%AF',\n",
       " 'https://www.irasutoya.com/search/label/%E3%83%95%E3%82%A1%E3%83%B3%E3%82%BF%E3%82%B8%E3%83%BC',\n",
       " 'https://www.irasutoya.com/search/label/%E7%8A%AC',\n",
       " 'https://www.irasutoya.com/search/label/%E5%B0%B1%E6%B4%BB',\n",
       " 'https://www.irasutoya.com/search/label/%E8%99%AB',\n",
       " 'https://www.irasutoya.com/search/label/%E8%8A%B1',\n",
       " 'https://www.irasutoya.com/search/label/%E3%81%82%E3%81%8B%E3%81%A1%E3%82%83%E3%82%93',\n",
       " 'https://www.irasutoya.com/search/label/%E9%B3%A5',\n",
       " 'https://www.irasutoya.com/search/label/%E6%A4%8D%E7%89%A9',\n",
       " 'https://www.irasutoya.com/search/label/%E6%B5%B7',\n",
       " 'https://www.irasutoya.com/search/label/%E9%A3%9F%E6%9D%90',\n",
       " 'https://www.irasutoya.com/search/label/%E6%96%87%E6%88%BF%E5%85%B7',\n",
       " 'https://www.irasutoya.com/search/label/%E3%83%95%E3%83%AB%E3%83%BC%E3%83%84',\n",
       " 'https://www.irasutoya.com/search/label/%E7%89%A9%E8%AA%9E',\n",
       " 'https://www.irasutoya.com/search/label/%E7%8C%AB',\n",
       " 'https://www.irasutoya.com/search/label/%E3%81%8A%E5%B9%B4%E8%B3%80%E7%8A%B6',\n",
       " 'https://www.irasutoya.com/search/label/%E4%BB%8B%E8%AD%B7',\n",
       " 'https://www.irasutoya.com/search/label/%E8%AA%BF%E5%91%B3%E6%96%99',\n",
       " 'https://www.irasutoya.com/search/label/%E3%82%A6%E3%82%A7%E3%83%87%E3%82%A3%E3%83%B3%E3%82%B0',\n",
       " 'https://www.irasutoya.com/search/label/%E5%8D%97%E5%9B%BD',\n",
       " 'https://www.irasutoya.com/search/label/%E3%81%8A%E9%A2%A8%E5%91%82',\n",
       " 'https://www.irasutoya.com/search/label/%E5%BC%95%E8%B6%8A%E3%81%97',\n",
       " 'https://www.irasutoya.com/search/label/%E3%83%A9%E3%83%B3%E3%83%89%E3%83%9E%E3%83%BC%E3%82%AF',\n",
       " 'https://www.irasutoya.com/search/label/%E7%92%B0%E5%A2%83%E5%95%8F%E9%A1%8C',\n",
       " 'https://www.irasutoya.com/search/label/%E3%82%AF%E3%83%AA%E3%82%B9%E3%83%9E%E3%82%B9',\n",
       " 'https://www.irasutoya.com/search/label/%E3%82%B9%E3%83%9D%E3%83%BC%E3%83%84%E7%94%A8%E5%85%B7',\n",
       " 'https://www.irasutoya.com/search/label/%E3%83%86%E3%83%B3%E3%83%97%E3%83%AC%E3%83%BC%E3%83%88',\n",
       " 'https://www.irasutoya.com/search/label/%E9%AB%AA',\n",
       " 'https://www.irasutoya.com/search/label/%E5%A4%8F%E4%BC%91%E3%81%BF',\n",
       " 'https://www.irasutoya.com/search/label/%E3%83%A1%E3%83%87%E3%82%A3%E3%82%A2',\n",
       " 'https://www.irasutoya.com/search/label/%E6%80%AA%E6%88%91',\n",
       " 'https://www.irasutoya.com/search/label/%E4%B8%AD%E5%B9%B4',\n",
       " 'https://www.irasutoya.com/search/label/%E5%BA%A7%E5%B8%83%E5%9B%A3',\n",
       " 'https://www.irasutoya.com/search/label/%E9%A3%9F%E5%99%A8',\n",
       " 'https://www.irasutoya.com/search/label/%E6%9B%B8%E9%A1%9E',\n",
       " 'https://www.irasutoya.com/search/label/%E6%94%BF%E6%B2%BB',\n",
       " 'https://www.irasutoya.com/search/label/%E9%9B%BB%E8%BB%8A',\n",
       " 'https://www.irasutoya.com/search/label/%E3%81%8A%E7%A5%AD%E3%82%8A',\n",
       " 'https://www.irasutoya.com/search/label/%E5%B9%B2%E6%94%AF',\n",
       " 'https://www.irasutoya.com/search/label/%E3%83%A1%E3%83%83%E3%82%BB%E3%83%BC%E3%82%B8',\n",
       " 'https://www.irasutoya.com/search/label/%E5%AE%97%E6%95%99',\n",
       " 'https://www.irasutoya.com/search/label/%E3%82%B4%E3%83%9F',\n",
       " 'https://www.irasutoya.com/search/label/%E6%A5%BD%E5%99%A8',\n",
       " 'https://www.irasutoya.com/search/label/%E5%B9%BC%E7%A8%9A%E5%9C%92',\n",
       " 'https://www.irasutoya.com/search/label/%E6%98%A0%E7%94%BB',\n",
       " 'https://www.irasutoya.com/search/label/%E3%82%A8%E3%83%8D%E3%83%AB%E3%82%AE%E3%83%BC',\n",
       " 'https://www.irasutoya.com/search/label/%E3%83%91%E3%83%B3',\n",
       " 'https://www.irasutoya.com/search/label/%E3%82%AA%E3%83%AA%E3%83%B3%E3%83%94%E3%83%83%E3%82%AF',\n",
       " 'https://www.irasutoya.com/search/label/%E3%81%8A%E5%AF%BF%E5%8F%B8',\n",
       " 'https://www.irasutoya.com/search/label/%E9%A3%BE%E3%82%8A',\n",
       " 'https://www.irasutoya.com/search/label/%E8%BE%B2%E6%A5%AD',\n",
       " 'https://www.irasutoya.com/search/label/POP',\n",
       " 'https://www.irasutoya.com/search/label/%E8%87%AA%E8%BB%A2%E8%BB%8A',\n",
       " 'https://www.irasutoya.com/search/label/%E9%A3%9F%E3%81%B9%E7%89%A9%E3%82%AD%E3%83%A3%E3%83%A9',\n",
       " 'https://www.irasutoya.com/search/label/%E3%83%80%E3%83%B3%E3%82%B9',\n",
       " 'https://www.irasutoya.com/search/label/%E4%BD%93%E8%82%B2',\n",
       " 'https://www.irasutoya.com/search/label/%E6%A3%92%E4%BA%BA%E9%96%93',\n",
       " 'https://www.irasutoya.com/search/label/%E3%81%8A%E8%91%AC%E5%BC%8F',\n",
       " 'https://www.irasutoya.com/search/label/%E5%91%A8%E8%BE%BA%E6%A9%9F%E5%99%A8',\n",
       " 'https://www.irasutoya.com/search/label/%E6%80%9D%E3%81%84%E5%87%BA',\n",
       " 'https://www.irasutoya.com/search/label/%E3%83%A1%E3%82%BF%E3%83%9C%E3%83%AA%E3%83%83%E3%82%AF',\n",
       " 'https://www.irasutoya.com/search/label/%E6%A2%85%E9%9B%A8',\n",
       " 'https://www.irasutoya.com/search/label/%E3%83%9E%E3%82%B9%E3%82%AF',\n",
       " 'https://www.irasutoya.com/search/label/%E6%98%A5',\n",
       " 'https://www.irasutoya.com/search/label/%E6%AD%AF',\n",
       " 'https://www.irasutoya.com/search/label/%E9%9B%86%E5%90%88',\n",
       " 'https://www.irasutoya.com/search/label/%E9%81%8B%E5%8B%95%E4%BC%9A',\n",
       " 'https://www.irasutoya.com/search/label/%E3%81%8A%E8%AA%95%E7%94%9F%E6%97%A5',\n",
       " 'https://www.irasutoya.com/search/label/%E8%8B%B1%E8%AA%9E',\n",
       " 'https://www.irasutoya.com/search/label/%E5%AE%A4%E5%86%85',\n",
       " 'https://www.irasutoya.com/search/label/%E3%82%AB%E3%83%95%E3%82%A7',\n",
       " 'https://www.irasutoya.com/search/label/%E3%82%B5%E3%83%83%E3%82%AB%E3%83%BC',\n",
       " 'https://www.irasutoya.com/search/label/%E5%AE%87%E5%AE%99',\n",
       " 'https://www.irasutoya.com/search/label/%E9%87%8E%E7%90%83',\n",
       " 'https://www.irasutoya.com/search/label/%E3%83%90%E3%83%AC%E3%83%B3%E3%82%BF%E3%82%A4%E3%83%B3',\n",
       " 'https://www.irasutoya.com/search/label/%E7%A7%8B',\n",
       " 'https://www.irasutoya.com/search/label/%E5%90%B9%E5%A5%8F%E6%A5%BD',\n",
       " 'https://www.irasutoya.com/search/label/%E3%83%88%E3%82%A4%E3%83%AC',\n",
       " 'https://www.irasutoya.com/search/label/%E6%AD%8C',\n",
       " 'https://www.irasutoya.com/search/label/%E5%8D%92%E6%A5%AD%E5%BC%8F',\n",
       " 'https://www.irasutoya.com/search/label/%E3%83%95%E3%83%AC%E3%83%BC%E3%83%A0',\n",
       " 'https://www.irasutoya.com/search/label/%E7%88%AC%E8%99%AB%E9%A1%9E%E4%B8%A1%E7%94%9F%E9%A1%9E',\n",
       " 'https://www.irasutoya.com/search/label/%E5%81%A5%E5%BA%B7%E8%A8%BA%E6%96%AD',\n",
       " 'https://www.irasutoya.com/search/label/%E3%81%B4%E3%82%87%E3%81%93',\n",
       " 'https://www.irasutoya.com/search/label/%E3%83%A9%E3%82%A4%E3%83%B3',\n",
       " 'https://www.irasutoya.com/search/label/%E3%81%8A%E5%BC%81%E5%BD%93',\n",
       " 'https://www.irasutoya.com/search/label/%E6%96%B0%E7%A4%BE%E4%BC%9A%E4%BA%BA',\n",
       " 'https://www.irasutoya.com/search/label/%E3%83%8F%E3%83%AD%E3%82%A6%E3%82%A3%E3%83%B3',\n",
       " 'https://www.irasutoya.com/search/label/%E5%A4%A9%E6%B0%97',\n",
       " 'https://www.irasutoya.com/search/label/%E6%96%87%E5%8C%96%E7%A5%AD',\n",
       " 'https://www.irasutoya.com/search/label/%E3%82%B4%E3%83%BC%E3%83%AB%E3%83%87%E3%83%B3%E3%82%A6%E3%82%A3%E3%83%BC%E3%82%AF',\n",
       " 'https://www.irasutoya.com/search/label/%E5%A4%8F%E3%83%90%E3%83%86',\n",
       " 'https://www.irasutoya.com/search/label/%E6%B7%B1%E6%B5%B7',\n",
       " 'https://www.irasutoya.com/search/label/%E6%B4%97%E6%BF%AF',\n",
       " 'https://www.irasutoya.com/search/label/%E5%8F%A4%E4%BB%A3%E7%94%9F%E7%89%A9',\n",
       " 'https://www.irasutoya.com/search/label/%E6%BC%81%E6%A5%AD',\n",
       " 'https://www.irasutoya.com/search/label/%E3%81%82%E3%81%84%E3%81%95%E3%81%A4',\n",
       " 'https://www.irasutoya.com/search/label/%E8%B2%9D',\n",
       " 'https://www.irasutoya.com/search/label/%E8%A3%81%E7%B8%AB',\n",
       " 'https://www.irasutoya.com/search/label/%E4%BA%BA%E4%BD%93%E3%82%AD%E3%83%A3%E3%83%A9',\n",
       " 'https://www.irasutoya.com/search/label/%E3%81%8A%E8%8A%B1%E8%A6%8B',\n",
       " 'https://www.irasutoya.com/search/label/%E5%9C%B0%E5%9B%B3',\n",
       " 'https://www.irasutoya.com/search/label/%E3%81%93%E3%81%A9%E3%82%82%E8%81%B7%E6%A5%AD',\n",
       " 'https://www.irasutoya.com/search/label/%E7%94%B2%E6%AE%BB%E9%A1%9E',\n",
       " 'https://www.irasutoya.com/search/label/%E4%B8%96%E4%BB%A3',\n",
       " 'https://www.irasutoya.com/search/label/%E5%B9%B4%E3%81%AE%E7%80%AC',\n",
       " 'https://www.irasutoya.com/search/label/%E8%8A%B1%E7%81%AB',\n",
       " 'https://www.irasutoya.com/search/label/%E6%96%B0%E5%AD%A6%E6%9C%9F',\n",
       " 'https://www.irasutoya.com/search/label/%E4%BB%8F%E5%83%8F',\n",
       " 'https://www.irasutoya.com/search/label/%E5%9C%B0%E5%9F%9F%E3%82%AD%E3%83%A3%E3%83%A9',\n",
       " 'https://www.irasutoya.com/search/label/%E3%82%B9%E3%83%BC%E3%83%97',\n",
       " 'https://www.irasutoya.com/search/label/%E5%85%A5%E5%AD%A6%E5%BC%8F',\n",
       " 'https://www.irasutoya.com/search/label/%E5%88%9D%E8%A9%A3',\n",
       " 'https://www.irasutoya.com/search/label/%E7%B5%A6%E9%A3%9F',\n",
       " 'https://www.irasutoya.com/search/label/%E9%9F%B3%E6%A5%BD%E5%AE%B6',\n",
       " 'https://www.irasutoya.com/search/label/%E7%B4%85%E8%91%89',\n",
       " 'https://www.irasutoya.com/search/label/%E3%81%93%E3%81%A9%E3%82%82%E3%81%AE%E6%97%A5',\n",
       " 'https://www.irasutoya.com/search/label/%E6%9E%97%E6%A5%AD',\n",
       " 'https://www.irasutoya.com/search/label/VR',\n",
       " 'https://www.irasutoya.com/search/label/%E6%81%90%E7%AB%9C',\n",
       " 'https://www.irasutoya.com/search/label/%E7%88%B6%E3%81%AE%E6%97%A5',\n",
       " 'https://www.irasutoya.com/search/label/%E5%BF%98%E5%B9%B4%E4%BC%9A',\n",
       " 'https://www.irasutoya.com/search/label/%E4%BA%BA%E5%B7%A5%E7%9F%A5%E8%83%BD',\n",
       " 'https://www.irasutoya.com/search/label/%E5%BF%8D%E8%80%85',\n",
       " 'https://www.irasutoya.com/search/label/%E7%A5%9D%E6%97%A5',\n",
       " 'https://www.irasutoya.com/search/label/%E7%AF%80%E5%88%86',\n",
       " 'https://www.irasutoya.com/search/label/%E6%AF%8D%E3%81%AE%E6%97%A5',\n",
       " 'https://www.irasutoya.com/search/label/LGBT',\n",
       " 'https://www.irasutoya.com/search/label/%E3%82%AF%E3%82%B8%E3%83%A9%E3%82%A4%E3%83%AB%E3%82%AB',\n",
       " 'https://www.irasutoya.com/search/label/%E6%97%A5%E7%84%BC%E3%81%91',\n",
       " 'https://www.irasutoya.com/search/label/%E6%9B%B8%E9%81%93',\n",
       " 'https://www.irasutoya.com/search/label/%E7%A6%81%E6%AD%A2',\n",
       " 'https://www.irasutoya.com/search/label/%E3%83%9A%E3%83%B3%E3%82%AE%E3%83%B3',\n",
       " 'https://www.irasutoya.com/search/label/%E3%83%A8%E3%82%AC',\n",
       " 'https://www.irasutoya.com/search/label/%E4%B9%97%E3%82%8A%E7%89%A9%E3%82%AD%E3%83%A3%E3%83%A9',\n",
       " 'https://www.irasutoya.com/search/label/%E5%A4%A7%E6%99%A6%E6%97%A5',\n",
       " 'https://www.irasutoya.com/search/label/%E3%83%91%E3%83%A9%E3%83%AA%E3%83%B3%E3%83%94%E3%83%83%E3%82%AF',\n",
       " 'https://www.irasutoya.com/search/label/%E4%B8%83%E5%A4%95',\n",
       " 'https://www.irasutoya.com/search/label/%E5%8B%95%E7%89%A9%E3%81%AE%E9%A1%94',\n",
       " 'https://www.irasutoya.com/search/label/%E3%83%9B%E3%83%AF%E3%82%A4%E3%83%88%E3%83%87%E3%83%BC',\n",
       " 'https://www.irasutoya.com/search/label/%E3%81%8A%E3%81%AB%E3%81%8E%E3%82%8A',\n",
       " 'https://www.irasutoya.com/search/label/%E9%99%B8%E4%B8%8A',\n",
       " 'https://www.irasutoya.com/search/label/%E6%9A%91%E4%B8%AD%E8%A6%8B%E8%88%9E%E3%81%84',\n",
       " 'https://www.irasutoya.com/search/label/%E6%98%9F%E5%BA%A7',\n",
       " 'https://www.irasutoya.com/search/label/%E3%81%93%E3%81%A8%E3%82%8F%E3%81%96',\n",
       " 'https://www.irasutoya.com/search/label/%E6%88%90%E4%BA%BA%E5%BC%8F',\n",
       " 'https://www.irasutoya.com/search/label/%E6%95%AC%E8%80%81%E3%81%AE%E6%97%A5',\n",
       " 'https://www.irasutoya.com/search/label/%E9%87%8E%E8%8F%9C%E3%81%AE%E5%88%87%E3%82%8A%E6%96%B9',\n",
       " 'https://www.irasutoya.com/search/label/%E3%81%B2%E3%81%AA%E7%A5%AD%E3%82%8A',\n",
       " 'https://www.irasutoya.com/search/label/%E3%81%8A%E6%9C%88%E8%A6%8B',\n",
       " 'https://www.irasutoya.com/search/label/%E3%82%86%E3%82%81%E3%81%8B%E3%82%8F',\n",
       " 'https://www.irasutoya.com/search/label/%E3%83%91%E3%82%BF%E3%83%BC%E3%83%B3',\n",
       " 'https://www.irasutoya.com/search/label/%E4%BC%9D%E8%A8%80%E3%83%A1%E3%83%A2',\n",
       " 'https://www.irasutoya.com/search/label/%E9%A1%94%E3%82%A2%E3%82%A4%E3%82%B3%E3%83%B3',\n",
       " 'https://www.irasutoya.com/search/label/LINE%E3%82%B9%E3%82%BF%E3%83%B3%E3%83%97',\n",
       " 'https://www.irasutoya.com/search/label/%E3%82%A4%E3%83%BC%E3%82%B9%E3%82%BF%E3%83%BC',\n",
       " 'https://www.irasutoya.com/search/label/%E5%8B%A4%E5%8A%B4%E6%84%9F%E8%AC%9D%E3%81%AE%E6%97%A5',\n",
       " 'https://www.irasutoya.com/search/label/%E5%9B%BD%E6%97%97',\n",
       " 'https://www.irasutoya.com/search/label/%E3%82%A2%E3%83%9E%E3%83%93%E3%82%A8',\n",
       " 'https://www.irasutoya.com/search/label/%E4%B8%80%E7%AD%86%E7%AE%8B',\n",
       " 'https://www.irasutoya.com/search/label/%E3%83%88%E3%83%A9%E3%83%B3%E3%83%97',\n",
       " 'https://www.irasutoya.com/search/label/%E4%B8%83%E4%BA%94%E4%B8%89',\n",
       " 'https://www.irasutoya.com/search/label/%E6%9B%B8%E4%BD%93',\n",
       " 'https://www.irasutoya.com/search/label/%E3%83%A1%E3%83%83%E3%82%BB%E3%83%BC%E3%82%B8%E3%82%AB%E3%83%BC%E3%83%89',\n",
       " 'https://www.irasutoya.com/search/label/%E3%82%A8%E3%82%A4%E3%83%97%E3%83%AA%E3%83%AB%E3%83%95%E3%83%BC%E3%83%AB',\n",
       " 'https://www.irasutoya.com/search/label/%E5%9B%BD%E6%97%97%E3%81%BE%E3%81%A8%E3%82%81',\n",
       " 'https://www.irasutoya.com/search/label/%E3%83%9A%E3%83%B3%E3%82%AD%E6%9B%B8%E4%BD%93',\n",
       " 'https://www.irasutoya.com/search/label/%E5%AE%A3%E4%BC%9D',\n",
       " 'https://www.irasutoya.com/search/label/%E7%99%BD%E6%8A%9C%E3%81%8D%E6%9B%B8%E4%BD%93',\n",
       " '//www.blogger.com/rearrange?blogID=8749391503645026985&widgetType=Label&widgetId=Label2&action=editWidget§ionId=main']"
      ]
     },
     "execution_count": 124,
     "metadata": {},
     "output_type": "execute_result"
    }
   ],
   "source": [
    "cat_url_list, cat_name_list = get_categories(url)\n",
    "cat_url_list"
   ]
  },
  {
   "cell_type": "code",
   "execution_count": null,
   "metadata": {},
   "outputs": [],
   "source": [
    "import sqlite3\n",
    "conn = sqlite3.connect('irasutoya.db')\n",
    "c = conn.cursor()\n",
    "c.execute('create table irasuto(id integer, name text, caption text, discription text)')"
   ]
  },
  {
   "cell_type": "code",
   "execution_count": null,
   "metadata": {},
   "outputs": [],
   "source": []
  },
  {
   "cell_type": "code",
   "execution_count": null,
   "metadata": {},
   "outputs": [],
   "source": []
  },
  {
   "cell_type": "code",
   "execution_count": null,
   "metadata": {},
   "outputs": [],
   "source": []
  }
 ],
 "metadata": {
  "kernelspec": {
   "display_name": "Python 3",
   "language": "python",
   "name": "python3"
  },
  "language_info": {
   "codemirror_mode": {
    "name": "ipython",
    "version": 3
   },
   "file_extension": ".py",
   "mimetype": "text/x-python",
   "name": "python",
   "nbconvert_exporter": "python",
   "pygments_lexer": "ipython3",
   "version": "3.6.9"
  }
 },
 "nbformat": 4,
 "nbformat_minor": 4
}
