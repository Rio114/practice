{
 "cells": [
  {
   "cell_type": "code",
   "execution_count": 1,
   "metadata": {},
   "outputs": [],
   "source": [
    "import numpy as np\n",
    "\n",
    "from tensorflow.compat.v1 import ConfigProto\n",
    "from tensorflow.compat.v1 import InteractiveSession\n",
    "config = ConfigProto()\n",
    "# config.gpu_options.allow_growth = True\n",
    "config.gpu_options.per_process_gpu_memory_fraction = 0.8\n",
    "session = InteractiveSession(config=config)"
   ]
  },
  {
   "cell_type": "code",
   "execution_count": 2,
   "metadata": {},
   "outputs": [],
   "source": [
    "from PIL import Image"
   ]
  },
  {
   "cell_type": "code",
   "execution_count": 3,
   "metadata": {},
   "outputs": [
    {
     "name": "stderr",
     "output_type": "stream",
     "text": [
      "Using TensorFlow backend.\n"
     ]
    }
   ],
   "source": [
    "from keras.models import Model, load_model\n",
    "from keras.layers import Conv2D, MaxPooling2D, UpSampling2D, Input, Dense, Add, Activation, LeakyReLU\n",
    "from keras.layers import Flatten, Reshape, Activation, Concatenate, Dropout, BatchNormalization\n",
    "from tensorflow.keras.optimizers import Adam\n",
    "from keras.engine.network import Network"
   ]
  },
  {
   "cell_type": "code",
   "execution_count": 4,
   "metadata": {},
   "outputs": [],
   "source": [
    "class GEN():\n",
    "    def __init__(self, model_path, input_shape=(45, 80, 3)):\n",
    "        self.input_shape = input_shape\n",
    "        self.gen_net = []\n",
    "        self.generator = self.build_generator()\n",
    "        self.optimizer = Adam(lr=0.0002, beta_1=0.5)\n",
    "        self.generator.compile(loss='mean_squared_error', optimizer=self.optimizer)\n",
    "        self.generator.load_weights(model_path)\n",
    "\n",
    "    def __add_conv_gen(self, layer_name, filters):\n",
    "        self.gen_net.append(Conv2D(filters, (3, 3), padding='same', name=layer_name+'_conv0'))\n",
    "        self.gen_net.append(BatchNormalization(momentum=0.8, name=layer_name+'_norm0'))\n",
    "        self.gen_net.append(LeakyReLU(name=layer_name+'_act0'))\n",
    "        self.gen_net.append(Conv2D(filters, (3, 3), padding='same', name=layer_name+'_conv1'))\n",
    "        self.gen_net.append(BatchNormalization(momentum=0.8, name=layer_name+'_norm1'))\n",
    "        self.gen_net.append(LeakyReLU(name=layer_name+'_act1'))\n",
    "    def build_generator(self, filters=128):\n",
    "        input_layer = Input(shape = self.input_shape)\n",
    "        layers = [input_layer]\n",
    "        \n",
    "        # define operators\n",
    "        layer_name = 'G_Head' # 0~2\n",
    "        self.gen_net.append(Conv2D(filters, (3, 3), padding='same', name=layer_name+'_conv0', activation='relu'))    \n",
    "        self.gen_net.append(BatchNormalization(momentum=0.8, name=layer_name+'_norm0'))\n",
    "        self.gen_net.append(LeakyReLU(name=layer_name+'_act0'))\n",
    "\n",
    "        layer_name = 'G_Body_0' # 3~8\n",
    "        self.__add_conv_gen(layer_name, filters)   \n",
    "\n",
    "        layer_name = 'G_Body_1' # 9~14\n",
    "        self.__add_conv_gen(layer_name, filters)    \n",
    "\n",
    "        layer_name = \"G_Up_1\" # 15\n",
    "        self.gen_net.append(UpSampling2D(size=(2,2), name=layer_name+'_upsamp'))\n",
    "        \n",
    "        layer_name = 'G_Body_3' # 16~21\n",
    "        self.__add_conv_gen(layer_name, filters)\n",
    "\n",
    "        layer_name = \"G_Tail\" # 22~23\n",
    "        self.gen_net.append(BatchNormalization(momentum=0.8, name=layer_name+'_norm0'))\n",
    "        self.gen_net.append(Conv2D(filters=3, kernel_size=(3, 3), padding='same', name='outRGB', activation=\"sigmoid\"))\n",
    "        \n",
    "        # build network\n",
    "        # head\n",
    "        num = len(layers)\n",
    "        for i, operator in enumerate(self.gen_net[:3]):\n",
    "            layers.append(operator(layers[i+num-1]))\n",
    "        head_out = layers[-1] \n",
    "\n",
    "        # body first 0\n",
    "        num = len(layers)\n",
    "        for i, operator in enumerate(self.gen_net[3:9]):\n",
    "            layers.append(operator(layers[i+num-1]))\n",
    "        layers.append(Add()([layers[-1], head_out]))\n",
    "        body_0_out = layers[-1]\n",
    "\n",
    "        # body first 1\n",
    "        num = len(layers)\n",
    "        for i, operator in enumerate(self.gen_net[9:15]):\n",
    "            layers.append(operator(layers[i+num-1]))\n",
    "        layers.append(Add()([layers[-1], body_0_out]))\n",
    "        body_1_out = layers[-1]\n",
    "\n",
    "        layers.append(Add()([head_out, body_1_out]))\n",
    "\n",
    "        # up\n",
    "        layers.append(self.gen_net[15](layers[-1]))\n",
    "\n",
    "        # tail\n",
    "        prior_tail = layers[-1]\n",
    "        num = len(layers)\n",
    "        for i, operator in enumerate(self.gen_net[16:22]):\n",
    "            layers.append(operator(layers[i+num-1]))\n",
    "        layers.append(Add()([layers[-1], prior_tail]))\n",
    "\n",
    "        layers.append(self.gen_net[-2](layers[-1])) # batch_norm\n",
    "        layers.append(self.gen_net[-1](layers[-1])) # rgb\n",
    "\n",
    "        self.shared_generator = Network(input=layers[0], output=layers[-1], name='generator')\n",
    "        return Model(layers[0], layers[-1])\n"
   ]
  },
  {
   "cell_type": "code",
   "execution_count": 13,
   "metadata": {},
   "outputs": [],
   "source": [
    "def sr_image(img_path, out_path):\n",
    "    im = Image.open(img_path)\n",
    "    w = im.width\n",
    "    h = im.height\n",
    "    img = np.array(im)[:, :, ::-1]\n",
    "    input_shape = (h, w, 3)\n",
    "    model_path = '../models/20200522_generator.h5'\n",
    "\n",
    "    gen = GEN(model_path, input_shape)\n",
    "\n",
    "    model = gen.generator\n",
    "    pred = model.predict((img / 255)[np.newaxis, :, :, :])[0]\n",
    "    out = (pred * 255).astype('u1')\n",
    "    out_pil = out[:, :, ::-1]\n",
    "    new_image = Image.fromarray(out_pil)\n",
    "    new_image.save(out_path)"
   ]
  },
  {
   "cell_type": "code",
   "execution_count": 14,
   "metadata": {},
   "outputs": [],
   "source": [
    "img_path = 'original.jpg'\n",
    "out_path = 'sr_image.jpg'"
   ]
  },
  {
   "cell_type": "code",
   "execution_count": 15,
   "metadata": {},
   "outputs": [
    {
     "name": "stderr",
     "output_type": "stream",
     "text": [
      "/usr/local/lib/python3.6/dist-packages/ipykernel_launcher.py:79: UserWarning: Update your `Network` call to the Keras 2 API: `Network(name=\"generator\", inputs=Tensor(\"in..., outputs=Tensor(\"ou...)`\n"
     ]
    }
   ],
   "source": [
    "sr_image(img_path, out_path)"
   ]
  },
  {
   "cell_type": "code",
   "execution_count": null,
   "metadata": {},
   "outputs": [],
   "source": []
  }
 ],
 "metadata": {
  "kernelspec": {
   "display_name": "Python 3",
   "language": "python",
   "name": "python3"
  },
  "language_info": {
   "codemirror_mode": {
    "name": "ipython",
    "version": 3
   },
   "file_extension": ".py",
   "mimetype": "text/x-python",
   "name": "python",
   "nbconvert_exporter": "python",
   "pygments_lexer": "ipython3",
   "version": "3.6.9"
  }
 },
 "nbformat": 4,
 "nbformat_minor": 4
}
