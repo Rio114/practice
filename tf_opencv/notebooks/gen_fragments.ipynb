{
 "cells": [
  {
   "cell_type": "code",
   "execution_count": null,
   "metadata": {},
   "outputs": [],
   "source": [
    "import os\n",
    "import cv2"
   ]
  },
  {
   "cell_type": "code",
   "execution_count": null,
   "metadata": {},
   "outputs": [],
   "source": [
    "train_dir = '../data/train/'\n",
    "val_dir = '../data/val/'"
   ]
  },
  {
   "cell_type": "code",
   "execution_count": null,
   "metadata": {},
   "outputs": [],
   "source": [
    "def find_mp4(path):\n",
    "    file_list = []\n",
    "    for f in os.listdir(path):\n",
    "        ext = f.split('.')[-1]\n",
    "        if ext == 'mp4' or ext == 'flv':\n",
    "            file_list.append(f)\n",
    "    return file_list"
   ]
  },
  {
   "cell_type": "code",
   "execution_count": null,
   "metadata": {},
   "outputs": [],
   "source": [
    "def save_frames(data_dir, file, r=2, H_LOW = 67, W_LOW = 120):\n",
    "    high_dir = data_dir + f'{r}/high/'\n",
    "    low_dir = data_dir + f'{r}/low/'\n",
    "\n",
    "    path = data_dir + file\n",
    "    print(path)\n",
    "    cap = cv2.VideoCapture(path)\n",
    "    w = int(cap.get(cv2.CAP_PROP_FRAME_WIDTH))\n",
    "    h = int(cap.get(cv2.CAP_PROP_FRAME_HEIGHT))\n",
    "    fcnt = int(cap.get(cv2.CAP_PROP_FRAME_COUNT))\n",
    "    fps = cap.get(cv2.CAP_PROP_FPS)\n",
    "    \n",
    "    print(f'w={w}, h={h}, fcnt={fcnt}, fps={fps}')\n",
    "    \n",
    "    saved_cnt = 0\n",
    "\n",
    "    H = H_LOW * r\n",
    "    W = W_LOW * r\n",
    "\n",
    "    num_H = h // H\n",
    "    res_H = h % H\n",
    "\n",
    "    num_W = w // W\n",
    "    res_W = w % W\n",
    "\n",
    "    num_H_low = (h // 2) // H_LOW\n",
    "    res_H_low = (h // 2) % H_LOW\n",
    "\n",
    "    num_W_low = (w // 2) // W_LOW\n",
    "    res_W_low = (w // 2) % W_LOW\n",
    "\n",
    "    assert num_H == num_H_low and num_W == num_W_low\n",
    "\n",
    "    for cnt in range(fcnt):\n",
    "        ret, frame_temp = cap.read()\n",
    "        if(cnt % int(fps) == 0):\n",
    "            try:\n",
    "                low_frame_temp = cv2.resize(frame_temp, (int(w/r), int((h)/r)))\n",
    "            except:\n",
    "                continue\n",
    "            low_frame = low_frame_temp[(res_H_low//2):, (res_W_low//2):]\n",
    "            frame = frame_temp[(res_H//2):, (res_W//2):]\n",
    "            frame_list = []\n",
    "            low_frame_list = []\n",
    "\n",
    "            for i in range(num_H):\n",
    "                for j in range(num_W):\n",
    "                    frame_list.append(frame[i*H:(i+1)*H, j*W:(j+1)*W])\n",
    "                    low_frame_list.append(low_frame[i*H_LOW:(i+1)*H_LOW, j*W_LOW:(j+1)*W_LOW])\n",
    "                    saved_cnt += 1\n",
    "\n",
    "            for i, im in enumerate(frame_list):\n",
    "                imgname = file.split('.')[0] + f'_{cnt}_{i}.jpg'\n",
    "                cv2.imwrite(high_dir+imgname, im)    \n",
    "                cv2.imwrite(low_dir+imgname, low_frame_list[i])\n",
    "    print (saved_cnt)\n",
    "    return saved_cnt"
   ]
  },
  {
   "cell_type": "code",
   "execution_count": null,
   "metadata": {
    "scrolled": true
   },
   "outputs": [],
   "source": [
    "dir_list = [train_dir, val_dir]\n",
    "\n",
    "total_imgs = 0\n",
    "for tgt_dir in dir_list:\n",
    "    print(tgt_dir)\n",
    "    tgt_files = find_mp4(tgt_dir)\n",
    "    for file in tgt_files:\n",
    "        total_imgs += save_frames(tgt_dir, file)\n",
    "    print(f'total_imgs: {total_imgs}')"
   ]
  },
  {
   "cell_type": "code",
   "execution_count": null,
   "metadata": {},
   "outputs": [],
   "source": [
    "# fname = ''\n",
    "# path = train_dir + fname\n",
    "# cap = cv2.VideoCapture(path)\n",
    "# ret, frame_temp = cap.read()"
   ]
  },
  {
   "cell_type": "code",
   "execution_count": null,
   "metadata": {},
   "outputs": [],
   "source": [
    "# w = int(cap.get(cv2.CAP_PROP_FRAME_WIDTH))\n",
    "# h = int(cap.get(cv2.CAP_PROP_FRAME_HEIGHT))\n",
    "# r = 2"
   ]
  },
  {
   "cell_type": "code",
   "execution_count": null,
   "metadata": {},
   "outputs": [],
   "source": [
    "# cv2.resize(frame_temp, (int(w/r), int((h)/r)))"
   ]
  },
  {
   "cell_type": "code",
   "execution_count": null,
   "metadata": {},
   "outputs": [],
   "source": [
    "# w = int(cap.get(cv2.CAP_PROP_FRAME_WIDTH)) # 動画の画面横幅\n",
    "# h = int(cap.get(cv2.CAP_PROP_FRAME_HEIGHT)) # 動画の画面縦幅\n",
    "# fcnt = int(cap.get(cv2.CAP_PROP_FRAME_COUNT)) # 総フレーム数\n",
    "# fps = cap.get(cv2.CAP_PROP_FPS)\n",
    "# print('width:',  w)\n",
    "# print('height:',  h)\n",
    "# print('frame_count:',  fcnt)\n",
    "# print('frame_rate:',  fps)    "
   ]
  },
  {
   "cell_type": "code",
   "execution_count": null,
   "metadata": {},
   "outputs": [],
   "source": [
    "# r = 1 / 4\n",
    "\n",
    "# for f in range(fcnt):\n",
    "#     ret, frame = cap.read()\n",
    "#     if(f % int(fps) == 0):\n",
    "#         imgname = filename.split('.')[0] + f'_{f}.jpg'\n",
    "        \n",
    "#         low_frame = cv2.resize(frame , (int(width*r), int(height*r)))\n",
    "\n",
    "#         cv2.imwrite(high_dir+imgname, frame)    \n",
    "#         cv2.imwrite(low_dir+imgname, low_frame)"
   ]
  },
  {
   "cell_type": "code",
   "execution_count": null,
   "metadata": {},
   "outputs": [],
   "source": [
    "# cv2.imshow('frame', frame)\n",
    "# cv2.waitKey(0)\n",
    "# cv2.destroyAllWindows()\n",
    "\n",
    "# cv2.imshow('frame', low_frame)\n",
    "# cv2.waitKey(0)\n",
    "# cv2.destroyAllWindows()"
   ]
  },
  {
   "cell_type": "code",
   "execution_count": null,
   "metadata": {},
   "outputs": [],
   "source": []
  }
 ],
 "metadata": {
  "kernelspec": {
   "display_name": "Python 3",
   "language": "python",
   "name": "python3"
  },
  "language_info": {
   "codemirror_mode": {
    "name": "ipython",
    "version": 3
   },
   "file_extension": ".py",
   "mimetype": "text/x-python",
   "name": "python",
   "nbconvert_exporter": "python",
   "pygments_lexer": "ipython3",
   "version": "3.6.9"
  }
 },
 "nbformat": 4,
 "nbformat_minor": 4
}
