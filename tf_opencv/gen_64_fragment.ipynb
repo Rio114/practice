{
 "cells": [
  {
   "cell_type": "code",
   "execution_count": 1,
   "metadata": {},
   "outputs": [],
   "source": [
    "import os\n",
    "import cv2"
   ]
  },
  {
   "cell_type": "code",
   "execution_count": 2,
   "metadata": {},
   "outputs": [],
   "source": [
    "train_dir = 'data/train/'\n",
    "val_dir = 'data/val/'"
   ]
  },
  {
   "cell_type": "code",
   "execution_count": 3,
   "metadata": {},
   "outputs": [],
   "source": [
    "def find_mp4(path):\n",
    "    file_list = []\n",
    "    for f in os.listdir(path):\n",
    "        if f.split('.')[-1] == 'mp4':\n",
    "            file_list.append(f)\n",
    "    return file_list"
   ]
  },
  {
   "cell_type": "code",
   "execution_count": 4,
   "metadata": {},
   "outputs": [],
   "source": [
    "def save_frames(data_dir, file, r=3):\n",
    "    high_dir = data_dir + f'{r}/high/'\n",
    "    low_dir = data_dir + f'{r}/low/'\n",
    "\n",
    "    path = data_dir + file\n",
    "    print(path)\n",
    "    cap = cv2.VideoCapture(path)\n",
    "    w = int(cap.get(cv2.CAP_PROP_FRAME_WIDTH))\n",
    "    h = int(cap.get(cv2.CAP_PROP_FRAME_HEIGHT))\n",
    "    fcnt = int(cap.get(cv2.CAP_PROP_FRAME_COUNT))\n",
    "    fps = cap.get(cv2.CAP_PROP_FPS)\n",
    "    \n",
    "    print(f'w={w}, h={h}, fcnt={fcnt}, fps={fps}')\n",
    "    \n",
    "    assert w % 8 == 0 & h % 8 == 0 & h % r == 0 & w % r == 0\n",
    "    \n",
    "    saved_cnt = 0\n",
    "    \n",
    "    dw = w // 8\n",
    "    dh = h // 8\n",
    "    \n",
    "    ddw = dw // r\n",
    "    ddh = dh // r\n",
    "\n",
    "    for cnt in range(fcnt):\n",
    "        ret, frame = cap.read()\n",
    "        if(cnt % int(fps) == 0):\n",
    "            saved_cnt += 64\n",
    "            frame_list = []\n",
    "            low_frame_list = []\n",
    "            low_frame = cv2.resize(frame , (int(w/r), int(h/r)))\n",
    "            \n",
    "            for i in range(8):\n",
    "                for j in range(8):\n",
    "                    frame_list.append(frame[i*dh:(i+1)*dh, j*dw:(j+1)*dw])\n",
    "                    low_frame_list.append(low_frame[i*ddh:(i+1)*ddh, j*ddw:(j+1)*ddw])\n",
    "\n",
    "            for i, im in enumerate(frame_list):\n",
    "                imgname = file.split('.')[0] + f'_{cnt}_{i}.jpg'\n",
    "                cv2.imwrite(high_dir+imgname, im)    \n",
    "                cv2.imwrite(low_dir+imgname, low_frame_list[i])\n",
    "    print (saved_cnt)\n",
    "    return saved_cnt"
   ]
  },
  {
   "cell_type": "code",
   "execution_count": 5,
   "metadata": {},
   "outputs": [
    {
     "name": "stdout",
     "output_type": "stream",
     "text": [
      "data/train/\n",
      "data/train/FCPdIvXo2rU.mp4\n",
      "w=1920, h=1080, fcnt=7652, fps=25.0\n",
      "19648\n",
      "data/train/movie3.mp4\n",
      "w=1920, h=1080, fcnt=8147, fps=29.97002997002997\n",
      "17984\n",
      "data/train/movie0.mp4\n",
      "w=1920, h=1080, fcnt=17159, fps=29.97002997002997\n",
      "37888\n",
      "data/train/movie1.mp4\n",
      "w=1920, h=1080, fcnt=7255, fps=29.97002997002997\n",
      "16064\n",
      "data/train/Q-vuR4PJh2c.mp4\n",
      "w=1920, h=1080, fcnt=15550, fps=25.0\n",
      "39808\n",
      "data/train/yPbQ1tpvt3Y.mp4\n",
      "w=1920, h=1080, fcnt=9455, fps=29.97002997002997\n",
      "20928\n",
      "data/train/W7h-Yho8EB0.mp4\n",
      "w=1920, h=1080, fcnt=7270, fps=29.97002997002997\n",
      "16064\n",
      "data/train/movie5.mp4\n",
      "w=1920, h=1080, fcnt=5871, fps=25.0\n",
      "15040\n",
      "data/train/UItWltVZZmE.mp4\n",
      "w=1920, h=1080, fcnt=39426, fps=30.0\n",
      "84160\n",
      "data/train/BrlUXBD8GPI.mp4\n",
      "w=1920, h=1080, fcnt=6014, fps=29.97002997002997\n",
      "13312\n",
      "data/train/JbhV7Yrd8II.mp4\n",
      "w=1920, h=1080, fcnt=19680, fps=59.94005994005994\n",
      "21376\n",
      "data/train/AsDFbCi5QlI.mp4\n",
      "w=1920, h=1080, fcnt=6818, fps=23.976023976023978\n",
      "19008\n",
      "data/train/d7ql7mGozYg.mp4\n",
      "w=1920, h=1080, fcnt=9857, fps=29.97002997002997\n",
      "21760\n",
      "data/train/bwNV7TAWN3M.mp4\n",
      "w=1920, h=1080, fcnt=6959, fps=25.0\n",
      "17856\n",
      "data/train/movie2.mp4\n",
      "w=1920, h=1080, fcnt=10177, fps=29.97002997002997\n",
      "22464\n",
      "data/train/TryBack .mp4\n",
      "w=1920, h=1080, fcnt=11915, fps=25.0\n",
      "30528\n",
      "data/train/jXm0y-csiuE.mp4\n",
      "w=1920, h=1080, fcnt=15865, fps=25.0\n",
      "40640\n",
      "data/train/Fz4F2X1xSc8.mp4\n",
      "w=1920, h=1080, fcnt=14236, fps=29.97002997002997\n",
      "31424\n",
      "data/train/movie4.mp4\n",
      "w=1920, h=1080, fcnt=5994, fps=29.97002997002997\n",
      "13248\n",
      "data/train/zCLOJ9j1k2Y.mp4\n",
      "w=1920, h=1080, fcnt=19472, fps=59.94005994005994\n",
      "21184\n",
      "total_imgs: 520384\n",
      "data/val/\n",
      "data/val/UBMk30rjy0o.mp4\n",
      "w=1920, h=1080, fcnt=30500, fps=25.0\n",
      "78080\n",
      "total_imgs: 598464\n"
     ]
    }
   ],
   "source": [
    "dir_list = [train_dir, val_dir]\n",
    "\n",
    "total_imgs = 0\n",
    "for tgt_dir in dir_list:\n",
    "    print(tgt_dir)\n",
    "    tgt_files = find_mp4(tgt_dir)\n",
    "    for file in tgt_files:\n",
    "        total_imgs += save_frames(tgt_dir, file)\n",
    "    print(f'total_imgs: {total_imgs}')"
   ]
  },
  {
   "cell_type": "code",
   "execution_count": null,
   "metadata": {},
   "outputs": [],
   "source": []
  },
  {
   "cell_type": "code",
   "execution_count": 6,
   "metadata": {},
   "outputs": [],
   "source": [
    "# w = int(cap.get(cv2.CAP_PROP_FRAME_WIDTH)) # 動画の画面横幅\n",
    "# h = int(cap.get(cv2.CAP_PROP_FRAME_HEIGHT)) # 動画の画面縦幅\n",
    "# fcnt = int(cap.get(cv2.CAP_PROP_FRAME_COUNT)) # 総フレーム数\n",
    "# fps = cap.get(cv2.CAP_PROP_FPS)\n",
    "# print('width:',  w)\n",
    "# print('height:',  h)\n",
    "# print('frame_count:',  fcnt)\n",
    "# print('frame_rate:',  fps)    "
   ]
  },
  {
   "cell_type": "code",
   "execution_count": 7,
   "metadata": {},
   "outputs": [],
   "source": [
    "# r = 1 / 4\n",
    "\n",
    "# for f in range(fcnt):\n",
    "#     ret, frame = cap.read()\n",
    "#     if(f % int(fps) == 0):\n",
    "#         imgname = filename.split('.')[0] + f'_{f}.jpg'\n",
    "        \n",
    "#         low_frame = cv2.resize(frame , (int(width*r), int(height*r)))\n",
    "\n",
    "#         cv2.imwrite(high_dir+imgname, frame)    \n",
    "#         cv2.imwrite(low_dir+imgname, low_frame)"
   ]
  },
  {
   "cell_type": "code",
   "execution_count": 8,
   "metadata": {},
   "outputs": [],
   "source": [
    "# cv2.imshow('frame', frame)\n",
    "# cv2.waitKey(0)\n",
    "# cv2.destroyAllWindows()\n",
    "\n",
    "# cv2.imshow('frame', low_frame)\n",
    "# cv2.waitKey(0)\n",
    "# cv2.destroyAllWindows()"
   ]
  },
  {
   "cell_type": "code",
   "execution_count": null,
   "metadata": {},
   "outputs": [],
   "source": []
  }
 ],
 "metadata": {
  "kernelspec": {
   "display_name": "Python 3",
   "language": "python",
   "name": "python3"
  },
  "language_info": {
   "codemirror_mode": {
    "name": "ipython",
    "version": 3
   },
   "file_extension": ".py",
   "mimetype": "text/x-python",
   "name": "python",
   "nbconvert_exporter": "python",
   "pygments_lexer": "ipython3",
   "version": "3.6.9"
  }
 },
 "nbformat": 4,
 "nbformat_minor": 4
}
