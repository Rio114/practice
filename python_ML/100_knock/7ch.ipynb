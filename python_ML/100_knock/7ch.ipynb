{
 "cells": [
  {
   "cell_type": "code",
   "execution_count": 1,
   "metadata": {},
   "outputs": [],
   "source": [
    "import os\n",
    "import pandas as pd\n",
    "import numpy as np\n",
    "from itertools import product\n",
    "from pulp import LpVariable, lpSum, value\n",
    "from ortoolpy import model_min, addvars, addvals\n",
    "\n",
    "INPUT_DIR = \"サンプルコード_20201021/6章/\""
   ]
  },
  {
   "cell_type": "code",
   "execution_count": 2,
   "metadata": {},
   "outputs": [
    {
     "data": {
      "text/plain": [
       "['network_weight.csv',\n",
       " 'rel_cost.csv',\n",
       " 'trans_route_new.csv',\n",
       " 'demand.csv',\n",
       " 'tbl_factory.csv',\n",
       " 'tbl_transaction.csv',\n",
       " '6П═_ХиЧмВ╠Н┼УKГЛБ[ГgВЁГRГУГTГЛГeГBГУГOВ╖ВщВPВOЦ{ГmГbГN.ipynb',\n",
       " 'trans_route.csv',\n",
       " 'tbl_warehouse.csv',\n",
       " 'supply.csv',\n",
       " 'network_pos.csv',\n",
       " 'trans_route_pos.csv',\n",
       " 'trans_cost.csv',\n",
       " '6П═_ХиЧмВ╠Н┼УKГЛБ[ГgВЁГRГУГTГЛГeГBГУГOВ╖ВщВPВOЦ{ГmГbГN_answer.ipynb']"
      ]
     },
     "execution_count": 2,
     "metadata": {},
     "output_type": "execute_result"
    }
   ],
   "source": [
    "os.listdir(INPUT_DIR)"
   ]
  },
  {
   "cell_type": "code",
   "execution_count": 3,
   "metadata": {},
   "outputs": [
    {
     "name": "stdout",
     "output_type": "stream",
     "text": [
      "    F1  F2  F3  F4\n",
      "工場                \n",
      "W1  10  10  11  27\n",
      "W2  18  21  12  14\n",
      "W3  15  12  14  12\n",
      "    F1  F2  F3  F4\n",
      "工場                \n",
      "W1  15  15   0   5\n",
      "W2   5   0  30   5\n",
      "W3  10  15   2  15\n",
      "   F1  F2  F3  F4\n",
      "0  28  29  31  25\n",
      "   W1  W2  W3\n",
      "0  35  41  42\n"
     ]
    }
   ],
   "source": [
    "df_tc = pd.read_csv(INPUT_DIR + 'trans_cost.csv', index_col='工場')\n",
    "df_tr = pd.read_csv(INPUT_DIR + 'trans_route.csv', index_col='工場')\n",
    "df_demand = pd.read_csv(INPUT_DIR + 'demand.csv')\n",
    "df_supply = pd.read_csv(INPUT_DIR + 'supply.csv')\n",
    "\n",
    "print(df_tc.head())\n",
    "print(df_tr.head())\n",
    "print(df_demand.head())\n",
    "print(df_supply.head())"
   ]
  },
  {
   "cell_type": "code",
   "execution_count": 4,
   "metadata": {},
   "outputs": [
    {
     "name": "stdout",
     "output_type": "stream",
     "text": [
      "    F1  F2  F3  F4\n",
      "工場                \n",
      "W1  28   7   0   0\n",
      "W2   0   0  31   5\n",
      "W3   0  22   0  20\n",
      "1296\n",
      "    F1  F2  F3  F4\n",
      "工場                \n",
      "W1  15  15   0   5\n",
      "W2   5   0  30   5\n",
      "W3  10  15   2  15\n",
      "1493\n"
     ]
    }
   ],
   "source": [
    "np.random.seed(1)\n",
    "nw = len(df_tc.index)\n",
    "nf = len(df_tc.columns)\n",
    "pr = list(product(range(nw), range(nf)))\n",
    "\n",
    "m1 = model_min()\n",
    "v1 = {(i, j):LpVariable('v%d_%d' % (i, j), lowBound=0) for i, j in pr}\n",
    "\n",
    "m1 += lpSum(df_tc.iloc[i][j]*v1[i, j] for i, j in pr)\n",
    "for i in range(nw):\n",
    "    m1 += lpSum(v1[i,j] for j in range(nf)) <= df_supply.iloc[0][i]\n",
    "    \n",
    "for j in range(nf):\n",
    "    m1 += lpSum(v1[i,j] for i in range(nw)) >= df_demand.iloc[0][j]\n",
    "    \n",
    "m1.solve()\n",
    "\n",
    "df_tr_sol = df_tr.copy()\n",
    "total_cost = 0\n",
    "for k, x in v1.items():\n",
    "    i, j = k[0], k[1]\n",
    "    df_tr_sol.iloc[i][j] = value(x)\n",
    "    total_cost += df_tc.iloc[i][j]*df_tr_sol.iloc[i][j]\n",
    "    \n",
    "print(df_tr_sol)\n",
    "print(total_cost)\n",
    "\n",
    "total_cost = 0\n",
    "for k, x in v1.items():\n",
    "    i, j = k[0], k[1]\n",
    "    total_cost += df_tc.iloc[i][j]*df_tr.iloc[i][j]\n",
    "    \n",
    "print(df_tr)\n",
    "print(total_cost)"
   ]
  },
  {
   "cell_type": "markdown",
   "metadata": {},
   "source": [
    "## knock 62"
   ]
  },
  {
   "cell_type": "code",
   "execution_count": 5,
   "metadata": {},
   "outputs": [],
   "source": [
    "import networkx as nx\n",
    "import matplotlib.pyplot as plt"
   ]
  },
  {
   "cell_type": "code",
   "execution_count": 6,
   "metadata": {},
   "outputs": [
    {
     "name": "stdout",
     "output_type": "stream",
     "text": [
      "   W1  W2  W3   F1   F2   F3   F4\n",
      "0   0   0   0  4.0  4.0  4.0  4.0\n",
      "1   1   2   3  0.5  1.5  2.5  3.5\n",
      "    F1  F2  F3  F4\n",
      "工場                \n",
      "W1  15  15   0   5\n",
      "W2   5   0  30   5\n",
      "W3  10  15   2  15\n",
      "    F1  F2  F3  F4\n",
      "工場                \n",
      "W1  28   7   0   0\n",
      "W2   0   0  31   5\n",
      "W3   0  22   0  20\n"
     ]
    }
   ],
   "source": [
    "positions = pd.read_csv(INPUT_DIR + 'trans_route_pos.csv')\n",
    "routes = pd.read_csv(INPUT_DIR + 'trans_route.csv', index_col='工場')\n",
    "routes_sol = df_tr_sol\n",
    "\n",
    "print(positions.head())\n",
    "print(routes.head())\n",
    "print(routes_sol.head())"
   ]
  },
  {
   "cell_type": "code",
   "execution_count": 7,
   "metadata": {},
   "outputs": [
    {
     "data": {
      "image/png": "[encoded data removed]",
      "text/plain": [
       "<Figure size 432x288 with 1 Axes>"
      ]
     },
     "metadata": {},
     "output_type": "display_data"
    }
   ],
   "source": [
    "G = nx.Graph()\n",
    "\n",
    "for node in positions.columns:\n",
    "    G.add_node(node)\n",
    "    \n",
    "num_pre = 0\n",
    "edge_weights = []\n",
    "size = 0.1\n",
    "for n0 in positions.columns:\n",
    "    for n1 in positions.columns:\n",
    "        if n0 != n1:\n",
    "            G.add_edge(n0, n1)\n",
    "            if num_pre < len(G.edges):\n",
    "                num_pre = len(G.edges)\n",
    "                weight = 0\n",
    "                if (n0 in routes.columns) and (n1 in routes.index):\n",
    "                    if routes[n0][n1]:\n",
    "                        weight = routes[n0][n1] * size\n",
    "                elif (n0 in routes.index) and (n1 in routes.columns):\n",
    "                    if routes[n1][n0]:\n",
    "                        weight = routes[n1][n0] * size\n",
    "                edge_weights.append(weight)\n",
    "\n",
    "pos = {}\n",
    "for node in positions.columns:\n",
    "    pos[node] = (positions[node][0], positions[node][1])\n",
    "    \n",
    "nx.draw(G, pos, with_labels=True, font_size=16, node_size=1000, node_color='k', font_color='w', width=edge_weights)\n",
    "\n",
    "plt.show()"
   ]
  },
  {
   "cell_type": "code",
   "execution_count": 8,
   "metadata": {},
   "outputs": [
    {
     "data": {
      "image/png": "[encoded data removed]",
      "text/plain": [
       "<Figure size 432x288 with 1 Axes>"
      ]
     },
     "metadata": {},
     "output_type": "display_data"
    }
   ],
   "source": [
    "G = nx.Graph()\n",
    "\n",
    "for node in positions.columns:\n",
    "    G.add_node(node)\n",
    "    \n",
    "num_pre = 0\n",
    "edge_weights = []\n",
    "size = 0.1\n",
    "for n0 in positions.columns:\n",
    "    for n1 in positions.columns:\n",
    "        if n0 != n1:\n",
    "            G.add_edge(n0, n1)\n",
    "            if num_pre < len(G.edges):\n",
    "                num_pre = len(G.edges)\n",
    "                weight = 0\n",
    "                if (n0 in routes_sol.columns) and (n1 in routes_sol.index):\n",
    "                    if routes_sol[n0][n1]:\n",
    "                        weight = routes_sol[n0][n1] * size\n",
    "                elif (n0 in routes_sol.index) and (n1 in routes_sol.columns):\n",
    "                    if routes_sol[n1][n0]:\n",
    "                        weight = routes_sol[n1][n0] * size\n",
    "                edge_weights.append(weight)\n",
    "\n",
    "pos = {}\n",
    "for node in positions.columns:\n",
    "    pos[node] = (positions[node][0], positions[node][1])\n",
    "    \n",
    "nx.draw(G, pos, with_labels=True, font_size=16, node_size=1000, node_color='k', font_color='w', width=edge_weights)\n",
    "\n",
    "plt.show()"
   ]
  },
  {
   "cell_type": "markdown",
   "metadata": {},
   "source": [
    "## knock 63"
   ]
  },
  {
   "cell_type": "code",
   "execution_count": 9,
   "metadata": {},
   "outputs": [],
   "source": [
    "def condition_demand(df_tr, df_demand):\n",
    "    flg = np.zeros(len(df_demand.columns))\n",
    "    for i, col in enumerate(df_demand.columns):\n",
    "        temp_sum = sum(df_tr[col])\n",
    "        if (temp_sum >= df_demand.iloc[0][col]):\n",
    "            flg[i] = 1\n",
    "            \n",
    "    return flg\n",
    "\n",
    "def condition_supply(df_tr, df_supply):\n",
    "    flg = np.zeros(len(df_supply.columns))\n",
    "    for i, col in enumerate(df_supply.columns):\n",
    "        temp_sum = sum(df_tr.loc[col])\n",
    "        if (temp_sum <= df_supply.iloc[0][col]):\n",
    "            flg[i] = 1\n",
    "            \n",
    "    return flg"
   ]
  },
  {
   "cell_type": "code",
   "execution_count": 10,
   "metadata": {},
   "outputs": [
    {
     "name": "stdout",
     "output_type": "stream",
     "text": [
      "[1. 1. 1. 1.]\n",
      "[1. 1. 1.]\n"
     ]
    }
   ],
   "source": [
    "print(condition_demand(routes, df_demand))\n",
    "print(condition_supply(routes, df_supply))"
   ]
  },
  {
   "cell_type": "code",
   "execution_count": 11,
   "metadata": {},
   "outputs": [
    {
     "name": "stdout",
     "output_type": "stream",
     "text": [
      "[1. 1. 1. 1.]\n",
      "[1. 1. 1.]\n"
     ]
    }
   ],
   "source": [
    "print(condition_demand(routes_sol, df_demand))\n",
    "print(condition_supply(routes_sol, df_supply))"
   ]
  },
  {
   "cell_type": "markdown",
   "metadata": {},
   "source": [
    "## knock 64"
   ]
  },
  {
   "cell_type": "code",
   "execution_count": 12,
   "metadata": {},
   "outputs": [
    {
     "name": "stdout",
     "output_type": "stream",
     "text": [
      "     原料1  原料2  原料3\n",
      "製品                \n",
      "製品1    1    4    3\n",
      "製品2    2    4    1\n",
      "      利益\n",
      "製品      \n",
      "製品1  5.0\n",
      "製品2  4.0\n",
      "    原料1  原料2  原料3\n",
      "項目               \n",
      "在庫   40   80   50\n",
      "      生産量\n",
      "製品       \n",
      "製品1    16\n",
      "製品2     0\n"
     ]
    }
   ],
   "source": [
    "INPUT_DIR = \"サンプルコード_20201021/7章/\"\n",
    "\n",
    "df_material = pd.read_csv(INPUT_DIR + 'product_plan_material.csv', index_col='製品')\n",
    "df_profit = pd.read_csv(INPUT_DIR + 'product_plan_profit.csv', index_col='製品')\n",
    "df_stock = pd.read_csv(INPUT_DIR + 'product_plan_stock.csv', index_col='項目')\n",
    "df_plan = pd.read_csv(INPUT_DIR + 'product_plan.csv', index_col='製品')\n",
    "\n",
    "print(df_material.head())\n",
    "print(df_profit.head())\n",
    "print(df_stock.head())\n",
    "print(df_plan.head())"
   ]
  },
  {
   "cell_type": "markdown",
   "metadata": {},
   "source": [
    "## knock 65"
   ]
  },
  {
   "cell_type": "code",
   "execution_count": 13,
   "metadata": {},
   "outputs": [],
   "source": [
    "def product_profit(df_profit, df_plan):\n",
    "    profit = 0\n",
    "    for i in df_profit.index:\n",
    "        for j, col in enumerate(df_plan.columns):\n",
    "            profit += df_profit.loc[i][j] * df_plan.loc[i][j]\n",
    "    return profit"
   ]
  },
  {
   "cell_type": "code",
   "execution_count": 14,
   "metadata": {},
   "outputs": [
    {
     "data": {
      "text/plain": [
       "80.0"
      ]
     },
     "execution_count": 14,
     "metadata": {},
     "output_type": "execute_result"
    }
   ],
   "source": [
    "product_profit(df_profit, df_plan)"
   ]
  },
  {
   "cell_type": "markdown",
   "metadata": {},
   "source": [
    "## knock 66"
   ]
  },
  {
   "cell_type": "code",
   "execution_count": 15,
   "metadata": {},
   "outputs": [],
   "source": [
    "from ortoolpy import model_max"
   ]
  },
  {
   "cell_type": "code",
   "execution_count": 16,
   "metadata": {},
   "outputs": [
    {
     "name": "stdout",
     "output_type": "stream",
     "text": [
      "      生産量\n",
      "製品       \n",
      "製品1    15\n",
      "製品2     5\n",
      "95.0\n"
     ]
    }
   ],
   "source": [
    "df = df_material.copy()\n",
    "inv = df_stock\n",
    "\n",
    "m = model_max()\n",
    "v1 = {(i):LpVariable('v%d' % (i), lowBound=0) for i in range(len(df_profit))}\n",
    "m += lpSum(df_profit.iloc[i] * v1[i] for i in range(len(df_profit)))\n",
    "for i, col in enumerate(df_material.columns):\n",
    "    m += lpSum(df_material.iloc[j][i] * v1[j] for j in range(len(df_profit))) <= df_stock.iloc[:, i]\n",
    "\n",
    "m.solve()\n",
    "\n",
    "df_plan_sol = df_plan.copy()\n",
    "for k, x in v1.items():\n",
    "    df_plan_sol.iloc[k] = value(x)\n",
    "    \n",
    "print(df_plan_sol)\n",
    "print(value(m.objective))"
   ]
  },
  {
   "cell_type": "markdown",
   "metadata": {},
   "source": [
    "## knock 67"
   ]
  },
  {
   "cell_type": "code",
   "execution_count": 17,
   "metadata": {},
   "outputs": [],
   "source": [
    "def condition_stock(df_plan, df_material, df_stock):\n",
    "    flg = np.zeros(len(df_material.columns))\n",
    "    for i in range(len(df_material.columns)):\n",
    "        temp_sum = 0\n",
    "        for j in range(len(df_material.index)):\n",
    "            temp_sum += df_material.iloc[j][i] * float(df_plan.iloc[j])\n",
    "            \n",
    "        if temp_sum <= float(df_stock.iloc[0][i]):\n",
    "            flg[i] = 1\n",
    "            \n",
    "        print(f\"material:{df_material.columns[i]}, usage:{temp_sum}, stock:{df_stock.iloc[0][i]}\")\n",
    "    return flg"
   ]
  },
  {
   "cell_type": "code",
   "execution_count": 18,
   "metadata": {},
   "outputs": [
    {
     "name": "stdout",
     "output_type": "stream",
     "text": [
      "material:原料1, usage:25.0, stock:40\n",
      "material:原料2, usage:80.0, stock:80\n",
      "material:原料3, usage:50.0, stock:50\n"
     ]
    },
    {
     "data": {
      "text/plain": [
       "array([1., 1., 1.])"
      ]
     },
     "execution_count": 18,
     "metadata": {},
     "output_type": "execute_result"
    }
   ],
   "source": [
    "condition_stock(df_plan_sol, df_material, df_stock)"
   ]
  },
  {
   "cell_type": "markdown",
   "metadata": {},
   "source": [
    "## knock 68"
   ]
  },
  {
   "cell_type": "code",
   "execution_count": 19,
   "metadata": {},
   "outputs": [
    {
     "name": "stdout",
     "output_type": "stream",
     "text": [
      "  factory  lane product  lower_limit  upper_limit  production_cost     VarY  \\\n",
      "0       X     0       A            0          inf              1.0  v000009   \n",
      "3       X     1       B            0          inf              1.0  v000010   \n",
      "4       Y     0       A            0         10.0              3.0  v000011   \n",
      "6       Y     1       A            0          inf              5.0  v000012   \n",
      "7       Y     1       B            0          inf              3.0  v000013   \n",
      "\n",
      "   ValY  \n",
      "0  20.0  \n",
      "3  10.0  \n",
      "4  10.0  \n",
      "6   0.0  \n",
      "7  20.0  \n",
      "  demand_location factory  transportation_cost product     VarX  ValX\n",
      "0               P       X                    1       A  v000001  10.0\n",
      "1               P       X                    1       B  v000002  10.0\n",
      "2               Q       X                    3       A  v000003  10.0\n",
      "3               Q       X                    3       B  v000004   0.0\n",
      "4               P       Y                    2       A  v000005   0.0\n",
      "5               P       Y                    2       B  v000006   0.0\n",
      "6               Q       Y                    1       A  v000007  10.0\n",
      "7               Q       Y                    1       B  v000008  20.0\n"
     ]
    }
   ],
   "source": [
    "products = list('AB')\n",
    "demand_locs = list('PQ')\n",
    "factories = list('XY')\n",
    "lanes = (2, 2)\n",
    "\n",
    "# transportation cost\n",
    "tbdi = pd.DataFrame(((j, k) for j in demand_locs for k in factories), columns=['demand_location', 'factory'])\n",
    "tbdi['transportation_cost'] = [1, 2, 3, 1]\n",
    "\n",
    "# demands\n",
    "tbde = pd.DataFrame(((j, i) for j in demand_locs for i in products), columns=['demand_location', 'product'])\n",
    "tbde['demand'] = [10, 10, 20, 20]\n",
    "\n",
    "# production\n",
    "tbfa = pd.DataFrame(((k, l, i, 0, np.inf) for k, nl in zip(factories, lanes) for l in range(nl) for i in products),\n",
    "                   columns=['factory', 'lane', 'product', 'lower_limit', 'upper_limit'])\n",
    "tbfa['production_cost'] = [1, np.nan, np.nan, 1, 3, np.nan, 5, 3]\n",
    "tbfa.dropna(inplace=True)\n",
    "tbfa.loc[4, 'upper_limit'] = 10\n",
    "\n",
    "from ortoolpy import logistics_network\n",
    "_, tbdi2, _ = logistics_network(tbde, tbdi, tbfa,\n",
    "                    dep = \"demand_location\",# 需要地\n",
    "                    dem = \"demand\" , # 需要\n",
    "                    fac = \"factory\", # 工場\n",
    "                    prd = \"product\", # 製品\n",
    "                    tcs = \"transportation_cost\", # 輸送費\n",
    "                    pcs = \"production_cost\", # 生産費\n",
    "                    lwb = \"lower_limit\", # 下限\n",
    "                    upb = \"upper_limit\" # 上限\n",
    "                              )\n",
    "print(tbfa)\n",
    "print(tbdi2)"
   ]
  },
  {
   "cell_type": "code",
   "execution_count": 20,
   "metadata": {},
   "outputs": [
    {
     "name": "stdout",
     "output_type": "stream",
     "text": [
      "  factory  lane product  lower_limit  upper_limit  production_cost     VarY  \\\n",
      "0       X     0       A            0          inf              1.0  v000009   \n",
      "3       X     1       B            0          inf              1.0  v000010   \n",
      "4       Y     0       A            0         10.0              3.0  v000011   \n",
      "6       Y     1       A            0          inf              5.0  v000012   \n",
      "7       Y     1       B            0          inf              3.0  v000013   \n",
      "\n",
      "   ValY  \n",
      "0  20.0  \n",
      "3  10.0  \n",
      "4  10.0  \n",
      "6   0.0  \n",
      "7  20.0  \n",
      "  demand_location factory  transportation_cost\n",
      "0               P       X                    1\n",
      "1               P       Y                    2\n",
      "2               Q       X                    3\n",
      "3               Q       Y                    1\n",
      "  demand_location factory  transportation_cost product     VarX  ValX\n",
      "0               P       X                    1       A  v000001  10.0\n",
      "1               P       X                    1       B  v000002  10.0\n",
      "2               Q       X                    3       A  v000003  10.0\n",
      "3               Q       X                    3       B  v000004   0.0\n",
      "4               P       Y                    2       A  v000005   0.0\n",
      "5               P       Y                    2       B  v000006   0.0\n",
      "6               Q       Y                    1       A  v000007  10.0\n",
      "7               Q       Y                    1       B  v000008  20.0\n"
     ]
    }
   ],
   "source": [
    "print(tbfa)\n",
    "print(tbdi)\n",
    "print(tbdi2)"
   ]
  },
  {
   "cell_type": "code",
   "execution_count": 21,
   "metadata": {},
   "outputs": [
    {
     "name": "stdout",
     "output_type": "stream",
     "text": [
      "  demand_location factory  transportation_cost product     VarX  ValX\n",
      "0               P       X                    1       A  v000001  10.0\n",
      "1               P       X                    1       B  v000002  10.0\n",
      "2               Q       X                    3       A  v000003  10.0\n",
      "3               Q       X                    3       B  v000004   0.0\n",
      "4               P       Y                    2       A  v000005   0.0\n",
      "5               P       Y                    2       B  v000006   0.0\n",
      "6               Q       Y                    1       A  v000007  10.0\n",
      "7               Q       Y                    1       B  v000008  20.0\n",
      "80.0\n"
     ]
    }
   ],
   "source": [
    "print(tbdi2)\n",
    "trans_cost = 0\n",
    "for i in tbdi2.index:\n",
    "    trans_cost += tbdi2['transportation_cost'].loc[i] * tbdi2[\"ValX\"].loc[i]\n",
    "print(trans_cost)"
   ]
  },
  {
   "cell_type": "code",
   "execution_count": 22,
   "metadata": {},
   "outputs": [
    {
     "name": "stdout",
     "output_type": "stream",
     "text": [
      "  factory  lane product  lower_limit  upper_limit  production_cost     VarY  \\\n",
      "0       X     0       A            0          inf              1.0  v000009   \n",
      "3       X     1       B            0          inf              1.0  v000010   \n",
      "4       Y     0       A            0         10.0              3.0  v000011   \n",
      "6       Y     1       A            0          inf              5.0  v000012   \n",
      "7       Y     1       B            0          inf              3.0  v000013   \n",
      "\n",
      "   ValY  \n",
      "0  20.0  \n",
      "3  10.0  \n",
      "4  10.0  \n",
      "6   0.0  \n",
      "7  20.0  \n",
      "120.0\n"
     ]
    }
   ],
   "source": [
    "print(tbfa)\n",
    "prod_cost = 0\n",
    "for i in tbfa.index:\n",
    "    prod_cost += tbfa['production_cost'].loc[i] * tbfa[\"ValY\"].loc[i]\n",
    "print(prod_cost)"
   ]
  },
  {
   "cell_type": "code",
   "execution_count": null,
   "metadata": {},
   "outputs": [],
   "source": []
  }
 ],
 "metadata": {
  "kernelspec": {
   "display_name": "Python 3",
   "language": "python",
   "name": "python3"
  },
  "language_info": {
   "codemirror_mode": {
    "name": "ipython",
    "version": 3
   },
   "file_extension": ".py",
   "mimetype": "text/x-python",
   "name": "python",
   "nbconvert_exporter": "python",
   "pygments_lexer": "ipython3",
   "version": "3.8.0"
  }
 },
 "nbformat": 4,
 "nbformat_minor": 4
}
