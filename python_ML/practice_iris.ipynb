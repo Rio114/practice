{
 "cells": [
  {
   "cell_type": "code",
   "execution_count": 1,
   "metadata": {},
   "outputs": [
    {
     "name": "stderr",
     "output_type": "stream",
     "text": [
      "C:\\Users\\Ryoji Nomura\\Anaconda3\\lib\\site-packages\\h5py\\__init__.py:36: FutureWarning: Conversion of the second argument of issubdtype from `float` to `np.floating` is deprecated. In future, it will be treated as `np.float64 == np.dtype(float).type`.\n",
      "  from ._conv import register_converters as _register_converters\n"
     ]
    }
   ],
   "source": [
    "import tensorflow as tf \n",
    "from sklearn.model_selection import train_test_split\n",
    "import pandas as pd \n",
    "import numpy as np"
   ]
  },
  {
   "cell_type": "code",
   "execution_count": 2,
   "metadata": {},
   "outputs": [],
   "source": [
    "iris_data = pd.read_csv('iris.csv', encoding='utf-8')\n",
    "\n",
    "y_labels = iris_data.loc[:, 'Name']\n",
    "x_data = iris_data.loc[:, ['SepalLength','SepalWidth','PetalLength','PetalWidth']]\n",
    "\n",
    "labels = {\n",
    "    'Iris-setosa': [1.0,0.0,0.0],\n",
    "    'Iris-versicolor': [0.0,1.0,0.0],\n",
    "    'Iris-virginica': [0.0,0.0,1.0]\n",
    "    }\n",
    "\n",
    "y_nums = np.array(list(map(lambda v : labels[v], y_labels)))\n",
    "x_data = np.array(x_data)\n",
    "\n",
    "x_train, x_test, y_train, y_test = train_test_split(x_data, y_nums, test_size=0.2)\n"
   ]
  },
  {
   "cell_type": "code",
   "execution_count": 3,
   "metadata": {},
   "outputs": [],
   "source": [
    "x  = tf.placeholder(tf.float32, [None, 4], name='x')\n",
    "y_ = tf.placeholder(tf.float32, [None, 3], name='y_')\n",
    "\n",
    "w = tf.Variable(tf.zeros([4,3]), name='w')\n",
    "b = tf.Variable(tf.zeros([3]), name='b')\n",
    "\n",
    "y = tf.nn.softmax(tf.matmul(x, w) + b, name='softmax')\n",
    "\n",
    "cross_entropy = -tf.reduce_sum(y_ * tf.log(y))\n",
    "optimizer = tf.train.AdamOptimizer(0.05)\n",
    "train = optimizer.minimize(cross_entropy)\n",
    "\n",
    "predict = tf.equal(tf.argmax(y, 1), tf.argmax(y_, 1))\n",
    "accuracy = tf.reduce_mean(tf.cast(predict, tf.float32))\n"
   ]
  },
  {
   "cell_type": "code",
   "execution_count": 4,
   "metadata": {},
   "outputs": [],
   "source": [
    "init = tf.global_variables_initializer()\n",
    "sess = tf.Session()\n",
    "sess.run(init)"
   ]
  },
  {
   "cell_type": "code",
   "execution_count": 5,
   "metadata": {},
   "outputs": [
    {
     "name": "stdout",
     "output_type": "stream",
     "text": [
      "acc 0.93333334\n"
     ]
    }
   ],
   "source": [
    "for step in range(300):\n",
    "    sess.run(train, feed_dict={x: x_train, y_:y_train})\n",
    "\n",
    "acc = sess.run(accuracy, feed_dict={x:x_test, y_:y_test})\n",
    "print('acc', acc)\n"
   ]
  },
  {
   "cell_type": "code",
   "execution_count": 6,
   "metadata": {},
   "outputs": [
    {
     "data": {
      "text/plain": [
       "<tensorflow.python.summary.writer.writer.FileWriter at 0x27502acf630>"
      ]
     },
     "execution_count": 6,
     "metadata": {},
     "output_type": "execute_result"
    }
   ],
   "source": [
    "tf.summary.FileWriter('./logs', sess.graph)"
   ]
  },
  {
   "cell_type": "code",
   "execution_count": null,
   "metadata": {},
   "outputs": [],
   "source": []
  },
  {
   "cell_type": "code",
   "execution_count": null,
   "metadata": {},
   "outputs": [],
   "source": []
  }
 ],
 "metadata": {
  "kernelspec": {
   "display_name": "Python 3",
   "language": "python",
   "name": "python3"
  },
  "language_info": {
   "codemirror_mode": {
    "name": "ipython",
    "version": 3
   },
   "file_extension": ".py",
   "mimetype": "text/x-python",
   "name": "python",
   "nbconvert_exporter": "python",
   "pygments_lexer": "ipython3",
   "version": "3.6.7"
  }
 },
 "nbformat": 4,
 "nbformat_minor": 2
}
