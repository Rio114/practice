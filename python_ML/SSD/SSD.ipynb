{
 "cells": [
  {
   "cell_type": "code",
   "execution_count": null,
   "metadata": {},
   "outputs": [],
   "source": [
    "import matplotlib.pyplot as plt\n",
    "import numpy as np\n",
    "from keras.preprocessing import image\n",
    "import pickle\n",
    "import os\n",
    "import pandas as pd\n",
    "import PIL\n",
    "import random\n",
    "import keras\n",
    "from sklearn.preprocessing import OneHotEncoder\n",
    "import importlib"
   ]
  },
  {
   "cell_type": "code",
   "execution_count": null,
   "metadata": {},
   "outputs": [],
   "source": [
    "from ssd_cnn import SSD_CNN\n",
    "from ssd_utils import BBoxUtility\n",
    "from gen import Generator\n",
    "from ssd_training import MultiboxLoss\n",
    "from ssd_layer import DefaultBox"
   ]
  },
  {
   "cell_type": "markdown",
   "metadata": {},
   "source": [
    "## difinition of folders"
   ]
  },
  {
   "cell_type": "code",
   "execution_count": null,
   "metadata": {},
   "outputs": [],
   "source": [
    "FOLDER = '../'\n",
    "CSV_FOLDER = FOLDER + 'csv/'\n",
    "EXT_FOLDER = FOLDER + 'extracted/'\n",
    "EXT_TRUE = EXT_FOLDER + 'face_true/'\n",
    "EXT_FALSE = EXT_FOLDER + 'face_false/'\n",
    "SCR_FOLDER = FOLDER + 'scraped/images_best_titles/'\n",
    "\n",
    "FALSE_FILES = os.listdir(EXT_FALSE)\n",
    "TRUE_FILES = os.listdir(EXT_TRUE)"
   ]
  },
  {
   "cell_type": "markdown",
   "metadata": {},
   "source": [
    "## preparation for SSD training"
   ]
  },
  {
   "cell_type": "code",
   "execution_count": null,
   "metadata": {},
   "outputs": [],
   "source": [
    "df_raw = pd.read_csv(CSV_FOLDER+'ext_face_flg_size.csv')"
   ]
  },
  {
   "cell_type": "code",
   "execution_count": null,
   "metadata": {},
   "outputs": [],
   "source": [
    "df_raw.head()"
   ]
  },
  {
   "cell_type": "code",
   "execution_count": null,
   "metadata": {},
   "outputs": [],
   "source": [
    "df_raw.shape"
   ]
  },
  {
   "cell_type": "code",
   "execution_count": null,
   "metadata": {},
   "outputs": [],
   "source": [
    "df_pos = df_raw[df_raw['flg']==1]\n",
    "df_neg = df_raw[df_raw['flg']==0]"
   ]
  },
  {
   "cell_type": "code",
   "execution_count": null,
   "metadata": {},
   "outputs": [],
   "source": [
    "def calc_loc(df):\n",
    "    xsize_arr = df['xsize'].values\n",
    "    ysize_arr = df['ysize'].values\n",
    "    x0_arr = df['x0'].values / xsize_arr\n",
    "    x1_arr = df['x1'].values / xsize_arr \n",
    "    y0_arr = df['y0'].values / ysize_arr\n",
    "    y1_arr = df['y1'].values / ysize_arr\n",
    "    locs = np.vstack([y0_arr, x0_arr, y1_arr, x1_arr]).T\n",
    "    return locs"
   ]
  },
  {
   "cell_type": "code",
   "execution_count": null,
   "metadata": {},
   "outputs": [],
   "source": [
    "loc_pos = calc_loc(df_pos)\n",
    "loc_neg = calc_loc(df_neg)"
   ]
  },
  {
   "cell_type": "code",
   "execution_count": null,
   "metadata": {},
   "outputs": [],
   "source": [
    "locs = loc_pos #np.vstack([loc_pos, loc_neg])"
   ]
  },
  {
   "cell_type": "code",
   "execution_count": null,
   "metadata": {},
   "outputs": [],
   "source": [
    "locs.shape"
   ]
  },
  {
   "cell_type": "code",
   "execution_count": null,
   "metadata": {},
   "outputs": [],
   "source": [
    "ohe = OneHotEncoder()\n",
    "names = df_pos['name'].values.reshape(-1, 1)\n",
    "label_pos = ohe.fit_transform(names).toarray()\n",
    "label_neg = np.zeros([loc_neg.shape[0], label_pos.shape[1]])\n",
    "print(label_pos.shape)\n",
    "print(label_neg.shape)"
   ]
  },
  {
   "cell_type": "code",
   "execution_count": null,
   "metadata": {},
   "outputs": [],
   "source": [
    "labels = label_pos #np.vstack([label_pos, label_neg])\n",
    "labels.shape"
   ]
  },
  {
   "cell_type": "code",
   "execution_count": null,
   "metadata": {},
   "outputs": [],
   "source": [
    "# neg_mask = df['flg'] == 0\n",
    "# labels[neg_mask] = np.zeros(labels.shape[1])"
   ]
  },
  {
   "cell_type": "code",
   "execution_count": null,
   "metadata": {},
   "outputs": [],
   "source": [
    "loc_label_arr = np.hstack([locs, labels])\n",
    "loc_label_arr.shape"
   ]
  },
  {
   "cell_type": "code",
   "execution_count": null,
   "metadata": {},
   "outputs": [],
   "source": [
    "def gen_file_list(df):\n",
    "    fname_list = []\n",
    "    files = df['file_path']\n",
    "    for i, f in enumerate(files):\n",
    "        fname = df['name'].values[i] + '/' + f.split('/')[-1]\n",
    "        fname_list.append(fname)\n",
    "    return fname_list"
   ]
  },
  {
   "cell_type": "code",
   "execution_count": null,
   "metadata": {},
   "outputs": [],
   "source": [
    "fname_list = []\n",
    "fname_list_pos = gen_file_list(df_pos)\n",
    "fname_list_neg = gen_file_list(df_neg)\n",
    "fname_list.extend(fname_list_pos)\n",
    "#fname_list.extend(fname_list_neg)\n",
    "len(fname_list)"
   ]
  },
  {
   "cell_type": "code",
   "execution_count": null,
   "metadata": {
    "scrolled": true
   },
   "outputs": [],
   "source": [
    "# shape_list = []\n",
    "# for f in fname_list:\n",
    "#     img_path = SCR_FOLDER + f\n",
    "#     img = image.load_img(img_path, target_size=(300, 300))\n",
    "#     img = image.img_to_array(img)\n",
    "#     if img.shape != (300, 300, 3):\n",
    "#         shape_list.append(img.shape)"
   ]
  },
  {
   "cell_type": "code",
   "execution_count": null,
   "metadata": {},
   "outputs": [],
   "source": [
    "# shape_list"
   ]
  },
  {
   "cell_type": "code",
   "execution_count": null,
   "metadata": {},
   "outputs": [],
   "source": [
    "gt = {}\n",
    "se = pd.Series(fname_list)\n",
    "idx = se.value_counts().index\n",
    "for i in idx:\n",
    "    mask = se == i\n",
    "    gt[i] = loc_label_arr[mask]"
   ]
  },
  {
   "cell_type": "code",
   "execution_count": null,
   "metadata": {},
   "outputs": [],
   "source": [
    "keys = gt.keys()\n",
    "num = len(keys)\n",
    "num_train = int(round(num * 0.8))\n",
    "pickup = random.sample(range(num), num)\n",
    "pickup_train = pickup[:num_train]\n",
    "pickup_val = pickup[num_train:]\n",
    "keys_train = list(np.array(list(keys))[pickup_train])\n",
    "keys_val = list(np.array(list(keys))[pickup_val])"
   ]
  },
  {
   "cell_type": "markdown",
   "metadata": {},
   "source": [
    "## pretraining model"
   ]
  },
  {
   "cell_type": "code",
   "execution_count": null,
   "metadata": {},
   "outputs": [],
   "source": [
    "NUM_CLASSES = labels.shape[1]\n",
    "input_shape = (300, 300, 3) # (y, x, c)"
   ]
  },
  {
   "cell_type": "code",
   "execution_count": null,
   "metadata": {},
   "outputs": [],
   "source": [
    "model_obj = SSD_CNN(NUM_CLASSES, img_size=input_shape)\n",
    "base_model = model_obj.CNN()"
   ]
  },
  {
   "cell_type": "code",
   "execution_count": null,
   "metadata": {
    "scrolled": false
   },
   "outputs": [],
   "source": [
    "# base_model.load_weights('vgg16.hdf5')"
   ]
  },
  {
   "cell_type": "code",
   "execution_count": null,
   "metadata": {
    "scrolled": false
   },
   "outputs": [],
   "source": [
    "model = model_obj.SSD()\n",
    "det_list = model_obj.get_detector()"
   ]
  },
  {
   "cell_type": "code",
   "execution_count": null,
   "metadata": {
    "scrolled": true
   },
   "outputs": [],
   "source": [
    "model.summary()"
   ]
  },
  {
   "cell_type": "code",
   "execution_count": null,
   "metadata": {},
   "outputs": [],
   "source": [
    "# for L in model.layers[:19]:\n",
    "#     L.trainable = False"
   ]
  },
  {
   "cell_type": "code",
   "execution_count": null,
   "metadata": {
    "scrolled": true
   },
   "outputs": [],
   "source": [
    "# model.summary()"
   ]
  },
  {
   "cell_type": "code",
   "execution_count": null,
   "metadata": {},
   "outputs": [],
   "source": [
    "img_size = input_shape[:2]\n",
    "priors = np.zeros(8).reshape(1,-1)\n",
    "aspects = [1.0, 1.0, 2, 1/2, 3, 1/3]\n",
    "for i in range(len(det_list)):\n",
    "    det_grid = np.array([det_list[i].shape[1].value, det_list[i].shape[2].value])\n",
    "    steps = (img_size / det_grid).astype(np.int)\n",
    "    \n",
    "    y_cent_arr = (np.linspace(steps[0]/2, img_size[0]-steps[0]/2, det_grid[0])) / img_size[0]\n",
    "    x_cent_arr = (np.linspace(steps[1]/2, img_size[1]-steps[1]/2, det_grid[1])) / img_size[1]\n",
    "    y_cent, x_cent = np.meshgrid(y_cent_arr, x_cent_arr)\n",
    "    y_cent = y_cent.reshape(-1,1)\n",
    "    x_cent = x_cent.reshape(-1,1)\n",
    "\n",
    "    y_var = np.ones_like(y_cent).reshape(-1,1) * 0.1\n",
    "    x_var = np.ones_like(x_cent).reshape(-1,1) * 0.1\n",
    "    h_var = np.ones_like(y_cent).reshape(-1,1) * 0.2\n",
    "    w_var = np.ones_like(x_cent).reshape(-1,1) * 0.2\n",
    "    \n",
    "    for asp in aspects:\n",
    "        h_arr = np.ones(det_grid[0]**2).reshape(-1,1) * steps[0] * asp / img_size[0]\n",
    "        w_arr = np.ones(det_grid[1]**2).reshape(-1,1) * steps[1] / asp / img_size[1]\n",
    "        priors_pos = np.hstack([y_cent, x_cent, h_arr, w_arr])\n",
    "        priors_var = np.hstack([y_var, x_var, h_var, w_var])\n",
    "        priors_dum = np.hstack([priors_pos, priors_var])\n",
    "        priors = np.vstack([priors, priors_dum])\n",
    "\n",
    "priors = priors[1:]\n",
    "priors.shape"
   ]
  },
  {
   "cell_type": "code",
   "execution_count": null,
   "metadata": {},
   "outputs": [],
   "source": [
    "bbox_util = BBoxUtility(NUM_CLASSES, priors)"
   ]
  },
  {
   "cell_type": "code",
   "execution_count": null,
   "metadata": {},
   "outputs": [],
   "source": [
    "gen = Generator(gt, bbox_util, 8, SCR_FOLDER,\n",
    "                keys_train, keys_val,\n",
    "                input_shape, do_crop=False)"
   ]
  },
  {
   "cell_type": "code",
   "execution_count": null,
   "metadata": {
    "scrolled": true
   },
   "outputs": [],
   "source": [
    "base_lr = 3e-4\n",
    "adm = keras.optimizers.Adam(lr=base_lr)\n",
    "model.compile(optimizer=adm,\n",
    "              loss=MultiboxLoss(NUM_CLASSES).compute_loss)"
   ]
  },
  {
   "cell_type": "code",
   "execution_count": null,
   "metadata": {
    "scrolled": true
   },
   "outputs": [],
   "source": [
    "epochs = 15\n",
    "history = model.fit_generator(gen.generate(True), gen.train_batches,verbose=1,\n",
    "                              validation_data=gen.generate(False),\n",
    "                              epochs=epochs,\n",
    "                              validation_steps=gen.val_batches)"
   ]
  },
  {
   "cell_type": "code",
   "execution_count": null,
   "metadata": {},
   "outputs": [],
   "source": [
    "i = 50\n",
    "img_path = SCR_FOLDER + fname_list[i]\n",
    "img = image.load_img(img_path, target_size=(300, 300))\n",
    "img = image.img_to_array(img)\n",
    "x = img.reshape(-1, 300, 300, 3) / 255\n",
    "y_pred = model.predict(x) \n",
    "# (sample, defaultbox, (4(cy, cx, h, w), 2(num_class), 8(ymin, xmin, ymax, xmax, varyc, varxc, varh, varw)))\n",
    "y_pred.shape"
   ]
  },
  {
   "cell_type": "code",
   "execution_count": null,
   "metadata": {},
   "outputs": [],
   "source": []
  },
  {
   "cell_type": "code",
   "execution_count": null,
   "metadata": {
    "scrolled": true
   },
   "outputs": [],
   "source": [
    "results = bbox_util.detection_out(y_pred, confidence_threshold=0.001)\n",
    "results"
   ]
  },
  {
   "cell_type": "code",
   "execution_count": null,
   "metadata": {},
   "outputs": [],
   "source": [
    "gt_ = gt[fname_list[i]]\n",
    "det_ymin = gt_[:, 0]\n",
    "det_xmin = gt_[:, 1]\n",
    "det_ymax = gt_[:, 2]\n",
    "det_xmax = gt_[:, 3]\n",
    "\n",
    "plt.imshow(img / 255.)\n",
    "currentAxis = plt.gca()\n",
    "\n",
    "ymin = int(round(det_ymin[0] * img.shape[0]))\n",
    "xmin = int(round(det_xmin[0] * img.shape[1]))\n",
    "ymax = int(round(det_ymax[0] * img.shape[0]))\n",
    "xmax = int(round(det_xmax[0] * img.shape[1]))\n",
    "\n",
    "coords = (xmin, ymin), xmax-xmin+1, ymax-ymin+1\n",
    "\n",
    "currentAxis.add_patch(plt.Rectangle(*coords, fill=False,  linewidth=2))\n",
    "\n",
    "det_label = results[0][:, 0]\n",
    "det_conf = results[0][:, 1]\n",
    "det_ymin = results[0][:, 2]\n",
    "det_xmin = results[0][:, 3]\n",
    "det_ymax = results[0][:, 4]\n",
    "det_xmax = results[0][:, 5]\n",
    "\n",
    "# Get detections with confidence higher than 0.6.\n",
    "top_indices = [i for i, conf in enumerate(det_conf) if conf >= 0.022]\n",
    "\n",
    "top_conf = det_conf[top_indices]\n",
    "top_label_indices = det_label[top_indices].tolist()\n",
    "top_ymin = det_ymin[top_indices]\n",
    "top_xmin = det_xmin[top_indices]\n",
    "top_ymax = det_ymax[top_indices]\n",
    "top_xmax = det_xmax[top_indices]\n",
    "\n",
    "colors = plt.cm.hsv(np.linspace(0, 1, 4)).tolist()\n",
    "\n",
    "plt.imshow(img / 255.)\n",
    "currentAxis = plt.gca()\n",
    "\n",
    "for i in range(top_conf.shape[0]):\n",
    "    ymin = int(round(top_ymin[i] * img.shape[0]))\n",
    "    xmin = int(round(top_xmin[i] * img.shape[1]))\n",
    "    ymax = int(round(top_ymax[i] * img.shape[0]))\n",
    "    xmax = int(round(top_xmax[i] * img.shape[1]))\n",
    "    score = top_conf[i]\n",
    "    label = int(top_label_indices[i])\n",
    "#         label_name = voc_classes[label - 1]\n",
    "    display_txt = '{:0.2f}, {}'.format(score, label)\n",
    "    coords = (xmin, ymin), xmax-xmin+1, ymax-ymin+1\n",
    "    color = colors[0]\n",
    "    currentAxis.add_patch(plt.Rectangle(*coords, fill=False, edgecolor=color, linewidth=2))\n",
    "    currentAxis.text(xmin, ymin, display_txt, bbox={'facecolor':color, 'alpha':0.5})\n",
    "\n",
    "plt.show()"
   ]
  },
  {
   "cell_type": "code",
   "execution_count": null,
   "metadata": {},
   "outputs": [],
   "source": [
    "det_conf"
   ]
  },
  {
   "cell_type": "code",
   "execution_count": null,
   "metadata": {},
   "outputs": [],
   "source": []
  },
  {
   "cell_type": "code",
   "execution_count": null,
   "metadata": {},
   "outputs": [],
   "source": []
  },
  {
   "cell_type": "code",
   "execution_count": null,
   "metadata": {},
   "outputs": [],
   "source": []
  }
 ],
 "metadata": {
  "kernelspec": {
   "display_name": "Python 3",
   "language": "python",
   "name": "python3"
  },
  "language_info": {
   "codemirror_mode": {
    "name": "ipython",
    "version": 3
   },
   "file_extension": ".py",
   "mimetype": "text/x-python",
   "name": "python",
   "nbconvert_exporter": "python",
   "pygments_lexer": "ipython3",
   "version": "3.7.3"
  }
 },
 "nbformat": 4,
 "nbformat_minor": 2
}
