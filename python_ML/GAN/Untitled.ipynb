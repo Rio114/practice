{
 "cells": [
  {
   "cell_type": "code",
   "execution_count": 1,
   "metadata": {},
   "outputs": [
    {
     "name": "stderr",
     "output_type": "stream",
     "text": [
      "Using TensorFlow backend.\n"
     ]
    }
   ],
   "source": [
    "from gan_layers import gan_network\n",
    "import os\n",
    "import numpy as np\n",
    "from PIL import Image"
   ]
  },
  {
   "cell_type": "code",
   "execution_count": 2,
   "metadata": {},
   "outputs": [],
   "source": [
    "FOLDER = '../../../../../test/'\n",
    "img_path = os.listdir(FOLDER)"
   ]
  },
  {
   "cell_type": "code",
   "execution_count": 3,
   "metadata": {},
   "outputs": [],
   "source": [
    "imgs_list = []\n",
    "for  p in img_path:\n",
    "    imgs_list.append(np.array(Image.open(FOLDER + img_path[0]).resize((128,128))))\n",
    "imgs = np.array(imgs_list) "
   ]
  },
  {
   "cell_type": "code",
   "execution_count": null,
   "metadata": {},
   "outputs": [
    {
     "data": {
      "text/plain": [
       "(290, 128, 128, 3)"
      ]
     },
     "execution_count": 4,
     "metadata": {},
     "output_type": "execute_result"
    }
   ],
   "source": [
    "imgs.shape"
   ]
  },
  {
   "cell_type": "code",
   "execution_count": null,
   "metadata": {},
   "outputs": [
    {
     "name": "stdout",
     "output_type": "stream",
     "text": [
      "WARNING:tensorflow:From /Users/ryoji/.pyenv/versions/3.7.3/lib/python3.7/site-packages/tensorflow/python/framework/op_def_library.py:263: colocate_with (from tensorflow.python.framework.ops) is deprecated and will be removed in a future version.\n",
      "Instructions for updating:\n",
      "Colocations handled automatically by placer.\n",
      "WARNING:tensorflow:From /Users/ryoji/.pyenv/versions/3.7.3/lib/python3.7/site-packages/keras/backend/tensorflow_backend.py:3445: calling dropout (from tensorflow.python.ops.nn_ops) with keep_prob is deprecated and will be removed in a future version.\n",
      "Instructions for updating:\n",
      "Please use `rate` instead of `keep_prob`. Rate should be set to `rate = 1 - keep_prob`.\n"
     ]
    }
   ],
   "source": [
    "gan = gan_network(100, (128, 128, 3))"
   ]
  },
  {
   "cell_type": "code",
   "execution_count": null,
   "metadata": {},
   "outputs": [
    {
     "name": "stdout",
     "output_type": "stream",
     "text": [
      "WARNING:tensorflow:From /Users/ryoji/.pyenv/versions/3.7.3/lib/python3.7/site-packages/tensorflow/python/ops/math_ops.py:3066: to_int32 (from tensorflow.python.ops.math_ops) is deprecated and will be removed in a future version.\n",
      "Instructions for updating:\n",
      "Use tf.cast instead.\n"
     ]
    },
    {
     "name": "stderr",
     "output_type": "stream",
     "text": [
      "/Users/ryoji/.pyenv/versions/3.7.3/lib/python3.7/site-packages/keras/engine/training.py:490: UserWarning: Discrepancy between trainable weights and collected trainable weights, did you set `model.trainable` without calling `model.compile` after ?\n",
      "  'Discrepancy between trainable weights and collected trainable'\n"
     ]
    },
    {
     "name": "stdout",
     "output_type": "stream",
     "text": [
      "Epoch:0\n",
      "Epoch:1\n",
      "Epoch:2\n",
      "Epoch:3\n",
      "Epoch:4\n",
      "Epoch:5\n",
      "Epoch:6\n",
      "Epoch:7\n",
      "Epoch:8\n",
      "Epoch:9\n",
      "Epoch:10\n",
      "Epoch:11\n",
      "Epoch:12\n",
      "Epoch:13\n",
      "Epoch:14\n",
      "Epoch:15\n",
      "Epoch:16\n",
      "Epoch:17\n",
      "Epoch:18\n",
      "Epoch:19\n",
      "Epoch:20\n",
      "Epoch:21\n",
      "Epoch:22\n",
      "Epoch:23\n",
      "Epoch:24\n",
      "Epoch:25\n",
      "Epoch:26\n",
      "Epoch:27\n",
      "Epoch:28\n",
      "Epoch:29\n",
      "Epoch:30\n",
      "Epoch:31\n",
      "Epoch:32\n",
      "Epoch:33\n",
      "Epoch:34\n",
      "Epoch:35\n",
      "Epoch:36\n",
      "Epoch:37\n",
      "Epoch:38\n",
      "Epoch:39\n",
      "Epoch:40\n",
      "Epoch:41\n",
      "Epoch:42\n",
      "Epoch:43\n",
      "Epoch:44\n",
      "Epoch:45\n",
      "Epoch:46\n",
      "Epoch:47\n",
      "Epoch:48\n",
      "Epoch:49\n",
      "Epoch:50\n",
      "Epoch:51\n",
      "Epoch:52\n",
      "Epoch:53\n",
      "Epoch:54\n",
      "Epoch:55\n",
      "Epoch:56\n",
      "Epoch:57\n",
      "Epoch:58\n",
      "Epoch:59\n",
      "Epoch:60\n",
      "Epoch:61\n",
      "Epoch:62\n",
      "Epoch:63\n"
     ]
    }
   ],
   "source": [
    "gan.train(imgs, epochs=300, batch_size=32)"
   ]
  },
  {
   "cell_type": "code",
   "execution_count": null,
   "metadata": {},
   "outputs": [],
   "source": [
    "noise = np.random.uniform(-1, 1, (1, 1, 100))\n",
    "generated = gan.generator.predict(noise)"
   ]
  },
  {
   "cell_type": "code",
   "execution_count": null,
   "metadata": {},
   "outputs": [],
   "source": [
    "pred = ((generated * 127.5) + 127.5).astype(np.int32)\n",
    "pred = pred.reshape(128,128,3)\n",
    "mask = pred < 0\n",
    "pred[mask] = 0"
   ]
  },
  {
   "cell_type": "code",
   "execution_count": null,
   "metadata": {},
   "outputs": [],
   "source": [
    "pilImg = Image.fromarray(np.uint8(pred))"
   ]
  },
  {
   "cell_type": "code",
   "execution_count": null,
   "metadata": {},
   "outputs": [],
   "source": [
    "pilImg.show()"
   ]
  },
  {
   "cell_type": "code",
   "execution_count": null,
   "metadata": {},
   "outputs": [],
   "source": []
  }
 ],
 "metadata": {
  "kernelspec": {
   "display_name": "Python 3",
   "language": "python",
   "name": "python3"
  },
  "language_info": {
   "codemirror_mode": {
    "name": "ipython",
    "version": 3
   },
   "file_extension": ".py",
   "mimetype": "text/x-python",
   "name": "python",
   "nbconvert_exporter": "python",
   "pygments_lexer": "ipython3",
   "version": "3.7.3"
  }
 },
 "nbformat": 4,
 "nbformat_minor": 2
}
