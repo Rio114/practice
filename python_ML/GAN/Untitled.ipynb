{
 "cells": [
  {
   "cell_type": "code",
   "execution_count": 1,
   "metadata": {},
   "outputs": [
    {
     "name": "stderr",
     "output_type": "stream",
     "text": [
      "Using TensorFlow backend.\n"
     ]
    }
   ],
   "source": [
    "from gan_layers import gan_network\n",
    "import os"
   ]
  },
  {
   "cell_type": "code",
   "execution_count": 4,
   "metadata": {},
   "outputs": [
    {
     "name": "stdout",
     "output_type": "stream",
     "text": [
      "['1nhvr00032jp-7_1.jpg', '1mane00014jp-10_0.jpg', '1fset00765jp-1_0.jpg', '1hbad00277jp-16_0.jpg', '1hbad00361jp-9_0.jpg', '1okk00001jp-15_1.jpg', '1rct00972jp-2_1.jpg', '1ntr00001jp-9_0.jpg', '1piyo00020jp-19_0.jpg', '1mist00226jp-12_0.jpg', '1mane00023jp-2_0.jpg', '1hbad00375jp-13_0.jpg', '1hbad00354jp-16_1.jpg', '1oks00056jp-1_1.jpg', '1hbad00377jp-10_0.jpg', '1nhdta00443jp-2_0.jpg', '1mane00017jp-1_0.jpg', '1hbad00340jp-9_0.jpg', '1mist00235jp-6_1.jpg', '1hbad00393jp-15_0.jpg', '1hbad00442jp-11_0.jpg', '1mane00030jp-5_0.jpg', '1nhvr00032jp-5_0.jpg', '1okk00001jp-17_0.jpg', '1dandy00634jp-11_0.jpg', '1mist00235jp-11_0.jpg', '1rct00972jp-19_0.jpg', '1mist00226jp-1_0.jpg', '1mist00243jp-17_0.jpg', '1mane00019jp-9_1.jpg', '1mane00023jp-12_0.jpg', '1hbad00337jp-9_0.jpg', '1mane00031jp-6_0.jpg', '1dvdes00871jp-15_1.jpg', '1hbad00306jp-13_1.jpg', '1hbad00357jp-3_0.jpg', '1hbad00328jp-9_0.jpg', '1oks00049jp-3_0.jpg', '1dvdes00951jp-1_0.jpg', '1hbad00402jp-1_0.jpg', '1dvdes00920jp-5_0.jpg', '1hbad00395jp-3_0.jpg', '1hbad00357jp-7_0.jpg', '1sdde00450jp-12_0.jpg', '1mane00024jp-11_1.jpg', '1okp00018jp-7_0.jpg', '1avop00430jp-3_0.jpg', '1mist00243jp-1_0.jpg', '1okb00052jp-18_2.jpg', '1ntr00059jp-7_0.jpg', '1piyo00019jp-11_2.jpg', '1nhvr00032jp-1_0.jpg', '1mane00017jp-7_0.jpg', '1mane00017jp-18_0.jpg', '1ntr00001jp-18_0.jpg', '1mane00024jp-11_0.jpg', '1hbad00277jp-10_1.jpg', '1nhvr00032jp-3_2.jpg', '1hbad00306jp-17_0.jpg', '1rct00972jp-20_0.jpg', '1oks00049jp-14_0.jpg', '1mist00226jp-14_0.jpg', '1okp00026jp-3_0.jpg', '1okp00026jp-1_0.jpg', '1dandy00634jp-17_0.jpg', '1hbad00342jp-6_0.jpg', '1oks00049jp-16_0.jpg', '1okb00048jp-12_0.jpg', '1dvdes00951jp-3_1.jpg', '1mane00017jp-5_0.jpg', '1oks00056jp-5_1.jpg', '1oks00056jp-18_0.jpg', '1dvdes00871jp-13_0.jpg', '1dvdes00871jp-13_1.jpg', '1mane00011jp-3_0.jpg', '1hbad00277jp-12_0.jpg', '1oks00046jp-17_0.jpg', '1hbad00395jp-1_0.jpg', '1piyo00019jp-11_1.jpg', '1mist00212jp-4_0.jpg', '1okp00018jp-5_0.jpg', '1oks00049jp-1_0.jpg', '1dvdes00920jp-7_0.jpg', '1mist00226jp-7_0.jpg', '1dandy00634jp-10_0.jpg', '1hbad00328jp-16_0.jpg', '1mist00235jp-10_0.jpg', '1okb00048jp-15_0.jpg', '1mane00019jp-8_0.jpg', '1okb00055jp-18_0.jpg', '1oks00056jp-2_1.jpg', '1fset00789jp-11_0.jpg', '1hbad00357jp-2_1.jpg', '1piyo00019jp-16_0.jpg', '1hbad00306jp-12_0.jpg', '1hbad00277jp-15_0.jpg', '1hbad00306jp-5_0.jpg', '1hbad00392jp-19_0.jpg', '1mist00239jp-4_0.jpg', '1oks00056jp-2_0.jpg', '1mist00235jp-5_0.jpg', '1mane00031jp-7_0.jpg', '1dvdes00951jp-4_0.jpg', '1mane00031jp-5_0.jpg', '1mist00212jp-1_0.jpg', '1piyo00019jp-8_0.jpg', '1nhdta00443jp-3_1.jpg', '1mane00024jp-2_4.jpg', '1piyo00020jp-18_0.jpg', '1mane00023jp-3_0.jpg', '1rct00972jp-18_2.jpg', '1mane00031jp-20_0.jpg', '1dvdes00871jp-12_0.jpg', '1nhvr00032jp-2_0.jpg', '1oks00046jp-9_0.jpg', '1mane00017jp-4_0.jpg', '1nhdta00443jp-7_0.jpg', '1iesp00644jp-15_0.jpg', '1fset00757jp-1_0.jpg', '1rct00972jp-7_0.jpg', '1hbad00338jp-7_0.jpg', '1hbad00379jp-19_0.jpg', '1hbad00423jp-2_0.jpg', '1hbad00328jp-10_0.jpg', '1fset00789jp-9_0.jpg', '1dandy00634jp-8_0.jpg', '1mane00023jp-15_0.jpg', '1mist00243jp-2_0.jpg', '1mist00235jp-3_0.jpg', '1mist00212jp-5_0.jpg', '1hbad00414jp-18_0.jpg', '1mist00239jp-2_0.jpg', '1ntr00060jp-15_0.jpg', '1hbad00277jp-13_0.jpg', '1okp00018jp-11_1.jpg', '1mist00235jp-1_0.jpg', '1avop00430jp-2_0.jpg', '1mane00023jp-17_0.jpg', '1iesp00643jp-2_0.jpg', '1havd00859jp-4_0.jpg', '1hbad00361jp-10_2.jpg', '1hbad00306jp-1_0.jpg', '1fset00757jp-10_0.jpg', '1oks00049jp-2_0.jpg', '1hbad00442jp-9_0.jpg', '1fset00765jp-14_0.jpg', '1fset00795jp-7_0.jpg', '1rct00972jp-5_0.jpg', '1hbad00328jp-12_0.jpg', '1okp00026jp-2_0.jpg', '1dvdes00871jp-10_0.jpg', '1mane00017jp-19_0.jpg', '1okb00048jp-8_0.jpg', '1hbad00342jp-14_0.jpg', '1mane00030jp-16_1.jpg', '1mane00017jp-15_0.jpg', '1iene00915jp-3_0.jpg', '1oks00046jp-18_1.jpg', '1fset00789jp-19_0.jpg', '1mane00031jp-17_0.jpg', '1hbad00337jp-10_0.jpg', '1oks00056jp-17_0.jpg', '1dvdes00951jp-12_1.jpg', '1hbad00430jp-9_0.jpg', '1okp00018jp-20_0.jpg', '1rct00972jp-9_0.jpg', '1mist00226jp-19_0.jpg', '1fset00789jp-7_0.jpg', '1dandy00634jp-6_0.jpg', '1oks00054jp-1_0.jpg', '1rct00972jp-10_1.jpg', '1hbad00414jp-7_0.jpg', '1hbad00328jp-4_0.jpg', '1piyo00019jp-2_0.jpg', '1hbad00395jp-16_1.jpg', '1hbad00377jp-9_0.jpg', '1okb00045jp-4_2.jpg', '1hbad00361jp-2_0.jpg', '1mist00212jp-9_0.jpg', '1okb00052jp-15_0.jpg', '1okp00022jp-1_0.jpg', '1hbad00381jp-12_0.jpg', '1ntr00059jp-15_0.jpg', '1dandy00634jp-4_0.jpg', '1dvdes00871jp-2_0.jpg', '1rct00972jp-12_0.jpg', '1iene00915jp-12_0.jpg', '1hbad00357jp-8_1.jpg', '1hbad00326jp-10_0.jpg', '1okp00022jp-20_1.jpg', '1hbad00406jp-18_0.jpg', '1oks00056jp-15_0.jpg', '1hbad00328jp-18_0.jpg', '1ntr00001jp-4_0.jpg', '1dvdes00871jp-6_0.jpg', '1mane00023jp-20_1.jpg', '1nhvr00032jp-13_0.jpg', '1hbad00406jp-7_0.jpg', '1mane00031jp-11_0.jpg', '1havd00859jp-17_0.jpg', '1mane00017jp-13_0.jpg', '1hbad00392jp-17_0.jpg', '1rctd00151jp-5_0.jpg', '1mane00031jp-9_0.jpg', '1mane00019jp-6_1.jpg', '1okk00001jp-18_1.jpg', '1hbad00442jp-3_0.jpg', '1fset00789jp-1_0.jpg', '1hbad00402jp-8_0.jpg', '1fset00789jp-3_0.jpg', '1dandy00634jp-2_0.jpg', '1oks00054jp-5_0.jpg', '1okb00052jp-13_0.jpg', '1hbad00392jp-15_0.jpg', '1hbad00381jp-14_0.jpg', '1mane00019jp-20_1.jpg', '1hbad00354jp-19_0.jpg', '1ntr00031jp-16_0.jpg', '1okb00045jp-2_0.jpg', '1hbad00382jp-2_1.jpg', '1mist00235jp-9_0.jpg', '1dvdes00951jp-16_1.jpg', '1hbad00402jp-17_0.jpg', '1nhvr00032jp-8_0.jpg', '1hbad00406jp-5_0.jpg', '1ntr00031jp-16_1.jpg', '1oks00049jp-20_0.jpg', '1mane00017jp-11_0.jpg', '1dvdes00871jp-18_0.jpg', '1dvdes00871jp-4_0.jpg', '1hbad00323jp-3_0.jpg', '1dandy00634jp-5_0.jpg', '1fset00789jp-4_0.jpg', '1piyo00020jp-11_1.jpg', '1hbad00375jp-1_0.jpg', '1dvdes00920jp-10_0.jpg', '1hbad00392jp-12_0.jpg', '1mist00228jp-1_0.jpg', '1okb00048jp-7_1.jpg', '1hbad00381jp-13_0.jpg', '1piyo00019jp-1_0.jpg', '1dvdes00951jp-11_0.jpg', '1mist00212jp-8_0.jpg', '1hbad00406jp-19_0.jpg', '1mane00017jp-16_0.jpg', '1rct00972jp-13_0.jpg', '1mist00212jp-14_1.jpg', '1fset00795jp-8_0.jpg', '1dvdes00871jp-3_0.jpg', '1rct00972jp-11_0.jpg', '1mane00019jp-18_0.jpg', '1dvdes00871jp-20_0.jpg', '1dvdes00871jp-1_0.jpg', '1sdde00547jp-2_0.jpg', '1fset00789jp-18_0.jpg', '1oks00054jp-17_2.jpg', '1mane00017jp-14_0.jpg', '1okb00048jp-5_0.jpg', '1oks00046jp-19_0.jpg', '1okb00052jp-16_0.jpg', '1dvdes00951jp-13_0.jpg', '1okb00045jp-3_0.jpg', '1okp00022jp-4_2.jpg', '1hbad00423jp-13_0.jpg', '1mist00235jp-8_0.jpg', '1mist00239jp-9_0.jpg', '1mane00014jp-7_0.jpg', '1oks00046jp-20_0.jpg', '1dandy00634jp-3_0.jpg', '1mane00019jp-5_0.jpg', '1piyo00020jp-6_0.jpg', '1mane00017jp-10_0.jpg', '1dandy00634jp-20_0.jpg', '1havd00859jp-14_0.jpg', '1hbad00340jp-7_0.jpg', '1hbad00406jp-4_0.jpg', '1nhvr00032jp-10_0.jpg', '1hbad00337jp-5_1.jpg', '1mane00017jp-12_0.jpg', '1mane00031jp-10_0.jpg', '1havd00859jp-16_0.jpg', '1piyo00020jp-4_0.jpg', '1mane00019jp-7_0.jpg', '1rct00972jp-17_0.jpg', '1dandy00634jp-1_0.jpg', '1hbad00379jp-4_0.jpg', '1hbad00414jp-11_0.jpg', '1rctd00151jp-4_0.jpg', '1mane00031jp-8_0.jpg', '1okb00045jp-1_0.jpg']\n"
     ]
    }
   ],
   "source": [
    "path = '../../../../../test/'"
   ]
  },
  {
   "cell_type": "code",
   "execution_count": 2,
   "metadata": {},
   "outputs": [
    {
     "name": "stdout",
     "output_type": "stream",
     "text": [
      "WARNING:tensorflow:From /Users/ryoji/.pyenv/versions/3.7.3/lib/python3.7/site-packages/tensorflow/python/framework/op_def_library.py:263: colocate_with (from tensorflow.python.framework.ops) is deprecated and will be removed in a future version.\n",
      "Instructions for updating:\n",
      "Colocations handled automatically by placer.\n",
      "WARNING:tensorflow:From /Users/ryoji/.pyenv/versions/3.7.3/lib/python3.7/site-packages/keras/backend/tensorflow_backend.py:3445: calling dropout (from tensorflow.python.ops.nn_ops) with keep_prob is deprecated and will be removed in a future version.\n",
      "Instructions for updating:\n",
      "Please use `rate` instead of `keep_prob`. Rate should be set to `rate = 1 - keep_prob`.\n"
     ]
    }
   ],
   "source": [
    "gan = gan_network(100, (128, 128, 3))"
   ]
  },
  {
   "cell_type": "code",
   "execution_count": 3,
   "metadata": {},
   "outputs": [
    {
     "name": "stdout",
     "output_type": "stream",
     "text": [
      "_________________________________________________________________\n",
      "Layer (type)                 Output Shape              Param #   \n",
      "=================================================================\n",
      "input_3 (InputLayer)         (None, None, 100)         0         \n",
      "_________________________________________________________________\n",
      "dense_1 (Dense)              (None, None, 131072)      13238272  \n",
      "_________________________________________________________________\n",
      "reshape_1 (Reshape)          (None, 32, 32, 128)       0         \n",
      "_________________________________________________________________\n",
      "batch_normalization_1 (Batch (None, 32, 32, 128)       512       \n",
      "_________________________________________________________________\n",
      "up_sampling2d_1 (UpSampling2 (None, 64, 64, 128)       0         \n",
      "_________________________________________________________________\n",
      "conv2d_1 (Conv2D)            (None, 64, 64, 128)       147584    \n",
      "_________________________________________________________________\n",
      "activation_1 (Activation)    (None, 64, 64, 128)       0         \n",
      "_________________________________________________________________\n",
      "batch_normalization_2 (Batch (None, 64, 64, 128)       512       \n",
      "_________________________________________________________________\n",
      "up_sampling2d_2 (UpSampling2 (None, 128, 128, 128)     0         \n",
      "_________________________________________________________________\n",
      "conv2d_2 (Conv2D)            (None, 128, 128, 64)      73792     \n",
      "_________________________________________________________________\n",
      "activation_2 (Activation)    (None, 128, 128, 64)      0         \n",
      "_________________________________________________________________\n",
      "batch_normalization_3 (Batch (None, 128, 128, 64)      256       \n",
      "_________________________________________________________________\n",
      "conv2d_3 (Conv2D)            (None, 128, 128, 3)       1731      \n",
      "_________________________________________________________________\n",
      "conv2d_4 (Conv2D)            (None, 64, 64, 32)        896       \n",
      "_________________________________________________________________\n",
      "leaky_re_lu_1 (LeakyReLU)    (None, 64, 64, 32)        0         \n",
      "_________________________________________________________________\n",
      "dropout_1 (Dropout)          (None, 64, 64, 32)        0         \n",
      "_________________________________________________________________\n",
      "conv2d_5 (Conv2D)            (None, 32, 32, 64)        18496     \n",
      "_________________________________________________________________\n",
      "zero_padding2d_1 (ZeroPaddin (None, 33, 33, 64)        0         \n",
      "_________________________________________________________________\n",
      "leaky_re_lu_2 (LeakyReLU)    (None, 33, 33, 64)        0         \n",
      "_________________________________________________________________\n",
      "dropout_2 (Dropout)          (None, 33, 33, 64)        0         \n",
      "_________________________________________________________________\n",
      "batch_normalization_4 (Batch (None, 33, 33, 64)        256       \n",
      "_________________________________________________________________\n",
      "conv2d_6 (Conv2D)            (None, 17, 17, 128)       73856     \n",
      "_________________________________________________________________\n",
      "leaky_re_lu_3 (LeakyReLU)    (None, 17, 17, 128)       0         \n",
      "_________________________________________________________________\n",
      "dropout_3 (Dropout)          (None, 17, 17, 128)       0         \n",
      "_________________________________________________________________\n",
      "batch_normalization_5 (Batch (None, 17, 17, 128)       512       \n",
      "_________________________________________________________________\n",
      "conv2d_7 (Conv2D)            (None, 17, 17, 256)       295168    \n",
      "_________________________________________________________________\n",
      "leaky_re_lu_4 (LeakyReLU)    (None, 17, 17, 256)       0         \n",
      "_________________________________________________________________\n",
      "dropout_4 (Dropout)          (None, 17, 17, 256)       0         \n",
      "_________________________________________________________________\n",
      "flatten_1 (Flatten)          (None, 73984)             0         \n",
      "_________________________________________________________________\n",
      "dense_2 (Dense)              (None, 1)                 73985     \n",
      "=================================================================\n",
      "Total params: 13,925,828\n",
      "Trainable params: 13,924,804\n",
      "Non-trainable params: 1,024\n",
      "_________________________________________________________________\n"
     ]
    }
   ],
   "source": [
    "gan.combine.summary()"
   ]
  },
  {
   "cell_type": "code",
   "execution_count": 4,
   "metadata": {},
   "outputs": [],
   "source": [
    "gan.unset_combine_trainable()"
   ]
  },
  {
   "cell_type": "code",
   "execution_count": 5,
   "metadata": {},
   "outputs": [
    {
     "name": "stdout",
     "output_type": "stream",
     "text": [
      "_________________________________________________________________\n",
      "Layer (type)                 Output Shape              Param #   \n",
      "=================================================================\n",
      "input_3 (InputLayer)         (None, None, 100)         0         \n",
      "_________________________________________________________________\n",
      "dense_1 (Dense)              (None, None, 131072)      13238272  \n",
      "_________________________________________________________________\n",
      "reshape_1 (Reshape)          (None, 32, 32, 128)       0         \n",
      "_________________________________________________________________\n",
      "batch_normalization_1 (Batch (None, 32, 32, 128)       512       \n",
      "_________________________________________________________________\n",
      "up_sampling2d_1 (UpSampling2 (None, 64, 64, 128)       0         \n",
      "_________________________________________________________________\n",
      "conv2d_1 (Conv2D)            (None, 64, 64, 128)       147584    \n",
      "_________________________________________________________________\n",
      "activation_1 (Activation)    (None, 64, 64, 128)       0         \n",
      "_________________________________________________________________\n",
      "batch_normalization_2 (Batch (None, 64, 64, 128)       512       \n",
      "_________________________________________________________________\n",
      "up_sampling2d_2 (UpSampling2 (None, 128, 128, 128)     0         \n",
      "_________________________________________________________________\n",
      "conv2d_2 (Conv2D)            (None, 128, 128, 64)      73792     \n",
      "_________________________________________________________________\n",
      "activation_2 (Activation)    (None, 128, 128, 64)      0         \n",
      "_________________________________________________________________\n",
      "batch_normalization_3 (Batch (None, 128, 128, 64)      256       \n",
      "_________________________________________________________________\n",
      "conv2d_3 (Conv2D)            (None, 128, 128, 3)       1731      \n",
      "_________________________________________________________________\n",
      "conv2d_4 (Conv2D)            (None, 64, 64, 32)        896       \n",
      "_________________________________________________________________\n",
      "leaky_re_lu_1 (LeakyReLU)    (None, 64, 64, 32)        0         \n",
      "_________________________________________________________________\n",
      "dropout_1 (Dropout)          (None, 64, 64, 32)        0         \n",
      "_________________________________________________________________\n",
      "conv2d_5 (Conv2D)            (None, 32, 32, 64)        18496     \n",
      "_________________________________________________________________\n",
      "zero_padding2d_1 (ZeroPaddin (None, 33, 33, 64)        0         \n",
      "_________________________________________________________________\n",
      "leaky_re_lu_2 (LeakyReLU)    (None, 33, 33, 64)        0         \n",
      "_________________________________________________________________\n",
      "dropout_2 (Dropout)          (None, 33, 33, 64)        0         \n",
      "_________________________________________________________________\n",
      "batch_normalization_4 (Batch (None, 33, 33, 64)        256       \n",
      "_________________________________________________________________\n",
      "conv2d_6 (Conv2D)            (None, 17, 17, 128)       73856     \n",
      "_________________________________________________________________\n",
      "leaky_re_lu_3 (LeakyReLU)    (None, 17, 17, 128)       0         \n",
      "_________________________________________________________________\n",
      "dropout_3 (Dropout)          (None, 17, 17, 128)       0         \n",
      "_________________________________________________________________\n",
      "batch_normalization_5 (Batch (None, 17, 17, 128)       512       \n",
      "_________________________________________________________________\n",
      "conv2d_7 (Conv2D)            (None, 17, 17, 256)       295168    \n",
      "_________________________________________________________________\n",
      "leaky_re_lu_4 (LeakyReLU)    (None, 17, 17, 256)       0         \n",
      "_________________________________________________________________\n",
      "dropout_4 (Dropout)          (None, 17, 17, 256)       0         \n",
      "_________________________________________________________________\n",
      "flatten_1 (Flatten)          (None, 73984)             0         \n",
      "_________________________________________________________________\n",
      "dense_2 (Dense)              (None, 1)                 73985     \n",
      "=================================================================\n",
      "Total params: 13,925,828\n",
      "Trainable params: 13,462,019\n",
      "Non-trainable params: 463,809\n",
      "_________________________________________________________________\n"
     ]
    }
   ],
   "source": [
    "gan.combine.summary()"
   ]
  },
  {
   "cell_type": "code",
   "execution_count": null,
   "metadata": {},
   "outputs": [],
   "source": []
  }
 ],
 "metadata": {
  "kernelspec": {
   "display_name": "Python 3",
   "language": "python",
   "name": "python3"
  },
  "language_info": {
   "codemirror_mode": {
    "name": "ipython",
    "version": 3
   },
   "file_extension": ".py",
   "mimetype": "text/x-python",
   "name": "python",
   "nbconvert_exporter": "python",
   "pygments_lexer": "ipython3",
   "version": "3.7.3"
  }
 },
 "nbformat": 4,
 "nbformat_minor": 2
}
