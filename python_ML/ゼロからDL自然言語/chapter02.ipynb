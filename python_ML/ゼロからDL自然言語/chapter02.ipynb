{
 "cells": [
  {
   "cell_type": "code",
   "execution_count": 1,
   "metadata": {},
   "outputs": [],
   "source": [
    "import matplotlib.pyplot as plt\n",
    "import tensorflow as tf\n",
    "import numpy as np"
   ]
  },
  {
   "cell_type": "code",
   "execution_count": 2,
   "metadata": {},
   "outputs": [],
   "source": [
    "def preprocess(text):\n",
    "    text = text.lower()\n",
    "    text = text.replace('.', ' .')\n",
    "    words = text.split(' ')\n",
    "\n",
    "    word_to_id = {}\n",
    "    id_to_word = {}\n",
    "    for word in words:\n",
    "        if word not in word_to_id:\n",
    "            new_id = len(word_to_id)\n",
    "            word_to_id[word] = new_id\n",
    "            id_to_word[new_id] = word\n",
    "\n",
    "    corpus = tf.constant([word_to_id[w] for w in words])\n",
    "\n",
    "    return corpus, word_to_id, id_to_word"
   ]
  },
  {
   "cell_type": "code",
   "execution_count": 3,
   "metadata": {},
   "outputs": [],
   "source": [
    "def create_co_matrix(corpus, vocab_size, window_size=1):\n",
    "    '''共起行列の作成\n",
    "\n",
    "    :param corpus: コーパス（単語IDのリスト）\n",
    "    :param vocab_size:語彙数\n",
    "    :param window_size:ウィンドウサイズ（ウィンドウサイズが1のときは、単語の左右1単語がコンテキスト）\n",
    "    :return: 共起行列\n",
    "    '''\n",
    "    corpus_size = len(corpus)\n",
    "    co_matrix = np.zeros((vocab_size, vocab_size), dtype='int32')\n",
    "\n",
    "    for idx, word_id in enumerate(corpus):\n",
    "        for i in range(1, window_size + 1):\n",
    "            left_idx = idx - i\n",
    "            right_idx = idx + i\n",
    "\n",
    "            if left_idx >= 0:\n",
    "                left_word_id = corpus[left_idx]\n",
    "                co_matrix[word_id, left_word_id] += 1\n",
    "\n",
    "            if right_idx < corpus_size:\n",
    "                right_word_id = corpus[right_idx]\n",
    "                co_matrix[word_id, right_word_id] += 1\n",
    "\n",
    "    return tf.constant(co_matrix, dtype='int32')"
   ]
  },
  {
   "cell_type": "code",
   "execution_count": 4,
   "metadata": {},
   "outputs": [],
   "source": [
    "def cos_similarity(x, y, eps=1e-8):\n",
    "    x_f = tf.dtypes.cast(x, dtype='float')\n",
    "    y_f = tf.dtypes.cast(y, dtype='float')\n",
    "    nx = x_f / tf.math.sqrt(tf.math.reduce_sum(x_f**2) + eps)\n",
    "    ny = y_f / tf.math.sqrt(tf.math.reduce_sum(y_f**2) + eps)\n",
    "    return tf.tensordot(nx, ny, axes=1).numpy()"
   ]
  },
  {
   "cell_type": "code",
   "execution_count": 6,
   "metadata": {},
   "outputs": [
    {
     "name": "stdout",
     "output_type": "stream",
     "text": [
      "0.70710677\n"
     ]
    }
   ],
   "source": [
    "text = 'you say goodbye and i say hello.'\n",
    "corpus, word_to_id, id_to_word = preprocess(text)\n",
    "vocab_size = len(word_to_id)\n",
    "C = create_co_matrix(corpus, vocab_size)\n",
    "\n",
    "c0 = C[word_to_id['you']]\n",
    "c1 = C[word_to_id['i']]\n",
    "\n",
    "print(cos_similarity(c0, c1))"
   ]
  },
  {
   "cell_type": "code",
   "execution_count": 7,
   "metadata": {},
   "outputs": [
    {
     "data": {
      "text/plain": [
       "<tf.Tensor: id=329, shape=(7, 7), dtype=int32, numpy=\n",
       "array([[0, 1, 0, 0, 0, 0, 0],\n",
       "       [1, 0, 1, 0, 1, 1, 0],\n",
       "       [0, 1, 0, 1, 0, 0, 0],\n",
       "       [0, 0, 1, 0, 1, 0, 0],\n",
       "       [0, 1, 0, 1, 0, 0, 0],\n",
       "       [0, 1, 0, 0, 0, 0, 1],\n",
       "       [0, 0, 0, 0, 0, 1, 0]], dtype=int32)>"
      ]
     },
     "execution_count": 7,
     "metadata": {},
     "output_type": "execute_result"
    }
   ],
   "source": [
    "C"
   ]
  },
  {
   "cell_type": "markdown",
   "metadata": {},
   "source": []
  },
  {
   "cell_type": "code",
   "execution_count": 8,
   "metadata": {},
   "outputs": [],
   "source": [
    "def most_similar(query, word_to_id, id_to_word, word_matrix, top=5):\n",
    "    if query not in word_to_id:\n",
    "        print('%s is no found' % query)\n",
    "        return\n",
    "    \n",
    "    print('\\n[query] ' + query)\n",
    "    query_id = word_to_id[query]\n",
    "    query_vec = tf.slice(word_matrix, [query_id, 0], [1, 7]).numpy()[0]\n",
    "    \n",
    "    vocab_size = len(id_to_word)\n",
    "    similarity = np.zeros(vocab_size)\n",
    "    for i in range(vocab_size):\n",
    "        similarity[i] = cos_similarity(tf.slice(word_matrix, [i, 0], [1, 7]).numpy()[0], query_vec)\n",
    "    \n",
    "    count = 0\n",
    "    for i in (-1 * similarity).argsort():\n",
    "        if id_to_word[i] == query:\n",
    "            continue\n",
    "        print(' %s: %s' % (id_to_word[i], similarity[i]))\n",
    "        \n",
    "        count += 1\n",
    "        if count >= top:\n",
    "            return"
   ]
  },
  {
   "cell_type": "code",
   "execution_count": 9,
   "metadata": {
    "scrolled": true
   },
   "outputs": [
    {
     "name": "stdout",
     "output_type": "stream",
     "text": [
      "\n",
      "[query] you\n",
      " goodbye: 0.7071067690849304\n",
      " i: 0.7071067690849304\n",
      " hello: 0.7071067690849304\n",
      " say: 0.0\n",
      " and: 0.0\n"
     ]
    }
   ],
   "source": [
    "most_similar('you', word_to_id, id_to_word, C)"
   ]
  },
  {
   "cell_type": "code",
   "execution_count": 10,
   "metadata": {},
   "outputs": [],
   "source": [
    "def ppmi(C, verbose=False, eps=1e-8):\n",
    "    C = tf.dtypes.cast(C, dtype='float')\n",
    "    M = np.zeros_like(C.numpy(), dtype='float')\n",
    "    N = tf.dtypes.cast(tf.math.reduce_sum(C), dtype='float')\n",
    "    S = tf.dtypes.cast((tf.math.reduce_sum(C, axis=0)), dtype='float')\n",
    "\n",
    "    pmi = tf.math.log(N * C / (tf.tensordot(S, S, axes=0) + eps) + eps) / np.log(2)\n",
    "    \n",
    "    return tf.dtypes.cast(tf.greater(pmi, 0), dtype='float') * pmi + M #-0 -> 0"
   ]
  },
  {
   "cell_type": "code",
   "execution_count": 11,
   "metadata": {},
   "outputs": [],
   "source": [
    "W = ppmi(C)"
   ]
  },
  {
   "cell_type": "code",
   "execution_count": 12,
   "metadata": {},
   "outputs": [],
   "source": [
    "s = tf.linalg.svd(W)[0].numpy()\n",
    "u = tf.linalg.svd(W)[1].numpy()\n",
    "v = tf.linalg.svd(W)[2].numpy()"
   ]
  },
  {
   "cell_type": "code",
   "execution_count": 13,
   "metadata": {},
   "outputs": [
    {
     "data": {
      "image/png": "[encoded data removed]",
      "text/plain": [
       "<Figure size 432x288 with 1 Axes>"
      ]
     },
     "metadata": {
      "needs_background": "light"
     },
     "output_type": "display_data"
    }
   ],
   "source": [
    "for word, word_id in word_to_id.items():\n",
    "    plt.annotate(word, (u[word_id, 0], u[word_id, 1]))\n",
    "    \n",
    "plt.scatter(u[:,0], u[:, 1])\n",
    "plt.show()"
   ]
  },
  {
   "cell_type": "code",
   "execution_count": 14,
   "metadata": {},
   "outputs": [],
   "source": [
    "import sys\n",
    "sys.path.append('..')\n",
    "from dataset import ptb"
   ]
  },
  {
   "cell_type": "code",
   "execution_count": 29,
   "metadata": {},
   "outputs": [],
   "source": [
    "window_size = 3\n",
    "wordvec_size = 100\n",
    "corpus, word_to_id, id_to_word = ptb.load_data('train')\n",
    "vocab_size = len(word_to_id)"
   ]
  },
  {
   "cell_type": "code",
   "execution_count": 30,
   "metadata": {},
   "outputs": [
    {
     "name": "stdout",
     "output_type": "stream",
     "text": [
      "counting co-occurrence...\n"
     ]
    }
   ],
   "source": [
    "print('counting co-occurrence...')\n",
    "C = create_co_matrix(corpus, vocab_size, window_size)"
   ]
  },
  {
   "cell_type": "code",
   "execution_count": 31,
   "metadata": {},
   "outputs": [
    {
     "name": "stdout",
     "output_type": "stream",
     "text": [
      "calculating PPMI...\n"
     ]
    }
   ],
   "source": [
    "print('calculating PPMI...')\n",
    "W = ppmi(C)"
   ]
  },
  {
   "cell_type": "code",
   "execution_count": 19,
   "metadata": {},
   "outputs": [],
   "source": [
    "import time"
   ]
  },
  {
   "cell_type": "code",
   "execution_count": 32,
   "metadata": {},
   "outputs": [
    {
     "name": "stdout",
     "output_type": "stream",
     "text": [
      "260.2724175453186\n"
     ]
    }
   ],
   "source": [
    "start = time.time()\n",
    "svd = tf.linalg.svd(W)\n",
    "s = svd[0].numpy()\n",
    "u = svd[1].numpy()\n",
    "v = svd[2].numpy()\n",
    "print(time.time() - start)"
   ]
  },
  {
   "cell_type": "code",
   "execution_count": 33,
   "metadata": {},
   "outputs": [],
   "source": [
    "word_vecs = tf.slice(svd[1], [0, 0], [u.shape[0],wordvec_size])"
   ]
  },
  {
   "cell_type": "code",
   "execution_count": 34,
   "metadata": {},
   "outputs": [
    {
     "name": "stdout",
     "output_type": "stream",
     "text": [
      "\n",
      "[query] you\n",
      " 're: 0.9783572554588318\n",
      " we: 0.9766966700553894\n",
      " 'm: 0.9672219157218933\n",
      " people: 0.9615544676780701\n",
      " really: 0.9541482329368591\n",
      " your: 0.9533817768096924\n",
      " what: 0.9526839852333069\n",
      " do: 0.95204097032547\n",
      " always: 0.9488503932952881\n",
      " going: 0.9474961757659912\n",
      " think: 0.9472580552101135\n",
      " i: 0.9419209957122803\n",
      " too: 0.9415355920791626\n",
      " something: 0.93734210729599\n",
      " so: 0.9340291023254395\n",
      " how: 0.9336977601051331\n",
      " 've: 0.9328427910804749\n",
      " get: 0.9293616414070129\n",
      " seems: 0.9282641410827637\n",
      " 'll: 0.9280436038970947\n",
      "\n",
      "[query] year\n",
      " months: 0.967208981513977\n",
      " yesterday: 0.9511715769767761\n",
      " trading: 0.9466967582702637\n",
      " earlier: 0.9463159441947937\n",
      " since: 0.9362529516220093\n",
      " friday: 0.9348338842391968\n",
      " N: 0.9304744005203247\n",
      " oct.: 0.9275843501091003\n",
      " close: 0.9274879097938538\n",
      " early: 0.9273102283477783\n",
      " during: 0.9259999990463257\n",
      " nearly: 0.9208763837814331\n",
      " day: 0.9190447330474854\n",
      " stock: 0.913546085357666\n",
      " second: 0.9128015041351318\n",
      " monday: 0.9091829061508179\n",
      " down: 0.9091335535049438\n",
      " began: 0.9083418846130371\n",
      " share: 0.9060953259468079\n",
      " ago: 0.9059783220291138\n",
      "\n",
      "[query] car\n",
      " line: 0.9886866211891174\n",
      " producing: 0.9656956791877747\n",
      " ibm: 0.9555712342262268\n",
      " cars: 0.9389414191246033\n",
      " japan: 0.9171574711799622\n",
      " vehicles: 0.9142560362815857\n",
      " trucks: 0.912868082523346\n",
      " competitors: 0.9091504812240601\n",
      " machine: 0.9065970182418823\n",
      " product: 0.9060658812522888\n",
      " lines: 0.9030820727348328\n",
      " parts: 0.8965064883232117\n",
      " computers: 0.8862457871437073\n",
      " makers: 0.88605797290802\n",
      " natural: 0.8852567076683044\n",
      " chips: 0.8847767114639282\n",
      " building: 0.8847237825393677\n",
      " luxury: 0.8834372758865356\n",
      " plants: 0.8790798187255859\n",
      " sell: 0.8785241842269897\n",
      "\n",
      "[query] toyota\n",
      " microprocessors: 0.9802307486534119\n",
      " chevrolet: 0.9790497422218323\n",
      " tandem: 0.9768487215042114\n",
      " recreational: 0.9719868898391724\n",
      " clothing: 0.9707176089286804\n",
      " mill: 0.9698379635810852\n",
      " rubber: 0.9695259928703308\n",
      " high-tech: 0.9691708087921143\n",
      " department-store: 0.9687982201576233\n",
      " trucking: 0.9687103033065796\n",
      " fast-growing: 0.9669803380966187\n",
      " upgrade: 0.9666355848312378\n",
      " ceramic: 0.9655652046203613\n",
      " compact: 0.9655530452728271\n",
      " supercomputer: 0.9647677540779114\n",
      " disk: 0.9643940925598145\n",
      " plants: 0.9636178016662598\n",
      " glass: 0.9634922742843628\n",
      " grocery: 0.9620741009712219\n",
      " manufacturer: 0.9608458280563354\n"
     ]
    }
   ],
   "source": [
    "querys = ['you', 'year', 'car', 'toyota']\n",
    "for query in querys:\n",
    "    most_similar(query, word_to_id, id_to_word, word_vecs, top=20)"
   ]
  },
  {
   "cell_type": "code",
   "execution_count": null,
   "metadata": {},
   "outputs": [],
   "source": []
  }
 ],
 "metadata": {
  "kernelspec": {
   "display_name": "Python 3",
   "language": "python",
   "name": "python3"
  },
  "language_info": {
   "codemirror_mode": {
    "name": "ipython",
    "version": 3
   },
   "file_extension": ".py",
   "mimetype": "text/x-python",
   "name": "python",
   "nbconvert_exporter": "python",
   "pygments_lexer": "ipython3",
   "version": "3.7.5"
  }
 },
 "nbformat": 4,
 "nbformat_minor": 2
}
