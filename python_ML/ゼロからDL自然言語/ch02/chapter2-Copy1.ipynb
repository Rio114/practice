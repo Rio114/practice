{
 "cells": [
  {
   "cell_type": "code",
   "execution_count": 1,
   "metadata": {},
   "outputs": [],
   "source": [
    "import importlib\n",
    "import matplotlib.pyplot as plt"
   ]
  },
  {
   "cell_type": "code",
   "execution_count": 2,
   "metadata": {},
   "outputs": [],
   "source": [
    "text = \"The 85-year-old has been given legal permission to abdicate after saying he felt unable to fulfil his role because of his age and declining health. His son, Crown Prince Naruhito, will ascend the Chrysanthemum throne the next day, beginning a new era. The emperor in Japan holds no political power but serves as a national symbol. Emperor Akihito's reign has been marked by his interactions with people suffering from disease and disaster, which has endeared him in the hearts of many Japanese people.\""
   ]
  },
  {
   "cell_type": "code",
   "execution_count": 3,
   "metadata": {},
   "outputs": [
    {
     "data": {
      "text/plain": [
       "\"the 85-year-old has been given legal permission to abdicate after saying he felt unable to fulfil his role because of his age and declining health . his son, crown prince naruhito, will ascend the chrysanthemum throne the next day, beginning a new era . the emperor in japan holds no political power but serves as a national symbol . emperor akihito's reign has been marked by his interactions with people suffering from disease and disaster, which has endeared him in the hearts of many japanese people .\""
      ]
     },
     "execution_count": 3,
     "metadata": {},
     "output_type": "execute_result"
    }
   ],
   "source": [
    "text = text.lower()\n",
    "text = text.replace('.', ' .')\n",
    "text"
   ]
  },
  {
   "cell_type": "code",
   "execution_count": 4,
   "metadata": {},
   "outputs": [
    {
     "data": {
      "text/plain": [
       "['the',\n",
       " '85-year-old',\n",
       " 'has',\n",
       " 'been',\n",
       " 'given',\n",
       " 'legal',\n",
       " 'permission',\n",
       " 'to',\n",
       " 'abdicate',\n",
       " 'after',\n",
       " 'saying',\n",
       " 'he',\n",
       " 'felt',\n",
       " 'unable',\n",
       " 'to',\n",
       " 'fulfil',\n",
       " 'his',\n",
       " 'role',\n",
       " 'because',\n",
       " 'of',\n",
       " 'his',\n",
       " 'age',\n",
       " 'and',\n",
       " 'declining',\n",
       " 'health',\n",
       " '.',\n",
       " 'his',\n",
       " 'son,',\n",
       " 'crown',\n",
       " 'prince',\n",
       " 'naruhito,',\n",
       " 'will',\n",
       " 'ascend',\n",
       " 'the',\n",
       " 'chrysanthemum',\n",
       " 'throne',\n",
       " 'the',\n",
       " 'next',\n",
       " 'day,',\n",
       " 'beginning',\n",
       " 'a',\n",
       " 'new',\n",
       " 'era',\n",
       " '.',\n",
       " 'the',\n",
       " 'emperor',\n",
       " 'in',\n",
       " 'japan',\n",
       " 'holds',\n",
       " 'no',\n",
       " 'political',\n",
       " 'power',\n",
       " 'but',\n",
       " 'serves',\n",
       " 'as',\n",
       " 'a',\n",
       " 'national',\n",
       " 'symbol',\n",
       " '.',\n",
       " 'emperor',\n",
       " \"akihito's\",\n",
       " 'reign',\n",
       " 'has',\n",
       " 'been',\n",
       " 'marked',\n",
       " 'by',\n",
       " 'his',\n",
       " 'interactions',\n",
       " 'with',\n",
       " 'people',\n",
       " 'suffering',\n",
       " 'from',\n",
       " 'disease',\n",
       " 'and',\n",
       " 'disaster,',\n",
       " 'which',\n",
       " 'has',\n",
       " 'endeared',\n",
       " 'him',\n",
       " 'in',\n",
       " 'the',\n",
       " 'hearts',\n",
       " 'of',\n",
       " 'many',\n",
       " 'japanese',\n",
       " 'people',\n",
       " '.']"
      ]
     },
     "execution_count": 4,
     "metadata": {},
     "output_type": "execute_result"
    }
   ],
   "source": [
    "words = text.split(' ')\n",
    "words"
   ]
  },
  {
   "cell_type": "code",
   "execution_count": 5,
   "metadata": {},
   "outputs": [],
   "source": [
    "import re\n",
    "n = re.split('(\\W+)?', text)"
   ]
  },
  {
   "cell_type": "code",
   "execution_count": 6,
   "metadata": {},
   "outputs": [],
   "source": [
    "word_to_id = {}\n",
    "id_to_word = {}\n",
    "\n",
    "for word in words:\n",
    "    if word not in word_to_id:\n",
    "        new_id = len(word_to_id)\n",
    "        word_to_id[word] = new_id\n",
    "        id_to_word[new_id] = word"
   ]
  },
  {
   "cell_type": "code",
   "execution_count": 7,
   "metadata": {},
   "outputs": [
    {
     "data": {
      "text/plain": [
       "{'the': 0,\n",
       " '85-year-old': 1,\n",
       " 'has': 2,\n",
       " 'been': 3,\n",
       " 'given': 4,\n",
       " 'legal': 5,\n",
       " 'permission': 6,\n",
       " 'to': 7,\n",
       " 'abdicate': 8,\n",
       " 'after': 9,\n",
       " 'saying': 10,\n",
       " 'he': 11,\n",
       " 'felt': 12,\n",
       " 'unable': 13,\n",
       " 'fulfil': 14,\n",
       " 'his': 15,\n",
       " 'role': 16,\n",
       " 'because': 17,\n",
       " 'of': 18,\n",
       " 'age': 19,\n",
       " 'and': 20,\n",
       " 'declining': 21,\n",
       " 'health': 22,\n",
       " '.': 23,\n",
       " 'son,': 24,\n",
       " 'crown': 25,\n",
       " 'prince': 26,\n",
       " 'naruhito,': 27,\n",
       " 'will': 28,\n",
       " 'ascend': 29,\n",
       " 'chrysanthemum': 30,\n",
       " 'throne': 31,\n",
       " 'next': 32,\n",
       " 'day,': 33,\n",
       " 'beginning': 34,\n",
       " 'a': 35,\n",
       " 'new': 36,\n",
       " 'era': 37,\n",
       " 'emperor': 38,\n",
       " 'in': 39,\n",
       " 'japan': 40,\n",
       " 'holds': 41,\n",
       " 'no': 42,\n",
       " 'political': 43,\n",
       " 'power': 44,\n",
       " 'but': 45,\n",
       " 'serves': 46,\n",
       " 'as': 47,\n",
       " 'national': 48,\n",
       " 'symbol': 49,\n",
       " \"akihito's\": 50,\n",
       " 'reign': 51,\n",
       " 'marked': 52,\n",
       " 'by': 53,\n",
       " 'interactions': 54,\n",
       " 'with': 55,\n",
       " 'people': 56,\n",
       " 'suffering': 57,\n",
       " 'from': 58,\n",
       " 'disease': 59,\n",
       " 'disaster,': 60,\n",
       " 'which': 61,\n",
       " 'endeared': 62,\n",
       " 'him': 63,\n",
       " 'hearts': 64,\n",
       " 'many': 65,\n",
       " 'japanese': 66}"
      ]
     },
     "execution_count": 7,
     "metadata": {},
     "output_type": "execute_result"
    }
   ],
   "source": [
    "word_to_id"
   ]
  },
  {
   "cell_type": "code",
   "execution_count": 8,
   "metadata": {},
   "outputs": [
    {
     "data": {
      "text/plain": [
       "{0: 'the',\n",
       " 1: '85-year-old',\n",
       " 2: 'has',\n",
       " 3: 'been',\n",
       " 4: 'given',\n",
       " 5: 'legal',\n",
       " 6: 'permission',\n",
       " 7: 'to',\n",
       " 8: 'abdicate',\n",
       " 9: 'after',\n",
       " 10: 'saying',\n",
       " 11: 'he',\n",
       " 12: 'felt',\n",
       " 13: 'unable',\n",
       " 14: 'fulfil',\n",
       " 15: 'his',\n",
       " 16: 'role',\n",
       " 17: 'because',\n",
       " 18: 'of',\n",
       " 19: 'age',\n",
       " 20: 'and',\n",
       " 21: 'declining',\n",
       " 22: 'health',\n",
       " 23: '.',\n",
       " 24: 'son,',\n",
       " 25: 'crown',\n",
       " 26: 'prince',\n",
       " 27: 'naruhito,',\n",
       " 28: 'will',\n",
       " 29: 'ascend',\n",
       " 30: 'chrysanthemum',\n",
       " 31: 'throne',\n",
       " 32: 'next',\n",
       " 33: 'day,',\n",
       " 34: 'beginning',\n",
       " 35: 'a',\n",
       " 36: 'new',\n",
       " 37: 'era',\n",
       " 38: 'emperor',\n",
       " 39: 'in',\n",
       " 40: 'japan',\n",
       " 41: 'holds',\n",
       " 42: 'no',\n",
       " 43: 'political',\n",
       " 44: 'power',\n",
       " 45: 'but',\n",
       " 46: 'serves',\n",
       " 47: 'as',\n",
       " 48: 'national',\n",
       " 49: 'symbol',\n",
       " 50: \"akihito's\",\n",
       " 51: 'reign',\n",
       " 52: 'marked',\n",
       " 53: 'by',\n",
       " 54: 'interactions',\n",
       " 55: 'with',\n",
       " 56: 'people',\n",
       " 57: 'suffering',\n",
       " 58: 'from',\n",
       " 59: 'disease',\n",
       " 60: 'disaster,',\n",
       " 61: 'which',\n",
       " 62: 'endeared',\n",
       " 63: 'him',\n",
       " 64: 'hearts',\n",
       " 65: 'many',\n",
       " 66: 'japanese'}"
      ]
     },
     "execution_count": 8,
     "metadata": {},
     "output_type": "execute_result"
    }
   ],
   "source": [
    "id_to_word"
   ]
  },
  {
   "cell_type": "code",
   "execution_count": 9,
   "metadata": {},
   "outputs": [
    {
     "data": {
      "text/plain": [
       "array([ 0,  1,  2,  3,  4,  5,  6,  7,  8,  9, 10, 11, 12, 13,  7, 14, 15,\n",
       "       16, 17, 18, 15, 19, 20, 21, 22, 23, 15, 24, 25, 26, 27, 28, 29,  0,\n",
       "       30, 31,  0, 32, 33, 34, 35, 36, 37, 23,  0, 38, 39, 40, 41, 42, 43,\n",
       "       44, 45, 46, 47, 35, 48, 49, 23, 38, 50, 51,  2,  3, 52, 53, 15, 54,\n",
       "       55, 56, 57, 58, 59, 20, 60, 61,  2, 62, 63, 39,  0, 64, 18, 65, 66,\n",
       "       56, 23])"
      ]
     },
     "execution_count": 9,
     "metadata": {},
     "output_type": "execute_result"
    }
   ],
   "source": [
    "import numpy as np\n",
    "corpus = [word_to_id[w] for w in words]\n",
    "corpus = np.array(corpus)\n",
    "corpus"
   ]
  },
  {
   "cell_type": "code",
   "execution_count": 10,
   "metadata": {},
   "outputs": [],
   "source": [
    "from common.util import preprocess"
   ]
  },
  {
   "cell_type": "code",
   "execution_count": 11,
   "metadata": {},
   "outputs": [],
   "source": [
    "text = \"The 85-year-old has been given legal permission to abdicate after saying he felt unable to fulfil his role because of his age and declining health. His son, Crown Prince Naruhito, will ascend the Chrysanthemum throne the next day, beginning a new era. The emperor in Japan holds no political power but serves as a national symbol. Emperor Akihito's reign has been marked by his interactions with people suffering from disease and disaster, which has endeared him in the hearts of many Japanese people.\"\n",
    "corpus, word_to_id, id_to_word = preprocess(text)"
   ]
  },
  {
   "cell_type": "code",
   "execution_count": 12,
   "metadata": {},
   "outputs": [
    {
     "data": {
      "text/plain": [
       "array([ 0,  1,  2,  3,  4,  5,  6,  7,  8,  9, 10, 11, 12, 13,  7, 14, 15,\n",
       "       16, 17, 18, 15, 19, 20, 21, 22, 23, 15, 24, 25, 26, 27, 28, 29,  0,\n",
       "       30, 31,  0, 32, 33, 34, 35, 36, 37, 23,  0, 38, 39, 40, 41, 42, 43,\n",
       "       44, 45, 46, 47, 35, 48, 49, 23, 38, 50, 51,  2,  3, 52, 53, 15, 54,\n",
       "       55, 56, 57, 58, 59, 20, 60, 61,  2, 62, 63, 39,  0, 64, 18, 65, 66,\n",
       "       56, 23])"
      ]
     },
     "execution_count": 12,
     "metadata": {},
     "output_type": "execute_result"
    }
   ],
   "source": [
    "corpus"
   ]
  },
  {
   "cell_type": "code",
   "execution_count": 13,
   "metadata": {},
   "outputs": [
    {
     "data": {
      "text/plain": [
       "{'the': 0,\n",
       " '85-year-old': 1,\n",
       " 'has': 2,\n",
       " 'been': 3,\n",
       " 'given': 4,\n",
       " 'legal': 5,\n",
       " 'permission': 6,\n",
       " 'to': 7,\n",
       " 'abdicate': 8,\n",
       " 'after': 9,\n",
       " 'saying': 10,\n",
       " 'he': 11,\n",
       " 'felt': 12,\n",
       " 'unable': 13,\n",
       " 'fulfil': 14,\n",
       " 'his': 15,\n",
       " 'role': 16,\n",
       " 'because': 17,\n",
       " 'of': 18,\n",
       " 'age': 19,\n",
       " 'and': 20,\n",
       " 'declining': 21,\n",
       " 'health': 22,\n",
       " '.': 23,\n",
       " 'son,': 24,\n",
       " 'crown': 25,\n",
       " 'prince': 26,\n",
       " 'naruhito,': 27,\n",
       " 'will': 28,\n",
       " 'ascend': 29,\n",
       " 'chrysanthemum': 30,\n",
       " 'throne': 31,\n",
       " 'next': 32,\n",
       " 'day,': 33,\n",
       " 'beginning': 34,\n",
       " 'a': 35,\n",
       " 'new': 36,\n",
       " 'era': 37,\n",
       " 'emperor': 38,\n",
       " 'in': 39,\n",
       " 'japan': 40,\n",
       " 'holds': 41,\n",
       " 'no': 42,\n",
       " 'political': 43,\n",
       " 'power': 44,\n",
       " 'but': 45,\n",
       " 'serves': 46,\n",
       " 'as': 47,\n",
       " 'national': 48,\n",
       " 'symbol': 49,\n",
       " \"akihito's\": 50,\n",
       " 'reign': 51,\n",
       " 'marked': 52,\n",
       " 'by': 53,\n",
       " 'interactions': 54,\n",
       " 'with': 55,\n",
       " 'people': 56,\n",
       " 'suffering': 57,\n",
       " 'from': 58,\n",
       " 'disease': 59,\n",
       " 'disaster,': 60,\n",
       " 'which': 61,\n",
       " 'endeared': 62,\n",
       " 'him': 63,\n",
       " 'hearts': 64,\n",
       " 'many': 65,\n",
       " 'japanese': 66}"
      ]
     },
     "execution_count": 13,
     "metadata": {},
     "output_type": "execute_result"
    }
   ],
   "source": [
    "word_to_id"
   ]
  },
  {
   "cell_type": "code",
   "execution_count": 14,
   "metadata": {},
   "outputs": [
    {
     "data": {
      "text/plain": [
       "{0: 'the',\n",
       " 1: '85-year-old',\n",
       " 2: 'has',\n",
       " 3: 'been',\n",
       " 4: 'given',\n",
       " 5: 'legal',\n",
       " 6: 'permission',\n",
       " 7: 'to',\n",
       " 8: 'abdicate',\n",
       " 9: 'after',\n",
       " 10: 'saying',\n",
       " 11: 'he',\n",
       " 12: 'felt',\n",
       " 13: 'unable',\n",
       " 14: 'fulfil',\n",
       " 15: 'his',\n",
       " 16: 'role',\n",
       " 17: 'because',\n",
       " 18: 'of',\n",
       " 19: 'age',\n",
       " 20: 'and',\n",
       " 21: 'declining',\n",
       " 22: 'health',\n",
       " 23: '.',\n",
       " 24: 'son,',\n",
       " 25: 'crown',\n",
       " 26: 'prince',\n",
       " 27: 'naruhito,',\n",
       " 28: 'will',\n",
       " 29: 'ascend',\n",
       " 30: 'chrysanthemum',\n",
       " 31: 'throne',\n",
       " 32: 'next',\n",
       " 33: 'day,',\n",
       " 34: 'beginning',\n",
       " 35: 'a',\n",
       " 36: 'new',\n",
       " 37: 'era',\n",
       " 38: 'emperor',\n",
       " 39: 'in',\n",
       " 40: 'japan',\n",
       " 41: 'holds',\n",
       " 42: 'no',\n",
       " 43: 'political',\n",
       " 44: 'power',\n",
       " 45: 'but',\n",
       " 46: 'serves',\n",
       " 47: 'as',\n",
       " 48: 'national',\n",
       " 49: 'symbol',\n",
       " 50: \"akihito's\",\n",
       " 51: 'reign',\n",
       " 52: 'marked',\n",
       " 53: 'by',\n",
       " 54: 'interactions',\n",
       " 55: 'with',\n",
       " 56: 'people',\n",
       " 57: 'suffering',\n",
       " 58: 'from',\n",
       " 59: 'disease',\n",
       " 60: 'disaster,',\n",
       " 61: 'which',\n",
       " 62: 'endeared',\n",
       " 63: 'him',\n",
       " 64: 'hearts',\n",
       " 65: 'many',\n",
       " 66: 'japanese'}"
      ]
     },
     "execution_count": 14,
     "metadata": {},
     "output_type": "execute_result"
    }
   ],
   "source": [
    "id_to_word"
   ]
  },
  {
   "cell_type": "code",
   "execution_count": 15,
   "metadata": {},
   "outputs": [],
   "source": [
    "C = np.array([\n",
    "    [0,1,0,0,0,0,0],\n",
    "[1,0,1,0,1,1,0],\n",
    "[0,1,0,1,0,0,0],\n",
    "[0,0,1,0,1,0,0],\n",
    "[0,1,0,1,0,0,0],\n",
    "[0,1,0,0,0,0,1],\n",
    "[0,0,0,0,0,1,0],\n",
    "], dtype=np.int32)"
   ]
  },
  {
   "cell_type": "code",
   "execution_count": 16,
   "metadata": {},
   "outputs": [
    {
     "ename": "KeyError",
     "evalue": "'goodbye'",
     "output_type": "error",
     "traceback": [
      "\u001b[0;31m---------------------------------------------------------------------------\u001b[0m",
      "\u001b[0;31mKeyError\u001b[0m                                  Traceback (most recent call last)",
      "\u001b[0;32m<ipython-input-16-3d25fd0bceda>\u001b[0m in \u001b[0;36m<module>\u001b[0;34m\u001b[0m\n\u001b[0;32m----> 1\u001b[0;31m \u001b[0mprint\u001b[0m\u001b[0;34m(\u001b[0m\u001b[0mC\u001b[0m\u001b[0;34m[\u001b[0m\u001b[0mword_to_id\u001b[0m\u001b[0;34m[\u001b[0m\u001b[0;34m'goodbye'\u001b[0m\u001b[0;34m]\u001b[0m\u001b[0;34m]\u001b[0m\u001b[0;34m)\u001b[0m\u001b[0;34m\u001b[0m\u001b[0;34m\u001b[0m\u001b[0m\n\u001b[0m",
      "\u001b[0;31mKeyError\u001b[0m: 'goodbye'"
     ]
    }
   ],
   "source": [
    "print(C[word_to_id['goodbye']])"
   ]
  },
  {
   "cell_type": "code",
   "execution_count": 32,
   "metadata": {},
   "outputs": [
    {
     "name": "stdout",
     "output_type": "stream",
     "text": [
      "0.0\n"
     ]
    }
   ],
   "source": [
    "from common.util import create_co_matrix, cos_similarity\n",
    "\n",
    "vocab_size = len(word_to_id)\n",
    "C = create_co_matrix(corpus, vocab_size, window_size=1)\n",
    "\n",
    "c0 = C[word_to_id['because']]\n",
    "c1 = C[word_to_id['role']]\n",
    "print(cos_similarity(c0, c1))"
   ]
  },
  {
   "cell_type": "code",
   "execution_count": 33,
   "metadata": {},
   "outputs": [
    {
     "name": "stdout",
     "output_type": "stream",
     "text": [
      "\n",
      "[query] role\n",
      " of: 0.7071067726510136\n",
      " age: 0.49999999292893216\n",
      " fulfil: 0.49999999292893216\n",
      " by: 0.49999999292893216\n",
      " interactions: 0.49999999292893216\n"
     ]
    }
   ],
   "source": [
    "from common.util import most_similar\n",
    "\n",
    "most_similar('role', word_to_id, id_to_word, C, top=5)"
   ]
  },
  {
   "cell_type": "code",
   "execution_count": 34,
   "metadata": {},
   "outputs": [
    {
     "name": "stdout",
     "output_type": "stream",
     "text": [
      "covariance matrix\n",
      "[[0 1 0 ... 1 0 0]\n",
      " [1 0 1 ... 0 0 0]\n",
      " [0 1 0 ... 0 0 0]\n",
      " ...\n",
      " [1 0 0 ... 0 0 0]\n",
      " [0 0 0 ... 0 0 1]\n",
      " [0 0 0 ... 0 1 0]]\n",
      "--------------------------------------------------\n",
      "PPMI\n",
      "[[0.    3.256 0.    ... 3.256 0.    0.   ]\n",
      " [3.256 0.    3.841 ... 0.    0.    0.   ]\n",
      " [0.    3.841 0.    ... 0.    0.    0.   ]\n",
      " ...\n",
      " [3.256 0.    0.    ... 0.    0.    0.   ]\n",
      " [0.    0.    0.    ... 0.    0.    5.426]\n",
      " [0.    0.    0.    ... 0.    5.426 0.   ]]\n"
     ]
    }
   ],
   "source": [
    "from common.util import ppmi\n",
    "\n",
    "W = ppmi(C)\n",
    "np.set_printoptions(precision=3)\n",
    "print('covariance matrix')\n",
    "print(C)\n",
    "print('-'*50)\n",
    "print('PPMI')\n",
    "print(W)"
   ]
  },
  {
   "cell_type": "code",
   "execution_count": 35,
   "metadata": {},
   "outputs": [
    {
     "data": {
      "text/plain": [
       "<matplotlib.image.AxesImage at 0x117cf93c8>"
      ]
     },
     "execution_count": 35,
     "metadata": {},
     "output_type": "execute_result"
    },
    {
     "data": {
      "image/png": "[encoded data removed]",
      "text/plain": [
       "<Figure size 432x288 with 1 Axes>"
      ]
     },
     "metadata": {
      "needs_background": "light"
     },
     "output_type": "display_data"
    }
   ],
   "source": [
    "plt.imshow(W)"
   ]
  },
  {
   "cell_type": "code",
   "execution_count": 36,
   "metadata": {},
   "outputs": [],
   "source": [
    "U, S, V = np.linalg.svd(W)"
   ]
  },
  {
   "cell_type": "code",
   "execution_count": 37,
   "metadata": {},
   "outputs": [
    {
     "data": {
      "text/plain": [
       "<matplotlib.image.AxesImage at 0x117db19b0>"
      ]
     },
     "execution_count": 37,
     "metadata": {},
     "output_type": "execute_result"
    },
    {
     "data": {
      "image/png": "[encoded data removed]",
      "text/plain": [
       "<Figure size 432x288 with 1 Axes>"
      ]
     },
     "metadata": {
      "needs_background": "light"
     },
     "output_type": "display_data"
    }
   ],
   "source": [
    "plt.imshow(U)"
   ]
  },
  {
   "cell_type": "code",
   "execution_count": 40,
   "metadata": {},
   "outputs": [
    {
     "ename": "TypeError",
     "evalue": "Invalid dimensions for image data",
     "output_type": "error",
     "traceback": [
      "\u001b[0;31m---------------------------------------------------------------------------\u001b[0m",
      "\u001b[0;31mTypeError\u001b[0m                                 Traceback (most recent call last)",
      "\u001b[0;32m<ipython-input-40-8521de2b06ce>\u001b[0m in \u001b[0;36m<module>\u001b[0;34m\u001b[0m\n\u001b[0;32m----> 1\u001b[0;31m \u001b[0mplt\u001b[0m\u001b[0;34m.\u001b[0m\u001b[0mimshow\u001b[0m\u001b[0;34m(\u001b[0m\u001b[0mS\u001b[0m\u001b[0;34m)\u001b[0m\u001b[0;34m\u001b[0m\u001b[0;34m\u001b[0m\u001b[0m\n\u001b[0m",
      "\u001b[0;32m~/.pyenv/versions/3.7.3/lib/python3.7/site-packages/matplotlib/pyplot.py\u001b[0m in \u001b[0;36mimshow\u001b[0;34m(X, cmap, norm, aspect, interpolation, alpha, vmin, vmax, origin, extent, shape, filternorm, filterrad, imlim, resample, url, data, **kwargs)\u001b[0m\n\u001b[1;32m   2697\u001b[0m         \u001b[0mfilternorm\u001b[0m\u001b[0;34m=\u001b[0m\u001b[0mfilternorm\u001b[0m\u001b[0;34m,\u001b[0m \u001b[0mfilterrad\u001b[0m\u001b[0;34m=\u001b[0m\u001b[0mfilterrad\u001b[0m\u001b[0;34m,\u001b[0m \u001b[0mimlim\u001b[0m\u001b[0;34m=\u001b[0m\u001b[0mimlim\u001b[0m\u001b[0;34m,\u001b[0m\u001b[0;34m\u001b[0m\u001b[0;34m\u001b[0m\u001b[0m\n\u001b[1;32m   2698\u001b[0m         resample=resample, url=url, **({\"data\": data} if data is not\n\u001b[0;32m-> 2699\u001b[0;31m         None else {}), **kwargs)\n\u001b[0m\u001b[1;32m   2700\u001b[0m     \u001b[0msci\u001b[0m\u001b[0;34m(\u001b[0m\u001b[0m__ret\u001b[0m\u001b[0;34m)\u001b[0m\u001b[0;34m\u001b[0m\u001b[0;34m\u001b[0m\u001b[0m\n\u001b[1;32m   2701\u001b[0m     \u001b[0;32mreturn\u001b[0m \u001b[0m__ret\u001b[0m\u001b[0;34m\u001b[0m\u001b[0;34m\u001b[0m\u001b[0m\n",
      "\u001b[0;32m~/.pyenv/versions/3.7.3/lib/python3.7/site-packages/matplotlib/__init__.py\u001b[0m in \u001b[0;36minner\u001b[0;34m(ax, data, *args, **kwargs)\u001b[0m\n\u001b[1;32m   1808\u001b[0m                         \u001b[0;34m\"the Matplotlib list!)\"\u001b[0m \u001b[0;34m%\u001b[0m \u001b[0;34m(\u001b[0m\u001b[0mlabel_namer\u001b[0m\u001b[0;34m,\u001b[0m \u001b[0mfunc\u001b[0m\u001b[0;34m.\u001b[0m\u001b[0m__name__\u001b[0m\u001b[0;34m)\u001b[0m\u001b[0;34m,\u001b[0m\u001b[0;34m\u001b[0m\u001b[0;34m\u001b[0m\u001b[0m\n\u001b[1;32m   1809\u001b[0m                         RuntimeWarning, stacklevel=2)\n\u001b[0;32m-> 1810\u001b[0;31m             \u001b[0;32mreturn\u001b[0m \u001b[0mfunc\u001b[0m\u001b[0;34m(\u001b[0m\u001b[0max\u001b[0m\u001b[0;34m,\u001b[0m \u001b[0;34m*\u001b[0m\u001b[0margs\u001b[0m\u001b[0;34m,\u001b[0m \u001b[0;34m**\u001b[0m\u001b[0mkwargs\u001b[0m\u001b[0;34m)\u001b[0m\u001b[0;34m\u001b[0m\u001b[0;34m\u001b[0m\u001b[0m\n\u001b[0m\u001b[1;32m   1811\u001b[0m \u001b[0;34m\u001b[0m\u001b[0m\n\u001b[1;32m   1812\u001b[0m         inner.__doc__ = _add_data_doc(inner.__doc__,\n",
      "\u001b[0;32m~/.pyenv/versions/3.7.3/lib/python3.7/site-packages/matplotlib/axes/_axes.py\u001b[0m in \u001b[0;36mimshow\u001b[0;34m(self, X, cmap, norm, aspect, interpolation, alpha, vmin, vmax, origin, extent, shape, filternorm, filterrad, imlim, resample, url, **kwargs)\u001b[0m\n\u001b[1;32m   5492\u001b[0m                               resample=resample, **kwargs)\n\u001b[1;32m   5493\u001b[0m \u001b[0;34m\u001b[0m\u001b[0m\n\u001b[0;32m-> 5494\u001b[0;31m         \u001b[0mim\u001b[0m\u001b[0;34m.\u001b[0m\u001b[0mset_data\u001b[0m\u001b[0;34m(\u001b[0m\u001b[0mX\u001b[0m\u001b[0;34m)\u001b[0m\u001b[0;34m\u001b[0m\u001b[0;34m\u001b[0m\u001b[0m\n\u001b[0m\u001b[1;32m   5495\u001b[0m         \u001b[0mim\u001b[0m\u001b[0;34m.\u001b[0m\u001b[0mset_alpha\u001b[0m\u001b[0;34m(\u001b[0m\u001b[0malpha\u001b[0m\u001b[0;34m)\u001b[0m\u001b[0;34m\u001b[0m\u001b[0;34m\u001b[0m\u001b[0m\n\u001b[1;32m   5496\u001b[0m         \u001b[0;32mif\u001b[0m \u001b[0mim\u001b[0m\u001b[0;34m.\u001b[0m\u001b[0mget_clip_path\u001b[0m\u001b[0;34m(\u001b[0m\u001b[0;34m)\u001b[0m \u001b[0;32mis\u001b[0m \u001b[0;32mNone\u001b[0m\u001b[0;34m:\u001b[0m\u001b[0;34m\u001b[0m\u001b[0;34m\u001b[0m\u001b[0m\n",
      "\u001b[0;32m~/.pyenv/versions/3.7.3/lib/python3.7/site-packages/matplotlib/image.py\u001b[0m in \u001b[0;36mset_data\u001b[0;34m(self, A)\u001b[0m\n\u001b[1;32m    636\u001b[0m         if not (self._A.ndim == 2\n\u001b[1;32m    637\u001b[0m                 or self._A.ndim == 3 and self._A.shape[-1] in [3, 4]):\n\u001b[0;32m--> 638\u001b[0;31m             \u001b[0;32mraise\u001b[0m \u001b[0mTypeError\u001b[0m\u001b[0;34m(\u001b[0m\u001b[0;34m\"Invalid dimensions for image data\"\u001b[0m\u001b[0;34m)\u001b[0m\u001b[0;34m\u001b[0m\u001b[0;34m\u001b[0m\u001b[0m\n\u001b[0m\u001b[1;32m    639\u001b[0m \u001b[0;34m\u001b[0m\u001b[0m\n\u001b[1;32m    640\u001b[0m         \u001b[0;32mif\u001b[0m \u001b[0mself\u001b[0m\u001b[0;34m.\u001b[0m\u001b[0m_A\u001b[0m\u001b[0;34m.\u001b[0m\u001b[0mndim\u001b[0m \u001b[0;34m==\u001b[0m \u001b[0;36m3\u001b[0m\u001b[0;34m:\u001b[0m\u001b[0;34m\u001b[0m\u001b[0;34m\u001b[0m\u001b[0m\n",
      "\u001b[0;31mTypeError\u001b[0m: Invalid dimensions for image data"
     ]
    },
    {
     "data": {
      "image/png": "[encoded data removed]",
      "text/plain": [
       "<Figure size 432x288 with 1 Axes>"
      ]
     },
     "metadata": {
      "needs_background": "light"
     },
     "output_type": "display_data"
    }
   ],
   "source": [
    "plt.imshow(S)"
   ]
  },
  {
   "cell_type": "code",
   "execution_count": 39,
   "metadata": {},
   "outputs": [
    {
     "data": {
      "image/png": "[encoded data removed]",
      "text/plain": [
       "<Figure size 432x288 with 1 Axes>"
      ]
     },
     "metadata": {
      "needs_background": "light"
     },
     "output_type": "display_data"
    }
   ],
   "source": [
    "for word, word_id in word_to_id.items():\n",
    "    plt.annotate(word, (U[word_id, 0], U[word_id, 1]))\n",
    "    \n",
    "plt.scatter(U[:, 0], U[:, 1], alpha=0.5)\n",
    "plt.show()"
   ]
  },
  {
   "cell_type": "code",
   "execution_count": 40,
   "metadata": {},
   "outputs": [
    {
     "name": "stdout",
     "output_type": "stream",
     "text": [
      "corpus size: 929589\n",
      "corpus[:30]: [ 0  1  2  3  4  5  6  7  8  9 10 11 12 13 14 15 16 17 18 19 20 21 22 23\n",
      " 24 25 26 27 28 29]\n",
      "\n",
      "id_to_word[0]: aer\n",
      "id_to_word[1]: banknote\n",
      "id_to_word[2]: berlitz\n",
      "\n",
      "word_to_id[\"car\"]: 3856\n",
      "word_to_id[\"happy\"] 4428\n",
      "word_to_id[\"lexus\"] 7426\n"
     ]
    }
   ],
   "source": [
    "from dataset import ptb\n",
    "\n",
    "# importlib.reload(ptb)\n",
    "\n",
    "corpus, word_to_id, id_to_word = ptb.load_data('train')\n",
    "print('corpus size:', len(corpus))\n",
    "print('corpus[:30]:', corpus[:30])\n",
    "print()\n",
    "print('id_to_word[0]:', id_to_word[0])\n",
    "print('id_to_word[1]:', id_to_word[1])\n",
    "print('id_to_word[2]:', id_to_word[2])\n",
    "print()\n",
    "print('word_to_id[\"car\"]:', word_to_id['car'])\n",
    "print('word_to_id[\"happy\"]', word_to_id[\"happy\"])\n",
    "print('word_to_id[\"lexus\"]', word_to_id[\"lexus\"])"
   ]
  },
  {
   "cell_type": "code",
   "execution_count": 41,
   "metadata": {},
   "outputs": [],
   "source": [
    "window_size = 2\n",
    "wordvec_size = 100\n",
    "\n",
    "corpus, word_to_id, id_to_word = ptb.load_data('train')\n",
    "vocab_size = len(word_to_id)"
   ]
  },
  {
   "cell_type": "code",
   "execution_count": null,
   "metadata": {},
   "outputs": [
    {
     "name": "stdout",
     "output_type": "stream",
     "text": [
      "counting co-occurrence ...\n",
      "calculating PPMI ...\n",
      "1.0 done\n",
      "2.0 done\n",
      "3.0 done\n",
      "4.0 done\n",
      "5.0 done\n",
      "6.0 done\n",
      "7.0 done\n",
      "8.0 done\n",
      "9.0 done\n",
      "10.0 done\n",
      "11.0 done\n",
      "12.0 done\n",
      "13.0 done\n",
      "14.0 done\n",
      "15.0 done\n",
      "16.0 done\n",
      "17.0 done\n",
      "18.0 done\n",
      "19.0 done\n",
      "20.0 done\n",
      "21.0 done\n",
      "22.0 done\n",
      "23.0 done\n",
      "24.0 done\n",
      "25.0 done\n",
      "26.0 done\n",
      "27.0 done\n",
      "28.0 done\n",
      "29.0 done\n",
      "30.0 done\n",
      "31.0 done\n",
      "32.0 done\n",
      "33.0 done\n",
      "34.0 done\n",
      "35.0 done\n",
      "36.0 done\n",
      "37.0 done\n",
      "38.0 done\n",
      "39.0 done\n",
      "40.0 done\n",
      "41.0 done\n",
      "42.0 done\n",
      "43.0 done\n"
     ]
    }
   ],
   "source": [
    "print('counting co-occurrence ...')\n",
    "C = create_co_matrix(corpus, vocab_size, window_size)\n",
    "print('calculating PPMI ...')\n",
    "W = ppmi(C, verbose=True)\n",
    "\n",
    "print('calculating SVD ...')\n",
    "try:\n",
    "    from sklearn.utils.extmath import randomized_svd\n",
    "    U, S, V = randomized_svd(W, n_components=wordvec_size, n_iter=5, random_state=None)\n",
    "except ImportError:\n",
    "    U, S, V = np.linalg.svd(W)\n",
    "\n",
    "word_vecs = U[:, :wordvec_size]\n",
    "\n",
    "querys = ['you', 'year', 'car', 'toyota']\n",
    "for query in querys:\n",
    "    most_similar(query, word_to_id, id_to_word, word_vecs, top=5)"
   ]
  },
  {
   "cell_type": "code",
   "execution_count": null,
   "metadata": {},
   "outputs": [],
   "source": []
  }
 ],
 "metadata": {
  "kernelspec": {
   "display_name": "Python 3",
   "language": "python",
   "name": "python3"
  },
  "language_info": {
   "codemirror_mode": {
    "name": "ipython",
    "version": 3
   },
   "file_extension": ".py",
   "mimetype": "text/x-python",
   "name": "python",
   "nbconvert_exporter": "python",
   "pygments_lexer": "ipython3",
   "version": "3.7.3"
  }
 },
 "nbformat": 4,
 "nbformat_minor": 2
}
