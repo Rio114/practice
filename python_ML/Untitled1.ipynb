{
 "cells": [
  {
   "cell_type": "code",
   "execution_count": 1,
   "metadata": {},
   "outputs": [],
   "source": [
    "import struct\n",
    "from PIL import Image, ImageEnhance\n",
    "import glob, os\n",
    "\n",
    "outdir = 'png-etl1/'\n",
    "if not os.path.exists(outdir): os.mkdir(outdir)\n",
    "\n"
   ]
  },
  {
   "cell_type": "code",
   "execution_count": 2,
   "metadata": {},
   "outputs": [
    {
     "name": "stdout",
     "output_type": "stream",
     "text": [
      "ETL1\\ETL1C_01\n",
      "ETL1\\ETL1C_02\n",
      "ETL1\\ETL1C_03\n",
      "ETL1\\ETL1C_04\n",
      "ETL1\\ETL1C_05\n",
      "ETL1\\ETL1C_06\n",
      "ETL1\\ETL1C_07\n",
      "ETL1\\ETL1C_08\n",
      "ETL1\\ETL1C_09\n",
      "ETL1\\ETL1C_10\n",
      "ETL1\\ETL1C_11\n",
      "ETL1\\ETL1C_12\n",
      "ETL1\\ETL1C_13\n",
      "ETL1\\ETL1INFO\n"
     ]
    },
    {
     "ename": "error",
     "evalue": "unpack requires a buffer of 2052 bytes",
     "output_type": "error",
     "traceback": [
      "\u001b[1;31m---------------------------------------------------------------------------\u001b[0m",
      "\u001b[1;31merror\u001b[0m                                     Traceback (most recent call last)",
      "\u001b[1;32m<ipython-input-2-1af06e54bac6>\u001b[0m in \u001b[0;36m<module>\u001b[1;34m()\u001b[0m\n\u001b[0;32m      8\u001b[0m         \u001b[0ms\u001b[0m \u001b[1;33m=\u001b[0m \u001b[0mf\u001b[0m\u001b[1;33m.\u001b[0m\u001b[0mread\u001b[0m\u001b[1;33m(\u001b[0m\u001b[1;36m2052\u001b[0m\u001b[1;33m)\u001b[0m\u001b[1;33m\u001b[0m\u001b[0m\n\u001b[0;32m      9\u001b[0m         \u001b[1;32mif\u001b[0m \u001b[1;32mnot\u001b[0m \u001b[0ms\u001b[0m\u001b[1;33m:\u001b[0m \u001b[1;32mbreak\u001b[0m\u001b[1;33m\u001b[0m\u001b[0m\n\u001b[1;32m---> 10\u001b[1;33m         \u001b[0mr\u001b[0m \u001b[1;33m=\u001b[0m \u001b[0mstruct\u001b[0m\u001b[1;33m.\u001b[0m\u001b[0munpack\u001b[0m\u001b[1;33m(\u001b[0m\u001b[1;34m'>H2sHBs4sI4H4B2H2016sI'\u001b[0m\u001b[1;33m,\u001b[0m \u001b[0ms\u001b[0m\u001b[1;33m)\u001b[0m\u001b[1;33m\u001b[0m\u001b[0m\n\u001b[0m\u001b[0;32m     11\u001b[0m         \u001b[0mcode_ascii\u001b[0m \u001b[1;33m=\u001b[0m \u001b[0mr\u001b[0m\u001b[1;33m[\u001b[0m\u001b[1;36m1\u001b[0m\u001b[1;33m]\u001b[0m\u001b[1;33m\u001b[0m\u001b[0m\n\u001b[0;32m     12\u001b[0m         \u001b[0mcode_jis\u001b[0m \u001b[1;33m=\u001b[0m \u001b[0mr\u001b[0m\u001b[1;33m[\u001b[0m\u001b[1;36m3\u001b[0m\u001b[1;33m]\u001b[0m\u001b[1;33m\u001b[0m\u001b[0m\n",
      "\u001b[1;31merror\u001b[0m: unpack requires a buffer of 2052 bytes"
     ]
    }
   ],
   "source": [
    "files = glob.glob('ETL1/*')\n",
    "for fname in files:\n",
    "    if fname == 'ETL1/ETL1INFO': continue\n",
    "    print(fname)\n",
    "    f = open(fname, 'rb')\n",
    "    f.seek(0)\n",
    "    while True:\n",
    "        s = f.read(2052)\n",
    "        if not s: break\n",
    "        r = struct.unpack('>H2sHBs4sI4H4B2H2016sI', s)\n",
    "        code_ascii = r[1]\n",
    "        code_jis = r[3]\n",
    "        iF = Image.frombytes('F', (64, 63), r[17], 'bit', 4)\n",
    "        iP = iF.convert('L')\n",
    "\n",
    "        dir = outdir + '/' + str(code_jis)\n",
    "        if not os.path.exists(dir): os.mkdir(dir)\n",
    "        fn = '{0:02x}-{1:02x}{2:04x}.png'.format(code_jis, r[0], r[2])\n",
    "        fullpath = dir + '/' + fn\n",
    "        if os.path.exists(fullpath): continue\n",
    "        enhancer = ImageEnhance.Brightness(iP)\n",
    "        iE = enhancer.enhance(16)\n",
    "        iE.save(fullpath, 'PNG')\n",
    "print('done.')"
   ]
  },
  {
   "cell_type": "code",
   "execution_count": null,
   "metadata": {},
   "outputs": [],
   "source": []
  }
 ],
 "metadata": {
  "kernelspec": {
   "display_name": "Python 3",
   "language": "python",
   "name": "python3"
  },
  "language_info": {
   "codemirror_mode": {
    "name": "ipython",
    "version": 3
   },
   "file_extension": ".py",
   "mimetype": "text/x-python",
   "name": "python",
   "nbconvert_exporter": "python",
   "pygments_lexer": "ipython3",
   "version": "3.6.4"
  }
 },
 "nbformat": 4,
 "nbformat_minor": 2
}
