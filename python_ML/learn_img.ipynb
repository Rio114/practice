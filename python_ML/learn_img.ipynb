{
 "cells": [
  {
   "cell_type": "code",
   "execution_count": 29,
   "metadata": {},
   "outputs": [],
   "source": [
    "import numpy as np \n",
    "import cv2, pickle\n",
    "from sklearn.model_selection import train_test_split\n",
    "import keras"
   ]
  },
  {
   "cell_type": "code",
   "execution_count": 30,
   "metadata": {},
   "outputs": [],
   "source": [
    "data_file = './png-etl1/katakana.pickle'\n",
    "im_size = 25\n",
    "in_size = im_size * im_size\n",
    "out_size = 46\n",
    "\n",
    "data = pickle.load(open(data_file, 'rb'))"
   ]
  },
  {
   "cell_type": "code",
   "execution_count": 31,
   "metadata": {},
   "outputs": [],
   "source": [
    "y = []\n",
    "x = []\n",
    "for d in data:\n",
    "    (num, img) = d\n",
    "    img = img.reshape(-1).astype('float') / 255\n",
    "    y.append(keras.utils.np_utils.to_categorical(num, out_size))\n",
    "    x.append(img)\n",
    "x = np.array(x)\n",
    "y = np.array(y)"
   ]
  },
  {
   "cell_type": "code",
   "execution_count": null,
   "metadata": {},
   "outputs": [],
   "source": [
    "x_train, x_test, y_train, y_test = train_test_split(x, y, test_size=0.2, shuffle=True)\n",
    "\n",
    "Dense = keras.layers.Dense\n",
    "model = keras.models.Sequential()\n",
    "model.add(Dense(512, activation='relu', input_shape=(in_size, )))\n",
    "model.add(Dense(out_size, activation='softmax'))\n",
    "\n",
    "model.compile(\n",
    "    loss='categorical_crossentropy',\n",
    "    optimizer='adam',\n",
    "    metrics=['accuracy']\n",
    ")\n"
   ]
  },
  {
   "cell_type": "code",
   "execution_count": null,
   "metadata": {},
   "outputs": [
    {
     "name": "stdout",
     "output_type": "stream",
     "text": [
      "Train on 55309 samples, validate on 13828 samples\n",
      "Epoch 1/50\n",
      "55309/55309 [==============================] - 36s 647us/step - loss: 2.2270 - acc: 0.4326 - val_loss: 1.3568 - val_acc: 0.6461\n",
      "Epoch 2/50\n",
      "55309/55309 [==============================] - 37s 661us/step - loss: 1.0100 - acc: 0.7375 - val_loss: 0.8301 - val_acc: 0.7847\n",
      "Epoch 3/50\n",
      "55309/55309 [==============================] - 37s 670us/step - loss: 0.6719 - acc: 0.8233 - val_loss: 0.6957 - val_acc: 0.8093\n",
      "Epoch 4/50\n",
      "55309/55309 [==============================] - 36s 643us/step - loss: 0.5209 - acc: 0.8605 - val_loss: 0.5731 - val_acc: 0.8418\n",
      "Epoch 5/50\n",
      "55309/55309 [==============================] - 34s 617us/step - loss: 0.4280 - acc: 0.8842 - val_loss: 0.4944 - val_acc: 0.8698\n",
      "Epoch 6/50\n",
      "55309/55309 [==============================] - 34s 617us/step - loss: 0.3616 - acc: 0.9015 - val_loss: 0.4999 - val_acc: 0.8622\n",
      "Epoch 7/50\n",
      "55309/55309 [==============================] - 36s 656us/step - loss: 0.3159 - acc: 0.9131 - val_loss: 0.4417 - val_acc: 0.8826\n",
      "Epoch 8/50\n",
      "55309/55309 [==============================] - 34s 612us/step - loss: 0.2756 - acc: 0.9243 - val_loss: 0.4341 - val_acc: 0.8843\n",
      "Epoch 9/50\n",
      "55309/55309 [==============================] - 38s 682us/step - loss: 0.2458 - acc: 0.9317 - val_loss: 0.4160 - val_acc: 0.8911\n",
      "Epoch 10/50\n",
      "55309/55309 [==============================] - 18s 332us/step - loss: 0.2183 - acc: 0.9400 - val_loss: 0.4705 - val_acc: 0.8763\n",
      "Epoch 11/50\n",
      "55309/55309 [==============================] - 18s 334us/step - loss: 0.1955 - acc: 0.9463 - val_loss: 0.4509 - val_acc: 0.8819\n",
      "Epoch 12/50\n",
      "55309/55309 [==============================] - 18s 326us/step - loss: 0.1784 - acc: 0.9503 - val_loss: 0.4274 - val_acc: 0.8896\n",
      "Epoch 13/50\n",
      "55309/55309 [==============================] - 19s 338us/step - loss: 0.1655 - acc: 0.9533 - val_loss: 0.4253 - val_acc: 0.8907\n",
      "Epoch 14/50\n",
      "55309/55309 [==============================] - 18s 328us/step - loss: 0.1519 - acc: 0.9579 - val_loss: 0.4707 - val_acc: 0.8784\n",
      "Epoch 15/50\n",
      "55309/55309 [==============================] - 18s 331us/step - loss: 0.1377 - acc: 0.9617 - val_loss: 0.4246 - val_acc: 0.8946\n",
      "Epoch 16/50\n",
      "55309/55309 [==============================] - 18s 329us/step - loss: 0.1301 - acc: 0.9638 - val_loss: 0.4326 - val_acc: 0.8951\n",
      "Epoch 17/50\n",
      "55309/55309 [==============================] - 18s 333us/step - loss: 0.1206 - acc: 0.9664 - val_loss: 0.4466 - val_acc: 0.8933\n",
      "Epoch 18/50\n",
      "55309/55309 [==============================] - 19s 339us/step - loss: 0.1161 - acc: 0.9681 - val_loss: 0.4343 - val_acc: 0.8953\n",
      "Epoch 19/50\n",
      "55309/55309 [==============================] - 20s 361us/step - loss: 0.1073 - acc: 0.9694 - val_loss: 0.4830 - val_acc: 0.8876\n",
      "Epoch 20/50\n",
      "55309/55309 [==============================] - 19s 351us/step - loss: 0.1021 - acc: 0.9710 - val_loss: 0.4433 - val_acc: 0.8966\n",
      "Epoch 21/50\n",
      "55309/55309 [==============================] - 19s 350us/step - loss: 0.0980 - acc: 0.9719 - val_loss: 0.4571 - val_acc: 0.8979\n",
      "Epoch 22/50\n",
      "55309/55309 [==============================] - 19s 352us/step - loss: 0.0906 - acc: 0.9739 - val_loss: 0.4647 - val_acc: 0.8931\n",
      "Epoch 23/50\n",
      "55309/55309 [==============================] - 20s 354us/step - loss: 0.0942 - acc: 0.9729 - val_loss: 0.4816 - val_acc: 0.8959\n",
      "Epoch 24/50\n",
      "55309/55309 [==============================] - 19s 346us/step - loss: 0.0876 - acc: 0.9741 - val_loss: 0.5152 - val_acc: 0.8874\n",
      "Epoch 25/50\n",
      "55309/55309 [==============================] - 19s 345us/step - loss: 0.0818 - acc: 0.9768 - val_loss: 0.4669 - val_acc: 0.8962\n",
      "Epoch 26/50\n",
      "55309/55309 [==============================] - 19s 345us/step - loss: 0.0827 - acc: 0.9764 - val_loss: 0.4611 - val_acc: 0.8998\n",
      "Epoch 27/50\n",
      "55309/55309 [==============================] - 19s 340us/step - loss: 0.0752 - acc: 0.9778 - val_loss: 0.5083 - val_acc: 0.8938\n",
      "Epoch 28/50\n",
      "55309/55309 [==============================] - 19s 337us/step - loss: 0.0739 - acc: 0.9789 - val_loss: 0.4873 - val_acc: 0.8996\n",
      "Epoch 29/50\n",
      "55309/55309 [==============================] - 19s 342us/step - loss: 0.0708 - acc: 0.9791 - val_loss: 0.4819 - val_acc: 0.9014\n",
      "Epoch 30/50\n",
      "55309/55309 [==============================] - 19s 345us/step - loss: 0.0665 - acc: 0.9803 - val_loss: 0.5006 - val_acc: 0.9008\n",
      "Epoch 31/50\n",
      "55309/55309 [==============================] - 19s 342us/step - loss: 0.0725 - acc: 0.9783 - val_loss: 0.5294 - val_acc: 0.8946\n",
      "Epoch 32/50\n",
      "55309/55309 [==============================] - 19s 335us/step - loss: 0.0650 - acc: 0.9813 - val_loss: 0.4880 - val_acc: 0.9040\n",
      "Epoch 33/50\n",
      "55309/55309 [==============================] - 18s 332us/step - loss: 0.0649 - acc: 0.9817 - val_loss: 0.4896 - val_acc: 0.9056\n",
      "Epoch 34/50\n",
      "55309/55309 [==============================] - 19s 340us/step - loss: 0.0645 - acc: 0.9812 - val_loss: 0.5253 - val_acc: 0.8943\n",
      "Epoch 35/50\n",
      "55309/55309 [==============================] - 19s 344us/step - loss: 0.0597 - acc: 0.9824 - val_loss: 0.5426 - val_acc: 0.8960\n",
      "Epoch 36/50\n",
      "55309/55309 [==============================] - 19s 341us/step - loss: 0.0622 - acc: 0.9816 - val_loss: 0.5544 - val_acc: 0.8950\n",
      "Epoch 37/50\n",
      "55309/55309 [==============================] - 19s 345us/step - loss: 0.0588 - acc: 0.9824 - val_loss: 0.5322 - val_acc: 0.9008\n",
      "Epoch 38/50\n",
      "55309/55309 [==============================] - 19s 342us/step - loss: 0.0567 - acc: 0.9830 - val_loss: 0.5349 - val_acc: 0.8960\n",
      "Epoch 39/50\n",
      "55309/55309 [==============================] - 19s 350us/step - loss: 0.0586 - acc: 0.9831 - val_loss: 0.5117 - val_acc: 0.9028\n",
      "Epoch 40/50\n",
      "55309/55309 [==============================] - 19s 348us/step - loss: 0.0515 - acc: 0.9853 - val_loss: 0.5607 - val_acc: 0.8959\n",
      "Epoch 41/50\n",
      "55309/55309 [==============================] - 18s 327us/step - loss: 0.0563 - acc: 0.9834 - val_loss: 0.5513 - val_acc: 0.8972\n",
      "Epoch 42/50\n",
      "55309/55309 [==============================] - 18s 330us/step - loss: 0.0535 - acc: 0.9843 - val_loss: 0.5836 - val_acc: 0.8952\n",
      "Epoch 43/50\n",
      "55309/55309 [==============================] - 19s 336us/step - loss: 0.0513 - acc: 0.9849 - val_loss: 0.5596 - val_acc: 0.9006\n",
      "Epoch 44/50\n",
      "55309/55309 [==============================] - 19s 340us/step - loss: 0.0558 - acc: 0.9842 - val_loss: 0.5374 - val_acc: 0.9046\n",
      "Epoch 45/50\n",
      "55309/55309 [==============================] - 19s 344us/step - loss: 0.0477 - acc: 0.9856 - val_loss: 0.5600 - val_acc: 0.9011\n",
      "Epoch 46/50\n",
      "55309/55309 [==============================] - 19s 341us/step - loss: 0.0514 - acc: 0.9850 - val_loss: 0.5689 - val_acc: 0.9028\n",
      "Epoch 47/50\n",
      "55309/55309 [==============================] - 19s 352us/step - loss: 0.0505 - acc: 0.9851 - val_loss: 0.5929 - val_acc: 0.8983\n",
      "Epoch 48/50\n",
      "27480/55309 [=============>................] - ETA: 9s - loss: 0.0464 - acc: 0.9862"
     ]
    }
   ],
   "source": [
    "model.fit(\n",
    "    x_train, \n",
    "    y_train, \n",
    "    batch_size=20, \n",
    "    epochs=50, \n",
    "    verbose=1, \n",
    "    validation_data=(x_test, y_test)\n",
    ")\n",
    "\n",
    "score = model.evaluate(x_test, y_test, verbose=1)\n",
    "print('acc:', score[1], '.  loss:', score[0])"
   ]
  },
  {
   "cell_type": "code",
   "execution_count": null,
   "metadata": {},
   "outputs": [],
   "source": [
    "img"
   ]
  },
  {
   "cell_type": "code",
   "execution_count": 28,
   "metadata": {},
   "outputs": [
    {
     "data": {
      "text/plain": [
       "(25, 25, 3)"
      ]
     },
     "execution_count": 28,
     "metadata": {},
     "output_type": "execute_result"
    }
   ],
   "source": [
    "data[0][1].shape"
   ]
  },
  {
   "cell_type": "code",
   "execution_count": null,
   "metadata": {},
   "outputs": [],
   "source": []
  }
 ],
 "metadata": {
  "kernelspec": {
   "display_name": "Python 3",
   "language": "python",
   "name": "python3"
  },
  "language_info": {
   "codemirror_mode": {
    "name": "ipython",
    "version": 3
   },
   "file_extension": ".py",
   "mimetype": "text/x-python",
   "name": "python",
   "nbconvert_exporter": "python",
   "pygments_lexer": "ipython3",
   "version": "3.7.0"
  }
 },
 "nbformat": 4,
 "nbformat_minor": 2
}
