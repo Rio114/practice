{
 "cells": [
  {
   "cell_type": "code",
   "execution_count": 1,
   "metadata": {},
   "outputs": [],
   "source": [
    "import numpy as np\n",
    "import matplotlib.pyplot as plt"
   ]
  },
  {
   "cell_type": "code",
   "execution_count": 2,
   "metadata": {},
   "outputs": [
    {
     "name": "stderr",
     "output_type": "stream",
     "text": [
      "/anaconda3/lib/python3.6/site-packages/h5py/__init__.py:36: FutureWarning: Conversion of the second argument of issubdtype from `float` to `np.floating` is deprecated. In future, it will be treated as `np.float64 == np.dtype(float).type`.\n",
      "  from ._conv import register_converters as _register_converters\n",
      "Using TensorFlow backend.\n"
     ]
    }
   ],
   "source": [
    "from keras.models import Sequential\n",
    "from keras.layers.core import Dense, Activation\n",
    "from keras.layers.recurrent import LSTM\n",
    "from keras.optimizers import Adam\n",
    "from keras.callbacks import EarlyStopping"
   ]
  },
  {
   "cell_type": "code",
   "execution_count": 29,
   "metadata": {},
   "outputs": [],
   "source": [
    "max_len = 30"
   ]
  },
  {
   "cell_type": "code",
   "execution_count": 30,
   "metadata": {},
   "outputs": [],
   "source": [
    "def sin(x, T=100):\n",
    "    return np.sin(2.0 * np.pi * x / T) + np.sin(1.0 * np.pi * x / 3.0 / T) \n",
    "\n",
    "def toy_problem(T=100, ampl=0.05, n=350):\n",
    "    x = np.arange(0, 2 * n + 1)\n",
    "    noise = ampl * np.random.uniform(low=-1.0, high=1.0, size=len(x))\n",
    "    return sin(x, T) + noise\n",
    "\n",
    "f = toy_problem()"
   ]
  },
  {
   "cell_type": "code",
   "execution_count": 31,
   "metadata": {},
   "outputs": [],
   "source": [
    "def make_dataset(raw_data, max_len=max_len):\n",
    "    data_list, target_list = [], []\n",
    "    \n",
    "    for i in range(len(raw_data) - max_len):\n",
    "        data_list.append(raw_data[i:i+max_len])\n",
    "        target_list.append(raw_data[i+max_len])\n",
    "        \n",
    "    data = np.array(data_list).reshape(len(data_list), max_len, 1)\n",
    "    target = np.array(target_list).reshape(len(data_list), 1)\n",
    "    \n",
    "    return data, target"
   ]
  },
  {
   "cell_type": "code",
   "execution_count": 32,
   "metadata": {},
   "outputs": [],
   "source": [
    "g, h = make_dataset(f)"
   ]
  },
  {
   "cell_type": "code",
   "execution_count": 33,
   "metadata": {},
   "outputs": [
    {
     "name": "stdout",
     "output_type": "stream",
     "text": [
      "(671, 30, 1)\n",
      "(671, 1)\n"
     ]
    }
   ],
   "source": [
    "print(g.shape)\n",
    "print(h.shape)"
   ]
  },
  {
   "cell_type": "code",
   "execution_count": 34,
   "metadata": {},
   "outputs": [],
   "source": [
    "len_seq = g.shape[1]\n",
    "len_out = 1\n",
    "n_hidden = 300\n",
    "\n",
    "model = Sequential()\n",
    "model.add(LSTM(n_hidden, batch_input_shape=(None, len_seq, len_out), return_sequences=False))\n",
    "model.add(Dense(len_out))\n",
    "model.add(Activation(\"linear\"))\n",
    "optimizer = Adam(lr=0.001)\n",
    "model.compile(loss=\"mean_squared_error\", optimizer=optimizer)"
   ]
  },
  {
   "cell_type": "code",
   "execution_count": 35,
   "metadata": {},
   "outputs": [
    {
     "name": "stdout",
     "output_type": "stream",
     "text": [
      "_________________________________________________________________\n",
      "Layer (type)                 Output Shape              Param #   \n",
      "=================================================================\n",
      "lstm_3 (LSTM)                (None, 300)               362400    \n",
      "_________________________________________________________________\n",
      "dense_3 (Dense)              (None, 1)                 301       \n",
      "_________________________________________________________________\n",
      "activation_3 (Activation)    (None, 1)                 0         \n",
      "=================================================================\n",
      "Total params: 362,701\n",
      "Trainable params: 362,701\n",
      "Non-trainable params: 0\n",
      "_________________________________________________________________\n"
     ]
    }
   ],
   "source": [
    "model.summary()"
   ]
  },
  {
   "cell_type": "code",
   "execution_count": 36,
   "metadata": {
    "scrolled": false
   },
   "outputs": [
    {
     "name": "stdout",
     "output_type": "stream",
     "text": [
      "Train on 603 samples, validate on 68 samples\n",
      "Epoch 1/100\n",
      "603/603 [==============================] - 2s 4ms/step - loss: 0.2149 - val_loss: 0.0384\n",
      "Epoch 2/100\n",
      "603/603 [==============================] - 2s 3ms/step - loss: 0.0132 - val_loss: 0.0033\n",
      "Epoch 3/100\n",
      "603/603 [==============================] - 2s 3ms/step - loss: 0.0021 - val_loss: 0.0015\n",
      "Epoch 4/100\n",
      "603/603 [==============================] - 2s 3ms/step - loss: 0.0017 - val_loss: 0.0011\n",
      "Epoch 5/100\n",
      "603/603 [==============================] - 2s 4ms/step - loss: 0.0016 - val_loss: 0.0015\n",
      "Epoch 6/100\n",
      "603/603 [==============================] - 2s 3ms/step - loss: 0.0018 - val_loss: 0.0012\n",
      "Epoch 7/100\n",
      "603/603 [==============================] - 2s 3ms/step - loss: 0.0015 - val_loss: 0.0014\n",
      "Epoch 8/100\n",
      "603/603 [==============================] - 2s 3ms/step - loss: 0.0016 - val_loss: 0.0013\n",
      "Epoch 9/100\n",
      "603/603 [==============================] - 1s 2ms/step - loss: 0.0015 - val_loss: 0.0012\n",
      "Epoch 10/100\n",
      "603/603 [==============================] - 1s 2ms/step - loss: 0.0015 - val_loss: 0.0013\n",
      "Epoch 11/100\n",
      "603/603 [==============================] - 1s 2ms/step - loss: 0.0017 - val_loss: 0.0011\n",
      "Epoch 12/100\n",
      "603/603 [==============================] - 1s 2ms/step - loss: 0.0016 - val_loss: 0.0013\n",
      "Epoch 13/100\n",
      "603/603 [==============================] - 1s 2ms/step - loss: 0.0015 - val_loss: 0.0011\n",
      "Epoch 14/100\n",
      "603/603 [==============================] - 1s 2ms/step - loss: 0.0014 - val_loss: 0.0014\n",
      "Epoch 15/100\n",
      "603/603 [==============================] - 1s 2ms/step - loss: 0.0017 - val_loss: 0.0016\n",
      "Epoch 16/100\n",
      "603/603 [==============================] - 1s 2ms/step - loss: 0.0020 - val_loss: 0.0013\n",
      "Epoch 17/100\n",
      "603/603 [==============================] - 1s 2ms/step - loss: 0.0016 - val_loss: 0.0011\n",
      "Epoch 18/100\n",
      "603/603 [==============================] - 1s 2ms/step - loss: 0.0016 - val_loss: 0.0020\n",
      "Epoch 19/100\n",
      "603/603 [==============================] - 1s 2ms/step - loss: 0.0022 - val_loss: 0.0011\n",
      "Epoch 20/100\n",
      "603/603 [==============================] - 1s 2ms/step - loss: 0.0016 - val_loss: 0.0011\n",
      "Epoch 21/100\n",
      "603/603 [==============================] - 1s 2ms/step - loss: 0.0017 - val_loss: 0.0013\n",
      "Epoch 22/100\n",
      "603/603 [==============================] - 1s 2ms/step - loss: 0.0018 - val_loss: 0.0011\n",
      "Epoch 23/100\n",
      "603/603 [==============================] - 1s 2ms/step - loss: 0.0015 - val_loss: 0.0011\n",
      "Epoch 24/100\n",
      "603/603 [==============================] - 1s 2ms/step - loss: 0.0015 - val_loss: 0.0014\n",
      "Epoch 25/100\n",
      "603/603 [==============================] - 1s 2ms/step - loss: 0.0020 - val_loss: 0.0018\n",
      "Epoch 26/100\n",
      "603/603 [==============================] - 1s 2ms/step - loss: 0.0017 - val_loss: 0.0013\n",
      "Epoch 27/100\n",
      "603/603 [==============================] - 1s 2ms/step - loss: 0.0015 - val_loss: 0.0015\n",
      "Epoch 28/100\n",
      "603/603 [==============================] - 1s 2ms/step - loss: 0.0016 - val_loss: 0.0012\n",
      "Epoch 29/100\n",
      "603/603 [==============================] - 1s 2ms/step - loss: 0.0017 - val_loss: 0.0011\n",
      "Epoch 30/100\n",
      "603/603 [==============================] - 1s 2ms/step - loss: 0.0026 - val_loss: 0.0022\n",
      "Epoch 31/100\n",
      "603/603 [==============================] - 1s 2ms/step - loss: 0.0020 - val_loss: 0.0013\n",
      "Epoch 32/100\n",
      "603/603 [==============================] - 1s 2ms/step - loss: 0.0017 - val_loss: 0.0011\n",
      "Epoch 33/100\n",
      "603/603 [==============================] - 1s 2ms/step - loss: 0.0016 - val_loss: 0.0018\n",
      "Epoch 34/100\n",
      "603/603 [==============================] - 1s 2ms/step - loss: 0.0015 - val_loss: 0.0011\n",
      "Epoch 35/100\n",
      "603/603 [==============================] - 1s 2ms/step - loss: 0.0014 - val_loss: 0.0010\n",
      "Epoch 36/100\n",
      "603/603 [==============================] - 1s 2ms/step - loss: 0.0015 - val_loss: 0.0011\n",
      "Epoch 37/100\n",
      "603/603 [==============================] - 1s 2ms/step - loss: 0.0014 - val_loss: 0.0011\n",
      "Epoch 38/100\n",
      "603/603 [==============================] - 1s 2ms/step - loss: 0.0014 - val_loss: 0.0013\n",
      "Epoch 39/100\n",
      "603/603 [==============================] - 1s 2ms/step - loss: 0.0015 - val_loss: 0.0012\n",
      "Epoch 40/100\n",
      "603/603 [==============================] - 1s 2ms/step - loss: 0.0018 - val_loss: 0.0014\n",
      "Epoch 41/100\n",
      "603/603 [==============================] - 1s 2ms/step - loss: 0.0016 - val_loss: 0.0016\n",
      "Epoch 42/100\n",
      "603/603 [==============================] - 1s 2ms/step - loss: 0.0018 - val_loss: 0.0013\n",
      "Epoch 43/100\n",
      "603/603 [==============================] - 1s 2ms/step - loss: 0.0020 - val_loss: 0.0011\n",
      "Epoch 44/100\n",
      "603/603 [==============================] - 2s 3ms/step - loss: 0.0021 - val_loss: 0.0013\n",
      "Epoch 45/100\n",
      "603/603 [==============================] - 1s 2ms/step - loss: 0.0016 - val_loss: 0.0012\n",
      "Epoch 46/100\n",
      "603/603 [==============================] - 1s 2ms/step - loss: 0.0015 - val_loss: 0.0012\n",
      "Epoch 47/100\n",
      "603/603 [==============================] - 1s 2ms/step - loss: 0.0016 - val_loss: 0.0011\n",
      "Epoch 48/100\n",
      "603/603 [==============================] - 1s 2ms/step - loss: 0.0015 - val_loss: 0.0013\n",
      "Epoch 49/100\n",
      "603/603 [==============================] - 1s 2ms/step - loss: 0.0014 - val_loss: 0.0012\n",
      "Epoch 50/100\n",
      "603/603 [==============================] - 1s 2ms/step - loss: 0.0016 - val_loss: 0.0013\n",
      "Epoch 51/100\n",
      "603/603 [==============================] - 1s 2ms/step - loss: 0.0015 - val_loss: 0.0013\n",
      "Epoch 52/100\n",
      "603/603 [==============================] - 1s 2ms/step - loss: 0.0014 - val_loss: 0.0012\n",
      "Epoch 53/100\n",
      "603/603 [==============================] - 1s 2ms/step - loss: 0.0014 - val_loss: 0.0014\n",
      "Epoch 54/100\n",
      "603/603 [==============================] - 1s 2ms/step - loss: 0.0016 - val_loss: 0.0017\n",
      "Epoch 55/100\n",
      "603/603 [==============================] - 2s 3ms/step - loss: 0.0014 - val_loss: 0.0012\n"
     ]
    },
    {
     "data": {
      "text/plain": [
       "<keras.callbacks.History at 0xb223a6c88>"
      ]
     },
     "execution_count": 36,
     "metadata": {},
     "output_type": "execute_result"
    }
   ],
   "source": [
    "early_stopping = EarlyStopping(monitor='val_loss', mode='auto', patience=20)\n",
    "model.fit(g, h, batch_size=30, epochs=100, validation_split=0.1, callbacks=[early_stopping])"
   ]
  },
  {
   "cell_type": "code",
   "execution_count": 37,
   "metadata": {},
   "outputs": [],
   "source": [
    "pred = model.predict(g)"
   ]
  },
  {
   "cell_type": "code",
   "execution_count": 38,
   "metadata": {},
   "outputs": [
    {
     "data": {
      "image/png": "[encoded data removed]",
      "text/plain": [
       "<Figure size 432x288 with 1 Axes>"
      ]
     },
     "metadata": {},
     "output_type": "display_data"
    }
   ],
   "source": [
    "plt.figure()\n",
    "plt.plot(range(max_len, len(pred)+max_len), pred, color='r', label='predicted_data')\n",
    "plt.plot(range(0, len(f)), f, color='b', label='raw_data')\n",
    "plt.legend()\n",
    "plt.show()"
   ]
  },
  {
   "cell_type": "code",
   "execution_count": 41,
   "metadata": {},
   "outputs": [],
   "source": [
    "pred_list = []\n",
    "x = g[-1,:,:]\n",
    "\n",
    "for _ in range(200):\n",
    "    pred_ = model.predict(x.reshape([1,max_len,1])).reshape([1,1])\n",
    "    pred_list.append(pred_)\n",
    "    x = np.vstack([x[1:], pred_])\n",
    "\n",
    "pred_feature = np.array(pred_list).reshape(-1)"
   ]
  },
  {
   "cell_type": "code",
   "execution_count": 42,
   "metadata": {},
   "outputs": [
    {
     "data": {
      "image/png": "[encoded data removed]",
      "text/plain": [
       "<Figure size 432x288 with 1 Axes>"
      ]
     },
     "metadata": {},
     "output_type": "display_data"
    }
   ],
   "source": [
    "plt.figure()\n",
    "plt.plot(range(max_len, len(pred)+max_len), pred, color='r', label='predicted_backdata')\n",
    "plt.plot(range( len(f),  len(f)+len(pred_feature)), pred_feature, color='g', label='predicted_feature')\n",
    "plt.plot(range(0, len(f)), f, color='b', label='raw_data')\n",
    "plt.legend()\n",
    "plt.show()"
   ]
  },
  {
   "cell_type": "code",
   "execution_count": null,
   "metadata": {},
   "outputs": [],
   "source": []
  },
  {
   "cell_type": "code",
   "execution_count": null,
   "metadata": {},
   "outputs": [],
   "source": []
  }
 ],
 "metadata": {
  "kernelspec": {
   "display_name": "Python 3",
   "language": "python",
   "name": "python3"
  },
  "language_info": {
   "codemirror_mode": {
    "name": "ipython",
    "version": 3
   },
   "file_extension": ".py",
   "mimetype": "text/x-python",
   "name": "python",
   "nbconvert_exporter": "python",
   "pygments_lexer": "ipython3",
   "version": "3.6.5"
  }
 },
 "nbformat": 4,
 "nbformat_minor": 2
}
