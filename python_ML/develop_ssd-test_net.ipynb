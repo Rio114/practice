{
 "cells": [
  {
   "cell_type": "code",
   "execution_count": 1,
   "metadata": {},
   "outputs": [
    {
     "name": "stderr",
     "output_type": "stream",
     "text": [
      "Using TensorFlow backend.\n"
     ]
    }
   ],
   "source": [
    "from keras.models import Sequential\n",
    "from keras.layers import Conv2D\n",
    "from keras.layers import MaxPooling2D\n",
    "from keras.layers import GlobalAveragePooling2D\n",
    "from keras.layers import Dense\n",
    "from keras.layers import Input, Dense\n",
    "from keras.models import Model\n",
    "from keras.layers import Flatten\n",
    "from keras.layers import merge\n",
    "from keras.layers import Reshape\n",
    "from keras.layers import Activation\n",
    "from keras.layers import concatenate\n",
    "from keras.layers import Concatenate\n",
    "\n",
    "from ssd_layer import DefaultBox\n",
    "\n",
    "import keras.backend as K\n",
    "import tensorflow as tf"
   ]
  },
  {
   "cell_type": "code",
   "execution_count": 2,
   "metadata": {},
   "outputs": [],
   "source": [
    "# define IO shapes\n",
    "img_size = (300, 300, 3)\n",
    "num_classes = 3"
   ]
  },
  {
   "cell_type": "code",
   "execution_count": 3,
   "metadata": {},
   "outputs": [],
   "source": [
    "## root model\n",
    "net = {}\n",
    "\n",
    "# Input\n",
    "net['inputs'] = Input(shape=img_size, name='input')\n",
    "\n",
    "# Block 1\n",
    "net['conv1_1'] = Conv2D(64, (3, 3),activation='relu',padding='same',name='conv1_1')(net['inputs'])\n",
    "net['conv1_2'] = Conv2D(64, (3, 3),activation='relu',padding='same',name='conv1_2')(net['conv1_1'])\n",
    "net['pool1'] = MaxPooling2D((2,2),strides=(2,2),padding='same',name='pool1')(net['conv1_2'])\n",
    "\n",
    "# # Block 2\n",
    "net['conv2_1'] = Conv2D(128, (3, 3),activation='relu',padding='same',name='conv2_1')(net['pool1'])\n",
    "net['conv2_2'] = Conv2D(128, (3, 3),activation='relu',padding='same',name='conv2_2')(net['conv2_1'])\n",
    "net['pool2'] = MaxPooling2D((2, 2), strides=(2, 2), padding='same',name='pool2')(net['conv2_2'])\n",
    "\n",
    "# # FC3\n",
    "net['fc3'] = Conv2D(1024, (3, 3), dilation_rate=(6, 6),activation='relu', padding='same',name='fc3')(net['pool2'])\n",
    "\n",
    "# # FC4\n",
    "net['fc4'] = Conv2D(1024, (1, 1), activation='relu',padding='same',name='fc4')(net['fc3'])\n",
    "\n",
    "# # Block 5\n",
    "net['conv5_1'] = Conv2D(128, (3, 3),activation='relu',padding='same',name='conv5_1')(net['fc4'])\n",
    "net['pool5'] = MaxPooling2D((2, 2), strides=(2, 2), padding='same',name='pool5')(net['conv5_1'])\n",
    "\n",
    "# # Block 6\n",
    "net['conv6_1'] = Conv2D(128, (3, 3),activation='relu',padding='same',name='conv6_1')(net['pool5'])\n",
    "net['pool6'] = MaxPooling2D((2, 2), strides=(2, 2), padding='same',name='pool6')(net['conv6_1'])\n",
    "\n",
    "# # Last Pool\n",
    "net['pool7'] = GlobalAveragePooling2D(name='pool7')(net['pool6'])\n",
    "net['dence8'] = Dense(num_classes, activation='softmax', name='dence8')(net['pool7'] )\n",
    "\n",
    "model = Model(net['inputs'], net['dence8'])"
   ]
  },
  {
   "cell_type": "code",
   "execution_count": 4,
   "metadata": {},
   "outputs": [
    {
     "name": "stdout",
     "output_type": "stream",
     "text": [
      "_________________________________________________________________\n",
      "Layer (type)                 Output Shape              Param #   \n",
      "=================================================================\n",
      "input (InputLayer)           (None, 300, 300, 3)       0         \n",
      "_________________________________________________________________\n",
      "conv1_1 (Conv2D)             (None, 300, 300, 64)      1792      \n",
      "_________________________________________________________________\n",
      "conv1_2 (Conv2D)             (None, 300, 300, 64)      36928     \n",
      "_________________________________________________________________\n",
      "pool1 (MaxPooling2D)         (None, 150, 150, 64)      0         \n",
      "_________________________________________________________________\n",
      "conv2_1 (Conv2D)             (None, 150, 150, 128)     73856     \n",
      "_________________________________________________________________\n",
      "conv2_2 (Conv2D)             (None, 150, 150, 128)     147584    \n",
      "_________________________________________________________________\n",
      "pool2 (MaxPooling2D)         (None, 75, 75, 128)       0         \n",
      "_________________________________________________________________\n",
      "fc3 (Conv2D)                 (None, 75, 75, 1024)      1180672   \n",
      "_________________________________________________________________\n",
      "fc4 (Conv2D)                 (None, 75, 75, 1024)      1049600   \n",
      "_________________________________________________________________\n",
      "conv5_1 (Conv2D)             (None, 75, 75, 128)       1179776   \n",
      "_________________________________________________________________\n",
      "pool5 (MaxPooling2D)         (None, 38, 38, 128)       0         \n",
      "_________________________________________________________________\n",
      "conv6_1 (Conv2D)             (None, 38, 38, 128)       147584    \n",
      "_________________________________________________________________\n",
      "pool6 (MaxPooling2D)         (None, 19, 19, 128)       0         \n",
      "_________________________________________________________________\n",
      "pool7 (GlobalAveragePooling2 (None, 128)               0         \n",
      "_________________________________________________________________\n",
      "dence8 (Dense)               (None, 3)                 387       \n",
      "=================================================================\n",
      "Total params: 3,818,179\n",
      "Trainable params: 3,818,179\n",
      "Non-trainable params: 0\n",
      "_________________________________________________________________\n"
     ]
    }
   ],
   "source": [
    "model.summary()"
   ]
  },
  {
   "cell_type": "code",
   "execution_count": 5,
   "metadata": {
    "scrolled": false
   },
   "outputs": [],
   "source": [
    "## branch model for feature map\n",
    "dim_box = 4\n",
    "num_def = 6\n",
    "\n",
    "net['conv5_1_mbox_loc'] = Conv2D(num_def*dim_box,(3,3),padding='same',name='conv5_1_mbox_loc')(net['conv5_1'])\n",
    "net['conv5_1_mbox_loc_flat'] = Flatten(name='conv5_1_mbox_loc_flat')(net['conv5_1_mbox_loc'])\n",
    "\n",
    "net['conv5_1_mbox_conf'] = Conv2D(num_def*num_classes,(3,3),padding='same',name='conv5_1_mbox_conf')(net['conv5_1'])\n",
    "net['conv5_1_mbox_conf_flat'] = Flatten(name='conv5_1_mbox_conf_flat')(net['conv5_1_mbox_conf'])\n",
    "\n",
    "net['pool6_mbox_loc'] = Conv2D(num_def*dim_box,(3,3),padding='same',name='pool6_mbox_loc')(net['pool6'])\n",
    "net['pool6_mbox_loc_flat'] = Flatten(name='pool6_mbox_loc_flat')(net['pool6_mbox_loc'])\n",
    "\n",
    "net['pool6_mbox_conf'] = Conv2D(num_def*num_classes,(3,3),padding='same',name='pool6_mbox_conf')(net['pool6'])\n",
    "net['pool6_mbox_conf_flat'] = Flatten(name='pool6_mbox_conf_flat')(net['pool6_mbox_conf'])\n",
    "\n",
    "net['mbox_loc'] = concatenate([net['conv5_1_mbox_loc_flat'], net['pool6_mbox_loc_flat']], name='mbox_loc')\n",
    "net['mbox_conf'] = concatenate([net['conv5_1_mbox_conf_flat'],net['pool6_mbox_conf_flat']],name='mbox_conf')\n",
    "\n",
    "net['mbox_loc'] = Reshape((-1, dim_box),name='mbox_loc_final')(net['mbox_loc'])\n",
    "net['mbox_conf'] = Reshape((-1, num_classes),name='mbox_conf_logits')(net['mbox_conf'])\n",
    "net['mbox_conf'] = Activation('softmax',name='mbox_conf_final')(net['mbox_conf'])\n",
    "net['predictions'] = concatenate([net['mbox_loc'], net['mbox_conf']], name='predictions')\n",
    "\n",
    "model_feature_map = Model(net['inputs'], net['predictions'])"
   ]
  },
  {
   "cell_type": "code",
   "execution_count": 6,
   "metadata": {},
   "outputs": [],
   "source": [
    "#model_feature_map.summary()"
   ]
  },
  {
   "cell_type": "code",
   "execution_count": 7,
   "metadata": {
    "scrolled": false
   },
   "outputs": [
    {
     "name": "stdout",
     "output_type": "stream",
     "text": [
      "Tensor(\"conv5_1_mbox_loc_flat_1/Reshape:0\", shape=(?, ?), dtype=float32)\n",
      "Tensor(\"conv5_1_mbox_conf_flat_1/Reshape:0\", shape=(?, ?), dtype=float32)\n",
      "Tensor(\"conv5_1_mbox_defbox/Tile:0\", shape=(?, 33750, 8), dtype=float32)\n",
      "Tensor(\"pool6_mbox_loc_flat_1/Reshape:0\", shape=(?, ?), dtype=float32)\n",
      "Tensor(\"pool6_mbox_conf_flat_1/Reshape:0\", shape=(?, ?), dtype=float32)\n",
      "Tensor(\"pool6_mbox_defbox/Tile:0\", shape=(?, 2166, 8), dtype=float32)\n",
      "Tensor(\"mbox_loc_final_1/Reshape:0\", shape=(?, 35916, 4), dtype=float32)\n",
      "Tensor(\"mbox_conf_final_1/truediv:0\", shape=(?, 35916, 3), dtype=float32)\n"
     ]
    },
    {
     "ename": "ValueError",
     "evalue": "A `Concatenate` layer requires inputs with matching shapes except for the concat axis. Got inputs shapes: [(None, 75, 75, 128), (None, 19, 19, 128)]",
     "output_type": "error",
     "traceback": [
      "\u001b[0;31m---------------------------------------------------------------------------\u001b[0m",
      "\u001b[0;31mValueError\u001b[0m                                Traceback (most recent call last)",
      "\u001b[0;32m<ipython-input-7-ceb6a3153240>\u001b[0m in \u001b[0;36m<module>\u001b[0;34m\u001b[0m\n\u001b[1;32m     39\u001b[0m \u001b[0mprint\u001b[0m\u001b[0;34m(\u001b[0m\u001b[0mnet\u001b[0m\u001b[0;34m[\u001b[0m\u001b[0;34m'mbox_conf'\u001b[0m\u001b[0;34m]\u001b[0m\u001b[0;34m)\u001b[0m\u001b[0;34m\u001b[0m\u001b[0;34m\u001b[0m\u001b[0m\n\u001b[1;32m     40\u001b[0m \u001b[0;34m\u001b[0m\u001b[0m\n\u001b[0;32m---> 41\u001b[0;31m \u001b[0mnet\u001b[0m\u001b[0;34m[\u001b[0m\u001b[0;34m'mbox_defbox'\u001b[0m\u001b[0;34m]\u001b[0m \u001b[0;34m=\u001b[0m \u001b[0mconcatenate\u001b[0m\u001b[0;34m(\u001b[0m\u001b[0;34m[\u001b[0m\u001b[0mnet\u001b[0m\u001b[0;34m[\u001b[0m\u001b[0;34m'conv5_1_mbox_defbox'\u001b[0m\u001b[0;34m]\u001b[0m\u001b[0;34m,\u001b[0m\u001b[0mnet\u001b[0m\u001b[0;34m[\u001b[0m\u001b[0;34m'pool6_mbox_defbox'\u001b[0m\u001b[0;34m]\u001b[0m\u001b[0;34m]\u001b[0m\u001b[0;34m,\u001b[0m\u001b[0mname\u001b[0m\u001b[0;34m=\u001b[0m\u001b[0;34m'mbox_defbox'\u001b[0m\u001b[0;34m,\u001b[0m\u001b[0maxis\u001b[0m\u001b[0;34m=\u001b[0m\u001b[0;36m1\u001b[0m\u001b[0;34m)\u001b[0m\u001b[0;34m\u001b[0m\u001b[0;34m\u001b[0m\u001b[0m\n\u001b[0m\u001b[1;32m     42\u001b[0m \u001b[0mprint\u001b[0m\u001b[0;34m(\u001b[0m\u001b[0mnet\u001b[0m\u001b[0;34m[\u001b[0m\u001b[0;34m'mbox_defbox'\u001b[0m\u001b[0;34m]\u001b[0m\u001b[0;34m)\u001b[0m\u001b[0;34m\u001b[0m\u001b[0;34m\u001b[0m\u001b[0m\n\u001b[1;32m     43\u001b[0m \u001b[0;34m\u001b[0m\u001b[0m\n",
      "\u001b[0;32m~/Documents/python/rec_act/scrape/lib/python3.6/site-packages/keras/layers/merge.py\u001b[0m in \u001b[0;36mconcatenate\u001b[0;34m(inputs, axis, **kwargs)\u001b[0m\n\u001b[1;32m    647\u001b[0m         \u001b[0mA\u001b[0m \u001b[0mtensor\u001b[0m\u001b[0;34m,\u001b[0m \u001b[0mthe\u001b[0m \u001b[0mconcatenation\u001b[0m \u001b[0mof\u001b[0m \u001b[0mthe\u001b[0m \u001b[0minputs\u001b[0m \u001b[0malongside\u001b[0m \u001b[0maxis\u001b[0m\u001b[0;31m \u001b[0m\u001b[0;31m`\u001b[0m\u001b[0maxis\u001b[0m\u001b[0;31m`\u001b[0m\u001b[0;34m.\u001b[0m\u001b[0;34m\u001b[0m\u001b[0;34m\u001b[0m\u001b[0m\n\u001b[1;32m    648\u001b[0m     \"\"\"\n\u001b[0;32m--> 649\u001b[0;31m     \u001b[0;32mreturn\u001b[0m \u001b[0mConcatenate\u001b[0m\u001b[0;34m(\u001b[0m\u001b[0maxis\u001b[0m\u001b[0;34m=\u001b[0m\u001b[0maxis\u001b[0m\u001b[0;34m,\u001b[0m \u001b[0;34m**\u001b[0m\u001b[0mkwargs\u001b[0m\u001b[0;34m)\u001b[0m\u001b[0;34m(\u001b[0m\u001b[0minputs\u001b[0m\u001b[0;34m)\u001b[0m\u001b[0;34m\u001b[0m\u001b[0;34m\u001b[0m\u001b[0m\n\u001b[0m\u001b[1;32m    650\u001b[0m \u001b[0;34m\u001b[0m\u001b[0m\n\u001b[1;32m    651\u001b[0m \u001b[0;34m\u001b[0m\u001b[0m\n",
      "\u001b[0;32m~/Documents/python/rec_act/scrape/lib/python3.6/site-packages/keras/engine/base_layer.py\u001b[0m in \u001b[0;36m__call__\u001b[0;34m(self, inputs, **kwargs)\u001b[0m\n\u001b[1;32m    429\u001b[0m                                          \u001b[0;34m'You can build it manually via: '\u001b[0m\u001b[0;34m\u001b[0m\u001b[0;34m\u001b[0m\u001b[0m\n\u001b[1;32m    430\u001b[0m                                          '`layer.build(batch_input_shape)`')\n\u001b[0;32m--> 431\u001b[0;31m                 \u001b[0mself\u001b[0m\u001b[0;34m.\u001b[0m\u001b[0mbuild\u001b[0m\u001b[0;34m(\u001b[0m\u001b[0munpack_singleton\u001b[0m\u001b[0;34m(\u001b[0m\u001b[0minput_shapes\u001b[0m\u001b[0;34m)\u001b[0m\u001b[0;34m)\u001b[0m\u001b[0;34m\u001b[0m\u001b[0;34m\u001b[0m\u001b[0m\n\u001b[0m\u001b[1;32m    432\u001b[0m                 \u001b[0mself\u001b[0m\u001b[0;34m.\u001b[0m\u001b[0mbuilt\u001b[0m \u001b[0;34m=\u001b[0m \u001b[0;32mTrue\u001b[0m\u001b[0;34m\u001b[0m\u001b[0;34m\u001b[0m\u001b[0m\n\u001b[1;32m    433\u001b[0m \u001b[0;34m\u001b[0m\u001b[0m\n",
      "\u001b[0;32m~/Documents/python/rec_act/scrape/lib/python3.6/site-packages/keras/layers/merge.py\u001b[0m in \u001b[0;36mbuild\u001b[0;34m(self, input_shape)\u001b[0m\n\u001b[1;32m    360\u001b[0m                              \u001b[0;34m'inputs with matching shapes '\u001b[0m\u001b[0;34m\u001b[0m\u001b[0;34m\u001b[0m\u001b[0m\n\u001b[1;32m    361\u001b[0m                              \u001b[0;34m'except for the concat axis. '\u001b[0m\u001b[0;34m\u001b[0m\u001b[0;34m\u001b[0m\u001b[0m\n\u001b[0;32m--> 362\u001b[0;31m                              'Got inputs shapes: %s' % (input_shape))\n\u001b[0m\u001b[1;32m    363\u001b[0m \u001b[0;34m\u001b[0m\u001b[0m\n\u001b[1;32m    364\u001b[0m     \u001b[0;32mdef\u001b[0m \u001b[0m_merge_function\u001b[0m\u001b[0;34m(\u001b[0m\u001b[0mself\u001b[0m\u001b[0;34m,\u001b[0m \u001b[0minputs\u001b[0m\u001b[0;34m)\u001b[0m\u001b[0;34m:\u001b[0m\u001b[0;34m\u001b[0m\u001b[0;34m\u001b[0m\u001b[0m\n",
      "\u001b[0;31mValueError\u001b[0m: A `Concatenate` layer requires inputs with matching shapes except for the concat axis. Got inputs shapes: [(None, 75, 75, 128), (None, 19, 19, 128)]"
     ]
    }
   ],
   "source": [
    "## branch model for feature map\n",
    "\n",
    "net['conv5_1_mbox_loc'] = Conv2D(num_def*dim_box,(3,3),padding='same',name='conv5_1_mbox_loc')(net['conv5_1'])\n",
    "net['conv5_1_mbox_loc_flat'] = Flatten(name='conv5_1_mbox_loc_flat')(net['conv5_1_mbox_loc'])\n",
    "print(net['conv5_1_mbox_loc_flat'])\n",
    "\n",
    "net['conv5_1_mbox_conf'] = Conv2D(num_def*num_classes,(3,3),padding='same',name='conv5_1_mbox_conf')(net['conv5_1'])\n",
    "net['conv5_1_mbox_conf_flat'] = Flatten(name='conv5_1_mbox_conf_flat')(net['conv5_1_mbox_conf'])\n",
    "print(net['conv5_1_mbox_conf_flat'])\n",
    "\n",
    "net['conv5_1_mbox_defbox'] = DefaultBox(img_size, 20, 30, aspect_ratios=[2, 3],variances=[0.1, 0.1, 0.1, 0.1],name='conv5_1_mbox_defbox')(net['conv5_1'])\n",
    "#net['conv5_1_mbox_defbox_flat'] = Flatten(name='conv5_1_mbox_defbox')(net['conv5_1_mbox_defbox'])\n",
    "#net['conv5_1_mbox_defbox'] = Reshape((-1,num_boxes, 8))(net['conv5_1_mbox_defbox'])\n",
    "#net['conv5_1_mbox_defbox'] = K.tile(net['conv5_1_mbox_defbox'],(1,1,1))\n",
    "print(net['conv5_1_mbox_defbox'])\n",
    "\n",
    "net['pool6_mbox_loc'] = Conv2D(num_def*dim_box,(3,3),padding='same',name='pool6_mbox_loc')(net['pool6'])\n",
    "net['pool6_mbox_loc_flat'] = Flatten(name='pool6_mbox_loc_flat')(net['pool6_mbox_loc'])\n",
    "print(net['pool6_mbox_loc_flat'])\n",
    "\n",
    "net['pool6_mbox_conf'] = Conv2D(num_def*num_classes,(3,3),padding='same',name='pool6_mbox_conf')(net['pool6'])\n",
    "net['pool6_mbox_conf_flat'] = Flatten(name='pool6_mbox_conf_flat')(net['pool6_mbox_conf'])\n",
    "print(net['pool6_mbox_conf_flat'])\n",
    "\n",
    "net['pool6_mbox_defbox'] = DefaultBox(img_size, 45, 60, aspect_ratios=[2, 3],variances=[0.1, 0.1, 0.1, 0.1],name='pool6_mbox_defbox')(net['pool6'])\n",
    "#net['pool6_mbox_defbox_flat'] = Flatten(name='pool6_mbox_defbox_flat')(net['pool6_mbox_defbox'])\n",
    "#net['pool6_mbox_defbox'] = Reshape((-1, 8))(net['pool6_mbox_defbox'])\n",
    "#net['pool6_mbox_defbox'] = K.tile(net['pool6_mbox_defbox'],(1,1,1))\n",
    "print(net['pool6_mbox_defbox'])\n",
    "\n",
    "net['mbox_loc'] = concatenate([net['conv5_1_mbox_loc_flat'], net['pool6_mbox_loc_flat']], name='mbox_loc', axis=1)\n",
    "num_boxes = net['mbox_loc']._keras_shape[-1] // 4\n",
    "net['mbox_loc'] = Reshape((num_boxes, dim_box),name='mbox_loc_final')(net['mbox_loc'])\n",
    "print(net['mbox_loc'])\n",
    "\n",
    "net['mbox_conf'] = concatenate([net['conv5_1_mbox_conf_flat'],net['pool6_mbox_conf_flat']],name='mbox_conf', axis=1)\n",
    "net['mbox_conf'] = Reshape((num_boxes, num_classes),name='mbox_conf_logits')(net['mbox_conf'])\n",
    "net['mbox_conf'] = Activation('softmax',name='mbox_conf_final')(net['mbox_conf'])\n",
    "print(net['mbox_conf'])\n",
    "\n",
    "net['mbox_defbox'] = concatenate([net['conv5_1_mbox_defbox'],net['pool6_mbox_defbox']],name='mbox_defbox',axis=1)\n",
    "print(net['mbox_defbox'])\n",
    "\n",
    "#net['predictions'] = concatenate([net['mbox_loc'], net['mbox_conf'], net['mbox_defbox']], name='predictions',axis=2)\n",
    "net['predictions'] = concatenate([net['mbox_loc'], net['mbox_conf'], net['mbox_defbox']], name='predictions',axis=2)\n",
    "print(net['predictions'])\n",
    "\n",
    "model_pred = Model(net['inputs'], net['predictions'])"
   ]
  },
  {
   "cell_type": "code",
   "execution_count": null,
   "metadata": {},
   "outputs": [],
   "source": [
    "model_pred = Model(net['inputs'],net['pool6_mbox_defbox'])\n",
    "model_pred.summary()"
   ]
  },
  {
   "cell_type": "code",
   "execution_count": null,
   "metadata": {},
   "outputs": [],
   "source": [
    "dir(net['pool6_mbox_defbox'])"
   ]
  },
  {
   "cell_type": "code",
   "execution_count": 8,
   "metadata": {},
   "outputs": [
    {
     "data": {
      "text/plain": [
       "<bound method Tensor.set_shape of <tf.Tensor 'pool6_mbox_defbox/Tile:0' shape=(?, 2166, 8) dtype=float32>>"
      ]
     },
     "execution_count": 8,
     "metadata": {},
     "output_type": "execute_result"
    }
   ],
   "source": [
    "net['pool6_mbox_defbox'].set_shape"
   ]
  },
  {
   "cell_type": "code",
   "execution_count": 10,
   "metadata": {},
   "outputs": [
    {
     "ename": "AttributeError",
     "evalue": "'Tensor' object has no attribute 'output'",
     "output_type": "error",
     "traceback": [
      "\u001b[0;31m---------------------------------------------------------------------------\u001b[0m",
      "\u001b[0;31mAttributeError\u001b[0m                            Traceback (most recent call last)",
      "\u001b[0;32m<ipython-input-10-9e645a12f1ec>\u001b[0m in \u001b[0;36m<module>\u001b[0;34m\u001b[0m\n\u001b[0;32m----> 1\u001b[0;31m \u001b[0mnet\u001b[0m\u001b[0;34m[\u001b[0m\u001b[0;34m'pool6_mbox_defbox'\u001b[0m\u001b[0;34m]\u001b[0m\u001b[0;34m.\u001b[0m\u001b[0moutput\u001b[0m\u001b[0;34m\u001b[0m\u001b[0;34m\u001b[0m\u001b[0m\n\u001b[0m",
      "\u001b[0;31mAttributeError\u001b[0m: 'Tensor' object has no attribute 'output'"
     ]
    }
   ],
   "source": [
    "net['pool6_mbox_defbox'].output"
   ]
  },
  {
   "cell_type": "code",
   "execution_count": null,
   "metadata": {},
   "outputs": [],
   "source": []
  }
 ],
 "metadata": {
  "kernelspec": {
   "display_name": "Python 3",
   "language": "python",
   "name": "python3"
  },
  "language_info": {
   "codemirror_mode": {
    "name": "ipython",
    "version": 3
   },
   "file_extension": ".py",
   "mimetype": "text/x-python",
   "name": "python",
   "nbconvert_exporter": "python",
   "pygments_lexer": "ipython3",
   "version": "3.6.7"
  }
 },
 "nbformat": 4,
 "nbformat_minor": 2
}
