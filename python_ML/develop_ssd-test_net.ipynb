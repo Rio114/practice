{
 "cells": [
  {
   "cell_type": "code",
   "execution_count": 1,
   "metadata": {},
   "outputs": [
    {
     "name": "stderr",
     "output_type": "stream",
     "text": [
      "C:\\Users\\Ryoji Nomura\\Anaconda3\\lib\\site-packages\\h5py\\__init__.py:36: FutureWarning: Conversion of the second argument of issubdtype from `float` to `np.floating` is deprecated. In future, it will be treated as `np.float64 == np.dtype(float).type`.\n",
      "  from ._conv import register_converters as _register_converters\n",
      "Using TensorFlow backend.\n"
     ]
    }
   ],
   "source": [
    "from keras.models import Sequential\n",
    "from keras.layers import Conv2D\n",
    "from keras.layers import MaxPooling2D\n",
    "from keras.layers import GlobalAveragePooling2D\n",
    "from keras.layers import Dense\n",
    "from keras.layers import Input, Dense\n",
    "from keras.models import Model\n",
    "from keras.layers import Flatten\n",
    "from keras.layers import merge\n",
    "from keras.layers import Reshape\n",
    "from keras.layers import Activation\n",
    "from keras.layers import concatenate"
   ]
  },
  {
   "cell_type": "code",
   "execution_count": 2,
   "metadata": {},
   "outputs": [],
   "source": [
    "# define IO shapes\n",
    "input_shape = (300, 300, 3)\n",
    "num_classes = 3"
   ]
  },
  {
   "cell_type": "code",
   "execution_count": 3,
   "metadata": {},
   "outputs": [
    {
     "name": "stderr",
     "output_type": "stream",
     "text": [
      "C:\\Users\\Ryoji Nomura\\Anaconda3\\lib\\site-packages\\ipykernel_launcher.py:35: UserWarning: Update your `Model` call to the Keras 2 API: `Model(inputs=Tensor(\"in..., outputs=Tensor(\"de...)`\n"
     ]
    }
   ],
   "source": [
    "## root model\n",
    "net = {}\n",
    "\n",
    "# Input\n",
    "net['inputs'] = Input(shape=input_shape, name='input')\n",
    "\n",
    "# Block 1\n",
    "net['conv1_1'] = Conv2D(64, (3, 3),activation='relu',padding='same',name='conv1_1',input_shape=input_shape)(net['inputs'])\n",
    "net['conv1_2'] = Conv2D(64, (3, 3),activation='relu',padding='same',name='conv1_2')(net['conv1_1'])\n",
    "net['pool1'] = MaxPooling2D((2,2),strides=(2,2),padding='same',name='pool1')(net['conv1_2'])\n",
    "\n",
    "# # Block 2\n",
    "net['conv2_1'] = Conv2D(128, (3, 3),activation='relu',padding='same',name='conv2_1')(net['pool1'])\n",
    "net['conv2_2'] = Conv2D(128, (3, 3),activation='relu',padding='same',name='conv2_2')(net['conv2_1'])\n",
    "net['pool2'] = MaxPooling2D((2, 2), strides=(2, 2), padding='same',name='pool2')(net['conv2_2'])\n",
    "\n",
    "# # FC3\n",
    "net['fc3'] = Conv2D(1024, (3, 3), dilation_rate=(6, 6),activation='relu', padding='same',name='fc3')(net['pool2'])\n",
    "\n",
    "# # FC4\n",
    "net['fc4'] = Conv2D(1024, (1, 1), activation='relu',padding='same',name='fc4')(net['fc3'])\n",
    "\n",
    "# # Block 5\n",
    "net['conv5_1'] = Conv2D(128, (3, 3),activation='relu',padding='same',name='conv5_1')(net['fc4'])\n",
    "net['pool5'] = MaxPooling2D((2, 2), strides=(2, 2), padding='same',name='pool5')(net['conv5_1'])\n",
    "\n",
    "# # Block 6\n",
    "net['conv6_1'] = Conv2D(128, (3, 3),activation='relu',padding='same',name='conv6_1')(net['pool5'])\n",
    "net['pool6'] = MaxPooling2D((2, 2), strides=(2, 2), padding='same',name='pool6')(net['conv6_1'])\n",
    "\n",
    "# # Last Pool\n",
    "net['pool7'] = GlobalAveragePooling2D(name='pool7')(net['pool6'])\n",
    "net['dence8'] = Dense(num_classes, activation='softmax', name='dence8')(net['pool7'] )\n",
    "\n",
    "model = Model(input=net['inputs'], output=net['dence8'])"
   ]
  },
  {
   "cell_type": "code",
   "execution_count": 4,
   "metadata": {},
   "outputs": [
    {
     "name": "stdout",
     "output_type": "stream",
     "text": [
      "_________________________________________________________________\n",
      "Layer (type)                 Output Shape              Param #   \n",
      "=================================================================\n",
      "input (InputLayer)           (None, 300, 300, 3)       0         \n",
      "_________________________________________________________________\n",
      "conv1_1 (Conv2D)             (None, 300, 300, 64)      1792      \n",
      "_________________________________________________________________\n",
      "conv1_2 (Conv2D)             (None, 300, 300, 64)      36928     \n",
      "_________________________________________________________________\n",
      "pool1 (MaxPooling2D)         (None, 150, 150, 64)      0         \n",
      "_________________________________________________________________\n",
      "conv2_1 (Conv2D)             (None, 150, 150, 128)     73856     \n",
      "_________________________________________________________________\n",
      "conv2_2 (Conv2D)             (None, 150, 150, 128)     147584    \n",
      "_________________________________________________________________\n",
      "pool2 (MaxPooling2D)         (None, 75, 75, 128)       0         \n",
      "_________________________________________________________________\n",
      "fc3 (Conv2D)                 (None, 75, 75, 1024)      1180672   \n",
      "_________________________________________________________________\n",
      "fc4 (Conv2D)                 (None, 75, 75, 1024)      1049600   \n",
      "_________________________________________________________________\n",
      "conv5_1 (Conv2D)             (None, 75, 75, 128)       1179776   \n",
      "_________________________________________________________________\n",
      "pool5 (MaxPooling2D)         (None, 38, 38, 128)       0         \n",
      "_________________________________________________________________\n",
      "conv6_1 (Conv2D)             (None, 38, 38, 128)       147584    \n",
      "_________________________________________________________________\n",
      "pool6 (MaxPooling2D)         (None, 19, 19, 128)       0         \n",
      "_________________________________________________________________\n",
      "pool7 (GlobalAveragePooling2 (None, 128)               0         \n",
      "_________________________________________________________________\n",
      "dence8 (Dense)               (None, 3)                 387       \n",
      "=================================================================\n",
      "Total params: 3,818,179\n",
      "Trainable params: 3,818,179\n",
      "Non-trainable params: 0\n",
      "_________________________________________________________________\n"
     ]
    }
   ],
   "source": [
    "model.summary()"
   ]
  },
  {
   "cell_type": "code",
   "execution_count": 5,
   "metadata": {
    "scrolled": false
   },
   "outputs": [
    {
     "name": "stderr",
     "output_type": "stream",
     "text": [
      "C:\\Users\\Ryoji Nomura\\Anaconda3\\lib\\site-packages\\ipykernel_launcher.py:35: UserWarning: Update your `Model` call to the Keras 2 API: `Model(inputs=Tensor(\"in..., outputs=Tensor(\"pr...)`\n"
     ]
    }
   ],
   "source": [
    "## branch model for feature map\n",
    "\n",
    "dim_box = 4\n",
    "\n",
    "num_priors = 6\n",
    "net['conv5_1_mbox_loc'] = Conv2D(num_priors*dim_box,(3,3),padding='same',name='conv5_1_mbox_loc')(net['conv5_1'])\n",
    "net['conv5_1_mbox_loc_flat'] = Flatten(name='conv5_1_mbox_loc_flat')(net['conv5_1_mbox_loc'])\n",
    "\n",
    "net['conv5_1_mbox_conf'] = Conv2D(num_priors*num_classes,(3,3),padding='same',name='conv5_1_mbox_conf')(net['conv5_1'])\n",
    "net['conv5_1_mbox_conf_flat'] = Flatten(name='conv5_1_mbox_conf_flat')(net['conv5_1_mbox_conf'])\n",
    "\n",
    "net['pool6_mbox_loc'] = Conv2D(num_priors*dim_box,(3,3),padding='same',name='pool6_mbox_loc')(net['pool6'])\n",
    "net['pool6_mbox_loc_flat'] = Flatten(name='pool6_mbox_loc_flat')(net['pool6_mbox_loc'])\n",
    "\n",
    "net['pool6_mbox_conf'] = Conv2D(num_priors*num_classes,(3,3),padding='same',name='pool6_mbox_conf')(net['pool6'])\n",
    "net['pool6_mbox_conf_flat'] = Flatten(name='pool6_mbox_conf_flat')(net['pool6_mbox_conf'])\n",
    "\n",
    "# priorbox = PriorBox(img_size, 60.0, max_size=114.0, aspect_ratios=[2, 3],\n",
    "#                     variances=[0.1, 0.1, 0.2, 0.2],\n",
    "#                     name='conv5_1_mbox_priorbox')\n",
    "\n",
    "# net['conv5_1_mbox_priorbox'] = priorbox(net['conv5_1'])\n",
    "\n",
    "net['mbox_loc'] = concatenate([net['conv5_1_mbox_loc_flat'], net['pool6_mbox_loc_flat']], name='mbox_loc')\n",
    "net['mbox_conf'] = concatenate([net['conv5_1_mbox_conf_flat'],net['pool6_mbox_conf_flat']],name='mbox_conf')\n",
    "# net['mbox_conf'] = concatenate([net['conv5_1_mbox_priorbox'],net['pool6_mbox_priorbox']],name='mbox_conf')\n",
    "\n",
    "net['mbox_loc'] = Reshape((-1, dim_box),name='mbox_loc_final')(net['mbox_loc'])\n",
    "net['mbox_conf'] = Reshape((-1, num_classes),name='mbox_conf_logits')(net['mbox_conf'])\n",
    "net['mbox_conf'] = Activation('softmax',name='mbox_conf_final')(net['mbox_conf'])\n",
    "net['predictions'] = concatenate([net['mbox_loc'], net['mbox_conf']], name='predictions')\n",
    "\n",
    "# net['predictions'] = concatenate([net['mbox_loc'], net['mbox_conf'], net['mbox_priorbox']], name='predictions')\n",
    "\n",
    "model_feature_map = Model(input=net['inputs'], output=net['predictions'])"
   ]
  },
  {
   "cell_type": "code",
   "execution_count": 6,
   "metadata": {},
   "outputs": [
    {
     "name": "stdout",
     "output_type": "stream",
     "text": [
      "__________________________________________________________________________________________________\n",
      "Layer (type)                    Output Shape         Param #     Connected to                     \n",
      "==================================================================================================\n",
      "input (InputLayer)              (None, 300, 300, 3)  0                                            \n",
      "__________________________________________________________________________________________________\n",
      "conv1_1 (Conv2D)                (None, 300, 300, 64) 1792        input[0][0]                      \n",
      "__________________________________________________________________________________________________\n",
      "conv1_2 (Conv2D)                (None, 300, 300, 64) 36928       conv1_1[0][0]                    \n",
      "__________________________________________________________________________________________________\n",
      "pool1 (MaxPooling2D)            (None, 150, 150, 64) 0           conv1_2[0][0]                    \n",
      "__________________________________________________________________________________________________\n",
      "conv2_1 (Conv2D)                (None, 150, 150, 128 73856       pool1[0][0]                      \n",
      "__________________________________________________________________________________________________\n",
      "conv2_2 (Conv2D)                (None, 150, 150, 128 147584      conv2_1[0][0]                    \n",
      "__________________________________________________________________________________________________\n",
      "pool2 (MaxPooling2D)            (None, 75, 75, 128)  0           conv2_2[0][0]                    \n",
      "__________________________________________________________________________________________________\n",
      "fc3 (Conv2D)                    (None, 75, 75, 1024) 1180672     pool2[0][0]                      \n",
      "__________________________________________________________________________________________________\n",
      "fc4 (Conv2D)                    (None, 75, 75, 1024) 1049600     fc3[0][0]                        \n",
      "__________________________________________________________________________________________________\n",
      "conv5_1 (Conv2D)                (None, 75, 75, 128)  1179776     fc4[0][0]                        \n",
      "__________________________________________________________________________________________________\n",
      "pool5 (MaxPooling2D)            (None, 38, 38, 128)  0           conv5_1[0][0]                    \n",
      "__________________________________________________________________________________________________\n",
      "conv6_1 (Conv2D)                (None, 38, 38, 128)  147584      pool5[0][0]                      \n",
      "__________________________________________________________________________________________________\n",
      "pool6 (MaxPooling2D)            (None, 19, 19, 128)  0           conv6_1[0][0]                    \n",
      "__________________________________________________________________________________________________\n",
      "conv5_1_mbox_conf (Conv2D)      (None, 75, 75, 18)   20754       conv5_1[0][0]                    \n",
      "__________________________________________________________________________________________________\n",
      "pool6_mbox_conf (Conv2D)        (None, 19, 19, 18)   20754       pool6[0][0]                      \n",
      "__________________________________________________________________________________________________\n",
      "conv5_1_mbox_loc (Conv2D)       (None, 75, 75, 24)   27672       conv5_1[0][0]                    \n",
      "__________________________________________________________________________________________________\n",
      "pool6_mbox_loc (Conv2D)         (None, 19, 19, 24)   27672       pool6[0][0]                      \n",
      "__________________________________________________________________________________________________\n",
      "conv5_1_mbox_conf_flat (Flatten (None, 101250)       0           conv5_1_mbox_conf[0][0]          \n",
      "__________________________________________________________________________________________________\n",
      "pool6_mbox_conf_flat (Flatten)  (None, 6498)         0           pool6_mbox_conf[0][0]            \n",
      "__________________________________________________________________________________________________\n",
      "conv5_1_mbox_loc_flat (Flatten) (None, 135000)       0           conv5_1_mbox_loc[0][0]           \n",
      "__________________________________________________________________________________________________\n",
      "pool6_mbox_loc_flat (Flatten)   (None, 8664)         0           pool6_mbox_loc[0][0]             \n",
      "__________________________________________________________________________________________________\n",
      "mbox_conf (Concatenate)         (None, 107748)       0           conv5_1_mbox_conf_flat[0][0]     \n",
      "                                                                 pool6_mbox_conf_flat[0][0]       \n",
      "__________________________________________________________________________________________________\n",
      "mbox_loc (Concatenate)          (None, 143664)       0           conv5_1_mbox_loc_flat[0][0]      \n",
      "                                                                 pool6_mbox_loc_flat[0][0]        \n",
      "__________________________________________________________________________________________________\n",
      "mbox_conf_logits (Reshape)      (None, 35916, 3)     0           mbox_conf[0][0]                  \n",
      "__________________________________________________________________________________________________\n",
      "mbox_loc_final (Reshape)        (None, 35916, 4)     0           mbox_loc[0][0]                   \n",
      "__________________________________________________________________________________________________\n",
      "mbox_conf_final (Activation)    (None, 35916, 3)     0           mbox_conf_logits[0][0]           \n",
      "__________________________________________________________________________________________________\n",
      "predictions (Concatenate)       (None, 35916, 7)     0           mbox_loc_final[0][0]             \n",
      "                                                                 mbox_conf_final[0][0]            \n",
      "==================================================================================================\n",
      "Total params: 3,914,644\n",
      "Trainable params: 3,914,644\n",
      "Non-trainable params: 0\n",
      "__________________________________________________________________________________________________\n"
     ]
    }
   ],
   "source": [
    "model_feature_map.summary()"
   ]
  },
  {
   "cell_type": "code",
   "execution_count": 7,
   "metadata": {},
   "outputs": [
    {
     "data": {
      "text/plain": [
       "(None, 19, 19, 18)"
      ]
     },
     "execution_count": 7,
     "metadata": {},
     "output_type": "execute_result"
    }
   ],
   "source": [
    "import keras.backend as K\n",
    "K.int_shape(net['pool6_mbox_conf'])"
   ]
  },
  {
   "cell_type": "code",
   "execution_count": 8,
   "metadata": {},
   "outputs": [],
   "source": [
    "from ssd_layer import DefaultBox"
   ]
  },
  {
   "cell_type": "code",
   "execution_count": 9,
   "metadata": {},
   "outputs": [
    {
     "data": {
      "text/plain": [
       "<tf.Tensor 'default_box_1/ExpandDims:0' shape=(1, 361, 8) dtype=float32>"
      ]
     },
     "execution_count": 9,
     "metadata": {},
     "output_type": "execute_result"
    }
   ],
   "source": [
    "boxes = DefaultBox(input_shape, 20, 30, [1], 0.1)\n",
    "boxes(net['pool6_mbox_conf'])"
   ]
  },
  {
   "cell_type": "code",
   "execution_count": 11,
   "metadata": {},
   "outputs": [],
   "source": [
    "defaultbox = DefaultBox(input_shape, 20, 30, aspect_ratios=[2, 3],\n",
    "                    variance=[0.1],\n",
    "                    name='conv5_1_mbox_priorbox')\n",
    "\n",
    "net['conv5_1_mbox_priorbox'] = defaultbox(net['conv5_1'])"
   ]
  },
  {
   "cell_type": "code",
   "execution_count": 12,
   "metadata": {},
   "outputs": [
    {
     "data": {
      "text/plain": [
       "<tf.Tensor 'conv5_1_mbox_priorbox/ExpandDims:0' shape=(1, 11250, 8) dtype=float32>"
      ]
     },
     "execution_count": 12,
     "metadata": {},
     "output_type": "execute_result"
    }
   ],
   "source": [
    "net['conv5_1_mbox_priorbox']"
   ]
  },
  {
   "cell_type": "code",
   "execution_count": 13,
   "metadata": {},
   "outputs": [
    {
     "data": {
      "text/plain": [
       "<tf.Tensor 'conv5_1/Relu:0' shape=(?, 75, 75, 128) dtype=float32>"
      ]
     },
     "execution_count": 13,
     "metadata": {},
     "output_type": "execute_result"
    }
   ],
   "source": [
    "net['conv5_1']"
   ]
  },
  {
   "cell_type": "code",
   "execution_count": null,
   "metadata": {},
   "outputs": [],
   "source": []
  }
 ],
 "metadata": {
  "kernelspec": {
   "display_name": "Python 3",
   "language": "python",
   "name": "python3"
  },
  "language_info": {
   "codemirror_mode": {
    "name": "ipython",
    "version": 3
   },
   "file_extension": ".py",
   "mimetype": "text/x-python",
   "name": "python",
   "nbconvert_exporter": "python",
   "pygments_lexer": "ipython3",
   "version": "3.6.4"
  }
 },
 "nbformat": 4,
 "nbformat_minor": 2
}
