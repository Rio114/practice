{
 "cells": [
  {
   "cell_type": "code",
   "execution_count": 2,
   "metadata": {},
   "outputs": [],
   "source": [
    "import glob\n",
    "import numpy as np \n",
    "import cv2\n",
    "import matplotlib.pyplot as plt\n",
    "import pickle"
   ]
  },
  {
   "cell_type": "code",
   "execution_count": 3,
   "metadata": {},
   "outputs": [
    {
     "data": {
      "text/plain": [
       "<Figure size 648x1224 with 0 Axes>"
      ]
     },
     "metadata": {},
     "output_type": "display_data"
    }
   ],
   "source": [
    "out_dir = './png-etl1'\n",
    "im_size = 25\n",
    "save_file = out_dir + '/katakana.pickle'\n",
    "plt.figure(figsize=(9, 17))\n",
    "\n",
    "kanadir = list(range(177, 221))\n",
    "kanadir.append(166)\n",
    "kanadir.append(221)\n",
    "result = []\n"
   ]
  },
  {
   "cell_type": "code",
   "execution_count": null,
   "metadata": {},
   "outputs": [
    {
     "name": "stdout",
     "output_type": "stream",
     "text": [
      "dir= ./png-etl1/177\n",
      "dir= ./png-etl1/178\n",
      "dir= ./png-etl1/179\n",
      "dir= ./png-etl1/180\n",
      "dir= ./png-etl1/181\n",
      "dir= ./png-etl1/182\n",
      "dir= ./png-etl1/183\n",
      "dir= ./png-etl1/184\n",
      "dir= ./png-etl1/185\n",
      "dir= ./png-etl1/186\n",
      "dir= ./png-etl1/187\n",
      "dir= ./png-etl1/188\n",
      "dir= ./png-etl1/189\n",
      "dir= ./png-etl1/190\n",
      "dir= ./png-etl1/191\n",
      "dir= ./png-etl1/192\n",
      "dir= ./png-etl1/193\n",
      "dir= ./png-etl1/194\n",
      "dir= ./png-etl1/195\n",
      "dir= ./png-etl1/196\n",
      "dir= ./png-etl1/197\n",
      "dir= ./png-etl1/198\n",
      "dir= ./png-etl1/199\n",
      "dir= ./png-etl1/200\n",
      "dir= ./png-etl1/201\n",
      "dir= ./png-etl1/202\n",
      "dir= ./png-etl1/203\n",
      "dir= ./png-etl1/204\n",
      "dir= ./png-etl1/205\n",
      "dir= ./png-etl1/206\n"
     ]
    }
   ],
   "source": [
    "for i, code in enumerate(kanadir):\n",
    "    img_dir = out_dir + '/' + str(code)\n",
    "    fs = glob.glob(img_dir + '/*')\n",
    "    print('dir=', img_dir)\n",
    "\n",
    "    for j, f in enumerate(fs):\n",
    "        img = cv2.imread(f)\n",
    "        img_gray = cv2.cvtColor(img, cv2.COLOR_BGR2GRAY)\n",
    "        img = cv2.resize(img_gray, (im_size, im_size))\n",
    "        result.append([i, img])\n",
    "        if j == 3:\n",
    "            plt.subplot(11, 5, i+1)\n",
    "            plt.axis('off')\n",
    "            plt.title(str(i))\n",
    "            plt.imshow(img, cmap='gray')\n",
    "\n",
    "pickle.dump(result, open(save_file, 'wb'))\n",
    "plt.show()\n",
    "print('done')"
   ]
  },
  {
   "cell_type": "code",
   "execution_count": null,
   "metadata": {},
   "outputs": [],
   "source": []
  }
 ],
 "metadata": {
  "kernelspec": {
   "display_name": "Python 3",
   "language": "python",
   "name": "python3"
  },
  "language_info": {
   "codemirror_mode": {
    "name": "ipython",
    "version": 3
   },
   "file_extension": ".py",
   "mimetype": "text/x-python",
   "name": "python",
   "nbconvert_exporter": "python",
   "pygments_lexer": "ipython3",
   "version": "3.7.0"
  }
 },
 "nbformat": 4,
 "nbformat_minor": 2
}
