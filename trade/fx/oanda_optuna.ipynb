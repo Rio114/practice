{
 "cells": [
  {
   "cell_type": "code",
   "execution_count": 1,
   "id": "applied-papua",
   "metadata": {},
   "outputs": [],
   "source": [
    "import os\n",
    "import pandas as pd\n",
    "import numpy as np\n",
    "from matplotlib import pylab as plt"
   ]
  },
  {
   "cell_type": "code",
   "execution_count": 2,
   "id": "standard-prediction",
   "metadata": {},
   "outputs": [],
   "source": [
    "token = os.environ['oanda_access_token']\n",
    "account = os.environ['oanda_account_id']"
   ]
  },
  {
   "cell_type": "code",
   "execution_count": 3,
   "id": "efficient-trinidad",
   "metadata": {},
   "outputs": [],
   "source": [
    "import optuna\n",
    "from oanda_bot import Bot"
   ]
  },
  {
   "cell_type": "code",
   "execution_count": 41,
   "id": "closed-happening",
   "metadata": {},
   "outputs": [],
   "source": [
    "class MyBot(Bot):\n",
    "    def set_param(self, a, b, c, d, stop_loss, take_profit):\n",
    "        self.a = a\n",
    "        self.b = b\n",
    "        self.c = c\n",
    "        self.d = d\n",
    "        self.stop_loss = stop_loss\n",
    "        self.take_profit = take_profit\n",
    "        \n",
    "    def atr(self, *, period: int = 14, price: str = \"C\"):\n",
    "        a = (self.df.H - self.df.L).abs()\n",
    "        b = (self.df.H - self.df[price].shift()).abs()\n",
    "        c = (self.df.L - self.df[price].shift()).abs()\n",
    "\n",
    "        df = pd.concat([a, b, c], axis=1).max(axis=1)\n",
    "        return df.ewm(span=period).mean()\n",
    "        \n",
    "    def strategy(self):\n",
    "        rsi = self.rsi(period=self.a)\n",
    "        ema = self.ema(period=self.b)\n",
    "        atr = self.atr(period=self.c)\n",
    "        lower = ema - atr\n",
    "        upper = ema + atr\n",
    "        self.buy_entry = (rsi < self.d )& (self.df.C < lower)\n",
    "        self.sell_entry = (rsi > 100-self.d) & (self.df.C > upper)\n",
    "        self.sell_exit = ema > self.df.C\n",
    "        self.buy_exit = ema < self.df.C\n",
    "#         self.units = 1000 # currency unit (default=10000)\n",
    "#         self.take_profit = 50 # take profit pips (default=0 take profit none)\n",
    "#         self.stop_loss = 20 # stop loss pips (default=0 stop loss none)\n",
    "\n",
    "    def backtest(\n",
    "            self, *, from_date: str = \"\", to_date: str = \"\", filename: str = \"\"\n",
    "        ) -> None:\n",
    "            csv = \"{}-{}-{}-{}.csv\".format(\n",
    "                self.instrument, self.granularity, from_date, to_date\n",
    "            )\n",
    "            if os.path.exists(csv):\n",
    "                self.df = pd.read_csv(\n",
    "                    csv, index_col=0, parse_dates=True, infer_datetime_format=True\n",
    "                )\n",
    "            else:\n",
    "                self._candles(from_date=from_date, to_date=to_date)\n",
    "                if from_date != \"\" and to_date != \"\":\n",
    "                    self.df.to_csv(csv)\n",
    "            self.strategy()\n",
    "            o = self.df.O.values\n",
    "            L = self.df.L.values\n",
    "            h = self.df.H.values\n",
    "            N = len(self.df)\n",
    "            long_trade = np.zeros(N)\n",
    "            short_trade = np.zeros(N)\n",
    "\n",
    "            # buy entry\n",
    "            buy_entry_s = np.hstack((False, self.buy_entry[:-1]))  # shift\n",
    "            long_trade[buy_entry_s] = o[buy_entry_s]\n",
    "            # buy exit\n",
    "            buy_exit_s = np.hstack((False, self.buy_exit[:-2], True))  # shift\n",
    "            long_trade[buy_exit_s] = -o[buy_exit_s]\n",
    "            # sell entry\n",
    "            sell_entry_s = np.hstack((False, self.sell_entry[:-1]))  # shift\n",
    "            short_trade[sell_entry_s] = o[sell_entry_s]\n",
    "            # sell exit\n",
    "            sell_exit_s = np.hstack((False, self.sell_exit[:-2], True))  # shift\n",
    "            short_trade[sell_exit_s] = -o[sell_exit_s]\n",
    "\n",
    "            long_pl = pd.Series(np.zeros(N))  # profit/loss of buy position\n",
    "            short_pl = pd.Series(np.zeros(N))  # profit/loss of sell position\n",
    "            buy_price = sell_price = 0\n",
    "            long_rr = []  # long return rate\n",
    "            short_rr = []  # short return rate\n",
    "            stop_loss = take_profit = 0\n",
    "\n",
    "            for i in range(1, N):\n",
    "                # buy entry\n",
    "                if long_trade[i] > 0:\n",
    "                    if buy_price == 0:\n",
    "                        buy_price = long_trade[i]\n",
    "                        short_trade[i] = -buy_price  # sell exit\n",
    "                    else:\n",
    "                        long_trade[i] = 0\n",
    "\n",
    "                # sell entry\n",
    "                if short_trade[i] > 0:\n",
    "                    if sell_price == 0:\n",
    "                        sell_price = short_trade[i]\n",
    "                        long_trade[i] = -sell_price  # buy exit\n",
    "                    else:\n",
    "                        short_trade[i] = 0\n",
    "\n",
    "                # buy exit\n",
    "                if long_trade[i] < 0:\n",
    "                    if buy_price != 0:\n",
    "                        long_pl[i] = (\n",
    "                            -(buy_price + long_trade[i]) * self.units\n",
    "                        )  # profit/loss fixed\n",
    "                        long_rr.append(\n",
    "                            round(long_pl[i] / buy_price * 100, 2)\n",
    "                        )  # long return rate\n",
    "                        buy_price = 0\n",
    "                    else:\n",
    "                        long_trade[i] = 0\n",
    "\n",
    "                # sell exit\n",
    "                if short_trade[i] < 0:\n",
    "                    if sell_price != 0:\n",
    "                        short_pl[i] = (\n",
    "                            sell_price + short_trade[i]\n",
    "                        ) * self.units  # profit/loss fixed\n",
    "                        short_rr.append(\n",
    "                            round(short_pl[i] / sell_price * 100, 2)\n",
    "                        )  # short return rate\n",
    "                        sell_price = 0\n",
    "                    else:\n",
    "                        short_trade[i] = 0\n",
    "\n",
    "                # close buy position with stop loss\n",
    "                if buy_price != 0 and self.stop_loss > 0:\n",
    "                    stop_price = buy_price - self.stop_loss * self.point\n",
    "                    if L[i] <= stop_price:\n",
    "                        long_trade[i] = -stop_price\n",
    "                        long_pl[i] = (\n",
    "                            -(buy_price + long_trade[i]) * self.units\n",
    "                        )  # profit/loss fixed\n",
    "                        long_rr.append(\n",
    "                            round(long_pl[i] / buy_price * 100, 2)\n",
    "                        )  # long return rate\n",
    "                        buy_price = 0\n",
    "                        stop_loss += 1\n",
    "\n",
    "                # close buy positon with take profit\n",
    "                if buy_price != 0 and self.take_profit > 0:\n",
    "                    limit_price = buy_price + self.take_profit * self.point\n",
    "                    if h[i] >= limit_price:\n",
    "                        long_trade[i] = -limit_price\n",
    "                        long_pl[i] = (\n",
    "                            -(buy_price + long_trade[i]) * self.units\n",
    "                        )  # profit/loss fixed\n",
    "                        long_rr.append(\n",
    "                            round(long_pl[i] / buy_price * 100, 2)\n",
    "                        )  # long return rate\n",
    "                        buy_price = 0\n",
    "                        take_profit += 1\n",
    "\n",
    "                # close sell position with stop loss\n",
    "                if sell_price != 0 and self.stop_loss > 0:\n",
    "                    stop_price = sell_price + self.stop_loss * self.point\n",
    "                    if h[i] >= stop_price:\n",
    "                        short_trade[i] = -stop_price\n",
    "                        short_pl[i] = (\n",
    "                            sell_price + short_trade[i]\n",
    "                        ) * self.units  # profit/loss fixed\n",
    "                        short_rr.append(\n",
    "                            round(short_pl[i] / sell_price * 100, 2)\n",
    "                        )  # short return rate\n",
    "                        sell_price = 0\n",
    "                        stop_loss += 1\n",
    "\n",
    "                # close sell position with take profit\n",
    "                if sell_price != 0 and self.take_profit > 0:\n",
    "                    limit_price = sell_price - self.take_profit * self.point\n",
    "                    if L[i] <= limit_price:\n",
    "                        short_trade[i] = -limit_price\n",
    "                        short_pl[i] = (\n",
    "                            sell_price + short_trade[i]\n",
    "                        ) * self.units  # profit/loss fixed\n",
    "                        short_rr.append(\n",
    "                            round(short_pl[i] / sell_price * 100, 2)\n",
    "                        )  # short return rate\n",
    "                        sell_price = 0\n",
    "                        take_profit += 1\n",
    "\n",
    "            win_trades = np.count_nonzero(long_pl.clip(lower=0)) + np.count_nonzero(\n",
    "                short_pl.clip(lower=0)\n",
    "            )\n",
    "            lose_trades = np.count_nonzero(long_pl.clip(upper=0)) + np.count_nonzero(\n",
    "                short_pl.clip(upper=0)\n",
    "            )\n",
    "            trades = (np.count_nonzero(long_trade) // 2) + (\n",
    "                np.count_nonzero(short_trade) // 2\n",
    "            )\n",
    "            gross_profit = long_pl.clip(lower=0).sum() + short_pl.clip(lower=0).sum()\n",
    "            gross_loss = long_pl.clip(upper=0).sum() + short_pl.clip(upper=0).sum()\n",
    "            profit_pl = gross_profit + gross_loss\n",
    "            self.equity = (long_pl + short_pl).cumsum()\n",
    "            mdd = (self.equity.cummax() - self.equity).max()\n",
    "            self.return_rate = pd.Series(short_rr + long_rr)\n",
    "\n",
    "            s = pd.Series(dtype=\"object\")\n",
    "            s.loc[\"total profit\"] = round(profit_pl, 3)\n",
    "            s.loc[\"total trades\"] = trades\n",
    "            s.loc[\"win rate\"] = round(win_trades / trades * 100, 3)\n",
    "            s.loc[\"profit factor\"] = round(-gross_profit / gross_loss, 3)\n",
    "            s.loc[\"maximum drawdown\"] = round(mdd, 3)\n",
    "            s.loc[\"recovery factor\"] = round(profit_pl / mdd, 3)\n",
    "            s.loc[\"riskreward ratio\"] = round(\n",
    "                -(gross_profit / win_trades) / (gross_loss / lose_trades), 3\n",
    "            )\n",
    "            s.loc[\"sharpe ratio\"] = round(\n",
    "                self.return_rate.mean() / self.return_rate.std(), 3\n",
    "            )\n",
    "            s.loc[\"average return\"] = round(self.return_rate.mean(), 3)\n",
    "            s.loc[\"stop loss\"] = stop_loss\n",
    "            s.loc[\"take profit\"] = take_profit\n",
    "\n",
    "            return s"
   ]
  },
  {
   "cell_type": "code",
   "execution_count": 58,
   "id": "distributed-halifax",
   "metadata": {},
   "outputs": [],
   "source": [
    "start = \"2020-8-1\"\n",
    "end = \"2021-2-14\"\n",
    "glan = \"M10\"\n",
    "inst = \"USD_JPY\""
   ]
  },
  {
   "cell_type": "code",
   "execution_count": 59,
   "id": "waiting-fraction",
   "metadata": {},
   "outputs": [],
   "source": [
    "mybot = MyBot(\n",
    "    account_id=account,\n",
    "    access_token=token,\n",
    "    environment='live',\n",
    "    instrument=inst,\n",
    "    granularity=glan, # 15 second candlestick,\n",
    ")"
   ]
  },
  {
   "cell_type": "code",
   "execution_count": 60,
   "id": "secret-drilling",
   "metadata": {},
   "outputs": [],
   "source": [
    "def objective(trial):\n",
    "    a = trial.suggest_int('a', 5, 50)\n",
    "    b = trial.suggest_int('b', 5, 50)\n",
    "    c = trial.suggest_int('c', 5, 50)\n",
    "    d = trial.suggest_int('d', 20, 40)\n",
    "    \n",
    "    sl = trial.suggest_int('stop_loss', 5, 50)\n",
    "    tp = trial.suggest_int('take_profit', 5, 50)\n",
    "    \n",
    "    mybot.set_param(a, b, c, d, sl, tp)\n",
    "    \n",
    "    score =  -mybot.backtest(from_date=start, to_date=end, filename=\"backtest.png\")['average return']\n",
    "    print('a: %d, b: %d, score: %1.2f' % (a, b, -score))\n",
    "    return score"
   ]
  },
  {
   "cell_type": "code",
   "execution_count": 61,
   "id": "third-crack",
   "metadata": {
    "scrolled": true
   },
   "outputs": [
    {
     "name": "stderr",
     "output_type": "stream",
     "text": [
      "\u001b[32m[I 2021-02-17 23:14:15,899]\u001b[0m A new study created in memory with name: no-name-7638e554-ed39-4772-b18f-38d9d013c10a\u001b[0m\n",
      "\u001b[32m[I 2021-02-17 23:14:23,323]\u001b[0m Trial 0 finished with value: 57.729 and parameters: {'a': 37, 'b': 16, 'c': 46, 'd': 31, 'stop_loss': 41, 'take_profit': 31}. Best is trial 0 with value: 57.729.\u001b[0m\n",
      "\u001b[32m[I 2021-02-17 23:14:23,482]\u001b[0m Trial 1 finished with value: 6.647 and parameters: {'a': 30, 'b': 16, 'c': 43, 'd': 35, 'stop_loss': 50, 'take_profit': 27}. Best is trial 1 with value: 6.647.\u001b[0m\n"
     ]
    },
    {
     "name": "stdout",
     "output_type": "stream",
     "text": [
      "a: 37, b: 16, score: -57.73\n",
      "a: 30, b: 16, score: -6.65\n"
     ]
    },
    {
     "name": "stderr",
     "output_type": "stream",
     "text": [
      "\u001b[32m[I 2021-02-17 23:14:23,731]\u001b[0m Trial 2 finished with value: -16.341 and parameters: {'a': 7, 'b': 50, 'c': 48, 'd': 34, 'stop_loss': 16, 'take_profit': 7}. Best is trial 2 with value: -16.341.\u001b[0m\n",
      "\u001b[32m[I 2021-02-17 23:14:23,881]\u001b[0m Trial 3 finished with value: -50.477 and parameters: {'a': 50, 'b': 39, 'c': 20, 'd': 39, 'stop_loss': 47, 'take_profit': 17}. Best is trial 3 with value: -50.477.\u001b[0m\n"
     ]
    },
    {
     "name": "stdout",
     "output_type": "stream",
     "text": [
      "a: 7, b: 50, score: 16.34\n",
      "a: 50, b: 39, score: 50.48\n"
     ]
    },
    {
     "name": "stderr",
     "output_type": "stream",
     "text": [
      "\u001b[32m[I 2021-02-17 23:14:24,033]\u001b[0m Trial 4 finished with value: 157.47 and parameters: {'a': 39, 'b': 45, 'c': 29, 'd': 22, 'stop_loss': 14, 'take_profit': 15}. Best is trial 3 with value: -50.477.\u001b[0m\n",
      "\u001b[32m[I 2021-02-17 23:14:24,169]\u001b[0m Trial 5 finished with value: -37.803 and parameters: {'a': 41, 'b': 39, 'c': 29, 'd': 24, 'stop_loss': 32, 'take_profit': 18}. Best is trial 3 with value: -50.477.\u001b[0m\n"
     ]
    },
    {
     "name": "stdout",
     "output_type": "stream",
     "text": [
      "a: 39, b: 45, score: -157.47\n",
      "a: 41, b: 39, score: 37.80\n"
     ]
    },
    {
     "name": "stderr",
     "output_type": "stream",
     "text": [
      "\u001b[32m[I 2021-02-17 23:14:24,358]\u001b[0m Trial 6 finished with value: -3.584 and parameters: {'a': 7, 'b': 9, 'c': 10, 'd': 40, 'stop_loss': 19, 'take_profit': 6}. Best is trial 3 with value: -50.477.\u001b[0m\n"
     ]
    },
    {
     "name": "stdout",
     "output_type": "stream",
     "text": [
      "a: 7, b: 9, score: 3.58\n"
     ]
    },
    {
     "name": "stderr",
     "output_type": "stream",
     "text": [
      "\u001b[32m[I 2021-02-17 23:14:24,561]\u001b[0m Trial 7 finished with value: 73.063 and parameters: {'a': 35, 'b': 35, 'c': 7, 'd': 30, 'stop_loss': 23, 'take_profit': 8}. Best is trial 3 with value: -50.477.\u001b[0m\n"
     ]
    },
    {
     "name": "stdout",
     "output_type": "stream",
     "text": [
      "a: 35, b: 35, score: -73.06\n",
      "a: 10, b: 16, score: 8.07\n"
     ]
    },
    {
     "name": "stderr",
     "output_type": "stream",
     "text": [
      "\u001b[32m[I 2021-02-17 23:14:24,762]\u001b[0m Trial 8 finished with value: -8.067 and parameters: {'a': 10, 'b': 16, 'c': 15, 'd': 40, 'stop_loss': 6, 'take_profit': 8}. Best is trial 3 with value: -50.477.\u001b[0m\n",
      "\u001b[32m[I 2021-02-17 23:14:24,904]\u001b[0m Trial 9 finished with value: 61.981 and parameters: {'a': 40, 'b': 30, 'c': 11, 'd': 24, 'stop_loss': 25, 'take_profit': 10}. Best is trial 3 with value: -50.477.\u001b[0m\n",
      "\u001b[32m[I 2021-02-17 23:14:25,065]\u001b[0m Trial 10 finished with value: -77.33 and parameters: {'a': 50, 'b': 25, 'c': 22, 'd': 37, 'stop_loss': 50, 'take_profit': 50}. Best is trial 10 with value: -77.33.\u001b[0m\n"
     ]
    },
    {
     "name": "stdout",
     "output_type": "stream",
     "text": [
      "a: 40, b: 30, score: -61.98\n",
      "a: 50, b: 25, score: 77.33\n"
     ]
    },
    {
     "name": "stderr",
     "output_type": "stream",
     "text": [
      "\u001b[32m[I 2021-02-17 23:14:25,241]\u001b[0m Trial 11 finished with value: -77.747 and parameters: {'a': 50, 'b': 25, 'c': 22, 'd': 37, 'stop_loss': 49, 'take_profit': 47}. Best is trial 11 with value: -77.747.\u001b[0m\n"
     ]
    },
    {
     "name": "stdout",
     "output_type": "stream",
     "text": [
      "a: 50, b: 25, score: 77.75\n"
     ]
    },
    {
     "name": "stderr",
     "output_type": "stream",
     "text": [
      "\u001b[32m[I 2021-02-17 23:14:25,468]\u001b[0m Trial 12 finished with value: -127.869 and parameters: {'a': 50, 'b': 25, 'c': 22, 'd': 36, 'stop_loss': 38, 'take_profit': 50}. Best is trial 12 with value: -127.869.\u001b[0m\n",
      "\u001b[32m[I 2021-02-17 23:14:25,630]\u001b[0m Trial 13 finished with value: -46.711 and parameters: {'a': 50, 'b': 24, 'c': 36, 'd': 33, 'stop_loss': 35, 'take_profit': 50}. Best is trial 12 with value: -127.869.\u001b[0m\n"
     ]
    },
    {
     "name": "stdout",
     "output_type": "stream",
     "text": [
      "a: 50, b: 25, score: 127.87\n",
      "a: 50, b: 24, score: 46.71\n"
     ]
    },
    {
     "name": "stderr",
     "output_type": "stream",
     "text": [
      "\u001b[32m[I 2021-02-17 23:14:25,819]\u001b[0m Trial 14 finished with value: -7.147 and parameters: {'a': 18, 'b': 22, 'c': 23, 'd': 37, 'stop_loss': 42, 'take_profit': 42}. Best is trial 12 with value: -127.869.\u001b[0m\n",
      "\u001b[32m[I 2021-02-17 23:14:25,978]\u001b[0m Trial 15 finished with value: -74.466 and parameters: {'a': 47, 'b': 31, 'c': 35, 'd': 28, 'stop_loss': 41, 'take_profit': 43}. Best is trial 12 with value: -127.869.\u001b[0m\n"
     ]
    },
    {
     "name": "stdout",
     "output_type": "stream",
     "text": [
      "a: 18, b: 22, score: 7.15\n",
      "a: 47, b: 31, score: 74.47\n"
     ]
    },
    {
     "name": "stderr",
     "output_type": "stream",
     "text": [
      "\u001b[32m[I 2021-02-17 23:14:26,210]\u001b[0m Trial 16 finished with value: -7.355 and parameters: {'a': 46, 'b': 8, 'c': 16, 'd': 37, 'stop_loss': 32, 'take_profit': 42}. Best is trial 12 with value: -127.869.\u001b[0m\n",
      "\u001b[32m[I 2021-02-17 23:14:26,377]\u001b[0m Trial 17 finished with value: 14.793 and parameters: {'a': 22, 'b': 21, 'c': 34, 'd': 28, 'stop_loss': 45, 'take_profit': 35}. Best is trial 12 with value: -127.869.\u001b[0m\n"
     ]
    },
    {
     "name": "stdout",
     "output_type": "stream",
     "text": [
      "a: 46, b: 8, score: 7.36\n",
      "a: 22, b: 21, score: -14.79\n"
     ]
    },
    {
     "name": "stderr",
     "output_type": "stream",
     "text": [
      "\u001b[32m[I 2021-02-17 23:14:26,544]\u001b[0m Trial 18 finished with value: -124.328 and parameters: {'a': 44, 'b': 29, 'c': 25, 'd': 32, 'stop_loss': 36, 'take_profit': 46}. Best is trial 12 with value: -127.869.\u001b[0m\n",
      "\u001b[32m[I 2021-02-17 23:14:26,709]\u001b[0m Trial 19 finished with value: 45.765 and parameters: {'a': 31, 'b': 34, 'c': 27, 'd': 32, 'stop_loss': 37, 'take_profit': 37}. Best is trial 12 with value: -127.869.\u001b[0m\n"
     ]
    },
    {
     "name": "stdout",
     "output_type": "stream",
     "text": [
      "a: 44, b: 29, score: 124.33\n",
      "a: 31, b: 34, score: -45.77\n"
     ]
    },
    {
     "name": "stderr",
     "output_type": "stream",
     "text": [
      "\u001b[32m[I 2021-02-17 23:14:26,873]\u001b[0m Trial 20 finished with value: -16.681 and parameters: {'a': 44, 'b': 39, 'c': 40, 'd': 27, 'stop_loss': 28, 'take_profit': 47}. Best is trial 12 with value: -127.869.\u001b[0m\n"
     ]
    },
    {
     "name": "stdout",
     "output_type": "stream",
     "text": [
      "a: 44, b: 39, score: 16.68\n"
     ]
    },
    {
     "name": "stderr",
     "output_type": "stream",
     "text": [
      "\u001b[32m[I 2021-02-17 23:14:27,106]\u001b[0m Trial 21 finished with value: -115.855 and parameters: {'a': 44, 'b': 28, 'c': 18, 'd': 35, 'stop_loss': 37, 'take_profit': 46}. Best is trial 12 with value: -127.869.\u001b[0m\n",
      "\u001b[32m[I 2021-02-17 23:14:27,270]\u001b[0m Trial 22 finished with value: -68.446 and parameters: {'a': 43, 'b': 28, 'c': 17, 'd': 35, 'stop_loss': 37, 'take_profit': 46}. Best is trial 12 with value: -127.869.\u001b[0m\n"
     ]
    },
    {
     "name": "stdout",
     "output_type": "stream",
     "text": [
      "a: 44, b: 28, score: 115.86\n",
      "a: 43, b: 28, score: 68.45\n"
     ]
    },
    {
     "name": "stderr",
     "output_type": "stream",
     "text": [
      "\u001b[32m[I 2021-02-17 23:14:27,447]\u001b[0m Trial 23 finished with value: -16.375 and parameters: {'a': 34, 'b': 19, 'c': 25, 'd': 33, 'stop_loss': 31, 'take_profit': 38}. Best is trial 12 with value: -127.869.\u001b[0m\n",
      "\u001b[32m[I 2021-02-17 23:14:27,627]\u001b[0m Trial 24 finished with value: -12.492 and parameters: {'a': 24, 'b': 33, 'c': 31, 'd': 35, 'stop_loss': 37, 'take_profit': 50}. Best is trial 12 with value: -127.869.\u001b[0m\n"
     ]
    },
    {
     "name": "stdout",
     "output_type": "stream",
     "text": [
      "a: 34, b: 19, score: 16.38\n",
      "a: 24, b: 33, score: 12.49\n"
     ]
    },
    {
     "name": "stderr",
     "output_type": "stream",
     "text": [
      "\u001b[32m[I 2021-02-17 23:14:27,851]\u001b[0m Trial 25 finished with value: 71.845 and parameters: {'a': 46, 'b': 28, 'c': 19, 'd': 31, 'stop_loss': 44, 'take_profit': 25}. Best is trial 12 with value: -127.869.\u001b[0m\n",
      "\u001b[32m[I 2021-02-17 23:14:28,019]\u001b[0m Trial 26 finished with value: -48.014 and parameters: {'a': 43, 'b': 13, 'c': 11, 'd': 38, 'stop_loss': 39, 'take_profit': 44}. Best is trial 12 with value: -127.869.\u001b[0m\n"
     ]
    },
    {
     "name": "stdout",
     "output_type": "stream",
     "text": [
      "a: 46, b: 28, score: -71.84\n",
      "a: 43, b: 13, score: 48.01\n"
     ]
    },
    {
     "name": "stderr",
     "output_type": "stream",
     "text": [
      "\u001b[32m[I 2021-02-17 23:14:28,190]\u001b[0m Trial 27 finished with value: -83.989 and parameters: {'a': 47, 'b': 36, 'c': 13, 'd': 35, 'stop_loss': 28, 'take_profit': 40}. Best is trial 12 with value: -127.869.\u001b[0m\n",
      "\u001b[32m[I 2021-02-17 23:14:28,362]\u001b[0m Trial 28 finished with value: 28.026 and parameters: {'a': 37, 'b': 44, 'c': 5, 'd': 33, 'stop_loss': 30, 'take_profit': 33}. Best is trial 12 with value: -127.869.\u001b[0m\n"
     ]
    },
    {
     "name": "stdout",
     "output_type": "stream",
     "text": [
      "a: 47, b: 36, score: 83.99\n",
      "a: 37, b: 44, score: -28.03\n"
     ]
    },
    {
     "name": "stderr",
     "output_type": "stream",
     "text": [
      "\u001b[32m[I 2021-02-17 23:14:28,526]\u001b[0m Trial 29 finished with value: 43.039 and parameters: {'a': 37, 'b': 19, 'c': 24, 'd': 31, 'stop_loss': 34, 'take_profit': 30}. Best is trial 12 with value: -127.869.\u001b[0m\n"
     ]
    },
    {
     "name": "stdout",
     "output_type": "stream",
     "text": [
      "a: 37, b: 19, score: -43.04\n"
     ]
    },
    {
     "name": "stderr",
     "output_type": "stream",
     "text": [
      "\u001b[32m[I 2021-02-17 23:14:28,746]\u001b[0m Trial 30 finished with value: 81.645 and parameters: {'a': 32, 'b': 30, 'c': 19, 'd': 29, 'stop_loss': 40, 'take_profit': 50}. Best is trial 12 with value: -127.869.\u001b[0m\n",
      "\u001b[32m[I 2021-02-17 23:14:28,911]\u001b[0m Trial 31 finished with value: -88.791 and parameters: {'a': 47, 'b': 35, 'c': 13, 'd': 35, 'stop_loss': 26, 'take_profit': 39}. Best is trial 12 with value: -127.869.\u001b[0m\n"
     ]
    },
    {
     "name": "stdout",
     "output_type": "stream",
     "text": [
      "a: 32, b: 30, score: -81.64\n",
      "a: 47, b: 35, score: 88.79\n"
     ]
    },
    {
     "name": "stderr",
     "output_type": "stream",
     "text": [
      "\u001b[32m[I 2021-02-17 23:14:29,078]\u001b[0m Trial 32 finished with value: -87.709 and parameters: {'a': 48, 'b': 26, 'c': 14, 'd': 36, 'stop_loss': 24, 'take_profit': 46}. Best is trial 12 with value: -127.869.\u001b[0m\n",
      "\u001b[32m[I 2021-02-17 23:14:29,240]\u001b[0m Trial 33 finished with value: -17.764 and parameters: {'a': 43, 'b': 31, 'c': 18, 'd': 34, 'stop_loss': 26, 'take_profit': 39}. Best is trial 12 with value: -127.869.\u001b[0m\n"
     ]
    },
    {
     "name": "stdout",
     "output_type": "stream",
     "text": [
      "a: 48, b: 26, score: 87.71\n",
      "a: 43, b: 31, score: 17.76\n"
     ]
    },
    {
     "name": "stderr",
     "output_type": "stream",
     "text": [
      "\u001b[32m[I 2021-02-17 23:14:29,429]\u001b[0m Trial 34 finished with value: -32.525 and parameters: {'a': 28, 'b': 38, 'c': 26, 'd': 39, 'stop_loss': 21, 'take_profit': 48}. Best is trial 12 with value: -127.869.\u001b[0m\n"
     ]
    },
    {
     "name": "stdout",
     "output_type": "stream",
     "text": [
      "a: 28, b: 38, score: 32.52\n"
     ]
    },
    {
     "name": "stderr",
     "output_type": "stream",
     "text": [
      "\u001b[32m[I 2021-02-17 23:14:29,654]\u001b[0m Trial 35 finished with value: -8.785 and parameters: {'a': 40, 'b': 45, 'c': 21, 'd': 34, 'stop_loss': 34, 'take_profit': 44}. Best is trial 12 with value: -127.869.\u001b[0m\n",
      "\u001b[32m[I 2021-02-17 23:14:29,816]\u001b[0m Trial 36 finished with value: 10.861 and parameters: {'a': 50, 'b': 27, 'c': 8, 'd': 32, 'stop_loss': 44, 'take_profit': 24}. Best is trial 12 with value: -127.869.\u001b[0m\n"
     ]
    },
    {
     "name": "stdout",
     "output_type": "stream",
     "text": [
      "a: 40, b: 45, score: 8.79\n",
      "a: 50, b: 27, score: -10.86\n"
     ]
    },
    {
     "name": "stderr",
     "output_type": "stream",
     "text": [
      "\u001b[32m[I 2021-02-17 23:14:29,988]\u001b[0m Trial 37 finished with value: -73.114 and parameters: {'a': 45, 'b': 22, 'c': 31, 'd': 36, 'stop_loss': 15, 'take_profit': 41}. Best is trial 12 with value: -127.869.\u001b[0m\n",
      "\u001b[32m[I 2021-02-17 23:14:30,159]\u001b[0m Trial 38 finished with value: -81.551 and parameters: {'a': 42, 'b': 42, 'c': 13, 'd': 36, 'stop_loss': 10, 'take_profit': 37}. Best is trial 12 with value: -127.869.\u001b[0m\n"
     ]
    },
    {
     "name": "stdout",
     "output_type": "stream",
     "text": [
      "a: 45, b: 22, score: 73.11\n",
      "a: 42, b: 42, score: 81.55\n"
     ]
    },
    {
     "name": "stderr",
     "output_type": "stream",
     "text": [
      "\u001b[32m[I 2021-02-17 23:14:30,396]\u001b[0m Trial 39 finished with value: -50.292 and parameters: {'a': 38, 'b': 32, 'c': 20, 'd': 39, 'stop_loss': 18, 'take_profit': 45}. Best is trial 12 with value: -127.869.\u001b[0m\n",
      "\u001b[32m[I 2021-02-17 23:14:30,561]\u001b[0m Trial 40 finished with value: 21.514 and parameters: {'a': 48, 'b': 37, 'c': 29, 'd': 30, 'stop_loss': 30, 'take_profit': 34}. Best is trial 12 with value: -127.869.\u001b[0m\n"
     ]
    },
    {
     "name": "stdout",
     "output_type": "stream",
     "text": [
      "a: 38, b: 32, score: 50.29\n",
      "a: 48, b: 37, score: -21.51\n"
     ]
    },
    {
     "name": "stderr",
     "output_type": "stream",
     "text": [
      "\u001b[32m[I 2021-02-17 23:14:30,747]\u001b[0m Trial 41 finished with value: -81.519 and parameters: {'a': 49, 'b': 27, 'c': 16, 'd': 36, 'stop_loss': 23, 'take_profit': 47}. Best is trial 12 with value: -127.869.\u001b[0m\n",
      "\u001b[32m[I 2021-02-17 23:14:30,916]\u001b[0m Trial 42 finished with value: -65.232 and parameters: {'a': 45, 'b': 25, 'c': 14, 'd': 34, 'stop_loss': 23, 'take_profit': 49}. Best is trial 12 with value: -127.869.\u001b[0m\n"
     ]
    },
    {
     "name": "stdout",
     "output_type": "stream",
     "text": [
      "a: 49, b: 27, score: 81.52\n",
      "a: 45, b: 25, score: 65.23\n"
     ]
    },
    {
     "name": "stderr",
     "output_type": "stream",
     "text": [
      "\u001b[32m[I 2021-02-17 23:14:31,088]\u001b[0m Trial 43 finished with value: -12.674 and parameters: {'a': 48, 'b': 29, 'c': 9, 'd': 38, 'stop_loss': 25, 'take_profit': 44}. Best is trial 12 with value: -127.869.\u001b[0m\n"
     ]
    },
    {
     "name": "stdout",
     "output_type": "stream",
     "text": [
      "a: 48, b: 29, score: 12.67\n"
     ]
    },
    {
     "name": "stderr",
     "output_type": "stream",
     "text": [
      "\u001b[32m[I 2021-02-17 23:14:31,325]\u001b[0m Trial 44 finished with value: -23.329 and parameters: {'a': 41, 'b': 34, 'c': 12, 'd': 35, 'stop_loss': 20, 'take_profit': 46}. Best is trial 12 with value: -127.869.\u001b[0m\n",
      "\u001b[32m[I 2021-02-17 23:14:31,487]\u001b[0m Trial 45 finished with value: 150.024 and parameters: {'a': 50, 'b': 13, 'c': 23, 'd': 32, 'stop_loss': 35, 'take_profit': 40}. Best is trial 12 with value: -127.869.\u001b[0m\n"
     ]
    },
    {
     "name": "stdout",
     "output_type": "stream",
     "text": [
      "a: 41, b: 34, score: 23.33\n",
      "a: 50, b: 13, score: -150.02\n"
     ]
    },
    {
     "name": "stderr",
     "output_type": "stream",
     "text": [
      "\u001b[32m[I 2021-02-17 23:14:31,668]\u001b[0m Trial 46 finished with value: -22.548 and parameters: {'a': 35, 'b': 24, 'c': 6, 'd': 38, 'stop_loss': 33, 'take_profit': 48}. Best is trial 12 with value: -127.869.\u001b[0m\n",
      "\u001b[32m[I 2021-02-17 23:14:31,855]\u001b[0m Trial 47 finished with value: -40.739 and parameters: {'a': 14, 'b': 26, 'c': 15, 'd': 36, 'stop_loss': 38, 'take_profit': 42}. Best is trial 12 with value: -127.869.\u001b[0m\n"
     ]
    },
    {
     "name": "stdout",
     "output_type": "stream",
     "text": [
      "a: 35, b: 24, score: 22.55\n",
      "a: 14, b: 26, score: 40.74\n"
     ]
    },
    {
     "name": "stderr",
     "output_type": "stream",
     "text": [
      "\u001b[32m[I 2021-02-17 23:14:32,079]\u001b[0m Trial 48 finished with value: -51.541 and parameters: {'a': 48, 'b': 19, 'c': 18, 'd': 34, 'stop_loss': 47, 'take_profit': 50}. Best is trial 12 with value: -127.869.\u001b[0m\n",
      "\u001b[32m[I 2021-02-17 23:14:32,257]\u001b[0m Trial 49 finished with value: -50.694 and parameters: {'a': 39, 'b': 41, 'c': 50, 'd': 40, 'stop_loss': 27, 'take_profit': 45}. Best is trial 12 with value: -127.869.\u001b[0m\n"
     ]
    },
    {
     "name": "stdout",
     "output_type": "stream",
     "text": [
      "a: 48, b: 19, score: 51.54\n",
      "a: 39, b: 41, score: 50.69\n"
     ]
    },
    {
     "name": "stderr",
     "output_type": "stream",
     "text": [
      "\u001b[32m[I 2021-02-17 23:14:32,425]\u001b[0m Trial 50 finished with value: -43.755 and parameters: {'a': 45, 'b': 22, 'c': 21, 'd': 33, 'stop_loss': 12, 'take_profit': 19}. Best is trial 12 with value: -127.869.\u001b[0m\n",
      "\u001b[32m[I 2021-02-17 23:14:32,591]\u001b[0m Trial 51 finished with value: -80.701 and parameters: {'a': 47, 'b': 36, 'c': 13, 'd': 35, 'stop_loss': 29, 'take_profit': 41}. Best is trial 12 with value: -127.869.\u001b[0m\n"
     ]
    },
    {
     "name": "stdout",
     "output_type": "stream",
     "text": [
      "a: 45, b: 22, score: 43.76\n",
      "a: 47, b: 36, score: 80.70\n"
     ]
    },
    {
     "name": "stderr",
     "output_type": "stream",
     "text": [
      "\u001b[32m[I 2021-02-17 23:14:32,770]\u001b[0m Trial 52 finished with value: -59.333 and parameters: {'a': 47, 'b': 36, 'c': 10, 'd': 37, 'stop_loss': 25, 'take_profit': 31}. Best is trial 12 with value: -127.869.\u001b[0m\n"
     ]
    },
    {
     "name": "stdout",
     "output_type": "stream",
     "text": [
      "a: 47, b: 36, score: 59.33\n"
     ]
    },
    {
     "name": "stderr",
     "output_type": "stream",
     "text": [
      "\u001b[32m[I 2021-02-17 23:14:32,994]\u001b[0m Trial 53 finished with value: -95.369 and parameters: {'a': 50, 'b': 32, 'c': 15, 'd': 35, 'stop_loss': 28, 'take_profit': 37}. Best is trial 12 with value: -127.869.\u001b[0m\n",
      "\u001b[32m[I 2021-02-17 23:14:33,166]\u001b[0m Trial 54 finished with value: -109.079 and parameters: {'a': 50, 'b': 32, 'c': 16, 'd': 36, 'stop_loss': 42, 'take_profit': 36}. Best is trial 12 with value: -127.869.\u001b[0m\n"
     ]
    },
    {
     "name": "stdout",
     "output_type": "stream",
     "text": [
      "a: 50, b: 32, score: 95.37\n",
      "a: 50, b: 32, score: 109.08\n"
     ]
    },
    {
     "name": "stderr",
     "output_type": "stream",
     "text": [
      "\u001b[32m[I 2021-02-17 23:14:33,334]\u001b[0m Trial 55 finished with value: -9.672 and parameters: {'a': 50, 'b': 31, 'c': 25, 'd': 32, 'stop_loss': 43, 'take_profit': 36}. Best is trial 12 with value: -127.869.\u001b[0m\n",
      "\u001b[32m[I 2021-02-17 23:14:33,499]\u001b[0m Trial 56 finished with value: -62.864 and parameters: {'a': 44, 'b': 29, 'c': 17, 'd': 38, 'stop_loss': 36, 'take_profit': 29}. Best is trial 12 with value: -127.869.\u001b[0m\n"
     ]
    },
    {
     "name": "stdout",
     "output_type": "stream",
     "text": [
      "a: 50, b: 31, score: 9.67\n",
      "a: 44, b: 29, score: 62.86\n"
     ]
    },
    {
     "name": "stderr",
     "output_type": "stream",
     "text": [
      "\u001b[32m[I 2021-02-17 23:14:33,666]\u001b[0m Trial 57 finished with value: 21.909 and parameters: {'a': 41, 'b': 35, 'c': 21, 'd': 31, 'stop_loss': 40, 'take_profit': 32}. Best is trial 12 with value: -127.869.\u001b[0m\n"
     ]
    },
    {
     "name": "stdout",
     "output_type": "stream",
     "text": [
      "a: 41, b: 35, score: -21.91\n"
     ]
    },
    {
     "name": "stderr",
     "output_type": "stream",
     "text": [
      "\u001b[32m[I 2021-02-17 23:14:33,893]\u001b[0m Trial 58 finished with value: -57.515 and parameters: {'a': 50, 'b': 33, 'c': 23, 'd': 33, 'stop_loss': 46, 'take_profit': 35}. Best is trial 12 with value: -127.869.\u001b[0m\n",
      "\u001b[32m[I 2021-02-17 23:14:34,057]\u001b[0m Trial 59 finished with value: -28.463 and parameters: {'a': 46, 'b': 32, 'c': 28, 'd': 34, 'stop_loss': 42, 'take_profit': 38}. Best is trial 12 with value: -127.869.\u001b[0m\n"
     ]
    },
    {
     "name": "stdout",
     "output_type": "stream",
     "text": [
      "a: 50, b: 33, score: 57.52\n",
      "a: 46, b: 32, score: 28.46\n"
     ]
    },
    {
     "name": "stderr",
     "output_type": "stream",
     "text": [
      "\u001b[32m[I 2021-02-17 23:14:34,243]\u001b[0m Trial 60 finished with value: -92.521 and parameters: {'a': 43, 'b': 40, 'c': 16, 'd': 39, 'stop_loss': 32, 'take_profit': 39}. Best is trial 12 with value: -127.869.\u001b[0m\n",
      "\u001b[32m[I 2021-02-17 23:14:34,416]\u001b[0m Trial 61 finished with value: -99.005 and parameters: {'a': 44, 'b': 41, 'c': 15, 'd': 39, 'stop_loss': 33, 'take_profit': 39}. Best is trial 12 with value: -127.869.\u001b[0m\n"
     ]
    },
    {
     "name": "stdout",
     "output_type": "stream",
     "text": [
      "a: 43, b: 40, score: 92.52\n",
      "a: 44, b: 41, score: 99.00\n"
     ]
    },
    {
     "name": "stderr",
     "output_type": "stream",
     "text": [
      "\u001b[32m[I 2021-02-17 23:14:34,656]\u001b[0m Trial 62 finished with value: -32.281 and parameters: {'a': 42, 'b': 48, 'c': 16, 'd': 40, 'stop_loss': 32, 'take_profit': 36}. Best is trial 12 with value: -127.869.\u001b[0m\n",
      "\u001b[32m[I 2021-02-17 23:14:34,827]\u001b[0m Trial 63 finished with value: -59.826 and parameters: {'a': 44, 'b': 40, 'c': 19, 'd': 37, 'stop_loss': 38, 'take_profit': 43}. Best is trial 12 with value: -127.869.\u001b[0m\n"
     ]
    },
    {
     "name": "stdout",
     "output_type": "stream",
     "text": [
      "a: 42, b: 48, score: 32.28\n",
      "a: 44, b: 40, score: 59.83\n"
     ]
    },
    {
     "name": "stderr",
     "output_type": "stream",
     "text": [
      "\u001b[32m[I 2021-02-17 23:14:35,013]\u001b[0m Trial 64 finished with value: -60.731 and parameters: {'a': 39, 'b': 48, 'c': 17, 'd': 39, 'stop_loss': 35, 'take_profit': 34}. Best is trial 12 with value: -127.869.\u001b[0m\n",
      "\u001b[32m[I 2021-02-17 23:14:35,185]\u001b[0m Trial 65 finished with value: -46.34 and parameters: {'a': 42, 'b': 44, 'c': 20, 'd': 38, 'stop_loss': 32, 'take_profit': 28}. Best is trial 12 with value: -127.869.\u001b[0m\n"
     ]
    },
    {
     "name": "stdout",
     "output_type": "stream",
     "text": [
      "a: 39, b: 48, score: 60.73\n",
      "a: 42, b: 44, score: 46.34\n"
     ]
    },
    {
     "name": "stderr",
     "output_type": "stream",
     "text": [
      "\u001b[32m[I 2021-02-17 23:14:35,345]\u001b[0m Trial 66 finished with value: 1547.868 and parameters: {'a': 45, 'b': 29, 'c': 15, 'd': 21, 'stop_loss': 40, 'take_profit': 40}. Best is trial 12 with value: -127.869.\u001b[0m\n"
     ]
    },
    {
     "name": "stdout",
     "output_type": "stream",
     "text": [
      "a: 45, b: 29, score: -1547.87\n"
     ]
    },
    {
     "name": "stderr",
     "output_type": "stream",
     "text": [
      "\u001b[32m[I 2021-02-17 23:14:35,622]\u001b[0m Trial 67 finished with value: -10.769 and parameters: {'a': 5, 'b': 42, 'c': 11, 'd': 37, 'stop_loss': 36, 'take_profit': 38}. Best is trial 12 with value: -127.869.\u001b[0m\n",
      "\u001b[32m[I 2021-02-17 23:14:35,783]\u001b[0m Trial 68 finished with value: 18.851 and parameters: {'a': 49, 'b': 5, 'c': 18, 'd': 39, 'stop_loss': 33, 'take_profit': 42}. Best is trial 12 with value: -127.869.\u001b[0m\n"
     ]
    },
    {
     "name": "stdout",
     "output_type": "stream",
     "text": [
      "a: 5, b: 42, score: 10.77\n",
      "a: 49, b: 5, score: -18.85\n"
     ]
    },
    {
     "name": "stderr",
     "output_type": "stream",
     "text": [
      "\u001b[32m[I 2021-02-17 23:14:35,970]\u001b[0m Trial 69 finished with value: -25.625 and parameters: {'a': 36, 'b': 24, 'c': 22, 'd': 40, 'stop_loss': 38, 'take_profit': 48}. Best is trial 12 with value: -127.869.\u001b[0m\n",
      "\u001b[32m[I 2021-02-17 23:14:36,137]\u001b[0m Trial 70 finished with value: -87.698 and parameters: {'a': 44, 'b': 39, 'c': 26, 'd': 36, 'stop_loss': 30, 'take_profit': 33}. Best is trial 12 with value: -127.869.\u001b[0m\n"
     ]
    },
    {
     "name": "stdout",
     "output_type": "stream",
     "text": [
      "a: 36, b: 24, score: 25.62\n",
      "a: 44, b: 39, score: 87.70\n"
     ]
    },
    {
     "name": "stderr",
     "output_type": "stream",
     "text": [
      "\u001b[32m[I 2021-02-17 23:14:36,367]\u001b[0m Trial 71 finished with value: -81.222 and parameters: {'a': 46, 'b': 38, 'c': 14, 'd': 35, 'stop_loss': 28, 'take_profit': 39}. Best is trial 12 with value: -127.869.\u001b[0m\n",
      "\u001b[32m[I 2021-02-17 23:14:36,536]\u001b[0m Trial 72 finished with value: -122.235 and parameters: {'a': 49, 'b': 33, 'c': 12, 'd': 35, 'stop_loss': 31, 'take_profit': 37}. Best is trial 12 with value: -127.869.\u001b[0m\n"
     ]
    },
    {
     "name": "stdout",
     "output_type": "stream",
     "text": [
      "a: 46, b: 38, score: 81.22\n",
      "a: 49, b: 33, score: 122.23\n"
     ]
    },
    {
     "name": "stderr",
     "output_type": "stream",
     "text": [
      "\u001b[32m[I 2021-02-17 23:14:36,708]\u001b[0m Trial 73 finished with value: -67.75 and parameters: {'a': 49, 'b': 30, 'c': 11, 'd': 37, 'stop_loss': 34, 'take_profit': 36}. Best is trial 12 with value: -127.869.\u001b[0m\n",
      "\u001b[32m[I 2021-02-17 23:14:36,877]\u001b[0m Trial 74 finished with value: -27.689 and parameters: {'a': 40, 'b': 32, 'c': 8, 'd': 36, 'stop_loss': 31, 'take_profit': 43}. Best is trial 12 with value: -127.869.\u001b[0m\n"
     ]
    },
    {
     "name": "stdout",
     "output_type": "stream",
     "text": [
      "a: 49, b: 30, score: 67.75\n",
      "a: 40, b: 32, score: 27.69\n"
     ]
    },
    {
     "name": "stderr",
     "output_type": "stream",
     "text": [
      "\u001b[32m[I 2021-02-17 23:14:37,044]\u001b[0m Trial 75 finished with value: -35.239 and parameters: {'a': 43, 'b': 34, 'c': 16, 'd': 33, 'stop_loss': 36, 'take_profit': 37}. Best is trial 12 with value: -127.869.\u001b[0m\n"
     ]
    },
    {
     "name": "stdout",
     "output_type": "stream",
     "text": [
      "a: 43, b: 34, score: 35.24\n"
     ]
    },
    {
     "name": "stderr",
     "output_type": "stream",
     "text": [
      "\u001b[32m[I 2021-02-17 23:14:37,265]\u001b[0m Trial 76 finished with value: -114.035 and parameters: {'a': 49, 'b': 28, 'c': 20, 'd': 34, 'stop_loss': 42, 'take_profit': 41}. Best is trial 12 with value: -127.869.\u001b[0m\n",
      "\u001b[32m[I 2021-02-17 23:14:37,428]\u001b[0m Trial 77 finished with value: -114.183 and parameters: {'a': 49, 'b': 28, 'c': 24, 'd': 34, 'stop_loss': 42, 'take_profit': 41}. Best is trial 12 with value: -127.869.\u001b[0m\n"
     ]
    },
    {
     "name": "stdout",
     "output_type": "stream",
     "text": [
      "a: 49, b: 28, score: 114.03\n",
      "a: 49, b: 28, score: 114.18\n"
     ]
    },
    {
     "name": "stderr",
     "output_type": "stream",
     "text": [
      "\u001b[32m[I 2021-02-17 23:14:37,590]\u001b[0m Trial 78 finished with value: -155.04 and parameters: {'a': 48, 'b': 28, 'c': 31, 'd': 34, 'stop_loss': 42, 'take_profit': 45}. Best is trial 78 with value: -155.04.\u001b[0m\n",
      "\u001b[32m[I 2021-02-17 23:14:37,758]\u001b[0m Trial 79 finished with value: -3.642 and parameters: {'a': 48, 'b': 28, 'c': 31, 'd': 32, 'stop_loss': 49, 'take_profit': 45}. Best is trial 78 with value: -155.04.\u001b[0m\n"
     ]
    },
    {
     "name": "stdout",
     "output_type": "stream",
     "text": [
      "a: 48, b: 28, score: 155.04\n",
      "a: 48, b: 28, score: 3.64\n"
     ]
    },
    {
     "name": "stderr",
     "output_type": "stream",
     "text": [
      "\u001b[32m[I 2021-02-17 23:14:37,995]\u001b[0m Trial 80 finished with value: -120.703 and parameters: {'a': 49, 'b': 27, 'c': 24, 'd': 34, 'stop_loss': 42, 'take_profit': 41}. Best is trial 78 with value: -155.04.\u001b[0m\n",
      "\u001b[32m[I 2021-02-17 23:14:38,159]\u001b[0m Trial 81 finished with value: -121.806 and parameters: {'a': 49, 'b': 26, 'c': 33, 'd': 34, 'stop_loss': 42, 'take_profit': 41}. Best is trial 78 with value: -155.04.\u001b[0m\n"
     ]
    },
    {
     "name": "stdout",
     "output_type": "stream",
     "text": [
      "a: 49, b: 27, score: 120.70\n",
      "a: 49, b: 26, score: 121.81\n"
     ]
    },
    {
     "name": "stderr",
     "output_type": "stream",
     "text": [
      "\u001b[32m[I 2021-02-17 23:14:38,333]\u001b[0m Trial 82 finished with value: -22.994 and parameters: {'a': 46, 'b': 26, 'c': 33, 'd': 34, 'stop_loss': 41, 'take_profit': 43}. Best is trial 78 with value: -155.04.\u001b[0m\n",
      "\u001b[32m[I 2021-02-17 23:14:38,490]\u001b[0m Trial 83 finished with value: -16.741 and parameters: {'a': 49, 'b': 23, 'c': 37, 'd': 33, 'stop_loss': 45, 'take_profit': 47}. Best is trial 78 with value: -155.04.\u001b[0m\n"
     ]
    },
    {
     "name": "stdout",
     "output_type": "stream",
     "text": [
      "a: 46, b: 26, score: 22.99\n",
      "a: 49, b: 23, score: 16.74\n"
     ]
    },
    {
     "name": "stderr",
     "output_type": "stream",
     "text": [
      "\u001b[32m[I 2021-02-17 23:14:38,657]\u001b[0m Trial 84 finished with value: -144.722 and parameters: {'a': 48, 'b': 26, 'c': 33, 'd': 34, 'stop_loss': 44, 'take_profit': 41}. Best is trial 78 with value: -155.04.\u001b[0m\n"
     ]
    },
    {
     "name": "stdout",
     "output_type": "stream",
     "text": [
      "a: 48, b: 26, score: 144.72\n"
     ]
    },
    {
     "name": "stderr",
     "output_type": "stream",
     "text": [
      "\u001b[32m[I 2021-02-17 23:14:38,894]\u001b[0m Trial 85 finished with value: 222.806 and parameters: {'a': 47, 'b': 20, 'c': 33, 'd': 31, 'stop_loss': 47, 'take_profit': 49}. Best is trial 78 with value: -155.04.\u001b[0m\n",
      "\u001b[32m[I 2021-02-17 23:14:39,065]\u001b[0m Trial 86 finished with value: -67.026 and parameters: {'a': 48, 'b': 26, 'c': 29, 'd': 33, 'stop_loss': 44, 'take_profit': 45}. Best is trial 78 with value: -155.04.\u001b[0m\n"
     ]
    },
    {
     "name": "stdout",
     "output_type": "stream",
     "text": [
      "a: 47, b: 20, score: -222.81\n",
      "a: 48, b: 26, score: 67.03\n"
     ]
    },
    {
     "name": "stderr",
     "output_type": "stream",
     "text": [
      "\u001b[32m[I 2021-02-17 23:14:39,246]\u001b[0m Trial 87 finished with value: -19.162 and parameters: {'a': 24, 'b': 25, 'c': 36, 'd': 34, 'stop_loss': 39, 'take_profit': 46}. Best is trial 78 with value: -155.04.\u001b[0m\n",
      "\u001b[32m[I 2021-02-17 23:14:39,409]\u001b[0m Trial 88 finished with value: -124.364 and parameters: {'a': 47, 'b': 27, 'c': 38, 'd': 35, 'stop_loss': 43, 'take_profit': 42}. Best is trial 78 with value: -155.04.\u001b[0m\n"
     ]
    },
    {
     "name": "stdout",
     "output_type": "stream",
     "text": [
      "a: 24, b: 25, score: 19.16\n",
      "a: 47, b: 27, score: 124.36\n"
     ]
    },
    {
     "name": "stderr",
     "output_type": "stream",
     "text": [
      "\u001b[32m[I 2021-02-17 23:14:39,583]\u001b[0m Trial 89 finished with value: -97.245 and parameters: {'a': 46, 'b': 30, 'c': 42, 'd': 35, 'stop_loss': 48, 'take_profit': 44}. Best is trial 78 with value: -155.04.\u001b[0m\n"
     ]
    },
    {
     "name": "stdout",
     "output_type": "stream",
     "text": [
      "a: 46, b: 30, score: 97.25\n"
     ]
    },
    {
     "name": "stderr",
     "output_type": "stream",
     "text": [
      "\u001b[32m[I 2021-02-17 23:14:39,804]\u001b[0m Trial 90 finished with value: 117.347 and parameters: {'a': 47, 'b': 23, 'c': 37, 'd': 32, 'stop_loss': 45, 'take_profit': 49}. Best is trial 78 with value: -155.04.\u001b[0m\n",
      "\u001b[32m[I 2021-02-17 23:14:39,967]\u001b[0m Trial 91 finished with value: -130.4 and parameters: {'a': 49, 'b': 27, 'c': 40, 'd': 35, 'stop_loss': 43, 'take_profit': 41}. Best is trial 78 with value: -155.04.\u001b[0m\n"
     ]
    },
    {
     "name": "stdout",
     "output_type": "stream",
     "text": [
      "a: 47, b: 23, score: -117.35\n",
      "a: 49, b: 27, score: 130.40\n"
     ]
    },
    {
     "name": "stderr",
     "output_type": "stream",
     "text": [
      "\u001b[32m[I 2021-02-17 23:14:40,162]\u001b[0m Trial 92 finished with value: -143.0 and parameters: {'a': 45, 'b': 27, 'c': 40, 'd': 35, 'stop_loss': 43, 'take_profit': 43}. Best is trial 78 with value: -155.04.\u001b[0m\n",
      "\u001b[32m[I 2021-02-17 23:14:40,353]\u001b[0m Trial 93 finished with value: -164.894 and parameters: {'a': 48, 'b': 27, 'c': 45, 'd': 35, 'stop_loss': 43, 'take_profit': 42}. Best is trial 93 with value: -164.894.\u001b[0m\n"
     ]
    },
    {
     "name": "stdout",
     "output_type": "stream",
     "text": [
      "a: 45, b: 27, score: 143.00\n",
      "a: 48, b: 27, score: 164.89\n"
     ]
    },
    {
     "name": "stderr",
     "output_type": "stream",
     "text": [
      "\u001b[32m[I 2021-02-17 23:14:40,581]\u001b[0m Trial 94 finished with value: -118.859 and parameters: {'a': 45, 'b': 23, 'c': 39, 'd': 35, 'stop_loss': 44, 'take_profit': 43}. Best is trial 93 with value: -164.894.\u001b[0m\n",
      "\u001b[32m[I 2021-02-17 23:14:40,740]\u001b[0m Trial 95 finished with value: -110.103 and parameters: {'a': 47, 'b': 25, 'c': 45, 'd': 35, 'stop_loss': 46, 'take_profit': 42}. Best is trial 93 with value: -164.894.\u001b[0m\n"
     ]
    },
    {
     "name": "stdout",
     "output_type": "stream",
     "text": [
      "a: 45, b: 23, score: 118.86\n",
      "a: 47, b: 25, score: 110.10\n"
     ]
    },
    {
     "name": "stderr",
     "output_type": "stream",
     "text": [
      "\u001b[32m[I 2021-02-17 23:14:40,927]\u001b[0m Trial 96 finished with value: -113.598 and parameters: {'a': 48, 'b': 27, 'c': 41, 'd': 36, 'stop_loss': 40, 'take_profit': 44}. Best is trial 93 with value: -164.894.\u001b[0m\n",
      "\u001b[32m[I 2021-02-17 23:14:41,108]\u001b[0m Trial 97 finished with value: -29.828 and parameters: {'a': 50, 'b': 29, 'c': 39, 'd': 30, 'stop_loss': 43, 'take_profit': 40}. Best is trial 93 with value: -164.894.\u001b[0m\n"
     ]
    },
    {
     "name": "stdout",
     "output_type": "stream",
     "text": [
      "a: 48, b: 27, score: 113.60\n",
      "a: 50, b: 29, score: 29.83\n"
     ]
    },
    {
     "name": "stderr",
     "output_type": "stream",
     "text": [
      "\u001b[32m[I 2021-02-17 23:14:41,282]\u001b[0m Trial 98 finished with value: 39.621 and parameters: {'a': 46, 'b': 21, 'c': 45, 'd': 33, 'stop_loss': 43, 'take_profit': 47}. Best is trial 93 with value: -164.894.\u001b[0m\n"
     ]
    },
    {
     "name": "stdout",
     "output_type": "stream",
     "text": [
      "a: 46, b: 21, score: -39.62\n"
     ]
    },
    {
     "name": "stderr",
     "output_type": "stream",
     "text": [
      "\u001b[32m[I 2021-02-17 23:14:41,486]\u001b[0m Trial 99 finished with value: -134.706 and parameters: {'a': 48, 'b': 24, 'c': 49, 'd': 35, 'stop_loss': 41, 'take_profit': 42}. Best is trial 93 with value: -164.894.\u001b[0m\n"
     ]
    },
    {
     "name": "stdout",
     "output_type": "stream",
     "text": [
      "a: 48, b: 24, score: 134.71\n"
     ]
    }
   ],
   "source": [
    "study = optuna.create_study()\n",
    "study.optimize(objective, n_trials=100)"
   ]
  },
  {
   "cell_type": "code",
   "execution_count": 62,
   "id": "literary-greene",
   "metadata": {},
   "outputs": [],
   "source": [
    "params=study.best_trial.params"
   ]
  },
  {
   "cell_type": "code",
   "execution_count": 63,
   "id": "italian-persian",
   "metadata": {},
   "outputs": [
    {
     "data": {
      "text/plain": [
       "{'a': 48, 'b': 27, 'c': 45, 'd': 35, 'stop_loss': 43, 'take_profit': 42}"
      ]
     },
     "execution_count": 63,
     "metadata": {},
     "output_type": "execute_result"
    }
   ],
   "source": [
    "params"
   ]
  },
  {
   "cell_type": "code",
   "execution_count": 64,
   "id": "running-bullet",
   "metadata": {},
   "outputs": [],
   "source": [
    "class CheckBot(Bot):\n",
    "    def atr(self, *, period: int = 14, price: str = \"C\"):\n",
    "        a = (self.df.H - self.df.L).abs()\n",
    "        b = (self.df.H - self.df[price].shift()).abs()\n",
    "        c = (self.df.L - self.df[price].shift()).abs()\n",
    "\n",
    "        df = pd.concat([a, b, c], axis=1).max(axis=1)\n",
    "        return df.ewm(span=period).mean()\n",
    "        \n",
    "    def strategy(self):\n",
    "        rsi = self.rsi(period=params['a'])\n",
    "        ema = self.ema(period=params['b'])\n",
    "        atr = self.atr(period=params['c'])\n",
    "        lower = ema - atr\n",
    "        upper = ema + atr\n",
    "        self.buy_entry = (rsi < params['d']) & (self.df.C < lower)\n",
    "        self.sell_entry = (rsi > 100 -params['d']) & (self.df.C > upper)\n",
    "        self.sell_exit = ema > self.df.C\n",
    "        self.buy_exit = ema < self.df.C\n",
    "        self.stop_loss = params['stop_loss']\n",
    "        self.take_profit = params['take_profit']"
   ]
  },
  {
   "cell_type": "code",
   "execution_count": 65,
   "id": "worth-collection",
   "metadata": {},
   "outputs": [
    {
     "name": "stdout",
     "output_type": "stream",
     "text": [
      "total profit        29270.000\n",
      "total trades          168.000\n",
      "win rate               68.452\n",
      "profit factor           1.405\n",
      "maximum drawdown    17200.000\n",
      "recovery factor         1.702\n",
      "riskreward ratio        0.647\n",
      "sharpe ratio            0.119\n",
      "average return        164.894\n",
      "stop loss               9.000\n",
      "take profit             2.000\n",
      "dtype: float64\n"
     ]
    },
    {
     "data": {
      "image/png": "[encoded data removed]",
      "text/plain": [
       "<Figure size 432x288 with 3 Axes>"
      ]
     },
     "metadata": {
      "needs_background": "light"
     },
     "output_type": "display_data"
    }
   ],
   "source": [
    "CheckBot(\n",
    "    account_id=account,\n",
    "    access_token=token,\n",
    "    environment='live',\n",
    "    instrument=inst,\n",
    "    granularity=glan, # 15 second candlestick,\n",
    ").backtest(from_date=start, to_date=end, filename=\"backtest.png\")"
   ]
  },
  {
   "cell_type": "code",
   "execution_count": null,
   "id": "quick-psychiatry",
   "metadata": {},
   "outputs": [],
   "source": []
  },
  {
   "cell_type": "code",
   "execution_count": null,
   "id": "returning-antibody",
   "metadata": {},
   "outputs": [],
   "source": [
    "#total profit        14490.000"
   ]
  }
 ],
 "metadata": {
  "kernelspec": {
   "display_name": "Python 3",
   "language": "python",
   "name": "python3"
  },
  "language_info": {
   "codemirror_mode": {
    "name": "ipython",
    "version": 3
   },
   "file_extension": ".py",
   "mimetype": "text/x-python",
   "name": "python",
   "nbconvert_exporter": "python",
   "pygments_lexer": "ipython3",
   "version": "3.8.7"
  }
 },
 "nbformat": 4,
 "nbformat_minor": 5
}
