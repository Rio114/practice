{
 "cells": [
  {
   "cell_type": "code",
   "execution_count": 69,
   "id": "applied-papua",
   "metadata": {},
   "outputs": [],
   "source": [
    "import os\n",
    "import pandas as pd\n",
    "import numpy as np\n",
    "from matplotlib import pylab as plt"
   ]
  },
  {
   "cell_type": "code",
   "execution_count": 2,
   "id": "standard-prediction",
   "metadata": {},
   "outputs": [],
   "source": [
    "token = os.environ['oanda_access_token']\n",
    "account = os.environ['oanda_account_id']"
   ]
  },
  {
   "cell_type": "code",
   "execution_count": 32,
   "id": "efficient-trinidad",
   "metadata": {},
   "outputs": [],
   "source": [
    "import optuna\n",
    "from oanda_bot import Bot"
   ]
  },
  {
   "cell_type": "code",
   "execution_count": 101,
   "id": "closed-happening",
   "metadata": {},
   "outputs": [],
   "source": [
    "class MyBot(Bot):\n",
    "    def set_param(self, a, b, stop_loss, take_profit):\n",
    "        self.a = a\n",
    "        self.b = b\n",
    "        self.stop_loss = stop_loss\n",
    "        self.take_profit = take_profit\n",
    "    \n",
    "    def strategy(self):\n",
    "        fast_ma = self.sma(period=self.a)\n",
    "        slow_ma = self.sma(period=self.b)\n",
    "        # golden cross\n",
    "        self.sell_exit = self.buy_entry = (fast_ma > slow_ma) & (\n",
    "            fast_ma.shift() <= slow_ma.shift()\n",
    "        )\n",
    "        # dead cross\n",
    "        self.buy_exit = self.sell_entry = (fast_ma < slow_ma) & (\n",
    "            fast_ma.shift() >= slow_ma.shift()\n",
    "        )\n",
    "\n",
    "    def backtest(\n",
    "            self, *, from_date: str = \"\", to_date: str = \"\", filename: str = \"\"\n",
    "        ) -> None:\n",
    "            csv = \"{}-{}-{}-{}.csv\".format(\n",
    "                self.instrument, self.granularity, from_date, to_date\n",
    "            )\n",
    "            if os.path.exists(csv):\n",
    "                self.df = pd.read_csv(\n",
    "                    csv, index_col=0, parse_dates=True, infer_datetime_format=True\n",
    "                )\n",
    "            else:\n",
    "                self._candles(from_date=from_date, to_date=to_date)\n",
    "                if from_date != \"\" and to_date != \"\":\n",
    "                    self.df.to_csv(csv)\n",
    "            self.strategy()\n",
    "            o = self.df.O.values\n",
    "            L = self.df.L.values\n",
    "            h = self.df.H.values\n",
    "            N = len(self.df)\n",
    "            long_trade = np.zeros(N)\n",
    "            short_trade = np.zeros(N)\n",
    "\n",
    "            # buy entry\n",
    "            buy_entry_s = np.hstack((False, self.buy_entry[:-1]))  # shift\n",
    "            long_trade[buy_entry_s] = o[buy_entry_s]\n",
    "            # buy exit\n",
    "            buy_exit_s = np.hstack((False, self.buy_exit[:-2], True))  # shift\n",
    "            long_trade[buy_exit_s] = -o[buy_exit_s]\n",
    "            # sell entry\n",
    "            sell_entry_s = np.hstack((False, self.sell_entry[:-1]))  # shift\n",
    "            short_trade[sell_entry_s] = o[sell_entry_s]\n",
    "            # sell exit\n",
    "            sell_exit_s = np.hstack((False, self.sell_exit[:-2], True))  # shift\n",
    "            short_trade[sell_exit_s] = -o[sell_exit_s]\n",
    "\n",
    "            long_pl = pd.Series(np.zeros(N))  # profit/loss of buy position\n",
    "            short_pl = pd.Series(np.zeros(N))  # profit/loss of sell position\n",
    "            buy_price = sell_price = 0\n",
    "            long_rr = []  # long return rate\n",
    "            short_rr = []  # short return rate\n",
    "            stop_loss = take_profit = 0\n",
    "\n",
    "            for i in range(1, N):\n",
    "                # buy entry\n",
    "                if long_trade[i] > 0:\n",
    "                    if buy_price == 0:\n",
    "                        buy_price = long_trade[i]\n",
    "                        short_trade[i] = -buy_price  # sell exit\n",
    "                    else:\n",
    "                        long_trade[i] = 0\n",
    "\n",
    "                # sell entry\n",
    "                if short_trade[i] > 0:\n",
    "                    if sell_price == 0:\n",
    "                        sell_price = short_trade[i]\n",
    "                        long_trade[i] = -sell_price  # buy exit\n",
    "                    else:\n",
    "                        short_trade[i] = 0\n",
    "\n",
    "                # buy exit\n",
    "                if long_trade[i] < 0:\n",
    "                    if buy_price != 0:\n",
    "                        long_pl[i] = (\n",
    "                            -(buy_price + long_trade[i]) * self.units\n",
    "                        )  # profit/loss fixed\n",
    "                        long_rr.append(\n",
    "                            round(long_pl[i] / buy_price * 100, 2)\n",
    "                        )  # long return rate\n",
    "                        buy_price = 0\n",
    "                    else:\n",
    "                        long_trade[i] = 0\n",
    "\n",
    "                # sell exit\n",
    "                if short_trade[i] < 0:\n",
    "                    if sell_price != 0:\n",
    "                        short_pl[i] = (\n",
    "                            sell_price + short_trade[i]\n",
    "                        ) * self.units  # profit/loss fixed\n",
    "                        short_rr.append(\n",
    "                            round(short_pl[i] / sell_price * 100, 2)\n",
    "                        )  # short return rate\n",
    "                        sell_price = 0\n",
    "                    else:\n",
    "                        short_trade[i] = 0\n",
    "\n",
    "                # close buy position with stop loss\n",
    "                if buy_price != 0 and self.stop_loss > 0:\n",
    "                    stop_price = buy_price - self.stop_loss * self.point\n",
    "                    if L[i] <= stop_price:\n",
    "                        long_trade[i] = -stop_price\n",
    "                        long_pl[i] = (\n",
    "                            -(buy_price + long_trade[i]) * self.units\n",
    "                        )  # profit/loss fixed\n",
    "                        long_rr.append(\n",
    "                            round(long_pl[i] / buy_price * 100, 2)\n",
    "                        )  # long return rate\n",
    "                        buy_price = 0\n",
    "                        stop_loss += 1\n",
    "\n",
    "                # close buy positon with take profit\n",
    "                if buy_price != 0 and self.take_profit > 0:\n",
    "                    limit_price = buy_price + self.take_profit * self.point\n",
    "                    if h[i] >= limit_price:\n",
    "                        long_trade[i] = -limit_price\n",
    "                        long_pl[i] = (\n",
    "                            -(buy_price + long_trade[i]) * self.units\n",
    "                        )  # profit/loss fixed\n",
    "                        long_rr.append(\n",
    "                            round(long_pl[i] / buy_price * 100, 2)\n",
    "                        )  # long return rate\n",
    "                        buy_price = 0\n",
    "                        take_profit += 1\n",
    "\n",
    "                # close sell position with stop loss\n",
    "                if sell_price != 0 and self.stop_loss > 0:\n",
    "                    stop_price = sell_price + self.stop_loss * self.point\n",
    "                    if h[i] >= stop_price:\n",
    "                        short_trade[i] = -stop_price\n",
    "                        short_pl[i] = (\n",
    "                            sell_price + short_trade[i]\n",
    "                        ) * self.units  # profit/loss fixed\n",
    "                        short_rr.append(\n",
    "                            round(short_pl[i] / sell_price * 100, 2)\n",
    "                        )  # short return rate\n",
    "                        sell_price = 0\n",
    "                        stop_loss += 1\n",
    "\n",
    "                # close sell position with take profit\n",
    "                if sell_price != 0 and self.take_profit > 0:\n",
    "                    limit_price = sell_price - self.take_profit * self.point\n",
    "                    if L[i] <= limit_price:\n",
    "                        short_trade[i] = -limit_price\n",
    "                        short_pl[i] = (\n",
    "                            sell_price + short_trade[i]\n",
    "                        ) * self.units  # profit/loss fixed\n",
    "                        short_rr.append(\n",
    "                            round(short_pl[i] / sell_price * 100, 2)\n",
    "                        )  # short return rate\n",
    "                        sell_price = 0\n",
    "                        take_profit += 1\n",
    "\n",
    "            win_trades = np.count_nonzero(long_pl.clip(lower=0)) + np.count_nonzero(\n",
    "                short_pl.clip(lower=0)\n",
    "            )\n",
    "            lose_trades = np.count_nonzero(long_pl.clip(upper=0)) + np.count_nonzero(\n",
    "                short_pl.clip(upper=0)\n",
    "            )\n",
    "            trades = (np.count_nonzero(long_trade) // 2) + (\n",
    "                np.count_nonzero(short_trade) // 2\n",
    "            )\n",
    "            gross_profit = long_pl.clip(lower=0).sum() + short_pl.clip(lower=0).sum()\n",
    "            gross_loss = long_pl.clip(upper=0).sum() + short_pl.clip(upper=0).sum()\n",
    "            profit_pl = gross_profit + gross_loss\n",
    "            self.equity = (long_pl + short_pl).cumsum()\n",
    "            mdd = (self.equity.cummax() - self.equity).max()\n",
    "            self.return_rate = pd.Series(short_rr + long_rr)\n",
    "\n",
    "            s = pd.Series(dtype=\"object\")\n",
    "            s.loc[\"total profit\"] = round(profit_pl, 3)\n",
    "            s.loc[\"total trades\"] = trades\n",
    "            s.loc[\"win rate\"] = round(win_trades / trades * 100, 3)\n",
    "            s.loc[\"profit factor\"] = round(-gross_profit / gross_loss, 3)\n",
    "            s.loc[\"maximum drawdown\"] = round(mdd, 3)\n",
    "            s.loc[\"recovery factor\"] = round(profit_pl / mdd, 3)\n",
    "            s.loc[\"riskreward ratio\"] = round(\n",
    "                -(gross_profit / win_trades) / (gross_loss / lose_trades), 3\n",
    "            )\n",
    "            s.loc[\"sharpe ratio\"] = round(\n",
    "                self.return_rate.mean() / self.return_rate.std(), 3\n",
    "            )\n",
    "            s.loc[\"average return\"] = round(self.return_rate.mean(), 3)\n",
    "            s.loc[\"stop loss\"] = stop_loss\n",
    "            s.loc[\"take profit\"] = take_profit\n",
    "#             print(s)\n",
    "\n",
    "#             fig = plt.figure()\n",
    "#             fig.subplots_adjust(\n",
    "#                 wspace=0.2, hspace=0.5, left=0.095, right=0.95, bottom=0.095, top=0.95\n",
    "#             )\n",
    "#             ax1 = fig.add_subplot(3, 1, 1)\n",
    "#             ax1.plot(self.df.C, label=\"close\")\n",
    "#             ax1.legend()\n",
    "#             ax2 = fig.add_subplot(3, 1, 2)\n",
    "#             ax2.plot(self.equity, label=\"equity\")\n",
    "#             ax2.legend()\n",
    "#             ax3 = fig.add_subplot(3, 1, 3)\n",
    "#             ax3.hist(self.return_rate, 50, rwidth=0.9)\n",
    "#             ax3.axvline(\n",
    "#                 sum(self.return_rate) / len(self.return_rate),\n",
    "#                 color=\"orange\",\n",
    "#                 label=\"average return\",\n",
    "#             )\n",
    "#             ax3.legend()\n",
    "#             if filename == \"\":\n",
    "#                 plt.show()\n",
    "#             else:\n",
    "#                 plt.savefig(filename)\n",
    "\n",
    "            return s"
   ]
  },
  {
   "cell_type": "code",
   "execution_count": 102,
   "id": "waiting-fraction",
   "metadata": {},
   "outputs": [],
   "source": [
    "mybot = MyBot(\n",
    "    account_id=account,\n",
    "    access_token=token,\n",
    "    environment='live',\n",
    "    instrument='USD_JPY',\n",
    "    granularity='H1', # 15 second candlestick,\n",
    ")"
   ]
  },
  {
   "cell_type": "code",
   "execution_count": 103,
   "id": "secret-drilling",
   "metadata": {},
   "outputs": [],
   "source": [
    "def objective(trial):\n",
    "    a = trial.suggest_int('a', 5, 15)\n",
    "    b = trial.suggest_int('b', 16, 30)\n",
    "    sl = trial.suggest_int('stop_loss', 10, 50)\n",
    "    tp = trial.suggest_int('take_profit', 10, 50)\n",
    "    \n",
    "    mybot.set_param(a, b, sl, tp)\n",
    "    \n",
    "    score =  -mybot.backtest(from_date=\"2020-12-1\", to_date=\"2021-2-14\", filename=\"backtest.png\")['average return']\n",
    "    print('a: %d, b: %d, score: %1.2f' % (a, b, -score))\n",
    "    return score"
   ]
  },
  {
   "cell_type": "code",
   "execution_count": 104,
   "id": "third-crack",
   "metadata": {},
   "outputs": [
    {
     "name": "stderr",
     "output_type": "stream",
     "text": [
      "\u001b[32m[I 2021-02-16 22:22:51,562]\u001b[0m A new study created in memory with name: no-name-6e562153-eda9-4a07-b1d4-4074bd237a1b\u001b[0m\n",
      "\u001b[32m[I 2021-02-16 22:22:51,642]\u001b[0m Trial 0 finished with value: -24.398 and parameters: {'a': 15, 'b': 23, 'stop_loss': 34, 'take_profit': 38}. Best is trial 0 with value: -24.398.\u001b[0m\n",
      "\u001b[32m[I 2021-02-16 22:22:51,708]\u001b[0m Trial 1 finished with value: -181.363 and parameters: {'a': 10, 'b': 19, 'stop_loss': 16, 'take_profit': 49}. Best is trial 1 with value: -181.363.\u001b[0m\n",
      "\u001b[32m[I 2021-02-16 22:22:51,762]\u001b[0m Trial 2 finished with value: -37.605 and parameters: {'a': 14, 'b': 29, 'stop_loss': 16, 'take_profit': 20}. Best is trial 1 with value: -181.363.\u001b[0m\n",
      "\u001b[32m[I 2021-02-16 22:22:51,830]\u001b[0m Trial 3 finished with value: -258.666 and parameters: {'a': 13, 'b': 25, 'stop_loss': 50, 'take_profit': 44}. Best is trial 3 with value: -258.666.\u001b[0m\n"
     ]
    },
    {
     "name": "stdout",
     "output_type": "stream",
     "text": [
      "a: 15, b: 23, score: 24.40\n",
      "a: 10, b: 19, score: 181.36\n",
      "a: 14, b: 29, score: 37.60\n",
      "a: 13, b: 25, score: 258.67\n"
     ]
    },
    {
     "name": "stderr",
     "output_type": "stream",
     "text": [
      "\u001b[32m[I 2021-02-16 22:22:51,892]\u001b[0m Trial 4 finished with value: -244.963 and parameters: {'a': 11, 'b': 24, 'stop_loss': 29, 'take_profit': 29}. Best is trial 3 with value: -258.666.\u001b[0m\n",
      "\u001b[32m[I 2021-02-16 22:22:51,952]\u001b[0m Trial 5 finished with value: 124.883 and parameters: {'a': 11, 'b': 16, 'stop_loss': 38, 'take_profit': 10}. Best is trial 3 with value: -258.666.\u001b[0m\n",
      "\u001b[32m[I 2021-02-16 22:22:52,014]\u001b[0m Trial 6 finished with value: -342.14 and parameters: {'a': 9, 'b': 29, 'stop_loss': 38, 'take_profit': 43}. Best is trial 6 with value: -342.14.\u001b[0m\n",
      "\u001b[32m[I 2021-02-16 22:22:52,080]\u001b[0m Trial 7 finished with value: -52.691 and parameters: {'a': 15, 'b': 16, 'stop_loss': 14, 'take_profit': 30}. Best is trial 6 with value: -342.14.\u001b[0m\n"
     ]
    },
    {
     "name": "stdout",
     "output_type": "stream",
     "text": [
      "a: 11, b: 24, score: 244.96\n",
      "a: 11, b: 16, score: -124.88\n",
      "a: 9, b: 29, score: 342.14\n",
      "a: 15, b: 16, score: 52.69\n"
     ]
    },
    {
     "name": "stderr",
     "output_type": "stream",
     "text": [
      "\u001b[32m[I 2021-02-16 22:22:52,142]\u001b[0m Trial 8 finished with value: -274.86 and parameters: {'a': 10, 'b': 25, 'stop_loss': 36, 'take_profit': 25}. Best is trial 6 with value: -342.14.\u001b[0m\n",
      "\u001b[32m[I 2021-02-16 22:22:52,199]\u001b[0m Trial 9 finished with value: -135.594 and parameters: {'a': 14, 'b': 23, 'stop_loss': 49, 'take_profit': 27}. Best is trial 6 with value: -342.14.\u001b[0m\n",
      "\u001b[32m[I 2021-02-16 22:22:52,288]\u001b[0m Trial 10 finished with value: -94.723 and parameters: {'a': 5, 'b': 30, 'stop_loss': 42, 'take_profit': 39}. Best is trial 6 with value: -342.14.\u001b[0m\n"
     ]
    },
    {
     "name": "stdout",
     "output_type": "stream",
     "text": [
      "a: 10, b: 25, score: 274.86\n",
      "a: 14, b: 23, score: 135.59\n",
      "a: 5, b: 30, score: 94.72\n"
     ]
    },
    {
     "name": "stderr",
     "output_type": "stream",
     "text": [
      "\u001b[32m[I 2021-02-16 22:22:52,379]\u001b[0m Trial 11 finished with value: 305.759 and parameters: {'a': 7, 'b': 27, 'stop_loss': 27, 'take_profit': 17}. Best is trial 6 with value: -342.14.\u001b[0m\n",
      "\u001b[32m[I 2021-02-16 22:22:52,461]\u001b[0m Trial 12 finished with value: -25.242 and parameters: {'a': 8, 'b': 27, 'stop_loss': 43, 'take_profit': 21}. Best is trial 6 with value: -342.14.\u001b[0m\n",
      "\u001b[32m[I 2021-02-16 22:22:52,544]\u001b[0m Trial 13 finished with value: 54.874 and parameters: {'a': 8, 'b': 21, 'stop_loss': 24, 'take_profit': 35}. Best is trial 6 with value: -342.14.\u001b[0m\n"
     ]
    },
    {
     "name": "stdout",
     "output_type": "stream",
     "text": [
      "a: 7, b: 27, score: -305.76\n",
      "a: 8, b: 27, score: 25.24\n",
      "a: 8, b: 21, score: -54.87\n"
     ]
    },
    {
     "name": "stderr",
     "output_type": "stream",
     "text": [
      "\u001b[32m[I 2021-02-16 22:22:52,630]\u001b[0m Trial 14 finished with value: -408.428 and parameters: {'a': 9, 'b': 27, 'stop_loss': 35, 'take_profit': 48}. Best is trial 14 with value: -408.428.\u001b[0m\n",
      "\u001b[32m[I 2021-02-16 22:22:52,715]\u001b[0m Trial 15 finished with value: -327.465 and parameters: {'a': 6, 'b': 28, 'stop_loss': 43, 'take_profit': 50}. Best is trial 14 with value: -408.428.\u001b[0m\n",
      "\u001b[32m[I 2021-02-16 22:22:52,806]\u001b[0m Trial 16 finished with value: -347.849 and parameters: {'a': 8, 'b': 30, 'stop_loss': 21, 'take_profit': 45}. Best is trial 14 with value: -408.428.\u001b[0m\n"
     ]
    },
    {
     "name": "stdout",
     "output_type": "stream",
     "text": [
      "a: 9, b: 27, score: 408.43\n",
      "a: 6, b: 28, score: 327.46\n",
      "a: 8, b: 30, score: 347.85\n"
     ]
    },
    {
     "name": "stderr",
     "output_type": "stream",
     "text": [
      "\u001b[32m[I 2021-02-16 22:22:52,893]\u001b[0m Trial 17 finished with value: -388.297 and parameters: {'a': 6, 'b': 30, 'stop_loss': 24, 'take_profit': 46}. Best is trial 14 with value: -408.428.\u001b[0m\n",
      "\u001b[32m[I 2021-02-16 22:22:52,971]\u001b[0m Trial 18 finished with value: -113.436 and parameters: {'a': 5, 'b': 26, 'stop_loss': 21, 'take_profit': 49}. Best is trial 14 with value: -408.428.\u001b[0m\n",
      "\u001b[32m[I 2021-02-16 22:22:53,057]\u001b[0m Trial 19 finished with value: -191.874 and parameters: {'a': 6, 'b': 30, 'stop_loss': 33, 'take_profit': 35}. Best is trial 14 with value: -408.428.\u001b[0m\n"
     ]
    },
    {
     "name": "stdout",
     "output_type": "stream",
     "text": [
      "a: 6, b: 30, score: 388.30\n",
      "a: 5, b: 26, score: 113.44\n",
      "a: 6, b: 30, score: 191.87\n"
     ]
    },
    {
     "name": "stderr",
     "output_type": "stream",
     "text": [
      "\u001b[32m[I 2021-02-16 22:22:53,154]\u001b[0m Trial 20 finished with value: -428.472 and parameters: {'a': 12, 'b': 21, 'stop_loss': 10, 'take_profit': 47}. Best is trial 20 with value: -428.472.\u001b[0m\n",
      "\u001b[32m[I 2021-02-16 22:22:53,242]\u001b[0m Trial 21 finished with value: -487.997 and parameters: {'a': 12, 'b': 21, 'stop_loss': 10, 'take_profit': 46}. Best is trial 21 with value: -487.997.\u001b[0m\n",
      "\u001b[32m[I 2021-02-16 22:22:53,321]\u001b[0m Trial 22 finished with value: -350.34 and parameters: {'a': 12, 'b': 20, 'stop_loss': 10, 'take_profit': 41}. Best is trial 21 with value: -487.997.\u001b[0m\n"
     ]
    },
    {
     "name": "stdout",
     "output_type": "stream",
     "text": [
      "a: 12, b: 21, score: 428.47\n",
      "a: 12, b: 21, score: 488.00\n",
      "a: 12, b: 20, score: 350.34\n"
     ]
    },
    {
     "name": "stderr",
     "output_type": "stream",
     "text": [
      "\u001b[32m[I 2021-02-16 22:22:53,413]\u001b[0m Trial 23 finished with value: -342.811 and parameters: {'a': 12, 'b': 18, 'stop_loss': 10, 'take_profit': 50}. Best is trial 21 with value: -487.997.\u001b[0m\n",
      "\u001b[32m[I 2021-02-16 22:22:53,492]\u001b[0m Trial 24 finished with value: -325.117 and parameters: {'a': 12, 'b': 21, 'stop_loss': 13, 'take_profit': 47}. Best is trial 21 with value: -487.997.\u001b[0m\n",
      "\u001b[32m[I 2021-02-16 22:22:53,587]\u001b[0m Trial 25 finished with value: -319.594 and parameters: {'a': 11, 'b': 21, 'stop_loss': 31, 'take_profit': 41}. Best is trial 21 with value: -487.997.\u001b[0m\n"
     ]
    },
    {
     "name": "stdout",
     "output_type": "stream",
     "text": [
      "a: 12, b: 18, score: 342.81\n",
      "a: 12, b: 21, score: 325.12\n",
      "a: 11, b: 21, score: 319.59\n"
     ]
    },
    {
     "name": "stderr",
     "output_type": "stream",
     "text": [
      "\u001b[32m[I 2021-02-16 22:22:53,678]\u001b[0m Trial 26 finished with value: -320.996 and parameters: {'a': 13, 'b': 22, 'stop_loss': 19, 'take_profit': 34}. Best is trial 21 with value: -487.997.\u001b[0m\n",
      "\u001b[32m[I 2021-02-16 22:22:53,762]\u001b[0m Trial 27 finished with value: -311.374 and parameters: {'a': 9, 'b': 18, 'stop_loss': 11, 'take_profit': 47}. Best is trial 21 with value: -487.997.\u001b[0m\n",
      "\u001b[32m[I 2021-02-16 22:22:53,851]\u001b[0m Trial 28 finished with value: -157.814 and parameters: {'a': 13, 'b': 19, 'stop_loss': 47, 'take_profit': 42}. Best is trial 21 with value: -487.997.\u001b[0m\n"
     ]
    },
    {
     "name": "stdout",
     "output_type": "stream",
     "text": [
      "a: 13, b: 22, score: 321.00\n",
      "a: 9, b: 18, score: 311.37\n",
      "a: 13, b: 19, score: 157.81\n"
     ]
    },
    {
     "name": "stderr",
     "output_type": "stream",
     "text": [
      "\u001b[32m[I 2021-02-16 22:22:53,943]\u001b[0m Trial 29 finished with value: -133.602 and parameters: {'a': 9, 'b': 23, 'stop_loss': 33, 'take_profit': 38}. Best is trial 21 with value: -487.997.\u001b[0m\n",
      "\u001b[32m[I 2021-02-16 22:22:54,026]\u001b[0m Trial 30 finished with value: -236.045 and parameters: {'a': 11, 'b': 22, 'stop_loss': 27, 'take_profit': 50}. Best is trial 21 with value: -487.997.\u001b[0m\n",
      "\u001b[32m[I 2021-02-16 22:22:54,096]\u001b[0m Trial 31 finished with value: -302.076 and parameters: {'a': 12, 'b': 22, 'stop_loss': 24, 'take_profit': 46}. Best is trial 21 with value: -487.997.\u001b[0m\n"
     ]
    },
    {
     "name": "stdout",
     "output_type": "stream",
     "text": [
      "a: 9, b: 23, score: 133.60\n",
      "a: 11, b: 22, score: 236.04\n",
      "a: 12, b: 22, score: 302.08\n"
     ]
    },
    {
     "name": "stderr",
     "output_type": "stream",
     "text": [
      "\u001b[32m[I 2021-02-16 22:22:54,169]\u001b[0m Trial 32 finished with value: -226.566 and parameters: {'a': 10, 'b': 20, 'stop_loss': 17, 'take_profit': 47}. Best is trial 21 with value: -487.997.\u001b[0m\n",
      "\u001b[32m[I 2021-02-16 22:22:54,263]\u001b[0m Trial 33 finished with value: -242.393 and parameters: {'a': 14, 'b': 19, 'stop_loss': 13, 'take_profit': 44}. Best is trial 21 with value: -487.997.\u001b[0m\n",
      "\u001b[32m[I 2021-02-16 22:22:54,349]\u001b[0m Trial 34 finished with value: -1.649 and parameters: {'a': 7, 'b': 24, 'stop_loss': 40, 'take_profit': 39}. Best is trial 21 with value: -487.997.\u001b[0m\n"
     ]
    },
    {
     "name": "stdout",
     "output_type": "stream",
     "text": [
      "a: 10, b: 20, score: 226.57\n",
      "a: 14, b: 19, score: 242.39\n",
      "a: 7, b: 24, score: 1.65\n"
     ]
    },
    {
     "name": "stderr",
     "output_type": "stream",
     "text": [
      "\u001b[32m[I 2021-02-16 22:22:54,440]\u001b[0m Trial 35 finished with value: -58.132 and parameters: {'a': 15, 'b': 24, 'stop_loss': 35, 'take_profit': 49}. Best is trial 21 with value: -487.997.\u001b[0m\n",
      "\u001b[32m[I 2021-02-16 22:22:54,524]\u001b[0m Trial 36 finished with value: -155.198 and parameters: {'a': 13, 'b': 28, 'stop_loss': 30, 'take_profit': 45}. Best is trial 21 with value: -487.997.\u001b[0m\n",
      "\u001b[32m[I 2021-02-16 22:22:54,608]\u001b[0m Trial 37 finished with value: -255.039 and parameters: {'a': 10, 'b': 20, 'stop_loss': 16, 'take_profit': 48}. Best is trial 21 with value: -487.997.\u001b[0m\n"
     ]
    },
    {
     "name": "stdout",
     "output_type": "stream",
     "text": [
      "a: 15, b: 24, score: 58.13\n",
      "a: 13, b: 28, score: 155.20\n",
      "a: 10, b: 20, score: 255.04\n"
     ]
    },
    {
     "name": "stderr",
     "output_type": "stream",
     "text": [
      "\u001b[32m[I 2021-02-16 22:22:54,697]\u001b[0m Trial 38 finished with value: -242.109 and parameters: {'a': 11, 'b': 29, 'stop_loss': 37, 'take_profit': 42}. Best is trial 21 with value: -487.997.\u001b[0m\n"
     ]
    },
    {
     "name": "stdout",
     "output_type": "stream",
     "text": [
      "a: 11, b: 29, score: 242.11\n"
     ]
    },
    {
     "name": "stderr",
     "output_type": "stream",
     "text": [
      "\u001b[32m[I 2021-02-16 22:22:54,984]\u001b[0m Trial 39 finished with value: -42.239 and parameters: {'a': 13, 'b': 18, 'stop_loss': 24, 'take_profit': 37}. Best is trial 21 with value: -487.997.\u001b[0m\n",
      "\u001b[32m[I 2021-02-16 22:22:55,072]\u001b[0m Trial 40 finished with value: 113.033 and parameters: {'a': 9, 'b': 26, 'stop_loss': 27, 'take_profit': 10}. Best is trial 21 with value: -487.997.\u001b[0m\n",
      "\u001b[32m[I 2021-02-16 22:22:55,159]\u001b[0m Trial 41 finished with value: -350.34 and parameters: {'a': 12, 'b': 20, 'stop_loss': 10, 'take_profit': 41}. Best is trial 21 with value: -487.997.\u001b[0m\n"
     ]
    },
    {
     "name": "stdout",
     "output_type": "stream",
     "text": [
      "a: 13, b: 18, score: 42.24\n",
      "a: 9, b: 26, score: -113.03\n",
      "a: 12, b: 20, score: 350.34\n"
     ]
    },
    {
     "name": "stderr",
     "output_type": "stream",
     "text": [
      "\u001b[32m[I 2021-02-16 22:22:55,255]\u001b[0m Trial 42 finished with value: -240.456 and parameters: {'a': 12, 'b': 17, 'stop_loss': 15, 'take_profit': 44}. Best is trial 21 with value: -487.997.\u001b[0m\n",
      "\u001b[32m[I 2021-02-16 22:22:55,340]\u001b[0m Trial 43 finished with value: -337.795 and parameters: {'a': 11, 'b': 21, 'stop_loss': 12, 'take_profit': 32}. Best is trial 21 with value: -487.997.\u001b[0m\n",
      "\u001b[32m[I 2021-02-16 22:22:55,428]\u001b[0m Trial 44 finished with value: -194.081 and parameters: {'a': 14, 'b': 22, 'stop_loss': 18, 'take_profit': 43}. Best is trial 21 with value: -487.997.\u001b[0m\n"
     ]
    },
    {
     "name": "stdout",
     "output_type": "stream",
     "text": [
      "a: 12, b: 17, score: 240.46\n",
      "a: 11, b: 21, score: 337.80\n",
      "a: 14, b: 22, score: 194.08\n"
     ]
    },
    {
     "name": "stderr",
     "output_type": "stream",
     "text": [
      "\u001b[32m[I 2021-02-16 22:22:55,521]\u001b[0m Trial 45 finished with value: -245.192 and parameters: {'a': 11, 'b': 20, 'stop_loss': 10, 'take_profit': 40}. Best is trial 21 with value: -487.997.\u001b[0m\n",
      "\u001b[32m[I 2021-02-16 22:22:55,605]\u001b[0m Trial 46 finished with value: -420.208 and parameters: {'a': 10, 'b': 25, 'stop_loss': 40, 'take_profit': 46}. Best is trial 21 with value: -487.997.\u001b[0m\n",
      "\u001b[32m[I 2021-02-16 22:22:55,692]\u001b[0m Trial 47 finished with value: -214.094 and parameters: {'a': 7, 'b': 25, 'stop_loss': 39, 'take_profit': 45}. Best is trial 21 with value: -487.997.\u001b[0m\n"
     ]
    },
    {
     "name": "stdout",
     "output_type": "stream",
     "text": [
      "a: 11, b: 20, score: 245.19\n",
      "a: 10, b: 25, score: 420.21\n",
      "a: 7, b: 25, score: 214.09\n"
     ]
    },
    {
     "name": "stderr",
     "output_type": "stream",
     "text": [
      "\u001b[32m[I 2021-02-16 22:22:55,781]\u001b[0m Trial 48 finished with value: -263.319 and parameters: {'a': 9, 'b': 26, 'stop_loss': 41, 'take_profit': 48}. Best is trial 21 with value: -487.997.\u001b[0m\n",
      "\u001b[32m[I 2021-02-16 22:22:55,863]\u001b[0m Trial 49 finished with value: -378.191 and parameters: {'a': 10, 'b': 27, 'stop_loss': 45, 'take_profit': 50}. Best is trial 21 with value: -487.997.\u001b[0m\n",
      "\u001b[32m[I 2021-02-16 22:22:55,946]\u001b[0m Trial 50 finished with value: 108.104 and parameters: {'a': 6, 'b': 25, 'stop_loss': 35, 'take_profit': 14}. Best is trial 21 with value: -487.997.\u001b[0m\n"
     ]
    },
    {
     "name": "stdout",
     "output_type": "stream",
     "text": [
      "a: 9, b: 26, score: 263.32\n",
      "a: 10, b: 27, score: 378.19\n",
      "a: 6, b: 25, score: -108.10\n"
     ]
    },
    {
     "name": "stderr",
     "output_type": "stream",
     "text": [
      "\u001b[32m[I 2021-02-16 22:22:56,040]\u001b[0m Trial 51 finished with value: -368.145 and parameters: {'a': 10, 'b': 28, 'stop_loss': 46, 'take_profit': 50}. Best is trial 21 with value: -487.997.\u001b[0m\n",
      "\u001b[32m[I 2021-02-16 22:22:56,119]\u001b[0m Trial 52 finished with value: -313.353 and parameters: {'a': 8, 'b': 27, 'stop_loss': 44, 'take_profit': 46}. Best is trial 21 with value: -487.997.\u001b[0m\n",
      "\u001b[32m[I 2021-02-16 22:22:56,207]\u001b[0m Trial 53 finished with value: -225.215 and parameters: {'a': 10, 'b': 29, 'stop_loss': 49, 'take_profit': 48}. Best is trial 21 with value: -487.997.\u001b[0m\n"
     ]
    },
    {
     "name": "stdout",
     "output_type": "stream",
     "text": [
      "a: 10, b: 28, score: 368.14\n",
      "a: 8, b: 27, score: 313.35\n",
      "a: 10, b: 29, score: 225.22\n"
     ]
    },
    {
     "name": "stderr",
     "output_type": "stream",
     "text": [
      "\u001b[32m[I 2021-02-16 22:22:56,292]\u001b[0m Trial 54 finished with value: -303.938 and parameters: {'a': 9, 'b': 26, 'stop_loss': 46, 'take_profit': 50}. Best is trial 21 with value: -487.997.\u001b[0m\n",
      "\u001b[32m[I 2021-02-16 22:22:56,375]\u001b[0m Trial 55 finished with value: -326.192 and parameters: {'a': 11, 'b': 27, 'stop_loss': 38, 'take_profit': 43}. Best is trial 21 with value: -487.997.\u001b[0m\n",
      "\u001b[32m[I 2021-02-16 22:22:56,462]\u001b[0m Trial 56 finished with value: -55.857 and parameters: {'a': 8, 'b': 24, 'stop_loss': 44, 'take_profit': 46}. Best is trial 21 with value: -487.997.\u001b[0m\n"
     ]
    },
    {
     "name": "stdout",
     "output_type": "stream",
     "text": [
      "a: 9, b: 26, score: 303.94\n",
      "a: 11, b: 27, score: 326.19\n",
      "a: 8, b: 24, score: 55.86\n"
     ]
    },
    {
     "name": "stderr",
     "output_type": "stream",
     "text": [
      "\u001b[32m[I 2021-02-16 22:22:56,549]\u001b[0m Trial 57 finished with value: -198.288 and parameters: {'a': 10, 'b': 23, 'stop_loss': 40, 'take_profit': 48}. Best is trial 21 with value: -487.997.\u001b[0m\n",
      "\u001b[32m[I 2021-02-16 22:22:56,633]\u001b[0m Trial 58 finished with value: -59.512 and parameters: {'a': 5, 'b': 25, 'stop_loss': 33, 'take_profit': 24}. Best is trial 21 with value: -487.997.\u001b[0m\n",
      "\u001b[32m[I 2021-02-16 22:22:56,728]\u001b[0m Trial 59 finished with value: -68.381 and parameters: {'a': 7, 'b': 28, 'stop_loss': 42, 'take_profit': 45}. Best is trial 21 with value: -487.997.\u001b[0m\n"
     ]
    },
    {
     "name": "stdout",
     "output_type": "stream",
     "text": [
      "a: 10, b: 23, score: 198.29\n",
      "a: 5, b: 25, score: 59.51\n",
      "a: 7, b: 28, score: 68.38\n"
     ]
    },
    {
     "name": "stderr",
     "output_type": "stream",
     "text": [
      "\u001b[32m[I 2021-02-16 22:22:56,821]\u001b[0m Trial 60 finished with value: -253.365 and parameters: {'a': 11, 'b': 27, 'stop_loss': 50, 'take_profit': 49}. Best is trial 21 with value: -487.997.\u001b[0m\n",
      "\u001b[32m[I 2021-02-16 22:22:56,907]\u001b[0m Trial 61 finished with value: -373.908 and parameters: {'a': 10, 'b': 28, 'stop_loss': 48, 'take_profit': 50}. Best is trial 21 with value: -487.997.\u001b[0m\n",
      "\u001b[32m[I 2021-02-16 22:22:56,988]\u001b[0m Trial 62 finished with value: -414.513 and parameters: {'a': 9, 'b': 29, 'stop_loss': 48, 'take_profit': 47}. Best is trial 21 with value: -487.997.\u001b[0m\n"
     ]
    },
    {
     "name": "stdout",
     "output_type": "stream",
     "text": [
      "a: 11, b: 27, score: 253.37\n",
      "a: 10, b: 28, score: 373.91\n",
      "a: 9, b: 29, score: 414.51\n"
     ]
    },
    {
     "name": "stderr",
     "output_type": "stream",
     "text": [
      "\u001b[32m[I 2021-02-16 22:22:57,077]\u001b[0m Trial 63 finished with value: -322.595 and parameters: {'a': 9, 'b': 30, 'stop_loss': 44, 'take_profit': 47}. Best is trial 21 with value: -487.997.\u001b[0m\n",
      "\u001b[32m[I 2021-02-16 22:22:57,159]\u001b[0m Trial 64 finished with value: -359.147 and parameters: {'a': 8, 'b': 29, 'stop_loss': 37, 'take_profit': 46}. Best is trial 21 with value: -487.997.\u001b[0m\n",
      "\u001b[32m[I 2021-02-16 22:22:57,241]\u001b[0m Trial 65 finished with value: -298.313 and parameters: {'a': 9, 'b': 30, 'stop_loss': 46, 'take_profit': 44}. Best is trial 21 with value: -487.997.\u001b[0m\n"
     ]
    },
    {
     "name": "stdout",
     "output_type": "stream",
     "text": [
      "a: 9, b: 30, score: 322.60\n",
      "a: 8, b: 29, score: 359.15\n",
      "a: 9, b: 30, score: 298.31\n"
     ]
    },
    {
     "name": "stderr",
     "output_type": "stream",
     "text": [
      "\u001b[32m[I 2021-02-16 22:22:57,333]\u001b[0m Trial 66 finished with value: -354.185 and parameters: {'a': 12, 'b': 26, 'stop_loss': 32, 'take_profit': 42}. Best is trial 21 with value: -487.997.\u001b[0m\n",
      "\u001b[32m[I 2021-02-16 22:22:57,423]\u001b[0m Trial 67 finished with value: -222.385 and parameters: {'a': 10, 'b': 29, 'stop_loss': 29, 'take_profit': 48}. Best is trial 21 with value: -487.997.\u001b[0m\n",
      "\u001b[32m[I 2021-02-16 22:22:57,507]\u001b[0m Trial 68 finished with value: -53.479 and parameters: {'a': 14, 'b': 28, 'stop_loss': 42, 'take_profit': 47}. Best is trial 21 with value: -487.997.\u001b[0m\n"
     ]
    },
    {
     "name": "stdout",
     "output_type": "stream",
     "text": [
      "a: 12, b: 26, score: 354.19\n",
      "a: 10, b: 29, score: 222.38\n",
      "a: 14, b: 28, score: 53.48\n"
     ]
    },
    {
     "name": "stderr",
     "output_type": "stream",
     "text": [
      "\u001b[32m[I 2021-02-16 22:22:57,591]\u001b[0m Trial 69 finished with value: -280.325 and parameters: {'a': 12, 'b': 22, 'stop_loss': 50, 'take_profit': 49}. Best is trial 21 with value: -487.997.\u001b[0m\n",
      "\u001b[32m[I 2021-02-16 22:22:57,673]\u001b[0m Trial 70 finished with value: -71.621 and parameters: {'a': 8, 'b': 25, 'stop_loss': 36, 'take_profit': 43}. Best is trial 21 with value: -487.997.\u001b[0m\n",
      "\u001b[32m[I 2021-02-16 22:22:57,757]\u001b[0m Trial 71 finished with value: -366.087 and parameters: {'a': 10, 'b': 28, 'stop_loss': 47, 'take_profit': 50}. Best is trial 21 with value: -487.997.\u001b[0m\n"
     ]
    },
    {
     "name": "stdout",
     "output_type": "stream",
     "text": [
      "a: 12, b: 22, score: 280.32\n",
      "a: 8, b: 25, score: 71.62\n",
      "a: 10, b: 28, score: 366.09\n"
     ]
    },
    {
     "name": "stderr",
     "output_type": "stream",
     "text": [
      "\u001b[32m[I 2021-02-16 22:22:57,851]\u001b[0m Trial 72 finished with value: -275.366 and parameters: {'a': 11, 'b': 27, 'stop_loss': 49, 'take_profit': 50}. Best is trial 21 with value: -487.997.\u001b[0m\n",
      "\u001b[32m[I 2021-02-16 22:22:57,938]\u001b[0m Trial 73 finished with value: -387.365 and parameters: {'a': 9, 'b': 29, 'stop_loss': 48, 'take_profit': 46}. Best is trial 21 with value: -487.997.\u001b[0m\n",
      "\u001b[32m[I 2021-02-16 22:22:58,024]\u001b[0m Trial 74 finished with value: -389.916 and parameters: {'a': 9, 'b': 29, 'stop_loss': 48, 'take_profit': 45}. Best is trial 21 with value: -487.997.\u001b[0m\n"
     ]
    },
    {
     "name": "stdout",
     "output_type": "stream",
     "text": [
      "a: 11, b: 27, score: 275.37\n",
      "a: 9, b: 29, score: 387.37\n",
      "a: 9, b: 29, score: 389.92\n"
     ]
    },
    {
     "name": "stderr",
     "output_type": "stream",
     "text": [
      "\u001b[32m[I 2021-02-16 22:22:58,114]\u001b[0m Trial 75 finished with value: -299.336 and parameters: {'a': 9, 'b': 30, 'stop_loss': 48, 'take_profit': 46}. Best is trial 21 with value: -487.997.\u001b[0m\n",
      "\u001b[32m[I 2021-02-16 22:22:58,199]\u001b[0m Trial 76 finished with value: -64.889 and parameters: {'a': 13, 'b': 29, 'stop_loss': 22, 'take_profit': 45}. Best is trial 21 with value: -487.997.\u001b[0m\n",
      "\u001b[32m[I 2021-02-16 22:22:58,284]\u001b[0m Trial 77 finished with value: -331.163 and parameters: {'a': 9, 'b': 21, 'stop_loss': 13, 'take_profit': 40}. Best is trial 21 with value: -487.997.\u001b[0m\n"
     ]
    },
    {
     "name": "stdout",
     "output_type": "stream",
     "text": [
      "a: 9, b: 30, score: 299.34\n",
      "a: 13, b: 29, score: 64.89\n",
      "a: 9, b: 21, score: 331.16\n"
     ]
    },
    {
     "name": "stderr",
     "output_type": "stream",
     "text": [
      "\u001b[32m[I 2021-02-16 22:22:58,372]\u001b[0m Trial 78 finished with value: -329.031 and parameters: {'a': 8, 'b': 30, 'stop_loss': 34, 'take_profit': 44}. Best is trial 21 with value: -487.997.\u001b[0m\n",
      "\u001b[32m[I 2021-02-16 22:22:58,460]\u001b[0m Trial 79 finished with value: -24.743 and parameters: {'a': 7, 'b': 29, 'stop_loss': 29, 'take_profit': 43}. Best is trial 21 with value: -487.997.\u001b[0m\n",
      "\u001b[32m[I 2021-02-16 22:22:58,542]\u001b[0m Trial 80 finished with value: -194.465 and parameters: {'a': 6, 'b': 30, 'stop_loss': 48, 'take_profit': 37}. Best is trial 21 with value: -487.997.\u001b[0m\n"
     ]
    },
    {
     "name": "stdout",
     "output_type": "stream",
     "text": [
      "a: 8, b: 30, score: 329.03\n",
      "a: 7, b: 29, score: 24.74\n",
      "a: 6, b: 30, score: 194.47\n"
     ]
    },
    {
     "name": "stderr",
     "output_type": "stream",
     "text": [
      "\u001b[32m[I 2021-02-16 22:22:58,640]\u001b[0m Trial 81 finished with value: -320.922 and parameters: {'a': 9, 'b': 28, 'stop_loss': 45, 'take_profit': 48}. Best is trial 21 with value: -487.997.\u001b[0m\n",
      "\u001b[32m[I 2021-02-16 22:22:58,725]\u001b[0m Trial 82 finished with value: -410.808 and parameters: {'a': 9, 'b': 29, 'stop_loss': 45, 'take_profit': 47}. Best is trial 21 with value: -487.997.\u001b[0m\n",
      "\u001b[32m[I 2021-02-16 22:22:58,812]\u001b[0m Trial 83 finished with value: -388.347 and parameters: {'a': 8, 'b': 29, 'stop_loss': 47, 'take_profit': 47}. Best is trial 21 with value: -487.997.\u001b[0m\n"
     ]
    },
    {
     "name": "stdout",
     "output_type": "stream",
     "text": [
      "a: 9, b: 28, score: 320.92\n",
      "a: 9, b: 29, score: 410.81\n",
      "a: 8, b: 29, score: 388.35\n"
     ]
    },
    {
     "name": "stderr",
     "output_type": "stream",
     "text": [
      "\u001b[32m[I 2021-02-16 22:22:58,918]\u001b[0m Trial 84 finished with value: -388.347 and parameters: {'a': 8, 'b': 29, 'stop_loss': 43, 'take_profit': 47}. Best is trial 21 with value: -487.997.\u001b[0m\n",
      "\u001b[32m[I 2021-02-16 22:22:59,003]\u001b[0m Trial 85 finished with value: -388.347 and parameters: {'a': 8, 'b': 29, 'stop_loss': 43, 'take_profit': 47}. Best is trial 21 with value: -487.997.\u001b[0m\n",
      "\u001b[32m[I 2021-02-16 22:22:59,093]\u001b[0m Trial 86 finished with value: -108.992 and parameters: {'a': 8, 'b': 19, 'stop_loss': 41, 'take_profit': 45}. Best is trial 21 with value: -487.997.\u001b[0m\n"
     ]
    },
    {
     "name": "stdout",
     "output_type": "stream",
     "text": [
      "a: 8, b: 29, score: 388.35\n",
      "a: 8, b: 29, score: 388.35\n",
      "a: 8, b: 19, score: 108.99\n"
     ]
    },
    {
     "name": "stderr",
     "output_type": "stream",
     "text": [
      "\u001b[32m[I 2021-02-16 22:22:59,190]\u001b[0m Trial 87 finished with value: -170.914 and parameters: {'a': 7, 'b': 29, 'stop_loss': 45, 'take_profit': 49}. Best is trial 21 with value: -487.997.\u001b[0m\n",
      "\u001b[32m[I 2021-02-16 22:22:59,273]\u001b[0m Trial 88 finished with value: -105.953 and parameters: {'a': 8, 'b': 21, 'stop_loss': 47, 'take_profit': 47}. Best is trial 21 with value: -487.997.\u001b[0m\n",
      "\u001b[32m[I 2021-02-16 22:22:59,356]\u001b[0m Trial 89 finished with value: -234.467 and parameters: {'a': 9, 'b': 23, 'stop_loss': 39, 'take_profit': 42}. Best is trial 21 with value: -487.997.\u001b[0m\n"
     ]
    },
    {
     "name": "stdout",
     "output_type": "stream",
     "text": [
      "a: 7, b: 29, score: 170.91\n",
      "a: 8, b: 21, score: 105.95\n",
      "a: 9, b: 23, score: 234.47\n"
     ]
    },
    {
     "name": "stderr",
     "output_type": "stream",
     "text": [
      "\u001b[32m[I 2021-02-16 22:22:59,441]\u001b[0m Trial 90 finished with value: -460.109 and parameters: {'a': 9, 'b': 28, 'stop_loss': 43, 'take_profit': 44}. Best is trial 21 with value: -487.997.\u001b[0m\n",
      "\u001b[32m[I 2021-02-16 22:22:59,519]\u001b[0m Trial 91 finished with value: -462.082 and parameters: {'a': 9, 'b': 28, 'stop_loss': 42, 'take_profit': 44}. Best is trial 21 with value: -487.997.\u001b[0m\n",
      "\u001b[32m[I 2021-02-16 22:22:59,602]\u001b[0m Trial 92 finished with value: -464.054 and parameters: {'a': 9, 'b': 28, 'stop_loss': 41, 'take_profit': 44}. Best is trial 21 with value: -487.997.\u001b[0m\n"
     ]
    },
    {
     "name": "stdout",
     "output_type": "stream",
     "text": [
      "a: 9, b: 28, score: 460.11\n",
      "a: 9, b: 28, score: 462.08\n",
      "a: 9, b: 28, score: 464.05\n"
     ]
    },
    {
     "name": "stderr",
     "output_type": "stream",
     "text": [
      "\u001b[32m[I 2021-02-16 22:22:59,687]\u001b[0m Trial 93 finished with value: -464.054 and parameters: {'a': 9, 'b': 28, 'stop_loss': 41, 'take_profit': 44}. Best is trial 21 with value: -487.997.\u001b[0m\n",
      "\u001b[32m[I 2021-02-16 22:22:59,772]\u001b[0m Trial 94 finished with value: -414.747 and parameters: {'a': 9, 'b': 28, 'stop_loss': 41, 'take_profit': 40}. Best is trial 21 with value: -487.997.\u001b[0m\n",
      "\u001b[32m[I 2021-02-16 22:22:59,855]\u001b[0m Trial 95 finished with value: -464.054 and parameters: {'a': 9, 'b': 28, 'stop_loss': 41, 'take_profit': 44}. Best is trial 21 with value: -487.997.\u001b[0m\n"
     ]
    },
    {
     "name": "stdout",
     "output_type": "stream",
     "text": [
      "a: 9, b: 28, score: 464.05\n",
      "a: 9, b: 28, score: 414.75\n",
      "a: 9, b: 28, score: 464.05\n"
     ]
    },
    {
     "name": "stderr",
     "output_type": "stream",
     "text": [
      "\u001b[32m[I 2021-02-16 22:22:59,947]\u001b[0m Trial 96 finished with value: -414.747 and parameters: {'a': 9, 'b': 28, 'stop_loss': 41, 'take_profit': 40}. Best is trial 21 with value: -487.997.\u001b[0m\n",
      "\u001b[32m[I 2021-02-16 22:23:00,046]\u001b[0m Trial 97 finished with value: -423.063 and parameters: {'a': 10, 'b': 28, 'stop_loss': 41, 'take_profit': 40}. Best is trial 21 with value: -487.997.\u001b[0m\n",
      "\u001b[32m[I 2021-02-16 22:23:00,130]\u001b[0m Trial 98 finished with value: -390.08 and parameters: {'a': 10, 'b': 27, 'stop_loss': 39, 'take_profit': 38}. Best is trial 21 with value: -487.997.\u001b[0m\n"
     ]
    },
    {
     "name": "stdout",
     "output_type": "stream",
     "text": [
      "a: 9, b: 28, score: 414.75\n",
      "a: 10, b: 28, score: 423.06\n",
      "a: 10, b: 27, score: 390.08\n"
     ]
    },
    {
     "name": "stderr",
     "output_type": "stream",
     "text": [
      "\u001b[32m[I 2021-02-16 22:23:00,214]\u001b[0m Trial 99 finished with value: -460.902 and parameters: {'a': 10, 'b': 27, 'stop_loss': 40, 'take_profit': 41}. Best is trial 21 with value: -487.997.\u001b[0m\n",
      "\u001b[32m[I 2021-02-16 22:23:00,299]\u001b[0m Trial 100 finished with value: -460.902 and parameters: {'a': 10, 'b': 27, 'stop_loss': 40, 'take_profit': 41}. Best is trial 21 with value: -487.997.\u001b[0m\n",
      "\u001b[32m[I 2021-02-16 22:23:00,381]\u001b[0m Trial 101 finished with value: -460.902 and parameters: {'a': 10, 'b': 27, 'stop_loss': 40, 'take_profit': 41}. Best is trial 21 with value: -487.997.\u001b[0m\n"
     ]
    },
    {
     "name": "stdout",
     "output_type": "stream",
     "text": [
      "a: 10, b: 27, score: 460.90\n",
      "a: 10, b: 27, score: 460.90\n",
      "a: 10, b: 27, score: 460.90\n"
     ]
    },
    {
     "name": "stderr",
     "output_type": "stream",
     "text": [
      "\u001b[32m[I 2021-02-16 22:23:00,465]\u001b[0m Trial 102 finished with value: -456.957 and parameters: {'a': 10, 'b': 27, 'stop_loss': 42, 'take_profit': 41}. Best is trial 21 with value: -487.997.\u001b[0m\n",
      "\u001b[32m[I 2021-02-16 22:23:00,550]\u001b[0m Trial 103 finished with value: -464.847 and parameters: {'a': 10, 'b': 27, 'stop_loss': 38, 'take_profit': 41}. Best is trial 21 with value: -487.997.\u001b[0m\n",
      "\u001b[32m[I 2021-02-16 22:23:00,638]\u001b[0m Trial 104 finished with value: -464.847 and parameters: {'a': 10, 'b': 27, 'stop_loss': 38, 'take_profit': 41}. Best is trial 21 with value: -487.997.\u001b[0m\n"
     ]
    },
    {
     "name": "stdout",
     "output_type": "stream",
     "text": [
      "a: 10, b: 27, score: 456.96\n",
      "a: 10, b: 27, score: 464.85\n",
      "a: 10, b: 27, score: 464.85\n"
     ]
    },
    {
     "name": "stderr",
     "output_type": "stream",
     "text": [
      "\u001b[32m[I 2021-02-16 22:23:00,729]\u001b[0m Trial 105 finished with value: -444.602 and parameters: {'a': 10, 'b': 26, 'stop_loss': 37, 'take_profit': 39}. Best is trial 21 with value: -487.997.\u001b[0m\n",
      "\u001b[32m[I 2021-02-16 22:23:00,815]\u001b[0m Trial 106 finished with value: -298.171 and parameters: {'a': 11, 'b': 27, 'stop_loss': 38, 'take_profit': 42}. Best is trial 21 with value: -487.997.\u001b[0m\n",
      "\u001b[32m[I 2021-02-16 22:23:00,899]\u001b[0m Trial 107 finished with value: -388.108 and parameters: {'a': 10, 'b': 27, 'stop_loss': 40, 'take_profit': 38}. Best is trial 21 with value: -487.997.\u001b[0m\n"
     ]
    },
    {
     "name": "stdout",
     "output_type": "stream",
     "text": [
      "a: 10, b: 26, score: 444.60\n",
      "a: 11, b: 27, score: 298.17\n",
      "a: 10, b: 27, score: 388.11\n"
     ]
    },
    {
     "name": "stderr",
     "output_type": "stream",
     "text": [
      "\u001b[32m[I 2021-02-16 22:23:00,996]\u001b[0m Trial 108 finished with value: -367.238 and parameters: {'a': 10, 'b': 26, 'stop_loss': 42, 'take_profit': 36}. Best is trial 21 with value: -487.997.\u001b[0m\n",
      "\u001b[32m[I 2021-02-16 22:23:01,081]\u001b[0m Trial 109 finished with value: -268.179 and parameters: {'a': 11, 'b': 27, 'stop_loss': 39, 'take_profit': 41}. Best is trial 21 with value: -487.997.\u001b[0m\n",
      "\u001b[32m[I 2021-02-16 22:23:01,166]\u001b[0m Trial 110 finished with value: -527.382 and parameters: {'a': 10, 'b': 28, 'stop_loss': 36, 'take_profit': 43}. Best is trial 110 with value: -527.382.\u001b[0m\n"
     ]
    },
    {
     "name": "stdout",
     "output_type": "stream",
     "text": [
      "a: 10, b: 26, score: 367.24\n",
      "a: 11, b: 27, score: 268.18\n",
      "a: 10, b: 28, score: 527.38\n"
     ]
    },
    {
     "name": "stderr",
     "output_type": "stream",
     "text": [
      "\u001b[32m[I 2021-02-16 22:23:01,258]\u001b[0m Trial 111 finished with value: -527.382 and parameters: {'a': 10, 'b': 28, 'stop_loss': 36, 'take_profit': 43}. Best is trial 110 with value: -527.382.\u001b[0m\n",
      "\u001b[32m[I 2021-02-16 22:23:01,337]\u001b[0m Trial 112 finished with value: -527.382 and parameters: {'a': 10, 'b': 28, 'stop_loss': 36, 'take_profit': 43}. Best is trial 110 with value: -527.382.\u001b[0m\n",
      "\u001b[32m[I 2021-02-16 22:23:01,421]\u001b[0m Trial 113 finished with value: -527.382 and parameters: {'a': 10, 'b': 28, 'stop_loss': 36, 'take_profit': 43}. Best is trial 110 with value: -527.382.\u001b[0m\n"
     ]
    },
    {
     "name": "stdout",
     "output_type": "stream",
     "text": [
      "a: 10, b: 28, score: 527.38\n",
      "a: 10, b: 28, score: 527.38\n",
      "a: 10, b: 28, score: 527.38\n"
     ]
    },
    {
     "name": "stderr",
     "output_type": "stream",
     "text": [
      "\u001b[32m[I 2021-02-16 22:23:01,507]\u001b[0m Trial 114 finished with value: -316.998 and parameters: {'a': 11, 'b': 28, 'stop_loss': 36, 'take_profit': 43}. Best is trial 110 with value: -527.382.\u001b[0m\n",
      "\u001b[32m[I 2021-02-16 22:23:01,587]\u001b[0m Trial 115 finished with value: -514.511 and parameters: {'a': 10, 'b': 28, 'stop_loss': 34, 'take_profit': 44}. Best is trial 110 with value: -527.382.\u001b[0m\n",
      "\u001b[32m[I 2021-02-16 22:23:01,673]\u001b[0m Trial 116 finished with value: -274.628 and parameters: {'a': 11, 'b': 28, 'stop_loss': 34, 'take_profit': 43}. Best is trial 110 with value: -527.382.\u001b[0m\n"
     ]
    },
    {
     "name": "stdout",
     "output_type": "stream",
     "text": [
      "a: 11, b: 28, score: 317.00\n",
      "a: 10, b: 28, score: 514.51\n",
      "a: 11, b: 28, score: 274.63\n"
     ]
    },
    {
     "name": "stderr",
     "output_type": "stream",
     "text": [
      "\u001b[32m[I 2021-02-16 22:23:01,762]\u001b[0m Trial 117 finished with value: -558.724 and parameters: {'a': 10, 'b': 28, 'stop_loss': 36, 'take_profit': 44}. Best is trial 117 with value: -558.724.\u001b[0m\n",
      "\u001b[32m[I 2021-02-16 22:23:01,847]\u001b[0m Trial 118 finished with value: -498.097 and parameters: {'a': 10, 'b': 28, 'stop_loss': 35, 'take_profit': 42}. Best is trial 117 with value: -558.724.\u001b[0m\n",
      "\u001b[32m[I 2021-02-16 22:23:01,934]\u001b[0m Trial 119 finished with value: -498.097 and parameters: {'a': 10, 'b': 28, 'stop_loss': 35, 'take_profit': 42}. Best is trial 117 with value: -558.724.\u001b[0m\n"
     ]
    },
    {
     "name": "stdout",
     "output_type": "stream",
     "text": [
      "a: 10, b: 28, score: 558.72\n",
      "a: 10, b: 28, score: 498.10\n",
      "a: 10, b: 28, score: 498.10\n"
     ]
    },
    {
     "name": "stderr",
     "output_type": "stream",
     "text": [
      "\u001b[32m[I 2021-02-16 22:23:02,027]\u001b[0m Trial 120 finished with value: -290.948 and parameters: {'a': 11, 'b': 28, 'stop_loss': 35, 'take_profit': 42}. Best is trial 117 with value: -558.724.\u001b[0m\n",
      "\u001b[32m[I 2021-02-16 22:23:02,112]\u001b[0m Trial 121 finished with value: -527.382 and parameters: {'a': 10, 'b': 28, 'stop_loss': 36, 'take_profit': 43}. Best is trial 117 with value: -558.724.\u001b[0m\n",
      "\u001b[32m[I 2021-02-16 22:23:02,202]\u001b[0m Trial 122 finished with value: -326.401 and parameters: {'a': 10, 'b': 28, 'stop_loss': 32, 'take_profit': 39}. Best is trial 117 with value: -558.724.\u001b[0m\n"
     ]
    },
    {
     "name": "stdout",
     "output_type": "stream",
     "text": [
      "a: 11, b: 28, score: 290.95\n",
      "a: 10, b: 28, score: 527.38\n",
      "a: 10, b: 28, score: 326.40\n"
     ]
    },
    {
     "name": "stderr",
     "output_type": "stream",
     "text": [
      "\u001b[32m[I 2021-02-16 22:23:02,292]\u001b[0m Trial 123 finished with value: -496.039 and parameters: {'a': 10, 'b': 28, 'stop_loss': 36, 'take_profit': 42}. Best is trial 117 with value: -558.724.\u001b[0m\n",
      "\u001b[32m[I 2021-02-16 22:23:02,374]\u001b[0m Trial 124 finished with value: -493.981 and parameters: {'a': 10, 'b': 28, 'stop_loss': 37, 'take_profit': 42}. Best is trial 117 with value: -558.724.\u001b[0m\n",
      "\u001b[32m[I 2021-02-16 22:23:02,461]\u001b[0m Trial 125 finished with value: -496.039 and parameters: {'a': 10, 'b': 28, 'stop_loss': 36, 'take_profit': 42}. Best is trial 117 with value: -558.724.\u001b[0m\n"
     ]
    },
    {
     "name": "stdout",
     "output_type": "stream",
     "text": [
      "a: 10, b: 28, score: 496.04\n",
      "a: 10, b: 28, score: 493.98\n",
      "a: 10, b: 28, score: 496.04\n"
     ]
    },
    {
     "name": "stderr",
     "output_type": "stream",
     "text": [
      "\u001b[32m[I 2021-02-16 22:23:02,559]\u001b[0m Trial 126 finished with value: -288.975 and parameters: {'a': 11, 'b': 28, 'stop_loss': 36, 'take_profit': 42}. Best is trial 117 with value: -558.724.\u001b[0m\n",
      "\u001b[32m[I 2021-02-16 22:23:02,643]\u001b[0m Trial 127 finished with value: -393.641 and parameters: {'a': 10, 'b': 29, 'stop_loss': 34, 'take_profit': 43}. Best is trial 117 with value: -558.724.\u001b[0m\n",
      "\u001b[32m[I 2021-02-16 22:23:02,731]\u001b[0m Trial 128 finished with value: -315.025 and parameters: {'a': 11, 'b': 28, 'stop_loss': 37, 'take_profit': 43}. Best is trial 117 with value: -558.724.\u001b[0m\n"
     ]
    },
    {
     "name": "stdout",
     "output_type": "stream",
     "text": [
      "a: 11, b: 28, score: 288.98\n",
      "a: 10, b: 29, score: 393.64\n",
      "a: 11, b: 28, score: 315.02\n"
     ]
    },
    {
     "name": "stderr",
     "output_type": "stream",
     "text": [
      "\u001b[32m[I 2021-02-16 22:23:02,827]\u001b[0m Trial 129 finished with value: -473.917 and parameters: {'a': 10, 'b': 28, 'stop_loss': 36, 'take_profit': 45}. Best is trial 117 with value: -558.724.\u001b[0m\n",
      "\u001b[32m[I 2021-02-16 22:23:02,907]\u001b[0m Trial 130 finished with value: -355.697 and parameters: {'a': 10, 'b': 29, 'stop_loss': 33, 'take_profit': 42}. Best is trial 117 with value: -558.724.\u001b[0m\n",
      "\u001b[32m[I 2021-02-16 22:23:02,990]\u001b[0m Trial 131 finished with value: -475.975 and parameters: {'a': 10, 'b': 28, 'stop_loss': 35, 'take_profit': 45}. Best is trial 117 with value: -558.724.\u001b[0m\n"
     ]
    },
    {
     "name": "stdout",
     "output_type": "stream",
     "text": [
      "a: 10, b: 28, score: 473.92\n",
      "a: 10, b: 29, score: 355.70\n",
      "a: 10, b: 28, score: 475.98\n"
     ]
    },
    {
     "name": "stderr",
     "output_type": "stream",
     "text": [
      "\u001b[32m[I 2021-02-16 22:23:03,086]\u001b[0m Trial 132 finished with value: -475.975 and parameters: {'a': 10, 'b': 28, 'stop_loss': 35, 'take_profit': 45}. Best is trial 117 with value: -558.724.\u001b[0m\n",
      "\u001b[32m[I 2021-02-16 22:23:03,169]\u001b[0m Trial 133 finished with value: -432.83 and parameters: {'a': 10, 'b': 29, 'stop_loss': 37, 'take_profit': 43}. Best is trial 117 with value: -558.724.\u001b[0m\n",
      "\u001b[32m[I 2021-02-16 22:23:03,253]\u001b[0m Trial 134 finished with value: -451.826 and parameters: {'a': 10, 'b': 28, 'stop_loss': 34, 'take_profit': 42}. Best is trial 117 with value: -558.724.\u001b[0m\n"
     ]
    },
    {
     "name": "stdout",
     "output_type": "stream",
     "text": [
      "a: 10, b: 28, score: 475.98\n",
      "a: 10, b: 29, score: 432.83\n",
      "a: 10, b: 28, score: 451.83\n"
     ]
    },
    {
     "name": "stderr",
     "output_type": "stream",
     "text": [
      "\u001b[32m[I 2021-02-16 22:23:03,343]\u001b[0m Trial 135 finished with value: -213.814 and parameters: {'a': 11, 'b': 28, 'stop_loss': 32, 'take_profit': 28}. Best is trial 117 with value: -558.724.\u001b[0m\n",
      "\u001b[32m[I 2021-02-16 22:23:03,432]\u001b[0m Trial 136 finished with value: -560.783 and parameters: {'a': 10, 'b': 28, 'stop_loss': 35, 'take_profit': 44}. Best is trial 136 with value: -560.783.\u001b[0m\n",
      "\u001b[32m[I 2021-02-16 22:23:03,517]\u001b[0m Trial 137 finished with value: -462.018 and parameters: {'a': 10, 'b': 29, 'stop_loss': 36, 'take_profit': 44}. Best is trial 136 with value: -560.783.\u001b[0m\n"
     ]
    },
    {
     "name": "stdout",
     "output_type": "stream",
     "text": [
      "a: 11, b: 28, score: 213.81\n",
      "a: 10, b: 28, score: 560.78\n",
      "a: 10, b: 29, score: 462.02\n"
     ]
    },
    {
     "name": "stderr",
     "output_type": "stream",
     "text": [
      "\u001b[32m[I 2021-02-16 22:23:03,607]\u001b[0m Trial 138 finished with value: -285.419 and parameters: {'a': 11, 'b': 27, 'stop_loss': 31, 'take_profit': 43}. Best is trial 136 with value: -560.783.\u001b[0m\n",
      "\u001b[32m[I 2021-02-16 22:23:03,687]\u001b[0m Trial 139 finished with value: -341.868 and parameters: {'a': 10, 'b': 29, 'stop_loss': 36, 'take_profit': 40}. Best is trial 136 with value: -560.783.\u001b[0m\n",
      "\u001b[32m[I 2021-02-16 22:23:03,774]\u001b[0m Trial 140 finished with value: -357.799 and parameters: {'a': 10, 'b': 28, 'stop_loss': 34, 'take_profit': 39}. Best is trial 136 with value: -560.783.\u001b[0m\n"
     ]
    },
    {
     "name": "stdout",
     "output_type": "stream",
     "text": [
      "a: 11, b: 27, score: 285.42\n",
      "a: 10, b: 29, score: 341.87\n",
      "a: 10, b: 28, score: 357.80\n"
     ]
    },
    {
     "name": "stderr",
     "output_type": "stream",
     "text": [
      "\u001b[32m[I 2021-02-16 22:23:03,868]\u001b[0m Trial 141 finished with value: -475.975 and parameters: {'a': 10, 'b': 28, 'stop_loss': 35, 'take_profit': 45}. Best is trial 136 with value: -560.783.\u001b[0m\n",
      "\u001b[32m[I 2021-02-16 22:23:03,958]\u001b[0m Trial 142 finished with value: -504.158 and parameters: {'a': 10, 'b': 28, 'stop_loss': 33, 'take_profit': 44}. Best is trial 136 with value: -560.783.\u001b[0m\n",
      "\u001b[32m[I 2021-02-16 22:23:04,044]\u001b[0m Trial 143 finished with value: -504.158 and parameters: {'a': 10, 'b': 28, 'stop_loss': 33, 'take_profit': 44}. Best is trial 136 with value: -560.783.\u001b[0m\n"
     ]
    },
    {
     "name": "stdout",
     "output_type": "stream",
     "text": [
      "a: 10, b: 28, score: 475.98\n",
      "a: 10, b: 28, score: 504.16\n",
      "a: 10, b: 28, score: 504.16\n"
     ]
    },
    {
     "name": "stderr",
     "output_type": "stream",
     "text": [
      "\u001b[32m[I 2021-02-16 22:23:04,133]\u001b[0m Trial 144 finished with value: -472.815 and parameters: {'a': 10, 'b': 28, 'stop_loss': 33, 'take_profit': 43}. Best is trial 136 with value: -560.783.\u001b[0m\n",
      "\u001b[32m[I 2021-02-16 22:23:04,217]\u001b[0m Trial 145 finished with value: -355.697 and parameters: {'a': 10, 'b': 29, 'stop_loss': 33, 'take_profit': 42}. Best is trial 136 with value: -560.783.\u001b[0m\n",
      "\u001b[32m[I 2021-02-16 22:23:04,312]\u001b[0m Trial 146 finished with value: -479.708 and parameters: {'a': 10, 'b': 27, 'stop_loss': 37, 'take_profit': 44}. Best is trial 136 with value: -560.783.\u001b[0m\n"
     ]
    },
    {
     "name": "stdout",
     "output_type": "stream",
     "text": [
      "a: 10, b: 28, score: 472.81\n",
      "a: 10, b: 29, score: 355.70\n",
      "a: 10, b: 27, score: 479.71\n"
     ]
    },
    {
     "name": "stderr",
     "output_type": "stream",
     "text": [
      "\u001b[32m[I 2021-02-16 22:23:04,398]\u001b[0m Trial 147 finished with value: -432.986 and parameters: {'a': 10, 'b': 28, 'stop_loss': 31, 'take_profit': 42}. Best is trial 136 with value: -560.783.\u001b[0m\n",
      "\u001b[32m[I 2021-02-16 22:23:04,485]\u001b[0m Trial 148 finished with value: -560.783 and parameters: {'a': 10, 'b': 28, 'stop_loss': 35, 'take_profit': 44}. Best is trial 136 with value: -560.783.\u001b[0m\n",
      "\u001b[32m[I 2021-02-16 22:23:04,575]\u001b[0m Trial 149 finished with value: -483.652 and parameters: {'a': 10, 'b': 27, 'stop_loss': 35, 'take_profit': 44}. Best is trial 136 with value: -560.783.\u001b[0m\n"
     ]
    },
    {
     "name": "stdout",
     "output_type": "stream",
     "text": [
      "a: 10, b: 28, score: 432.99\n",
      "a: 10, b: 28, score: 560.78\n",
      "a: 10, b: 27, score: 483.65\n"
     ]
    },
    {
     "name": "stderr",
     "output_type": "stream",
     "text": [
      "\u001b[32m[I 2021-02-16 22:23:04,668]\u001b[0m Trial 150 finished with value: -312.712 and parameters: {'a': 11, 'b': 29, 'stop_loss': 35, 'take_profit': 46}. Best is trial 136 with value: -560.783.\u001b[0m\n",
      "\u001b[32m[I 2021-02-16 22:23:04,765]\u001b[0m Trial 151 finished with value: -527.382 and parameters: {'a': 10, 'b': 28, 'stop_loss': 36, 'take_profit': 43}. Best is trial 136 with value: -560.783.\u001b[0m\n",
      "\u001b[32m[I 2021-02-16 22:23:04,857]\u001b[0m Trial 152 finished with value: -527.382 and parameters: {'a': 10, 'b': 28, 'stop_loss': 36, 'take_profit': 43}. Best is trial 136 with value: -560.783.\u001b[0m\n"
     ]
    },
    {
     "name": "stdout",
     "output_type": "stream",
     "text": [
      "a: 11, b: 29, score: 312.71\n",
      "a: 10, b: 28, score: 527.38\n",
      "a: 10, b: 28, score: 527.38\n"
     ]
    },
    {
     "name": "stderr",
     "output_type": "stream",
     "text": [
      "\u001b[32m[I 2021-02-16 22:23:04,941]\u001b[0m Trial 153 finished with value: -514.511 and parameters: {'a': 10, 'b': 28, 'stop_loss': 34, 'take_profit': 44}. Best is trial 136 with value: -560.783.\u001b[0m\n",
      "\u001b[32m[I 2021-02-16 22:23:05,028]\u001b[0m Trial 154 finished with value: -504.158 and parameters: {'a': 10, 'b': 28, 'stop_loss': 33, 'take_profit': 44}. Best is trial 136 with value: -560.783.\u001b[0m\n",
      "\u001b[32m[I 2021-02-16 22:23:05,116]\u001b[0m Trial 155 finished with value: -494.961 and parameters: {'a': 10, 'b': 27, 'stop_loss': 32, 'take_profit': 46}. Best is trial 136 with value: -560.783.\u001b[0m\n"
     ]
    },
    {
     "name": "stdout",
     "output_type": "stream",
     "text": [
      "a: 10, b: 28, score: 514.51\n",
      "a: 10, b: 28, score: 504.16\n",
      "a: 10, b: 27, score: 494.96\n"
     ]
    },
    {
     "name": "stderr",
     "output_type": "stream",
     "text": [
      "\u001b[32m[I 2021-02-16 22:23:05,207]\u001b[0m Trial 156 finished with value: -328.513 and parameters: {'a': 11, 'b': 29, 'stop_loss': 34, 'take_profit': 45}. Best is trial 136 with value: -560.783.\u001b[0m\n",
      "\u001b[32m[I 2021-02-16 22:23:05,293]\u001b[0m Trial 157 finished with value: -459.061 and parameters: {'a': 10, 'b': 27, 'stop_loss': 33, 'take_profit': 44}. Best is trial 136 with value: -560.783.\u001b[0m\n",
      "\u001b[32m[I 2021-02-16 22:23:05,379]\u001b[0m Trial 158 finished with value: -495.671 and parameters: {'a': 10, 'b': 28, 'stop_loss': 31, 'take_profit': 44}. Best is trial 136 with value: -560.783.\u001b[0m\n"
     ]
    },
    {
     "name": "stdout",
     "output_type": "stream",
     "text": [
      "a: 11, b: 29, score: 328.51\n",
      "a: 10, b: 27, score: 459.06\n",
      "a: 10, b: 28, score: 495.67\n"
     ]
    },
    {
     "name": "stderr",
     "output_type": "stream",
     "text": [
      "\u001b[32m[I 2021-02-16 22:23:05,467]\u001b[0m Trial 159 finished with value: -269.352 and parameters: {'a': 11, 'b': 28, 'stop_loss': 33, 'take_profit': 43}. Best is trial 136 with value: -560.783.\u001b[0m\n",
      "\u001b[32m[I 2021-02-16 22:23:05,557]\u001b[0m Trial 160 finished with value: -348.473 and parameters: {'a': 10, 'b': 29, 'stop_loss': 30, 'take_profit': 45}. Best is trial 136 with value: -560.783.\u001b[0m\n",
      "\u001b[32m[I 2021-02-16 22:23:05,649]\u001b[0m Trial 161 finished with value: -483.168 and parameters: {'a': 10, 'b': 28, 'stop_loss': 34, 'take_profit': 43}. Best is trial 136 with value: -560.783.\u001b[0m\n"
     ]
    },
    {
     "name": "stdout",
     "output_type": "stream",
     "text": [
      "a: 11, b: 28, score: 269.35\n",
      "a: 10, b: 29, score: 348.47\n",
      "a: 10, b: 28, score: 483.17\n"
     ]
    },
    {
     "name": "stderr",
     "output_type": "stream",
     "text": [
      "\u001b[32m[I 2021-02-16 22:23:05,741]\u001b[0m Trial 162 finished with value: -560.783 and parameters: {'a': 10, 'b': 28, 'stop_loss': 35, 'take_profit': 44}. Best is trial 136 with value: -560.783.\u001b[0m\n",
      "\u001b[32m[I 2021-02-16 22:23:05,830]\u001b[0m Trial 163 finished with value: -499.039 and parameters: {'a': 10, 'b': 28, 'stop_loss': 38, 'take_profit': 46}. Best is trial 136 with value: -560.783.\u001b[0m\n",
      "\u001b[32m[I 2021-02-16 22:23:05,917]\u001b[0m Trial 164 finished with value: -499.039 and parameters: {'a': 10, 'b': 28, 'stop_loss': 38, 'take_profit': 46}. Best is trial 136 with value: -560.783.\u001b[0m\n"
     ]
    },
    {
     "name": "stdout",
     "output_type": "stream",
     "text": [
      "a: 10, b: 28, score: 560.78\n",
      "a: 10, b: 28, score: 499.04\n",
      "a: 10, b: 28, score: 499.04\n"
     ]
    },
    {
     "name": "stderr",
     "output_type": "stream",
     "text": [
      "\u001b[32m[I 2021-02-16 22:23:06,017]\u001b[0m Trial 165 finished with value: -507.742 and parameters: {'a': 10, 'b': 27, 'stop_loss': 37, 'take_profit': 45}. Best is trial 136 with value: -560.783.\u001b[0m\n",
      "\u001b[32m[I 2021-02-16 22:23:06,103]\u001b[0m Trial 166 finished with value: -544.89 and parameters: {'a': 9, 'b': 27, 'stop_loss': 36, 'take_profit': 44}. Best is trial 136 with value: -560.783.\u001b[0m\n",
      "\u001b[32m[I 2021-02-16 22:23:06,191]\u001b[0m Trial 167 finished with value: -489.521 and parameters: {'a': 9, 'b': 27, 'stop_loss': 37, 'take_profit': 45}. Best is trial 136 with value: -560.783.\u001b[0m\n"
     ]
    },
    {
     "name": "stdout",
     "output_type": "stream",
     "text": [
      "a: 10, b: 27, score: 507.74\n",
      "a: 9, b: 27, score: 544.89\n",
      "a: 9, b: 27, score: 489.52\n"
     ]
    },
    {
     "name": "stderr",
     "output_type": "stream",
     "text": [
      "\u001b[32m[I 2021-02-16 22:23:06,285]\u001b[0m Trial 168 finished with value: -411.287 and parameters: {'a': 9, 'b': 26, 'stop_loss': 36, 'take_profit': 44}. Best is trial 136 with value: -560.783.\u001b[0m\n",
      "\u001b[32m[I 2021-02-16 22:23:06,371]\u001b[0m Trial 169 finished with value: -526.887 and parameters: {'a': 10, 'b': 27, 'stop_loss': 37, 'take_profit': 43}. Best is trial 136 with value: -560.783.\u001b[0m\n",
      "\u001b[32m[I 2021-02-16 22:23:06,457]\u001b[0m Trial 170 finished with value: -608.915 and parameters: {'a': 9, 'b': 27, 'stop_loss': 37, 'take_profit': 43}. Best is trial 170 with value: -608.915.\u001b[0m\n"
     ]
    },
    {
     "name": "stdout",
     "output_type": "stream",
     "text": [
      "a: 9, b: 26, score: 411.29\n",
      "a: 10, b: 27, score: 526.89\n",
      "a: 9, b: 27, score: 608.91\n"
     ]
    },
    {
     "name": "stderr",
     "output_type": "stream",
     "text": [
      "\u001b[32m[I 2021-02-16 22:23:06,546]\u001b[0m Trial 171 finished with value: -608.915 and parameters: {'a': 9, 'b': 27, 'stop_loss': 37, 'take_profit': 43}. Best is trial 170 with value: -608.915.\u001b[0m\n",
      "\u001b[32m[I 2021-02-16 22:23:06,635]\u001b[0m Trial 172 finished with value: -481.082 and parameters: {'a': 9, 'b': 26, 'stop_loss': 37, 'take_profit': 43}. Best is trial 170 with value: -608.915.\u001b[0m\n",
      "\u001b[32m[I 2021-02-16 22:23:06,726]\u001b[0m Trial 173 finished with value: -608.915 and parameters: {'a': 9, 'b': 27, 'stop_loss': 38, 'take_profit': 43}. Best is trial 170 with value: -608.915.\u001b[0m\n"
     ]
    },
    {
     "name": "stdout",
     "output_type": "stream",
     "text": [
      "a: 9, b: 27, score: 608.91\n",
      "a: 9, b: 26, score: 481.08\n",
      "a: 9, b: 27, score: 608.91\n"
     ]
    },
    {
     "name": "stderr",
     "output_type": "stream",
     "text": [
      "\u001b[32m[I 2021-02-16 22:23:06,818]\u001b[0m Trial 174 finished with value: -608.915 and parameters: {'a': 9, 'b': 27, 'stop_loss': 39, 'take_profit': 43}. Best is trial 170 with value: -608.915.\u001b[0m\n",
      "\u001b[32m[I 2021-02-16 22:23:06,908]\u001b[0m Trial 175 finished with value: -481.082 and parameters: {'a': 9, 'b': 26, 'stop_loss': 39, 'take_profit': 43}. Best is trial 170 with value: -608.915.\u001b[0m\n",
      "\u001b[32m[I 2021-02-16 22:23:07,006]\u001b[0m Trial 176 finished with value: -544.856 and parameters: {'a': 9, 'b': 27, 'stop_loss': 38, 'take_profit': 41}. Best is trial 170 with value: -608.915.\u001b[0m\n"
     ]
    },
    {
     "name": "stdout",
     "output_type": "stream",
     "text": [
      "a: 9, b: 27, score: 608.91\n",
      "a: 9, b: 26, score: 481.08\n",
      "a: 9, b: 27, score: 544.86\n"
     ]
    },
    {
     "name": "stderr",
     "output_type": "stream",
     "text": [
      "\u001b[32m[I 2021-02-16 22:23:07,096]\u001b[0m Trial 177 finished with value: -544.856 and parameters: {'a': 9, 'b': 27, 'stop_loss': 38, 'take_profit': 41}. Best is trial 170 with value: -608.915.\u001b[0m\n",
      "\u001b[32m[I 2021-02-16 22:23:07,183]\u001b[0m Trial 178 finished with value: -544.856 and parameters: {'a': 9, 'b': 27, 'stop_loss': 38, 'take_profit': 41}. Best is trial 170 with value: -608.915.\u001b[0m\n",
      "\u001b[32m[I 2021-02-16 22:23:07,272]\u001b[0m Trial 179 finished with value: -544.856 and parameters: {'a': 9, 'b': 27, 'stop_loss': 39, 'take_profit': 41}. Best is trial 170 with value: -608.915.\u001b[0m\n"
     ]
    },
    {
     "name": "stdout",
     "output_type": "stream",
     "text": [
      "a: 9, b: 27, score: 544.86\n",
      "a: 9, b: 27, score: 544.86\n",
      "a: 9, b: 27, score: 544.86\n"
     ]
    },
    {
     "name": "stderr",
     "output_type": "stream",
     "text": [
      "\u001b[32m[I 2021-02-16 22:23:07,368]\u001b[0m Trial 180 finished with value: -392.38 and parameters: {'a': 9, 'b': 26, 'stop_loss': 39, 'take_profit': 40}. Best is trial 170 with value: -608.915.\u001b[0m\n",
      "\u001b[32m[I 2021-02-16 22:23:07,460]\u001b[0m Trial 181 finished with value: -544.856 and parameters: {'a': 9, 'b': 27, 'stop_loss': 38, 'take_profit': 41}. Best is trial 170 with value: -608.915.\u001b[0m\n",
      "\u001b[32m[I 2021-02-16 22:23:07,550]\u001b[0m Trial 182 finished with value: -544.856 and parameters: {'a': 9, 'b': 27, 'stop_loss': 38, 'take_profit': 41}. Best is trial 170 with value: -608.915.\u001b[0m\n"
     ]
    },
    {
     "name": "stdout",
     "output_type": "stream",
     "text": [
      "a: 9, b: 26, score: 392.38\n",
      "a: 9, b: 27, score: 544.86\n",
      "a: 9, b: 27, score: 544.86\n"
     ]
    },
    {
     "name": "stderr",
     "output_type": "stream",
     "text": [
      "\u001b[32m[I 2021-02-16 22:23:07,641]\u001b[0m Trial 183 finished with value: -544.856 and parameters: {'a': 9, 'b': 27, 'stop_loss': 38, 'take_profit': 41}. Best is trial 170 with value: -608.915.\u001b[0m\n",
      "\u001b[32m[I 2021-02-16 22:23:07,733]\u001b[0m Trial 184 finished with value: -512.825 and parameters: {'a': 9, 'b': 27, 'stop_loss': 39, 'take_profit': 40}. Best is trial 170 with value: -608.915.\u001b[0m\n",
      "\u001b[32m[I 2021-02-16 22:23:07,825]\u001b[0m Trial 185 finished with value: -544.856 and parameters: {'a': 9, 'b': 27, 'stop_loss': 38, 'take_profit': 41}. Best is trial 170 with value: -608.915.\u001b[0m\n"
     ]
    },
    {
     "name": "stdout",
     "output_type": "stream",
     "text": [
      "a: 9, b: 27, score: 544.86\n",
      "a: 9, b: 27, score: 512.83\n",
      "a: 9, b: 27, score: 544.86\n"
     ]
    },
    {
     "name": "stderr",
     "output_type": "stream",
     "text": [
      "\u001b[32m[I 2021-02-16 22:23:07,915]\u001b[0m Trial 186 finished with value: -544.856 and parameters: {'a': 9, 'b': 27, 'stop_loss': 39, 'take_profit': 41}. Best is trial 170 with value: -608.915.\u001b[0m\n",
      "\u001b[32m[I 2021-02-16 22:23:08,009]\u001b[0m Trial 187 finished with value: -362.813 and parameters: {'a': 9, 'b': 26, 'stop_loss': 39, 'take_profit': 39}. Best is trial 170 with value: -608.915.\u001b[0m\n",
      "\u001b[32m[I 2021-02-16 22:23:08,110]\u001b[0m Trial 188 finished with value: -544.856 and parameters: {'a': 9, 'b': 27, 'stop_loss': 38, 'take_profit': 41}. Best is trial 170 with value: -608.915.\u001b[0m\n"
     ]
    },
    {
     "name": "stdout",
     "output_type": "stream",
     "text": [
      "a: 9, b: 27, score: 544.86\n",
      "a: 9, b: 26, score: 362.81\n",
      "a: 9, b: 27, score: 544.86\n"
     ]
    },
    {
     "name": "stderr",
     "output_type": "stream",
     "text": [
      "\u001b[32m[I 2021-02-16 22:23:08,198]\u001b[0m Trial 189 finished with value: -544.856 and parameters: {'a': 9, 'b': 27, 'stop_loss': 38, 'take_profit': 41}. Best is trial 170 with value: -608.915.\u001b[0m\n",
      "\u001b[32m[I 2021-02-16 22:23:08,290]\u001b[0m Trial 190 finished with value: -392.38 and parameters: {'a': 9, 'b': 26, 'stop_loss': 38, 'take_profit': 40}. Best is trial 170 with value: -608.915.\u001b[0m\n",
      "\u001b[32m[I 2021-02-16 22:23:08,375]\u001b[0m Trial 191 finished with value: -544.856 and parameters: {'a': 9, 'b': 27, 'stop_loss': 38, 'take_profit': 41}. Best is trial 170 with value: -608.915.\u001b[0m\n"
     ]
    },
    {
     "name": "stdout",
     "output_type": "stream",
     "text": [
      "a: 9, b: 27, score: 544.86\n",
      "a: 9, b: 26, score: 392.38\n",
      "a: 9, b: 27, score: 544.86\n"
     ]
    },
    {
     "name": "stderr",
     "output_type": "stream",
     "text": [
      "\u001b[32m[I 2021-02-16 22:23:08,459]\u001b[0m Trial 192 finished with value: -544.856 and parameters: {'a': 9, 'b': 27, 'stop_loss': 39, 'take_profit': 41}. Best is trial 170 with value: -608.915.\u001b[0m\n",
      "\u001b[32m[I 2021-02-16 22:23:08,549]\u001b[0m Trial 193 finished with value: -480.795 and parameters: {'a': 9, 'b': 27, 'stop_loss': 40, 'take_profit': 39}. Best is trial 170 with value: -608.915.\u001b[0m\n",
      "\u001b[32m[I 2021-02-16 22:23:08,643]\u001b[0m Trial 194 finished with value: -544.856 and parameters: {'a': 9, 'b': 27, 'stop_loss': 39, 'take_profit': 41}. Best is trial 170 with value: -608.915.\u001b[0m\n"
     ]
    },
    {
     "name": "stdout",
     "output_type": "stream",
     "text": [
      "a: 9, b: 27, score: 544.86\n",
      "a: 9, b: 27, score: 480.80\n",
      "a: 9, b: 27, score: 544.86\n"
     ]
    },
    {
     "name": "stderr",
     "output_type": "stream",
     "text": [
      "\u001b[32m[I 2021-02-16 22:23:08,735]\u001b[0m Trial 195 finished with value: -193.03 and parameters: {'a': 8, 'b': 26, 'stop_loss': 38, 'take_profit': 40}. Best is trial 170 with value: -608.915.\u001b[0m\n",
      "\u001b[32m[I 2021-02-16 22:23:08,826]\u001b[0m Trial 196 finished with value: -544.856 and parameters: {'a': 9, 'b': 27, 'stop_loss': 38, 'take_profit': 41}. Best is trial 170 with value: -608.915.\u001b[0m\n",
      "\u001b[32m[I 2021-02-16 22:23:08,917]\u001b[0m Trial 197 finished with value: -416.736 and parameters: {'a': 9, 'b': 27, 'stop_loss': 40, 'take_profit': 37}. Best is trial 170 with value: -608.915.\u001b[0m\n"
     ]
    },
    {
     "name": "stdout",
     "output_type": "stream",
     "text": [
      "a: 8, b: 26, score: 193.03\n",
      "a: 9, b: 27, score: 544.86\n",
      "a: 9, b: 27, score: 416.74\n"
     ]
    },
    {
     "name": "stderr",
     "output_type": "stream",
     "text": [
      "\u001b[32m[I 2021-02-16 22:23:09,004]\u001b[0m Trial 198 finished with value: -362.813 and parameters: {'a': 9, 'b': 26, 'stop_loss': 38, 'take_profit': 39}. Best is trial 170 with value: -608.915.\u001b[0m\n",
      "\u001b[32m[I 2021-02-16 22:23:09,096]\u001b[0m Trial 199 finished with value: -352.352 and parameters: {'a': 8, 'b': 27, 'stop_loss': 38, 'take_profit': 41}. Best is trial 170 with value: -608.915.\u001b[0m\n",
      "\u001b[32m[I 2021-02-16 22:23:09,190]\u001b[0m Trial 200 finished with value: -448.766 and parameters: {'a': 9, 'b': 27, 'stop_loss': 39, 'take_profit': 38}. Best is trial 170 with value: -608.915.\u001b[0m\n"
     ]
    },
    {
     "name": "stdout",
     "output_type": "stream",
     "text": [
      "a: 9, b: 26, score: 362.81\n",
      "a: 8, b: 27, score: 352.35\n",
      "a: 9, b: 27, score: 448.77\n"
     ]
    },
    {
     "name": "stderr",
     "output_type": "stream",
     "text": [
      "\u001b[32m[I 2021-02-16 22:23:09,281]\u001b[0m Trial 201 finished with value: -544.856 and parameters: {'a': 9, 'b': 27, 'stop_loss': 39, 'take_profit': 41}. Best is trial 170 with value: -608.915.\u001b[0m\n",
      "\u001b[32m[I 2021-02-16 22:23:09,367]\u001b[0m Trial 202 finished with value: -512.825 and parameters: {'a': 9, 'b': 27, 'stop_loss': 39, 'take_profit': 40}. Best is trial 170 with value: -608.915.\u001b[0m\n",
      "\u001b[32m[I 2021-02-16 22:23:09,460]\u001b[0m Trial 203 finished with value: -544.856 and parameters: {'a': 9, 'b': 27, 'stop_loss': 40, 'take_profit': 41}. Best is trial 170 with value: -608.915.\u001b[0m\n"
     ]
    },
    {
     "name": "stdout",
     "output_type": "stream",
     "text": [
      "a: 9, b: 27, score: 544.86\n",
      "a: 9, b: 27, score: 512.83\n",
      "a: 9, b: 27, score: 544.86\n"
     ]
    },
    {
     "name": "stderr",
     "output_type": "stream",
     "text": [
      "\u001b[32m[I 2021-02-16 22:23:09,557]\u001b[0m Trial 204 finished with value: -392.38 and parameters: {'a': 9, 'b': 26, 'stop_loss': 40, 'take_profit': 40}. Best is trial 170 with value: -608.915.\u001b[0m\n",
      "\u001b[32m[I 2021-02-16 22:23:09,648]\u001b[0m Trial 205 finished with value: -576.885 and parameters: {'a': 9, 'b': 27, 'stop_loss': 40, 'take_profit': 42}. Best is trial 170 with value: -608.915.\u001b[0m\n",
      "\u001b[32m[I 2021-02-16 22:23:09,735]\u001b[0m Trial 206 finished with value: -268.659 and parameters: {'a': 9, 'b': 27, 'stop_loss': 39, 'take_profit': 32}. Best is trial 170 with value: -608.915.\u001b[0m\n"
     ]
    },
    {
     "name": "stdout",
     "output_type": "stream",
     "text": [
      "a: 9, b: 26, score: 392.38\n",
      "a: 9, b: 27, score: 576.88\n",
      "a: 9, b: 27, score: 268.66\n"
     ]
    },
    {
     "name": "stderr",
     "output_type": "stream",
     "text": [
      "\u001b[32m[I 2021-02-16 22:23:09,830]\u001b[0m Trial 207 finished with value: -381.921 and parameters: {'a': 8, 'b': 27, 'stop_loss': 37, 'take_profit': 42}. Best is trial 170 with value: -608.915.\u001b[0m\n",
      "\u001b[32m[I 2021-02-16 22:23:09,918]\u001b[0m Trial 208 finished with value: -576.885 and parameters: {'a': 9, 'b': 27, 'stop_loss': 38, 'take_profit': 42}. Best is trial 170 with value: -608.915.\u001b[0m\n",
      "\u001b[32m[I 2021-02-16 22:23:10,009]\u001b[0m Trial 209 finished with value: -451.514 and parameters: {'a': 9, 'b': 26, 'stop_loss': 40, 'take_profit': 42}. Best is trial 170 with value: -608.915.\u001b[0m\n"
     ]
    },
    {
     "name": "stdout",
     "output_type": "stream",
     "text": [
      "a: 8, b: 27, score: 381.92\n",
      "a: 9, b: 27, score: 576.88\n",
      "a: 9, b: 26, score: 451.51\n"
     ]
    },
    {
     "name": "stderr",
     "output_type": "stream",
     "text": [
      "\u001b[32m[I 2021-02-16 22:23:10,099]\u001b[0m Trial 210 finished with value: -576.885 and parameters: {'a': 9, 'b': 27, 'stop_loss': 37, 'take_profit': 42}. Best is trial 170 with value: -608.915.\u001b[0m\n",
      "\u001b[32m[I 2021-02-16 22:23:10,186]\u001b[0m Trial 211 finished with value: -576.885 and parameters: {'a': 9, 'b': 27, 'stop_loss': 37, 'take_profit': 42}. Best is trial 170 with value: -608.915.\u001b[0m\n",
      "\u001b[32m[I 2021-02-16 22:23:10,272]\u001b[0m Trial 212 finished with value: -576.885 and parameters: {'a': 9, 'b': 27, 'stop_loss': 40, 'take_profit': 42}. Best is trial 170 with value: -608.915.\u001b[0m\n"
     ]
    },
    {
     "name": "stdout",
     "output_type": "stream",
     "text": [
      "a: 9, b: 27, score: 576.88\n",
      "a: 9, b: 27, score: 576.88\n",
      "a: 9, b: 27, score: 576.88\n"
     ]
    },
    {
     "name": "stderr",
     "output_type": "stream",
     "text": [
      "\u001b[32m[I 2021-02-16 22:23:10,372]\u001b[0m Trial 213 finished with value: -576.885 and parameters: {'a': 9, 'b': 27, 'stop_loss': 37, 'take_profit': 42}. Best is trial 170 with value: -608.915.\u001b[0m\n",
      "\u001b[32m[I 2021-02-16 22:23:10,467]\u001b[0m Trial 214 finished with value: -576.885 and parameters: {'a': 9, 'b': 27, 'stop_loss': 37, 'take_profit': 42}. Best is trial 170 with value: -608.915.\u001b[0m\n",
      "\u001b[32m[I 2021-02-16 22:23:10,561]\u001b[0m Trial 215 finished with value: -576.885 and parameters: {'a': 9, 'b': 27, 'stop_loss': 37, 'take_profit': 42}. Best is trial 170 with value: -608.915.\u001b[0m\n"
     ]
    },
    {
     "name": "stdout",
     "output_type": "stream",
     "text": [
      "a: 9, b: 27, score: 576.88\n",
      "a: 9, b: 27, score: 576.88\n",
      "a: 9, b: 27, score: 576.88\n"
     ]
    },
    {
     "name": "stderr",
     "output_type": "stream",
     "text": [
      "\u001b[32m[I 2021-02-16 22:23:10,650]\u001b[0m Trial 216 finished with value: -576.885 and parameters: {'a': 9, 'b': 27, 'stop_loss': 37, 'take_profit': 42}. Best is trial 170 with value: -608.915.\u001b[0m\n",
      "\u001b[32m[I 2021-02-16 22:23:10,740]\u001b[0m Trial 217 finished with value: -576.885 and parameters: {'a': 9, 'b': 27, 'stop_loss': 37, 'take_profit': 42}. Best is trial 170 with value: -608.915.\u001b[0m\n",
      "\u001b[32m[I 2021-02-16 22:23:10,827]\u001b[0m Trial 218 finished with value: -381.921 and parameters: {'a': 8, 'b': 27, 'stop_loss': 37, 'take_profit': 42}. Best is trial 170 with value: -608.915.\u001b[0m\n"
     ]
    },
    {
     "name": "stdout",
     "output_type": "stream",
     "text": [
      "a: 9, b: 27, score: 576.88\n",
      "a: 9, b: 27, score: 576.88\n",
      "a: 8, b: 27, score: 381.92\n"
     ]
    },
    {
     "name": "stderr",
     "output_type": "stream",
     "text": [
      "\u001b[32m[I 2021-02-16 22:23:10,915]\u001b[0m Trial 219 finished with value: -451.514 and parameters: {'a': 9, 'b': 26, 'stop_loss': 37, 'take_profit': 42}. Best is trial 170 with value: -608.915.\u001b[0m\n",
      "\u001b[32m[I 2021-02-16 22:23:11,008]\u001b[0m Trial 220 finished with value: -451.514 and parameters: {'a': 9, 'b': 26, 'stop_loss': 37, 'take_profit': 42}. Best is trial 170 with value: -608.915.\u001b[0m\n",
      "\u001b[32m[I 2021-02-16 22:23:11,100]\u001b[0m Trial 221 finished with value: -576.885 and parameters: {'a': 9, 'b': 27, 'stop_loss': 37, 'take_profit': 42}. Best is trial 170 with value: -608.915.\u001b[0m\n"
     ]
    },
    {
     "name": "stdout",
     "output_type": "stream",
     "text": [
      "a: 9, b: 26, score: 451.51\n",
      "a: 9, b: 26, score: 451.51\n",
      "a: 9, b: 27, score: 576.88\n"
     ]
    },
    {
     "name": "stderr",
     "output_type": "stream",
     "text": [
      "\u001b[32m[I 2021-02-16 22:23:11,190]\u001b[0m Trial 222 finished with value: -608.915 and parameters: {'a': 9, 'b': 27, 'stop_loss': 37, 'take_profit': 43}. Best is trial 170 with value: -608.915.\u001b[0m\n",
      "\u001b[32m[I 2021-02-16 22:23:11,279]\u001b[0m Trial 223 finished with value: -608.915 and parameters: {'a': 9, 'b': 27, 'stop_loss': 37, 'take_profit': 43}. Best is trial 170 with value: -608.915.\u001b[0m\n",
      "\u001b[32m[I 2021-02-16 22:23:11,372]\u001b[0m Trial 224 finished with value: -591.675 and parameters: {'a': 9, 'b': 27, 'stop_loss': 36, 'take_profit': 43}. Best is trial 170 with value: -608.915.\u001b[0m\n"
     ]
    },
    {
     "name": "stdout",
     "output_type": "stream",
     "text": [
      "a: 9, b: 27, score: 608.91\n",
      "a: 9, b: 27, score: 608.91\n",
      "a: 9, b: 27, score: 591.67\n"
     ]
    },
    {
     "name": "stderr",
     "output_type": "stream",
     "text": [
      "\u001b[32m[I 2021-02-16 22:23:11,471]\u001b[0m Trial 225 finished with value: -591.675 and parameters: {'a': 9, 'b': 27, 'stop_loss': 36, 'take_profit': 43}. Best is trial 170 with value: -608.915.\u001b[0m\n",
      "\u001b[32m[I 2021-02-16 22:23:11,561]\u001b[0m Trial 226 finished with value: -593.68 and parameters: {'a': 9, 'b': 27, 'stop_loss': 35, 'take_profit': 43}. Best is trial 170 with value: -608.915.\u001b[0m\n",
      "\u001b[32m[I 2021-02-16 22:23:11,650]\u001b[0m Trial 227 finished with value: -593.68 and parameters: {'a': 9, 'b': 27, 'stop_loss': 35, 'take_profit': 43}. Best is trial 170 with value: -608.915.\u001b[0m\n"
     ]
    },
    {
     "name": "stdout",
     "output_type": "stream",
     "text": [
      "a: 9, b: 27, score: 591.67\n",
      "a: 9, b: 27, score: 593.68\n",
      "a: 9, b: 27, score: 593.68\n"
     ]
    },
    {
     "name": "stderr",
     "output_type": "stream",
     "text": [
      "\u001b[32m[I 2021-02-16 22:23:11,745]\u001b[0m Trial 228 finished with value: -593.68 and parameters: {'a': 9, 'b': 27, 'stop_loss': 35, 'take_profit': 43}. Best is trial 170 with value: -608.915.\u001b[0m\n",
      "\u001b[32m[I 2021-02-16 22:23:11,838]\u001b[0m Trial 229 finished with value: -306.664 and parameters: {'a': 8, 'b': 27, 'stop_loss': 37, 'take_profit': 43}. Best is trial 170 with value: -608.915.\u001b[0m\n",
      "\u001b[32m[I 2021-02-16 22:23:11,930]\u001b[0m Trial 230 finished with value: -451.514 and parameters: {'a': 9, 'b': 26, 'stop_loss': 37, 'take_profit': 42}. Best is trial 170 with value: -608.915.\u001b[0m\n"
     ]
    },
    {
     "name": "stdout",
     "output_type": "stream",
     "text": [
      "a: 9, b: 27, score: 593.68\n",
      "a: 8, b: 27, score: 306.66\n",
      "a: 9, b: 26, score: 451.51\n"
     ]
    },
    {
     "name": "stderr",
     "output_type": "stream",
     "text": [
      "\u001b[32m[I 2021-02-16 22:23:12,027]\u001b[0m Trial 231 finished with value: -593.68 and parameters: {'a': 9, 'b': 27, 'stop_loss': 35, 'take_profit': 43}. Best is trial 170 with value: -608.915.\u001b[0m\n",
      "\u001b[32m[I 2021-02-16 22:23:12,117]\u001b[0m Trial 232 finished with value: -593.68 and parameters: {'a': 9, 'b': 27, 'stop_loss': 35, 'take_profit': 43}. Best is trial 170 with value: -608.915.\u001b[0m\n",
      "\u001b[32m[I 2021-02-16 22:23:12,208]\u001b[0m Trial 233 finished with value: -591.675 and parameters: {'a': 9, 'b': 27, 'stop_loss': 36, 'take_profit': 43}. Best is trial 170 with value: -608.915.\u001b[0m\n"
     ]
    },
    {
     "name": "stdout",
     "output_type": "stream",
     "text": [
      "a: 9, b: 27, score: 593.68\n",
      "a: 9, b: 27, score: 593.68\n",
      "a: 9, b: 27, score: 591.67\n"
     ]
    },
    {
     "name": "stderr",
     "output_type": "stream",
     "text": [
      "\u001b[32m[I 2021-02-16 22:23:12,302]\u001b[0m Trial 234 finished with value: -591.675 and parameters: {'a': 9, 'b': 27, 'stop_loss': 36, 'take_profit': 43}. Best is trial 170 with value: -608.915.\u001b[0m\n",
      "\u001b[32m[I 2021-02-16 22:23:12,394]\u001b[0m Trial 235 finished with value: -593.68 and parameters: {'a': 9, 'b': 27, 'stop_loss': 35, 'take_profit': 43}. Best is trial 170 with value: -608.915.\u001b[0m\n",
      "\u001b[32m[I 2021-02-16 22:23:12,486]\u001b[0m Trial 236 finished with value: -593.68 and parameters: {'a': 9, 'b': 27, 'stop_loss': 35, 'take_profit': 43}. Best is trial 170 with value: -608.915.\u001b[0m\n"
     ]
    },
    {
     "name": "stdout",
     "output_type": "stream",
     "text": [
      "a: 9, b: 27, score: 591.67\n",
      "a: 9, b: 27, score: 593.68\n",
      "a: 9, b: 27, score: 593.68\n"
     ]
    },
    {
     "name": "stderr",
     "output_type": "stream",
     "text": [
      "\u001b[32m[I 2021-02-16 22:23:12,578]\u001b[0m Trial 237 finished with value: -593.68 and parameters: {'a': 9, 'b': 27, 'stop_loss': 35, 'take_profit': 43}. Best is trial 170 with value: -608.915.\u001b[0m\n",
      "\u001b[32m[I 2021-02-16 22:23:12,663]\u001b[0m Trial 238 finished with value: -593.68 and parameters: {'a': 9, 'b': 27, 'stop_loss': 35, 'take_profit': 43}. Best is trial 170 with value: -608.915.\u001b[0m\n",
      "\u001b[32m[I 2021-02-16 22:23:12,756]\u001b[0m Trial 239 finished with value: -593.68 and parameters: {'a': 9, 'b': 27, 'stop_loss': 35, 'take_profit': 43}. Best is trial 170 with value: -608.915.\u001b[0m\n"
     ]
    },
    {
     "name": "stdout",
     "output_type": "stream",
     "text": [
      "a: 9, b: 27, score: 593.68\n",
      "a: 9, b: 27, score: 593.68\n",
      "a: 9, b: 27, score: 593.68\n"
     ]
    },
    {
     "name": "stderr",
     "output_type": "stream",
     "text": [
      "\u001b[32m[I 2021-02-16 22:23:12,849]\u001b[0m Trial 240 finished with value: -582.866 and parameters: {'a': 9, 'b': 27, 'stop_loss': 34, 'take_profit': 43}. Best is trial 170 with value: -608.915.\u001b[0m\n",
      "\u001b[32m[I 2021-02-16 22:23:12,936]\u001b[0m Trial 241 finished with value: -593.68 and parameters: {'a': 9, 'b': 27, 'stop_loss': 35, 'take_profit': 43}. Best is trial 170 with value: -608.915.\u001b[0m\n",
      "\u001b[32m[I 2021-02-16 22:23:13,026]\u001b[0m Trial 242 finished with value: -593.68 and parameters: {'a': 9, 'b': 27, 'stop_loss': 35, 'take_profit': 43}. Best is trial 170 with value: -608.915.\u001b[0m\n"
     ]
    },
    {
     "name": "stdout",
     "output_type": "stream",
     "text": [
      "a: 9, b: 27, score: 582.87\n",
      "a: 9, b: 27, score: 593.68\n",
      "a: 9, b: 27, score: 593.68\n"
     ]
    },
    {
     "name": "stderr",
     "output_type": "stream",
     "text": [
      "\u001b[32m[I 2021-02-16 22:23:13,121]\u001b[0m Trial 243 finished with value: -593.68 and parameters: {'a': 9, 'b': 27, 'stop_loss': 35, 'take_profit': 43}. Best is trial 170 with value: -608.915.\u001b[0m\n",
      "\u001b[32m[I 2021-02-16 22:23:13,210]\u001b[0m Trial 244 finished with value: -593.68 and parameters: {'a': 9, 'b': 27, 'stop_loss': 35, 'take_profit': 43}. Best is trial 170 with value: -608.915.\u001b[0m\n",
      "\u001b[32m[I 2021-02-16 22:23:13,302]\u001b[0m Trial 245 finished with value: -593.68 and parameters: {'a': 9, 'b': 27, 'stop_loss': 35, 'take_profit': 43}. Best is trial 170 with value: -608.915.\u001b[0m\n"
     ]
    },
    {
     "name": "stdout",
     "output_type": "stream",
     "text": [
      "a: 9, b: 27, score: 593.68\n",
      "a: 9, b: 27, score: 593.68\n",
      "a: 9, b: 27, score: 593.68\n"
     ]
    },
    {
     "name": "stderr",
     "output_type": "stream",
     "text": [
      "\u001b[32m[I 2021-02-16 22:23:13,394]\u001b[0m Trial 246 finished with value: -458.167 and parameters: {'a': 9, 'b': 26, 'stop_loss': 35, 'take_profit': 43}. Best is trial 170 with value: -608.915.\u001b[0m\n",
      "\u001b[32m[I 2021-02-16 22:23:13,484]\u001b[0m Trial 247 finished with value: -292.6 and parameters: {'a': 8, 'b': 27, 'stop_loss': 35, 'take_profit': 43}. Best is trial 170 with value: -608.915.\u001b[0m\n",
      "\u001b[32m[I 2021-02-16 22:23:13,574]\u001b[0m Trial 248 finished with value: -414.982 and parameters: {'a': 9, 'b': 26, 'stop_loss': 35, 'take_profit': 44}. Best is trial 170 with value: -608.915.\u001b[0m\n"
     ]
    },
    {
     "name": "stdout",
     "output_type": "stream",
     "text": [
      "a: 9, b: 26, score: 458.17\n",
      "a: 8, b: 27, score: 292.60\n",
      "a: 9, b: 26, score: 414.98\n"
     ]
    },
    {
     "name": "stderr",
     "output_type": "stream",
     "text": [
      "\u001b[32m[I 2021-02-16 22:23:13,665]\u001b[0m Trial 249 finished with value: -536.081 and parameters: {'a': 9, 'b': 27, 'stop_loss': 34, 'take_profit': 44}. Best is trial 170 with value: -608.915.\u001b[0m\n",
      "\u001b[32m[I 2021-02-16 22:23:13,753]\u001b[0m Trial 250 finished with value: -593.68 and parameters: {'a': 9, 'b': 27, 'stop_loss': 35, 'take_profit': 43}. Best is trial 170 with value: -608.915.\u001b[0m\n",
      "\u001b[32m[I 2021-02-16 22:23:13,851]\u001b[0m Trial 251 finished with value: -460.007 and parameters: {'a': 9, 'b': 26, 'stop_loss': 34, 'take_profit': 43}. Best is trial 170 with value: -608.915.\u001b[0m\n"
     ]
    },
    {
     "name": "stdout",
     "output_type": "stream",
     "text": [
      "a: 9, b: 27, score: 536.08\n",
      "a: 9, b: 27, score: 593.68\n",
      "a: 9, b: 26, score: 460.01\n"
     ]
    },
    {
     "name": "stderr",
     "output_type": "stream",
     "text": [
      "\u001b[32m[I 2021-02-16 22:23:13,945]\u001b[0m Trial 252 finished with value: -474.286 and parameters: {'a': 9, 'b': 27, 'stop_loss': 35, 'take_profit': 45}. Best is trial 170 with value: -608.915.\u001b[0m\n",
      "\u001b[32m[I 2021-02-16 22:23:14,035]\u001b[0m Trial 253 finished with value: -546.895 and parameters: {'a': 9, 'b': 27, 'stop_loss': 35, 'take_profit': 44}. Best is trial 170 with value: -608.915.\u001b[0m\n",
      "\u001b[32m[I 2021-02-16 22:23:14,127]\u001b[0m Trial 254 finished with value: -272.824 and parameters: {'a': 9, 'b': 27, 'stop_loss': 34, 'take_profit': 18}. Best is trial 170 with value: -608.915.\u001b[0m\n"
     ]
    },
    {
     "name": "stdout",
     "output_type": "stream",
     "text": [
      "a: 9, b: 27, score: 474.29\n",
      "a: 9, b: 27, score: 546.89\n",
      "a: 9, b: 27, score: 272.82\n"
     ]
    },
    {
     "name": "stderr",
     "output_type": "stream",
     "text": [
      "\u001b[32m[I 2021-02-16 22:23:14,217]\u001b[0m Trial 255 finished with value: -292.6 and parameters: {'a': 8, 'b': 27, 'stop_loss': 35, 'take_profit': 43}. Best is trial 170 with value: -608.915.\u001b[0m\n",
      "\u001b[32m[I 2021-02-16 22:23:14,307]\u001b[0m Trial 256 finished with value: -414.982 and parameters: {'a': 9, 'b': 26, 'stop_loss': 35, 'take_profit': 44}. Best is trial 170 with value: -608.915.\u001b[0m\n",
      "\u001b[32m[I 2021-02-16 22:23:14,399]\u001b[0m Trial 257 finished with value: -591.675 and parameters: {'a': 9, 'b': 27, 'stop_loss': 36, 'take_profit': 43}. Best is trial 170 with value: -608.915.\u001b[0m\n"
     ]
    },
    {
     "name": "stdout",
     "output_type": "stream",
     "text": [
      "a: 8, b: 27, score: 292.60\n",
      "a: 9, b: 26, score: 414.98\n",
      "a: 9, b: 27, score: 591.67\n"
     ]
    },
    {
     "name": "stderr",
     "output_type": "stream",
     "text": [
      "\u001b[32m[I 2021-02-16 22:23:14,490]\u001b[0m Trial 258 finished with value: -474.286 and parameters: {'a': 9, 'b': 27, 'stop_loss': 35, 'take_profit': 45}. Best is trial 170 with value: -608.915.\u001b[0m\n",
      "\u001b[32m[I 2021-02-16 22:23:14,590]\u001b[0m Trial 259 finished with value: -582.866 and parameters: {'a': 9, 'b': 27, 'stop_loss': 34, 'take_profit': 43}. Best is trial 170 with value: -608.915.\u001b[0m\n",
      "\u001b[32m[I 2021-02-16 22:23:14,683]\u001b[0m Trial 260 finished with value: -536.081 and parameters: {'a': 9, 'b': 27, 'stop_loss': 34, 'take_profit': 44}. Best is trial 170 with value: -608.915.\u001b[0m\n"
     ]
    },
    {
     "name": "stdout",
     "output_type": "stream",
     "text": [
      "a: 9, b: 27, score: 474.29\n",
      "a: 9, b: 27, score: 582.87\n",
      "a: 9, b: 27, score: 536.08\n"
     ]
    },
    {
     "name": "stderr",
     "output_type": "stream",
     "text": [
      "\u001b[32m[I 2021-02-16 22:23:14,777]\u001b[0m Trial 261 finished with value: -454.472 and parameters: {'a': 9, 'b': 26, 'stop_loss': 36, 'take_profit': 43}. Best is trial 170 with value: -608.915.\u001b[0m\n",
      "\u001b[32m[I 2021-02-16 22:23:14,868]\u001b[0m Trial 262 finished with value: -24.609 and parameters: {'a': 9, 'b': 27, 'stop_loss': 36, 'take_profit': 12}. Best is trial 170 with value: -608.915.\u001b[0m\n",
      "\u001b[32m[I 2021-02-16 22:23:14,963]\u001b[0m Trial 263 finished with value: -536.081 and parameters: {'a': 9, 'b': 27, 'stop_loss': 34, 'take_profit': 44}. Best is trial 170 with value: -608.915.\u001b[0m\n"
     ]
    },
    {
     "name": "stdout",
     "output_type": "stream",
     "text": [
      "a: 9, b: 26, score: 454.47\n",
      "a: 9, b: 27, score: 24.61\n",
      "a: 9, b: 27, score: 536.08\n"
     ]
    },
    {
     "name": "stderr",
     "output_type": "stream",
     "text": [
      "\u001b[32m[I 2021-02-16 22:23:15,061]\u001b[0m Trial 264 finished with value: -593.68 and parameters: {'a': 9, 'b': 27, 'stop_loss': 35, 'take_profit': 43}. Best is trial 170 with value: -608.915.\u001b[0m\n",
      "\u001b[32m[I 2021-02-16 22:23:15,154]\u001b[0m Trial 265 finished with value: -247.56 and parameters: {'a': 8, 'b': 27, 'stop_loss': 35, 'take_profit': 44}. Best is trial 170 with value: -608.915.\u001b[0m\n",
      "\u001b[32m[I 2021-02-16 22:23:15,247]\u001b[0m Trial 266 finished with value: -312.625 and parameters: {'a': 9, 'b': 26, 'stop_loss': 34, 'take_profit': 45}. Best is trial 170 with value: -608.915.\u001b[0m\n"
     ]
    },
    {
     "name": "stdout",
     "output_type": "stream",
     "text": [
      "a: 9, b: 27, score: 593.68\n",
      "a: 8, b: 27, score: 247.56\n",
      "a: 9, b: 26, score: 312.62\n"
     ]
    },
    {
     "name": "stderr",
     "output_type": "stream",
     "text": [
      "\u001b[32m[I 2021-02-16 22:23:15,344]\u001b[0m Trial 267 finished with value: -336.444 and parameters: {'a': 9, 'b': 27, 'stop_loss': 35, 'take_profit': 25}. Best is trial 170 with value: -608.915.\u001b[0m\n",
      "\u001b[32m[I 2021-02-16 22:23:15,437]\u001b[0m Trial 268 finished with value: -569.069 and parameters: {'a': 9, 'b': 27, 'stop_loss': 33, 'take_profit': 43}. Best is trial 170 with value: -608.915.\u001b[0m\n",
      "\u001b[32m[I 2021-02-16 22:23:15,524]\u001b[0m Trial 269 finished with value: -593.68 and parameters: {'a': 9, 'b': 27, 'stop_loss': 35, 'take_profit': 43}. Best is trial 170 with value: -608.915.\u001b[0m\n"
     ]
    },
    {
     "name": "stdout",
     "output_type": "stream",
     "text": [
      "a: 9, b: 27, score: 336.44\n",
      "a: 9, b: 27, score: 569.07\n",
      "a: 9, b: 27, score: 593.68\n"
     ]
    },
    {
     "name": "stderr",
     "output_type": "stream",
     "text": [
      "\u001b[32m[I 2021-02-16 22:23:15,633]\u001b[0m Trial 270 finished with value: -414.982 and parameters: {'a': 9, 'b': 26, 'stop_loss': 35, 'take_profit': 44}. Best is trial 170 with value: -608.915.\u001b[0m\n",
      "\u001b[32m[I 2021-02-16 22:23:15,717]\u001b[0m Trial 271 finished with value: -579.077 and parameters: {'a': 9, 'b': 27, 'stop_loss': 32, 'take_profit': 43}. Best is trial 170 with value: -608.915.\u001b[0m\n",
      "\u001b[32m[I 2021-02-16 22:23:15,814]\u001b[0m Trial 272 finished with value: -536.081 and parameters: {'a': 9, 'b': 27, 'stop_loss': 34, 'take_profit': 44}. Best is trial 170 with value: -608.915.\u001b[0m\n"
     ]
    },
    {
     "name": "stdout",
     "output_type": "stream",
     "text": [
      "a: 9, b: 26, score: 414.98\n",
      "a: 9, b: 27, score: 579.08\n",
      "a: 9, b: 27, score: 536.08\n"
     ]
    },
    {
     "name": "stderr",
     "output_type": "stream",
     "text": [
      "\u001b[32m[I 2021-02-16 22:23:15,917]\u001b[0m Trial 273 finished with value: -273.425 and parameters: {'a': 8, 'b': 27, 'stop_loss': 35, 'take_profit': 45}. Best is trial 170 with value: -608.915.\u001b[0m\n",
      "\u001b[32m[I 2021-02-16 22:23:16,007]\u001b[0m Trial 274 finished with value: -447.268 and parameters: {'a': 9, 'b': 26, 'stop_loss': 33, 'take_profit': 43}. Best is trial 170 with value: -608.915.\u001b[0m\n",
      "\u001b[32m[I 2021-02-16 22:23:16,104]\u001b[0m Trial 275 finished with value: -474.286 and parameters: {'a': 9, 'b': 27, 'stop_loss': 35, 'take_profit': 45}. Best is trial 170 with value: -608.915.\u001b[0m\n"
     ]
    },
    {
     "name": "stdout",
     "output_type": "stream",
     "text": [
      "a: 8, b: 27, score: 273.43\n",
      "a: 9, b: 26, score: 447.27\n",
      "a: 9, b: 27, score: 474.29\n"
     ]
    },
    {
     "name": "stderr",
     "output_type": "stream",
     "text": [
      "\u001b[32m[I 2021-02-16 22:23:16,199]\u001b[0m Trial 276 finished with value: -591.675 and parameters: {'a': 9, 'b': 27, 'stop_loss': 36, 'take_profit': 43}. Best is trial 170 with value: -608.915.\u001b[0m\n",
      "\u001b[32m[I 2021-02-16 22:23:16,288]\u001b[0m Trial 277 finished with value: -536.081 and parameters: {'a': 9, 'b': 27, 'stop_loss': 34, 'take_profit': 44}. Best is trial 170 with value: -608.915.\u001b[0m\n",
      "\u001b[32m[I 2021-02-16 22:23:16,382]\u001b[0m Trial 278 finished with value: -591.675 and parameters: {'a': 9, 'b': 27, 'stop_loss': 36, 'take_profit': 43}. Best is trial 170 with value: -608.915.\u001b[0m\n"
     ]
    },
    {
     "name": "stdout",
     "output_type": "stream",
     "text": [
      "a: 9, b: 27, score: 591.67\n",
      "a: 9, b: 27, score: 536.08\n",
      "a: 9, b: 27, score: 591.67\n"
     ]
    },
    {
     "name": "stderr",
     "output_type": "stream",
     "text": [
      "\u001b[32m[I 2021-02-16 22:23:16,481]\u001b[0m Trial 279 finished with value: -310.784 and parameters: {'a': 9, 'b': 26, 'stop_loss': 35, 'take_profit': 45}. Best is trial 170 with value: -608.915.\u001b[0m\n",
      "\u001b[32m[I 2021-02-16 22:23:16,572]\u001b[0m Trial 280 finished with value: -544.89 and parameters: {'a': 9, 'b': 27, 'stop_loss': 36, 'take_profit': 44}. Best is trial 170 with value: -608.915.\u001b[0m\n",
      "\u001b[32m[I 2021-02-16 22:23:16,664]\u001b[0m Trial 281 finished with value: -582.866 and parameters: {'a': 9, 'b': 27, 'stop_loss': 34, 'take_profit': 43}. Best is trial 170 with value: -608.915.\u001b[0m\n"
     ]
    },
    {
     "name": "stdout",
     "output_type": "stream",
     "text": [
      "a: 9, b: 26, score: 310.78\n",
      "a: 9, b: 27, score: 544.89\n",
      "a: 9, b: 27, score: 582.87\n"
     ]
    },
    {
     "name": "stderr",
     "output_type": "stream",
     "text": [
      "\u001b[32m[I 2021-02-16 22:23:16,772]\u001b[0m Trial 282 finished with value: -367.858 and parameters: {'a': 8, 'b': 27, 'stop_loss': 35, 'take_profit': 42}. Best is trial 170 with value: -608.915.\u001b[0m\n",
      "\u001b[32m[I 2021-02-16 22:23:16,863]\u001b[0m Trial 283 finished with value: -591.675 and parameters: {'a': 9, 'b': 27, 'stop_loss': 36, 'take_profit': 43}. Best is trial 170 with value: -608.915.\u001b[0m\n",
      "\u001b[32m[I 2021-02-16 22:23:16,961]\u001b[0m Trial 284 finished with value: -416.822 and parameters: {'a': 9, 'b': 26, 'stop_loss': 34, 'take_profit': 44}. Best is trial 170 with value: -608.915.\u001b[0m\n"
     ]
    },
    {
     "name": "stdout",
     "output_type": "stream",
     "text": [
      "a: 8, b: 27, score: 367.86\n",
      "a: 9, b: 27, score: 591.67\n",
      "a: 9, b: 26, score: 416.82\n"
     ]
    },
    {
     "name": "stderr",
     "output_type": "stream",
     "text": [
      "\u001b[32m[I 2021-02-16 22:23:17,052]\u001b[0m Trial 285 finished with value: -569.069 and parameters: {'a': 9, 'b': 27, 'stop_loss': 33, 'take_profit': 43}. Best is trial 170 with value: -608.915.\u001b[0m\n",
      "\u001b[32m[I 2021-02-16 22:23:17,141]\u001b[0m Trial 286 finished with value: -561.65 and parameters: {'a': 9, 'b': 27, 'stop_loss': 35, 'take_profit': 42}. Best is trial 170 with value: -608.915.\u001b[0m\n",
      "\u001b[32m[I 2021-02-16 22:23:17,229]\u001b[0m Trial 287 finished with value: -546.895 and parameters: {'a': 9, 'b': 27, 'stop_loss': 35, 'take_profit': 44}. Best is trial 170 with value: -608.915.\u001b[0m\n"
     ]
    },
    {
     "name": "stdout",
     "output_type": "stream",
     "text": [
      "a: 9, b: 27, score: 569.07\n",
      "a: 9, b: 27, score: 561.65\n",
      "a: 9, b: 27, score: 546.89\n"
     ]
    },
    {
     "name": "stderr",
     "output_type": "stream",
     "text": [
      "\u001b[32m[I 2021-02-16 22:23:17,318]\u001b[0m Trial 288 finished with value: -307.09 and parameters: {'a': 9, 'b': 26, 'stop_loss': 36, 'take_profit': 45}. Best is trial 170 with value: -608.915.\u001b[0m\n",
      "\u001b[32m[I 2021-02-16 22:23:17,412]\u001b[0m Trial 289 finished with value: -290.75 and parameters: {'a': 8, 'b': 27, 'stop_loss': 36, 'take_profit': 43}. Best is trial 170 with value: -608.915.\u001b[0m\n",
      "\u001b[32m[I 2021-02-16 22:23:17,514]\u001b[0m Trial 290 finished with value: -550.836 and parameters: {'a': 9, 'b': 27, 'stop_loss': 34, 'take_profit': 42}. Best is trial 170 with value: -608.915.\u001b[0m\n"
     ]
    },
    {
     "name": "stdout",
     "output_type": "stream",
     "text": [
      "a: 9, b: 26, score: 307.09\n",
      "a: 8, b: 27, score: 290.75\n",
      "a: 9, b: 27, score: 550.84\n"
     ]
    },
    {
     "name": "stderr",
     "output_type": "stream",
     "text": [
      "\u001b[32m[I 2021-02-16 22:23:17,604]\u001b[0m Trial 291 finished with value: -544.89 and parameters: {'a': 9, 'b': 27, 'stop_loss': 36, 'take_profit': 44}. Best is trial 170 with value: -608.915.\u001b[0m\n",
      "\u001b[32m[I 2021-02-16 22:23:17,696]\u001b[0m Trial 292 finished with value: -593.68 and parameters: {'a': 9, 'b': 27, 'stop_loss': 35, 'take_profit': 43}. Best is trial 170 with value: -608.915.\u001b[0m\n",
      "\u001b[32m[I 2021-02-16 22:23:17,787]\u001b[0m Trial 293 finished with value: -346.727 and parameters: {'a': 8, 'b': 27, 'stop_loss': 33, 'take_profit': 42}. Best is trial 170 with value: -608.915.\u001b[0m\n"
     ]
    },
    {
     "name": "stdout",
     "output_type": "stream",
     "text": [
      "a: 9, b: 27, score: 544.89\n",
      "a: 9, b: 27, score: 593.68\n",
      "a: 8, b: 27, score: 346.73\n"
     ]
    },
    {
     "name": "stderr",
     "output_type": "stream",
     "text": [
      "\u001b[32m[I 2021-02-16 22:23:17,881]\u001b[0m Trial 294 finished with value: -458.167 and parameters: {'a': 9, 'b': 26, 'stop_loss': 35, 'take_profit': 43}. Best is trial 170 with value: -608.915.\u001b[0m\n",
      "\u001b[32m[I 2021-02-16 22:23:17,976]\u001b[0m Trial 295 finished with value: -536.081 and parameters: {'a': 9, 'b': 27, 'stop_loss': 34, 'take_profit': 44}. Best is trial 170 with value: -608.915.\u001b[0m\n",
      "\u001b[32m[I 2021-02-16 22:23:18,068]\u001b[0m Trial 296 finished with value: -547.047 and parameters: {'a': 9, 'b': 27, 'stop_loss': 32, 'take_profit': 42}. Best is trial 170 with value: -608.915.\u001b[0m\n"
     ]
    },
    {
     "name": "stdout",
     "output_type": "stream",
     "text": [
      "a: 9, b: 26, score: 458.17\n",
      "a: 9, b: 27, score: 536.08\n",
      "a: 9, b: 27, score: 547.05\n"
     ]
    },
    {
     "name": "stderr",
     "output_type": "stream",
     "text": [
      "\u001b[32m[I 2021-02-16 22:23:18,161]\u001b[0m Trial 297 finished with value: -291.711 and parameters: {'a': 9, 'b': 26, 'stop_loss': 33, 'take_profit': 46}. Best is trial 170 with value: -608.915.\u001b[0m\n",
      "\u001b[32m[I 2021-02-16 22:23:18,253]\u001b[0m Trial 298 finished with value: -463.472 and parameters: {'a': 9, 'b': 27, 'stop_loss': 34, 'take_profit': 45}. Best is trial 170 with value: -608.915.\u001b[0m\n",
      "\u001b[32m[I 2021-02-16 22:23:18,341]\u001b[0m Trial 299 finished with value: -561.65 and parameters: {'a': 9, 'b': 27, 'stop_loss': 35, 'take_profit': 42}. Best is trial 170 with value: -608.915.\u001b[0m\n"
     ]
    },
    {
     "name": "stdout",
     "output_type": "stream",
     "text": [
      "a: 9, b: 26, score: 291.71\n",
      "a: 9, b: 27, score: 463.47\n",
      "a: 9, b: 27, score: 561.65\n"
     ]
    },
    {
     "name": "stderr",
     "output_type": "stream",
     "text": [
      "\u001b[32m[I 2021-02-16 22:23:18,440]\u001b[0m Trial 300 finished with value: -264.721 and parameters: {'a': 9, 'b': 24, 'stop_loss': 34, 'take_profit': 43}. Best is trial 170 with value: -608.915.\u001b[0m\n",
      "\u001b[32m[I 2021-02-16 22:23:18,532]\u001b[0m Trial 301 finished with value: -40.469 and parameters: {'a': 9, 'b': 16, 'stop_loss': 35, 'take_profit': 44}. Best is trial 170 with value: -608.915.\u001b[0m\n",
      "\u001b[32m[I 2021-02-16 22:23:18,626]\u001b[0m Trial 302 finished with value: -591.675 and parameters: {'a': 9, 'b': 27, 'stop_loss': 36, 'take_profit': 43}. Best is trial 170 with value: -608.915.\u001b[0m\n"
     ]
    },
    {
     "name": "stdout",
     "output_type": "stream",
     "text": [
      "a: 9, b: 24, score: 264.72\n",
      "a: 9, b: 16, score: 40.47\n",
      "a: 9, b: 27, score: 591.67\n"
     ]
    },
    {
     "name": "stderr",
     "output_type": "stream",
     "text": [
      "\u001b[32m[I 2021-02-16 22:23:18,720]\u001b[0m Trial 303 finished with value: -457.553 and parameters: {'a': 9, 'b': 26, 'stop_loss': 26, 'take_profit': 42}. Best is trial 170 with value: -608.915.\u001b[0m\n",
      "\u001b[32m[I 2021-02-16 22:23:18,810]\u001b[0m Trial 304 finished with value: -247.56 and parameters: {'a': 8, 'b': 27, 'stop_loss': 35, 'take_profit': 44}. Best is trial 170 with value: -608.915.\u001b[0m\n",
      "\u001b[32m[I 2021-02-16 22:23:18,907]\u001b[0m Trial 305 finished with value: -449.675 and parameters: {'a': 9, 'b': 27, 'stop_loss': 33, 'take_profit': 45}. Best is trial 170 with value: -608.915.\u001b[0m\n"
     ]
    },
    {
     "name": "stdout",
     "output_type": "stream",
     "text": [
      "a: 9, b: 26, score: 457.55\n",
      "a: 8, b: 27, score: 247.56\n",
      "a: 9, b: 27, score: 449.68\n"
     ]
    },
    {
     "name": "stderr",
     "output_type": "stream",
     "text": [
      "\u001b[32m[I 2021-02-16 22:23:19,003]\u001b[0m Trial 306 finished with value: -591.675 and parameters: {'a': 9, 'b': 27, 'stop_loss': 36, 'take_profit': 43}. Best is trial 170 with value: -608.915.\u001b[0m\n",
      "\u001b[32m[I 2021-02-16 22:23:19,104]\u001b[0m Trial 307 finished with value: -428.599 and parameters: {'a': 9, 'b': 26, 'stop_loss': 35, 'take_profit': 42}. Best is trial 170 with value: -608.915.\u001b[0m\n",
      "\u001b[32m[I 2021-02-16 22:23:19,195]\u001b[0m Trial 308 finished with value: -536.081 and parameters: {'a': 9, 'b': 27, 'stop_loss': 34, 'take_profit': 44}. Best is trial 170 with value: -608.915.\u001b[0m\n"
     ]
    },
    {
     "name": "stdout",
     "output_type": "stream",
     "text": [
      "a: 9, b: 27, score: 591.67\n",
      "a: 9, b: 26, score: 428.60\n",
      "a: 9, b: 27, score: 536.08\n"
     ]
    },
    {
     "name": "stderr",
     "output_type": "stream",
     "text": [
      "\u001b[32m[I 2021-02-16 22:23:19,285]\u001b[0m Trial 309 finished with value: -290.75 and parameters: {'a': 8, 'b': 27, 'stop_loss': 36, 'take_profit': 43}. Best is trial 170 with value: -608.915.\u001b[0m\n",
      "\u001b[32m[I 2021-02-16 22:23:19,378]\u001b[0m Trial 310 finished with value: -561.65 and parameters: {'a': 9, 'b': 27, 'stop_loss': 35, 'take_profit': 42}. Best is trial 170 with value: -608.915.\u001b[0m\n",
      "\u001b[32m[I 2021-02-16 22:23:19,476]\u001b[0m Trial 311 finished with value: -544.89 and parameters: {'a': 9, 'b': 27, 'stop_loss': 36, 'take_profit': 44}. Best is trial 170 with value: -608.915.\u001b[0m\n"
     ]
    },
    {
     "name": "stdout",
     "output_type": "stream",
     "text": [
      "a: 8, b: 27, score: 290.75\n",
      "a: 9, b: 27, score: 561.65\n",
      "a: 9, b: 27, score: 544.89\n"
     ]
    },
    {
     "name": "stderr",
     "output_type": "stream",
     "text": [
      "\u001b[32m[I 2021-02-16 22:23:19,569]\u001b[0m Trial 312 finished with value: -569.069 and parameters: {'a': 9, 'b': 27, 'stop_loss': 33, 'take_profit': 43}. Best is trial 170 with value: -608.915.\u001b[0m\n",
      "\u001b[32m[I 2021-02-16 22:23:19,669]\u001b[0m Trial 313 finished with value: -489.521 and parameters: {'a': 9, 'b': 27, 'stop_loss': 37, 'take_profit': 45}. Best is trial 170 with value: -608.915.\u001b[0m\n",
      "\u001b[32m[I 2021-02-16 22:23:19,761]\u001b[0m Trial 314 finished with value: -460.007 and parameters: {'a': 9, 'b': 26, 'stop_loss': 34, 'take_profit': 43}. Best is trial 170 with value: -608.915.\u001b[0m\n"
     ]
    },
    {
     "name": "stdout",
     "output_type": "stream",
     "text": [
      "a: 9, b: 27, score: 569.07\n",
      "a: 9, b: 27, score: 489.52\n",
      "a: 9, b: 26, score: 460.01\n"
     ]
    },
    {
     "name": "stderr",
     "output_type": "stream",
     "text": [
      "\u001b[32m[I 2021-02-16 22:23:19,859]\u001b[0m Trial 315 finished with value: -446.59 and parameters: {'a': 9, 'b': 28, 'stop_loss': 35, 'take_profit': 44}. Best is trial 170 with value: -608.915.\u001b[0m\n",
      "\u001b[32m[I 2021-02-16 22:23:19,952]\u001b[0m Trial 316 finished with value: -559.645 and parameters: {'a': 9, 'b': 27, 'stop_loss': 36, 'take_profit': 42}. Best is trial 170 with value: -608.915.\u001b[0m\n",
      "\u001b[32m[I 2021-02-16 22:23:20,045]\u001b[0m Trial 317 finished with value: -536.081 and parameters: {'a': 9, 'b': 27, 'stop_loss': 34, 'take_profit': 44}. Best is trial 170 with value: -608.915.\u001b[0m\n"
     ]
    },
    {
     "name": "stdout",
     "output_type": "stream",
     "text": [
      "a: 9, b: 28, score: 446.59\n",
      "a: 9, b: 27, score: 559.64\n",
      "a: 9, b: 27, score: 536.08\n"
     ]
    },
    {
     "name": "stderr",
     "output_type": "stream",
     "text": [
      "\u001b[32m[I 2021-02-16 22:23:20,144]\u001b[0m Trial 318 finished with value: -367.858 and parameters: {'a': 8, 'b': 27, 'stop_loss': 35, 'take_profit': 42}. Best is trial 170 with value: -608.915.\u001b[0m\n",
      "\u001b[32m[I 2021-02-16 22:23:20,235]\u001b[0m Trial 319 finished with value: -481.082 and parameters: {'a': 9, 'b': 26, 'stop_loss': 37, 'take_profit': 43}. Best is trial 170 with value: -608.915.\u001b[0m\n",
      "\u001b[32m[I 2021-02-16 22:23:20,326]\u001b[0m Trial 320 finished with value: -498.669 and parameters: {'a': 9, 'b': 28, 'stop_loss': 32, 'take_profit': 43}. Best is trial 170 with value: -608.915.\u001b[0m\n"
     ]
    },
    {
     "name": "stdout",
     "output_type": "stream",
     "text": [
      "a: 8, b: 27, score: 367.86\n",
      "a: 9, b: 26, score: 481.08\n",
      "a: 9, b: 28, score: 498.67\n"
     ]
    },
    {
     "name": "stderr",
     "output_type": "stream",
     "text": [
      "\u001b[32m[I 2021-02-16 22:23:20,421]\u001b[0m Trial 321 finished with value: -463.472 and parameters: {'a': 9, 'b': 27, 'stop_loss': 34, 'take_profit': 45}. Best is trial 170 with value: -608.915.\u001b[0m\n",
      "\u001b[32m[I 2021-02-16 22:23:20,513]\u001b[0m Trial 322 finished with value: -559.645 and parameters: {'a': 9, 'b': 27, 'stop_loss': 36, 'take_profit': 42}. Best is trial 170 with value: -608.915.\u001b[0m\n",
      "\u001b[32m[I 2021-02-16 22:23:20,614]\u001b[0m Trial 323 finished with value: -325.525 and parameters: {'a': 9, 'b': 26, 'stop_loss': 37, 'take_profit': 46}. Best is trial 170 with value: -608.915.\u001b[0m\n"
     ]
    },
    {
     "name": "stdout",
     "output_type": "stream",
     "text": [
      "a: 9, b: 27, score: 463.47\n",
      "a: 9, b: 27, score: 559.64\n",
      "a: 9, b: 26, score: 325.52\n"
     ]
    },
    {
     "name": "stderr",
     "output_type": "stream",
     "text": [
      "\u001b[32m[I 2021-02-16 22:23:20,712]\u001b[0m Trial 324 finished with value: -529.62 and parameters: {'a': 9, 'b': 27, 'stop_loss': 35, 'take_profit': 41}. Best is trial 170 with value: -608.915.\u001b[0m\n",
      "\u001b[32m[I 2021-02-16 22:23:20,811]\u001b[0m Trial 325 finished with value: -226.429 and parameters: {'a': 8, 'b': 27, 'stop_loss': 33, 'take_profit': 44}. Best is trial 170 with value: -608.915.\u001b[0m\n",
      "\u001b[32m[I 2021-02-16 22:23:20,908]\u001b[0m Trial 326 finished with value: -485.373 and parameters: {'a': 9, 'b': 28, 'stop_loss': 36, 'take_profit': 43}. Best is trial 170 with value: -608.915.\u001b[0m\n"
     ]
    },
    {
     "name": "stdout",
     "output_type": "stream",
     "text": [
      "a: 9, b: 27, score: 529.62\n",
      "a: 8, b: 27, score: 226.43\n",
      "a: 9, b: 28, score: 485.37\n"
     ]
    },
    {
     "name": "stderr",
     "output_type": "stream",
     "text": [
      "\u001b[32m[I 2021-02-16 22:23:21,002]\u001b[0m Trial 327 finished with value: -536.081 and parameters: {'a': 9, 'b': 27, 'stop_loss': 34, 'take_profit': 44}. Best is trial 170 with value: -608.915.\u001b[0m\n",
      "\u001b[32m[I 2021-02-16 22:23:21,096]\u001b[0m Trial 328 finished with value: -428.599 and parameters: {'a': 9, 'b': 26, 'stop_loss': 35, 'take_profit': 42}. Best is trial 170 with value: -608.915.\u001b[0m\n",
      "\u001b[32m[I 2021-02-16 22:23:21,193]\u001b[0m Trial 329 finished with value: -591.675 and parameters: {'a': 9, 'b': 27, 'stop_loss': 36, 'take_profit': 43}. Best is trial 170 with value: -608.915.\u001b[0m\n"
     ]
    },
    {
     "name": "stdout",
     "output_type": "stream",
     "text": [
      "a: 9, b: 27, score: 536.08\n",
      "a: 9, b: 26, score: 428.60\n",
      "a: 9, b: 27, score: 591.67\n"
     ]
    },
    {
     "name": "stderr",
     "output_type": "stream",
     "text": [
      "\u001b[32m[I 2021-02-16 22:23:21,287]\u001b[0m Trial 330 finished with value: -273.425 and parameters: {'a': 8, 'b': 27, 'stop_loss': 35, 'take_profit': 45}. Best is trial 170 with value: -608.915.\u001b[0m\n",
      "\u001b[32m[I 2021-02-16 22:23:21,380]\u001b[0m Trial 331 finished with value: -454.668 and parameters: {'a': 9, 'b': 28, 'stop_loss': 37, 'take_profit': 41}. Best is trial 170 with value: -608.915.\u001b[0m\n",
      "\u001b[32m[I 2021-02-16 22:23:21,482]\u001b[0m Trial 332 finished with value: -310.695 and parameters: {'a': 9, 'b': 27, 'stop_loss': 34, 'take_profit': 34}. Best is trial 170 with value: -608.915.\u001b[0m\n"
     ]
    },
    {
     "name": "stdout",
     "output_type": "stream",
     "text": [
      "a: 8, b: 27, score: 273.43\n",
      "a: 9, b: 28, score: 454.67\n",
      "a: 9, b: 27, score: 310.69\n"
     ]
    },
    {
     "name": "stderr",
     "output_type": "stream",
     "text": [
      "\u001b[32m[I 2021-02-16 22:23:21,576]\u001b[0m Trial 333 finished with value: -559.645 and parameters: {'a': 9, 'b': 27, 'stop_loss': 36, 'take_profit': 42}. Best is trial 170 with value: -608.915.\u001b[0m\n",
      "\u001b[32m[I 2021-02-16 22:23:21,672]\u001b[0m Trial 334 finished with value: -593.68 and parameters: {'a': 9, 'b': 27, 'stop_loss': 35, 'take_profit': 43}. Best is trial 170 with value: -608.915.\u001b[0m\n",
      "\u001b[32m[I 2021-02-16 22:23:21,766]\u001b[0m Trial 335 finished with value: -437.897 and parameters: {'a': 9, 'b': 26, 'stop_loss': 37, 'take_profit': 44}. Best is trial 170 with value: -608.915.\u001b[0m\n"
     ]
    },
    {
     "name": "stdout",
     "output_type": "stream",
     "text": [
      "a: 9, b: 27, score: 559.64\n",
      "a: 9, b: 27, score: 593.68\n",
      "a: 9, b: 26, score: 437.90\n"
     ]
    },
    {
     "name": "stderr",
     "output_type": "stream",
     "text": [
      "\u001b[32m[I 2021-02-16 22:23:21,860]\u001b[0m Trial 336 finished with value: -248.225 and parameters: {'a': 9, 'b': 27, 'stop_loss': 36, 'take_profit': 23}. Best is trial 170 with value: -608.915.\u001b[0m\n",
      "\u001b[32m[I 2021-02-16 22:23:21,953]\u001b[0m Trial 337 finished with value: -500.569 and parameters: {'a': 9, 'b': 28, 'stop_loss': 33, 'take_profit': 43}. Best is trial 170 with value: -608.915.\u001b[0m\n",
      "\u001b[32m[I 2021-02-16 22:23:22,048]\u001b[0m Trial 338 finished with value: -550.836 and parameters: {'a': 9, 'b': 27, 'stop_loss': 34, 'take_profit': 42}. Best is trial 170 with value: -608.915.\u001b[0m\n"
     ]
    },
    {
     "name": "stdout",
     "output_type": "stream",
     "text": [
      "a: 9, b: 27, score: 248.22\n",
      "a: 9, b: 28, score: 500.57\n",
      "a: 9, b: 27, score: 550.84\n"
     ]
    },
    {
     "name": "stderr",
     "output_type": "stream",
     "text": [
      "\u001b[32m[I 2021-02-16 22:23:22,149]\u001b[0m Trial 339 finished with value: -182.335 and parameters: {'a': 8, 'b': 26, 'stop_loss': 35, 'take_profit': 44}. Best is trial 170 with value: -608.915.\u001b[0m\n",
      "\u001b[32m[I 2021-02-16 22:23:22,240]\u001b[0m Trial 340 finished with value: -474.286 and parameters: {'a': 9, 'b': 27, 'stop_loss': 35, 'take_profit': 45}. Best is trial 170 with value: -608.915.\u001b[0m\n",
      "\u001b[32m[I 2021-02-16 22:23:22,333]\u001b[0m Trial 341 finished with value: -608.915 and parameters: {'a': 9, 'b': 27, 'stop_loss': 37, 'take_profit': 43}. Best is trial 170 with value: -608.915.\u001b[0m\n"
     ]
    },
    {
     "name": "stdout",
     "output_type": "stream",
     "text": [
      "a: 8, b: 26, score: 182.34\n",
      "a: 9, b: 27, score: 474.29\n",
      "a: 9, b: 27, score: 608.91\n"
     ]
    },
    {
     "name": "stderr",
     "output_type": "stream",
     "text": [
      "\u001b[32m[I 2021-02-16 22:23:22,423]\u001b[0m Trial 342 finished with value: -454.668 and parameters: {'a': 9, 'b': 28, 'stop_loss': 37, 'take_profit': 41}. Best is trial 170 with value: -608.915.\u001b[0m\n",
      "\u001b[32m[I 2021-02-16 22:23:22,517]\u001b[0m Trial 343 finished with value: -576.885 and parameters: {'a': 9, 'b': 27, 'stop_loss': 38, 'take_profit': 42}. Best is trial 170 with value: -608.915.\u001b[0m\n",
      "\u001b[32m[I 2021-02-16 22:23:22,611]\u001b[0m Trial 344 finished with value: -608.915 and parameters: {'a': 9, 'b': 27, 'stop_loss': 37, 'take_profit': 43}. Best is trial 170 with value: -608.915.\u001b[0m\n"
     ]
    },
    {
     "name": "stdout",
     "output_type": "stream",
     "text": [
      "a: 9, b: 28, score: 454.67\n",
      "a: 9, b: 27, score: 576.88\n",
      "a: 9, b: 27, score: 608.91\n"
     ]
    },
    {
     "name": "stderr",
     "output_type": "stream",
     "text": [
      "\u001b[32m[I 2021-02-16 22:23:22,709]\u001b[0m Trial 345 finished with value: -383.442 and parameters: {'a': 9, 'b': 25, 'stop_loss': 37, 'take_profit': 44}. Best is trial 170 with value: -608.915.\u001b[0m\n",
      "\u001b[32m[I 2021-02-16 22:23:22,811]\u001b[0m Trial 346 finished with value: -608.915 and parameters: {'a': 9, 'b': 27, 'stop_loss': 38, 'take_profit': 43}. Best is trial 170 with value: -608.915.\u001b[0m\n"
     ]
    },
    {
     "name": "stdout",
     "output_type": "stream",
     "text": [
      "a: 9, b: 25, score: 383.44\n",
      "a: 9, b: 27, score: 608.91\n"
     ]
    },
    {
     "name": "stderr",
     "output_type": "stream",
     "text": [
      "\u001b[32m[I 2021-02-16 22:23:22,911]\u001b[0m Trial 347 finished with value: 24.181 and parameters: {'a': 9, 'b': 17, 'stop_loss': 38, 'take_profit': 41}. Best is trial 170 with value: -608.915.\u001b[0m\n",
      "\u001b[32m[I 2021-02-16 22:23:23,016]\u001b[0m Trial 348 finished with value: 45.032 and parameters: {'a': 15, 'b': 26, 'stop_loss': 38, 'take_profit': 42}. Best is trial 170 with value: -608.915.\u001b[0m\n",
      "\u001b[32m[I 2021-02-16 22:23:23,106]\u001b[0m Trial 349 finished with value: -287.489 and parameters: {'a': 8, 'b': 27, 'stop_loss': 37, 'take_profit': 45}. Best is trial 170 with value: -608.915.\u001b[0m\n"
     ]
    },
    {
     "name": "stdout",
     "output_type": "stream",
     "text": [
      "a: 9, b: 17, score: -24.18\n",
      "a: 15, b: 26, score: -45.03\n",
      "a: 8, b: 27, score: 287.49\n"
     ]
    },
    {
     "name": "stderr",
     "output_type": "stream",
     "text": [
      "\u001b[32m[I 2021-02-16 22:23:23,207]\u001b[0m Trial 350 finished with value: -469.971 and parameters: {'a': 9, 'b': 28, 'stop_loss': 38, 'take_profit': 44}. Best is trial 170 with value: -608.915.\u001b[0m\n",
      "\u001b[32m[I 2021-02-16 22:23:23,317]\u001b[0m Trial 351 finished with value: -608.915 and parameters: {'a': 9, 'b': 27, 'stop_loss': 39, 'take_profit': 43}. Best is trial 170 with value: -608.915.\u001b[0m\n"
     ]
    },
    {
     "name": "stdout",
     "output_type": "stream",
     "text": [
      "a: 9, b: 28, score: 469.97\n",
      "a: 9, b: 27, score: 608.91\n"
     ]
    },
    {
     "name": "stderr",
     "output_type": "stream",
     "text": [
      "\u001b[32m[I 2021-02-16 22:23:23,409]\u001b[0m Trial 352 finished with value: -352.373 and parameters: {'a': 9, 'b': 27, 'stop_loss': 39, 'take_profit': 31}. Best is trial 170 with value: -608.915.\u001b[0m\n",
      "\u001b[32m[I 2021-02-16 22:23:23,514]\u001b[0m Trial 353 finished with value: -487.068 and parameters: {'a': 9, 'b': 27, 'stop_loss': 39, 'take_profit': 46}. Best is trial 170 with value: -608.915.\u001b[0m\n",
      "\u001b[32m[I 2021-02-16 22:23:23,610]\u001b[0m Trial 354 finished with value: -481.082 and parameters: {'a': 9, 'b': 26, 'stop_loss': 39, 'take_profit': 43}. Best is trial 170 with value: -608.915.\u001b[0m\n"
     ]
    },
    {
     "name": "stdout",
     "output_type": "stream",
     "text": [
      "a: 9, b: 27, score: 352.37\n",
      "a: 9, b: 27, score: 487.07\n",
      "a: 9, b: 26, score: 481.08\n"
     ]
    },
    {
     "name": "stderr",
     "output_type": "stream",
     "text": [
      "\u001b[32m[I 2021-02-16 22:23:23,711]\u001b[0m Trial 355 finished with value: -484.725 and parameters: {'a': 9, 'b': 28, 'stop_loss': 38, 'take_profit': 42}. Best is trial 170 with value: -608.915.\u001b[0m\n",
      "\u001b[32m[I 2021-02-16 22:23:23,806]\u001b[0m Trial 356 finished with value: -562.13 and parameters: {'a': 9, 'b': 27, 'stop_loss': 37, 'take_profit': 44}. Best is trial 170 with value: -608.915.\u001b[0m\n",
      "\u001b[32m[I 2021-02-16 22:23:23,903]\u001b[0m Trial 357 finished with value: -544.856 and parameters: {'a': 9, 'b': 27, 'stop_loss': 38, 'take_profit': 41}. Best is trial 170 with value: -608.915.\u001b[0m\n"
     ]
    },
    {
     "name": "stdout",
     "output_type": "stream",
     "text": [
      "a: 9, b: 28, score: 484.73\n",
      "a: 9, b: 27, score: 562.13\n",
      "a: 9, b: 27, score: 544.86\n"
     ]
    },
    {
     "name": "stderr",
     "output_type": "stream",
     "text": [
      "\u001b[32m[I 2021-02-16 22:23:23,999]\u001b[0m Trial 358 finished with value: -173.617 and parameters: {'a': 8, 'b': 26, 'stop_loss': 37, 'take_profit': 43}. Best is trial 170 with value: -608.915.\u001b[0m\n",
      "\u001b[32m[I 2021-02-16 22:23:24,092]\u001b[0m Trial 359 finished with value: -576.885 and parameters: {'a': 9, 'b': 27, 'stop_loss': 39, 'take_profit': 42}. Best is trial 170 with value: -608.915.\u001b[0m\n",
      "\u001b[32m[I 2021-02-16 22:23:24,188]\u001b[0m Trial 360 finished with value: -489.521 and parameters: {'a': 9, 'b': 27, 'stop_loss': 41, 'take_profit': 45}. Best is trial 170 with value: -608.915.\u001b[0m\n"
     ]
    },
    {
     "name": "stdout",
     "output_type": "stream",
     "text": [
      "a: 8, b: 26, score: 173.62\n",
      "a: 9, b: 27, score: 576.88\n",
      "a: 9, b: 27, score: 489.52\n"
     ]
    },
    {
     "name": "stderr",
     "output_type": "stream",
     "text": [
      "\u001b[32m[I 2021-02-16 22:23:24,282]\u001b[0m Trial 361 finished with value: -518.728 and parameters: {'a': 9, 'b': 28, 'stop_loss': 37, 'take_profit': 43}. Best is trial 170 with value: -608.915.\u001b[0m\n",
      "\u001b[32m[I 2021-02-16 22:23:24,380]\u001b[0m Trial 362 finished with value: -544.89 and parameters: {'a': 9, 'b': 27, 'stop_loss': 36, 'take_profit': 44}. Best is trial 170 with value: -608.915.\u001b[0m\n",
      "\u001b[32m[I 2021-02-16 22:23:24,477]\u001b[0m Trial 363 finished with value: -381.921 and parameters: {'a': 8, 'b': 27, 'stop_loss': 38, 'take_profit': 42}. Best is trial 170 with value: -608.915.\u001b[0m\n"
     ]
    },
    {
     "name": "stdout",
     "output_type": "stream",
     "text": [
      "a: 9, b: 28, score: 518.73\n",
      "a: 9, b: 27, score: 544.89\n",
      "a: 8, b: 27, score: 381.92\n"
     ]
    },
    {
     "name": "stderr",
     "output_type": "stream",
     "text": [
      "\u001b[32m[I 2021-02-16 22:23:24,572]\u001b[0m Trial 364 finished with value: -495.585 and parameters: {'a': 9, 'b': 27, 'stop_loss': 36, 'take_profit': 40}. Best is trial 170 with value: -608.915.\u001b[0m\n",
      "\u001b[32m[I 2021-02-16 22:23:24,663]\u001b[0m Trial 365 finished with value: -608.915 and parameters: {'a': 9, 'b': 27, 'stop_loss': 40, 'take_profit': 43}. Best is trial 170 with value: -608.915.\u001b[0m\n",
      "\u001b[32m[I 2021-02-16 22:23:24,759]\u001b[0m Trial 366 finished with value: -393.418 and parameters: {'a': 9, 'b': 28, 'stop_loss': 40, 'take_profit': 45}. Best is trial 170 with value: -608.915.\u001b[0m\n"
     ]
    },
    {
     "name": "stdout",
     "output_type": "stream",
     "text": [
      "a: 9, b: 27, score: 495.58\n",
      "a: 9, b: 27, score: 608.91\n",
      "a: 9, b: 28, score: 393.42\n"
     ]
    },
    {
     "name": "stderr",
     "output_type": "stream",
     "text": [
      "\u001b[32m[I 2021-02-16 22:23:24,856]\u001b[0m Trial 367 finished with value: -576.885 and parameters: {'a': 9, 'b': 27, 'stop_loss': 41, 'take_profit': 42}. Best is trial 170 with value: -608.915.\u001b[0m\n",
      "\u001b[32m[I 2021-02-16 22:23:24,953]\u001b[0m Trial 368 finished with value: -437.897 and parameters: {'a': 9, 'b': 26, 'stop_loss': 40, 'take_profit': 44}. Best is trial 170 with value: -608.915.\u001b[0m\n",
      "\u001b[32m[I 2021-02-16 22:23:25,055]\u001b[0m Trial 369 finished with value: -514.783 and parameters: {'a': 9, 'b': 28, 'stop_loss': 39, 'take_profit': 43}. Best is trial 170 with value: -608.915.\u001b[0m\n"
     ]
    },
    {
     "name": "stdout",
     "output_type": "stream",
     "text": [
      "a: 9, b: 27, score: 576.88\n",
      "a: 9, b: 26, score: 437.90\n",
      "a: 9, b: 28, score: 514.78\n"
     ]
    },
    {
     "name": "stderr",
     "output_type": "stream",
     "text": [
      "\u001b[32m[I 2021-02-16 22:23:25,159]\u001b[0m Trial 370 finished with value: -562.13 and parameters: {'a': 9, 'b': 27, 'stop_loss': 39, 'take_profit': 44}. Best is trial 170 with value: -608.915.\u001b[0m\n",
      "\u001b[32m[I 2021-02-16 22:23:25,253]\u001b[0m Trial 371 finished with value: -421.948 and parameters: {'a': 9, 'b': 26, 'stop_loss': 38, 'take_profit': 41}. Best is trial 170 with value: -608.915.\u001b[0m\n",
      "\u001b[32m[I 2021-02-16 22:23:25,350]\u001b[0m Trial 372 finished with value: -608.915 and parameters: {'a': 9, 'b': 27, 'stop_loss': 37, 'take_profit': 43}. Best is trial 170 with value: -608.915.\u001b[0m\n"
     ]
    },
    {
     "name": "stdout",
     "output_type": "stream",
     "text": [
      "a: 9, b: 27, score: 562.13\n",
      "a: 9, b: 26, score: 421.95\n",
      "a: 9, b: 27, score: 608.91\n"
     ]
    },
    {
     "name": "stderr",
     "output_type": "stream",
     "text": [
      "\u001b[32m[I 2021-02-16 22:23:25,450]\u001b[0m Trial 373 finished with value: -562.13 and parameters: {'a': 9, 'b': 27, 'stop_loss': 37, 'take_profit': 44}. Best is trial 170 with value: -608.915.\u001b[0m\n",
      "\u001b[32m[I 2021-02-16 22:23:25,544]\u001b[0m Trial 374 finished with value: -576.885 and parameters: {'a': 9, 'b': 27, 'stop_loss': 41, 'take_profit': 42}. Best is trial 170 with value: -608.915.\u001b[0m\n",
      "\u001b[32m[I 2021-02-16 22:23:25,640]\u001b[0m Trial 375 finished with value: -481.082 and parameters: {'a': 9, 'b': 26, 'stop_loss': 38, 'take_profit': 43}. Best is trial 170 with value: -608.915.\u001b[0m\n"
     ]
    },
    {
     "name": "stdout",
     "output_type": "stream",
     "text": [
      "a: 9, b: 27, score: 562.13\n",
      "a: 9, b: 27, score: 576.88\n",
      "a: 9, b: 26, score: 481.08\n"
     ]
    },
    {
     "name": "stderr",
     "output_type": "stream",
     "text": [
      "\u001b[32m[I 2021-02-16 22:23:25,737]\u001b[0m Trial 376 finished with value: -346.466 and parameters: {'a': 8, 'b': 28, 'stop_loss': 37, 'take_profit': 42}. Best is trial 170 with value: -608.915.\u001b[0m\n",
      "\u001b[32m[I 2021-02-16 22:23:25,832]\u001b[0m Trial 377 finished with value: -608.915 and parameters: {'a': 9, 'b': 27, 'stop_loss': 39, 'take_profit': 43}. Best is trial 170 with value: -608.915.\u001b[0m\n",
      "\u001b[32m[I 2021-02-16 22:23:25,930]\u001b[0m Trial 378 finished with value: -352.352 and parameters: {'a': 8, 'b': 27, 'stop_loss': 39, 'take_profit': 41}. Best is trial 170 with value: -608.915.\u001b[0m\n"
     ]
    },
    {
     "name": "stdout",
     "output_type": "stream",
     "text": [
      "a: 8, b: 28, score: 346.47\n",
      "a: 9, b: 27, score: 608.91\n",
      "a: 8, b: 27, score: 352.35\n"
     ]
    },
    {
     "name": "stderr",
     "output_type": "stream",
     "text": [
      "\u001b[32m[I 2021-02-16 22:23:26,021]\u001b[0m Trial 379 finished with value: -487.068 and parameters: {'a': 9, 'b': 27, 'stop_loss': 40, 'take_profit': 46}. Best is trial 170 with value: -608.915.\u001b[0m\n",
      "\u001b[32m[I 2021-02-16 22:23:26,117]\u001b[0m Trial 380 finished with value: -562.13 and parameters: {'a': 9, 'b': 27, 'stop_loss': 42, 'take_profit': 44}. Best is trial 170 with value: -608.915.\u001b[0m\n",
      "\u001b[32m[I 2021-02-16 22:23:26,208]\u001b[0m Trial 381 finished with value: -395.39 and parameters: {'a': 9, 'b': 28, 'stop_loss': 39, 'take_profit': 45}. Best is trial 170 with value: -608.915.\u001b[0m\n"
     ]
    },
    {
     "name": "stdout",
     "output_type": "stream",
     "text": [
      "a: 9, b: 27, score: 487.07\n",
      "a: 9, b: 27, score: 562.13\n",
      "a: 9, b: 28, score: 395.39\n"
     ]
    },
    {
     "name": "stderr",
     "output_type": "stream",
     "text": [
      "\u001b[32m[I 2021-02-16 22:23:26,312]\u001b[0m Trial 382 finished with value: -608.915 and parameters: {'a': 9, 'b': 27, 'stop_loss': 40, 'take_profit': 43}. Best is trial 170 with value: -608.915.\u001b[0m\n",
      "\u001b[32m[I 2021-02-16 22:23:26,402]\u001b[0m Trial 383 finished with value: -451.514 and parameters: {'a': 9, 'b': 26, 'stop_loss': 40, 'take_profit': 42}. Best is trial 170 with value: -608.915.\u001b[0m\n",
      "\u001b[32m[I 2021-02-16 22:23:26,496]\u001b[0m Trial 384 finished with value: -608.915 and parameters: {'a': 9, 'b': 27, 'stop_loss': 41, 'take_profit': 43}. Best is trial 170 with value: -608.915.\u001b[0m\n"
     ]
    },
    {
     "name": "stdout",
     "output_type": "stream",
     "text": [
      "a: 9, b: 27, score: 608.91\n",
      "a: 9, b: 26, score: 451.51\n",
      "a: 9, b: 27, score: 608.91\n"
     ]
    },
    {
     "name": "stderr",
     "output_type": "stream",
     "text": [
      "\u001b[32m[I 2021-02-16 22:23:26,588]\u001b[0m Trial 385 finished with value: -562.13 and parameters: {'a': 9, 'b': 27, 'stop_loss': 41, 'take_profit': 44}. Best is trial 170 with value: -608.915.\u001b[0m\n",
      "\u001b[32m[I 2021-02-16 22:23:26,685]\u001b[0m Trial 386 finished with value: -608.915 and parameters: {'a': 9, 'b': 27, 'stop_loss': 42, 'take_profit': 43}. Best is trial 170 with value: -608.915.\u001b[0m\n",
      "\u001b[32m[I 2021-02-16 22:23:26,782]\u001b[0m Trial 387 finished with value: -421.948 and parameters: {'a': 9, 'b': 26, 'stop_loss': 42, 'take_profit': 41}. Best is trial 170 with value: -608.915.\u001b[0m\n"
     ]
    },
    {
     "name": "stdout",
     "output_type": "stream",
     "text": [
      "a: 9, b: 27, score: 562.13\n",
      "a: 9, b: 27, score: 608.91\n",
      "a: 9, b: 26, score: 421.95\n"
     ]
    },
    {
     "name": "stderr",
     "output_type": "stream",
     "text": [
      "\u001b[32m[I 2021-02-16 22:23:26,883]\u001b[0m Trial 388 finished with value: -576.885 and parameters: {'a': 9, 'b': 27, 'stop_loss': 41, 'take_profit': 42}. Best is trial 170 with value: -608.915.\u001b[0m\n",
      "\u001b[32m[I 2021-02-16 22:23:26,977]\u001b[0m Trial 389 finished with value: -253.516 and parameters: {'a': 8, 'b': 28, 'stop_loss': 43, 'take_profit': 45}. Best is trial 170 with value: -608.915.\u001b[0m\n"
     ]
    },
    {
     "name": "stdout",
     "output_type": "stream",
     "text": [
      "a: 9, b: 27, score: 576.88\n",
      "a: 8, b: 28, score: 253.52\n"
     ]
    },
    {
     "name": "stderr",
     "output_type": "stream",
     "text": [
      "\u001b[32m[I 2021-02-16 22:23:27,087]\u001b[0m Trial 390 finished with value: -562.13 and parameters: {'a': 9, 'b': 27, 'stop_loss': 42, 'take_profit': 44}. Best is trial 170 with value: -608.915.\u001b[0m\n",
      "\u001b[32m[I 2021-02-16 22:23:27,185]\u001b[0m Trial 391 finished with value: -608.915 and parameters: {'a': 9, 'b': 27, 'stop_loss': 43, 'take_profit': 43}. Best is trial 170 with value: -608.915.\u001b[0m\n",
      "\u001b[32m[I 2021-02-16 22:23:27,287]\u001b[0m Trial 392 finished with value: -608.915 and parameters: {'a': 9, 'b': 27, 'stop_loss': 44, 'take_profit': 43}. Best is trial 170 with value: -608.915.\u001b[0m\n"
     ]
    },
    {
     "name": "stdout",
     "output_type": "stream",
     "text": [
      "a: 9, b: 27, score: 562.13\n",
      "a: 9, b: 27, score: 608.91\n",
      "a: 9, b: 27, score: 608.91\n"
     ]
    },
    {
     "name": "stderr",
     "output_type": "stream",
     "text": [
      "\u001b[32m[I 2021-02-16 22:23:27,387]\u001b[0m Trial 393 finished with value: -576.885 and parameters: {'a': 9, 'b': 27, 'stop_loss': 41, 'take_profit': 42}. Best is trial 170 with value: -608.915.\u001b[0m\n",
      "\u001b[32m[I 2021-02-16 22:23:27,484]\u001b[0m Trial 394 finished with value: -173.617 and parameters: {'a': 8, 'b': 26, 'stop_loss': 44, 'take_profit': 43}. Best is trial 170 with value: -608.915.\u001b[0m\n",
      "\u001b[32m[I 2021-02-16 22:23:27,577]\u001b[0m Trial 395 finished with value: -385.528 and parameters: {'a': 9, 'b': 28, 'stop_loss': 44, 'take_profit': 45}. Best is trial 170 with value: -608.915.\u001b[0m\n"
     ]
    },
    {
     "name": "stdout",
     "output_type": "stream",
     "text": [
      "a: 9, b: 27, score: 576.88\n",
      "a: 8, b: 26, score: 173.62\n",
      "a: 9, b: 28, score: 385.53\n"
     ]
    },
    {
     "name": "stderr",
     "output_type": "stream",
     "text": [
      "\u001b[32m[I 2021-02-16 22:23:27,677]\u001b[0m Trial 396 finished with value: -512.825 and parameters: {'a': 9, 'b': 27, 'stop_loss': 43, 'take_profit': 40}. Best is trial 170 with value: -608.915.\u001b[0m\n",
      "\u001b[32m[I 2021-02-16 22:23:27,777]\u001b[0m Trial 397 finished with value: -544.856 and parameters: {'a': 9, 'b': 27, 'stop_loss': 46, 'take_profit': 41}. Best is trial 170 with value: -608.915.\u001b[0m\n",
      "\u001b[32m[I 2021-02-16 22:23:27,873]\u001b[0m Trial 398 finished with value: -562.13 and parameters: {'a': 9, 'b': 27, 'stop_loss': 43, 'take_profit': 44}. Best is trial 170 with value: -608.915.\u001b[0m\n"
     ]
    },
    {
     "name": "stdout",
     "output_type": "stream",
     "text": [
      "a: 9, b: 27, score: 512.83\n",
      "a: 9, b: 27, score: 544.86\n",
      "a: 9, b: 27, score: 562.13\n"
     ]
    },
    {
     "name": "stderr",
     "output_type": "stream",
     "text": [
      "\u001b[32m[I 2021-02-16 22:23:27,974]\u001b[0m Trial 399 finished with value: -476.835 and parameters: {'a': 9, 'b': 28, 'stop_loss': 42, 'take_profit': 42}. Best is trial 170 with value: -608.915.\u001b[0m\n",
      "\u001b[32m[I 2021-02-16 22:23:28,080]\u001b[0m Trial 400 finished with value: -437.897 and parameters: {'a': 9, 'b': 26, 'stop_loss': 43, 'take_profit': 44}. Best is trial 170 with value: -608.915.\u001b[0m\n"
     ]
    },
    {
     "name": "stdout",
     "output_type": "stream",
     "text": [
      "a: 9, b: 28, score: 476.83\n",
      "a: 9, b: 26, score: 437.90\n"
     ]
    },
    {
     "name": "stderr",
     "output_type": "stream",
     "text": [
      "\u001b[32m[I 2021-02-16 22:23:28,182]\u001b[0m Trial 401 finished with value: -608.915 and parameters: {'a': 9, 'b': 27, 'stop_loss': 44, 'take_profit': 43}. Best is trial 170 with value: -608.915.\u001b[0m\n",
      "\u001b[32m[I 2021-02-16 22:23:28,276]\u001b[0m Trial 402 finished with value: -381.921 and parameters: {'a': 8, 'b': 27, 'stop_loss': 45, 'take_profit': 42}. Best is trial 170 with value: -608.915.\u001b[0m\n",
      "\u001b[32m[I 2021-02-16 22:23:28,374]\u001b[0m Trial 403 finished with value: -608.915 and parameters: {'a': 9, 'b': 27, 'stop_loss': 44, 'take_profit': 43}. Best is trial 170 with value: -608.915.\u001b[0m\n"
     ]
    },
    {
     "name": "stdout",
     "output_type": "stream",
     "text": [
      "a: 9, b: 27, score: 608.91\n",
      "a: 8, b: 27, score: 381.92\n",
      "a: 9, b: 27, score: 608.91\n"
     ]
    },
    {
     "name": "stderr",
     "output_type": "stream",
     "text": [
      "\u001b[32m[I 2021-02-16 22:23:28,484]\u001b[0m Trial 404 finished with value: -440.861 and parameters: {'a': 9, 'b': 28, 'stop_loss': 44, 'take_profit': 41}. Best is trial 170 with value: -608.915.\u001b[0m\n",
      "\u001b[32m[I 2021-02-16 22:23:28,583]\u001b[0m Trial 405 finished with value: -562.13 and parameters: {'a': 9, 'b': 27, 'stop_loss': 43, 'take_profit': 44}. Best is trial 170 with value: -608.915.\u001b[0m\n",
      "\u001b[32m[I 2021-02-16 22:23:28,676]\u001b[0m Trial 406 finished with value: -608.915 and parameters: {'a': 9, 'b': 27, 'stop_loss': 45, 'take_profit': 43}. Best is trial 170 with value: -608.915.\u001b[0m\n"
     ]
    },
    {
     "name": "stdout",
     "output_type": "stream",
     "text": [
      "a: 9, b: 28, score: 440.86\n",
      "a: 9, b: 27, score: 562.13\n",
      "a: 9, b: 27, score: 608.91\n"
     ]
    },
    {
     "name": "stderr",
     "output_type": "stream",
     "text": [
      "\u001b[32m[I 2021-02-16 22:23:28,771]\u001b[0m Trial 407 finished with value: -576.885 and parameters: {'a': 9, 'b': 27, 'stop_loss': 44, 'take_profit': 42}. Best is trial 170 with value: -608.915.\u001b[0m\n",
      "\u001b[32m[I 2021-02-16 22:23:28,863]\u001b[0m Trial 408 finished with value: -608.915 and parameters: {'a': 9, 'b': 27, 'stop_loss': 47, 'take_profit': 43}. Best is trial 170 with value: -608.915.\u001b[0m\n",
      "\u001b[32m[I 2021-02-16 22:23:28,962]\u001b[0m Trial 409 finished with value: -325.525 and parameters: {'a': 9, 'b': 26, 'stop_loss': 45, 'take_profit': 46}. Best is trial 170 with value: -608.915.\u001b[0m\n"
     ]
    },
    {
     "name": "stdout",
     "output_type": "stream",
     "text": [
      "a: 9, b: 27, score: 576.88\n",
      "a: 9, b: 27, score: 608.91\n",
      "a: 9, b: 26, score: 325.52\n"
     ]
    },
    {
     "name": "stderr",
     "output_type": "stream",
     "text": [
      "\u001b[32m[I 2021-02-16 22:23:29,054]\u001b[0m Trial 410 finished with value: -500.976 and parameters: {'a': 9, 'b': 28, 'stop_loss': 46, 'take_profit': 43}. Best is trial 170 with value: -608.915.\u001b[0m\n",
      "\u001b[32m[I 2021-02-16 22:23:29,149]\u001b[0m Trial 411 finished with value: -489.521 and parameters: {'a': 9, 'b': 27, 'stop_loss': 45, 'take_profit': 45}. Best is trial 170 with value: -608.915.\u001b[0m\n",
      "\u001b[32m[I 2021-02-16 22:23:29,246]\u001b[0m Trial 412 finished with value: -196.808 and parameters: {'a': 8, 'b': 26, 'stop_loss': 47, 'take_profit': 44}. Best is trial 170 with value: -608.915.\u001b[0m\n"
     ]
    },
    {
     "name": "stdout",
     "output_type": "stream",
     "text": [
      "a: 9, b: 28, score: 500.98\n",
      "a: 9, b: 27, score: 489.52\n",
      "a: 8, b: 26, score: 196.81\n"
     ]
    },
    {
     "name": "stderr",
     "output_type": "stream",
     "text": [
      "\u001b[32m[I 2021-02-16 22:23:29,341]\u001b[0m Trial 413 finished with value: -512.825 and parameters: {'a': 9, 'b': 27, 'stop_loss': 44, 'take_profit': 40}. Best is trial 170 with value: -608.915.\u001b[0m\n",
      "\u001b[32m[I 2021-02-16 22:23:29,437]\u001b[0m Trial 414 finished with value: -576.885 and parameters: {'a': 9, 'b': 27, 'stop_loss': 47, 'take_profit': 42}. Best is trial 170 with value: -608.915.\u001b[0m\n",
      "\u001b[32m[I 2021-02-16 22:23:29,535]\u001b[0m Trial 415 finished with value: -509.136 and parameters: {'a': 10, 'b': 27, 'stop_loss': 46, 'take_profit': 43}. Best is trial 170 with value: -608.915.\u001b[0m\n"
     ]
    },
    {
     "name": "stdout",
     "output_type": "stream",
     "text": [
      "a: 9, b: 27, score: 512.83\n",
      "a: 9, b: 27, score: 576.88\n",
      "a: 10, b: 27, score: 509.14\n"
     ]
    },
    {
     "name": "stderr",
     "output_type": "stream",
     "text": [
      "\u001b[32m[I 2021-02-16 22:23:29,631]\u001b[0m Trial 416 finished with value: -456.164 and parameters: {'a': 9, 'b': 28, 'stop_loss': 45, 'take_profit': 44}. Best is trial 170 with value: -608.915.\u001b[0m\n",
      "\u001b[32m[I 2021-02-16 22:23:29,730]\u001b[0m Trial 417 finished with value: -481.082 and parameters: {'a': 9, 'b': 26, 'stop_loss': 43, 'take_profit': 43}. Best is trial 170 with value: -608.915.\u001b[0m\n",
      "\u001b[32m[I 2021-02-16 22:23:29,829]\u001b[0m Trial 418 finished with value: -576.885 and parameters: {'a': 9, 'b': 27, 'stop_loss': 49, 'take_profit': 42}. Best is trial 170 with value: -608.915.\u001b[0m\n"
     ]
    },
    {
     "name": "stdout",
     "output_type": "stream",
     "text": [
      "a: 9, b: 28, score: 456.16\n",
      "a: 9, b: 26, score: 481.08\n",
      "a: 9, b: 27, score: 576.88\n"
     ]
    },
    {
     "name": "stderr",
     "output_type": "stream",
     "text": [
      "\u001b[32m[I 2021-02-16 22:23:29,928]\u001b[0m Trial 419 finished with value: -544.856 and parameters: {'a': 9, 'b': 27, 'stop_loss': 42, 'take_profit': 41}. Best is trial 170 with value: -608.915.\u001b[0m\n",
      "\u001b[32m[I 2021-02-16 22:23:30,029]\u001b[0m Trial 420 finished with value: -387.024 and parameters: {'a': 9, 'b': 27, 'stop_loss': 44, 'take_profit': 27}. Best is trial 170 with value: -608.915.\u001b[0m\n",
      "\u001b[32m[I 2021-02-16 22:23:30,128]\u001b[0m Trial 421 finished with value: -227.653 and parameters: {'a': 8, 'b': 28, 'stop_loss': 42, 'take_profit': 44}. Best is trial 170 with value: -608.915.\u001b[0m\n"
     ]
    },
    {
     "name": "stdout",
     "output_type": "stream",
     "text": [
      "a: 9, b: 27, score: 544.86\n",
      "a: 9, b: 27, score: 387.02\n",
      "a: 8, b: 28, score: 227.65\n"
     ]
    },
    {
     "name": "stderr",
     "output_type": "stream",
     "text": [
      "\u001b[32m[I 2021-02-16 22:23:30,222]\u001b[0m Trial 422 finished with value: -608.915 and parameters: {'a': 9, 'b': 27, 'stop_loss': 46, 'take_profit': 43}. Best is trial 170 with value: -608.915.\u001b[0m\n",
      "\u001b[32m[I 2021-02-16 22:23:30,320]\u001b[0m Trial 423 finished with value: -489.99 and parameters: {'a': 10, 'b': 27, 'stop_loss': 46, 'take_profit': 45}. Best is trial 170 with value: -608.915.\u001b[0m\n",
      "\u001b[32m[I 2021-02-16 22:23:30,416]\u001b[0m Trial 424 finished with value: -451.514 and parameters: {'a': 9, 'b': 26, 'stop_loss': 47, 'take_profit': 42}. Best is trial 170 with value: -608.915.\u001b[0m\n"
     ]
    },
    {
     "name": "stdout",
     "output_type": "stream",
     "text": [
      "a: 9, b: 27, score: 608.91\n",
      "a: 10, b: 27, score: 489.99\n",
      "a: 9, b: 26, score: 451.51\n"
     ]
    },
    {
     "name": "stderr",
     "output_type": "stream",
     "text": [
      "\u001b[32m[I 2021-02-16 22:23:30,513]\u001b[0m Trial 425 finished with value: -608.915 and parameters: {'a': 9, 'b': 27, 'stop_loss': 45, 'take_profit': 43}. Best is trial 170 with value: -608.915.\u001b[0m\n",
      "\u001b[32m[I 2021-02-16 22:23:30,612]\u001b[0m Trial 426 finished with value: -438.888 and parameters: {'a': 9, 'b': 28, 'stop_loss': 45, 'take_profit': 41}. Best is trial 170 with value: -608.915.\u001b[0m\n",
      "\u001b[32m[I 2021-02-16 22:23:30,712]\u001b[0m Trial 427 finished with value: -608.915 and parameters: {'a': 9, 'b': 27, 'stop_loss': 45, 'take_profit': 43}. Best is trial 170 with value: -608.915.\u001b[0m\n"
     ]
    },
    {
     "name": "stdout",
     "output_type": "stream",
     "text": [
      "a: 9, b: 27, score: 608.91\n",
      "a: 9, b: 28, score: 438.89\n",
      "a: 9, b: 27, score: 608.91\n"
     ]
    },
    {
     "name": "stderr",
     "output_type": "stream",
     "text": [
      "\u001b[32m[I 2021-02-16 22:23:30,812]\u001b[0m Trial 428 finished with value: -562.13 and parameters: {'a': 9, 'b': 27, 'stop_loss': 46, 'take_profit': 44}. Best is trial 170 with value: -608.915.\u001b[0m\n",
      "\u001b[32m[I 2021-02-16 22:23:30,908]\u001b[0m Trial 429 finished with value: -287.489 and parameters: {'a': 8, 'b': 27, 'stop_loss': 45, 'take_profit': 45}. Best is trial 170 with value: -608.915.\u001b[0m\n",
      "\u001b[32m[I 2021-02-16 22:23:31,009]\u001b[0m Trial 430 finished with value: -150.445 and parameters: {'a': 9, 'b': 22, 'stop_loss': 45, 'take_profit': 43}. Best is trial 170 with value: -608.915.\u001b[0m\n"
     ]
    },
    {
     "name": "stdout",
     "output_type": "stream",
     "text": [
      "a: 9, b: 27, score: 562.13\n",
      "a: 8, b: 27, score: 287.49\n",
      "a: 9, b: 22, score: 150.44\n"
     ]
    },
    {
     "name": "stderr",
     "output_type": "stream",
     "text": [
      "\u001b[32m[I 2021-02-16 22:23:31,112]\u001b[0m Trial 431 finished with value: -451.514 and parameters: {'a': 9, 'b': 26, 'stop_loss': 44, 'take_profit': 42}. Best is trial 170 with value: -608.915.\u001b[0m\n",
      "\u001b[32m[I 2021-02-16 22:23:31,208]\u001b[0m Trial 432 finished with value: -463.928 and parameters: {'a': 10, 'b': 27, 'stop_loss': 45, 'take_profit': 44}. Best is trial 170 with value: -608.915.\u001b[0m\n",
      "\u001b[32m[I 2021-02-16 22:23:31,303]\u001b[0m Trial 433 finished with value: -608.915 and parameters: {'a': 9, 'b': 27, 'stop_loss': 46, 'take_profit': 43}. Best is trial 170 with value: -608.915.\u001b[0m\n"
     ]
    },
    {
     "name": "stdout",
     "output_type": "stream",
     "text": [
      "a: 9, b: 26, score: 451.51\n",
      "a: 10, b: 27, score: 463.93\n",
      "a: 9, b: 27, score: 608.91\n"
     ]
    },
    {
     "name": "stderr",
     "output_type": "stream",
     "text": [
      "\u001b[32m[I 2021-02-16 22:23:31,404]\u001b[0m Trial 434 finished with value: -487.068 and parameters: {'a': 9, 'b': 27, 'stop_loss': 48, 'take_profit': 46}. Best is trial 170 with value: -608.915.\u001b[0m\n",
      "\u001b[32m[I 2021-02-16 22:23:31,502]\u001b[0m Trial 435 finished with value: -576.885 and parameters: {'a': 9, 'b': 27, 'stop_loss': 47, 'take_profit': 42}. Best is trial 170 with value: -608.915.\u001b[0m\n",
      "\u001b[32m[I 2021-02-16 22:23:31,598]\u001b[0m Trial 436 finished with value: -460.109 and parameters: {'a': 9, 'b': 28, 'stop_loss': 43, 'take_profit': 44}. Best is trial 170 with value: -608.915.\u001b[0m\n"
     ]
    },
    {
     "name": "stdout",
     "output_type": "stream",
     "text": [
      "a: 9, b: 27, score: 487.07\n",
      "a: 9, b: 27, score: 576.88\n",
      "a: 9, b: 28, score: 460.11\n"
     ]
    },
    {
     "name": "stderr",
     "output_type": "stream",
     "text": [
      "\u001b[32m[I 2021-02-16 22:23:31,698]\u001b[0m Trial 437 finished with value: -512.825 and parameters: {'a': 9, 'b': 27, 'stop_loss': 46, 'take_profit': 40}. Best is trial 170 with value: -608.915.\u001b[0m\n",
      "\u001b[32m[I 2021-02-16 22:23:31,799]\u001b[0m Trial 438 finished with value: -421.948 and parameters: {'a': 9, 'b': 26, 'stop_loss': 44, 'take_profit': 41}. Best is trial 170 with value: -608.915.\u001b[0m\n",
      "\u001b[32m[I 2021-02-16 22:23:31,890]\u001b[0m Trial 439 finished with value: -608.915 and parameters: {'a': 9, 'b': 27, 'stop_loss': 48, 'take_profit': 43}. Best is trial 170 with value: -608.915.\u001b[0m\n"
     ]
    },
    {
     "name": "stdout",
     "output_type": "stream",
     "text": [
      "a: 9, b: 27, score: 512.83\n",
      "a: 9, b: 26, score: 421.95\n",
      "a: 9, b: 27, score: 608.91\n"
     ]
    },
    {
     "name": "stderr",
     "output_type": "stream",
     "text": [
      "\u001b[32m[I 2021-02-16 22:23:31,983]\u001b[0m Trial 440 finished with value: -451.277 and parameters: {'a': 10, 'b': 28, 'stop_loss': 47, 'take_profit': 45}. Best is trial 170 with value: -608.915.\u001b[0m\n",
      "\u001b[32m[I 2021-02-16 22:23:32,085]\u001b[0m Trial 441 finished with value: -381.921 and parameters: {'a': 8, 'b': 27, 'stop_loss': 49, 'take_profit': 42}. Best is trial 170 with value: -608.915.\u001b[0m\n",
      "\u001b[32m[I 2021-02-16 22:23:32,183]\u001b[0m Trial 442 finished with value: -481.082 and parameters: {'a': 9, 'b': 26, 'stop_loss': 49, 'take_profit': 43}. Best is trial 170 with value: -608.915.\u001b[0m\n"
     ]
    },
    {
     "name": "stdout",
     "output_type": "stream",
     "text": [
      "a: 10, b: 28, score: 451.28\n",
      "a: 8, b: 27, score: 381.92\n",
      "a: 9, b: 26, score: 481.08\n"
     ]
    },
    {
     "name": "stderr",
     "output_type": "stream",
     "text": [
      "\u001b[32m[I 2021-02-16 22:23:32,280]\u001b[0m Trial 443 finished with value: -562.13 and parameters: {'a': 9, 'b': 27, 'stop_loss': 47, 'take_profit': 44}. Best is trial 170 with value: -608.915.\u001b[0m\n",
      "\u001b[32m[I 2021-02-16 22:23:32,379]\u001b[0m Trial 444 finished with value: -576.885 and parameters: {'a': 9, 'b': 27, 'stop_loss': 50, 'take_profit': 42}. Best is trial 170 with value: -608.915.\u001b[0m\n",
      "\u001b[32m[I 2021-02-16 22:23:32,478]\u001b[0m Trial 445 finished with value: -306.664 and parameters: {'a': 8, 'b': 27, 'stop_loss': 48, 'take_profit': 43}. Best is trial 170 with value: -608.915.\u001b[0m\n"
     ]
    },
    {
     "name": "stdout",
     "output_type": "stream",
     "text": [
      "a: 9, b: 27, score: 562.13\n",
      "a: 9, b: 27, score: 576.88\n",
      "a: 8, b: 27, score: 306.66\n"
     ]
    },
    {
     "name": "stderr",
     "output_type": "stream",
     "text": [
      "\u001b[32m[I 2021-02-16 22:23:32,578]\u001b[0m Trial 446 finished with value: -440.861 and parameters: {'a': 9, 'b': 28, 'stop_loss': 44, 'take_profit': 41}. Best is trial 170 with value: -608.915.\u001b[0m\n",
      "\u001b[32m[I 2021-02-16 22:23:32,685]\u001b[0m Trial 447 finished with value: -562.13 and parameters: {'a': 9, 'b': 27, 'stop_loss': 43, 'take_profit': 44}. Best is trial 170 with value: -608.915.\u001b[0m\n"
     ]
    },
    {
     "name": "stdout",
     "output_type": "stream",
     "text": [
      "a: 9, b: 28, score: 440.86\n",
      "a: 9, b: 27, score: 562.13\n"
     ]
    },
    {
     "name": "stderr",
     "output_type": "stream",
     "text": [
      "\u001b[32m[I 2021-02-16 22:23:32,785]\u001b[0m Trial 448 finished with value: -451.514 and parameters: {'a': 9, 'b': 26, 'stop_loss': 40, 'take_profit': 42}. Best is trial 170 with value: -608.915.\u001b[0m\n",
      "\u001b[32m[I 2021-02-16 22:23:32,880]\u001b[0m Trial 449 finished with value: -518.998 and parameters: {'a': 10, 'b': 27, 'stop_loss': 48, 'take_profit': 43}. Best is trial 170 with value: -608.915.\u001b[0m\n",
      "\u001b[32m[I 2021-02-16 22:23:32,978]\u001b[0m Trial 450 finished with value: -489.521 and parameters: {'a': 9, 'b': 27, 'stop_loss': 45, 'take_profit': 45}. Best is trial 170 with value: -608.915.\u001b[0m\n"
     ]
    },
    {
     "name": "stdout",
     "output_type": "stream",
     "text": [
      "a: 9, b: 26, score: 451.51\n",
      "a: 10, b: 27, score: 519.00\n",
      "a: 9, b: 27, score: 489.52\n"
     ]
    },
    {
     "name": "stderr",
     "output_type": "stream",
     "text": [
      "\u001b[32m[I 2021-02-16 22:23:33,078]\u001b[0m Trial 451 finished with value: -357.709 and parameters: {'a': 9, 'b': 25, 'stop_loss': 46, 'take_profit': 43}. Best is trial 170 with value: -608.915.\u001b[0m\n",
      "\u001b[32m[I 2021-02-16 22:23:33,180]\u001b[0m Trial 452 finished with value: -562.13 and parameters: {'a': 9, 'b': 27, 'stop_loss': 45, 'take_profit': 44}. Best is trial 170 with value: -608.915.\u001b[0m\n"
     ]
    },
    {
     "name": "stdout",
     "output_type": "stream",
     "text": [
      "a: 9, b: 25, score: 357.71\n",
      "a: 9, b: 27, score: 562.13\n"
     ]
    },
    {
     "name": "stderr",
     "output_type": "stream",
     "text": [
      "\u001b[32m[I 2021-02-16 22:23:33,282]\u001b[0m Trial 453 finished with value: -476.835 and parameters: {'a': 9, 'b': 28, 'stop_loss': 42, 'take_profit': 42}. Best is trial 170 with value: -608.915.\u001b[0m\n",
      "\u001b[32m[I 2021-02-16 22:23:33,391]\u001b[0m Trial 454 finished with value: -421.948 and parameters: {'a': 9, 'b': 26, 'stop_loss': 46, 'take_profit': 41}. Best is trial 170 with value: -608.915.\u001b[0m\n"
     ]
    },
    {
     "name": "stdout",
     "output_type": "stream",
     "text": [
      "a: 9, b: 28, score: 476.83\n",
      "a: 9, b: 26, score: 421.95\n"
     ]
    },
    {
     "name": "stderr",
     "output_type": "stream",
     "text": [
      "\u001b[32m[I 2021-02-16 22:23:33,493]\u001b[0m Trial 455 finished with value: -608.915 and parameters: {'a': 9, 'b': 27, 'stop_loss': 46, 'take_profit': 43}. Best is trial 170 with value: -608.915.\u001b[0m\n",
      "\u001b[32m[I 2021-02-16 22:23:33,592]\u001b[0m Trial 456 finished with value: -261.623 and parameters: {'a': 8, 'b': 27, 'stop_loss': 46, 'take_profit': 44}. Best is trial 170 with value: -608.915.\u001b[0m\n",
      "\u001b[32m[I 2021-02-16 22:23:33,693]\u001b[0m Trial 457 finished with value: -608.915 and parameters: {'a': 9, 'b': 27, 'stop_loss': 46, 'take_profit': 43}. Best is trial 170 with value: -608.915.\u001b[0m\n"
     ]
    },
    {
     "name": "stdout",
     "output_type": "stream",
     "text": [
      "a: 9, b: 27, score: 608.91\n",
      "a: 8, b: 27, score: 261.62\n",
      "a: 9, b: 27, score: 608.91\n"
     ]
    },
    {
     "name": "stderr",
     "output_type": "stream",
     "text": [
      "\u001b[32m[I 2021-02-16 22:23:33,789]\u001b[0m Trial 458 finished with value: -487.806 and parameters: {'a': 10, 'b': 28, 'stop_loss': 40, 'take_profit': 42}. Best is trial 170 with value: -608.915.\u001b[0m\n",
      "\u001b[32m[I 2021-02-16 22:23:33,886]\u001b[0m Trial 459 finished with value: -487.068 and parameters: {'a': 9, 'b': 27, 'stop_loss': 47, 'take_profit': 46}. Best is trial 170 with value: -608.915.\u001b[0m\n",
      "\u001b[32m[I 2021-02-16 22:23:33,987]\u001b[0m Trial 460 finished with value: -437.897 and parameters: {'a': 9, 'b': 26, 'stop_loss': 44, 'take_profit': 44}. Best is trial 170 with value: -608.915.\u001b[0m\n"
     ]
    },
    {
     "name": "stdout",
     "output_type": "stream",
     "text": [
      "a: 10, b: 28, score: 487.81\n",
      "a: 9, b: 27, score: 487.07\n",
      "a: 9, b: 26, score: 437.90\n"
     ]
    },
    {
     "name": "stderr",
     "output_type": "stream",
     "text": [
      "\u001b[32m[I 2021-02-16 22:23:34,079]\u001b[0m Trial 461 finished with value: -608.915 and parameters: {'a': 9, 'b': 27, 'stop_loss': 48, 'take_profit': 43}. Best is trial 170 with value: -608.915.\u001b[0m\n",
      "\u001b[32m[I 2021-02-16 22:23:34,180]\u001b[0m Trial 462 finished with value: -391.445 and parameters: {'a': 9, 'b': 28, 'stop_loss': 41, 'take_profit': 45}. Best is trial 170 with value: -608.915.\u001b[0m\n",
      "\u001b[32m[I 2021-02-16 22:23:34,279]\u001b[0m Trial 463 finished with value: -576.885 and parameters: {'a': 9, 'b': 27, 'stop_loss': 48, 'take_profit': 42}. Best is trial 170 with value: -608.915.\u001b[0m\n"
     ]
    },
    {
     "name": "stdout",
     "output_type": "stream",
     "text": [
      "a: 9, b: 27, score: 608.91\n",
      "a: 9, b: 28, score: 391.44\n",
      "a: 9, b: 27, score: 576.88\n"
     ]
    },
    {
     "name": "stderr",
     "output_type": "stream",
     "text": [
      "\u001b[32m[I 2021-02-16 22:23:34,376]\u001b[0m Trial 464 finished with value: -306.664 and parameters: {'a': 8, 'b': 27, 'stop_loss': 47, 'take_profit': 43}. Best is trial 170 with value: -608.915.\u001b[0m\n",
      "\u001b[32m[I 2021-02-16 22:23:34,475]\u001b[0m Trial 465 finished with value: -544.856 and parameters: {'a': 9, 'b': 27, 'stop_loss': 46, 'take_profit': 41}. Best is trial 170 with value: -608.915.\u001b[0m\n",
      "\u001b[32m[I 2021-02-16 22:23:34,577]\u001b[0m Trial 466 finished with value: -516.639 and parameters: {'a': 10, 'b': 26, 'stop_loss': 41, 'take_profit': 44}. Best is trial 170 with value: -608.915.\u001b[0m\n"
     ]
    },
    {
     "name": "stdout",
     "output_type": "stream",
     "text": [
      "a: 8, b: 27, score: 306.66\n",
      "a: 9, b: 27, score: 544.86\n",
      "a: 10, b: 26, score: 516.64\n"
     ]
    },
    {
     "name": "stderr",
     "output_type": "stream",
     "text": [
      "\u001b[32m[I 2021-02-16 22:23:34,673]\u001b[0m Trial 467 finished with value: -149.891 and parameters: {'a': 5, 'b': 27, 'stop_loss': 42, 'take_profit': 42}. Best is trial 170 with value: -608.915.\u001b[0m\n",
      "\u001b[32m[I 2021-02-16 22:23:34,771]\u001b[0m Trial 468 finished with value: -181.505 and parameters: {'a': 9, 'b': 19, 'stop_loss': 43, 'take_profit': 45}. Best is trial 170 with value: -608.915.\u001b[0m\n",
      "\u001b[32m[I 2021-02-16 22:23:34,870]\u001b[0m Trial 469 finished with value: -500.976 and parameters: {'a': 9, 'b': 28, 'stop_loss': 46, 'take_profit': 43}. Best is trial 170 with value: -608.915.\u001b[0m\n"
     ]
    },
    {
     "name": "stdout",
     "output_type": "stream",
     "text": [
      "a: 5, b: 27, score: 149.89\n",
      "a: 9, b: 19, score: 181.50\n",
      "a: 9, b: 28, score: 500.98\n"
     ]
    },
    {
     "name": "stderr",
     "output_type": "stream",
     "text": [
      "\u001b[32m[I 2021-02-16 22:23:34,972]\u001b[0m Trial 470 finished with value: -608.915 and parameters: {'a': 9, 'b': 27, 'stop_loss': 44, 'take_profit': 43}. Best is trial 170 with value: -608.915.\u001b[0m\n",
      "\u001b[32m[I 2021-02-16 22:23:35,075]\u001b[0m Trial 471 finished with value: -544.856 and parameters: {'a': 9, 'b': 27, 'stop_loss': 40, 'take_profit': 41}. Best is trial 170 with value: -608.915.\u001b[0m\n"
     ]
    },
    {
     "name": "stdout",
     "output_type": "stream",
     "text": [
      "a: 9, b: 27, score: 608.91\n",
      "a: 9, b: 27, score: 544.86\n"
     ]
    },
    {
     "name": "stderr",
     "output_type": "stream",
     "text": [
      "\u001b[32m[I 2021-02-16 22:23:35,182]\u001b[0m Trial 472 finished with value: -240.982 and parameters: {'a': 9, 'b': 26, 'stop_loss': 44, 'take_profit': 34}. Best is trial 170 with value: -608.915.\u001b[0m\n",
      "\u001b[32m[I 2021-02-16 22:23:35,282]\u001b[0m Trial 473 finished with value: -562.13 and parameters: {'a': 9, 'b': 27, 'stop_loss': 46, 'take_profit': 44}. Best is trial 170 with value: -608.915.\u001b[0m\n",
      "\u001b[32m[I 2021-02-16 22:23:35,378]\u001b[0m Trial 474 finished with value: -322.782 and parameters: {'a': 8, 'b': 27, 'stop_loss': 41, 'take_profit': 40}. Best is trial 170 with value: -608.915.\u001b[0m\n"
     ]
    },
    {
     "name": "stdout",
     "output_type": "stream",
     "text": [
      "a: 9, b: 26, score: 240.98\n",
      "a: 9, b: 27, score: 562.13\n",
      "a: 8, b: 27, score: 322.78\n"
     ]
    },
    {
     "name": "stderr",
     "output_type": "stream",
     "text": [
      "\u001b[32m[I 2021-02-16 22:23:35,482]\u001b[0m Trial 475 finished with value: -504.921 and parameters: {'a': 9, 'b': 28, 'stop_loss': 44, 'take_profit': 43}. Best is trial 170 with value: -608.915.\u001b[0m\n",
      "\u001b[32m[I 2021-02-16 22:23:35,582]\u001b[0m Trial 476 finished with value: -488.963 and parameters: {'a': 10, 'b': 27, 'stop_loss': 48, 'take_profit': 42}. Best is trial 170 with value: -608.915.\u001b[0m\n"
     ]
    },
    {
     "name": "stdout",
     "output_type": "stream",
     "text": [
      "a: 9, b: 28, score: 504.92\n",
      "a: 10, b: 27, score: 488.96\n"
     ]
    },
    {
     "name": "stderr",
     "output_type": "stream",
     "text": [
      "\u001b[32m[I 2021-02-16 22:23:35,690]\u001b[0m Trial 477 finished with value: -562.13 and parameters: {'a': 9, 'b': 27, 'stop_loss': 45, 'take_profit': 44}. Best is trial 170 with value: -608.915.\u001b[0m\n",
      "\u001b[32m[I 2021-02-16 22:23:35,802]\u001b[0m Trial 478 finished with value: -451.514 and parameters: {'a': 9, 'b': 26, 'stop_loss': 49, 'take_profit': 42}. Best is trial 170 with value: -608.915.\u001b[0m\n"
     ]
    },
    {
     "name": "stdout",
     "output_type": "stream",
     "text": [
      "a: 9, b: 27, score: 562.13\n",
      "a: 9, b: 26, score: 451.51\n"
     ]
    },
    {
     "name": "stderr",
     "output_type": "stream",
     "text": [
      "\u001b[32m[I 2021-02-16 22:23:35,904]\u001b[0m Trial 479 finished with value: -562.13 and parameters: {'a': 9, 'b': 27, 'stop_loss': 43, 'take_profit': 44}. Best is trial 170 with value: -608.915.\u001b[0m\n",
      "\u001b[32m[I 2021-02-16 22:23:36,002]\u001b[0m Trial 480 finished with value: -308.762 and parameters: {'a': 9, 'b': 28, 'stop_loss': 39, 'take_profit': 47}. Best is trial 170 with value: -608.915.\u001b[0m\n",
      "\u001b[32m[I 2021-02-16 22:23:36,105]\u001b[0m Trial 481 finished with value: -489.521 and parameters: {'a': 9, 'b': 27, 'stop_loss': 45, 'take_profit': 45}. Best is trial 170 with value: -608.915.\u001b[0m\n"
     ]
    },
    {
     "name": "stdout",
     "output_type": "stream",
     "text": [
      "a: 9, b: 27, score: 562.13\n",
      "a: 9, b: 28, score: 308.76\n",
      "a: 9, b: 27, score: 489.52\n"
     ]
    },
    {
     "name": "stderr",
     "output_type": "stream",
     "text": [
      "\u001b[32m[I 2021-02-16 22:23:36,202]\u001b[0m Trial 482 finished with value: -451.514 and parameters: {'a': 9, 'b': 26, 'stop_loss': 40, 'take_profit': 42}. Best is trial 170 with value: -608.915.\u001b[0m\n",
      "\u001b[32m[I 2021-02-16 22:23:36,297]\u001b[0m Trial 483 finished with value: -129.285 and parameters: {'a': 9, 'b': 27, 'stop_loss': 45, 'take_profit': 15}. Best is trial 170 with value: -608.915.\u001b[0m\n",
      "\u001b[32m[I 2021-02-16 22:23:36,401]\u001b[0m Trial 484 finished with value: -306.664 and parameters: {'a': 8, 'b': 27, 'stop_loss': 47, 'take_profit': 43}. Best is trial 170 with value: -608.915.\u001b[0m\n"
     ]
    },
    {
     "name": "stdout",
     "output_type": "stream",
     "text": [
      "a: 9, b: 26, score: 451.51\n",
      "a: 9, b: 27, score: 129.28\n",
      "a: 8, b: 27, score: 306.66\n"
     ]
    },
    {
     "name": "stderr",
     "output_type": "stream",
     "text": [
      "\u001b[32m[I 2021-02-16 22:23:36,496]\u001b[0m Trial 485 finished with value: 123.958 and parameters: {'a': 7, 'b': 27, 'stop_loss': 48, 'take_profit': 40}. Best is trial 170 with value: -608.915.\u001b[0m\n",
      "\u001b[32m[I 2021-02-16 22:23:36,596]\u001b[0m Trial 486 finished with value: -120.587 and parameters: {'a': 9, 'b': 28, 'stop_loss': 39, 'take_profit': 20}. Best is trial 170 with value: -608.915.\u001b[0m\n"
     ]
    },
    {
     "name": "stdout",
     "output_type": "stream",
     "text": [
      "a: 7, b: 27, score: -123.96\n",
      "a: 9, b: 28, score: 120.59\n"
     ]
    },
    {
     "name": "stderr",
     "output_type": "stream",
     "text": [
      "\u001b[32m[I 2021-02-16 22:23:36,700]\u001b[0m Trial 487 finished with value: -548.656 and parameters: {'a': 10, 'b': 26, 'stop_loss': 47, 'take_profit': 43}. Best is trial 170 with value: -608.915.\u001b[0m\n",
      "\u001b[32m[I 2021-02-16 22:23:36,798]\u001b[0m Trial 488 finished with value: -544.856 and parameters: {'a': 9, 'b': 27, 'stop_loss': 43, 'take_profit': 41}. Best is trial 170 with value: -608.915.\u001b[0m\n"
     ]
    },
    {
     "name": "stdout",
     "output_type": "stream",
     "text": [
      "a: 10, b: 26, score: 548.66\n",
      "a: 9, b: 27, score: 544.86\n"
     ]
    },
    {
     "name": "stderr",
     "output_type": "stream",
     "text": [
      "\u001b[32m[I 2021-02-16 22:23:36,904]\u001b[0m Trial 489 finished with value: -308.217 and parameters: {'a': 9, 'b': 24, 'stop_loss': 42, 'take_profit': 44}. Best is trial 170 with value: -608.915.\u001b[0m\n",
      "\u001b[32m[I 2021-02-16 22:23:36,997]\u001b[0m Trial 490 finished with value: -226.953 and parameters: {'a': 9, 'b': 23, 'stop_loss': 44, 'take_profit': 42}. Best is trial 170 with value: -608.915.\u001b[0m\n",
      "\u001b[32m[I 2021-02-16 22:23:37,098]\u001b[0m Trial 491 finished with value: -608.915 and parameters: {'a': 9, 'b': 27, 'stop_loss': 47, 'take_profit': 43}. Best is trial 170 with value: -608.915.\u001b[0m\n"
     ]
    },
    {
     "name": "stdout",
     "output_type": "stream",
     "text": [
      "a: 9, b: 24, score: 308.22\n",
      "a: 9, b: 23, score: 226.95\n",
      "a: 9, b: 27, score: 608.91\n"
     ]
    },
    {
     "name": "stderr",
     "output_type": "stream",
     "text": [
      "\u001b[32m[I 2021-02-16 22:23:37,207]\u001b[0m Trial 492 finished with value: -489.521 and parameters: {'a': 9, 'b': 27, 'stop_loss': 40, 'take_profit': 45}. Best is trial 170 with value: -608.915.\u001b[0m\n",
      "\u001b[32m[I 2021-02-16 22:23:37,304]\u001b[0m Trial 493 finished with value: -518.998 and parameters: {'a': 10, 'b': 27, 'stop_loss': 50, 'take_profit': 43}. Best is trial 170 with value: -608.915.\u001b[0m\n"
     ]
    },
    {
     "name": "stdout",
     "output_type": "stream",
     "text": [
      "a: 9, b: 27, score: 489.52\n",
      "a: 10, b: 27, score: 519.00\n"
     ]
    },
    {
     "name": "stderr",
     "output_type": "stream",
     "text": [
      "\u001b[32m[I 2021-02-16 22:23:37,414]\u001b[0m Trial 494 finished with value: -421.948 and parameters: {'a': 9, 'b': 26, 'stop_loss': 42, 'take_profit': 41}. Best is trial 170 with value: -608.915.\u001b[0m\n",
      "\u001b[32m[I 2021-02-16 22:23:37,513]\u001b[0m Trial 495 finished with value: -347.955 and parameters: {'a': 8, 'b': 28, 'stop_loss': 39, 'take_profit': 42}. Best is trial 170 with value: -608.915.\u001b[0m\n"
     ]
    },
    {
     "name": "stdout",
     "output_type": "stream",
     "text": [
      "a: 9, b: 26, score: 421.95\n",
      "a: 8, b: 28, score: 347.95\n"
     ]
    },
    {
     "name": "stderr",
     "output_type": "stream",
     "text": [
      "\u001b[32m[I 2021-02-16 22:23:37,620]\u001b[0m Trial 496 finished with value: -562.13 and parameters: {'a': 9, 'b': 27, 'stop_loss': 48, 'take_profit': 44}. Best is trial 170 with value: -608.915.\u001b[0m\n",
      "\u001b[32m[I 2021-02-16 22:23:37,721]\u001b[0m Trial 497 finished with value: -533.204 and parameters: {'a': 9, 'b': 27, 'stop_loss': 22, 'take_profit': 45}. Best is trial 170 with value: -608.915.\u001b[0m\n",
      "\u001b[32m[I 2021-02-16 22:23:37,820]\u001b[0m Trial 498 finished with value: -608.915 and parameters: {'a': 9, 'b': 27, 'stop_loss': 47, 'take_profit': 43}. Best is trial 170 with value: -608.915.\u001b[0m\n"
     ]
    },
    {
     "name": "stdout",
     "output_type": "stream",
     "text": [
      "a: 9, b: 27, score: 562.13\n",
      "a: 9, b: 27, score: 533.20\n",
      "a: 9, b: 27, score: 608.91\n"
     ]
    },
    {
     "name": "stderr",
     "output_type": "stream",
     "text": [
      "\u001b[32m[I 2021-02-16 22:23:37,921]\u001b[0m Trial 499 finished with value: -456.164 and parameters: {'a': 9, 'b': 28, 'stop_loss': 45, 'take_profit': 44}. Best is trial 170 with value: -608.915.\u001b[0m\n",
      "\u001b[32m[I 2021-02-16 22:23:38,020]\u001b[0m Trial 500 finished with value: -306.664 and parameters: {'a': 8, 'b': 27, 'stop_loss': 46, 'take_profit': 43}. Best is trial 170 with value: -608.915.\u001b[0m\n",
      "\u001b[32m[I 2021-02-16 22:23:38,122]\u001b[0m Trial 501 finished with value: -325.525 and parameters: {'a': 9, 'b': 26, 'stop_loss': 48, 'take_profit': 46}. Best is trial 170 with value: -608.915.\u001b[0m\n"
     ]
    },
    {
     "name": "stdout",
     "output_type": "stream",
     "text": [
      "a: 9, b: 28, score: 456.16\n",
      "a: 8, b: 27, score: 306.66\n",
      "a: 9, b: 26, score: 325.52\n"
     ]
    },
    {
     "name": "stderr",
     "output_type": "stream",
     "text": [
      "\u001b[32m[I 2021-02-16 22:23:38,219]\u001b[0m Trial 502 finished with value: -608.915 and parameters: {'a': 9, 'b': 27, 'stop_loss': 45, 'take_profit': 43}. Best is trial 170 with value: -608.915.\u001b[0m\n",
      "\u001b[32m[I 2021-02-16 22:23:38,318]\u001b[0m Trial 503 finished with value: -468.946 and parameters: {'a': 9, 'b': 28, 'stop_loss': 46, 'take_profit': 42}. Best is trial 170 with value: -608.915.\u001b[0m\n",
      "\u001b[32m[I 2021-02-16 22:23:38,419]\u001b[0m Trial 504 finished with value: -447.095 and parameters: {'a': 10, 'b': 27, 'stop_loss': 47, 'take_profit': 41}. Best is trial 170 with value: -608.915.\u001b[0m\n"
     ]
    },
    {
     "name": "stdout",
     "output_type": "stream",
     "text": [
      "a: 9, b: 27, score: 608.91\n",
      "a: 9, b: 28, score: 468.95\n",
      "a: 10, b: 27, score: 447.10\n"
     ]
    },
    {
     "name": "stderr",
     "output_type": "stream",
     "text": [
      "\u001b[32m[I 2021-02-16 22:23:38,523]\u001b[0m Trial 505 finished with value: -576.885 and parameters: {'a': 9, 'b': 27, 'stop_loss': 45, 'take_profit': 42}. Best is trial 170 with value: -608.915.\u001b[0m\n",
      "\u001b[32m[I 2021-02-16 22:23:38,620]\u001b[0m Trial 506 finished with value: -437.897 and parameters: {'a': 9, 'b': 26, 'stop_loss': 44, 'take_profit': 44}. Best is trial 170 with value: -608.915.\u001b[0m\n",
      "\u001b[32m[I 2021-02-16 22:23:38,723]\u001b[0m Trial 507 finished with value: -608.915 and parameters: {'a': 9, 'b': 27, 'stop_loss': 45, 'take_profit': 43}. Best is trial 170 with value: -608.915.\u001b[0m\n"
     ]
    },
    {
     "name": "stdout",
     "output_type": "stream",
     "text": [
      "a: 9, b: 27, score: 576.88\n",
      "a: 9, b: 26, score: 437.90\n",
      "a: 9, b: 27, score: 608.91\n"
     ]
    },
    {
     "name": "stderr",
     "output_type": "stream",
     "text": [
      "\u001b[32m[I 2021-02-16 22:23:38,833]\u001b[0m Trial 508 finished with value: -562.13 and parameters: {'a': 9, 'b': 27, 'stop_loss': 38, 'take_profit': 44}. Best is trial 170 with value: -608.915.\u001b[0m\n",
      "\u001b[32m[I 2021-02-16 22:23:38,934]\u001b[0m Trial 509 finished with value: -395.39 and parameters: {'a': 9, 'b': 28, 'stop_loss': 39, 'take_profit': 45}. Best is trial 170 with value: -608.915.\u001b[0m\n"
     ]
    },
    {
     "name": "stdout",
     "output_type": "stream",
     "text": [
      "a: 9, b: 27, score: 562.13\n",
      "a: 9, b: 28, score: 395.39\n"
     ]
    },
    {
     "name": "stderr",
     "output_type": "stream",
     "text": [
      "\u001b[32m[I 2021-02-16 22:23:39,043]\u001b[0m Trial 510 finished with value: -576.885 and parameters: {'a': 9, 'b': 27, 'stop_loss': 43, 'take_profit': 42}. Best is trial 170 with value: -608.915.\u001b[0m\n",
      "\u001b[32m[I 2021-02-16 22:23:39,143]\u001b[0m Trial 511 finished with value: -306.664 and parameters: {'a': 8, 'b': 27, 'stop_loss': 47, 'take_profit': 43}. Best is trial 170 with value: -608.915.\u001b[0m\n"
     ]
    },
    {
     "name": "stdout",
     "output_type": "stream",
     "text": [
      "a: 9, b: 27, score: 576.88\n",
      "a: 8, b: 27, score: 306.66\n"
     ]
    },
    {
     "name": "stderr",
     "output_type": "stream",
     "text": [
      "\u001b[32m[I 2021-02-16 22:23:39,248]\u001b[0m Trial 512 finished with value: -461.956 and parameters: {'a': 10, 'b': 27, 'stop_loss': 46, 'take_profit': 44}. Best is trial 170 with value: -608.915.\u001b[0m\n",
      "\u001b[32m[I 2021-02-16 22:23:39,346]\u001b[0m Trial 513 finished with value: -608.915 and parameters: {'a': 9, 'b': 27, 'stop_loss': 44, 'take_profit': 43}. Best is trial 170 with value: -608.915.\u001b[0m\n"
     ]
    },
    {
     "name": "stdout",
     "output_type": "stream",
     "text": [
      "a: 10, b: 27, score: 461.96\n",
      "a: 9, b: 27, score: 608.91\n"
     ]
    },
    {
     "name": "stderr",
     "output_type": "stream",
     "text": [
      "\u001b[32m[I 2021-02-16 22:23:39,452]\u001b[0m Trial 514 finished with value: -451.514 and parameters: {'a': 9, 'b': 26, 'stop_loss': 44, 'take_profit': 42}. Best is trial 170 with value: -608.915.\u001b[0m\n",
      "\u001b[32m[I 2021-02-16 22:23:39,548]\u001b[0m Trial 515 finished with value: -512.825 and parameters: {'a': 9, 'b': 27, 'stop_loss': 45, 'take_profit': 40}. Best is trial 170 with value: -608.915.\u001b[0m\n",
      "\u001b[32m[I 2021-02-16 22:23:39,652]\u001b[0m Trial 516 finished with value: -500.976 and parameters: {'a': 9, 'b': 28, 'stop_loss': 46, 'take_profit': 43}. Best is trial 170 with value: -608.915.\u001b[0m\n"
     ]
    },
    {
     "name": "stdout",
     "output_type": "stream",
     "text": [
      "a: 9, b: 26, score: 451.51\n",
      "a: 9, b: 27, score: 512.83\n",
      "a: 9, b: 28, score: 500.98\n"
     ]
    },
    {
     "name": "stderr",
     "output_type": "stream",
     "text": [
      "\u001b[32m[I 2021-02-16 22:23:39,751]\u001b[0m Trial 517 finished with value: -145.887 and parameters: {'a': 14, 'b': 27, 'stop_loss': 46, 'take_profit': 45}. Best is trial 170 with value: -608.915.\u001b[0m\n",
      "\u001b[32m[I 2021-02-16 22:23:39,851]\u001b[0m Trial 518 finished with value: -544.856 and parameters: {'a': 9, 'b': 27, 'stop_loss': 49, 'take_profit': 41}. Best is trial 170 with value: -608.915.\u001b[0m\n"
     ]
    },
    {
     "name": "stdout",
     "output_type": "stream",
     "text": [
      "a: 14, b: 27, score: 145.89\n",
      "a: 9, b: 27, score: 544.86\n"
     ]
    },
    {
     "name": "stderr",
     "output_type": "stream",
     "text": [
      "\u001b[32m[I 2021-02-16 22:23:39,955]\u001b[0m Trial 519 finished with value: -472.89 and parameters: {'a': 9, 'b': 28, 'stop_loss': 44, 'take_profit': 42}. Best is trial 170 with value: -608.915.\u001b[0m\n",
      "\u001b[32m[I 2021-02-16 22:23:40,059]\u001b[0m Trial 520 finished with value: -556.23 and parameters: {'a': 10, 'b': 26, 'stop_loss': 43, 'take_profit': 43}. Best is trial 170 with value: -608.915.\u001b[0m\n"
     ]
    },
    {
     "name": "stdout",
     "output_type": "stream",
     "text": [
      "a: 9, b: 28, score: 472.89\n",
      "a: 10, b: 26, score: 556.23\n"
     ]
    },
    {
     "name": "stderr",
     "output_type": "stream",
     "text": [
      "\u001b[32m[I 2021-02-16 22:23:40,165]\u001b[0m Trial 521 finished with value: -562.13 and parameters: {'a': 9, 'b': 27, 'stop_loss': 41, 'take_profit': 44}. Best is trial 170 with value: -608.915.\u001b[0m\n",
      "\u001b[32m[I 2021-02-16 22:23:40,260]\u001b[0m Trial 522 finished with value: -261.623 and parameters: {'a': 8, 'b': 27, 'stop_loss': 42, 'take_profit': 44}. Best is trial 170 with value: -608.915.\u001b[0m\n",
      "\u001b[32m[I 2021-02-16 22:23:40,358]\u001b[0m Trial 523 finished with value: -576.885 and parameters: {'a': 9, 'b': 27, 'stop_loss': 44, 'take_profit': 42}. Best is trial 170 with value: -608.915.\u001b[0m\n"
     ]
    },
    {
     "name": "stdout",
     "output_type": "stream",
     "text": [
      "a: 9, b: 27, score: 562.13\n",
      "a: 8, b: 27, score: 261.62\n",
      "a: 9, b: 27, score: 576.88\n"
     ]
    },
    {
     "name": "stderr",
     "output_type": "stream",
     "text": [
      "\u001b[32m[I 2021-02-16 22:23:40,465]\u001b[0m Trial 524 finished with value: -421.948 and parameters: {'a': 9, 'b': 26, 'stop_loss': 38, 'take_profit': 41}. Best is trial 170 with value: -608.915.\u001b[0m\n",
      "\u001b[32m[I 2021-02-16 22:23:40,567]\u001b[0m Trial 525 finished with value: -381.583 and parameters: {'a': 9, 'b': 28, 'stop_loss': 46, 'take_profit': 45}. Best is trial 170 with value: -608.915.\u001b[0m\n"
     ]
    },
    {
     "name": "stdout",
     "output_type": "stream",
     "text": [
      "a: 9, b: 26, score: 421.95\n",
      "a: 9, b: 28, score: 381.58\n"
     ]
    },
    {
     "name": "stderr",
     "output_type": "stream",
     "text": [
      "\u001b[32m[I 2021-02-16 22:23:40,672]\u001b[0m Trial 526 finished with value: -608.915 and parameters: {'a': 9, 'b': 27, 'stop_loss': 43, 'take_profit': 43}. Best is trial 170 with value: -608.915.\u001b[0m\n",
      "\u001b[32m[I 2021-02-16 22:23:40,775]\u001b[0m Trial 527 finished with value: -576.885 and parameters: {'a': 9, 'b': 27, 'stop_loss': 42, 'take_profit': 42}. Best is trial 170 with value: -608.915.\u001b[0m\n"
     ]
    },
    {
     "name": "stdout",
     "output_type": "stream",
     "text": [
      "a: 9, b: 27, score: 608.91\n",
      "a: 9, b: 27, score: 576.88\n"
     ]
    },
    {
     "name": "stderr",
     "output_type": "stream",
     "text": [
      "\u001b[32m[I 2021-02-16 22:23:40,884]\u001b[0m Trial 528 finished with value: -562.13 and parameters: {'a': 9, 'b': 27, 'stop_loss': 41, 'take_profit': 44}. Best is trial 170 with value: -608.915.\u001b[0m\n",
      "\u001b[32m[I 2021-02-16 22:23:40,985]\u001b[0m Trial 529 finished with value: -552.443 and parameters: {'a': 10, 'b': 26, 'stop_loss': 45, 'take_profit': 43}. Best is trial 170 with value: -608.915.\u001b[0m\n"
     ]
    },
    {
     "name": "stdout",
     "output_type": "stream",
     "text": [
      "a: 9, b: 27, score: 562.13\n",
      "a: 10, b: 26, score: 552.44\n"
     ]
    },
    {
     "name": "stderr",
     "output_type": "stream",
     "text": [
      "\u001b[32m[I 2021-02-16 22:23:41,091]\u001b[0m Trial 530 finished with value: -385.048 and parameters: {'a': 9, 'b': 28, 'stop_loss': 43, 'take_profit': 46}. Best is trial 170 with value: -608.915.\u001b[0m\n",
      "\u001b[32m[I 2021-02-16 22:23:41,196]\u001b[0m Trial 531 finished with value: -608.915 and parameters: {'a': 9, 'b': 27, 'stop_loss': 43, 'take_profit': 43}. Best is trial 170 with value: -608.915.\u001b[0m\n"
     ]
    },
    {
     "name": "stdout",
     "output_type": "stream",
     "text": [
      "a: 9, b: 28, score: 385.05\n",
      "a: 9, b: 27, score: 608.91\n"
     ]
    },
    {
     "name": "stderr",
     "output_type": "stream",
     "text": [
      "\u001b[32m[I 2021-02-16 22:23:41,298]\u001b[0m Trial 532 finished with value: -261.623 and parameters: {'a': 8, 'b': 27, 'stop_loss': 40, 'take_profit': 44}. Best is trial 170 with value: -608.915.\u001b[0m\n",
      "\u001b[32m[I 2021-02-16 22:23:41,395]\u001b[0m Trial 533 finished with value: -544.856 and parameters: {'a': 9, 'b': 27, 'stop_loss': 42, 'take_profit': 41}. Best is trial 170 with value: -608.915.\u001b[0m\n"
     ]
    },
    {
     "name": "stdout",
     "output_type": "stream",
     "text": [
      "a: 8, b: 27, score: 261.62\n",
      "a: 9, b: 27, score: 544.86\n"
     ]
    },
    {
     "name": "stderr",
     "output_type": "stream",
     "text": [
      "\u001b[32m[I 2021-02-16 22:23:41,509]\u001b[0m Trial 534 finished with value: -576.885 and parameters: {'a': 9, 'b': 27, 'stop_loss': 49, 'take_profit': 42}. Best is trial 170 with value: -608.915.\u001b[0m\n",
      "\u001b[32m[I 2021-02-16 22:23:41,621]\u001b[0m Trial 535 finished with value: -608.915 and parameters: {'a': 9, 'b': 27, 'stop_loss': 47, 'take_profit': 43}. Best is trial 170 with value: -608.915.\u001b[0m\n"
     ]
    },
    {
     "name": "stdout",
     "output_type": "stream",
     "text": [
      "a: 9, b: 27, score: 576.88\n",
      "a: 9, b: 27, score: 608.91\n"
     ]
    },
    {
     "name": "stderr",
     "output_type": "stream",
     "text": [
      "\u001b[32m[I 2021-02-16 22:23:41,730]\u001b[0m Trial 536 finished with value: -608.915 and parameters: {'a': 9, 'b': 27, 'stop_loss': 45, 'take_profit': 43}. Best is trial 170 with value: -608.915.\u001b[0m\n",
      "\u001b[32m[I 2021-02-16 22:23:41,829]\u001b[0m Trial 537 finished with value: -554.608 and parameters: {'a': 10, 'b': 28, 'stop_loss': 38, 'take_profit': 44}. Best is trial 170 with value: -608.915.\u001b[0m\n",
      "\u001b[32m[I 2021-02-16 22:23:41,932]\u001b[0m Trial 538 finished with value: -262.84 and parameters: {'a': 9, 'b': 25, 'stop_loss': 46, 'take_profit': 36}. Best is trial 170 with value: -608.915.\u001b[0m\n"
     ]
    },
    {
     "name": "stdout",
     "output_type": "stream",
     "text": [
      "a: 9, b: 27, score: 608.91\n",
      "a: 10, b: 28, score: 554.61\n",
      "a: 9, b: 25, score: 262.84\n"
     ]
    },
    {
     "name": "stderr",
     "output_type": "stream",
     "text": [
      "\u001b[32m[I 2021-02-16 22:23:42,031]\u001b[0m Trial 539 finished with value: -451.514 and parameters: {'a': 9, 'b': 26, 'stop_loss': 39, 'take_profit': 42}. Best is trial 170 with value: -608.915.\u001b[0m\n",
      "\u001b[32m[I 2021-02-16 22:23:42,133]\u001b[0m Trial 540 finished with value: -287.489 and parameters: {'a': 8, 'b': 27, 'stop_loss': 40, 'take_profit': 45}. Best is trial 170 with value: -608.915.\u001b[0m\n"
     ]
    },
    {
     "name": "stdout",
     "output_type": "stream",
     "text": [
      "a: 9, b: 26, score: 451.51\n",
      "a: 8, b: 27, score: 287.49\n"
     ]
    },
    {
     "name": "stderr",
     "output_type": "stream",
     "text": [
      "\u001b[32m[I 2021-02-16 22:23:42,235]\u001b[0m Trial 541 finished with value: -608.915 and parameters: {'a': 9, 'b': 27, 'stop_loss': 45, 'take_profit': 43}. Best is trial 170 with value: -608.915.\u001b[0m\n",
      "\u001b[32m[I 2021-02-16 22:23:42,330]\u001b[0m Trial 542 finished with value: -362.813 and parameters: {'a': 9, 'b': 26, 'stop_loss': 48, 'take_profit': 39}. Best is trial 170 with value: -608.915.\u001b[0m\n",
      "\u001b[32m[I 2021-02-16 22:23:42,426]\u001b[0m Trial 543 finished with value: -562.13 and parameters: {'a': 9, 'b': 27, 'stop_loss': 47, 'take_profit': 44}. Best is trial 170 with value: -608.915.\u001b[0m\n"
     ]
    },
    {
     "name": "stdout",
     "output_type": "stream",
     "text": [
      "a: 9, b: 27, score: 608.91\n",
      "a: 9, b: 26, score: 362.81\n",
      "a: 9, b: 27, score: 562.13\n"
     ]
    },
    {
     "name": "stderr",
     "output_type": "stream",
     "text": [
      "\u001b[32m[I 2021-02-16 22:23:42,530]\u001b[0m Trial 544 finished with value: -442.439 and parameters: {'a': 9, 'b': 28, 'stop_loss': 48, 'take_profit': 41}. Best is trial 170 with value: -608.915.\u001b[0m\n",
      "\u001b[32m[I 2021-02-16 22:23:42,628]\u001b[0m Trial 545 finished with value: -481.073 and parameters: {'a': 10, 'b': 27, 'stop_loss': 45, 'take_profit': 42}. Best is trial 170 with value: -608.915.\u001b[0m\n"
     ]
    },
    {
     "name": "stdout",
     "output_type": "stream",
     "text": [
      "a: 9, b: 28, score: 442.44\n",
      "a: 10, b: 27, score: 481.07\n"
     ]
    },
    {
     "name": "stderr",
     "output_type": "stream",
     "text": [
      "\u001b[32m[I 2021-02-16 22:23:42,733]\u001b[0m Trial 546 finished with value: -512.825 and parameters: {'a': 9, 'b': 27, 'stop_loss': 39, 'take_profit': 40}. Best is trial 170 with value: -608.915.\u001b[0m\n",
      "\u001b[32m[I 2021-02-16 22:23:42,832]\u001b[0m Trial 547 finished with value: -306.664 and parameters: {'a': 8, 'b': 27, 'stop_loss': 43, 'take_profit': 43}. Best is trial 170 with value: -608.915.\u001b[0m\n"
     ]
    },
    {
     "name": "stdout",
     "output_type": "stream",
     "text": [
      "a: 9, b: 27, score: 512.83\n",
      "a: 8, b: 27, score: 306.66\n"
     ]
    },
    {
     "name": "stderr",
     "output_type": "stream",
     "text": [
      "\u001b[32m[I 2021-02-16 22:23:42,939]\u001b[0m Trial 548 finished with value: -437.897 and parameters: {'a': 9, 'b': 26, 'stop_loss': 42, 'take_profit': 44}. Best is trial 170 with value: -608.915.\u001b[0m\n",
      "\u001b[32m[I 2021-02-16 22:23:43,036]\u001b[0m Trial 549 finished with value: -576.885 and parameters: {'a': 9, 'b': 27, 'stop_loss': 44, 'take_profit': 42}. Best is trial 170 with value: -608.915.\u001b[0m\n",
      "\u001b[32m[I 2021-02-16 22:23:43,140]\u001b[0m Trial 550 finished with value: -379.611 and parameters: {'a': 9, 'b': 28, 'stop_loss': 47, 'take_profit': 45}. Best is trial 170 with value: -608.915.\u001b[0m\n"
     ]
    },
    {
     "name": "stdout",
     "output_type": "stream",
     "text": [
      "a: 9, b: 26, score: 437.90\n",
      "a: 9, b: 27, score: 576.88\n",
      "a: 9, b: 28, score: 379.61\n"
     ]
    },
    {
     "name": "stderr",
     "output_type": "stream",
     "text": [
      "\u001b[32m[I 2021-02-16 22:23:43,248]\u001b[0m Trial 551 finished with value: -608.915 and parameters: {'a': 9, 'b': 27, 'stop_loss': 44, 'take_profit': 43}. Best is trial 170 with value: -608.915.\u001b[0m\n",
      "\u001b[32m[I 2021-02-16 22:23:43,351]\u001b[0m Trial 552 finished with value: -540.616 and parameters: {'a': 9, 'b': 27, 'stop_loss': 29, 'take_profit': 41}. Best is trial 170 with value: -608.915.\u001b[0m\n"
     ]
    },
    {
     "name": "stdout",
     "output_type": "stream",
     "text": [
      "a: 9, b: 27, score: 608.91\n",
      "a: 9, b: 27, score: 540.62\n"
     ]
    },
    {
     "name": "stderr",
     "output_type": "stream",
     "text": [
      "\u001b[32m[I 2021-02-16 22:23:43,459]\u001b[0m Trial 553 finished with value: -608.915 and parameters: {'a': 9, 'b': 27, 'stop_loss': 46, 'take_profit': 43}. Best is trial 170 with value: -608.915.\u001b[0m\n",
      "\u001b[32m[I 2021-02-16 22:23:43,554]\u001b[0m Trial 554 finished with value: -550.492 and parameters: {'a': 10, 'b': 28, 'stop_loss': 40, 'take_profit': 44}. Best is trial 170 with value: -608.915.\u001b[0m\n",
      "\u001b[32m[I 2021-02-16 22:23:43,659]\u001b[0m Trial 555 finished with value: -451.514 and parameters: {'a': 9, 'b': 26, 'stop_loss': 46, 'take_profit': 42}. Best is trial 170 with value: -608.915.\u001b[0m\n"
     ]
    },
    {
     "name": "stdout",
     "output_type": "stream",
     "text": [
      "a: 9, b: 27, score: 608.91\n",
      "a: 10, b: 28, score: 550.49\n",
      "a: 9, b: 26, score: 451.51\n"
     ]
    },
    {
     "name": "stderr",
     "output_type": "stream",
     "text": [
      "\u001b[32m[I 2021-02-16 22:23:43,764]\u001b[0m Trial 556 finished with value: -287.489 and parameters: {'a': 8, 'b': 27, 'stop_loss': 45, 'take_profit': 45}. Best is trial 170 with value: -608.915.\u001b[0m\n",
      "\u001b[32m[I 2021-02-16 22:23:43,863]\u001b[0m Trial 557 finished with value: -437.897 and parameters: {'a': 9, 'b': 26, 'stop_loss': 38, 'take_profit': 44}. Best is trial 170 with value: -608.915.\u001b[0m\n"
     ]
    },
    {
     "name": "stdout",
     "output_type": "stream",
     "text": [
      "a: 8, b: 27, score: 287.49\n",
      "a: 9, b: 26, score: 437.90\n"
     ]
    },
    {
     "name": "stderr",
     "output_type": "stream",
     "text": [
      "\u001b[32m[I 2021-02-16 22:23:43,968]\u001b[0m Trial 558 finished with value: -608.915 and parameters: {'a': 9, 'b': 27, 'stop_loss': 48, 'take_profit': 43}. Best is trial 170 with value: -608.915.\u001b[0m\n",
      "\u001b[32m[I 2021-02-16 22:23:44,071]\u001b[0m Trial 559 finished with value: -276.234 and parameters: {'a': 9, 'b': 27, 'stop_loss': 43, 'take_profit': 29}. Best is trial 170 with value: -608.915.\u001b[0m\n"
     ]
    },
    {
     "name": "stdout",
     "output_type": "stream",
     "text": [
      "a: 9, b: 27, score: 608.91\n",
      "a: 9, b: 27, score: 276.23\n"
     ]
    },
    {
     "name": "stderr",
     "output_type": "stream",
     "text": [
      "\u001b[32m[I 2021-02-16 22:23:44,175]\u001b[0m Trial 560 finished with value: -608.915 and parameters: {'a': 9, 'b': 27, 'stop_loss': 43, 'take_profit': 43}. Best is trial 170 with value: -608.915.\u001b[0m\n",
      "\u001b[32m[I 2021-02-16 22:23:44,276]\u001b[0m Trial 561 finished with value: -347.955 and parameters: {'a': 8, 'b': 28, 'stop_loss': 41, 'take_profit': 42}. Best is trial 170 with value: -608.915.\u001b[0m\n"
     ]
    },
    {
     "name": "stdout",
     "output_type": "stream",
     "text": [
      "a: 9, b: 27, score: 608.91\n",
      "a: 8, b: 28, score: 347.95\n"
     ]
    },
    {
     "name": "stderr",
     "output_type": "stream",
     "text": [
      "\u001b[32m[I 2021-02-16 22:23:44,385]\u001b[0m Trial 562 finished with value: -562.13 and parameters: {'a': 9, 'b': 27, 'stop_loss': 50, 'take_profit': 44}. Best is trial 170 with value: -608.915.\u001b[0m\n",
      "\u001b[32m[I 2021-02-16 22:23:44,490]\u001b[0m Trial 563 finished with value: -521.968 and parameters: {'a': 10, 'b': 27, 'stop_loss': 44, 'take_profit': 46}. Best is trial 170 with value: -608.915.\u001b[0m\n"
     ]
    },
    {
     "name": "stdout",
     "output_type": "stream",
     "text": [
      "a: 9, b: 27, score: 562.13\n",
      "a: 10, b: 27, score: 521.97\n"
     ]
    },
    {
     "name": "stderr",
     "output_type": "stream",
     "text": [
      "\u001b[32m[I 2021-02-16 22:23:44,598]\u001b[0m Trial 564 finished with value: -174.814 and parameters: {'a': 9, 'b': 20, 'stop_loss': 47, 'take_profit': 41}. Best is trial 170 with value: -608.915.\u001b[0m\n",
      "\u001b[32m[I 2021-02-16 22:23:44,696]\u001b[0m Trial 565 finished with value: -481.082 and parameters: {'a': 9, 'b': 26, 'stop_loss': 44, 'take_profit': 43}. Best is trial 170 with value: -608.915.\u001b[0m\n",
      "\u001b[32m[I 2021-02-16 22:23:44,796]\u001b[0m Trial 566 finished with value: -357.299 and parameters: {'a': 9, 'b': 30, 'stop_loss': 49, 'take_profit': 42}. Best is trial 170 with value: -608.915.\u001b[0m\n"
     ]
    },
    {
     "name": "stdout",
     "output_type": "stream",
     "text": [
      "a: 9, b: 20, score: 174.81\n",
      "a: 9, b: 26, score: 481.08\n",
      "a: 9, b: 30, score: 357.30\n"
     ]
    },
    {
     "name": "stderr",
     "output_type": "stream",
     "text": [
      "\u001b[32m[I 2021-02-16 22:23:44,902]\u001b[0m Trial 567 finished with value: -608.915 and parameters: {'a': 9, 'b': 27, 'stop_loss': 47, 'take_profit': 43}. Best is trial 170 with value: -608.915.\u001b[0m\n",
      "\u001b[32m[I 2021-02-16 22:23:45,013]\u001b[0m Trial 568 finished with value: -34.655 and parameters: {'a': 9, 'b': 18, 'stop_loss': 41, 'take_profit': 45}. Best is trial 170 with value: -608.915.\u001b[0m\n"
     ]
    },
    {
     "name": "stdout",
     "output_type": "stream",
     "text": [
      "a: 9, b: 27, score: 608.91\n",
      "a: 9, b: 18, score: 34.66\n"
     ]
    },
    {
     "name": "stderr",
     "output_type": "stream",
     "text": [
      "\u001b[32m[I 2021-02-16 22:23:45,122]\u001b[0m Trial 569 finished with value: -166.237 and parameters: {'a': 9, 'b': 28, 'stop_loss': 48, 'take_profit': 32}. Best is trial 170 with value: -608.915.\u001b[0m\n",
      "\u001b[32m[I 2021-02-16 22:23:45,220]\u001b[0m Trial 570 finished with value: -562.13 and parameters: {'a': 9, 'b': 27, 'stop_loss': 49, 'take_profit': 44}. Best is trial 170 with value: -608.915.\u001b[0m\n"
     ]
    },
    {
     "name": "stdout",
     "output_type": "stream",
     "text": [
      "a: 9, b: 28, score: 166.24\n",
      "a: 9, b: 27, score: 562.13\n"
     ]
    },
    {
     "name": "stderr",
     "output_type": "stream",
     "text": [
      "\u001b[32m[I 2021-02-16 22:23:45,326]\u001b[0m Trial 571 finished with value: -570.018 and parameters: {'a': 9, 'b': 27, 'stop_loss': 25, 'take_profit': 42}. Best is trial 170 with value: -608.915.\u001b[0m\n",
      "\u001b[32m[I 2021-02-16 22:23:45,428]\u001b[0m Trial 572 finished with value: -217.887 and parameters: {'a': 8, 'b': 26, 'stop_loss': 39, 'take_profit': 41}. Best is trial 170 with value: -608.915.\u001b[0m\n"
     ]
    },
    {
     "name": "stdout",
     "output_type": "stream",
     "text": [
      "a: 9, b: 27, score: 570.02\n",
      "a: 8, b: 26, score: 217.89\n"
     ]
    },
    {
     "name": "stderr",
     "output_type": "stream",
     "text": [
      "\u001b[32m[I 2021-02-16 22:23:45,533]\u001b[0m Trial 573 finished with value: -608.915 and parameters: {'a': 9, 'b': 27, 'stop_loss': 43, 'take_profit': 43}. Best is trial 170 with value: -608.915.\u001b[0m\n",
      "\u001b[32m[I 2021-02-16 22:23:45,639]\u001b[0m Trial 574 finished with value: -538.142 and parameters: {'a': 10, 'b': 28, 'stop_loss': 46, 'take_profit': 44}. Best is trial 170 with value: -608.915.\u001b[0m\n"
     ]
    },
    {
     "name": "stdout",
     "output_type": "stream",
     "text": [
      "a: 9, b: 27, score: 608.91\n",
      "a: 10, b: 28, score: 538.14\n"
     ]
    },
    {
     "name": "stderr",
     "output_type": "stream",
     "text": [
      "\u001b[32m[I 2021-02-16 22:23:45,743]\u001b[0m Trial 575 finished with value: -214.093 and parameters: {'a': 9, 'b': 22, 'stop_loss': 45, 'take_profit': 42}. Best is trial 170 with value: -608.915.\u001b[0m\n",
      "\u001b[32m[I 2021-02-16 22:23:45,843]\u001b[0m Trial 576 finished with value: -562.13 and parameters: {'a': 9, 'b': 27, 'stop_loss': 44, 'take_profit': 44}. Best is trial 170 with value: -608.915.\u001b[0m\n"
     ]
    },
    {
     "name": "stdout",
     "output_type": "stream",
     "text": [
      "a: 9, b: 22, score: 214.09\n",
      "a: 9, b: 27, score: 562.13\n"
     ]
    },
    {
     "name": "stderr",
     "output_type": "stream",
     "text": [
      "\u001b[32m[I 2021-02-16 22:23:45,949]\u001b[0m Trial 577 finished with value: -608.915 and parameters: {'a': 9, 'b': 27, 'stop_loss': 37, 'take_profit': 43}. Best is trial 170 with value: -608.915.\u001b[0m\n",
      "\u001b[32m[I 2021-02-16 22:23:46,053]\u001b[0m Trial 578 finished with value: -576.885 and parameters: {'a': 9, 'b': 27, 'stop_loss': 41, 'take_profit': 42}. Best is trial 170 with value: -608.915.\u001b[0m\n"
     ]
    },
    {
     "name": "stdout",
     "output_type": "stream",
     "text": [
      "a: 9, b: 27, score: 608.91\n",
      "a: 9, b: 27, score: 576.88\n"
     ]
    },
    {
     "name": "stderr",
     "output_type": "stream",
     "text": [
      "\u001b[32m[I 2021-02-16 22:23:46,158]\u001b[0m Trial 579 finished with value: -512.825 and parameters: {'a': 9, 'b': 27, 'stop_loss': 38, 'take_profit': 40}. Best is trial 170 with value: -608.915.\u001b[0m\n",
      "\u001b[32m[I 2021-02-16 22:23:46,264]\u001b[0m Trial 580 finished with value: -608.915 and parameters: {'a': 9, 'b': 27, 'stop_loss': 43, 'take_profit': 43}. Best is trial 170 with value: -608.915.\u001b[0m\n"
     ]
    },
    {
     "name": "stdout",
     "output_type": "stream",
     "text": [
      "a: 9, b: 27, score: 512.83\n",
      "a: 9, b: 27, score: 608.91\n"
     ]
    },
    {
     "name": "stderr",
     "output_type": "stream",
     "text": [
      "\u001b[32m[I 2021-02-16 22:23:46,384]\u001b[0m Trial 581 finished with value: -534.105 and parameters: {'a': 10, 'b': 26, 'stop_loss': 47, 'take_profit': 45}. Best is trial 170 with value: -608.915.\u001b[0m\n",
      "\u001b[32m[I 2021-02-16 22:23:46,486]\u001b[0m Trial 582 finished with value: -454.192 and parameters: {'a': 9, 'b': 28, 'stop_loss': 46, 'take_profit': 44}. Best is trial 170 with value: -608.915.\u001b[0m\n"
     ]
    },
    {
     "name": "stdout",
     "output_type": "stream",
     "text": [
      "a: 10, b: 26, score: 534.11\n",
      "a: 9, b: 28, score: 454.19\n"
     ]
    },
    {
     "name": "stderr",
     "output_type": "stream",
     "text": [
      "\u001b[32m[I 2021-02-16 22:23:46,594]\u001b[0m Trial 583 finished with value: -544.856 and parameters: {'a': 9, 'b': 27, 'stop_loss': 47, 'take_profit': 41}. Best is trial 170 with value: -608.915.\u001b[0m\n",
      "\u001b[32m[I 2021-02-16 22:23:46,709]\u001b[0m Trial 584 finished with value: -223.476 and parameters: {'a': 6, 'b': 27, 'stop_loss': 48, 'take_profit': 42}. Best is trial 170 with value: -608.915.\u001b[0m\n"
     ]
    },
    {
     "name": "stdout",
     "output_type": "stream",
     "text": [
      "a: 9, b: 27, score: 544.86\n",
      "a: 6, b: 27, score: 223.48\n"
     ]
    },
    {
     "name": "stderr",
     "output_type": "stream",
     "text": [
      "\u001b[32m[I 2021-02-16 22:23:46,826]\u001b[0m Trial 585 finished with value: -101.727 and parameters: {'a': 8, 'b': 26, 'stop_loss': 38, 'take_profit': 45}. Best is trial 170 with value: -608.915.\u001b[0m\n",
      "\u001b[32m[I 2021-02-16 22:23:46,943]\u001b[0m Trial 586 finished with value: -467.999 and parameters: {'a': 9, 'b': 28, 'stop_loss': 39, 'take_profit': 44}. Best is trial 170 with value: -608.915.\u001b[0m\n"
     ]
    },
    {
     "name": "stdout",
     "output_type": "stream",
     "text": [
      "a: 8, b: 26, score: 101.73\n",
      "a: 9, b: 28, score: 468.00\n"
     ]
    },
    {
     "name": "stderr",
     "output_type": "stream",
     "text": [
      "\u001b[32m[I 2021-02-16 22:23:47,049]\u001b[0m Trial 587 finished with value: -487.068 and parameters: {'a': 9, 'b': 27, 'stop_loss': 45, 'take_profit': 46}. Best is trial 170 with value: -608.915.\u001b[0m\n",
      "\u001b[32m[I 2021-02-16 22:23:47,152]\u001b[0m Trial 588 finished with value: -608.915 and parameters: {'a': 9, 'b': 27, 'stop_loss': 42, 'take_profit': 43}. Best is trial 170 with value: -608.915.\u001b[0m\n"
     ]
    },
    {
     "name": "stdout",
     "output_type": "stream",
     "text": [
      "a: 9, b: 27, score: 487.07\n",
      "a: 9, b: 27, score: 608.91\n"
     ]
    },
    {
     "name": "stderr",
     "output_type": "stream",
     "text": [
      "\u001b[32m[I 2021-02-16 22:23:47,259]\u001b[0m Trial 589 finished with value: -481.082 and parameters: {'a': 9, 'b': 26, 'stop_loss': 45, 'take_profit': 43}. Best is trial 170 with value: -608.915.\u001b[0m\n",
      "\u001b[32m[I 2021-02-16 22:23:47,362]\u001b[0m Trial 590 finished with value: -576.885 and parameters: {'a': 9, 'b': 27, 'stop_loss': 46, 'take_profit': 42}. Best is trial 170 with value: -608.915.\u001b[0m\n"
     ]
    },
    {
     "name": "stdout",
     "output_type": "stream",
     "text": [
      "a: 9, b: 26, score: 481.08\n",
      "a: 9, b: 27, score: 576.88\n"
     ]
    },
    {
     "name": "stderr",
     "output_type": "stream",
     "text": [
      "\u001b[32m[I 2021-02-16 22:23:47,463]\u001b[0m Trial 591 finished with value: -511.108 and parameters: {'a': 10, 'b': 27, 'stop_loss': 45, 'take_profit': 43}. Best is trial 170 with value: -608.915.\u001b[0m\n",
      "\u001b[32m[I 2021-02-16 22:23:47,569]\u001b[0m Trial 592 finished with value: -458.137 and parameters: {'a': 9, 'b': 28, 'stop_loss': 44, 'take_profit': 44}. Best is trial 170 with value: -608.915.\u001b[0m\n"
     ]
    },
    {
     "name": "stdout",
     "output_type": "stream",
     "text": [
      "a: 10, b: 27, score: 511.11\n",
      "a: 9, b: 28, score: 458.14\n"
     ]
    },
    {
     "name": "stderr",
     "output_type": "stream",
     "text": [
      "\u001b[32m[I 2021-02-16 22:23:47,678]\u001b[0m Trial 593 finished with value: -544.856 and parameters: {'a': 9, 'b': 27, 'stop_loss': 47, 'take_profit': 41}. Best is trial 170 with value: -608.915.\u001b[0m\n",
      "\u001b[32m[I 2021-02-16 22:23:47,788]\u001b[0m Trial 594 finished with value: -242.744 and parameters: {'a': 8, 'b': 26, 'stop_loss': 47, 'take_profit': 42}. Best is trial 170 with value: -608.915.\u001b[0m\n"
     ]
    },
    {
     "name": "stdout",
     "output_type": "stream",
     "text": [
      "a: 9, b: 27, score: 544.86\n",
      "a: 8, b: 26, score: 242.74\n"
     ]
    },
    {
     "name": "stderr",
     "output_type": "stream",
     "text": [
      "\u001b[32m[I 2021-02-16 22:23:47,895]\u001b[0m Trial 595 finished with value: -399.67 and parameters: {'a': 9, 'b': 27, 'stop_loss': 43, 'take_profit': 47}. Best is trial 170 with value: -608.915.\u001b[0m\n",
      "\u001b[32m[I 2021-02-16 22:23:48,006]\u001b[0m Trial 596 finished with value: -171.202 and parameters: {'a': 9, 'b': 21, 'stop_loss': 42, 'take_profit': 43}. Best is trial 170 with value: -608.915.\u001b[0m\n"
     ]
    },
    {
     "name": "stdout",
     "output_type": "stream",
     "text": [
      "a: 9, b: 27, score: 399.67\n",
      "a: 9, b: 21, score: 171.20\n"
     ]
    },
    {
     "name": "stderr",
     "output_type": "stream",
     "text": [
      "\u001b[32m[I 2021-02-16 22:23:48,117]\u001b[0m Trial 597 finished with value: -608.915 and parameters: {'a': 9, 'b': 27, 'stop_loss': 43, 'take_profit': 43}. Best is trial 170 with value: -608.915.\u001b[0m\n",
      "\u001b[32m[I 2021-02-16 22:23:48,223]\u001b[0m Trial 598 finished with value: -608.915 and parameters: {'a': 9, 'b': 27, 'stop_loss': 45, 'take_profit': 43}. Best is trial 170 with value: -608.915.\u001b[0m\n"
     ]
    },
    {
     "name": "stdout",
     "output_type": "stream",
     "text": [
      "a: 9, b: 27, score: 608.91\n",
      "a: 9, b: 27, score: 608.91\n"
     ]
    },
    {
     "name": "stderr",
     "output_type": "stream",
     "text": [
      "\u001b[32m[I 2021-02-16 22:23:48,330]\u001b[0m Trial 599 finished with value: -538.142 and parameters: {'a': 10, 'b': 28, 'stop_loss': 46, 'take_profit': 44}. Best is trial 170 with value: -608.915.\u001b[0m\n",
      "\u001b[32m[I 2021-02-16 22:23:48,434]\u001b[0m Trial 600 finished with value: -489.521 and parameters: {'a': 9, 'b': 27, 'stop_loss': 46, 'take_profit': 45}. Best is trial 170 with value: -608.915.\u001b[0m\n"
     ]
    },
    {
     "name": "stdout",
     "output_type": "stream",
     "text": [
      "a: 10, b: 28, score: 538.14\n",
      "a: 9, b: 27, score: 489.52\n"
     ]
    },
    {
     "name": "stderr",
     "output_type": "stream",
     "text": [
      "\u001b[32m[I 2021-02-16 22:23:48,542]\u001b[0m Trial 601 finished with value: -576.885 and parameters: {'a': 9, 'b': 27, 'stop_loss': 50, 'take_profit': 42}. Best is trial 170 with value: -608.915.\u001b[0m\n",
      "\u001b[32m[I 2021-02-16 22:23:48,642]\u001b[0m Trial 602 finished with value: -381.921 and parameters: {'a': 8, 'b': 27, 'stop_loss': 41, 'take_profit': 42}. Best is trial 170 with value: -608.915.\u001b[0m\n",
      "\u001b[32m[I 2021-02-16 22:23:48,744]\u001b[0m Trial 603 finished with value: -421.948 and parameters: {'a': 9, 'b': 26, 'stop_loss': 46, 'take_profit': 41}. Best is trial 170 with value: -608.915.\u001b[0m\n"
     ]
    },
    {
     "name": "stdout",
     "output_type": "stream",
     "text": [
      "a: 9, b: 27, score: 576.88\n",
      "a: 8, b: 27, score: 381.92\n",
      "a: 9, b: 26, score: 421.95\n"
     ]
    },
    {
     "name": "stderr",
     "output_type": "stream",
     "text": [
      "\u001b[32m[I 2021-02-16 22:23:48,854]\u001b[0m Trial 604 finished with value: -499.004 and parameters: {'a': 9, 'b': 28, 'stop_loss': 47, 'take_profit': 43}. Best is trial 170 with value: -608.915.\u001b[0m\n",
      "\u001b[32m[I 2021-02-16 22:23:48,952]\u001b[0m Trial 605 finished with value: -562.13 and parameters: {'a': 9, 'b': 27, 'stop_loss': 44, 'take_profit': 44}. Best is trial 170 with value: -608.915.\u001b[0m\n",
      "\u001b[32m[I 2021-02-16 22:23:49,052]\u001b[0m Trial 606 finished with value: -287.489 and parameters: {'a': 8, 'b': 27, 'stop_loss': 48, 'take_profit': 45}. Best is trial 170 with value: -608.915.\u001b[0m\n"
     ]
    },
    {
     "name": "stdout",
     "output_type": "stream",
     "text": [
      "a: 9, b: 28, score: 499.00\n",
      "a: 9, b: 27, score: 562.13\n",
      "a: 8, b: 27, score: 287.49\n"
     ]
    },
    {
     "name": "stderr",
     "output_type": "stream",
     "text": [
      "\u001b[32m[I 2021-02-16 22:23:49,160]\u001b[0m Trial 607 finished with value: -608.915 and parameters: {'a': 9, 'b': 27, 'stop_loss': 44, 'take_profit': 43}. Best is trial 170 with value: -608.915.\u001b[0m\n",
      "\u001b[32m[I 2021-02-16 22:23:49,267]\u001b[0m Trial 608 finished with value: -552.443 and parameters: {'a': 10, 'b': 26, 'stop_loss': 45, 'take_profit': 43}. Best is trial 170 with value: -608.915.\u001b[0m\n"
     ]
    },
    {
     "name": "stdout",
     "output_type": "stream",
     "text": [
      "a: 9, b: 27, score: 608.91\n",
      "a: 10, b: 26, score: 552.44\n"
     ]
    },
    {
     "name": "stderr",
     "output_type": "stream",
     "text": [
      "\u001b[32m[I 2021-02-16 22:23:49,372]\u001b[0m Trial 609 finished with value: -487.068 and parameters: {'a': 9, 'b': 27, 'stop_loss': 41, 'take_profit': 46}. Best is trial 170 with value: -608.915.\u001b[0m\n",
      "\u001b[32m[I 2021-02-16 22:23:49,555]\u001b[0m Trial 610 finished with value: -608.915 and parameters: {'a': 9, 'b': 27, 'stop_loss': 44, 'take_profit': 43}. Best is trial 170 with value: -608.915.\u001b[0m\n"
     ]
    },
    {
     "name": "stdout",
     "output_type": "stream",
     "text": [
      "a: 9, b: 27, score: 487.07\n",
      "a: 9, b: 27, score: 608.91\n"
     ]
    },
    {
     "name": "stderr",
     "output_type": "stream",
     "text": [
      "\u001b[32m[I 2021-02-16 22:23:49,659]\u001b[0m Trial 611 finished with value: -562.13 and parameters: {'a': 9, 'b': 27, 'stop_loss': 44, 'take_profit': 44}. Best is trial 170 with value: -608.915.\u001b[0m\n",
      "\u001b[32m[I 2021-02-16 22:23:49,761]\u001b[0m Trial 612 finished with value: -472.89 and parameters: {'a': 9, 'b': 28, 'stop_loss': 44, 'take_profit': 42}. Best is trial 170 with value: -608.915.\u001b[0m\n"
     ]
    },
    {
     "name": "stdout",
     "output_type": "stream",
     "text": [
      "a: 9, b: 27, score: 562.13\n",
      "a: 9, b: 28, score: 472.89\n"
     ]
    },
    {
     "name": "stderr",
     "output_type": "stream",
     "text": [
      "\u001b[32m[I 2021-02-16 22:23:49,866]\u001b[0m Trial 613 finished with value: -544.856 and parameters: {'a': 9, 'b': 27, 'stop_loss': 48, 'take_profit': 41}. Best is trial 170 with value: -608.915.\u001b[0m\n",
      "\u001b[32m[I 2021-02-16 22:23:49,965]\u001b[0m Trial 614 finished with value: -512.825 and parameters: {'a': 9, 'b': 27, 'stop_loss': 46, 'take_profit': 40}. Best is trial 170 with value: -608.915.\u001b[0m\n"
     ]
    },
    {
     "name": "stdout",
     "output_type": "stream",
     "text": [
      "a: 9, b: 27, score: 544.86\n",
      "a: 9, b: 27, score: 512.83\n"
     ]
    },
    {
     "name": "stderr",
     "output_type": "stream",
     "text": [
      "\u001b[32m[I 2021-02-16 22:23:50,072]\u001b[0m Trial 615 finished with value: -562.13 and parameters: {'a': 9, 'b': 27, 'stop_loss': 47, 'take_profit': 44}. Best is trial 170 with value: -608.915.\u001b[0m\n",
      "\u001b[32m[I 2021-02-16 22:23:50,182]\u001b[0m Trial 616 finished with value: -608.915 and parameters: {'a': 9, 'b': 27, 'stop_loss': 47, 'take_profit': 43}. Best is trial 170 with value: -608.915.\u001b[0m\n"
     ]
    },
    {
     "name": "stdout",
     "output_type": "stream",
     "text": [
      "a: 9, b: 27, score: 562.13\n",
      "a: 9, b: 27, score: 608.91\n"
     ]
    },
    {
     "name": "stderr",
     "output_type": "stream",
     "text": [
      "\u001b[32m[I 2021-02-16 22:23:50,296]\u001b[0m Trial 617 finished with value: -529.269 and parameters: {'a': 10, 'b': 26, 'stop_loss': 49, 'take_profit': 42}. Best is trial 170 with value: -608.915.\u001b[0m\n",
      "\u001b[32m[I 2021-02-16 22:23:50,396]\u001b[0m Trial 618 finished with value: -253.516 and parameters: {'a': 8, 'b': 28, 'stop_loss': 42, 'take_profit': 45}. Best is trial 170 with value: -608.915.\u001b[0m\n"
     ]
    },
    {
     "name": "stdout",
     "output_type": "stream",
     "text": [
      "a: 10, b: 26, score: 529.27\n",
      "a: 8, b: 28, score: 253.52\n"
     ]
    },
    {
     "name": "stderr",
     "output_type": "stream",
     "text": [
      "\u001b[32m[I 2021-02-16 22:23:50,510]\u001b[0m Trial 619 finished with value: -476.835 and parameters: {'a': 9, 'b': 28, 'stop_loss': 42, 'take_profit': 42}. Best is trial 170 with value: -608.915.\u001b[0m\n",
      "\u001b[32m[I 2021-02-16 22:23:50,613]\u001b[0m Trial 620 finished with value: -562.13 and parameters: {'a': 9, 'b': 27, 'stop_loss': 45, 'take_profit': 44}. Best is trial 170 with value: -608.915.\u001b[0m\n"
     ]
    },
    {
     "name": "stdout",
     "output_type": "stream",
     "text": [
      "a: 9, b: 28, score: 476.83\n",
      "a: 9, b: 27, score: 562.13\n"
     ]
    },
    {
     "name": "stderr",
     "output_type": "stream",
     "text": [
      "\u001b[32m[I 2021-02-16 22:23:50,716]\u001b[0m Trial 621 finished with value: -333.699 and parameters: {'a': 9, 'b': 26, 'stop_loss': 48, 'take_profit': 45}. Best is trial 170 with value: -608.915.\u001b[0m\n",
      "\u001b[32m[I 2021-02-16 22:23:50,818]\u001b[0m Trial 622 finished with value: -253.087 and parameters: {'a': 9, 'b': 27, 'stop_loss': 43, 'take_profit': 22}. Best is trial 170 with value: -608.915.\u001b[0m\n"
     ]
    },
    {
     "name": "stdout",
     "output_type": "stream",
     "text": [
      "a: 9, b: 26, score: 333.70\n",
      "a: 9, b: 27, score: 253.09\n"
     ]
    },
    {
     "name": "stderr",
     "output_type": "stream",
     "text": [
      "\u001b[32m[I 2021-02-16 22:23:50,928]\u001b[0m Trial 623 finished with value: -576.885 and parameters: {'a': 9, 'b': 27, 'stop_loss': 49, 'take_profit': 42}. Best is trial 170 with value: -608.915.\u001b[0m\n",
      "\u001b[32m[I 2021-02-16 22:23:51,029]\u001b[0m Trial 624 finished with value: -562.13 and parameters: {'a': 9, 'b': 27, 'stop_loss': 45, 'take_profit': 44}. Best is trial 170 with value: -608.915.\u001b[0m\n"
     ]
    },
    {
     "name": "stdout",
     "output_type": "stream",
     "text": [
      "a: 9, b: 27, score: 576.88\n",
      "a: 9, b: 27, score: 562.13\n"
     ]
    },
    {
     "name": "stderr",
     "output_type": "stream",
     "text": [
      "\u001b[32m[I 2021-02-16 22:23:51,134]\u001b[0m Trial 625 finished with value: -444.115 and parameters: {'a': 10, 'b': 28, 'stop_loss': 46, 'take_profit': 41}. Best is trial 170 with value: -608.915.\u001b[0m\n",
      "\u001b[32m[I 2021-02-16 22:23:51,229]\u001b[0m Trial 626 finished with value: -608.915 and parameters: {'a': 9, 'b': 27, 'stop_loss': 47, 'take_profit': 43}. Best is trial 170 with value: -608.915.\u001b[0m\n"
     ]
    },
    {
     "name": "stdout",
     "output_type": "stream",
     "text": [
      "a: 10, b: 28, score: 444.12\n",
      "a: 9, b: 27, score: 608.91\n"
     ]
    },
    {
     "name": "stderr",
     "output_type": "stream",
     "text": [
      "\u001b[32m[I 2021-02-16 22:23:51,339]\u001b[0m Trial 627 finished with value: -173.617 and parameters: {'a': 8, 'b': 26, 'stop_loss': 48, 'take_profit': 43}. Best is trial 170 with value: -608.915.\u001b[0m\n",
      "\u001b[32m[I 2021-02-16 22:23:51,445]\u001b[0m Trial 628 finished with value: -562.13 and parameters: {'a': 9, 'b': 27, 'stop_loss': 46, 'take_profit': 44}. Best is trial 170 with value: -608.915.\u001b[0m\n"
     ]
    },
    {
     "name": "stdout",
     "output_type": "stream",
     "text": [
      "a: 8, b: 26, score: 173.62\n",
      "a: 9, b: 27, score: 562.13\n"
     ]
    },
    {
     "name": "stderr",
     "output_type": "stream",
     "text": [
      "\u001b[32m[I 2021-02-16 22:23:51,548]\u001b[0m Trial 629 finished with value: -481.082 and parameters: {'a': 9, 'b': 26, 'stop_loss': 45, 'take_profit': 43}. Best is trial 170 with value: -608.915.\u001b[0m\n",
      "\u001b[32m[I 2021-02-16 22:23:51,651]\u001b[0m Trial 630 finished with value: -576.885 and parameters: {'a': 9, 'b': 27, 'stop_loss': 43, 'take_profit': 42}. Best is trial 170 with value: -608.915.\u001b[0m\n"
     ]
    },
    {
     "name": "stdout",
     "output_type": "stream",
     "text": [
      "a: 9, b: 26, score: 481.08\n",
      "a: 9, b: 27, score: 576.88\n"
     ]
    },
    {
     "name": "stderr",
     "output_type": "stream",
     "text": [
      "\u001b[32m[I 2021-02-16 22:23:51,760]\u001b[0m Trial 631 finished with value: -438.888 and parameters: {'a': 9, 'b': 28, 'stop_loss': 45, 'take_profit': 41}. Best is trial 170 with value: -608.915.\u001b[0m\n",
      "\u001b[32m[I 2021-02-16 22:23:51,859]\u001b[0m Trial 632 finished with value: -608.915 and parameters: {'a': 9, 'b': 27, 'stop_loss': 43, 'take_profit': 43}. Best is trial 170 with value: -608.915.\u001b[0m\n",
      "\u001b[32m[I 2021-02-16 22:23:51,962]\u001b[0m Trial 633 finished with value: -463.928 and parameters: {'a': 10, 'b': 27, 'stop_loss': 45, 'take_profit': 44}. Best is trial 170 with value: -608.915.\u001b[0m\n"
     ]
    },
    {
     "name": "stdout",
     "output_type": "stream",
     "text": [
      "a: 9, b: 28, score: 438.89\n",
      "a: 9, b: 27, score: 608.91\n",
      "a: 10, b: 27, score: 463.93\n"
     ]
    },
    {
     "name": "stderr",
     "output_type": "stream",
     "text": [
      "\u001b[32m[I 2021-02-16 22:23:52,063]\u001b[0m Trial 634 finished with value: -608.915 and parameters: {'a': 9, 'b': 27, 'stop_loss': 42, 'take_profit': 43}. Best is trial 170 with value: -608.915.\u001b[0m\n",
      "\u001b[32m[I 2021-02-16 22:23:52,170]\u001b[0m Trial 635 finished with value: -576.885 and parameters: {'a': 9, 'b': 27, 'stop_loss': 47, 'take_profit': 42}. Best is trial 170 with value: -608.915.\u001b[0m\n"
     ]
    },
    {
     "name": "stdout",
     "output_type": "stream",
     "text": [
      "a: 9, b: 27, score: 608.91\n",
      "a: 9, b: 27, score: 576.88\n"
     ]
    },
    {
     "name": "stderr",
     "output_type": "stream",
     "text": [
      "\u001b[32m[I 2021-02-16 22:23:52,277]\u001b[0m Trial 636 finished with value: -101.727 and parameters: {'a': 8, 'b': 26, 'stop_loss': 43, 'take_profit': 45}. Best is trial 170 with value: -608.915.\u001b[0m\n",
      "\u001b[32m[I 2021-02-16 22:23:52,377]\u001b[0m Trial 637 finished with value: -608.915 and parameters: {'a': 9, 'b': 27, 'stop_loss': 42, 'take_profit': 43}. Best is trial 170 with value: -608.915.\u001b[0m\n",
      "\u001b[32m[I 2021-02-16 22:23:52,477]\u001b[0m Trial 638 finished with value: -471.944 and parameters: {'a': 9, 'b': 28, 'stop_loss': 37, 'take_profit': 44}. Best is trial 170 with value: -608.915.\u001b[0m\n"
     ]
    },
    {
     "name": "stdout",
     "output_type": "stream",
     "text": [
      "a: 8, b: 26, score: 101.73\n",
      "a: 9, b: 27, score: 608.91\n",
      "a: 9, b: 28, score: 471.94\n"
     ]
    },
    {
     "name": "stderr",
     "output_type": "stream",
     "text": [
      "\u001b[32m[I 2021-02-16 22:23:52,580]\u001b[0m Trial 639 finished with value: -578.7 and parameters: {'a': 9, 'b': 27, 'stop_loss': 27, 'take_profit': 42}. Best is trial 170 with value: -608.915.\u001b[0m\n",
      "\u001b[32m[I 2021-02-16 22:23:52,682]\u001b[0m Trial 640 finished with value: -512.825 and parameters: {'a': 9, 'b': 27, 'stop_loss': 47, 'take_profit': 40}. Best is trial 170 with value: -608.915.\u001b[0m\n"
     ]
    },
    {
     "name": "stdout",
     "output_type": "stream",
     "text": [
      "a: 9, b: 27, score: 578.70\n",
      "a: 9, b: 27, score: 512.83\n"
     ]
    },
    {
     "name": "stderr",
     "output_type": "stream",
     "text": [
      "\u001b[32m[I 2021-02-16 22:23:52,800]\u001b[0m Trial 641 finished with value: -480.795 and parameters: {'a': 9, 'b': 27, 'stop_loss': 43, 'take_profit': 39}. Best is trial 170 with value: -608.915.\u001b[0m\n",
      "\u001b[32m[I 2021-02-16 22:23:52,908]\u001b[0m Trial 642 finished with value: -289.353 and parameters: {'a': 8, 'b': 26, 'stop_loss': 19, 'take_profit': 41}. Best is trial 170 with value: -608.915.\u001b[0m\n"
     ]
    },
    {
     "name": "stdout",
     "output_type": "stream",
     "text": [
      "a: 9, b: 27, score: 480.80\n",
      "a: 8, b: 26, score: 289.35\n"
     ]
    },
    {
     "name": "stderr",
     "output_type": "stream",
     "text": [
      "\u001b[32m[I 2021-02-16 22:23:53,015]\u001b[0m Trial 643 finished with value: -562.13 and parameters: {'a': 9, 'b': 27, 'stop_loss': 44, 'take_profit': 44}. Best is trial 170 with value: -608.915.\u001b[0m\n",
      "\u001b[32m[I 2021-02-16 22:23:53,112]\u001b[0m Trial 644 finished with value: -474.468 and parameters: {'a': 9, 'b': 28, 'stop_loss': 49, 'take_profit': 42}. Best is trial 170 with value: -608.915.\u001b[0m\n"
     ]
    },
    {
     "name": "stdout",
     "output_type": "stream",
     "text": [
      "a: 9, b: 27, score: 562.13\n",
      "a: 9, b: 28, score: 474.47\n"
     ]
    },
    {
     "name": "stderr",
     "output_type": "stream",
     "text": [
      "\u001b[32m[I 2021-02-16 22:23:53,219]\u001b[0m Trial 645 finished with value: -515.053 and parameters: {'a': 10, 'b': 27, 'stop_loss': 43, 'take_profit': 43}. Best is trial 170 with value: -608.915.\u001b[0m\n",
      "\u001b[32m[I 2021-02-16 22:23:53,332]\u001b[0m Trial 646 finished with value: -489.521 and parameters: {'a': 9, 'b': 27, 'stop_loss': 46, 'take_profit': 45}. Best is trial 170 with value: -608.915.\u001b[0m\n"
     ]
    },
    {
     "name": "stdout",
     "output_type": "stream",
     "text": [
      "a: 10, b: 27, score: 515.05\n",
      "a: 9, b: 27, score: 489.52\n"
     ]
    },
    {
     "name": "stderr",
     "output_type": "stream",
     "text": [
      "\u001b[32m[I 2021-02-16 22:23:53,442]\u001b[0m Trial 647 finished with value: -608.915 and parameters: {'a': 9, 'b': 27, 'stop_loss': 43, 'take_profit': 43}. Best is trial 170 with value: -608.915.\u001b[0m\n",
      "\u001b[32m[I 2021-02-16 22:23:53,546]\u001b[0m Trial 648 finished with value: -325.525 and parameters: {'a': 9, 'b': 26, 'stop_loss': 37, 'take_profit': 46}. Best is trial 170 with value: -608.915.\u001b[0m\n"
     ]
    },
    {
     "name": "stdout",
     "output_type": "stream",
     "text": [
      "a: 9, b: 27, score: 608.91\n",
      "a: 9, b: 26, score: 325.52\n"
     ]
    },
    {
     "name": "stderr",
     "output_type": "stream",
     "text": [
      "\u001b[32m[I 2021-02-16 22:23:53,653]\u001b[0m Trial 649 finished with value: -562.13 and parameters: {'a': 9, 'b': 27, 'stop_loss': 43, 'take_profit': 44}. Best is trial 170 with value: -608.915.\u001b[0m\n",
      "\u001b[32m[I 2021-02-16 22:23:53,756]\u001b[0m Trial 650 finished with value: -150.337 and parameters: {'a': 8, 'b': 25, 'stop_loss': 45, 'take_profit': 42}. Best is trial 170 with value: -608.915.\u001b[0m\n"
     ]
    },
    {
     "name": "stdout",
     "output_type": "stream",
     "text": [
      "a: 9, b: 27, score: 562.13\n",
      "a: 8, b: 25, score: 150.34\n"
     ]
    },
    {
     "name": "stderr",
     "output_type": "stream",
     "text": [
      "\u001b[32m[I 2021-02-16 22:23:53,865]\u001b[0m Trial 651 finished with value: -504.921 and parameters: {'a': 9, 'b': 28, 'stop_loss': 44, 'take_profit': 43}. Best is trial 170 with value: -608.915.\u001b[0m\n",
      "\u001b[32m[I 2021-02-16 22:23:53,974]\u001b[0m Trial 652 finished with value: -576.885 and parameters: {'a': 9, 'b': 27, 'stop_loss': 47, 'take_profit': 42}. Best is trial 170 with value: -608.915.\u001b[0m\n"
     ]
    },
    {
     "name": "stdout",
     "output_type": "stream",
     "text": [
      "a: 9, b: 28, score: 504.92\n",
      "a: 9, b: 27, score: 576.88\n"
     ]
    },
    {
     "name": "stderr",
     "output_type": "stream",
     "text": [
      "\u001b[32m[I 2021-02-16 22:23:54,080]\u001b[0m Trial 653 finished with value: 278.318 and parameters: {'a': 7, 'b': 26, 'stop_loss': 42, 'take_profit': 10}. Best is trial 170 with value: -608.915.\u001b[0m\n",
      "\u001b[32m[I 2021-02-16 22:23:54,184]\u001b[0m Trial 654 finished with value: -469.845 and parameters: {'a': 10, 'b': 27, 'stop_loss': 42, 'take_profit': 44}. Best is trial 170 with value: -608.915.\u001b[0m\n"
     ]
    },
    {
     "name": "stdout",
     "output_type": "stream",
     "text": [
      "a: 7, b: 26, score: -278.32\n",
      "a: 10, b: 27, score: 469.85\n"
     ]
    },
    {
     "name": "stderr",
     "output_type": "stream",
     "text": [
      "\u001b[32m[I 2021-02-16 22:23:54,287]\u001b[0m Trial 655 finished with value: -217.811 and parameters: {'a': 13, 'b': 28, 'stop_loss': 48, 'take_profit': 41}. Best is trial 170 with value: -608.915.\u001b[0m\n",
      "\u001b[32m[I 2021-02-16 22:23:54,396]\u001b[0m Trial 656 finished with value: -489.521 and parameters: {'a': 9, 'b': 27, 'stop_loss': 48, 'take_profit': 45}. Best is trial 170 with value: -608.915.\u001b[0m\n"
     ]
    },
    {
     "name": "stdout",
     "output_type": "stream",
     "text": [
      "a: 13, b: 28, score: 217.81\n",
      "a: 9, b: 27, score: 489.52\n"
     ]
    },
    {
     "name": "stderr",
     "output_type": "stream",
     "text": [
      "\u001b[32m[I 2021-02-16 22:23:54,512]\u001b[0m Trial 657 finished with value: -608.915 and parameters: {'a': 9, 'b': 27, 'stop_loss': 41, 'take_profit': 43}. Best is trial 170 with value: -608.915.\u001b[0m\n",
      "\u001b[32m[I 2021-02-16 22:23:54,628]\u001b[0m Trial 658 finished with value: -608.915 and parameters: {'a': 9, 'b': 27, 'stop_loss': 41, 'take_profit': 43}. Best is trial 170 with value: -608.915.\u001b[0m\n"
     ]
    },
    {
     "name": "stdout",
     "output_type": "stream",
     "text": [
      "a: 9, b: 27, score: 608.91\n",
      "a: 9, b: 27, score: 608.91\n"
     ]
    },
    {
     "name": "stderr",
     "output_type": "stream",
     "text": [
      "\u001b[32m[I 2021-02-16 22:23:54,745]\u001b[0m Trial 659 finished with value: -437.897 and parameters: {'a': 9, 'b': 26, 'stop_loss': 40, 'take_profit': 44}. Best is trial 170 with value: -608.915.\u001b[0m\n",
      "\u001b[32m[I 2021-02-16 22:23:54,849]\u001b[0m Trial 660 finished with value: -480.78 and parameters: {'a': 9, 'b': 28, 'stop_loss': 40, 'take_profit': 42}. Best is trial 170 with value: -608.915.\u001b[0m\n"
     ]
    },
    {
     "name": "stdout",
     "output_type": "stream",
     "text": [
      "a: 9, b: 26, score: 437.90\n",
      "a: 9, b: 28, score: 480.78\n"
     ]
    },
    {
     "name": "stderr",
     "output_type": "stream",
     "text": [
      "\u001b[32m[I 2021-02-16 22:23:54,957]\u001b[0m Trial 661 finished with value: -562.13 and parameters: {'a': 9, 'b': 27, 'stop_loss': 44, 'take_profit': 44}. Best is trial 170 with value: -608.915.\u001b[0m\n",
      "\u001b[32m[I 2021-02-16 22:23:55,068]\u001b[0m Trial 662 finished with value: -518.998 and parameters: {'a': 10, 'b': 27, 'stop_loss': 49, 'take_profit': 43}. Best is trial 170 with value: -608.915.\u001b[0m\n",
      "\u001b[32m[I 2021-02-16 22:23:55,178]\u001b[0m Trial 663 finished with value: -352.352 and parameters: {'a': 8, 'b': 27, 'stop_loss': 44, 'take_profit': 41}. Best is trial 170 with value: -608.915.\u001b[0m\n"
     ]
    },
    {
     "name": "stdout",
     "output_type": "stream",
     "text": [
      "a: 9, b: 27, score: 562.13\n",
      "a: 10, b: 27, score: 519.00\n",
      "a: 8, b: 27, score: 352.35\n"
     ]
    },
    {
     "name": "stderr",
     "output_type": "stream",
     "text": [
      "\u001b[32m[I 2021-02-16 22:23:55,288]\u001b[0m Trial 664 finished with value: -608.915 and parameters: {'a': 9, 'b': 27, 'stop_loss': 45, 'take_profit': 43}. Best is trial 170 with value: -608.915.\u001b[0m\n",
      "\u001b[32m[I 2021-02-16 22:23:55,390]\u001b[0m Trial 665 finished with value: -451.514 and parameters: {'a': 9, 'b': 26, 'stop_loss': 41, 'take_profit': 42}. Best is trial 170 with value: -608.915.\u001b[0m\n"
     ]
    },
    {
     "name": "stdout",
     "output_type": "stream",
     "text": [
      "a: 9, b: 27, score: 608.91\n",
      "a: 9, b: 26, score: 451.51\n"
     ]
    },
    {
     "name": "stderr",
     "output_type": "stream",
     "text": [
      "\u001b[32m[I 2021-02-16 22:23:55,500]\u001b[0m Trial 666 finished with value: -608.915 and parameters: {'a': 9, 'b': 27, 'stop_loss': 46, 'take_profit': 43}. Best is trial 170 with value: -608.915.\u001b[0m\n",
      "\u001b[32m[I 2021-02-16 22:23:55,602]\u001b[0m Trial 667 finished with value: -489.521 and parameters: {'a': 9, 'b': 27, 'stop_loss': 50, 'take_profit': 45}. Best is trial 170 with value: -608.915.\u001b[0m\n"
     ]
    },
    {
     "name": "stdout",
     "output_type": "stream",
     "text": [
      "a: 9, b: 27, score: 608.91\n",
      "a: 9, b: 27, score: 489.52\n"
     ]
    },
    {
     "name": "stderr",
     "output_type": "stream",
     "text": [
      "\u001b[32m[I 2021-02-16 22:23:55,716]\u001b[0m Trial 668 finished with value: -608.915 and parameters: {'a': 9, 'b': 27, 'stop_loss': 45, 'take_profit': 43}. Best is trial 170 with value: -608.915.\u001b[0m\n",
      "\u001b[32m[I 2021-02-16 22:23:55,821]\u001b[0m Trial 669 finished with value: -456.464 and parameters: {'a': 10, 'b': 28, 'stop_loss': 40, 'take_profit': 41}. Best is trial 170 with value: -608.915.\u001b[0m\n"
     ]
    },
    {
     "name": "stdout",
     "output_type": "stream",
     "text": [
      "a: 9, b: 27, score: 608.91\n",
      "a: 10, b: 28, score: 456.46\n"
     ]
    },
    {
     "name": "stderr",
     "output_type": "stream",
     "text": [
      "\u001b[32m[I 2021-02-16 22:23:55,933]\u001b[0m Trial 670 finished with value: -562.13 and parameters: {'a': 9, 'b': 27, 'stop_loss': 44, 'take_profit': 44}. Best is trial 170 with value: -608.915.\u001b[0m\n",
      "\u001b[32m[I 2021-02-16 22:23:56,037]\u001b[0m Trial 671 finished with value: -325.525 and parameters: {'a': 9, 'b': 26, 'stop_loss': 43, 'take_profit': 46}. Best is trial 170 with value: -608.915.\u001b[0m\n"
     ]
    },
    {
     "name": "stdout",
     "output_type": "stream",
     "text": [
      "a: 9, b: 27, score: 562.13\n",
      "a: 9, b: 26, score: 325.52\n"
     ]
    },
    {
     "name": "stderr",
     "output_type": "stream",
     "text": [
      "\u001b[32m[I 2021-02-16 22:23:56,148]\u001b[0m Trial 672 finished with value: -576.885 and parameters: {'a': 9, 'b': 27, 'stop_loss': 46, 'take_profit': 42}. Best is trial 170 with value: -608.915.\u001b[0m\n",
      "\u001b[32m[I 2021-02-16 22:23:56,257]\u001b[0m Trial 673 finished with value: -227.653 and parameters: {'a': 8, 'b': 28, 'stop_loss': 42, 'take_profit': 44}. Best is trial 170 with value: -608.915.\u001b[0m\n"
     ]
    },
    {
     "name": "stdout",
     "output_type": "stream",
     "text": [
      "a: 9, b: 27, score: 576.88\n",
      "a: 8, b: 28, score: 227.65\n"
     ]
    },
    {
     "name": "stderr",
     "output_type": "stream",
     "text": [
      "\u001b[32m[I 2021-02-16 22:23:56,362]\u001b[0m Trial 674 finished with value: -562.13 and parameters: {'a': 9, 'b': 27, 'stop_loss': 43, 'take_profit': 44}. Best is trial 170 with value: -608.915.\u001b[0m\n",
      "\u001b[32m[I 2021-02-16 22:23:56,480]\u001b[0m Trial 675 finished with value: -451.514 and parameters: {'a': 9, 'b': 26, 'stop_loss': 43, 'take_profit': 42}. Best is trial 170 with value: -608.915.\u001b[0m\n"
     ]
    },
    {
     "name": "stdout",
     "output_type": "stream",
     "text": [
      "a: 9, b: 27, score: 562.13\n",
      "a: 9, b: 26, score: 451.51\n"
     ]
    },
    {
     "name": "stderr",
     "output_type": "stream",
     "text": [
      "\u001b[32m[I 2021-02-16 22:23:56,590]\u001b[0m Trial 676 finished with value: -608.915 and parameters: {'a': 9, 'b': 27, 'stop_loss': 46, 'take_profit': 43}. Best is trial 170 with value: -608.915.\u001b[0m\n",
      "\u001b[32m[I 2021-02-16 22:23:56,699]\u001b[0m Trial 677 finished with value: -381.583 and parameters: {'a': 9, 'b': 28, 'stop_loss': 46, 'take_profit': 45}. Best is trial 170 with value: -608.915.\u001b[0m\n"
     ]
    },
    {
     "name": "stdout",
     "output_type": "stream",
     "text": [
      "a: 9, b: 27, score: 608.91\n",
      "a: 9, b: 28, score: 381.58\n"
     ]
    },
    {
     "name": "stderr",
     "output_type": "stream",
     "text": [
      "\u001b[32m[I 2021-02-16 22:23:56,807]\u001b[0m Trial 678 finished with value: -608.915 and parameters: {'a': 9, 'b': 27, 'stop_loss': 42, 'take_profit': 43}. Best is trial 170 with value: -608.915.\u001b[0m\n",
      "\u001b[32m[I 2021-02-16 22:23:56,915]\u001b[0m Trial 679 finished with value: -217.887 and parameters: {'a': 8, 'b': 26, 'stop_loss': 39, 'take_profit': 41}. Best is trial 170 with value: -608.915.\u001b[0m\n"
     ]
    },
    {
     "name": "stdout",
     "output_type": "stream",
     "text": [
      "a: 9, b: 27, score: 608.91\n",
      "a: 8, b: 26, score: 217.89\n"
     ]
    },
    {
     "name": "stderr",
     "output_type": "stream",
     "text": [
      "\u001b[32m[I 2021-02-16 22:23:57,018]\u001b[0m Trial 680 finished with value: -336.444 and parameters: {'a': 9, 'b': 27, 'stop_loss': 41, 'take_profit': 25}. Best is trial 170 with value: -608.915.\u001b[0m\n",
      "\u001b[32m[I 2021-02-16 22:23:57,108]\u001b[0m Trial 681 finished with value: -512.825 and parameters: {'a': 9, 'b': 27, 'stop_loss': 45, 'take_profit': 40}. Best is trial 170 with value: -608.915.\u001b[0m\n",
      "\u001b[32m[I 2021-02-16 22:23:57,214]\u001b[0m Trial 682 finished with value: -483.046 and parameters: {'a': 10, 'b': 27, 'stop_loss': 44, 'take_profit': 42}. Best is trial 170 with value: -608.915.\u001b[0m\n"
     ]
    },
    {
     "name": "stdout",
     "output_type": "stream",
     "text": [
      "a: 9, b: 27, score: 336.44\n",
      "a: 9, b: 27, score: 512.83\n",
      "a: 10, b: 27, score: 483.05\n"
     ]
    },
    {
     "name": "stderr",
     "output_type": "stream",
     "text": [
      "\u001b[32m[I 2021-02-16 22:23:57,322]\u001b[0m Trial 683 finished with value: -506.893 and parameters: {'a': 9, 'b': 28, 'stop_loss': 43, 'take_profit': 43}. Best is trial 170 with value: -608.915.\u001b[0m\n",
      "\u001b[32m[I 2021-02-16 22:23:57,430]\u001b[0m Trial 684 finished with value: -562.13 and parameters: {'a': 9, 'b': 27, 'stop_loss': 38, 'take_profit': 44}. Best is trial 170 with value: -608.915.\u001b[0m\n"
     ]
    },
    {
     "name": "stdout",
     "output_type": "stream",
     "text": [
      "a: 9, b: 28, score: 506.89\n",
      "a: 9, b: 27, score: 562.13\n"
     ]
    },
    {
     "name": "stderr",
     "output_type": "stream",
     "text": [
      "\u001b[32m[I 2021-02-16 22:23:57,547]\u001b[0m Trial 685 finished with value: -489.521 and parameters: {'a': 9, 'b': 27, 'stop_loss': 48, 'take_profit': 45}. Best is trial 170 with value: -608.915.\u001b[0m\n",
      "\u001b[32m[I 2021-02-16 22:23:57,659]\u001b[0m Trial 686 finished with value: -576.885 and parameters: {'a': 9, 'b': 27, 'stop_loss': 45, 'take_profit': 42}. Best is trial 170 with value: -608.915.\u001b[0m\n"
     ]
    },
    {
     "name": "stdout",
     "output_type": "stream",
     "text": [
      "a: 9, b: 27, score: 489.52\n",
      "a: 9, b: 27, score: 576.88\n"
     ]
    },
    {
     "name": "stderr",
     "output_type": "stream",
     "text": [
      "\u001b[32m[I 2021-02-16 22:23:57,769]\u001b[0m Trial 687 finished with value: -412.772 and parameters: {'a': 10, 'b': 28, 'stop_loss': 46, 'take_profit': 40}. Best is trial 170 with value: -608.915.\u001b[0m\n",
      "\u001b[32m[I 2021-02-16 22:23:57,871]\u001b[0m Trial 688 finished with value: -562.13 and parameters: {'a': 9, 'b': 27, 'stop_loss': 44, 'take_profit': 44}. Best is trial 170 with value: -608.915.\u001b[0m\n"
     ]
    },
    {
     "name": "stdout",
     "output_type": "stream",
     "text": [
      "a: 10, b: 28, score: 412.77\n",
      "a: 9, b: 27, score: 562.13\n"
     ]
    },
    {
     "name": "stderr",
     "output_type": "stream",
     "text": [
      "\u001b[32m[I 2021-02-16 22:23:57,987]\u001b[0m Trial 689 finished with value: -481.082 and parameters: {'a': 9, 'b': 26, 'stop_loss': 48, 'take_profit': 43}. Best is trial 170 with value: -608.915.\u001b[0m\n",
      "\u001b[32m[I 2021-02-16 22:23:58,101]\u001b[0m Trial 690 finished with value: -608.915 and parameters: {'a': 9, 'b': 27, 'stop_loss': 43, 'take_profit': 43}. Best is trial 170 with value: -608.915.\u001b[0m\n"
     ]
    },
    {
     "name": "stdout",
     "output_type": "stream",
     "text": [
      "a: 9, b: 26, score: 481.08\n",
      "a: 9, b: 27, score: 608.91\n"
     ]
    },
    {
     "name": "stderr",
     "output_type": "stream",
     "text": [
      "\u001b[32m[I 2021-02-16 22:23:58,219]\u001b[0m Trial 691 finished with value: 51.896 and parameters: {'a': 9, 'b': 23, 'stop_loss': 42, 'take_profit': 18}. Best is trial 170 with value: -608.915.\u001b[0m\n",
      "\u001b[32m[I 2021-02-16 22:23:58,328]\u001b[0m Trial 692 finished with value: -381.921 and parameters: {'a': 8, 'b': 27, 'stop_loss': 41, 'take_profit': 42}. Best is trial 170 with value: -608.915.\u001b[0m\n"
     ]
    },
    {
     "name": "stdout",
     "output_type": "stream",
     "text": [
      "a: 9, b: 23, score: -51.90\n",
      "a: 8, b: 27, score: 381.92\n"
     ]
    },
    {
     "name": "stderr",
     "output_type": "stream",
     "text": [
      "\u001b[32m[I 2021-02-16 22:23:58,441]\u001b[0m Trial 693 finished with value: -544.856 and parameters: {'a': 9, 'b': 27, 'stop_loss': 43, 'take_profit': 41}. Best is trial 170 with value: -608.915.\u001b[0m\n",
      "\u001b[32m[I 2021-02-16 22:23:58,553]\u001b[0m Trial 694 finished with value: -469.971 and parameters: {'a': 9, 'b': 28, 'stop_loss': 38, 'take_profit': 44}. Best is trial 170 with value: -608.915.\u001b[0m\n"
     ]
    },
    {
     "name": "stdout",
     "output_type": "stream",
     "text": [
      "a: 9, b: 27, score: 544.86\n",
      "a: 9, b: 28, score: 469.97\n"
     ]
    },
    {
     "name": "stderr",
     "output_type": "stream",
     "text": [
      "\u001b[32m[I 2021-02-16 22:23:58,691]\u001b[0m Trial 695 finished with value: -481.082 and parameters: {'a': 9, 'b': 26, 'stop_loss': 42, 'take_profit': 43}. Best is trial 170 with value: -608.915.\u001b[0m\n",
      "\u001b[32m[I 2021-02-16 22:23:58,809]\u001b[0m Trial 696 finished with value: -447.659 and parameters: {'a': 9, 'b': 27, 'stop_loss': 47, 'take_profit': 49}. Best is trial 170 with value: -608.915.\u001b[0m\n"
     ]
    },
    {
     "name": "stdout",
     "output_type": "stream",
     "text": [
      "a: 9, b: 26, score: 481.08\n",
      "a: 9, b: 27, score: 447.66\n"
     ]
    },
    {
     "name": "stderr",
     "output_type": "stream",
     "text": [
      "\u001b[32m[I 2021-02-16 22:23:58,931]\u001b[0m Trial 697 finished with value: 55.95 and parameters: {'a': 15, 'b': 27, 'stop_loss': 44, 'take_profit': 45}. Best is trial 170 with value: -608.915.\u001b[0m\n",
      "\u001b[32m[I 2021-02-16 22:23:59,033]\u001b[0m Trial 698 finished with value: -515.053 and parameters: {'a': 10, 'b': 27, 'stop_loss': 43, 'take_profit': 43}. Best is trial 170 with value: -608.915.\u001b[0m\n"
     ]
    },
    {
     "name": "stdout",
     "output_type": "stream",
     "text": [
      "a: 15, b: 27, score: -55.95\n",
      "a: 10, b: 27, score: 515.05\n"
     ]
    },
    {
     "name": "stderr",
     "output_type": "stream",
     "text": [
      "\u001b[32m[I 2021-02-16 22:23:59,153]\u001b[0m Trial 699 finished with value: -451.514 and parameters: {'a': 9, 'b': 26, 'stop_loss': 45, 'take_profit': 42}. Best is trial 170 with value: -608.915.\u001b[0m\n",
      "\u001b[32m[I 2021-02-16 22:23:59,256]\u001b[0m Trial 700 finished with value: -355.929 and parameters: {'a': 8, 'b': 27, 'stop_loss': 15, 'take_profit': 44}. Best is trial 170 with value: -608.915.\u001b[0m\n"
     ]
    },
    {
     "name": "stdout",
     "output_type": "stream",
     "text": [
      "a: 9, b: 26, score: 451.51\n",
      "a: 8, b: 27, score: 355.93\n"
     ]
    },
    {
     "name": "stderr",
     "output_type": "stream",
     "text": [
      "\u001b[32m[I 2021-02-16 22:23:59,365]\u001b[0m Trial 701 finished with value: -284.594 and parameters: {'a': 9, 'b': 24, 'stop_loss': 44, 'take_profit': 43}. Best is trial 170 with value: -608.915.\u001b[0m\n",
      "\u001b[32m[I 2021-02-16 22:23:59,471]\u001b[0m Trial 702 finished with value: -484.725 and parameters: {'a': 9, 'b': 28, 'stop_loss': 38, 'take_profit': 42}. Best is trial 170 with value: -608.915.\u001b[0m\n"
     ]
    },
    {
     "name": "stdout",
     "output_type": "stream",
     "text": [
      "a: 9, b: 24, score: 284.59\n",
      "a: 9, b: 28, score: 484.73\n"
     ]
    },
    {
     "name": "stderr",
     "output_type": "stream",
     "text": [
      "\u001b[32m[I 2021-02-16 22:23:59,581]\u001b[0m Trial 703 finished with value: -487.068 and parameters: {'a': 9, 'b': 27, 'stop_loss': 44, 'take_profit': 46}. Best is trial 170 with value: -608.915.\u001b[0m\n",
      "\u001b[32m[I 2021-02-16 22:23:59,686]\u001b[0m Trial 704 finished with value: -101.727 and parameters: {'a': 8, 'b': 26, 'stop_loss': 45, 'take_profit': 45}. Best is trial 170 with value: -608.915.\u001b[0m\n"
     ]
    },
    {
     "name": "stdout",
     "output_type": "stream",
     "text": [
      "a: 9, b: 27, score: 487.07\n",
      "a: 8, b: 26, score: 101.73\n"
     ]
    },
    {
     "name": "stderr",
     "output_type": "stream",
     "text": [
      "\u001b[32m[I 2021-02-16 22:23:59,797]\u001b[0m Trial 705 finished with value: -544.856 and parameters: {'a': 9, 'b': 27, 'stop_loss': 42, 'take_profit': 41}. Best is trial 170 with value: -608.915.\u001b[0m\n",
      "\u001b[32m[I 2021-02-16 22:23:59,910]\u001b[0m Trial 706 finished with value: -423.664 and parameters: {'a': 9, 'b': 27, 'stop_loss': 42, 'take_profit': 48}. Best is trial 170 with value: -608.915.\u001b[0m\n"
     ]
    },
    {
     "name": "stdout",
     "output_type": "stream",
     "text": [
      "a: 9, b: 27, score: 544.86\n",
      "a: 9, b: 27, score: 423.66\n"
     ]
    },
    {
     "name": "stderr",
     "output_type": "stream",
     "text": [
      "\u001b[32m[I 2021-02-16 22:24:00,031]\u001b[0m Trial 707 finished with value: 10.453 and parameters: {'a': 9, 'b': 17, 'stop_loss': 41, 'take_profit': 42}. Best is trial 170 with value: -608.915.\u001b[0m\n",
      "\u001b[32m[I 2021-02-16 22:24:00,133]\u001b[0m Trial 708 finished with value: -562.13 and parameters: {'a': 9, 'b': 27, 'stop_loss': 37, 'take_profit': 44}. Best is trial 170 with value: -608.915.\u001b[0m\n"
     ]
    },
    {
     "name": "stdout",
     "output_type": "stream",
     "text": [
      "a: 9, b: 17, score: -10.45\n",
      "a: 9, b: 27, score: 562.13\n"
     ]
    },
    {
     "name": "stderr",
     "output_type": "stream",
     "text": [
      "\u001b[32m[I 2021-02-16 22:24:00,272]\u001b[0m Trial 709 finished with value: -513.08 and parameters: {'a': 10, 'b': 27, 'stop_loss': 44, 'take_profit': 43}. Best is trial 170 with value: -608.915.\u001b[0m\n",
      "\u001b[32m[I 2021-02-16 22:24:00,448]\u001b[0m Trial 710 finished with value: -458.137 and parameters: {'a': 9, 'b': 28, 'stop_loss': 44, 'take_profit': 44}. Best is trial 170 with value: -608.915.\u001b[0m\n"
     ]
    },
    {
     "name": "stdout",
     "output_type": "stream",
     "text": [
      "a: 10, b: 27, score: 513.08\n",
      "a: 9, b: 28, score: 458.14\n"
     ]
    },
    {
     "name": "stderr",
     "output_type": "stream",
     "text": [
      "\u001b[32m[I 2021-02-16 22:24:00,625]\u001b[0m Trial 711 finished with value: -576.885 and parameters: {'a': 9, 'b': 27, 'stop_loss': 47, 'take_profit': 42}. Best is trial 170 with value: -608.915.\u001b[0m\n",
      "\u001b[32m[I 2021-02-16 22:24:00,782]\u001b[0m Trial 712 finished with value: -608.915 and parameters: {'a': 9, 'b': 27, 'stop_loss': 47, 'take_profit': 43}. Best is trial 170 with value: -608.915.\u001b[0m\n"
     ]
    },
    {
     "name": "stdout",
     "output_type": "stream",
     "text": [
      "a: 9, b: 27, score: 576.88\n",
      "a: 9, b: 27, score: 608.91\n"
     ]
    },
    {
     "name": "stderr",
     "output_type": "stream",
     "text": [
      "\u001b[32m[I 2021-02-16 22:24:00,956]\u001b[0m Trial 713 finished with value: -499.004 and parameters: {'a': 9, 'b': 28, 'stop_loss': 47, 'take_profit': 43}. Best is trial 170 with value: -608.915.\u001b[0m\n",
      "\u001b[32m[I 2021-02-16 22:24:01,128]\u001b[0m Trial 714 finished with value: -437.897 and parameters: {'a': 9, 'b': 26, 'stop_loss': 43, 'take_profit': 44}. Best is trial 170 with value: -608.915.\u001b[0m\n"
     ]
    },
    {
     "name": "stdout",
     "output_type": "stream",
     "text": [
      "a: 9, b: 28, score: 499.00\n",
      "a: 9, b: 26, score: 437.90\n"
     ]
    },
    {
     "name": "stderr",
     "output_type": "stream",
     "text": [
      "\u001b[32m[I 2021-02-16 22:24:01,221]\u001b[0m Trial 715 finished with value: -544.856 and parameters: {'a': 9, 'b': 27, 'stop_loss': 42, 'take_profit': 41}. Best is trial 170 with value: -608.915.\u001b[0m\n",
      "\u001b[32m[I 2021-02-16 22:24:01,325]\u001b[0m Trial 716 finished with value: -488.963 and parameters: {'a': 10, 'b': 27, 'stop_loss': 49, 'take_profit': 42}. Best is trial 170 with value: -608.915.\u001b[0m\n"
     ]
    },
    {
     "name": "stdout",
     "output_type": "stream",
     "text": [
      "a: 9, b: 27, score: 544.86\n",
      "a: 10, b: 27, score: 488.96\n"
     ]
    },
    {
     "name": "stderr",
     "output_type": "stream",
     "text": [
      "\u001b[32m[I 2021-02-16 22:24:01,434]\u001b[0m Trial 717 finished with value: -100.787 and parameters: {'a': 8, 'b': 28, 'stop_loss': 46, 'take_profit': 27}. Best is trial 170 with value: -608.915.\u001b[0m\n",
      "\u001b[32m[I 2021-02-16 22:24:01,557]\u001b[0m Trial 718 finished with value: -333.699 and parameters: {'a': 9, 'b': 26, 'stop_loss': 46, 'take_profit': 45}. Best is trial 170 with value: -608.915.\u001b[0m\n"
     ]
    },
    {
     "name": "stdout",
     "output_type": "stream",
     "text": [
      "a: 8, b: 28, score: 100.79\n",
      "a: 9, b: 26, score: 333.70\n"
     ]
    },
    {
     "name": "stderr",
     "output_type": "stream",
     "text": [
      "\u001b[32m[I 2021-02-16 22:24:01,664]\u001b[0m Trial 719 finished with value: -608.915 and parameters: {'a': 9, 'b': 27, 'stop_loss': 42, 'take_profit': 43}. Best is trial 170 with value: -608.915.\u001b[0m\n",
      "\u001b[32m[I 2021-02-16 22:24:01,785]\u001b[0m Trial 720 finished with value: -480.795 and parameters: {'a': 9, 'b': 27, 'stop_loss': 46, 'take_profit': 39}. Best is trial 170 with value: -608.915.\u001b[0m\n"
     ]
    },
    {
     "name": "stdout",
     "output_type": "stream",
     "text": [
      "a: 9, b: 27, score: 608.91\n",
      "a: 9, b: 27, score: 480.80\n"
     ]
    },
    {
     "name": "stderr",
     "output_type": "stream",
     "text": [
      "\u001b[32m[I 2021-02-16 22:24:01,930]\u001b[0m Trial 721 finished with value: -576.885 and parameters: {'a': 9, 'b': 27, 'stop_loss': 43, 'take_profit': 42}. Best is trial 170 with value: -608.915.\u001b[0m\n",
      "\u001b[32m[I 2021-02-16 22:24:02,059]\u001b[0m Trial 722 finished with value: -562.13 and parameters: {'a': 9, 'b': 27, 'stop_loss': 44, 'take_profit': 44}. Best is trial 170 with value: -608.915.\u001b[0m\n"
     ]
    },
    {
     "name": "stdout",
     "output_type": "stream",
     "text": [
      "a: 9, b: 27, score: 576.88\n",
      "a: 9, b: 27, score: 562.13\n"
     ]
    },
    {
     "name": "stderr",
     "output_type": "stream",
     "text": [
      "\u001b[32m[I 2021-02-16 22:24:02,175]\u001b[0m Trial 723 finished with value: -421.948 and parameters: {'a': 9, 'b': 26, 'stop_loss': 41, 'take_profit': 41}. Best is trial 170 with value: -608.915.\u001b[0m\n",
      "\u001b[32m[I 2021-02-16 22:24:02,286]\u001b[0m Trial 724 finished with value: -391.092 and parameters: {'a': 9, 'b': 25, 'stop_loss': 42, 'take_profit': 47}. Best is trial 170 with value: -608.915.\u001b[0m\n"
     ]
    },
    {
     "name": "stdout",
     "output_type": "stream",
     "text": [
      "a: 9, b: 26, score: 421.95\n",
      "a: 9, b: 25, score: 391.09\n"
     ]
    },
    {
     "name": "stderr",
     "output_type": "stream",
     "text": [
      "\u001b[32m[I 2021-02-16 22:24:02,405]\u001b[0m Trial 725 finished with value: -324.451 and parameters: {'a': 8, 'b': 30, 'stop_loss': 41, 'take_profit': 43}. Best is trial 170 with value: -608.915.\u001b[0m\n",
      "\u001b[32m[I 2021-02-16 22:24:02,518]\u001b[0m Trial 726 finished with value: -489.99 and parameters: {'a': 10, 'b': 27, 'stop_loss': 46, 'take_profit': 45}. Best is trial 170 with value: -608.915.\u001b[0m\n"
     ]
    },
    {
     "name": "stdout",
     "output_type": "stream",
     "text": [
      "a: 8, b: 30, score: 324.45\n",
      "a: 10, b: 27, score: 489.99\n"
     ]
    },
    {
     "name": "stderr",
     "output_type": "stream",
     "text": [
      "\u001b[32m[I 2021-02-16 22:24:02,644]\u001b[0m Trial 727 finished with value: -506.893 and parameters: {'a': 9, 'b': 28, 'stop_loss': 43, 'take_profit': 43}. Best is trial 170 with value: -608.915.\u001b[0m\n",
      "\u001b[32m[I 2021-02-16 22:24:02,767]\u001b[0m Trial 728 finished with value: -562.13 and parameters: {'a': 9, 'b': 27, 'stop_loss': 45, 'take_profit': 44}. Best is trial 170 with value: -608.915.\u001b[0m\n"
     ]
    },
    {
     "name": "stdout",
     "output_type": "stream",
     "text": [
      "a: 9, b: 28, score: 506.89\n",
      "a: 9, b: 27, score: 562.13\n"
     ]
    },
    {
     "name": "stderr",
     "output_type": "stream",
     "text": [
      "\u001b[32m[I 2021-02-16 22:24:02,885]\u001b[0m Trial 729 finished with value: -576.885 and parameters: {'a': 9, 'b': 27, 'stop_loss': 47, 'take_profit': 42}. Best is trial 170 with value: -608.915.\u001b[0m\n",
      "\u001b[32m[I 2021-02-16 22:24:03,012]\u001b[0m Trial 730 finished with value: -458.137 and parameters: {'a': 9, 'b': 28, 'stop_loss': 44, 'take_profit': 44}. Best is trial 170 with value: -608.915.\u001b[0m\n"
     ]
    },
    {
     "name": "stdout",
     "output_type": "stream",
     "text": [
      "a: 9, b: 27, score: 576.88\n",
      "a: 9, b: 28, score: 458.14\n"
     ]
    },
    {
     "name": "stderr",
     "output_type": "stream",
     "text": [
      "\u001b[32m[I 2021-02-16 22:24:03,129]\u001b[0m Trial 731 finished with value: -392.38 and parameters: {'a': 9, 'b': 26, 'stop_loss': 43, 'take_profit': 40}. Best is trial 170 with value: -608.915.\u001b[0m\n",
      "\u001b[32m[I 2021-02-16 22:24:03,243]\u001b[0m Trial 732 finished with value: -460.902 and parameters: {'a': 10, 'b': 27, 'stop_loss': 40, 'take_profit': 41}. Best is trial 170 with value: -608.915.\u001b[0m\n"
     ]
    },
    {
     "name": "stdout",
     "output_type": "stream",
     "text": [
      "a: 9, b: 26, score: 392.38\n",
      "a: 10, b: 27, score: 460.90\n"
     ]
    },
    {
     "name": "stderr",
     "output_type": "stream",
     "text": [
      "\u001b[32m[I 2021-02-16 22:24:03,358]\u001b[0m Trial 733 finished with value: -608.915 and parameters: {'a': 9, 'b': 27, 'stop_loss': 47, 'take_profit': 43}. Best is trial 170 with value: -608.915.\u001b[0m\n",
      "\u001b[32m[I 2021-02-16 22:24:03,477]\u001b[0m Trial 734 finished with value: -451.514 and parameters: {'a': 9, 'b': 26, 'stop_loss': 37, 'take_profit': 42}. Best is trial 170 with value: -608.915.\u001b[0m\n"
     ]
    },
    {
     "name": "stdout",
     "output_type": "stream",
     "text": [
      "a: 9, b: 27, score: 608.91\n",
      "a: 9, b: 26, score: 451.51\n"
     ]
    },
    {
     "name": "stderr",
     "output_type": "stream",
     "text": [
      "\u001b[32m[I 2021-02-16 22:24:03,595]\u001b[0m Trial 735 finished with value: -608.915 and parameters: {'a': 9, 'b': 27, 'stop_loss': 41, 'take_profit': 43}. Best is trial 170 with value: -608.915.\u001b[0m\n",
      "\u001b[32m[I 2021-02-16 22:24:03,713]\u001b[0m Trial 736 finished with value: -459.715 and parameters: {'a': 9, 'b': 28, 'stop_loss': 48, 'take_profit': 44}. Best is trial 170 with value: -608.915.\u001b[0m\n"
     ]
    },
    {
     "name": "stdout",
     "output_type": "stream",
     "text": [
      "a: 9, b: 27, score: 608.91\n",
      "a: 9, b: 28, score: 459.71\n"
     ]
    },
    {
     "name": "stderr",
     "output_type": "stream",
     "text": [
      "\u001b[32m[I 2021-02-16 22:24:03,832]\u001b[0m Trial 737 finished with value: -381.921 and parameters: {'a': 8, 'b': 27, 'stop_loss': 42, 'take_profit': 42}. Best is trial 170 with value: -608.915.\u001b[0m\n",
      "\u001b[32m[I 2021-02-16 22:24:03,945]\u001b[0m Trial 738 finished with value: -608.915 and parameters: {'a': 9, 'b': 27, 'stop_loss': 46, 'take_profit': 43}. Best is trial 170 with value: -608.915.\u001b[0m\n"
     ]
    },
    {
     "name": "stdout",
     "output_type": "stream",
     "text": [
      "a: 8, b: 27, score: 381.92\n",
      "a: 9, b: 27, score: 608.91\n"
     ]
    },
    {
     "name": "stderr",
     "output_type": "stream",
     "text": [
      "\u001b[32m[I 2021-02-16 22:24:04,067]\u001b[0m Trial 739 finished with value: -489.521 and parameters: {'a': 9, 'b': 27, 'stop_loss': 45, 'take_profit': 45}. Best is trial 170 with value: -608.915.\u001b[0m\n",
      "\u001b[32m[I 2021-02-16 22:24:04,175]\u001b[0m Trial 740 finished with value: -325.525 and parameters: {'a': 9, 'b': 26, 'stop_loss': 39, 'take_profit': 46}. Best is trial 170 with value: -608.915.\u001b[0m\n"
     ]
    },
    {
     "name": "stdout",
     "output_type": "stream",
     "text": [
      "a: 9, b: 27, score: 489.52\n",
      "a: 9, b: 26, score: 325.52\n"
     ]
    },
    {
     "name": "stderr",
     "output_type": "stream",
     "text": [
      "\u001b[32m[I 2021-02-16 22:24:04,290]\u001b[0m Trial 741 finished with value: -473.79 and parameters: {'a': 10, 'b': 27, 'stop_loss': 40, 'take_profit': 44}. Best is trial 170 with value: -608.915.\u001b[0m\n",
      "\u001b[32m[I 2021-02-16 22:24:04,403]\u001b[0m Trial 742 finished with value: -608.915 and parameters: {'a': 9, 'b': 27, 'stop_loss': 45, 'take_profit': 43}. Best is trial 170 with value: -608.915.\u001b[0m\n"
     ]
    },
    {
     "name": "stdout",
     "output_type": "stream",
     "text": [
      "a: 10, b: 27, score: 473.79\n",
      "a: 9, b: 27, score: 608.91\n"
     ]
    },
    {
     "name": "stderr",
     "output_type": "stream",
     "text": [
      "\u001b[32m[I 2021-02-16 22:24:04,522]\u001b[0m Trial 743 finished with value: -592.656 and parameters: {'a': 9, 'b': 27, 'stop_loss': 30, 'take_profit': 43}. Best is trial 170 with value: -608.915.\u001b[0m\n",
      "\u001b[32m[I 2021-02-16 22:24:04,630]\u001b[0m Trial 744 finished with value: -352.352 and parameters: {'a': 8, 'b': 27, 'stop_loss': 43, 'take_profit': 41}. Best is trial 170 with value: -608.915.\u001b[0m\n"
     ]
    },
    {
     "name": "stdout",
     "output_type": "stream",
     "text": [
      "a: 9, b: 27, score: 592.66\n",
      "a: 8, b: 27, score: 352.35\n"
     ]
    },
    {
     "name": "stderr",
     "output_type": "stream",
     "text": [
      "\u001b[32m[I 2021-02-16 22:24:04,751]\u001b[0m Trial 745 finished with value: -480.78 and parameters: {'a': 9, 'b': 28, 'stop_loss': 40, 'take_profit': 42}. Best is trial 170 with value: -608.915.\u001b[0m\n",
      "\u001b[32m[I 2021-02-16 22:24:04,860]\u001b[0m Trial 746 finished with value: -562.13 and parameters: {'a': 9, 'b': 27, 'stop_loss': 42, 'take_profit': 44}. Best is trial 170 with value: -608.915.\u001b[0m\n"
     ]
    },
    {
     "name": "stdout",
     "output_type": "stream",
     "text": [
      "a: 9, b: 28, score: 480.78\n",
      "a: 9, b: 27, score: 562.13\n"
     ]
    },
    {
     "name": "stderr",
     "output_type": "stream",
     "text": [
      "\u001b[32m[I 2021-02-16 22:24:04,976]\u001b[0m Trial 747 finished with value: -576.885 and parameters: {'a': 9, 'b': 27, 'stop_loss': 43, 'take_profit': 42}. Best is trial 170 with value: -608.915.\u001b[0m\n",
      "\u001b[32m[I 2021-02-16 22:24:05,088]\u001b[0m Trial 748 finished with value: -333.699 and parameters: {'a': 9, 'b': 26, 'stop_loss': 44, 'take_profit': 45}. Best is trial 170 with value: -608.915.\u001b[0m\n"
     ]
    },
    {
     "name": "stdout",
     "output_type": "stream",
     "text": [
      "a: 9, b: 27, score: 576.88\n",
      "a: 9, b: 26, score: 333.70\n"
     ]
    },
    {
     "name": "stderr",
     "output_type": "stream",
     "text": [
      "\u001b[32m[I 2021-02-16 22:24:05,200]\u001b[0m Trial 749 finished with value: -458.523 and parameters: {'a': 10, 'b': 28, 'stop_loss': 39, 'take_profit': 41}. Best is trial 170 with value: -608.915.\u001b[0m\n",
      "\u001b[32m[I 2021-02-16 22:24:05,315]\u001b[0m Trial 750 finished with value: -608.915 and parameters: {'a': 9, 'b': 27, 'stop_loss': 45, 'take_profit': 43}. Best is trial 170 with value: -608.915.\u001b[0m\n"
     ]
    },
    {
     "name": "stdout",
     "output_type": "stream",
     "text": [
      "a: 10, b: 28, score: 458.52\n",
      "a: 9, b: 27, score: 608.91\n"
     ]
    },
    {
     "name": "stderr",
     "output_type": "stream",
     "text": [
      "\u001b[32m[I 2021-02-16 22:24:05,428]\u001b[0m Trial 751 finished with value: -608.915 and parameters: {'a': 9, 'b': 27, 'stop_loss': 42, 'take_profit': 43}. Best is trial 170 with value: -608.915.\u001b[0m\n",
      "\u001b[32m[I 2021-02-16 22:24:05,538]\u001b[0m Trial 752 finished with value: -562.13 and parameters: {'a': 9, 'b': 27, 'stop_loss': 42, 'take_profit': 44}. Best is trial 170 with value: -608.915.\u001b[0m\n"
     ]
    },
    {
     "name": "stdout",
     "output_type": "stream",
     "text": [
      "a: 9, b: 27, score: 608.91\n",
      "a: 9, b: 27, score: 562.13\n"
     ]
    },
    {
     "name": "stderr",
     "output_type": "stream",
     "text": [
      "\u001b[32m[I 2021-02-16 22:24:05,657]\u001b[0m Trial 753 finished with value: -347.955 and parameters: {'a': 8, 'b': 28, 'stop_loss': 44, 'take_profit': 42}. Best is trial 170 with value: -608.915.\u001b[0m\n",
      "\u001b[32m[I 2021-02-16 22:24:05,764]\u001b[0m Trial 754 finished with value: -437.897 and parameters: {'a': 9, 'b': 26, 'stop_loss': 41, 'take_profit': 44}. Best is trial 170 with value: -608.915.\u001b[0m\n"
     ]
    },
    {
     "name": "stdout",
     "output_type": "stream",
     "text": [
      "a: 8, b: 28, score: 347.95\n",
      "a: 9, b: 26, score: 437.90\n"
     ]
    },
    {
     "name": "stderr",
     "output_type": "stream",
     "text": [
      "\u001b[32m[I 2021-02-16 22:24:05,875]\u001b[0m Trial 755 finished with value: -608.915 and parameters: {'a': 9, 'b': 27, 'stop_loss': 45, 'take_profit': 43}. Best is trial 170 with value: -608.915.\u001b[0m\n",
      "\u001b[32m[I 2021-02-16 22:24:05,988]\u001b[0m Trial 756 finished with value: -130.129 and parameters: {'a': 8, 'b': 20, 'stop_loss': 46, 'take_profit': 42}. Best is trial 170 with value: -608.915.\u001b[0m\n"
     ]
    },
    {
     "name": "stdout",
     "output_type": "stream",
     "text": [
      "a: 9, b: 27, score: 608.91\n",
      "a: 8, b: 20, score: 130.13\n"
     ]
    },
    {
     "name": "stderr",
     "output_type": "stream",
     "text": [
      "\u001b[32m[I 2021-02-16 22:24:06,098]\u001b[0m Trial 757 finished with value: 56.566 and parameters: {'a': 12, 'b': 27, 'stop_loss': 40, 'take_profit': 30}. Best is trial 170 with value: -608.915.\u001b[0m\n",
      "\u001b[32m[I 2021-02-16 22:24:06,213]\u001b[0m Trial 758 finished with value: -333.699 and parameters: {'a': 9, 'b': 26, 'stop_loss': 42, 'take_profit': 45}. Best is trial 170 with value: -608.915.\u001b[0m\n"
     ]
    },
    {
     "name": "stdout",
     "output_type": "stream",
     "text": [
      "a: 12, b: 27, score: -56.57\n",
      "a: 9, b: 26, score: 333.70\n"
     ]
    },
    {
     "name": "stderr",
     "output_type": "stream",
     "text": [
      "\u001b[32m[I 2021-02-16 22:24:06,350]\u001b[0m Trial 759 finished with value: -562.13 and parameters: {'a': 9, 'b': 27, 'stop_loss': 45, 'take_profit': 44}. Best is trial 170 with value: -608.915.\u001b[0m\n",
      "\u001b[32m[I 2021-02-16 22:24:06,479]\u001b[0m Trial 760 finished with value: -512.825 and parameters: {'a': 9, 'b': 27, 'stop_loss': 43, 'take_profit': 40}. Best is trial 170 with value: -608.915.\u001b[0m\n"
     ]
    },
    {
     "name": "stdout",
     "output_type": "stream",
     "text": [
      "a: 9, b: 27, score: 562.13\n",
      "a: 9, b: 27, score: 512.83\n"
     ]
    },
    {
     "name": "stderr",
     "output_type": "stream",
     "text": [
      "\u001b[32m[I 2021-02-16 22:24:06,619]\u001b[0m Trial 761 finished with value: -608.915 and parameters: {'a': 9, 'b': 27, 'stop_loss': 42, 'take_profit': 43}. Best is trial 170 with value: -608.915.\u001b[0m\n",
      "\u001b[32m[I 2021-02-16 22:24:06,753]\u001b[0m Trial 762 finished with value: -221.957 and parameters: {'a': 10, 'b': 27, 'stop_loss': 43, 'take_profit': 33}. Best is trial 170 with value: -608.915.\u001b[0m\n"
     ]
    },
    {
     "name": "stdout",
     "output_type": "stream",
     "text": [
      "a: 9, b: 27, score: 608.91\n",
      "a: 10, b: 27, score: 221.96\n"
     ]
    },
    {
     "name": "stderr",
     "output_type": "stream",
     "text": [
      "\u001b[32m[I 2021-02-16 22:24:06,886]\u001b[0m Trial 763 finished with value: -123.716 and parameters: {'a': 5, 'b': 28, 'stop_loss': 41, 'take_profit': 41}. Best is trial 170 with value: -608.915.\u001b[0m\n",
      "\u001b[32m[I 2021-02-16 22:24:07,045]\u001b[0m Trial 764 finished with value: -466.973 and parameters: {'a': 9, 'b': 28, 'stop_loss': 47, 'take_profit': 42}. Best is trial 170 with value: -608.915.\u001b[0m\n"
     ]
    },
    {
     "name": "stdout",
     "output_type": "stream",
     "text": [
      "a: 5, b: 28, score: 123.72\n",
      "a: 9, b: 28, score: 466.97\n"
     ]
    },
    {
     "name": "stderr",
     "output_type": "stream",
     "text": [
      "\u001b[32m[I 2021-02-16 22:24:07,195]\u001b[0m Trial 765 finished with value: -608.915 and parameters: {'a': 9, 'b': 27, 'stop_loss': 44, 'take_profit': 43}. Best is trial 170 with value: -608.915.\u001b[0m\n",
      "\u001b[32m[I 2021-02-16 22:24:07,321]\u001b[0m Trial 766 finished with value: -339.534 and parameters: {'a': 9, 'b': 26, 'stop_loss': 28, 'take_profit': 46}. Best is trial 170 with value: -608.915.\u001b[0m\n"
     ]
    },
    {
     "name": "stdout",
     "output_type": "stream",
     "text": [
      "a: 9, b: 27, score: 608.91\n",
      "a: 9, b: 26, score: 339.53\n"
     ]
    },
    {
     "name": "stderr",
     "output_type": "stream",
     "text": [
      "\u001b[32m[I 2021-02-16 22:24:07,434]\u001b[0m Trial 767 finished with value: -489.521 and parameters: {'a': 9, 'b': 27, 'stop_loss': 50, 'take_profit': 45}. Best is trial 170 with value: -608.915.\u001b[0m\n",
      "\u001b[32m[I 2021-02-16 22:24:07,545]\u001b[0m Trial 768 finished with value: -608.915 and parameters: {'a': 9, 'b': 27, 'stop_loss': 46, 'take_profit': 43}. Best is trial 170 with value: -608.915.\u001b[0m\n"
     ]
    },
    {
     "name": "stdout",
     "output_type": "stream",
     "text": [
      "a: 9, b: 27, score: 489.52\n",
      "a: 9, b: 27, score: 608.91\n"
     ]
    },
    {
     "name": "stderr",
     "output_type": "stream",
     "text": [
      "\u001b[32m[I 2021-02-16 22:24:07,667]\u001b[0m Trial 769 finished with value: -196.808 and parameters: {'a': 8, 'b': 26, 'stop_loss': 48, 'take_profit': 44}. Best is trial 170 with value: -608.915.\u001b[0m\n",
      "\u001b[32m[I 2021-02-16 22:24:07,779]\u001b[0m Trial 770 finished with value: -481.22 and parameters: {'a': 10, 'b': 28, 'stop_loss': 49, 'take_profit': 42}. Best is trial 170 with value: -608.915.\u001b[0m\n"
     ]
    },
    {
     "name": "stdout",
     "output_type": "stream",
     "text": [
      "a: 8, b: 26, score: 196.81\n",
      "a: 10, b: 28, score: 481.22\n"
     ]
    },
    {
     "name": "stderr",
     "output_type": "stream",
     "text": [
      "\u001b[32m[I 2021-02-16 22:24:07,888]\u001b[0m Trial 771 finished with value: -562.13 and parameters: {'a': 9, 'b': 27, 'stop_loss': 43, 'take_profit': 44}. Best is trial 170 with value: -608.915.\u001b[0m\n",
      "\u001b[32m[I 2021-02-16 22:24:08,003]\u001b[0m Trial 772 finished with value: -576.885 and parameters: {'a': 9, 'b': 27, 'stop_loss': 45, 'take_profit': 42}. Best is trial 170 with value: -608.915.\u001b[0m\n"
     ]
    },
    {
     "name": "stdout",
     "output_type": "stream",
     "text": [
      "a: 9, b: 27, score: 562.13\n",
      "a: 9, b: 27, score: 576.88\n"
     ]
    },
    {
     "name": "stderr",
     "output_type": "stream",
     "text": [
      "\u001b[32m[I 2021-02-16 22:24:08,115]\u001b[0m Trial 773 finished with value: -544.856 and parameters: {'a': 9, 'b': 27, 'stop_loss': 48, 'take_profit': 41}. Best is trial 170 with value: -608.915.\u001b[0m\n",
      "\u001b[32m[I 2021-02-16 22:24:08,224]\u001b[0m Trial 774 finished with value: -608.915 and parameters: {'a': 9, 'b': 27, 'stop_loss': 44, 'take_profit': 43}. Best is trial 170 with value: -608.915.\u001b[0m\n"
     ]
    },
    {
     "name": "stdout",
     "output_type": "stream",
     "text": [
      "a: 9, b: 27, score: 544.86\n",
      "a: 9, b: 27, score: 608.91\n"
     ]
    },
    {
     "name": "stderr",
     "output_type": "stream",
     "text": [
      "\u001b[32m[I 2021-02-16 22:24:08,346]\u001b[0m Trial 775 finished with value: -395.39 and parameters: {'a': 9, 'b': 28, 'stop_loss': 39, 'take_profit': 45}. Best is trial 170 with value: -608.915.\u001b[0m\n",
      "\u001b[32m[I 2021-02-16 22:24:08,468]\u001b[0m Trial 776 finished with value: -196.808 and parameters: {'a': 8, 'b': 26, 'stop_loss': 38, 'take_profit': 44}. Best is trial 170 with value: -608.915.\u001b[0m\n"
     ]
    },
    {
     "name": "stdout",
     "output_type": "stream",
     "text": [
      "a: 9, b: 28, score: 395.39\n",
      "a: 8, b: 26, score: 196.81\n"
     ]
    },
    {
     "name": "stderr",
     "output_type": "stream",
     "text": [
      "\u001b[32m[I 2021-02-16 22:24:08,590]\u001b[0m Trial 777 finished with value: -608.915 and parameters: {'a': 9, 'b': 27, 'stop_loss': 42, 'take_profit': 43}. Best is trial 170 with value: -608.915.\u001b[0m\n",
      "\u001b[32m[I 2021-02-16 22:24:08,710]\u001b[0m Trial 778 finished with value: -576.885 and parameters: {'a': 9, 'b': 27, 'stop_loss': 47, 'take_profit': 42}. Best is trial 170 with value: -608.915.\u001b[0m\n"
     ]
    },
    {
     "name": "stdout",
     "output_type": "stream",
     "text": [
      "a: 9, b: 27, score: 608.91\n",
      "a: 9, b: 27, score: 576.88\n"
     ]
    },
    {
     "name": "stderr",
     "output_type": "stream",
     "text": [
      "\u001b[32m[I 2021-02-16 22:24:08,836]\u001b[0m Trial 779 finished with value: -562.13 and parameters: {'a': 9, 'b': 27, 'stop_loss': 46, 'take_profit': 44}. Best is trial 170 with value: -608.915.\u001b[0m\n",
      "\u001b[32m[I 2021-02-16 22:24:08,945]\u001b[0m Trial 780 finished with value: -517.025 and parameters: {'a': 10, 'b': 27, 'stop_loss': 42, 'take_profit': 43}. Best is trial 170 with value: -608.915.\u001b[0m\n"
     ]
    },
    {
     "name": "stdout",
     "output_type": "stream",
     "text": [
      "a: 9, b: 27, score: 562.13\n",
      "a: 10, b: 27, score: 517.02\n"
     ]
    },
    {
     "name": "stderr",
     "output_type": "stream",
     "text": [
      "\u001b[32m[I 2021-02-16 22:24:09,071]\u001b[0m Trial 781 finished with value: -268.759 and parameters: {'a': 9, 'b': 28, 'stop_loss': 43, 'take_profit': 35}. Best is trial 170 with value: -608.915.\u001b[0m\n",
      "\u001b[32m[I 2021-02-16 22:24:09,189]\u001b[0m Trial 782 finished with value: 38.741 and parameters: {'a': 9, 'b': 26, 'stop_loss': 47, 'take_profit': 13}. Best is trial 170 with value: -608.915.\u001b[0m\n"
     ]
    },
    {
     "name": "stdout",
     "output_type": "stream",
     "text": [
      "a: 9, b: 28, score: 268.76\n",
      "a: 9, b: 26, score: -38.74\n"
     ]
    },
    {
     "name": "stderr",
     "output_type": "stream",
     "text": [
      "\u001b[32m[I 2021-02-16 22:24:09,315]\u001b[0m Trial 783 finished with value: -576.885 and parameters: {'a': 9, 'b': 27, 'stop_loss': 47, 'take_profit': 42}. Best is trial 170 with value: -608.915.\u001b[0m\n",
      "\u001b[32m[I 2021-02-16 22:24:09,433]\u001b[0m Trial 784 finished with value: -544.856 and parameters: {'a': 9, 'b': 27, 'stop_loss': 46, 'take_profit': 41}. Best is trial 170 with value: -608.915.\u001b[0m\n"
     ]
    },
    {
     "name": "stdout",
     "output_type": "stream",
     "text": [
      "a: 9, b: 27, score: 576.88\n",
      "a: 9, b: 27, score: 544.86\n"
     ]
    },
    {
     "name": "stderr",
     "output_type": "stream",
     "text": [
      "\u001b[32m[I 2021-02-16 22:24:09,553]\u001b[0m Trial 785 finished with value: -608.915 and parameters: {'a': 9, 'b': 27, 'stop_loss': 44, 'take_profit': 43}. Best is trial 170 with value: -608.915.\u001b[0m\n",
      "\u001b[32m[I 2021-02-16 22:24:09,663]\u001b[0m Trial 786 finished with value: -253.516 and parameters: {'a': 8, 'b': 28, 'stop_loss': 46, 'take_profit': 45}. Best is trial 170 with value: -608.915.\u001b[0m\n"
     ]
    },
    {
     "name": "stdout",
     "output_type": "stream",
     "text": [
      "a: 9, b: 27, score: 608.91\n",
      "a: 8, b: 28, score: 253.52\n"
     ]
    },
    {
     "name": "stderr",
     "output_type": "stream",
     "text": [
      "\u001b[32m[I 2021-02-16 22:24:09,773]\u001b[0m Trial 787 finished with value: -608.915 and parameters: {'a': 9, 'b': 27, 'stop_loss': 45, 'take_profit': 43}. Best is trial 170 with value: -608.915.\u001b[0m\n",
      "\u001b[32m[I 2021-02-16 22:24:09,879]\u001b[0m Trial 788 finished with value: -471.818 and parameters: {'a': 10, 'b': 27, 'stop_loss': 49, 'take_profit': 44}. Best is trial 170 with value: -608.915.\u001b[0m\n"
     ]
    },
    {
     "name": "stdout",
     "output_type": "stream",
     "text": [
      "a: 9, b: 27, score: 608.91\n",
      "a: 10, b: 27, score: 471.82\n"
     ]
    },
    {
     "name": "stderr",
     "output_type": "stream",
     "text": [
      "\u001b[32m[I 2021-02-16 22:24:09,987]\u001b[0m Trial 789 finished with value: -608.915 and parameters: {'a': 9, 'b': 27, 'stop_loss': 45, 'take_profit': 43}. Best is trial 170 with value: -608.915.\u001b[0m\n",
      "\u001b[32m[I 2021-02-16 22:24:10,092]\u001b[0m Trial 790 finished with value: -421.948 and parameters: {'a': 9, 'b': 26, 'stop_loss': 45, 'take_profit': 41}. Best is trial 170 with value: -608.915.\u001b[0m\n"
     ]
    },
    {
     "name": "stdout",
     "output_type": "stream",
     "text": [
      "a: 9, b: 27, score: 608.91\n",
      "a: 9, b: 26, score: 421.95\n"
     ]
    },
    {
     "name": "stderr",
     "output_type": "stream",
     "text": [
      "\u001b[32m[I 2021-02-16 22:24:10,211]\u001b[0m Trial 791 finished with value: -480.78 and parameters: {'a': 9, 'b': 28, 'stop_loss': 40, 'take_profit': 42}. Best is trial 170 with value: -608.915.\u001b[0m\n",
      "\u001b[32m[I 2021-02-16 22:24:10,322]\u001b[0m Trial 792 finished with value: -325.525 and parameters: {'a': 9, 'b': 26, 'stop_loss': 37, 'take_profit': 46}. Best is trial 170 with value: -608.915.\u001b[0m\n"
     ]
    },
    {
     "name": "stdout",
     "output_type": "stream",
     "text": [
      "a: 9, b: 28, score: 480.78\n",
      "a: 9, b: 26, score: 325.52\n"
     ]
    },
    {
     "name": "stderr",
     "output_type": "stream",
     "text": [
      "\u001b[32m[I 2021-02-16 22:24:10,452]\u001b[0m Trial 793 finished with value: -562.13 and parameters: {'a': 9, 'b': 27, 'stop_loss': 40, 'take_profit': 44}. Best is trial 170 with value: -608.915.\u001b[0m\n",
      "\u001b[32m[I 2021-02-16 22:24:10,568]\u001b[0m Trial 794 finished with value: -576.885 and parameters: {'a': 9, 'b': 27, 'stop_loss': 41, 'take_profit': 42}. Best is trial 170 with value: -608.915.\u001b[0m\n"
     ]
    },
    {
     "name": "stdout",
     "output_type": "stream",
     "text": [
      "a: 9, b: 27, score: 562.13\n",
      "a: 9, b: 27, score: 576.88\n"
     ]
    },
    {
     "name": "stderr",
     "output_type": "stream",
     "text": [
      "\u001b[32m[I 2021-02-16 22:24:10,694]\u001b[0m Trial 795 finished with value: -131.128 and parameters: {'a': 8, 'b': 16, 'stop_loss': 11, 'take_profit': 44}. Best is trial 170 with value: -608.915.\u001b[0m\n",
      "\u001b[32m[I 2021-02-16 22:24:10,818]\u001b[0m Trial 796 finished with value: -608.915 and parameters: {'a': 9, 'b': 27, 'stop_loss': 44, 'take_profit': 43}. Best is trial 170 with value: -608.915.\u001b[0m\n"
     ]
    },
    {
     "name": "stdout",
     "output_type": "stream",
     "text": [
      "a: 8, b: 16, score: 131.13\n",
      "a: 9, b: 27, score: 608.91\n"
     ]
    },
    {
     "name": "stderr",
     "output_type": "stream",
     "text": [
      "\u001b[32m[I 2021-02-16 22:24:10,939]\u001b[0m Trial 797 finished with value: -576.885 and parameters: {'a': 9, 'b': 27, 'stop_loss': 44, 'take_profit': 42}. Best is trial 170 with value: -608.915.\u001b[0m\n",
      "\u001b[32m[I 2021-02-16 22:24:11,047]\u001b[0m Trial 798 finished with value: -539.786 and parameters: {'a': 10, 'b': 26, 'stop_loss': 44, 'take_profit': 45}. Best is trial 170 with value: -608.915.\u001b[0m\n"
     ]
    },
    {
     "name": "stdout",
     "output_type": "stream",
     "text": [
      "a: 9, b: 27, score: 576.88\n",
      "a: 10, b: 26, score: 539.79\n"
     ]
    },
    {
     "name": "stderr",
     "output_type": "stream",
     "text": [
      "\u001b[32m[I 2021-02-16 22:24:11,167]\u001b[0m Trial 799 finished with value: -131.938 and parameters: {'a': 9, 'b': 19, 'stop_loss': 41, 'take_profit': 41}. Best is trial 170 with value: -608.915.\u001b[0m\n",
      "\u001b[32m[I 2021-02-16 22:24:11,282]\u001b[0m Trial 800 finished with value: -608.915 and parameters: {'a': 9, 'b': 27, 'stop_loss': 42, 'take_profit': 43}. Best is trial 170 with value: -608.915.\u001b[0m\n"
     ]
    },
    {
     "name": "stdout",
     "output_type": "stream",
     "text": [
      "a: 9, b: 19, score: 131.94\n",
      "a: 9, b: 27, score: 608.91\n"
     ]
    },
    {
     "name": "stderr",
     "output_type": "stream",
     "text": [
      "\u001b[32m[I 2021-02-16 22:24:11,400]\u001b[0m Trial 801 finished with value: -431.296 and parameters: {'a': 10, 'b': 28, 'stop_loss': 37, 'take_profit': 40}. Best is trial 170 with value: -608.915.\u001b[0m\n",
      "\u001b[32m[I 2021-02-16 22:24:11,513]\u001b[0m Trial 802 finished with value: -608.915 and parameters: {'a': 9, 'b': 27, 'stop_loss': 41, 'take_profit': 43}. Best is trial 170 with value: -608.915.\u001b[0m\n"
     ]
    },
    {
     "name": "stdout",
     "output_type": "stream",
     "text": [
      "a: 10, b: 28, score: 431.30\n",
      "a: 9, b: 27, score: 608.91\n"
     ]
    },
    {
     "name": "stderr",
     "output_type": "stream",
     "text": [
      "\u001b[32m[I 2021-02-16 22:24:11,621]\u001b[0m Trial 803 finished with value: -437.897 and parameters: {'a': 9, 'b': 26, 'stop_loss': 48, 'take_profit': 44}. Best is trial 170 with value: -608.915.\u001b[0m\n",
      "\u001b[32m[I 2021-02-16 22:24:11,728]\u001b[0m Trial 804 finished with value: -576.885 and parameters: {'a': 9, 'b': 27, 'stop_loss': 46, 'take_profit': 42}. Best is trial 170 with value: -608.915.\u001b[0m\n"
     ]
    },
    {
     "name": "stdout",
     "output_type": "stream",
     "text": [
      "a: 9, b: 26, score: 437.90\n",
      "a: 9, b: 27, score: 576.88\n"
     ]
    },
    {
     "name": "stderr",
     "output_type": "stream",
     "text": [
      "\u001b[32m[I 2021-02-16 22:24:11,850]\u001b[0m Trial 805 finished with value: -562.13 and parameters: {'a': 9, 'b': 27, 'stop_loss': 47, 'take_profit': 44}. Best is trial 170 with value: -608.915.\u001b[0m\n",
      "\u001b[32m[I 2021-02-16 22:24:11,960]\u001b[0m Trial 806 finished with value: -253.516 and parameters: {'a': 8, 'b': 28, 'stop_loss': 48, 'take_profit': 45}. Best is trial 170 with value: -608.915.\u001b[0m\n"
     ]
    },
    {
     "name": "stdout",
     "output_type": "stream",
     "text": [
      "a: 9, b: 27, score: 562.13\n",
      "a: 8, b: 28, score: 253.52\n"
     ]
    },
    {
     "name": "stderr",
     "output_type": "stream",
     "text": [
      "\u001b[32m[I 2021-02-16 22:24:12,076]\u001b[0m Trial 807 finished with value: -451.514 and parameters: {'a': 9, 'b': 26, 'stop_loss': 46, 'take_profit': 42}. Best is trial 170 with value: -608.915.\u001b[0m\n",
      "\u001b[32m[I 2021-02-16 22:24:12,187]\u001b[0m Trial 808 finished with value: -608.915 and parameters: {'a': 9, 'b': 27, 'stop_loss': 41, 'take_profit': 43}. Best is trial 170 with value: -608.915.\u001b[0m\n"
     ]
    },
    {
     "name": "stdout",
     "output_type": "stream",
     "text": [
      "a: 9, b: 26, score: 451.51\n",
      "a: 9, b: 27, score: 608.91\n"
     ]
    },
    {
     "name": "stderr",
     "output_type": "stream",
     "text": [
      "\u001b[32m[I 2021-02-16 22:24:12,307]\u001b[0m Trial 809 finished with value: -608.915 and parameters: {'a': 9, 'b': 27, 'stop_loss': 38, 'take_profit': 43}. Best is trial 170 with value: -608.915.\u001b[0m\n",
      "\u001b[32m[I 2021-02-16 22:24:12,420]\u001b[0m Trial 810 finished with value: -576.885 and parameters: {'a': 9, 'b': 27, 'stop_loss': 40, 'take_profit': 42}. Best is trial 170 with value: -608.915.\u001b[0m\n"
     ]
    },
    {
     "name": "stdout",
     "output_type": "stream",
     "text": [
      "a: 9, b: 27, score: 608.91\n",
      "a: 9, b: 27, score: 576.88\n"
     ]
    },
    {
     "name": "stderr",
     "output_type": "stream",
     "text": [
      "\u001b[32m[I 2021-02-16 22:24:12,536]\u001b[0m Trial 811 finished with value: -227.653 and parameters: {'a': 8, 'b': 28, 'stop_loss': 39, 'take_profit': 44}. Best is trial 170 with value: -608.915.\u001b[0m\n",
      "\u001b[32m[I 2021-02-16 22:24:12,648]\u001b[0m Trial 812 finished with value: -562.13 and parameters: {'a': 9, 'b': 27, 'stop_loss': 38, 'take_profit': 44}. Best is trial 170 with value: -608.915.\u001b[0m\n"
     ]
    },
    {
     "name": "stdout",
     "output_type": "stream",
     "text": [
      "a: 8, b: 28, score: 227.65\n",
      "a: 9, b: 27, score: 562.13\n"
     ]
    },
    {
     "name": "stderr",
     "output_type": "stream",
     "text": [
      "\u001b[32m[I 2021-02-16 22:24:12,774]\u001b[0m Trial 813 finished with value: -502.31 and parameters: {'a': 10, 'b': 26, 'stop_loss': 39, 'take_profit': 41}. Best is trial 170 with value: -608.915.\u001b[0m\n",
      "\u001b[32m[I 2021-02-16 22:24:12,887]\u001b[0m Trial 814 finished with value: -608.915 and parameters: {'a': 9, 'b': 27, 'stop_loss': 43, 'take_profit': 43}. Best is trial 170 with value: -608.915.\u001b[0m\n"
     ]
    },
    {
     "name": "stdout",
     "output_type": "stream",
     "text": [
      "a: 10, b: 26, score: 502.31\n",
      "a: 9, b: 27, score: 608.91\n"
     ]
    },
    {
     "name": "stderr",
     "output_type": "stream",
     "text": [
      "\u001b[32m[I 2021-02-16 22:24:12,997]\u001b[0m Trial 815 finished with value: -489.521 and parameters: {'a': 9, 'b': 27, 'stop_loss': 44, 'take_profit': 45}. Best is trial 170 with value: -608.915.\u001b[0m\n",
      "\u001b[32m[I 2021-02-16 22:24:13,108]\u001b[0m Trial 816 finished with value: -608.915 and parameters: {'a': 9, 'b': 27, 'stop_loss': 49, 'take_profit': 43}. Best is trial 170 with value: -608.915.\u001b[0m\n"
     ]
    },
    {
     "name": "stdout",
     "output_type": "stream",
     "text": [
      "a: 9, b: 27, score: 489.52\n",
      "a: 9, b: 27, score: 608.91\n"
     ]
    },
    {
     "name": "stderr",
     "output_type": "stream",
     "text": [
      "\u001b[32m[I 2021-02-16 22:24:13,226]\u001b[0m Trial 817 finished with value: -474.468 and parameters: {'a': 9, 'b': 28, 'stop_loss': 48, 'take_profit': 42}. Best is trial 170 with value: -608.915.\u001b[0m\n",
      "\u001b[32m[I 2021-02-16 22:24:13,333]\u001b[0m Trial 818 finished with value: -544.856 and parameters: {'a': 9, 'b': 27, 'stop_loss': 43, 'take_profit': 41}. Best is trial 170 with value: -608.915.\u001b[0m\n"
     ]
    },
    {
     "name": "stdout",
     "output_type": "stream",
     "text": [
      "a: 9, b: 28, score: 474.47\n",
      "a: 9, b: 27, score: 544.86\n"
     ]
    },
    {
     "name": "stderr",
     "output_type": "stream",
     "text": [
      "\u001b[32m[I 2021-02-16 22:24:13,452]\u001b[0m Trial 819 finished with value: -562.13 and parameters: {'a': 9, 'b': 27, 'stop_loss': 45, 'take_profit': 44}. Best is trial 170 with value: -608.915.\u001b[0m\n",
      "\u001b[32m[I 2021-02-16 22:24:13,564]\u001b[0m Trial 820 finished with value: -608.915 and parameters: {'a': 9, 'b': 27, 'stop_loss': 45, 'take_profit': 43}. Best is trial 170 with value: -608.915.\u001b[0m\n"
     ]
    },
    {
     "name": "stdout",
     "output_type": "stream",
     "text": [
      "a: 9, b: 27, score: 562.13\n",
      "a: 9, b: 27, score: 608.91\n"
     ]
    },
    {
     "name": "stderr",
     "output_type": "stream",
     "text": [
      "\u001b[32m[I 2021-02-16 22:24:13,679]\u001b[0m Trial 821 finished with value: -242.744 and parameters: {'a': 8, 'b': 26, 'stop_loss': 42, 'take_profit': 42}. Best is trial 170 with value: -608.915.\u001b[0m\n",
      "\u001b[32m[I 2021-02-16 22:24:13,789]\u001b[0m Trial 822 finished with value: -518.998 and parameters: {'a': 10, 'b': 27, 'stop_loss': 41, 'take_profit': 43}. Best is trial 170 with value: -608.915.\u001b[0m\n"
     ]
    },
    {
     "name": "stdout",
     "output_type": "stream",
     "text": [
      "a: 8, b: 26, score: 242.74\n",
      "a: 10, b: 27, score: 519.00\n"
     ]
    },
    {
     "name": "stderr",
     "output_type": "stream",
     "text": [
      "\u001b[32m[I 2021-02-16 22:24:13,909]\u001b[0m Trial 823 finished with value: -460.109 and parameters: {'a': 9, 'b': 28, 'stop_loss': 43, 'take_profit': 44}. Best is trial 170 with value: -608.915.\u001b[0m\n",
      "\u001b[32m[I 2021-02-16 22:24:14,018]\u001b[0m Trial 824 finished with value: -544.856 and parameters: {'a': 9, 'b': 27, 'stop_loss': 46, 'take_profit': 41}. Best is trial 170 with value: -608.915.\u001b[0m\n"
     ]
    },
    {
     "name": "stdout",
     "output_type": "stream",
     "text": [
      "a: 9, b: 28, score: 460.11\n",
      "a: 9, b: 27, score: 544.86\n"
     ]
    },
    {
     "name": "stderr",
     "output_type": "stream",
     "text": [
      "\u001b[32m[I 2021-02-16 22:24:14,142]\u001b[0m Trial 825 finished with value: -608.915 and parameters: {'a': 9, 'b': 27, 'stop_loss': 46, 'take_profit': 43}. Best is trial 170 with value: -608.915.\u001b[0m\n",
      "\u001b[32m[I 2021-02-16 22:24:14,251]\u001b[0m Trial 826 finished with value: -253.516 and parameters: {'a': 8, 'b': 28, 'stop_loss': 40, 'take_profit': 45}. Best is trial 170 with value: -608.915.\u001b[0m\n"
     ]
    },
    {
     "name": "stdout",
     "output_type": "stream",
     "text": [
      "a: 9, b: 27, score: 608.91\n",
      "a: 8, b: 28, score: 253.52\n"
     ]
    },
    {
     "name": "stderr",
     "output_type": "stream",
     "text": [
      "\u001b[32m[I 2021-02-16 22:24:14,369]\u001b[0m Trial 827 finished with value: -399.67 and parameters: {'a': 9, 'b': 27, 'stop_loss': 45, 'take_profit': 47}. Best is trial 170 with value: -608.915.\u001b[0m\n",
      "\u001b[32m[I 2021-02-16 22:24:14,486]\u001b[0m Trial 828 finished with value: -451.514 and parameters: {'a': 9, 'b': 26, 'stop_loss': 45, 'take_profit': 42}. Best is trial 170 with value: -608.915.\u001b[0m\n"
     ]
    },
    {
     "name": "stdout",
     "output_type": "stream",
     "text": [
      "a: 9, b: 27, score: 399.67\n",
      "a: 9, b: 26, score: 451.51\n"
     ]
    },
    {
     "name": "stderr",
     "output_type": "stream",
     "text": [
      "\u001b[32m[I 2021-02-16 22:24:14,611]\u001b[0m Trial 829 finished with value: -223.476 and parameters: {'a': 6, 'b': 27, 'stop_loss': 40, 'take_profit': 42}. Best is trial 170 with value: -608.915.\u001b[0m\n",
      "\u001b[32m[I 2021-02-16 22:24:14,724]\u001b[0m Trial 830 finished with value: -174.492 and parameters: {'a': 9, 'b': 22, 'stop_loss': 48, 'take_profit': 44}. Best is trial 170 with value: -608.915.\u001b[0m\n"
     ]
    },
    {
     "name": "stdout",
     "output_type": "stream",
     "text": [
      "a: 6, b: 27, score: 223.48\n",
      "a: 9, b: 22, score: 174.49\n"
     ]
    },
    {
     "name": "stderr",
     "output_type": "stream",
     "text": [
      "\u001b[32m[I 2021-02-16 22:24:14,851]\u001b[0m Trial 831 finished with value: -489.521 and parameters: {'a': 9, 'b': 27, 'stop_loss': 42, 'take_profit': 45}. Best is trial 170 with value: -608.915.\u001b[0m\n",
      "\u001b[32m[I 2021-02-16 22:24:14,965]\u001b[0m Trial 832 finished with value: -437.897 and parameters: {'a': 9, 'b': 26, 'stop_loss': 49, 'take_profit': 44}. Best is trial 170 with value: -608.915.\u001b[0m\n"
     ]
    },
    {
     "name": "stdout",
     "output_type": "stream",
     "text": [
      "a: 9, b: 27, score: 489.52\n",
      "a: 9, b: 26, score: 437.90\n"
     ]
    },
    {
     "name": "stderr",
     "output_type": "stream",
     "text": [
      "\u001b[32m[I 2021-02-16 22:24:15,082]\u001b[0m Trial 833 finished with value: -608.915 and parameters: {'a': 9, 'b': 27, 'stop_loss': 47, 'take_profit': 43}. Best is trial 170 with value: -608.915.\u001b[0m\n",
      "\u001b[32m[I 2021-02-16 22:24:15,194]\u001b[0m Trial 834 finished with value: -426.923 and parameters: {'a': 10, 'b': 27, 'stop_loss': 42, 'take_profit': 40}. Best is trial 170 with value: -608.915.\u001b[0m\n"
     ]
    },
    {
     "name": "stdout",
     "output_type": "stream",
     "text": [
      "a: 9, b: 27, score: 608.91\n",
      "a: 10, b: 27, score: 426.92\n"
     ]
    },
    {
     "name": "stderr",
     "output_type": "stream",
     "text": [
      "\u001b[32m[I 2021-02-16 22:24:15,317]\u001b[0m Trial 835 finished with value: -471.653 and parameters: {'a': 9, 'b': 27, 'stop_loss': 47, 'take_profit': 50}. Best is trial 170 with value: -608.915.\u001b[0m\n",
      "\u001b[32m[I 2021-02-16 22:24:15,432]\u001b[0m Trial 836 finished with value: -480.78 and parameters: {'a': 9, 'b': 28, 'stop_loss': 40, 'take_profit': 42}. Best is trial 170 with value: -608.915.\u001b[0m\n"
     ]
    },
    {
     "name": "stdout",
     "output_type": "stream",
     "text": [
      "a: 9, b: 27, score: 471.65\n",
      "a: 9, b: 28, score: 480.78\n"
     ]
    },
    {
     "name": "stderr",
     "output_type": "stream",
     "text": [
      "\u001b[32m[I 2021-02-16 22:24:15,558]\u001b[0m Trial 837 finished with value: -608.915 and parameters: {'a': 9, 'b': 27, 'stop_loss': 45, 'take_profit': 43}. Best is trial 170 with value: -608.915.\u001b[0m\n",
      "\u001b[32m[I 2021-02-16 22:24:15,676]\u001b[0m Trial 838 finished with value: -421.948 and parameters: {'a': 9, 'b': 26, 'stop_loss': 44, 'take_profit': 41}. Best is trial 170 with value: -608.915.\u001b[0m\n"
     ]
    },
    {
     "name": "stdout",
     "output_type": "stream",
     "text": [
      "a: 9, b: 27, score: 608.91\n",
      "a: 9, b: 26, score: 421.95\n"
     ]
    },
    {
     "name": "stderr",
     "output_type": "stream",
     "text": [
      "\u001b[32m[I 2021-02-16 22:24:15,798]\u001b[0m Trial 839 finished with value: -608.915 and parameters: {'a': 9, 'b': 27, 'stop_loss': 41, 'take_profit': 43}. Best is trial 170 with value: -608.915.\u001b[0m\n",
      "\u001b[32m[I 2021-02-16 22:24:15,916]\u001b[0m Trial 840 finished with value: -544.317 and parameters: {'a': 10, 'b': 28, 'stop_loss': 43, 'take_profit': 44}. Best is trial 170 with value: -608.915.\u001b[0m\n"
     ]
    },
    {
     "name": "stdout",
     "output_type": "stream",
     "text": [
      "a: 9, b: 27, score: 608.91\n",
      "a: 10, b: 28, score: 544.32\n"
     ]
    },
    {
     "name": "stderr",
     "output_type": "stream",
     "text": [
      "\u001b[32m[I 2021-02-16 22:24:16,037]\u001b[0m Trial 841 finished with value: -487.068 and parameters: {'a': 9, 'b': 27, 'stop_loss': 47, 'take_profit': 46}. Best is trial 170 with value: -608.915.\u001b[0m\n",
      "\u001b[32m[I 2021-02-16 22:24:16,148]\u001b[0m Trial 842 finished with value: -352.763 and parameters: {'a': 8, 'b': 29, 'stop_loss': 42, 'take_profit': 42}. Best is trial 170 with value: -608.915.\u001b[0m\n"
     ]
    },
    {
     "name": "stdout",
     "output_type": "stream",
     "text": [
      "a: 9, b: 27, score: 487.07\n",
      "a: 8, b: 29, score: 352.76\n"
     ]
    },
    {
     "name": "stderr",
     "output_type": "stream",
     "text": [
      "\u001b[32m[I 2021-02-16 22:24:16,268]\u001b[0m Trial 843 finished with value: -448.766 and parameters: {'a': 9, 'b': 27, 'stop_loss': 39, 'take_profit': 38}. Best is trial 170 with value: -608.915.\u001b[0m\n",
      "\u001b[32m[I 2021-02-16 22:24:16,395]\u001b[0m Trial 844 finished with value: -437.897 and parameters: {'a': 9, 'b': 26, 'stop_loss': 46, 'take_profit': 44}. Best is trial 170 with value: -608.915.\u001b[0m\n"
     ]
    },
    {
     "name": "stdout",
     "output_type": "stream",
     "text": [
      "a: 9, b: 27, score: 448.77\n",
      "a: 9, b: 26, score: 437.90\n"
     ]
    },
    {
     "name": "stderr",
     "output_type": "stream",
     "text": [
      "\u001b[32m[I 2021-02-16 22:24:16,513]\u001b[0m Trial 845 finished with value: -489.521 and parameters: {'a': 9, 'b': 27, 'stop_loss': 40, 'take_profit': 45}. Best is trial 170 with value: -608.915.\u001b[0m\n",
      "\u001b[32m[I 2021-02-16 22:24:16,642]\u001b[0m Trial 846 finished with value: -404.778 and parameters: {'a': 10, 'b': 27, 'stop_loss': 38, 'take_profit': 39}. Best is trial 170 with value: -608.915.\u001b[0m\n"
     ]
    },
    {
     "name": "stdout",
     "output_type": "stream",
     "text": [
      "a: 9, b: 27, score: 489.52\n",
      "a: 10, b: 27, score: 404.78\n"
     ]
    },
    {
     "name": "stderr",
     "output_type": "stream",
     "text": [
      "\u001b[32m[I 2021-02-16 22:24:16,759]\u001b[0m Trial 847 finished with value: -608.915 and parameters: {'a': 9, 'b': 27, 'stop_loss': 44, 'take_profit': 43}. Best is trial 170 with value: -608.915.\u001b[0m\n",
      "\u001b[32m[I 2021-02-16 22:24:16,884]\u001b[0m Trial 848 finished with value: -576.885 and parameters: {'a': 9, 'b': 27, 'stop_loss': 43, 'take_profit': 42}. Best is trial 170 with value: -608.915.\u001b[0m\n"
     ]
    },
    {
     "name": "stdout",
     "output_type": "stream",
     "text": [
      "a: 9, b: 27, score: 608.91\n",
      "a: 9, b: 27, score: 576.88\n"
     ]
    },
    {
     "name": "stderr",
     "output_type": "stream",
     "text": [
      "\u001b[32m[I 2021-02-16 22:24:16,998]\u001b[0m Trial 849 finished with value: -444.806 and parameters: {'a': 9, 'b': 28, 'stop_loss': 42, 'take_profit': 41}. Best is trial 170 with value: -608.915.\u001b[0m\n",
      "\u001b[32m[I 2021-02-16 22:24:17,107]\u001b[0m Trial 850 finished with value: -306.664 and parameters: {'a': 8, 'b': 27, 'stop_loss': 45, 'take_profit': 43}. Best is trial 170 with value: -608.915.\u001b[0m\n"
     ]
    },
    {
     "name": "stdout",
     "output_type": "stream",
     "text": [
      "a: 9, b: 28, score: 444.81\n",
      "a: 8, b: 27, score: 306.66\n"
     ]
    },
    {
     "name": "stderr",
     "output_type": "stream",
     "text": [
      "\u001b[32m[I 2021-02-16 22:24:17,228]\u001b[0m Trial 851 finished with value: -437.897 and parameters: {'a': 9, 'b': 26, 'stop_loss': 46, 'take_profit': 44}. Best is trial 170 with value: -608.915.\u001b[0m\n",
      "\u001b[32m[I 2021-02-16 22:24:17,342]\u001b[0m Trial 852 finished with value: -608.915 and parameters: {'a': 9, 'b': 27, 'stop_loss': 47, 'take_profit': 43}. Best is trial 170 with value: -608.915.\u001b[0m\n"
     ]
    },
    {
     "name": "stdout",
     "output_type": "stream",
     "text": [
      "a: 9, b: 26, score: 437.90\n",
      "a: 9, b: 27, score: 608.91\n"
     ]
    },
    {
     "name": "stderr",
     "output_type": "stream",
     "text": [
      "\u001b[32m[I 2021-02-16 22:24:17,476]\u001b[0m Trial 853 finished with value: -562.13 and parameters: {'a': 9, 'b': 27, 'stop_loss': 40, 'take_profit': 44}. Best is trial 170 with value: -608.915.\u001b[0m\n",
      "\u001b[32m[I 2021-02-16 22:24:17,589]\u001b[0m Trial 854 finished with value: -487.068 and parameters: {'a': 9, 'b': 27, 'stop_loss': 46, 'take_profit': 46}. Best is trial 170 with value: -608.915.\u001b[0m\n"
     ]
    },
    {
     "name": "stdout",
     "output_type": "stream",
     "text": [
      "a: 9, b: 27, score: 562.13\n",
      "a: 9, b: 27, score: 487.07\n"
     ]
    },
    {
     "name": "stderr",
     "output_type": "stream",
     "text": [
      "\u001b[32m[I 2021-02-16 22:24:17,721]\u001b[0m Trial 855 finished with value: -453.342 and parameters: {'a': 9, 'b': 28, 'stop_loss': 36, 'take_profit': 42}. Best is trial 170 with value: -608.915.\u001b[0m\n",
      "\u001b[32m[I 2021-02-16 22:24:17,834]\u001b[0m Trial 856 finished with value: -608.915 and parameters: {'a': 9, 'b': 27, 'stop_loss': 44, 'take_profit': 43}. Best is trial 170 with value: -608.915.\u001b[0m\n"
     ]
    },
    {
     "name": "stdout",
     "output_type": "stream",
     "text": [
      "a: 9, b: 28, score: 453.34\n",
      "a: 9, b: 27, score: 608.91\n"
     ]
    },
    {
     "name": "stderr",
     "output_type": "stream",
     "text": [
      "\u001b[32m[I 2021-02-16 22:24:17,960]\u001b[0m Trial 857 finished with value: -451.514 and parameters: {'a': 9, 'b': 26, 'stop_loss': 41, 'take_profit': 42}. Best is trial 170 with value: -608.915.\u001b[0m\n",
      "\u001b[32m[I 2021-02-16 22:24:18,065]\u001b[0m Trial 858 finished with value: -253.516 and parameters: {'a': 8, 'b': 28, 'stop_loss': 44, 'take_profit': 45}. Best is trial 170 with value: -608.915.\u001b[0m\n"
     ]
    },
    {
     "name": "stdout",
     "output_type": "stream",
     "text": [
      "a: 9, b: 26, score: 451.51\n",
      "a: 8, b: 28, score: 253.52\n"
     ]
    },
    {
     "name": "stderr",
     "output_type": "stream",
     "text": [
      "\u001b[32m[I 2021-02-16 22:24:18,191]\u001b[0m Trial 859 finished with value: 123.958 and parameters: {'a': 7, 'b': 27, 'stop_loss': 37, 'take_profit': 40}. Best is trial 170 with value: -608.915.\u001b[0m\n",
      "\u001b[32m[I 2021-02-16 22:24:18,302]\u001b[0m Trial 860 finished with value: -608.915 and parameters: {'a': 9, 'b': 27, 'stop_loss': 42, 'take_profit': 43}. Best is trial 170 with value: -608.915.\u001b[0m\n"
     ]
    },
    {
     "name": "stdout",
     "output_type": "stream",
     "text": [
      "a: 7, b: 27, score: -123.96\n",
      "a: 9, b: 27, score: 608.91\n"
     ]
    },
    {
     "name": "stderr",
     "output_type": "stream",
     "text": [
      "\u001b[32m[I 2021-02-16 22:24:18,427]\u001b[0m Trial 861 finished with value: -498.523 and parameters: {'a': 10, 'b': 26, 'stop_loss': 50, 'take_profit': 41}. Best is trial 170 with value: -608.915.\u001b[0m\n",
      "\u001b[32m[I 2021-02-16 22:24:18,539]\u001b[0m Trial 862 finished with value: -608.915 and parameters: {'a': 9, 'b': 27, 'stop_loss': 47, 'take_profit': 43}. Best is trial 170 with value: -608.915.\u001b[0m\n"
     ]
    },
    {
     "name": "stdout",
     "output_type": "stream",
     "text": [
      "a: 10, b: 26, score: 498.52\n",
      "a: 9, b: 27, score: 608.91\n"
     ]
    },
    {
     "name": "stderr",
     "output_type": "stream",
     "text": [
      "\u001b[32m[I 2021-02-16 22:24:18,659]\u001b[0m Trial 863 finished with value: -380.555 and parameters: {'a': 9, 'b': 27, 'stop_loss': 39, 'take_profit': 26}. Best is trial 170 with value: -608.915.\u001b[0m\n",
      "\u001b[32m[I 2021-02-16 22:24:18,764]\u001b[0m Trial 864 finished with value: -608.915 and parameters: {'a': 9, 'b': 27, 'stop_loss': 42, 'take_profit': 43}. Best is trial 170 with value: -608.915.\u001b[0m\n"
     ]
    },
    {
     "name": "stdout",
     "output_type": "stream",
     "text": [
      "a: 9, b: 27, score: 380.56\n",
      "a: 9, b: 27, score: 608.91\n"
     ]
    },
    {
     "name": "stderr",
     "output_type": "stream",
     "text": [
      "\u001b[32m[I 2021-02-16 22:24:18,882]\u001b[0m Trial 865 finished with value: -562.13 and parameters: {'a': 9, 'b': 27, 'stop_loss': 43, 'take_profit': 44}. Best is trial 170 with value: -608.915.\u001b[0m\n",
      "\u001b[32m[I 2021-02-16 22:24:19,011]\u001b[0m Trial 866 finished with value: -472.89 and parameters: {'a': 9, 'b': 28, 'stop_loss': 44, 'take_profit': 42}. Best is trial 170 with value: -608.915.\u001b[0m\n"
     ]
    },
    {
     "name": "stdout",
     "output_type": "stream",
     "text": [
      "a: 9, b: 27, score: 562.13\n",
      "a: 9, b: 28, score: 472.89\n"
     ]
    },
    {
     "name": "stderr",
     "output_type": "stream",
     "text": [
      "\u001b[32m[I 2021-02-16 22:24:19,127]\u001b[0m Trial 867 finished with value: -389.473 and parameters: {'a': 9, 'b': 28, 'stop_loss': 42, 'take_profit': 45}. Best is trial 170 with value: -608.915.\u001b[0m\n",
      "\u001b[32m[I 2021-02-16 22:24:19,240]\u001b[0m Trial 868 finished with value: -531.163 and parameters: {'a': 10, 'b': 26, 'stop_loss': 40, 'take_profit': 42}. Best is trial 170 with value: -608.915.\u001b[0m\n"
     ]
    },
    {
     "name": "stdout",
     "output_type": "stream",
     "text": [
      "a: 9, b: 28, score: 389.47\n",
      "a: 10, b: 26, score: 531.16\n"
     ]
    },
    {
     "name": "stderr",
     "output_type": "stream",
     "text": [
      "\u001b[32m[I 2021-02-16 22:24:19,361]\u001b[0m Trial 869 finished with value: -562.13 and parameters: {'a': 9, 'b': 27, 'stop_loss': 42, 'take_profit': 44}. Best is trial 170 with value: -608.915.\u001b[0m\n",
      "\u001b[32m[I 2021-02-16 22:24:19,474]\u001b[0m Trial 870 finished with value: -608.915 and parameters: {'a': 9, 'b': 27, 'stop_loss': 46, 'take_profit': 43}. Best is trial 170 with value: -608.915.\u001b[0m\n"
     ]
    },
    {
     "name": "stdout",
     "output_type": "stream",
     "text": [
      "a: 9, b: 27, score: 562.13\n",
      "a: 9, b: 27, score: 608.91\n"
     ]
    },
    {
     "name": "stderr",
     "output_type": "stream",
     "text": [
      "\u001b[32m[I 2021-02-16 22:24:19,588]\u001b[0m Trial 871 finished with value: -261.623 and parameters: {'a': 8, 'b': 27, 'stop_loss': 43, 'take_profit': 44}. Best is trial 170 with value: -608.915.\u001b[0m\n",
      "\u001b[32m[I 2021-02-16 22:24:19,709]\u001b[0m Trial 872 finished with value: -544.856 and parameters: {'a': 9, 'b': 27, 'stop_loss': 46, 'take_profit': 41}. Best is trial 170 with value: -608.915.\u001b[0m\n"
     ]
    },
    {
     "name": "stdout",
     "output_type": "stream",
     "text": [
      "a: 8, b: 27, score: 261.62\n",
      "a: 9, b: 27, score: 544.86\n"
     ]
    },
    {
     "name": "stderr",
     "output_type": "stream",
     "text": [
      "\u001b[32m[I 2021-02-16 22:24:19,844]\u001b[0m Trial 873 finished with value: -540.988 and parameters: {'a': 9, 'b': 28, 'stop_loss': 23, 'take_profit': 42}. Best is trial 170 with value: -608.915.\u001b[0m\n",
      "\u001b[32m[I 2021-02-16 22:24:19,963]\u001b[0m Trial 874 finished with value: -170.549 and parameters: {'a': 14, 'b': 26, 'stop_loss': 45, 'take_profit': 45}. Best is trial 170 with value: -608.915.\u001b[0m\n"
     ]
    },
    {
     "name": "stdout",
     "output_type": "stream",
     "text": [
      "a: 9, b: 28, score: 540.99\n",
      "a: 14, b: 26, score: 170.55\n"
     ]
    },
    {
     "name": "stderr",
     "output_type": "stream",
     "text": [
      "\u001b[32m[I 2021-02-16 22:24:20,086]\u001b[0m Trial 875 finished with value: -308.217 and parameters: {'a': 9, 'b': 24, 'stop_loss': 41, 'take_profit': 44}. Best is trial 170 with value: -608.915.\u001b[0m\n",
      "\u001b[32m[I 2021-02-16 22:24:20,202]\u001b[0m Trial 876 finished with value: -513.08 and parameters: {'a': 10, 'b': 27, 'stop_loss': 44, 'take_profit': 43}. Best is trial 170 with value: -608.915.\u001b[0m\n"
     ]
    },
    {
     "name": "stdout",
     "output_type": "stream",
     "text": [
      "a: 9, b: 24, score: 308.22\n",
      "a: 10, b: 27, score: 513.08\n"
     ]
    },
    {
     "name": "stderr",
     "output_type": "stream",
     "text": [
      "\u001b[32m[I 2021-02-16 22:24:20,322]\u001b[0m Trial 877 finished with value: -352.352 and parameters: {'a': 8, 'b': 27, 'stop_loss': 45, 'take_profit': 41}. Best is trial 170 with value: -608.915.\u001b[0m\n",
      "\u001b[32m[I 2021-02-16 22:24:20,431]\u001b[0m Trial 878 finished with value: -451.514 and parameters: {'a': 9, 'b': 26, 'stop_loss': 43, 'take_profit': 42}. Best is trial 170 with value: -608.915.\u001b[0m\n"
     ]
    },
    {
     "name": "stdout",
     "output_type": "stream",
     "text": [
      "a: 8, b: 27, score: 352.35\n",
      "a: 9, b: 26, score: 451.51\n"
     ]
    },
    {
     "name": "stderr",
     "output_type": "stream",
     "text": [
      "\u001b[32m[I 2021-02-16 22:24:20,561]\u001b[0m Trial 879 finished with value: -357.709 and parameters: {'a': 9, 'b': 25, 'stop_loss': 44, 'take_profit': 43}. Best is trial 170 with value: -608.915.\u001b[0m\n",
      "\u001b[32m[I 2021-02-16 22:24:20,678]\u001b[0m Trial 880 finished with value: -576.885 and parameters: {'a': 9, 'b': 27, 'stop_loss': 48, 'take_profit': 42}. Best is trial 170 with value: -608.915.\u001b[0m\n"
     ]
    },
    {
     "name": "stdout",
     "output_type": "stream",
     "text": [
      "a: 9, b: 25, score: 357.71\n",
      "a: 9, b: 27, score: 576.88\n"
     ]
    },
    {
     "name": "stderr",
     "output_type": "stream",
     "text": [
      "\u001b[32m[I 2021-02-16 22:24:20,799]\u001b[0m Trial 881 finished with value: -562.13 and parameters: {'a': 9, 'b': 27, 'stop_loss': 40, 'take_profit': 44}. Best is trial 170 with value: -608.915.\u001b[0m\n",
      "\u001b[32m[I 2021-02-16 22:24:20,919]\u001b[0m Trial 882 finished with value: -514.783 and parameters: {'a': 9, 'b': 28, 'stop_loss': 39, 'take_profit': 43}. Best is trial 170 with value: -608.915.\u001b[0m\n"
     ]
    },
    {
     "name": "stdout",
     "output_type": "stream",
     "text": [
      "a: 9, b: 27, score: 562.13\n",
      "a: 9, b: 28, score: 514.78\n"
     ]
    },
    {
     "name": "stderr",
     "output_type": "stream",
     "text": [
      "\u001b[32m[I 2021-02-16 22:24:21,049]\u001b[0m Trial 883 finished with value: -608.915 and parameters: {'a': 9, 'b': 27, 'stop_loss': 45, 'take_profit': 43}. Best is trial 170 with value: -608.915.\u001b[0m\n",
      "\u001b[32m[I 2021-02-16 22:24:21,169]\u001b[0m Trial 884 finished with value: -503.797 and parameters: {'a': 10, 'b': 27, 'stop_loss': 39, 'take_profit': 45}. Best is trial 170 with value: -608.915.\u001b[0m\n"
     ]
    },
    {
     "name": "stdout",
     "output_type": "stream",
     "text": [
      "a: 9, b: 27, score: 608.91\n",
      "a: 10, b: 27, score: 503.80\n"
     ]
    },
    {
     "name": "stderr",
     "output_type": "stream",
     "text": [
      "\u001b[32m[I 2021-02-16 22:24:21,295]\u001b[0m Trial 885 finished with value: -451.514 and parameters: {'a': 9, 'b': 26, 'stop_loss': 43, 'take_profit': 42}. Best is trial 170 with value: -608.915.\u001b[0m\n",
      "\u001b[32m[I 2021-02-16 22:24:21,426]\u001b[0m Trial 886 finished with value: -562.13 and parameters: {'a': 9, 'b': 27, 'stop_loss': 43, 'take_profit': 44}. Best is trial 170 with value: -608.915.\u001b[0m\n"
     ]
    },
    {
     "name": "stdout",
     "output_type": "stream",
     "text": [
      "a: 9, b: 26, score: 451.51\n",
      "a: 9, b: 27, score: 562.13\n"
     ]
    },
    {
     "name": "stderr",
     "output_type": "stream",
     "text": [
      "\u001b[32m[I 2021-02-16 22:24:21,553]\u001b[0m Trial 887 finished with value: -318.388 and parameters: {'a': 8, 'b': 28, 'stop_loss': 41, 'take_profit': 41}. Best is trial 170 with value: -608.915.\u001b[0m\n",
      "\u001b[32m[I 2021-02-16 22:24:21,669]\u001b[0m Trial 888 finished with value: -608.915 and parameters: {'a': 9, 'b': 27, 'stop_loss': 47, 'take_profit': 43}. Best is trial 170 with value: -608.915.\u001b[0m\n"
     ]
    },
    {
     "name": "stdout",
     "output_type": "stream",
     "text": [
      "a: 8, b: 28, score: 318.39\n",
      "a: 9, b: 27, score: 608.91\n"
     ]
    },
    {
     "name": "stderr",
     "output_type": "stream",
     "text": [
      "\u001b[32m[I 2021-02-16 22:24:21,786]\u001b[0m Trial 889 finished with value: -487.068 and parameters: {'a': 9, 'b': 27, 'stop_loss': 47, 'take_profit': 46}. Best is trial 170 with value: -608.915.\u001b[0m\n",
      "\u001b[32m[I 2021-02-16 22:24:21,898]\u001b[0m Trial 890 finished with value: -608.915 and parameters: {'a': 9, 'b': 27, 'stop_loss': 45, 'take_profit': 43}. Best is trial 170 with value: -608.915.\u001b[0m\n"
     ]
    },
    {
     "name": "stdout",
     "output_type": "stream",
     "text": [
      "a: 9, b: 27, score: 487.07\n",
      "a: 9, b: 27, score: 608.91\n"
     ]
    },
    {
     "name": "stderr",
     "output_type": "stream",
     "text": [
      "\u001b[32m[I 2021-02-16 22:24:22,022]\u001b[0m Trial 891 finished with value: -196.808 and parameters: {'a': 8, 'b': 26, 'stop_loss': 45, 'take_profit': 44}. Best is trial 170 with value: -608.915.\u001b[0m\n",
      "\u001b[32m[I 2021-02-16 22:24:22,138]\u001b[0m Trial 892 finished with value: -608.915 and parameters: {'a': 9, 'b': 27, 'stop_loss': 47, 'take_profit': 43}. Best is trial 170 with value: -608.915.\u001b[0m\n"
     ]
    },
    {
     "name": "stdout",
     "output_type": "stream",
     "text": [
      "a: 8, b: 26, score: 196.81\n",
      "a: 9, b: 27, score: 608.91\n"
     ]
    },
    {
     "name": "stderr",
     "output_type": "stream",
     "text": [
      "\u001b[32m[I 2021-02-16 22:24:22,260]\u001b[0m Trial 893 finished with value: -576.885 and parameters: {'a': 9, 'b': 27, 'stop_loss': 40, 'take_profit': 42}. Best is trial 170 with value: -608.915.\u001b[0m\n",
      "\u001b[32m[I 2021-02-16 22:24:22,369]\u001b[0m Trial 894 finished with value: -512.825 and parameters: {'a': 9, 'b': 27, 'stop_loss': 44, 'take_profit': 40}. Best is trial 170 with value: -608.915.\u001b[0m\n"
     ]
    },
    {
     "name": "stdout",
     "output_type": "stream",
     "text": [
      "a: 9, b: 27, score: 576.88\n",
      "a: 9, b: 27, score: 512.83\n"
     ]
    },
    {
     "name": "stderr",
     "output_type": "stream",
     "text": [
      "\u001b[32m[I 2021-02-16 22:24:22,488]\u001b[0m Trial 895 finished with value: -458.137 and parameters: {'a': 9, 'b': 28, 'stop_loss': 44, 'take_profit': 44}. Best is trial 170 with value: -608.915.\u001b[0m\n",
      "\u001b[32m[I 2021-02-16 22:24:22,598]\u001b[0m Trial 896 finished with value: -489.521 and parameters: {'a': 9, 'b': 27, 'stop_loss': 42, 'take_profit': 45}. Best is trial 170 with value: -608.915.\u001b[0m\n"
     ]
    },
    {
     "name": "stdout",
     "output_type": "stream",
     "text": [
      "a: 9, b: 28, score: 458.14\n",
      "a: 9, b: 27, score: 489.52\n"
     ]
    },
    {
     "name": "stderr",
     "output_type": "stream",
     "text": [
      "\u001b[32m[I 2021-02-16 22:24:22,719]\u001b[0m Trial 897 finished with value: -481.073 and parameters: {'a': 10, 'b': 27, 'stop_loss': 45, 'take_profit': 42}. Best is trial 170 with value: -608.915.\u001b[0m\n",
      "\u001b[32m[I 2021-02-16 22:24:22,831]\u001b[0m Trial 898 finished with value: -608.915 and parameters: {'a': 9, 'b': 27, 'stop_loss': 41, 'take_profit': 43}. Best is trial 170 with value: -608.915.\u001b[0m\n"
     ]
    },
    {
     "name": "stdout",
     "output_type": "stream",
     "text": [
      "a: 10, b: 27, score: 481.07\n",
      "a: 9, b: 27, score: 608.91\n"
     ]
    },
    {
     "name": "stderr",
     "output_type": "stream",
     "text": [
      "\u001b[32m[I 2021-02-16 22:24:22,954]\u001b[0m Trial 899 finished with value: -437.897 and parameters: {'a': 9, 'b': 26, 'stop_loss': 43, 'take_profit': 44}. Best is trial 170 with value: -608.915.\u001b[0m\n",
      "\u001b[32m[I 2021-02-16 22:24:23,070]\u001b[0m Trial 900 finished with value: -472.89 and parameters: {'a': 9, 'b': 28, 'stop_loss': 44, 'take_profit': 42}. Best is trial 170 with value: -608.915.\u001b[0m\n"
     ]
    },
    {
     "name": "stdout",
     "output_type": "stream",
     "text": [
      "a: 9, b: 26, score: 437.90\n",
      "a: 9, b: 28, score: 472.89\n"
     ]
    },
    {
     "name": "stderr",
     "output_type": "stream",
     "text": [
      "\u001b[32m[I 2021-02-16 22:24:23,209]\u001b[0m Trial 901 finished with value: -333.699 and parameters: {'a': 9, 'b': 26, 'stop_loss': 44, 'take_profit': 45}. Best is trial 170 with value: -608.915.\u001b[0m\n",
      "\u001b[32m[I 2021-02-16 22:24:23,329]\u001b[0m Trial 902 finished with value: -442.439 and parameters: {'a': 9, 'b': 28, 'stop_loss': 48, 'take_profit': 41}. Best is trial 170 with value: -608.915.\u001b[0m\n"
     ]
    },
    {
     "name": "stdout",
     "output_type": "stream",
     "text": [
      "a: 9, b: 26, score: 333.70\n",
      "a: 9, b: 28, score: 442.44\n"
     ]
    },
    {
     "name": "stderr",
     "output_type": "stream",
     "text": [
      "\u001b[32m[I 2021-02-16 22:24:23,455]\u001b[0m Trial 903 finished with value: -73.394 and parameters: {'a': 10, 'b': 27, 'stop_loss': 38, 'take_profit': 16}. Best is trial 170 with value: -608.915.\u001b[0m\n",
      "\u001b[32m[I 2021-02-16 22:24:23,581]\u001b[0m Trial 904 finished with value: -562.13 and parameters: {'a': 9, 'b': 27, 'stop_loss': 47, 'take_profit': 44}. Best is trial 170 with value: -608.915.\u001b[0m\n"
     ]
    },
    {
     "name": "stdout",
     "output_type": "stream",
     "text": [
      "a: 10, b: 27, score: 73.39\n",
      "a: 9, b: 27, score: 562.13\n"
     ]
    },
    {
     "name": "stderr",
     "output_type": "stream",
     "text": [
      "\u001b[32m[I 2021-02-16 22:24:23,705]\u001b[0m Trial 905 finished with value: -318.388 and parameters: {'a': 8, 'b': 28, 'stop_loss': 40, 'take_profit': 41}. Best is trial 170 with value: -608.915.\u001b[0m\n",
      "\u001b[32m[I 2021-02-16 22:24:23,818]\u001b[0m Trial 906 finished with value: -608.915 and parameters: {'a': 9, 'b': 27, 'stop_loss': 50, 'take_profit': 43}. Best is trial 170 with value: -608.915.\u001b[0m\n"
     ]
    },
    {
     "name": "stdout",
     "output_type": "stream",
     "text": [
      "a: 8, b: 28, score: 318.39\n",
      "a: 9, b: 27, score: 608.91\n"
     ]
    },
    {
     "name": "stderr",
     "output_type": "stream",
     "text": [
      "\u001b[32m[I 2021-02-16 22:24:23,943]\u001b[0m Trial 907 finished with value: -608.915 and parameters: {'a': 9, 'b': 27, 'stop_loss': 44, 'take_profit': 43}. Best is trial 170 with value: -608.915.\u001b[0m\n",
      "\u001b[32m[I 2021-02-16 22:24:24,071]\u001b[0m Trial 908 finished with value: -165.332 and parameters: {'a': 13, 'b': 29, 'stop_loss': 42, 'take_profit': 42}. Best is trial 170 with value: -608.915.\u001b[0m\n"
     ]
    },
    {
     "name": "stdout",
     "output_type": "stream",
     "text": [
      "a: 9, b: 27, score: 608.91\n",
      "a: 13, b: 29, score: 165.33\n"
     ]
    },
    {
     "name": "stderr",
     "output_type": "stream",
     "text": [
      "\u001b[32m[I 2021-02-16 22:24:24,187]\u001b[0m Trial 909 finished with value: -512.825 and parameters: {'a': 9, 'b': 27, 'stop_loss': 46, 'take_profit': 40}. Best is trial 170 with value: -608.915.\u001b[0m\n",
      "\u001b[32m[I 2021-02-16 22:24:24,295]\u001b[0m Trial 910 finished with value: -416.736 and parameters: {'a': 9, 'b': 27, 'stop_loss': 41, 'take_profit': 37}. Best is trial 170 with value: -608.915.\u001b[0m\n"
     ]
    },
    {
     "name": "stdout",
     "output_type": "stream",
     "text": [
      "a: 9, b: 27, score: 512.83\n",
      "a: 9, b: 27, score: 416.74\n"
     ]
    },
    {
     "name": "stderr",
     "output_type": "stream",
     "text": [
      "\u001b[32m[I 2021-02-16 22:24:24,422]\u001b[0m Trial 911 finished with value: -437.897 and parameters: {'a': 9, 'b': 26, 'stop_loss': 41, 'take_profit': 44}. Best is trial 170 with value: -608.915.\u001b[0m\n",
      "\u001b[32m[I 2021-02-16 22:24:24,534]\u001b[0m Trial 912 finished with value: -481.073 and parameters: {'a': 10, 'b': 27, 'stop_loss': 45, 'take_profit': 42}. Best is trial 170 with value: -608.915.\u001b[0m\n"
     ]
    },
    {
     "name": "stdout",
     "output_type": "stream",
     "text": [
      "a: 9, b: 26, score: 437.90\n",
      "a: 10, b: 27, score: 481.07\n"
     ]
    },
    {
     "name": "stderr",
     "output_type": "stream",
     "text": [
      "\u001b[32m[I 2021-02-16 22:24:24,652]\u001b[0m Trial 913 finished with value: -608.915 and parameters: {'a': 9, 'b': 27, 'stop_loss': 49, 'take_profit': 43}. Best is trial 170 with value: -608.915.\u001b[0m\n",
      "\u001b[32m[I 2021-02-16 22:24:24,770]\u001b[0m Trial 914 finished with value: -164.67 and parameters: {'a': 9, 'b': 23, 'stop_loss': 50, 'take_profit': 45}. Best is trial 170 with value: -608.915.\u001b[0m\n"
     ]
    },
    {
     "name": "stdout",
     "output_type": "stream",
     "text": [
      "a: 9, b: 27, score: 608.91\n",
      "a: 9, b: 23, score: 164.67\n"
     ]
    },
    {
     "name": "stderr",
     "output_type": "stream",
     "text": [
      "\u001b[32m[I 2021-02-16 22:24:24,882]\u001b[0m Trial 915 finished with value: -306.664 and parameters: {'a': 8, 'b': 27, 'stop_loss': 39, 'take_profit': 43}. Best is trial 170 with value: -608.915.\u001b[0m\n",
      "\u001b[32m[I 2021-02-16 22:24:25,011]\u001b[0m Trial 916 finished with value: -437.897 and parameters: {'a': 9, 'b': 26, 'stop_loss': 49, 'take_profit': 44}. Best is trial 170 with value: -608.915.\u001b[0m\n"
     ]
    },
    {
     "name": "stdout",
     "output_type": "stream",
     "text": [
      "a: 8, b: 27, score: 306.66\n",
      "a: 9, b: 26, score: 437.90\n"
     ]
    },
    {
     "name": "stderr",
     "output_type": "stream",
     "text": [
      "\u001b[32m[I 2021-02-16 22:24:25,143]\u001b[0m Trial 917 finished with value: -198.582 and parameters: {'a': 9, 'b': 27, 'stop_loss': 42, 'take_profit': 20}. Best is trial 170 with value: -608.915.\u001b[0m\n",
      "\u001b[32m[I 2021-02-16 22:24:25,262]\u001b[0m Trial 918 finished with value: -347.955 and parameters: {'a': 8, 'b': 28, 'stop_loss': 46, 'take_profit': 42}. Best is trial 170 with value: -608.915.\u001b[0m\n"
     ]
    },
    {
     "name": "stdout",
     "output_type": "stream",
     "text": [
      "a: 9, b: 27, score: 198.58\n",
      "a: 8, b: 28, score: 347.95\n"
     ]
    },
    {
     "name": "stderr",
     "output_type": "stream",
     "text": [
      "\u001b[32m[I 2021-02-16 22:24:25,380]\u001b[0m Trial 919 finished with value: -608.915 and parameters: {'a': 9, 'b': 27, 'stop_loss': 45, 'take_profit': 43}. Best is trial 170 with value: -608.915.\u001b[0m\n",
      "\u001b[32m[I 2021-02-16 22:24:25,499]\u001b[0m Trial 920 finished with value: -421.948 and parameters: {'a': 9, 'b': 26, 'stop_loss': 37, 'take_profit': 41}. Best is trial 170 with value: -608.915.\u001b[0m\n"
     ]
    },
    {
     "name": "stdout",
     "output_type": "stream",
     "text": [
      "a: 9, b: 27, score: 608.91\n",
      "a: 9, b: 26, score: 421.95\n"
     ]
    },
    {
     "name": "stderr",
     "output_type": "stream",
     "text": [
      "\u001b[32m[I 2021-02-16 22:24:25,633]\u001b[0m Trial 921 finished with value: -608.915 and parameters: {'a': 9, 'b': 27, 'stop_loss': 41, 'take_profit': 43}. Best is trial 170 with value: -608.915.\u001b[0m\n",
      "\u001b[32m[I 2021-02-16 22:24:25,767]\u001b[0m Trial 922 finished with value: -554.608 and parameters: {'a': 10, 'b': 28, 'stop_loss': 38, 'take_profit': 44}. Best is trial 170 with value: -608.915.\u001b[0m\n"
     ]
    },
    {
     "name": "stdout",
     "output_type": "stream",
     "text": [
      "a: 9, b: 27, score: 608.91\n",
      "a: 10, b: 28, score: 554.61\n"
     ]
    },
    {
     "name": "stderr",
     "output_type": "stream",
     "text": [
      "\u001b[32m[I 2021-02-16 22:24:25,892]\u001b[0m Trial 923 finished with value: -325.525 and parameters: {'a': 9, 'b': 26, 'stop_loss': 42, 'take_profit': 46}. Best is trial 170 with value: -608.915.\u001b[0m\n",
      "\u001b[32m[I 2021-02-16 22:24:26,011]\u001b[0m Trial 924 finished with value: -489.521 and parameters: {'a': 9, 'b': 27, 'stop_loss': 46, 'take_profit': 45}. Best is trial 170 with value: -608.915.\u001b[0m\n"
     ]
    },
    {
     "name": "stdout",
     "output_type": "stream",
     "text": [
      "a: 9, b: 26, score: 325.52\n",
      "a: 9, b: 27, score: 489.52\n"
     ]
    },
    {
     "name": "stderr",
     "output_type": "stream",
     "text": [
      "\u001b[32m[I 2021-02-16 22:24:26,141]\u001b[0m Trial 925 finished with value: -576.885 and parameters: {'a': 9, 'b': 27, 'stop_loss': 45, 'take_profit': 42}. Best is trial 170 with value: -608.915.\u001b[0m\n",
      "\u001b[32m[I 2021-02-16 22:24:26,261]\u001b[0m Trial 926 finished with value: -562.13 and parameters: {'a': 9, 'b': 27, 'stop_loss': 46, 'take_profit': 44}. Best is trial 170 with value: -608.915.\u001b[0m\n"
     ]
    },
    {
     "name": "stdout",
     "output_type": "stream",
     "text": [
      "a: 9, b: 27, score: 576.88\n",
      "a: 9, b: 27, score: 562.13\n"
     ]
    },
    {
     "name": "stderr",
     "output_type": "stream",
     "text": [
      "\u001b[32m[I 2021-02-16 22:24:26,378]\u001b[0m Trial 927 finished with value: -446.778 and parameters: {'a': 9, 'b': 28, 'stop_loss': 41, 'take_profit': 41}. Best is trial 170 with value: -608.915.\u001b[0m\n",
      "\u001b[32m[I 2021-02-16 22:24:26,490]\u001b[0m Trial 928 finished with value: -608.915 and parameters: {'a': 9, 'b': 27, 'stop_loss': 46, 'take_profit': 43}. Best is trial 170 with value: -608.915.\u001b[0m\n"
     ]
    },
    {
     "name": "stdout",
     "output_type": "stream",
     "text": [
      "a: 9, b: 28, score: 446.78\n",
      "a: 9, b: 27, score: 608.91\n"
     ]
    },
    {
     "name": "stderr",
     "output_type": "stream",
     "text": [
      "\u001b[32m[I 2021-02-16 22:24:26,614]\u001b[0m Trial 929 finished with value: -559.645 and parameters: {'a': 9, 'b': 27, 'stop_loss': 36, 'take_profit': 42}. Best is trial 170 with value: -608.915.\u001b[0m\n",
      "\u001b[32m[I 2021-02-16 22:24:26,750]\u001b[0m Trial 930 finished with value: -261.623 and parameters: {'a': 8, 'b': 27, 'stop_loss': 41, 'take_profit': 44}. Best is trial 170 with value: -608.915.\u001b[0m\n"
     ]
    },
    {
     "name": "stdout",
     "output_type": "stream",
     "text": [
      "a: 9, b: 27, score: 559.64\n",
      "a: 8, b: 27, score: 261.62\n"
     ]
    },
    {
     "name": "stderr",
     "output_type": "stream",
     "text": [
      "\u001b[32m[I 2021-02-16 22:24:26,878]\u001b[0m Trial 931 finished with value: -352.373 and parameters: {'a': 9, 'b': 27, 'stop_loss': 44, 'take_profit': 31}. Best is trial 170 with value: -608.915.\u001b[0m\n",
      "\u001b[32m[I 2021-02-16 22:24:27,004]\u001b[0m Trial 932 finished with value: -509.136 and parameters: {'a': 10, 'b': 27, 'stop_loss': 46, 'take_profit': 43}. Best is trial 170 with value: -608.915.\u001b[0m\n"
     ]
    },
    {
     "name": "stdout",
     "output_type": "stream",
     "text": [
      "a: 9, b: 27, score: 352.37\n",
      "a: 10, b: 27, score: 509.14\n"
     ]
    },
    {
     "name": "stderr",
     "output_type": "stream",
     "text": [
      "\u001b[32m[I 2021-02-16 22:24:27,130]\u001b[0m Trial 933 finished with value: -474.863 and parameters: {'a': 9, 'b': 28, 'stop_loss': 43, 'take_profit': 42}. Best is trial 170 with value: -608.915.\u001b[0m\n",
      "\u001b[32m[I 2021-02-16 22:24:27,249]\u001b[0m Trial 934 finished with value: -192.546 and parameters: {'a': 9, 'b': 21, 'stop_loss': 45, 'take_profit': 44}. Best is trial 170 with value: -608.915.\u001b[0m\n"
     ]
    },
    {
     "name": "stdout",
     "output_type": "stream",
     "text": [
      "a: 9, b: 28, score: 474.86\n",
      "a: 9, b: 21, score: 192.55\n"
     ]
    },
    {
     "name": "stderr",
     "output_type": "stream",
     "text": [
      "\u001b[32m[I 2021-02-16 22:24:27,379]\u001b[0m Trial 935 finished with value: -545.466 and parameters: {'a': 10, 'b': 26, 'stop_loss': 48, 'take_profit': 45}. Best is trial 170 with value: -608.915.\u001b[0m\n",
      "\u001b[32m[I 2021-02-16 22:24:27,501]\u001b[0m Trial 936 finished with value: -608.915 and parameters: {'a': 9, 'b': 27, 'stop_loss': 41, 'take_profit': 43}. Best is trial 170 with value: -608.915.\u001b[0m\n"
     ]
    },
    {
     "name": "stdout",
     "output_type": "stream",
     "text": [
      "a: 10, b: 26, score: 545.47\n",
      "a: 9, b: 27, score: 608.91\n"
     ]
    },
    {
     "name": "stderr",
     "output_type": "stream",
     "text": [
      "\u001b[32m[I 2021-02-16 22:24:27,638]\u001b[0m Trial 937 finished with value: -608.915 and parameters: {'a': 9, 'b': 27, 'stop_loss': 50, 'take_profit': 43}. Best is trial 170 with value: -608.915.\u001b[0m\n",
      "\u001b[32m[I 2021-02-16 22:24:27,773]\u001b[0m Trial 938 finished with value: -576.885 and parameters: {'a': 9, 'b': 27, 'stop_loss': 50, 'take_profit': 42}. Best is trial 170 with value: -608.915.\u001b[0m\n"
     ]
    },
    {
     "name": "stdout",
     "output_type": "stream",
     "text": [
      "a: 9, b: 27, score: 608.91\n",
      "a: 9, b: 27, score: 576.88\n"
     ]
    },
    {
     "name": "stderr",
     "output_type": "stream",
     "text": [
      "\u001b[32m[I 2021-02-16 22:24:27,897]\u001b[0m Trial 939 finished with value: -562.13 and parameters: {'a': 9, 'b': 27, 'stop_loss': 47, 'take_profit': 44}. Best is trial 170 with value: -608.915.\u001b[0m\n",
      "\u001b[32m[I 2021-02-16 22:24:28,018]\u001b[0m Trial 940 finished with value: -294.955 and parameters: {'a': 9, 'b': 28, 'stop_loss': 46, 'take_profit': 47}. Best is trial 170 with value: -608.915.\u001b[0m\n"
     ]
    },
    {
     "name": "stdout",
     "output_type": "stream",
     "text": [
      "a: 9, b: 27, score: 562.13\n",
      "a: 9, b: 28, score: 294.95\n"
     ]
    },
    {
     "name": "stderr",
     "output_type": "stream",
     "text": [
      "\u001b[32m[I 2021-02-16 22:24:28,139]\u001b[0m Trial 941 finished with value: -217.887 and parameters: {'a': 8, 'b': 26, 'stop_loss': 47, 'take_profit': 41}. Best is trial 170 with value: -608.915.\u001b[0m\n",
      "\u001b[32m[I 2021-02-16 22:24:28,264]\u001b[0m Trial 942 finished with value: -489.521 and parameters: {'a': 9, 'b': 27, 'stop_loss': 48, 'take_profit': 45}. Best is trial 170 with value: -608.915.\u001b[0m\n"
     ]
    },
    {
     "name": "stdout",
     "output_type": "stream",
     "text": [
      "a: 8, b: 26, score: 217.89\n",
      "a: 9, b: 27, score: 489.52\n"
     ]
    },
    {
     "name": "stderr",
     "output_type": "stream",
     "text": [
      "\u001b[32m[I 2021-02-16 22:24:28,389]\u001b[0m Trial 943 finished with value: -451.514 and parameters: {'a': 9, 'b': 26, 'stop_loss': 42, 'take_profit': 42}. Best is trial 170 with value: -608.915.\u001b[0m\n",
      "\u001b[32m[I 2021-02-16 22:24:28,523]\u001b[0m Trial 944 finished with value: -480.795 and parameters: {'a': 9, 'b': 27, 'stop_loss': 41, 'take_profit': 39}. Best is trial 170 with value: -608.915.\u001b[0m\n"
     ]
    },
    {
     "name": "stdout",
     "output_type": "stream",
     "text": [
      "a: 9, b: 26, score: 451.51\n",
      "a: 9, b: 27, score: 480.80\n"
     ]
    },
    {
     "name": "stderr",
     "output_type": "stream",
     "text": [
      "\u001b[32m[I 2021-02-16 22:24:28,644]\u001b[0m Trial 945 finished with value: -580.637 and parameters: {'a': 9, 'b': 27, 'stop_loss': 31, 'take_profit': 43}. Best is trial 170 with value: -608.915.\u001b[0m\n",
      "\u001b[32m[I 2021-02-16 22:24:28,760]\u001b[0m Trial 946 finished with value: -227.653 and parameters: {'a': 8, 'b': 28, 'stop_loss': 43, 'take_profit': 44}. Best is trial 170 with value: -608.915.\u001b[0m\n"
     ]
    },
    {
     "name": "stdout",
     "output_type": "stream",
     "text": [
      "a: 9, b: 27, score: 580.64\n",
      "a: 8, b: 28, score: 227.65\n"
     ]
    },
    {
     "name": "stderr",
     "output_type": "stream",
     "text": [
      "\u001b[32m[I 2021-02-16 22:24:28,886]\u001b[0m Trial 947 finished with value: -483.046 and parameters: {'a': 10, 'b': 27, 'stop_loss': 44, 'take_profit': 42}. Best is trial 170 with value: -608.915.\u001b[0m\n",
      "\u001b[32m[I 2021-02-16 22:24:29,009]\u001b[0m Trial 948 finished with value: -481.082 and parameters: {'a': 9, 'b': 26, 'stop_loss': 43, 'take_profit': 43}. Best is trial 170 with value: -608.915.\u001b[0m\n"
     ]
    },
    {
     "name": "stdout",
     "output_type": "stream",
     "text": [
      "a: 10, b: 27, score: 483.05\n",
      "a: 9, b: 26, score: 481.08\n"
     ]
    },
    {
     "name": "stderr",
     "output_type": "stream",
     "text": [
      "\u001b[32m[I 2021-02-16 22:24:29,134]\u001b[0m Trial 949 finished with value: -576.885 and parameters: {'a': 9, 'b': 27, 'stop_loss': 44, 'take_profit': 42}. Best is trial 170 with value: -608.915.\u001b[0m\n",
      "\u001b[32m[I 2021-02-16 22:24:29,252]\u001b[0m Trial 950 finished with value: -608.915 and parameters: {'a': 9, 'b': 27, 'stop_loss': 47, 'take_profit': 43}. Best is trial 170 with value: -608.915.\u001b[0m\n"
     ]
    },
    {
     "name": "stdout",
     "output_type": "stream",
     "text": [
      "a: 9, b: 27, score: 576.88\n",
      "a: 9, b: 27, score: 608.91\n"
     ]
    },
    {
     "name": "stderr",
     "output_type": "stream",
     "text": [
      "\u001b[32m[I 2021-02-16 22:24:29,373]\u001b[0m Trial 951 finished with value: -387.021 and parameters: {'a': 9, 'b': 28, 'stop_loss': 42, 'take_profit': 46}. Best is trial 170 with value: -608.915.\u001b[0m\n",
      "\u001b[32m[I 2021-02-16 22:24:29,497]\u001b[0m Trial 952 finished with value: -562.13 and parameters: {'a': 9, 'b': 27, 'stop_loss': 49, 'take_profit': 44}. Best is trial 170 with value: -608.915.\u001b[0m\n"
     ]
    },
    {
     "name": "stdout",
     "output_type": "stream",
     "text": [
      "a: 9, b: 28, score: 387.02\n",
      "a: 9, b: 27, score: 562.13\n"
     ]
    },
    {
     "name": "stderr",
     "output_type": "stream",
     "text": [
      "\u001b[32m[I 2021-02-16 22:24:29,620]\u001b[0m Trial 953 finished with value: -512.825 and parameters: {'a': 9, 'b': 27, 'stop_loss': 45, 'take_profit': 40}. Best is trial 170 with value: -608.915.\u001b[0m\n",
      "\u001b[32m[I 2021-02-16 22:24:29,746]\u001b[0m Trial 954 finished with value: -608.915 and parameters: {'a': 9, 'b': 27, 'stop_loss': 43, 'take_profit': 43}. Best is trial 170 with value: -608.915.\u001b[0m\n"
     ]
    },
    {
     "name": "stdout",
     "output_type": "stream",
     "text": [
      "a: 9, b: 27, score: 512.83\n",
      "a: 9, b: 27, score: 608.91\n"
     ]
    },
    {
     "name": "stderr",
     "output_type": "stream",
     "text": [
      "\u001b[32m[I 2021-02-16 22:24:29,880]\u001b[0m Trial 955 finished with value: -437.897 and parameters: {'a': 9, 'b': 26, 'stop_loss': 43, 'take_profit': 44}. Best is trial 170 with value: -608.915.\u001b[0m\n",
      "\u001b[32m[I 2021-02-16 22:24:29,997]\u001b[0m Trial 956 finished with value: -438.888 and parameters: {'a': 9, 'b': 28, 'stop_loss': 45, 'take_profit': 41}. Best is trial 170 with value: -608.915.\u001b[0m\n"
     ]
    },
    {
     "name": "stdout",
     "output_type": "stream",
     "text": [
      "a: 9, b: 26, score: 437.90\n",
      "a: 9, b: 28, score: 438.89\n"
     ]
    },
    {
     "name": "stderr",
     "output_type": "stream",
     "text": [
      "\u001b[32m[I 2021-02-16 22:24:30,136]\u001b[0m Trial 957 finished with value: -481.073 and parameters: {'a': 10, 'b': 27, 'stop_loss': 45, 'take_profit': 42}. Best is trial 170 with value: -608.915.\u001b[0m\n",
      "\u001b[32m[I 2021-02-16 22:24:30,258]\u001b[0m Trial 958 finished with value: -287.489 and parameters: {'a': 8, 'b': 27, 'stop_loss': 45, 'take_profit': 45}. Best is trial 170 with value: -608.915.\u001b[0m\n"
     ]
    },
    {
     "name": "stdout",
     "output_type": "stream",
     "text": [
      "a: 10, b: 27, score: 481.07\n",
      "a: 8, b: 27, score: 287.49\n"
     ]
    },
    {
     "name": "stderr",
     "output_type": "stream",
     "text": [
      "\u001b[32m[I 2021-02-16 22:24:30,370]\u001b[0m Trial 959 finished with value: -608.915 and parameters: {'a': 9, 'b': 27, 'stop_loss': 44, 'take_profit': 43}. Best is trial 170 with value: -608.915.\u001b[0m\n",
      "\u001b[32m[I 2021-02-16 22:24:30,490]\u001b[0m Trial 960 finished with value: -437.897 and parameters: {'a': 9, 'b': 26, 'stop_loss': 45, 'take_profit': 44}. Best is trial 170 with value: -608.915.\u001b[0m\n"
     ]
    },
    {
     "name": "stdout",
     "output_type": "stream",
     "text": [
      "a: 9, b: 27, score: 608.91\n",
      "a: 9, b: 26, score: 437.90\n"
     ]
    },
    {
     "name": "stderr",
     "output_type": "stream",
     "text": [
      "\u001b[32m[I 2021-02-16 22:24:30,617]\u001b[0m Trial 961 finished with value: -576.885 and parameters: {'a': 9, 'b': 27, 'stop_loss': 44, 'take_profit': 42}. Best is trial 170 with value: -608.915.\u001b[0m\n",
      "\u001b[32m[I 2021-02-16 22:24:30,736]\u001b[0m Trial 962 finished with value: -327.261 and parameters: {'a': 9, 'b': 30, 'stop_loss': 49, 'take_profit': 41}. Best is trial 170 with value: -608.915.\u001b[0m\n"
     ]
    },
    {
     "name": "stdout",
     "output_type": "stream",
     "text": [
      "a: 9, b: 27, score: 576.88\n",
      "a: 9, b: 30, score: 327.26\n"
     ]
    },
    {
     "name": "stderr",
     "output_type": "stream",
     "text": [
      "\u001b[32m[I 2021-02-16 22:24:30,862]\u001b[0m Trial 963 finished with value: -608.915 and parameters: {'a': 9, 'b': 27, 'stop_loss': 41, 'take_profit': 43}. Best is trial 170 with value: -608.915.\u001b[0m\n",
      "\u001b[32m[I 2021-02-16 22:24:30,980]\u001b[0m Trial 964 finished with value: -326.84 and parameters: {'a': 9, 'b': 28, 'stop_loss': 42, 'take_profit': 48}. Best is trial 170 with value: -608.915.\u001b[0m\n"
     ]
    },
    {
     "name": "stdout",
     "output_type": "stream",
     "text": [
      "a: 9, b: 27, score: 608.91\n",
      "a: 9, b: 28, score: 326.84\n"
     ]
    },
    {
     "name": "stderr",
     "output_type": "stream",
     "text": [
      "\u001b[32m[I 2021-02-16 22:24:31,110]\u001b[0m Trial 965 finished with value: -101.727 and parameters: {'a': 8, 'b': 26, 'stop_loss': 39, 'take_profit': 45}. Best is trial 170 with value: -608.915.\u001b[0m\n",
      "\u001b[32m[I 2021-02-16 22:24:31,226]\u001b[0m Trial 966 finished with value: -517.025 and parameters: {'a': 10, 'b': 27, 'stop_loss': 42, 'take_profit': 43}. Best is trial 170 with value: -608.915.\u001b[0m\n"
     ]
    },
    {
     "name": "stdout",
     "output_type": "stream",
     "text": [
      "a: 8, b: 26, score: 101.73\n",
      "a: 10, b: 27, score: 517.02\n"
     ]
    },
    {
     "name": "stderr",
     "output_type": "stream",
     "text": [
      "\u001b[32m[I 2021-02-16 22:24:31,352]\u001b[0m Trial 967 finished with value: -562.13 and parameters: {'a': 9, 'b': 27, 'stop_loss': 43, 'take_profit': 44}. Best is trial 170 with value: -608.915.\u001b[0m\n",
      "\u001b[32m[I 2021-02-16 22:24:31,486]\u001b[0m Trial 968 finished with value: -562.13 and parameters: {'a': 9, 'b': 27, 'stop_loss': 48, 'take_profit': 44}. Best is trial 170 with value: -608.915.\u001b[0m\n"
     ]
    },
    {
     "name": "stdout",
     "output_type": "stream",
     "text": [
      "a: 9, b: 27, score: 562.13\n",
      "a: 9, b: 27, score: 562.13\n"
     ]
    },
    {
     "name": "stderr",
     "output_type": "stream",
     "text": [
      "\u001b[32m[I 2021-02-16 22:24:31,605]\u001b[0m Trial 969 finished with value: -544.856 and parameters: {'a': 9, 'b': 27, 'stop_loss': 43, 'take_profit': 41}. Best is trial 170 with value: -608.915.\u001b[0m\n",
      "\u001b[32m[I 2021-02-16 22:24:31,731]\u001b[0m Trial 970 finished with value: -476.835 and parameters: {'a': 9, 'b': 28, 'stop_loss': 42, 'take_profit': 42}. Best is trial 170 with value: -608.915.\u001b[0m\n"
     ]
    },
    {
     "name": "stdout",
     "output_type": "stream",
     "text": [
      "a: 9, b: 27, score: 544.86\n",
      "a: 9, b: 28, score: 476.83\n"
     ]
    },
    {
     "name": "stderr",
     "output_type": "stream",
     "text": [
      "\u001b[32m[I 2021-02-16 22:24:31,856]\u001b[0m Trial 971 finished with value: -608.915 and parameters: {'a': 9, 'b': 27, 'stop_loss': 43, 'take_profit': 43}. Best is trial 170 with value: -608.915.\u001b[0m\n",
      "\u001b[32m[I 2021-02-16 22:24:31,985]\u001b[0m Trial 972 finished with value: -437.897 and parameters: {'a': 9, 'b': 26, 'stop_loss': 44, 'take_profit': 44}. Best is trial 170 with value: -608.915.\u001b[0m\n"
     ]
    },
    {
     "name": "stdout",
     "output_type": "stream",
     "text": [
      "a: 9, b: 27, score: 608.91\n",
      "a: 9, b: 26, score: 437.90\n"
     ]
    },
    {
     "name": "stderr",
     "output_type": "stream",
     "text": [
      "\u001b[32m[I 2021-02-16 22:24:32,120]\u001b[0m Trial 973 finished with value: -81.209 and parameters: {'a': 8, 'b': 25, 'stop_loss': 48, 'take_profit': 43}. Best is trial 170 with value: -608.915.\u001b[0m\n",
      "\u001b[32m[I 2021-02-16 22:24:32,248]\u001b[0m Trial 974 finished with value: -608.915 and parameters: {'a': 9, 'b': 27, 'stop_loss': 45, 'take_profit': 43}. Best is trial 170 with value: -608.915.\u001b[0m\n"
     ]
    },
    {
     "name": "stdout",
     "output_type": "stream",
     "text": [
      "a: 8, b: 25, score: 81.21\n",
      "a: 9, b: 27, score: 608.91\n"
     ]
    },
    {
     "name": "stderr",
     "output_type": "stream",
     "text": [
      "\u001b[32m[I 2021-02-16 22:24:32,382]\u001b[0m Trial 975 finished with value: -495.907 and parameters: {'a': 10, 'b': 27, 'stop_loss': 43, 'take_profit': 45}. Best is trial 170 with value: -608.915.\u001b[0m\n",
      "\u001b[32m[I 2021-02-16 22:24:32,507]\u001b[0m Trial 976 finished with value: -576.885 and parameters: {'a': 9, 'b': 27, 'stop_loss': 44, 'take_profit': 42}. Best is trial 170 with value: -608.915.\u001b[0m\n"
     ]
    },
    {
     "name": "stdout",
     "output_type": "stream",
     "text": [
      "a: 10, b: 27, score: 495.91\n",
      "a: 9, b: 27, score: 576.88\n"
     ]
    },
    {
     "name": "stderr",
     "output_type": "stream",
     "text": [
      "\u001b[32m[I 2021-02-16 22:24:32,637]\u001b[0m Trial 977 finished with value: -512.825 and parameters: {'a': 9, 'b': 27, 'stop_loss': 44, 'take_profit': 40}. Best is trial 170 with value: -608.915.\u001b[0m\n",
      "\u001b[32m[I 2021-02-16 22:24:32,756]\u001b[0m Trial 978 finished with value: -478.808 and parameters: {'a': 9, 'b': 28, 'stop_loss': 41, 'take_profit': 42}. Best is trial 170 with value: -608.915.\u001b[0m\n"
     ]
    },
    {
     "name": "stdout",
     "output_type": "stream",
     "text": [
      "a: 9, b: 27, score: 512.83\n",
      "a: 9, b: 28, score: 478.81\n"
     ]
    },
    {
     "name": "stderr",
     "output_type": "stream",
     "text": [
      "\u001b[32m[I 2021-02-16 22:24:32,880]\u001b[0m Trial 979 finished with value: -435.474 and parameters: {'a': 12, 'b': 26, 'stop_loss': 43, 'take_profit': 43}. Best is trial 170 with value: -608.915.\u001b[0m\n",
      "\u001b[32m[I 2021-02-16 22:24:33,003]\u001b[0m Trial 980 finished with value: -253.516 and parameters: {'a': 8, 'b': 28, 'stop_loss': 47, 'take_profit': 45}. Best is trial 170 with value: -608.915.\u001b[0m\n"
     ]
    },
    {
     "name": "stdout",
     "output_type": "stream",
     "text": [
      "a: 12, b: 26, score: 435.47\n",
      "a: 8, b: 28, score: 253.52\n"
     ]
    },
    {
     "name": "stderr",
     "output_type": "stream",
     "text": [
      "\u001b[32m[I 2021-02-16 22:24:33,126]\u001b[0m Trial 981 finished with value: -608.915 and parameters: {'a': 9, 'b': 27, 'stop_loss': 42, 'take_profit': 43}. Best is trial 170 with value: -608.915.\u001b[0m\n",
      "\u001b[32m[I 2021-02-16 22:24:33,246]\u001b[0m Trial 982 finished with value: -466.819 and parameters: {'a': 10, 'b': 27, 'stop_loss': 37, 'take_profit': 41}. Best is trial 170 with value: -608.915.\u001b[0m\n"
     ]
    },
    {
     "name": "stdout",
     "output_type": "stream",
     "text": [
      "a: 9, b: 27, score: 608.91\n",
      "a: 10, b: 27, score: 466.82\n"
     ]
    },
    {
     "name": "stderr",
     "output_type": "stream",
     "text": [
      "\u001b[32m[I 2021-02-16 22:24:33,371]\u001b[0m Trial 983 finished with value: -451.514 and parameters: {'a': 9, 'b': 26, 'stop_loss': 39, 'take_profit': 42}. Best is trial 170 with value: -608.915.\u001b[0m\n",
      "\u001b[32m[I 2021-02-16 22:24:33,501]\u001b[0m Trial 984 finished with value: -88.289 and parameters: {'a': 9, 'b': 18, 'stop_loss': 48, 'take_profit': 44}. Best is trial 170 with value: -608.915.\u001b[0m\n"
     ]
    },
    {
     "name": "stdout",
     "output_type": "stream",
     "text": [
      "a: 9, b: 26, score: 451.51\n",
      "a: 9, b: 18, score: 88.29\n"
     ]
    },
    {
     "name": "stderr",
     "output_type": "stream",
     "text": [
      "\u001b[32m[I 2021-02-16 22:24:33,638]\u001b[0m Trial 985 finished with value: 29.521 and parameters: {'a': 9, 'b': 27, 'stop_loss': 43, 'take_profit': 11}. Best is trial 170 with value: -608.915.\u001b[0m\n",
      "\u001b[32m[I 2021-02-16 22:24:33,760]\u001b[0m Trial 986 finished with value: -384.707 and parameters: {'a': 9, 'b': 27, 'stop_loss': 43, 'take_profit': 36}. Best is trial 170 with value: -608.915.\u001b[0m\n"
     ]
    },
    {
     "name": "stdout",
     "output_type": "stream",
     "text": [
      "a: 9, b: 27, score: -29.52\n",
      "a: 9, b: 27, score: 384.71\n"
     ]
    },
    {
     "name": "stderr",
     "output_type": "stream",
     "text": [
      "\u001b[32m[I 2021-02-16 22:24:33,883]\u001b[0m Trial 987 finished with value: -487.068 and parameters: {'a': 9, 'b': 27, 'stop_loss': 46, 'take_profit': 46}. Best is trial 170 with value: -608.915.\u001b[0m\n",
      "\u001b[32m[I 2021-02-16 22:24:34,002]\u001b[0m Trial 988 finished with value: -458.137 and parameters: {'a': 9, 'b': 28, 'stop_loss': 44, 'take_profit': 44}. Best is trial 170 with value: -608.915.\u001b[0m\n"
     ]
    },
    {
     "name": "stdout",
     "output_type": "stream",
     "text": [
      "a: 9, b: 27, score: 487.07\n",
      "a: 9, b: 28, score: 458.14\n"
     ]
    },
    {
     "name": "stderr",
     "output_type": "stream",
     "text": [
      "\u001b[32m[I 2021-02-16 22:24:34,118]\u001b[0m Trial 989 finished with value: -640.219 and parameters: {'a': 9, 'b': 27, 'stop_loss': 19, 'take_profit': 42}. Best is trial 989 with value: -640.219.\u001b[0m\n",
      "\u001b[32m[I 2021-02-16 22:24:34,238]\u001b[0m Trial 990 finished with value: -500.417 and parameters: {'a': 10, 'b': 26, 'stop_loss': 40, 'take_profit': 41}. Best is trial 989 with value: -640.219.\u001b[0m\n"
     ]
    },
    {
     "name": "stdout",
     "output_type": "stream",
     "text": [
      "a: 9, b: 27, score: 640.22\n",
      "a: 10, b: 26, score: 500.42\n"
     ]
    },
    {
     "name": "stderr",
     "output_type": "stream",
     "text": [
      "\u001b[32m[I 2021-02-16 22:24:34,373]\u001b[0m Trial 991 finished with value: -684.365 and parameters: {'a': 9, 'b': 27, 'stop_loss': 16, 'take_profit': 43}. Best is trial 991 with value: -684.365.\u001b[0m\n",
      "\u001b[32m[I 2021-02-16 22:24:34,499]\u001b[0m Trial 992 finished with value: -734.625 and parameters: {'a': 9, 'b': 27, 'stop_loss': 13, 'take_profit': 44}. Best is trial 992 with value: -734.625.\u001b[0m\n"
     ]
    },
    {
     "name": "stdout",
     "output_type": "stream",
     "text": [
      "a: 9, b: 27, score: 684.37\n",
      "a: 9, b: 27, score: 734.62\n"
     ]
    },
    {
     "name": "stderr",
     "output_type": "stream",
     "text": [
      "\u001b[32m[I 2021-02-16 22:24:34,619]\u001b[0m Trial 993 finished with value: -371.305 and parameters: {'a': 9, 'b': 28, 'stop_loss': 13, 'take_profit': 29}. Best is trial 992 with value: -734.625.\u001b[0m\n",
      "\u001b[32m[I 2021-02-16 22:24:34,748]\u001b[0m Trial 994 finished with value: -407.659 and parameters: {'a': 8, 'b': 27, 'stop_loss': 15, 'take_profit': 46}. Best is trial 992 with value: -734.625.\u001b[0m\n"
     ]
    },
    {
     "name": "stdout",
     "output_type": "stream",
     "text": [
      "a: 9, b: 28, score: 371.31\n",
      "a: 8, b: 27, score: 407.66\n"
     ]
    },
    {
     "name": "stderr",
     "output_type": "stream",
     "text": [
      "\u001b[32m[I 2021-02-16 22:24:34,874]\u001b[0m Trial 995 finished with value: -564.972 and parameters: {'a': 9, 'b': 27, 'stop_loss': 16, 'take_profit': 45}. Best is trial 992 with value: -734.625.\u001b[0m\n",
      "\u001b[32m[I 2021-02-16 22:24:34,993]\u001b[0m Trial 996 finished with value: -583.525 and parameters: {'a': 9, 'b': 27, 'stop_loss': 18, 'take_profit': 45}. Best is trial 992 with value: -734.625.\u001b[0m\n"
     ]
    },
    {
     "name": "stdout",
     "output_type": "stream",
     "text": [
      "a: 9, b: 27, score: 564.97\n",
      "a: 9, b: 27, score: 583.52\n"
     ]
    },
    {
     "name": "stderr",
     "output_type": "stream",
     "text": [
      "\u001b[32m[I 2021-02-16 22:24:35,107]\u001b[0m Trial 997 finished with value: -268.273 and parameters: {'a': 8, 'b': 26, 'stop_loss': 19, 'take_profit': 44}. Best is trial 992 with value: -734.625.\u001b[0m\n",
      "\u001b[32m[I 2021-02-16 22:24:35,222]\u001b[0m Trial 998 finished with value: -644.499 and parameters: {'a': 9, 'b': 28, 'stop_loss': 13, 'take_profit': 45}. Best is trial 992 with value: -734.625.\u001b[0m\n"
     ]
    },
    {
     "name": "stdout",
     "output_type": "stream",
     "text": [
      "a: 8, b: 26, score: 268.27\n",
      "a: 9, b: 28, score: 644.50\n"
     ]
    },
    {
     "name": "stderr",
     "output_type": "stream",
     "text": [
      "\u001b[32m[I 2021-02-16 22:24:35,341]\u001b[0m Trial 999 finished with value: -765.499 and parameters: {'a': 9, 'b': 29, 'stop_loss': 12, 'take_profit': 44}. Best is trial 999 with value: -765.499.\u001b[0m\n"
     ]
    },
    {
     "name": "stdout",
     "output_type": "stream",
     "text": [
      "a: 9, b: 29, score: 765.50\n"
     ]
    }
   ],
   "source": [
    "study = optuna.create_study()\n",
    "study.optimize(objective, n_trials=1000)"
   ]
  },
  {
   "cell_type": "code",
   "execution_count": null,
   "id": "athletic-rocket",
   "metadata": {},
   "outputs": [],
   "source": []
  }
 ],
 "metadata": {
  "kernelspec": {
   "display_name": "Python 3",
   "language": "python",
   "name": "python3"
  },
  "language_info": {
   "codemirror_mode": {
    "name": "ipython",
    "version": 3
   },
   "file_extension": ".py",
   "mimetype": "text/x-python",
   "name": "python",
   "nbconvert_exporter": "python",
   "pygments_lexer": "ipython3",
   "version": "3.8.7"
  }
 },
 "nbformat": 4,
 "nbformat_minor": 5
}
