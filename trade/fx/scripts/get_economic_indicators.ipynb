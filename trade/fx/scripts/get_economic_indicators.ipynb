{
 "cells": [
  {
   "cell_type": "markdown",
   "metadata": {},
   "source": [
    "# 経済指標"
   ]
  },
  {
   "cell_type": "code",
   "execution_count": 1,
   "metadata": {},
   "outputs": [],
   "source": [
    "import pandas as pd\n",
    "import datetime\n",
    "import time\n",
    "import re\n",
    "import datetime\n",
    "import numpy as np\n",
    "import lxml.html"
   ]
  },
  {
   "cell_type": "code",
   "execution_count": 2,
   "metadata": {},
   "outputs": [],
   "source": [
    "countries = [\n",
    "    'アメリカ',\n",
    "    'ドイツ',\n",
    "    '日本',\n",
    "    '英国',\n",
    "    'ユーロ',\n",
    "    'カナダ',\n",
    "    'トルコ',\n",
    "    '豪',\n",
    "    '中国',\n",
    "    'スイス',\n",
    "    '仏',\n",
    "    '南ア',\n",
    "    '香港',\n",
    "    'NZ',\n",
    "    '韓国',\n",
    "    'シンガポール',\n",
    "    'ブラジル',\n",
    "    'インド',\n",
    "]"
   ]
  },
  {
   "cell_type": "code",
   "execution_count": 3,
   "metadata": {},
   "outputs": [],
   "source": [
    "def get_df(url, date):\n",
    "    url_date = url + date\n",
    "    df = pd.read_html(url_date)\n",
    "    df = df[0].dropna(subset = [4]).drop(2,axis =1)\n",
    "    df.columns = [\"発表時刻\", \"経済指標\", \"前回変動幅(USD/JPY)\",\"前回\",\"予想\",\"結果\"]\n",
    "    df[\"日付\"] = date\n",
    "    return df"
   ]
  },
  {
   "cell_type": "code",
   "execution_count": 4,
   "metadata": {},
   "outputs": [],
   "source": [
    "def str2num(text):\n",
    "    '''\n",
    "    表中の単位付きデータから数値を抜き出す\n",
    "    データのカラムにapplyする\n",
    "    かっこの中身を優先して読み取る。（速報値用）\n",
    "    args:\n",
    "        text: string or int or float\n",
    "    return:\n",
    "        num: float\n",
    "    '''\n",
    "    if((type(text) == int) or (type(text) == float)):\n",
    "        return text\n",
    "    if len(text.split('（')) == 2:\n",
    "        text = text.split('（')[1]\n",
    "    pattern = '[+]?[-]?[0-9]+[.]?[0-9]+?'\n",
    "    result = re.match(pattern, text)\n",
    "    if result == None:\n",
    "        return 0\n",
    "    return  float(text[result.start():result.end()])"
   ]
  },
  {
   "cell_type": "code",
   "execution_count": 5,
   "metadata": {},
   "outputs": [],
   "source": [
    "def del_duplicate(df):\n",
    "    '''\n",
    "    データを古い順番に並べ替えて、重複データを削除する。\n",
    "    新しい順だと新しいデータが残ってしまう。\n",
    "    args:\n",
    "        df: pd.DataFrame, columns = ['発表時刻', '経済指標', '前回変動幅(USD/JPY)', '前回', '予想', '結果', '日付']\n",
    "    return:\n",
    "        df: reversed, del duplicates\n",
    "    '''\n",
    "    df = df.reset_index(drop=True)\n",
    "    cols = df.columns\n",
    "    idx = list(df.index.values)\n",
    "    idx.reverse()\n",
    "    \n",
    "    def inv_bool(a):\n",
    "        if a == False:\n",
    "            return True\n",
    "        else:\n",
    "            return False\n",
    "    \n",
    "    df_rev = df.iloc[idx].reset_index(drop=True)\n",
    "    return df_rev[df_rev[cols[:-1]].duplicated().apply(inv_bool)].reset_index(drop=True)"
   ]
  },
  {
   "cell_type": "code",
   "execution_count": 6,
   "metadata": {},
   "outputs": [],
   "source": [
    "def datetime_merge(d, t):\n",
    "    dt = d + \" \" + t\n",
    "    return datetime.datetime.strptime(dt, '%Y-%m-%d %H:%M')"
   ]
  },
  {
   "cell_type": "code",
   "execution_count": 7,
   "metadata": {},
   "outputs": [],
   "source": [
    "def indicators(text):\n",
    "    '''\n",
    "    経済指標を成型して、指標を取り出す。\n",
    "    '''\n",
    "    if len(text.split('[')) > 1:\n",
    "        return \"-\"\n",
    "    return text.split(' ')[0]\n",
    "    \n",
    "def ind_filter(df, ind):\n",
    "    '''\n",
    "    指定した指標、国名のデータを取り出す。\n",
    "    '''\n",
    "    return df[df['経済指標'].str.contains(ind, na=False)]"
   ]
  },
  {
   "cell_type": "code",
   "execution_count": 8,
   "metadata": {},
   "outputs": [],
   "source": [
    "# N = 820\n",
    "# pdf = pd.DataFrame()\n",
    "# for i in range(N):\n",
    "#     date = datetime.date(2021, 4, 1) - datetime.timedelta(days=i)\n",
    "#     date = date.strftime('%Y-%m-%d')\n",
    "#     url = f'https://fx.minkabu.jp/indicators?date='\n",
    "#     pdf_date = get_df(url, date)\n",
    "#     pdf = pd.concat([pdf, pdf_date], axis=0)\n",
    "#     time.sleep(0.1)\n",
    "# pdf = pdf.reset_index(drop=True)"
   ]
  },
  {
   "cell_type": "code",
   "execution_count": 9,
   "metadata": {},
   "outputs": [
    {
     "data": {
      "text/html": [
       "<div>\n",
       "<style scoped>\n",
       "    .dataframe tbody tr th:only-of-type {\n",
       "        vertical-align: middle;\n",
       "    }\n",
       "\n",
       "    .dataframe tbody tr th {\n",
       "        vertical-align: top;\n",
       "    }\n",
       "\n",
       "    .dataframe thead th {\n",
       "        text-align: right;\n",
       "    }\n",
       "</style>\n",
       "<table border=\"1\" class=\"dataframe\">\n",
       "  <thead>\n",
       "    <tr style=\"text-align: right;\">\n",
       "      <th></th>\n",
       "      <th>発表時刻</th>\n",
       "      <th>経済指標</th>\n",
       "      <th>前回変動幅(USD/JPY)</th>\n",
       "      <th>前回</th>\n",
       "      <th>予想</th>\n",
       "      <th>結果</th>\n",
       "      <th>日付</th>\n",
       "    </tr>\n",
       "  </thead>\n",
       "  <tbody>\n",
       "    <tr>\n",
       "      <th>0</th>\n",
       "      <td>22:30</td>\n",
       "      <td>アメリカ・新規失業保険申請件数 12/23 - 12/29</td>\n",
       "      <td>+0.6pips</td>\n",
       "      <td>21.6万件  （22.1万件）</td>\n",
       "      <td>22.0万件</td>\n",
       "      <td>23.1万件</td>\n",
       "      <td>2019-01-03</td>\n",
       "    </tr>\n",
       "    <tr>\n",
       "      <th>1</th>\n",
       "      <td>22:15</td>\n",
       "      <td>アメリカ・ADP雇用者数 12月</td>\n",
       "      <td>-1.2pips</td>\n",
       "      <td>17.9万人  （15.7万人）</td>\n",
       "      <td>18.0万人</td>\n",
       "      <td>27.1万人</td>\n",
       "      <td>2019-01-03</td>\n",
       "    </tr>\n",
       "    <tr>\n",
       "      <th>2</th>\n",
       "      <td>21:00</td>\n",
       "      <td>アメリカ・MBA住宅ローン申請指数 12/22 - 12/28</td>\n",
       "      <td>---</td>\n",
       "      <td>-1.4%</td>\n",
       "      <td>---</td>\n",
       "      <td>-8.5%</td>\n",
       "      <td>2019-01-03</td>\n",
       "    </tr>\n",
       "    <tr>\n",
       "      <th>3</th>\n",
       "      <td>17:30</td>\n",
       "      <td>[前年比]</td>\n",
       "      <td>NaN</td>\n",
       "      <td>5.2%  （5.3%）</td>\n",
       "      <td>4.6%</td>\n",
       "      <td>1.2%</td>\n",
       "      <td>2019-01-03</td>\n",
       "    </tr>\n",
       "    <tr>\n",
       "      <th>4</th>\n",
       "      <td>17:30</td>\n",
       "      <td>香港・小売売上高 11月  [前年比]</td>\n",
       "      <td>-1.2pips</td>\n",
       "      <td>5.9%  （6.0%）</td>\n",
       "      <td>4.5%</td>\n",
       "      <td>1.4%</td>\n",
       "      <td>2019-01-03</td>\n",
       "    </tr>\n",
       "  </tbody>\n",
       "</table>\n",
       "</div>"
      ],
      "text/plain": [
       "    発表時刻                             経済指標 前回変動幅(USD/JPY)                前回  \\\n",
       "0  22:30    アメリカ・新規失業保険申請件数 12/23 - 12/29       +0.6pips  21.6万件  （22.1万件）   \n",
       "1  22:15                 アメリカ・ADP雇用者数 12月       -1.2pips  17.9万人  （15.7万人）   \n",
       "2  21:00  アメリカ・MBA住宅ローン申請指数 12/22 - 12/28            ---             -1.4%   \n",
       "3  17:30                            [前年比]            NaN      5.2%  （5.3%）   \n",
       "4  17:30              香港・小売売上高 11月  [前年比]       -1.2pips      5.9%  （6.0%）   \n",
       "\n",
       "       予想      結果          日付  \n",
       "0  22.0万件  23.1万件  2019-01-03  \n",
       "1  18.0万人  27.1万人  2019-01-03  \n",
       "2     ---   -8.5%  2019-01-03  \n",
       "3    4.6%    1.2%  2019-01-03  \n",
       "4    4.5%    1.4%  2019-01-03  "
      ]
     },
     "execution_count": 9,
     "metadata": {},
     "output_type": "execute_result"
    }
   ],
   "source": [
    "file_name = '../data/fx_indicators.csv' \n",
    "# pdf.to_csv(file_name, index=False)\n",
    "pdf = pd.read_csv(file_name)\n",
    "pdf = del_duplicate(pdf)\n",
    "pdf.head()"
   ]
  },
  {
   "cell_type": "code",
   "execution_count": 10,
   "metadata": {},
   "outputs": [],
   "source": [
    "pdf['country'] = pdf['経済指標'].apply(lambda x: x.split(\"・\")[0] if x.split(\"・\")[0] in countries else '日本')\n",
    "pdf['pips_reaction'] = pdf['前回変動幅(USD/JPY)'].apply(str2num).fillna(0)\n",
    "pdf['datetime'] =  pdf.apply(lambda row:datetime_merge(*row[['日付', '発表時刻']]), axis=1)\n",
    "\n",
    "pdf['previous_value'] = pdf['前回'].apply(str2num)\n",
    "pdf['predicted_value'] = pdf['予想'].apply(str2num)\n",
    "pdf['actual_value'] = pdf['結果'].apply(str2num)\n",
    "\n",
    "pdf['indicators'] = pdf['経済指標'].apply(lambda x: x if x.split(\"・\")[0] in countries else '日本・'+x)\\\n",
    "                .apply(lambda x: x.split(\"・\")[1].split(' ')[0].split('[')[0])"
   ]
  },
  {
   "cell_type": "code",
   "execution_count": 11,
   "metadata": {},
   "outputs": [],
   "source": [
    "cols = ['datetime', 'country', 'indicators', 'pips_reaction', 'previous_value', 'predicted_value', 'actual_value']\n",
    "cond = pdf['indicators'] != ''\n",
    "indicator_df = pdf[cond][cols].copy().reset_index(drop=True)"
   ]
  },
  {
   "cell_type": "code",
   "execution_count": 12,
   "metadata": {},
   "outputs": [],
   "source": [
    "file_name = '../data/preprocessed_fx_indicators.csv' \n",
    "indicator_df.to_csv(file_name, index=False)"
   ]
  },
  {
   "cell_type": "code",
   "execution_count": null,
   "metadata": {},
   "outputs": [],
   "source": []
  }
 ],
 "metadata": {
  "kernelspec": {
   "display_name": "Python 3",
   "language": "python",
   "name": "python3"
  },
  "language_info": {
   "codemirror_mode": {
    "name": "ipython",
    "version": 3
   },
   "file_extension": ".py",
   "mimetype": "text/x-python",
   "name": "python",
   "nbconvert_exporter": "python",
   "pygments_lexer": "ipython3",
   "version": "3.8.7"
  }
 },
 "nbformat": 4,
 "nbformat_minor": 2
}
