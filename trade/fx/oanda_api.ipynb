{
 "cells": [
  {
   "cell_type": "code",
   "execution_count": 3,
   "id": "hollow-myrtle",
   "metadata": {},
   "outputs": [],
   "source": [
    "import os"
   ]
  },
  {
   "cell_type": "code",
   "execution_count": 2,
   "id": "bearing-panic",
   "metadata": {},
   "outputs": [],
   "source": [
    "from oandapyV20 import API\n",
    "from oandapyV20.exceptions import V20Error\n",
    "from oandapyV20.endpoints.pricing import PricingStream\n",
    "import oandapyV20.endpoints.orders as orders\n",
    "import oandapyV20.endpoints.instruments as instruments"
   ]
  },
  {
   "cell_type": "code",
   "execution_count": 5,
   "id": "retired-motor",
   "metadata": {},
   "outputs": [],
   "source": [
    "accountID = os.environ['oanda_account_id']\n",
    "access_token = os.environ['oanda_access_token']\n",
    "\n",
    "api = API(access_token=access_token, environment=\"live\")"
   ]
  },
  {
   "cell_type": "code",
   "execution_count": 15,
   "id": "brief-edgar",
   "metadata": {
    "scrolled": true
   },
   "outputs": [],
   "source": [
    "# import oandapyV20.endpoints.accounts as accounts\n",
    "# params = { \"instruments\": \"EUR_USD,EUR_JPY,USD_JPY\" }\n",
    "# r = accounts.AccountInstruments(accountID=accountID, params=params)\n",
    "# api.request(r)"
   ]
  },
  {
   "cell_type": "code",
   "execution_count": 16,
   "id": "extra-surgeon",
   "metadata": {},
   "outputs": [],
   "source": [
    "# r = accounts.AccountSummary(accountID)\n",
    "# api.request(r)"
   ]
  },
  {
   "cell_type": "code",
   "execution_count": 17,
   "id": "formed-grocery",
   "metadata": {},
   "outputs": [],
   "source": [
    "# params = {\n",
    "#   \"count\": 1,\n",
    "#   \"granularity\": \"S15\"\n",
    "# }\n",
    "# r = instruments.InstrumentsCandles(instrument=\"USD_JPY\", params=params)\n",
    "# api.request(r)"
   ]
  },
  {
   "cell_type": "code",
   "execution_count": 18,
   "id": "dominant-humanitarian",
   "metadata": {},
   "outputs": [],
   "source": [
    "# import oandapyV20.endpoints.orders as orders\n",
    "# data =  {\n",
    "#     \"order\": {\n",
    "#         \"price\": \"1.2\",\n",
    "#         \"stopLossOnFill\": {\n",
    "#             \"timeInForce\": \"GTC\",\n",
    "#             \"price\": \"1.22\"\n",
    "#         },\n",
    "#         \"timeInForce\": \"GTC\",\n",
    "#         \"instrument\": \"EUR_USD\",\n",
    "#         \"units\": \"-100\",\n",
    "#         \"type\": \"LIMIT\",\n",
    "#         \"positionFill\": \"DEFAULT\"\n",
    "#     }    \n",
    "# }\n",
    "# r = orders.OrderCreate(accountID, data=data)\n",
    "# api.request(r)"
   ]
  },
  {
   "cell_type": "code",
   "execution_count": 19,
   "id": "patient-organization",
   "metadata": {},
   "outputs": [],
   "source": [
    "# import oandapyV20.endpoints.positions as positions\n",
    "# r = positions.OpenPositions(accountID=accountID)\n",
    "# api.request(r)"
   ]
  },
  {
   "cell_type": "code",
   "execution_count": 20,
   "id": "alert-ecology",
   "metadata": {},
   "outputs": [],
   "source": [
    "# import oandapyV20.endpoints.positions as positions\n",
    "# data = {\n",
    "#   \"longUnits\": \"5000\"\n",
    "# }\n",
    "# r = positions.PositionClose(accountID=accountID,\n",
    "#                              instrument='USD_JPY',\n",
    "#                              data=data)\n",
    "# api.request(r)"
   ]
  },
  {
   "cell_type": "code",
   "execution_count": null,
   "id": "ahead-sheriff",
   "metadata": {},
   "outputs": [],
   "source": []
  }
 ],
 "metadata": {
  "kernelspec": {
   "display_name": "Python 3",
   "language": "python",
   "name": "python3"
  },
  "language_info": {
   "codemirror_mode": {
    "name": "ipython",
    "version": 3
   },
   "file_extension": ".py",
   "mimetype": "text/x-python",
   "name": "python",
   "nbconvert_exporter": "python",
   "pygments_lexer": "ipython3",
   "version": "3.8.7"
  }
 },
 "nbformat": 4,
 "nbformat_minor": 5
}
