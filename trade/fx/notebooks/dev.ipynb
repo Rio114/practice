{
 "cells": [
  {
   "cell_type": "code",
   "execution_count": 54,
   "id": "constant-candy",
   "metadata": {},
   "outputs": [],
   "source": [
    "import sys\n",
    "sys.path.append('..')\n",
    "import time"
   ]
  },
  {
   "cell_type": "code",
   "execution_count": 59,
   "id": "above-feeling",
   "metadata": {},
   "outputs": [],
   "source": [
    "import numpy as np\n",
    "import pandas as pd"
   ]
  },
  {
   "cell_type": "code",
   "execution_count": 3,
   "id": "stretch-anxiety",
   "metadata": {
    "scrolled": true
   },
   "outputs": [],
   "source": [
    "from utils.oanda_utils import get_candles_df"
   ]
  },
  {
   "cell_type": "code",
   "execution_count": 21,
   "id": "strange-induction",
   "metadata": {},
   "outputs": [],
   "source": [
    "import datetime"
   ]
  },
  {
   "cell_type": "code",
   "execution_count": 47,
   "id": "clinical-ordinary",
   "metadata": {},
   "outputs": [],
   "source": [
    "params = {\n",
    "    # \"count\": 5000,\n",
    "    \"granularity\": \"M1\",\n",
    "    \"from\": \"2021-3-23\",\n",
    "    \"to\": \"2021-3-28\",\n",
    "}"
   ]
  },
  {
   "cell_type": "code",
   "execution_count": 48,
   "id": "metallic-titanium",
   "metadata": {},
   "outputs": [],
   "source": [
    "start = datetime.datetime.strptime(params[\"from\"], '%Y-%m-%d') \n",
    "end = datetime.datetime.strptime(params[\"to\"], '%Y-%m-%d') "
   ]
  },
  {
   "cell_type": "code",
   "execution_count": 52,
   "id": "ordinary-simulation",
   "metadata": {},
   "outputs": [
    {
     "data": {
      "text/plain": [
       "5"
      ]
     },
     "execution_count": 52,
     "metadata": {},
     "output_type": "execute_result"
    }
   ],
   "source": [
    "(end - start).days"
   ]
  },
  {
   "cell_type": "code",
   "execution_count": 53,
   "id": "controversial-ensemble",
   "metadata": {},
   "outputs": [
    {
     "data": {
      "text/plain": [
       "datetime.datetime(2021, 3, 24, 0, 0)"
      ]
     },
     "execution_count": 53,
     "metadata": {},
     "output_type": "execute_result"
    }
   ],
   "source": [
    "start + datetime.timedelta(days=1)"
   ]
  },
  {
   "cell_type": "code",
   "execution_count": 57,
   "id": "pending-wound",
   "metadata": {},
   "outputs": [],
   "source": [
    "days = (end - start).days\n",
    "\n",
    "dfs = []\n",
    "\n",
    "for d in range(days):\n",
    "    start_temp = start + datetime.timedelta(days=d)\n",
    "    end_temp = start_temp + datetime.timedelta(days=1)\n",
    "\n",
    "    params_temp = {\n",
    "        # \"count\": 5000,\n",
    "        \"granularity\": \"M1\",\n",
    "        \"from\": f\"{start_temp.year}-{start_temp.month}-{start_temp.day}T00:00:00.000000000Z\",\n",
    "        \"to\": f\"{end_temp.year}-{end_temp.month}-{end_temp.day}T00:00:00.000000000Z\",\n",
    "    }\n",
    "    instrument = \"USD_JPY\"\n",
    "    \n",
    "    time.sleep(0.5)\n",
    "    dfs.append(get_candles_df(instrument, params_temp))"
   ]
  },
  {
   "cell_type": "code",
   "execution_count": 60,
   "id": "ordered-engineer",
   "metadata": {},
   "outputs": [
    {
     "data": {
      "text/html": [
       "<div>\n",
       "<style scoped>\n",
       "    .dataframe tbody tr th:only-of-type {\n",
       "        vertical-align: middle;\n",
       "    }\n",
       "\n",
       "    .dataframe tbody tr th {\n",
       "        vertical-align: top;\n",
       "    }\n",
       "\n",
       "    .dataframe thead th {\n",
       "        text-align: right;\n",
       "    }\n",
       "</style>\n",
       "<table border=\"1\" class=\"dataframe\">\n",
       "  <thead>\n",
       "    <tr style=\"text-align: right;\">\n",
       "      <th></th>\n",
       "      <th>time</th>\n",
       "      <th>flg</th>\n",
       "      <th>O</th>\n",
       "      <th>H</th>\n",
       "      <th>L</th>\n",
       "      <th>C</th>\n",
       "      <th>V</th>\n",
       "    </tr>\n",
       "  </thead>\n",
       "  <tbody>\n",
       "    <tr>\n",
       "      <th>0</th>\n",
       "      <td>2021-03-23 00:00:00+00:00</td>\n",
       "      <td>True</td>\n",
       "      <td>108.779</td>\n",
       "      <td>108.786</td>\n",
       "      <td>108.773</td>\n",
       "      <td>108.774</td>\n",
       "      <td>42</td>\n",
       "    </tr>\n",
       "    <tr>\n",
       "      <th>1</th>\n",
       "      <td>2021-03-23 00:01:00+00:00</td>\n",
       "      <td>True</td>\n",
       "      <td>108.772</td>\n",
       "      <td>108.775</td>\n",
       "      <td>108.768</td>\n",
       "      <td>108.772</td>\n",
       "      <td>26</td>\n",
       "    </tr>\n",
       "    <tr>\n",
       "      <th>2</th>\n",
       "      <td>2021-03-23 00:02:00+00:00</td>\n",
       "      <td>True</td>\n",
       "      <td>108.771</td>\n",
       "      <td>108.780</td>\n",
       "      <td>108.766</td>\n",
       "      <td>108.780</td>\n",
       "      <td>47</td>\n",
       "    </tr>\n",
       "    <tr>\n",
       "      <th>3</th>\n",
       "      <td>2021-03-23 00:03:00+00:00</td>\n",
       "      <td>True</td>\n",
       "      <td>108.778</td>\n",
       "      <td>108.787</td>\n",
       "      <td>108.778</td>\n",
       "      <td>108.784</td>\n",
       "      <td>26</td>\n",
       "    </tr>\n",
       "    <tr>\n",
       "      <th>4</th>\n",
       "      <td>2021-03-23 00:04:00+00:00</td>\n",
       "      <td>True</td>\n",
       "      <td>108.783</td>\n",
       "      <td>108.783</td>\n",
       "      <td>108.773</td>\n",
       "      <td>108.779</td>\n",
       "      <td>23</td>\n",
       "    </tr>\n",
       "  </tbody>\n",
       "</table>\n",
       "</div>"
      ],
      "text/plain": [
       "                       time   flg        O        H        L        C   V\n",
       "0 2021-03-23 00:00:00+00:00  True  108.779  108.786  108.773  108.774  42\n",
       "1 2021-03-23 00:01:00+00:00  True  108.772  108.775  108.768  108.772  26\n",
       "2 2021-03-23 00:02:00+00:00  True  108.771  108.780  108.766  108.780  47\n",
       "3 2021-03-23 00:03:00+00:00  True  108.778  108.787  108.778  108.784  26\n",
       "4 2021-03-23 00:04:00+00:00  True  108.783  108.783  108.773  108.779  23"
      ]
     },
     "execution_count": 60,
     "metadata": {},
     "output_type": "execute_result"
    }
   ],
   "source": [
    "df = pd.concat(dfs, axis=0)\n",
    "df.head()"
   ]
  },
  {
   "cell_type": "code",
   "execution_count": 68,
   "id": "indie-hurricane",
   "metadata": {},
   "outputs": [
    {
     "data": {
      "text/html": [
       "<div>\n",
       "<style scoped>\n",
       "    .dataframe tbody tr th:only-of-type {\n",
       "        vertical-align: middle;\n",
       "    }\n",
       "\n",
       "    .dataframe tbody tr th {\n",
       "        vertical-align: top;\n",
       "    }\n",
       "\n",
       "    .dataframe thead th {\n",
       "        text-align: right;\n",
       "    }\n",
       "</style>\n",
       "<table border=\"1\" class=\"dataframe\">\n",
       "  <thead>\n",
       "    <tr style=\"text-align: right;\">\n",
       "      <th></th>\n",
       "      <th>flg</th>\n",
       "      <th>O</th>\n",
       "      <th>H</th>\n",
       "      <th>L</th>\n",
       "      <th>C</th>\n",
       "      <th>V</th>\n",
       "    </tr>\n",
       "    <tr>\n",
       "      <th>time</th>\n",
       "      <th></th>\n",
       "      <th></th>\n",
       "      <th></th>\n",
       "      <th></th>\n",
       "      <th></th>\n",
       "      <th></th>\n",
       "    </tr>\n",
       "  </thead>\n",
       "  <tbody>\n",
       "    <tr>\n",
       "      <th>2021-03-23 00:00:00+00:00</th>\n",
       "      <td>True</td>\n",
       "      <td>108.779</td>\n",
       "      <td>108.786</td>\n",
       "      <td>108.773</td>\n",
       "      <td>108.774</td>\n",
       "      <td>42</td>\n",
       "    </tr>\n",
       "    <tr>\n",
       "      <th>2021-03-23 00:01:00+00:00</th>\n",
       "      <td>True</td>\n",
       "      <td>108.772</td>\n",
       "      <td>108.775</td>\n",
       "      <td>108.768</td>\n",
       "      <td>108.772</td>\n",
       "      <td>26</td>\n",
       "    </tr>\n",
       "    <tr>\n",
       "      <th>2021-03-23 00:02:00+00:00</th>\n",
       "      <td>True</td>\n",
       "      <td>108.771</td>\n",
       "      <td>108.780</td>\n",
       "      <td>108.766</td>\n",
       "      <td>108.780</td>\n",
       "      <td>47</td>\n",
       "    </tr>\n",
       "    <tr>\n",
       "      <th>2021-03-23 00:03:00+00:00</th>\n",
       "      <td>True</td>\n",
       "      <td>108.778</td>\n",
       "      <td>108.787</td>\n",
       "      <td>108.778</td>\n",
       "      <td>108.784</td>\n",
       "      <td>26</td>\n",
       "    </tr>\n",
       "    <tr>\n",
       "      <th>2021-03-23 00:04:00+00:00</th>\n",
       "      <td>True</td>\n",
       "      <td>108.783</td>\n",
       "      <td>108.783</td>\n",
       "      <td>108.773</td>\n",
       "      <td>108.779</td>\n",
       "      <td>23</td>\n",
       "    </tr>\n",
       "    <tr>\n",
       "      <th>...</th>\n",
       "      <td>...</td>\n",
       "      <td>...</td>\n",
       "      <td>...</td>\n",
       "      <td>...</td>\n",
       "      <td>...</td>\n",
       "      <td>...</td>\n",
       "    </tr>\n",
       "    <tr>\n",
       "      <th>2021-03-26 20:55:00+00:00</th>\n",
       "      <td>True</td>\n",
       "      <td>109.680</td>\n",
       "      <td>109.686</td>\n",
       "      <td>109.680</td>\n",
       "      <td>109.684</td>\n",
       "      <td>22</td>\n",
       "    </tr>\n",
       "    <tr>\n",
       "      <th>2021-03-26 20:56:00+00:00</th>\n",
       "      <td>True</td>\n",
       "      <td>109.682</td>\n",
       "      <td>109.682</td>\n",
       "      <td>109.677</td>\n",
       "      <td>109.677</td>\n",
       "      <td>5</td>\n",
       "    </tr>\n",
       "    <tr>\n",
       "      <th>2021-03-26 20:57:00+00:00</th>\n",
       "      <td>True</td>\n",
       "      <td>109.683</td>\n",
       "      <td>109.685</td>\n",
       "      <td>109.674</td>\n",
       "      <td>109.677</td>\n",
       "      <td>17</td>\n",
       "    </tr>\n",
       "    <tr>\n",
       "      <th>2021-03-26 20:58:00+00:00</th>\n",
       "      <td>True</td>\n",
       "      <td>109.674</td>\n",
       "      <td>109.689</td>\n",
       "      <td>109.674</td>\n",
       "      <td>109.676</td>\n",
       "      <td>32</td>\n",
       "    </tr>\n",
       "    <tr>\n",
       "      <th>2021-03-26 20:59:00+00:00</th>\n",
       "      <td>True</td>\n",
       "      <td>109.672</td>\n",
       "      <td>109.690</td>\n",
       "      <td>109.672</td>\n",
       "      <td>109.682</td>\n",
       "      <td>25</td>\n",
       "    </tr>\n",
       "  </tbody>\n",
       "</table>\n",
       "<p>5469 rows × 6 columns</p>\n",
       "</div>"
      ],
      "text/plain": [
       "                            flg        O        H        L        C   V\n",
       "time                                                                   \n",
       "2021-03-23 00:00:00+00:00  True  108.779  108.786  108.773  108.774  42\n",
       "2021-03-23 00:01:00+00:00  True  108.772  108.775  108.768  108.772  26\n",
       "2021-03-23 00:02:00+00:00  True  108.771  108.780  108.766  108.780  47\n",
       "2021-03-23 00:03:00+00:00  True  108.778  108.787  108.778  108.784  26\n",
       "2021-03-23 00:04:00+00:00  True  108.783  108.783  108.773  108.779  23\n",
       "...                         ...      ...      ...      ...      ...  ..\n",
       "2021-03-26 20:55:00+00:00  True  109.680  109.686  109.680  109.684  22\n",
       "2021-03-26 20:56:00+00:00  True  109.682  109.682  109.677  109.677   5\n",
       "2021-03-26 20:57:00+00:00  True  109.683  109.685  109.674  109.677  17\n",
       "2021-03-26 20:58:00+00:00  True  109.674  109.689  109.674  109.676  32\n",
       "2021-03-26 20:59:00+00:00  True  109.672  109.690  109.672  109.682  25\n",
       "\n",
       "[5469 rows x 6 columns]"
      ]
     },
     "execution_count": 68,
     "metadata": {},
     "output_type": "execute_result"
    }
   ],
   "source": [
    "df"
   ]
  },
  {
   "cell_type": "code",
   "execution_count": 96,
   "id": "sexual-genesis",
   "metadata": {},
   "outputs": [],
   "source": [
    "def add_ma(df, window, align=\"C\"):\n",
    "    df[f\"ma_{window}\"] = df[align].rolling(window).mean()\n",
    "    return df"
   ]
  },
  {
   "cell_type": "code",
   "execution_count": 97,
   "id": "included-estate",
   "metadata": {},
   "outputs": [],
   "source": [
    "def add_ema(df, window, align=\"C\"):\n",
    "    ema = np.zeros(len(df))\n",
    "    ema[:] = np.nan # NaN で一旦初期化\n",
    "    ema[window-1] = df[align][:window].mean() # 最初だけ単純移動平均で算出\n",
    "    \n",
    "    for day in range(window, len(df)):\n",
    "        ema[day] = ema[day-1] + (df[align][day] - ema[day-1]) / (window + 1) * 2\n",
    "    \n",
    "    df[f\"ema_{window}\"] = ema\n",
    "    return df"
   ]
  },
  {
   "cell_type": "code",
   "execution_count": 100,
   "id": "concrete-running",
   "metadata": {},
   "outputs": [
    {
     "data": {
      "text/plain": [
       "<AxesSubplot:xlabel='time'>"
      ]
     },
     "execution_count": 100,
     "metadata": {},
     "output_type": "execute_result"
    },
    {
     "data": {
      "image/png": "[encoded data removed]",
      "text/plain": [
       "<Figure size 432x288 with 1 Axes>"
      ]
     },
     "metadata": {
      "needs_background": "light"
     },
     "output_type": "display_data"
    }
   ],
   "source": [
    "start = datetime.datetime(2021, 3, 23, 1, 0, 0, tzinfo=datetime.timezone.utc)\n",
    "end = datetime.datetime(2021, 3, 23, 2, 0, 0, tzinfo=datetime.timezone.utc)\n",
    "\n",
    "cond = df.index >= start\n",
    "cond &= df.index < end\n",
    "\n",
    "df[cond]['C'].plot()\n",
    "add_ema(df, 10, align=\"C\")[cond][\"ema_10\"].dropna().plot()\n",
    "add_ma(df, 10, align=\"C\")[cond][\"ma_10\"].dropna().plot()\n"
   ]
  },
  {
   "cell_type": "code",
   "execution_count": 61,
   "id": "valued-aside",
   "metadata": {},
   "outputs": [],
   "source": [
    "df = df.set_index('time')"
   ]
  },
  {
   "cell_type": "code",
   "execution_count": 67,
   "id": "humanitarian-flavor",
   "metadata": {},
   "outputs": [
    {
     "data": {
      "text/html": [
       "<div>\n",
       "<style scoped>\n",
       "    .dataframe tbody tr th:only-of-type {\n",
       "        vertical-align: middle;\n",
       "    }\n",
       "\n",
       "    .dataframe tbody tr th {\n",
       "        vertical-align: top;\n",
       "    }\n",
       "\n",
       "    .dataframe thead th {\n",
       "        text-align: right;\n",
       "    }\n",
       "</style>\n",
       "<table border=\"1\" class=\"dataframe\">\n",
       "  <thead>\n",
       "    <tr style=\"text-align: right;\">\n",
       "      <th></th>\n",
       "      <th>O</th>\n",
       "      <th>H</th>\n",
       "      <th>L</th>\n",
       "      <th>C</th>\n",
       "      <th>V</th>\n",
       "    </tr>\n",
       "  </thead>\n",
       "  <tbody>\n",
       "    <tr>\n",
       "      <th>count</th>\n",
       "      <td>5469.000000</td>\n",
       "      <td>5469.000000</td>\n",
       "      <td>5469.000000</td>\n",
       "      <td>5469.000000</td>\n",
       "      <td>5469.000000</td>\n",
       "    </tr>\n",
       "    <tr>\n",
       "      <th>mean</th>\n",
       "      <td>108.961647</td>\n",
       "      <td>108.967119</td>\n",
       "      <td>108.956426</td>\n",
       "      <td>108.961804</td>\n",
       "      <td>41.361675</td>\n",
       "    </tr>\n",
       "    <tr>\n",
       "      <th>std</th>\n",
       "      <td>0.355479</td>\n",
       "      <td>0.355686</td>\n",
       "      <td>0.355423</td>\n",
       "      <td>0.355561</td>\n",
       "      <td>32.826400</td>\n",
       "    </tr>\n",
       "    <tr>\n",
       "      <th>min</th>\n",
       "      <td>108.410000</td>\n",
       "      <td>108.430000</td>\n",
       "      <td>108.405000</td>\n",
       "      <td>108.412000</td>\n",
       "      <td>1.000000</td>\n",
       "    </tr>\n",
       "    <tr>\n",
       "      <th>25%</th>\n",
       "      <td>108.690000</td>\n",
       "      <td>108.695000</td>\n",
       "      <td>108.685000</td>\n",
       "      <td>108.690000</td>\n",
       "      <td>19.000000</td>\n",
       "    </tr>\n",
       "    <tr>\n",
       "      <th>50%</th>\n",
       "      <td>108.868000</td>\n",
       "      <td>108.877000</td>\n",
       "      <td>108.860000</td>\n",
       "      <td>108.868000</td>\n",
       "      <td>34.000000</td>\n",
       "    </tr>\n",
       "    <tr>\n",
       "      <th>75%</th>\n",
       "      <td>109.177000</td>\n",
       "      <td>109.180000</td>\n",
       "      <td>109.174000</td>\n",
       "      <td>109.177000</td>\n",
       "      <td>54.000000</td>\n",
       "    </tr>\n",
       "    <tr>\n",
       "      <th>max</th>\n",
       "      <td>109.842000</td>\n",
       "      <td>109.848000</td>\n",
       "      <td>109.822000</td>\n",
       "      <td>109.843000</td>\n",
       "      <td>478.000000</td>\n",
       "    </tr>\n",
       "  </tbody>\n",
       "</table>\n",
       "</div>"
      ],
      "text/plain": [
       "                 O            H            L            C            V\n",
       "count  5469.000000  5469.000000  5469.000000  5469.000000  5469.000000\n",
       "mean    108.961647   108.967119   108.956426   108.961804    41.361675\n",
       "std       0.355479     0.355686     0.355423     0.355561    32.826400\n",
       "min     108.410000   108.430000   108.405000   108.412000     1.000000\n",
       "25%     108.690000   108.695000   108.685000   108.690000    19.000000\n",
       "50%     108.868000   108.877000   108.860000   108.868000    34.000000\n",
       "75%     109.177000   109.180000   109.174000   109.177000    54.000000\n",
       "max     109.842000   109.848000   109.822000   109.843000   478.000000"
      ]
     },
     "execution_count": 67,
     "metadata": {},
     "output_type": "execute_result"
    }
   ],
   "source": [
    "df.describe()"
   ]
  },
  {
   "cell_type": "code",
   "execution_count": 63,
   "id": "universal-nation",
   "metadata": {},
   "outputs": [
    {
     "data": {
      "text/plain": [
       "<AxesSubplot:xlabel='time'>"
      ]
     },
     "execution_count": 63,
     "metadata": {},
     "output_type": "execute_result"
    },
    {
     "data": {
      "image/png": "[encoded data removed]",
      "text/plain": [
       "<Figure size 432x288 with 1 Axes>"
      ]
     },
     "metadata": {
      "needs_background": "light"
     },
     "output_type": "display_data"
    }
   ],
   "source": [
    "df['O'].plot()"
   ]
  },
  {
   "cell_type": "code",
   "execution_count": 64,
   "id": "demonstrated-carter",
   "metadata": {},
   "outputs": [
    {
     "data": {
      "text/plain": [
       "<AxesSubplot:xlabel='time'>"
      ]
     },
     "execution_count": 64,
     "metadata": {},
     "output_type": "execute_result"
    },
    {
     "data": {
      "image/png": "[encoded data removed]",
      "text/plain": [
       "<Figure size 432x288 with 1 Axes>"
      ]
     },
     "metadata": {
      "needs_background": "light"
     },
     "output_type": "display_data"
    }
   ],
   "source": [
    "np.log((df['O'] / df['O'].shift(1)).dropna()).plot()"
   ]
  },
  {
   "cell_type": "code",
   "execution_count": 10,
   "id": "hungry-permit",
   "metadata": {},
   "outputs": [
    {
     "data": {
      "text/plain": [
       "<AxesSubplot:xlabel='time'>"
      ]
     },
     "execution_count": 10,
     "metadata": {},
     "output_type": "execute_result"
    },
    {
     "data": {
      "image/png": "[encoded data removed]",
      "text/plain": [
       "<Figure size 432x288 with 1 Axes>"
      ]
     },
     "metadata": {
      "needs_background": "light"
     },
     "output_type": "display_data"
    }
   ],
   "source": [
    "df['V'].plot()"
   ]
  },
  {
   "cell_type": "code",
   "execution_count": null,
   "id": "rotary-place",
   "metadata": {},
   "outputs": [],
   "source": []
  }
 ],
 "metadata": {
  "kernelspec": {
   "display_name": "Python 3",
   "language": "python",
   "name": "python3"
  },
  "language_info": {
   "codemirror_mode": {
    "name": "ipython",
    "version": 3
   },
   "file_extension": ".py",
   "mimetype": "text/x-python",
   "name": "python",
   "nbconvert_exporter": "python",
   "pygments_lexer": "ipython3",
   "version": "3.8.7"
  }
 },
 "nbformat": 4,
 "nbformat_minor": 5
}
