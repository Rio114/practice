{
 "cells": [
  {
   "cell_type": "code",
   "execution_count": 1,
   "id": "scenic-singles",
   "metadata": {},
   "outputs": [],
   "source": [
    "import numpy as np\n",
    "import pandas as pd\n",
    "from sklearn.preprocessing import StandardScaler\n",
    "\n",
    "# グラフ描画\n",
    "from matplotlib import pylab as plt\n",
    "\n",
    "# グラフを横長にする\n",
    "from matplotlib.pylab import rcParams\n",
    "rcParams['figure.figsize'] = 15, 6"
   ]
  },
  {
   "cell_type": "code",
   "execution_count": 2,
   "id": "breeding-pitch",
   "metadata": {},
   "outputs": [],
   "source": [
    "import tensorflow as tf"
   ]
  },
  {
   "cell_type": "code",
   "execution_count": 3,
   "id": "three-eagle",
   "metadata": {},
   "outputs": [],
   "source": [
    "df_m1_temp = pd.read_csv('USD_JPY_M1_20210120_20210204.csv')\n",
    "df_m1_temp[['Od', 'Hd', 'Ld', 'Cd']] = df_m1_temp[['O', 'H', 'L', 'C']].diff()\n",
    "df_m1 = df_m1_temp.dropna().copy()"
   ]
  },
  {
   "cell_type": "code",
   "execution_count": 4,
   "id": "revolutionary-nickname",
   "metadata": {},
   "outputs": [],
   "source": [
    "def make_dataset(df, window_size, variable_cols = ['O', 'H', 'L', 'C'], target_col='C'):\n",
    "\n",
    "    num_var = len(variable_cols)\n",
    "    data, target = [], []\n",
    "\n",
    "    for i in range(len(df) - window_size):\n",
    "        data.append(df[variable_cols][i:i + window_size])\n",
    "        target.append(df[target_col].iloc[i + window_size])\n",
    "\n",
    "    re_data = np.array(data).reshape(len(data), window_size, num_var)\n",
    "    re_target = np.array(target).reshape(len(data), 1)\n",
    "\n",
    "    return re_data, re_target"
   ]
  },
  {
   "cell_type": "code",
   "execution_count": 5,
   "id": "prescribed-border",
   "metadata": {},
   "outputs": [],
   "source": [
    "def standard(se):\n",
    "    \n",
    "    mean =  se.values.mean()\n",
    "    std =  se.values.std()\n",
    "    adj = (se.values - mean) / std\n",
    "    \n",
    "    return mean, std, adj"
   ]
  },
  {
   "cell_type": "code",
   "execution_count": 6,
   "id": "approximate-stamp",
   "metadata": {},
   "outputs": [],
   "source": [
    "mean_open, std_open, df_m1['O_st'] = standard(df_m1['O'] )\n",
    "mean_high, std_high, df_m1['H_st'] = standard(df_m1['H'] )\n",
    "mean_low, std_low, df_m1['L_st'] = standard(df_m1['L'] )\n",
    "mean_close, std_close, df_m1['C_st'] = standard(df_m1['C'] )"
   ]
  },
  {
   "cell_type": "code",
   "execution_count": 12,
   "id": "thermal-airplane",
   "metadata": {},
   "outputs": [],
   "source": [
    "window = 400\n",
    "data_length = 15000\n",
    "x, y = make_dataset(df_m1[-data_length:], window, variable_cols = ['O_st', 'H_st', 'L_st', 'C_st', 'Od', 'Hd', 'Ld', 'Cd'], target_col='C_st')"
   ]
  },
  {
   "cell_type": "code",
   "execution_count": 13,
   "id": "bridal-bacon",
   "metadata": {},
   "outputs": [],
   "source": [
    "val_size = 500\n",
    "test_size = 400\n",
    "\n",
    "x_train =  x[:-(test_size+window)][:-val_size]\n",
    "x_val =  x[:-(test_size+window)][-val_size:]\n",
    "x_test = x[-test_size:]\n",
    "\n",
    "y_train =  y[:-(test_size+window)][:-val_size]\n",
    "y_val =  y[:-(test_size+window)][-val_size:]\n",
    "y_test = y[-test_size:]"
   ]
  },
  {
   "cell_type": "code",
   "execution_count": 14,
   "id": "general-receiver",
   "metadata": {},
   "outputs": [],
   "source": [
    "model = tf.keras.Sequential([\n",
    "    tf.keras.layers.LSTM(400, activation='relu', input_shape=(None, 8)),\n",
    "    tf.keras.layers.Dense(1)\n",
    "])\n",
    "model.compile(optimizer=tf.keras.optimizers.Adam(),\n",
    "              loss=tf.keras.losses.MeanSquaredError())"
   ]
  },
  {
   "cell_type": "code",
   "execution_count": 15,
   "id": "consolidated-cologne",
   "metadata": {},
   "outputs": [
    {
     "name": "stdout",
     "output_type": "stream",
     "text": [
      "Model: \"sequential_1\"\n",
      "_________________________________________________________________\n",
      "Layer (type)                 Output Shape              Param #   \n",
      "=================================================================\n",
      "lstm_1 (LSTM)                (None, 400)               654400    \n",
      "_________________________________________________________________\n",
      "dense_1 (Dense)              (None, 1)                 401       \n",
      "=================================================================\n",
      "Total params: 654,801\n",
      "Trainable params: 654,801\n",
      "Non-trainable params: 0\n",
      "_________________________________________________________________\n"
     ]
    }
   ],
   "source": [
    "model.summary()"
   ]
  },
  {
   "cell_type": "code",
   "execution_count": 16,
   "id": "associate-conversion",
   "metadata": {
    "scrolled": true
   },
   "outputs": [
    {
     "name": "stdout",
     "output_type": "stream",
     "text": [
      "Epoch 1/100\n",
      "133/133 [==============================] - 98s 731ms/step - loss: 0.0618 - val_loss: 4.3242e-04\n",
      "Epoch 2/100\n",
      "133/133 [==============================] - 98s 736ms/step - loss: 1.6675e-04 - val_loss: 2.1013e-04\n",
      "Epoch 3/100\n",
      "133/133 [==============================] - 99s 743ms/step - loss: 1.4646e-04 - val_loss: 1.6253e-04\n",
      "Epoch 4/100\n",
      "133/133 [==============================] - 99s 745ms/step - loss: 1.4228e-04 - val_loss: 2.6537e-04\n",
      "Epoch 5/100\n",
      "133/133 [==============================] - 99s 742ms/step - loss: 1.4535e-04 - val_loss: 1.8742e-04\n",
      "Epoch 6/100\n",
      "133/133 [==============================] - 99s 741ms/step - loss: 1.5091e-04 - val_loss: 2.0692e-04\n",
      "Epoch 7/100\n",
      "133/133 [==============================] - 98s 739ms/step - loss: 1.3883e-04 - val_loss: 1.7447e-04\n",
      "Epoch 8/100\n",
      "133/133 [==============================] - 98s 740ms/step - loss: 1.3671e-04 - val_loss: 4.5917e-04\n",
      "Epoch 9/100\n",
      "133/133 [==============================] - 98s 739ms/step - loss: 1.3791e-04 - val_loss: 2.9475e-04\n",
      "Epoch 10/100\n",
      "133/133 [==============================] - 98s 739ms/step - loss: 1.3682e-04 - val_loss: 1.5783e-04\n",
      "Epoch 11/100\n",
      "133/133 [==============================] - 98s 738ms/step - loss: 1.3152e-04 - val_loss: 2.8244e-04\n",
      "Epoch 12/100\n",
      "133/133 [==============================] - 98s 740ms/step - loss: 1.2836e-04 - val_loss: 3.6445e-04\n",
      "Epoch 13/100\n",
      "133/133 [==============================] - 98s 739ms/step - loss: 1.3180e-04 - val_loss: 1.9839e-04\n",
      "Epoch 14/100\n",
      "133/133 [==============================] - 98s 739ms/step - loss: 1.3876e-04 - val_loss: 2.0499e-04\n",
      "Epoch 15/100\n",
      "133/133 [==============================] - 99s 742ms/step - loss: 1.3916e-04 - val_loss: 1.3261e-04\n",
      "Epoch 16/100\n",
      "133/133 [==============================] - 99s 742ms/step - loss: 1.3637e-04 - val_loss: 1.3642e-04\n",
      "Epoch 17/100\n",
      "133/133 [==============================] - 99s 742ms/step - loss: 1.3705e-04 - val_loss: 1.3071e-04\n",
      "Epoch 18/100\n",
      "133/133 [==============================] - 99s 743ms/step - loss: 1.3780e-04 - val_loss: 1.3443e-04\n",
      "Epoch 19/100\n",
      "133/133 [==============================] - 99s 742ms/step - loss: 1.3966e-04 - val_loss: 5.4104e-04\n",
      "Epoch 20/100\n",
      "  7/133 [>.............................] - ETA: 1:33 - loss: 1.9451e-04"
     ]
    },
    {
     "ename": "KeyboardInterrupt",
     "evalue": "",
     "output_type": "error",
     "traceback": [
      "\u001b[0;31m---------------------------------------------------------------------------\u001b[0m",
      "\u001b[0;31mKeyboardInterrupt\u001b[0m                         Traceback (most recent call last)",
      "\u001b[0;32m<ipython-input-16-567894f0fd66>\u001b[0m in \u001b[0;36m<module>\u001b[0;34m\u001b[0m\n\u001b[1;32m      3\u001b[0m \u001b[0;34m\u001b[0m\u001b[0m\n\u001b[1;32m      4\u001b[0m \u001b[0;31m# 学習\u001b[0m\u001b[0;34m\u001b[0m\u001b[0;34m\u001b[0m\u001b[0;34m\u001b[0m\u001b[0m\n\u001b[0;32m----> 5\u001b[0;31m hist = model.fit(x_train, y_train,\n\u001b[0m\u001b[1;32m      6\u001b[0m                  \u001b[0mepochs\u001b[0m\u001b[0;34m=\u001b[0m\u001b[0mn_epoch\u001b[0m\u001b[0;34m,\u001b[0m\u001b[0;34m\u001b[0m\u001b[0;34m\u001b[0m\u001b[0m\n\u001b[1;32m      7\u001b[0m                  \u001b[0mvalidation_data\u001b[0m\u001b[0;34m=\u001b[0m\u001b[0;34m(\u001b[0m\u001b[0mx_val\u001b[0m\u001b[0;34m,\u001b[0m \u001b[0my_val\u001b[0m\u001b[0;34m)\u001b[0m\u001b[0;34m,\u001b[0m\u001b[0;34m\u001b[0m\u001b[0;34m\u001b[0m\u001b[0m\n",
      "\u001b[0;32m~/.cache/pypoetry/virtualenvs/trade-Pm8PR6AO-py3.8/lib/python3.8/site-packages/tensorflow/python/keras/engine/training.py\u001b[0m in \u001b[0;36mfit\u001b[0;34m(self, x, y, batch_size, epochs, verbose, callbacks, validation_split, validation_data, shuffle, class_weight, sample_weight, initial_epoch, steps_per_epoch, validation_steps, validation_batch_size, validation_freq, max_queue_size, workers, use_multiprocessing)\u001b[0m\n\u001b[1;32m   1098\u001b[0m                 _r=1):\n\u001b[1;32m   1099\u001b[0m               \u001b[0mcallbacks\u001b[0m\u001b[0;34m.\u001b[0m\u001b[0mon_train_batch_begin\u001b[0m\u001b[0;34m(\u001b[0m\u001b[0mstep\u001b[0m\u001b[0;34m)\u001b[0m\u001b[0;34m\u001b[0m\u001b[0;34m\u001b[0m\u001b[0m\n\u001b[0;32m-> 1100\u001b[0;31m               \u001b[0mtmp_logs\u001b[0m \u001b[0;34m=\u001b[0m \u001b[0mself\u001b[0m\u001b[0;34m.\u001b[0m\u001b[0mtrain_function\u001b[0m\u001b[0;34m(\u001b[0m\u001b[0miterator\u001b[0m\u001b[0;34m)\u001b[0m\u001b[0;34m\u001b[0m\u001b[0;34m\u001b[0m\u001b[0m\n\u001b[0m\u001b[1;32m   1101\u001b[0m               \u001b[0;32mif\u001b[0m \u001b[0mdata_handler\u001b[0m\u001b[0;34m.\u001b[0m\u001b[0mshould_sync\u001b[0m\u001b[0;34m:\u001b[0m\u001b[0;34m\u001b[0m\u001b[0;34m\u001b[0m\u001b[0m\n\u001b[1;32m   1102\u001b[0m                 \u001b[0mcontext\u001b[0m\u001b[0;34m.\u001b[0m\u001b[0masync_wait\u001b[0m\u001b[0;34m(\u001b[0m\u001b[0;34m)\u001b[0m\u001b[0;34m\u001b[0m\u001b[0;34m\u001b[0m\u001b[0m\n",
      "\u001b[0;32m~/.cache/pypoetry/virtualenvs/trade-Pm8PR6AO-py3.8/lib/python3.8/site-packages/tensorflow/python/eager/def_function.py\u001b[0m in \u001b[0;36m__call__\u001b[0;34m(self, *args, **kwds)\u001b[0m\n\u001b[1;32m    826\u001b[0m     \u001b[0mtracing_count\u001b[0m \u001b[0;34m=\u001b[0m \u001b[0mself\u001b[0m\u001b[0;34m.\u001b[0m\u001b[0mexperimental_get_tracing_count\u001b[0m\u001b[0;34m(\u001b[0m\u001b[0;34m)\u001b[0m\u001b[0;34m\u001b[0m\u001b[0;34m\u001b[0m\u001b[0m\n\u001b[1;32m    827\u001b[0m     \u001b[0;32mwith\u001b[0m \u001b[0mtrace\u001b[0m\u001b[0;34m.\u001b[0m\u001b[0mTrace\u001b[0m\u001b[0;34m(\u001b[0m\u001b[0mself\u001b[0m\u001b[0;34m.\u001b[0m\u001b[0m_name\u001b[0m\u001b[0;34m)\u001b[0m \u001b[0;32mas\u001b[0m \u001b[0mtm\u001b[0m\u001b[0;34m:\u001b[0m\u001b[0;34m\u001b[0m\u001b[0;34m\u001b[0m\u001b[0m\n\u001b[0;32m--> 828\u001b[0;31m       \u001b[0mresult\u001b[0m \u001b[0;34m=\u001b[0m \u001b[0mself\u001b[0m\u001b[0;34m.\u001b[0m\u001b[0m_call\u001b[0m\u001b[0;34m(\u001b[0m\u001b[0;34m*\u001b[0m\u001b[0margs\u001b[0m\u001b[0;34m,\u001b[0m \u001b[0;34m**\u001b[0m\u001b[0mkwds\u001b[0m\u001b[0;34m)\u001b[0m\u001b[0;34m\u001b[0m\u001b[0;34m\u001b[0m\u001b[0m\n\u001b[0m\u001b[1;32m    829\u001b[0m       \u001b[0mcompiler\u001b[0m \u001b[0;34m=\u001b[0m \u001b[0;34m\"xla\"\u001b[0m \u001b[0;32mif\u001b[0m \u001b[0mself\u001b[0m\u001b[0;34m.\u001b[0m\u001b[0m_experimental_compile\u001b[0m \u001b[0;32melse\u001b[0m \u001b[0;34m\"nonXla\"\u001b[0m\u001b[0;34m\u001b[0m\u001b[0;34m\u001b[0m\u001b[0m\n\u001b[1;32m    830\u001b[0m       \u001b[0mnew_tracing_count\u001b[0m \u001b[0;34m=\u001b[0m \u001b[0mself\u001b[0m\u001b[0;34m.\u001b[0m\u001b[0mexperimental_get_tracing_count\u001b[0m\u001b[0;34m(\u001b[0m\u001b[0;34m)\u001b[0m\u001b[0;34m\u001b[0m\u001b[0;34m\u001b[0m\u001b[0m\n",
      "\u001b[0;32m~/.cache/pypoetry/virtualenvs/trade-Pm8PR6AO-py3.8/lib/python3.8/site-packages/tensorflow/python/eager/def_function.py\u001b[0m in \u001b[0;36m_call\u001b[0;34m(self, *args, **kwds)\u001b[0m\n\u001b[1;32m    853\u001b[0m       \u001b[0;31m# In this case we have created variables on the first call, so we run the\u001b[0m\u001b[0;34m\u001b[0m\u001b[0;34m\u001b[0m\u001b[0;34m\u001b[0m\u001b[0m\n\u001b[1;32m    854\u001b[0m       \u001b[0;31m# defunned version which is guaranteed to never create variables.\u001b[0m\u001b[0;34m\u001b[0m\u001b[0;34m\u001b[0m\u001b[0;34m\u001b[0m\u001b[0m\n\u001b[0;32m--> 855\u001b[0;31m       \u001b[0;32mreturn\u001b[0m \u001b[0mself\u001b[0m\u001b[0;34m.\u001b[0m\u001b[0m_stateless_fn\u001b[0m\u001b[0;34m(\u001b[0m\u001b[0;34m*\u001b[0m\u001b[0margs\u001b[0m\u001b[0;34m,\u001b[0m \u001b[0;34m**\u001b[0m\u001b[0mkwds\u001b[0m\u001b[0;34m)\u001b[0m  \u001b[0;31m# pylint: disable=not-callable\u001b[0m\u001b[0;34m\u001b[0m\u001b[0;34m\u001b[0m\u001b[0m\n\u001b[0m\u001b[1;32m    856\u001b[0m     \u001b[0;32melif\u001b[0m \u001b[0mself\u001b[0m\u001b[0;34m.\u001b[0m\u001b[0m_stateful_fn\u001b[0m \u001b[0;32mis\u001b[0m \u001b[0;32mnot\u001b[0m \u001b[0;32mNone\u001b[0m\u001b[0;34m:\u001b[0m\u001b[0;34m\u001b[0m\u001b[0;34m\u001b[0m\u001b[0m\n\u001b[1;32m    857\u001b[0m       \u001b[0;31m# Release the lock early so that multiple threads can perform the call\u001b[0m\u001b[0;34m\u001b[0m\u001b[0;34m\u001b[0m\u001b[0;34m\u001b[0m\u001b[0m\n",
      "\u001b[0;32m~/.cache/pypoetry/virtualenvs/trade-Pm8PR6AO-py3.8/lib/python3.8/site-packages/tensorflow/python/eager/function.py\u001b[0m in \u001b[0;36m__call__\u001b[0;34m(self, *args, **kwargs)\u001b[0m\n\u001b[1;32m   2940\u001b[0m       (graph_function,\n\u001b[1;32m   2941\u001b[0m        filtered_flat_args) = self._maybe_define_function(args, kwargs)\n\u001b[0;32m-> 2942\u001b[0;31m     return graph_function._call_flat(\n\u001b[0m\u001b[1;32m   2943\u001b[0m         filtered_flat_args, captured_inputs=graph_function.captured_inputs)  # pylint: disable=protected-access\n\u001b[1;32m   2944\u001b[0m \u001b[0;34m\u001b[0m\u001b[0m\n",
      "\u001b[0;32m~/.cache/pypoetry/virtualenvs/trade-Pm8PR6AO-py3.8/lib/python3.8/site-packages/tensorflow/python/eager/function.py\u001b[0m in \u001b[0;36m_call_flat\u001b[0;34m(self, args, captured_inputs, cancellation_manager)\u001b[0m\n\u001b[1;32m   1916\u001b[0m         and executing_eagerly):\n\u001b[1;32m   1917\u001b[0m       \u001b[0;31m# No tape is watching; skip to running the function.\u001b[0m\u001b[0;34m\u001b[0m\u001b[0;34m\u001b[0m\u001b[0;34m\u001b[0m\u001b[0m\n\u001b[0;32m-> 1918\u001b[0;31m       return self._build_call_outputs(self._inference_function.call(\n\u001b[0m\u001b[1;32m   1919\u001b[0m           ctx, args, cancellation_manager=cancellation_manager))\n\u001b[1;32m   1920\u001b[0m     forward_backward = self._select_forward_and_backward_functions(\n",
      "\u001b[0;32m~/.cache/pypoetry/virtualenvs/trade-Pm8PR6AO-py3.8/lib/python3.8/site-packages/tensorflow/python/eager/function.py\u001b[0m in \u001b[0;36mcall\u001b[0;34m(self, ctx, args, cancellation_manager)\u001b[0m\n\u001b[1;32m    553\u001b[0m       \u001b[0;32mwith\u001b[0m \u001b[0m_InterpolateFunctionError\u001b[0m\u001b[0;34m(\u001b[0m\u001b[0mself\u001b[0m\u001b[0;34m)\u001b[0m\u001b[0;34m:\u001b[0m\u001b[0;34m\u001b[0m\u001b[0;34m\u001b[0m\u001b[0m\n\u001b[1;32m    554\u001b[0m         \u001b[0;32mif\u001b[0m \u001b[0mcancellation_manager\u001b[0m \u001b[0;32mis\u001b[0m \u001b[0;32mNone\u001b[0m\u001b[0;34m:\u001b[0m\u001b[0;34m\u001b[0m\u001b[0;34m\u001b[0m\u001b[0m\n\u001b[0;32m--> 555\u001b[0;31m           outputs = execute.execute(\n\u001b[0m\u001b[1;32m    556\u001b[0m               \u001b[0mstr\u001b[0m\u001b[0;34m(\u001b[0m\u001b[0mself\u001b[0m\u001b[0;34m.\u001b[0m\u001b[0msignature\u001b[0m\u001b[0;34m.\u001b[0m\u001b[0mname\u001b[0m\u001b[0;34m)\u001b[0m\u001b[0;34m,\u001b[0m\u001b[0;34m\u001b[0m\u001b[0;34m\u001b[0m\u001b[0m\n\u001b[1;32m    557\u001b[0m               \u001b[0mnum_outputs\u001b[0m\u001b[0;34m=\u001b[0m\u001b[0mself\u001b[0m\u001b[0;34m.\u001b[0m\u001b[0m_num_outputs\u001b[0m\u001b[0;34m,\u001b[0m\u001b[0;34m\u001b[0m\u001b[0;34m\u001b[0m\u001b[0m\n",
      "\u001b[0;32m~/.cache/pypoetry/virtualenvs/trade-Pm8PR6AO-py3.8/lib/python3.8/site-packages/tensorflow/python/eager/execute.py\u001b[0m in \u001b[0;36mquick_execute\u001b[0;34m(op_name, num_outputs, inputs, attrs, ctx, name)\u001b[0m\n\u001b[1;32m     57\u001b[0m   \u001b[0;32mtry\u001b[0m\u001b[0;34m:\u001b[0m\u001b[0;34m\u001b[0m\u001b[0;34m\u001b[0m\u001b[0m\n\u001b[1;32m     58\u001b[0m     \u001b[0mctx\u001b[0m\u001b[0;34m.\u001b[0m\u001b[0mensure_initialized\u001b[0m\u001b[0;34m(\u001b[0m\u001b[0;34m)\u001b[0m\u001b[0;34m\u001b[0m\u001b[0;34m\u001b[0m\u001b[0m\n\u001b[0;32m---> 59\u001b[0;31m     tensors = pywrap_tfe.TFE_Py_Execute(ctx._handle, device_name, op_name,\n\u001b[0m\u001b[1;32m     60\u001b[0m                                         inputs, attrs, num_outputs)\n\u001b[1;32m     61\u001b[0m   \u001b[0;32mexcept\u001b[0m \u001b[0mcore\u001b[0m\u001b[0;34m.\u001b[0m\u001b[0m_NotOkStatusException\u001b[0m \u001b[0;32mas\u001b[0m \u001b[0me\u001b[0m\u001b[0;34m:\u001b[0m\u001b[0;34m\u001b[0m\u001b[0;34m\u001b[0m\u001b[0m\n",
      "\u001b[0;31mKeyboardInterrupt\u001b[0m: "
     ]
    }
   ],
   "source": [
    "batch_size = 100\n",
    "n_epoch = 100\n",
    "\n",
    "# 学習\n",
    "hist = model.fit(x_train, y_train,\n",
    "                 epochs=n_epoch,\n",
    "                 validation_data=(x_val, y_val),\n",
    "                 verbose=1,\n",
    "                 batch_size=batch_size)"
   ]
  },
  {
   "cell_type": "code",
   "execution_count": null,
   "id": "assigned-bhutan",
   "metadata": {},
   "outputs": [],
   "source": [
    "plt.plot(hist.history['loss'],label=\"train set\")\n",
    "plt.plot(hist.history['val_loss'],label=\"val set\")\n",
    "plt.title('model loss')\n",
    "plt.xlabel('epoch')\n",
    "plt.ylabel('loss')\n",
    "plt.ylim(0, 0.001)\n",
    "plt.legend()\n",
    "plt.show()"
   ]
  },
  {
   "cell_type": "code",
   "execution_count": 17,
   "id": "uniform-denial",
   "metadata": {},
   "outputs": [],
   "source": [
    "# y_pred = model.predict(x_test)\n",
    "# y_stack = np.vstack([y_train, y_val, y_pred])\n",
    "y_stack  = model.predict(x)\n",
    "y_stack = std_close * y_stack[-500:] + mean_close\n",
    "y_raw = std_close * y[-500:] + mean_close"
   ]
  },
  {
   "cell_type": "code",
   "execution_count": 18,
   "id": "entire-jacket",
   "metadata": {},
   "outputs": [
    {
     "data": {
      "image/png": "[encoded data removed]",
      "text/plain": [
       "<Figure size 1080x432 with 1 Axes>"
      ]
     },
     "metadata": {
      "needs_background": "light"
     },
     "output_type": "display_data"
    }
   ],
   "source": [
    "pd.Series(y_stack[:, 0]).plot(label='pred')\n",
    "pd.Series(y_raw[:, 0]).plot(label='actual')\n",
    "plt.legend()\n",
    "plt.xlim(400, 500)\n",
    "plt.show()"
   ]
  },
  {
   "cell_type": "code",
   "execution_count": 19,
   "id": "dependent-precipitation",
   "metadata": {},
   "outputs": [
    {
     "data": {
      "text/plain": [
       "-0.002256751098633231"
      ]
     },
     "execution_count": 19,
     "metadata": {},
     "output_type": "execute_result"
    }
   ],
   "source": [
    "(y_stack[:, 0] - y_raw[:, 0]).mean()"
   ]
  },
  {
   "cell_type": "code",
   "execution_count": null,
   "id": "hearing-medicare",
   "metadata": {},
   "outputs": [],
   "source": [
    "# -0.0020595159912113557"
   ]
  }
 ],
 "metadata": {
  "kernelspec": {
   "display_name": "Python 3",
   "language": "python",
   "name": "python3"
  },
  "language_info": {
   "codemirror_mode": {
    "name": "ipython",
    "version": 3
   },
   "file_extension": ".py",
   "mimetype": "text/x-python",
   "name": "python",
   "nbconvert_exporter": "python",
   "pygments_lexer": "ipython3",
   "version": "3.8.7"
  }
 },
 "nbformat": 4,
 "nbformat_minor": 5
}
