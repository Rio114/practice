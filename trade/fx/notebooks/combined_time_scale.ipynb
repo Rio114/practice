{
 "cells": [
  {
   "cell_type": "code",
   "execution_count": 1,
   "id": "hollow-myrtle",
   "metadata": {},
   "outputs": [],
   "source": [
    "import pandas as pd\n",
    "import datetime\n",
    "import numpy as np\n",
    "import tensorflow as tf\n",
    "\n",
    "# グラフ描画\n",
    "from matplotlib import pylab as plt\n",
    "\n",
    "# グラフを横長にする\n",
    "from matplotlib.pylab import rcParams\n",
    "rcParams['figure.figsize'] = 15, 6"
   ]
  },
  {
   "cell_type": "code",
   "execution_count": 2,
   "id": "motivated-allen",
   "metadata": {},
   "outputs": [
    {
     "name": "stdout",
     "output_type": "stream",
     "text": [
      "PhysicalDevice(name='/physical_device:GPU:0', device_type='GPU') memory growth: True\n"
     ]
    }
   ],
   "source": [
    "physical_devices = tf.config.list_physical_devices('GPU')\n",
    "if len(physical_devices) > 0:\n",
    "    for device in physical_devices:\n",
    "        tf.config.experimental.set_memory_growth(device, True)\n",
    "        print('{} memory growth: {}'.format(device, tf.config.experimental.get_memory_growth(device)))\n",
    "else:\n",
    "    print(\"Not enough GPU hardware devices available\")"
   ]
  },
  {
   "cell_type": "code",
   "execution_count": 3,
   "id": "compound-energy",
   "metadata": {},
   "outputs": [],
   "source": [
    "from oanda_utils import load_assign_dtype, get_candles_df"
   ]
  },
  {
   "cell_type": "code",
   "execution_count": 4,
   "id": "frank-eligibility",
   "metadata": {},
   "outputs": [],
   "source": [
    "# get_candles_df(5000, \"M1\", \"USD_JPY\").to_csv(\"data/usd_jpy_m1.csv\")\n",
    "# get_candles_df(5000, \"H1\", \"USD_JPY\").to_csv(\"data/usd_jpy_h1.csv\")\n",
    "# get_candles_df(5000, \"D\", \"USD_JPY\").to_csv(\"data/usd_jpy_d1.csv\")"
   ]
  },
  {
   "cell_type": "code",
   "execution_count": 5,
   "id": "every-breath",
   "metadata": {},
   "outputs": [],
   "source": [
    "df_m = load_assign_dtype(\"data/usd_jpy_m1.csv\")\n",
    "df_h = load_assign_dtype(\"data/usd_jpy_h1.csv\")\n",
    "df_d = load_assign_dtype(\"data/usd_jpy_d1.csv\")"
   ]
  },
  {
   "cell_type": "code",
   "execution_count": 6,
   "id": "diverse-candy",
   "metadata": {},
   "outputs": [],
   "source": [
    "target_window = 60\n",
    "train_mins = 480\n",
    "\n",
    "x_list = []\n",
    "y_list = []\n",
    "cnt = 0\n",
    "\n",
    "for target_time in df_m['time'][train_mins:-target_window]:\n",
    "\n",
    "    to_minute = target_time\n",
    "    to_hour = target_time - datetime.timedelta(minutes = target_time.minute)\n",
    "    to_date = target_time -  datetime.timedelta(days=1, minutes = target_time.minute, hours = target_time.hour)\n",
    "\n",
    "    m_cond = (df_m['time']  < to_minute) \n",
    "    h_cond =  (df_h['time']  < to_hour) \n",
    "    d_cond = (df_d['time'] < to_date)\n",
    "\n",
    "    df_m_target = df_m[m_cond][-train_mins:]\n",
    "    df_h_target = df_h[h_cond][-24:]\n",
    "    df_d_target = df_d[d_cond][-20:]\n",
    "\n",
    "    df_target = pd.concat([df_d_target, df_h_target, df_m_target])\n",
    "#     if df_target.shape != (104, 7):\n",
    "#         cnt += 1\n",
    "#         print(target_time, df_target.shape, cnt)\n",
    "#         continue\n",
    "    x_list.append(df_target[['O', 'H', 'L', 'C']].values[np.newaxis, :, :])\n",
    "    y_list.append(df_m[~m_cond][:target_window]['C'].values[np.newaxis, :])"
   ]
  },
  {
   "cell_type": "code",
   "execution_count": 7,
   "id": "looking-sudan",
   "metadata": {},
   "outputs": [],
   "source": [
    "X = np.vstack(x_list)\n",
    "y = np.vstack(y_list)"
   ]
  },
  {
   "cell_type": "code",
   "execution_count": 8,
   "id": "focused-dairy",
   "metadata": {},
   "outputs": [],
   "source": [
    "def standard(arr):\n",
    "    \n",
    "    mean =  arr.mean()\n",
    "    std =  arr.std()\n",
    "    adj = (arr - mean) / std\n",
    "    \n",
    "    return mean, std, adj"
   ]
  },
  {
   "cell_type": "code",
   "execution_count": 9,
   "id": "conditional-eclipse",
   "metadata": {},
   "outputs": [],
   "source": [
    "mean_open, std_open, X[:, :, 0] = standard(X[:, :, 0])\n",
    "mean_high, std_high, X[:, :, 1]= standard(X[:, :, 1])\n",
    "mean_low, std_low, X[:, :, 2] = standard(X[:, :, 2])\n",
    "mean_close, std_close, X[:, :, 3] = standard(X[:, :, 3])"
   ]
  },
  {
   "cell_type": "code",
   "execution_count": 10,
   "id": "attempted-butter",
   "metadata": {},
   "outputs": [],
   "source": [
    "y = (y - mean_close) / std_close"
   ]
  },
  {
   "cell_type": "code",
   "execution_count": 11,
   "id": "recreational-short",
   "metadata": {},
   "outputs": [],
   "source": [
    "val_num = 200\n",
    "test_num = 100\n",
    "\n",
    "X_train = X[:-(test_num+target_window)][:-val_num]\n",
    "X_val = X[:-(test_num+target_window)][-val_num:]\n",
    "X_test = X[-test_num:]\n",
    "\n",
    "y_train = y[:-(test_num+target_window)][:-val_num]\n",
    "y_val = y[:-(test_num+target_window)][-val_num:]\n",
    "y_test = y[-test_num:]"
   ]
  },
  {
   "cell_type": "code",
   "execution_count": 12,
   "id": "persistent-prague",
   "metadata": {},
   "outputs": [],
   "source": [
    "model = tf.keras.Sequential([\n",
    "    tf.keras.layers.LSTM(1000, activation='tanh', input_shape=(None, 4)),\n",
    "    tf.keras.layers.Dense(100),\n",
    "    tf.keras.layers.Dense(target_window)\n",
    "])\n",
    "model.compile(optimizer=tf.keras.optimizers.Adam(),\n",
    "              loss=tf.keras.losses.MeanSquaredError())"
   ]
  },
  {
   "cell_type": "code",
   "execution_count": 13,
   "id": "covered-killer",
   "metadata": {},
   "outputs": [
    {
     "name": "stdout",
     "output_type": "stream",
     "text": [
      "Model: \"sequential\"\n",
      "_________________________________________________________________\n",
      "Layer (type)                 Output Shape              Param #   \n",
      "=================================================================\n",
      "lstm (LSTM)                  (None, 1000)              4020000   \n",
      "_________________________________________________________________\n",
      "dense (Dense)                (None, 100)               100100    \n",
      "_________________________________________________________________\n",
      "dense_1 (Dense)              (None, 60)                6060      \n",
      "=================================================================\n",
      "Total params: 4,126,160\n",
      "Trainable params: 4,126,160\n",
      "Non-trainable params: 0\n",
      "_________________________________________________________________\n"
     ]
    }
   ],
   "source": [
    "model.summary()"
   ]
  },
  {
   "cell_type": "code",
   "execution_count": 14,
   "id": "composed-formula",
   "metadata": {
    "scrolled": true
   },
   "outputs": [
    {
     "name": "stdout",
     "output_type": "stream",
     "text": [
      "Epoch 1/500\n",
      "21/21 [==============================] - 15s 625ms/step - loss: 0.3256 - val_loss: 0.1000\n",
      "Epoch 2/500\n",
      "21/21 [==============================] - 13s 605ms/step - loss: 0.0426 - val_loss: 0.0575\n",
      "Epoch 3/500\n",
      "21/21 [==============================] - 13s 614ms/step - loss: 0.0315 - val_loss: 0.0519\n",
      "Epoch 4/500\n",
      "21/21 [==============================] - 13s 612ms/step - loss: 0.0312 - val_loss: 0.0545\n",
      "Epoch 5/500\n",
      "21/21 [==============================] - 13s 616ms/step - loss: 0.0291 - val_loss: 0.0497\n",
      "Epoch 6/500\n",
      "21/21 [==============================] - 13s 617ms/step - loss: 0.0306 - val_loss: 0.0459\n",
      "Epoch 7/500\n",
      "21/21 [==============================] - 13s 621ms/step - loss: 0.0291 - val_loss: 0.0477\n",
      "Epoch 8/500\n",
      "21/21 [==============================] - 13s 617ms/step - loss: 0.0296 - val_loss: 0.0514\n",
      "Epoch 9/500\n",
      "21/21 [==============================] - 13s 620ms/step - loss: 0.0295 - val_loss: 0.0479\n",
      "Epoch 10/500\n",
      "21/21 [==============================] - 13s 620ms/step - loss: 0.0300 - val_loss: 0.0480\n",
      "Epoch 11/500\n",
      "21/21 [==============================] - 13s 623ms/step - loss: 0.0283 - val_loss: 0.0487\n",
      "Epoch 12/500\n",
      "21/21 [==============================] - 13s 620ms/step - loss: 0.0292 - val_loss: 0.0465\n",
      "Epoch 13/500\n",
      "21/21 [==============================] - 13s 622ms/step - loss: 0.0280 - val_loss: 0.0470\n",
      "Epoch 14/500\n",
      "21/21 [==============================] - 13s 621ms/step - loss: 0.0292 - val_loss: 0.0454\n",
      "Epoch 15/500\n",
      "21/21 [==============================] - 13s 619ms/step - loss: 0.0278 - val_loss: 0.0457\n",
      "Epoch 16/500\n",
      "21/21 [==============================] - 13s 621ms/step - loss: 0.0278 - val_loss: 0.0503\n",
      "Epoch 17/500\n",
      "21/21 [==============================] - 13s 621ms/step - loss: 0.0285 - val_loss: 0.0479\n",
      "Epoch 18/500\n",
      "21/21 [==============================] - 13s 622ms/step - loss: 0.0278 - val_loss: 0.0494\n",
      "Epoch 19/500\n",
      "21/21 [==============================] - 13s 622ms/step - loss: 0.0277 - val_loss: 0.0477\n",
      "Epoch 20/500\n",
      "21/21 [==============================] - 13s 622ms/step - loss: 0.0277 - val_loss: 0.0503\n",
      "Epoch 21/500\n",
      "21/21 [==============================] - 13s 620ms/step - loss: 0.0275 - val_loss: 0.0458\n",
      "Epoch 22/500\n",
      "21/21 [==============================] - 13s 624ms/step - loss: 0.0269 - val_loss: 0.0468\n",
      "Epoch 23/500\n",
      "21/21 [==============================] - 13s 622ms/step - loss: 0.0273 - val_loss: 0.0505\n",
      "Epoch 24/500\n",
      "21/21 [==============================] - 13s 623ms/step - loss: 0.0278 - val_loss: 0.0458\n",
      "Epoch 25/500\n",
      "21/21 [==============================] - 13s 623ms/step - loss: 0.0279 - val_loss: 0.0463\n",
      "Epoch 26/500\n",
      "21/21 [==============================] - 13s 623ms/step - loss: 0.0272 - val_loss: 0.0460\n",
      "Epoch 27/500\n",
      "21/21 [==============================] - 13s 624ms/step - loss: 0.0272 - val_loss: 0.0518\n",
      "Epoch 28/500\n",
      "21/21 [==============================] - 13s 623ms/step - loss: 0.0282 - val_loss: 0.0442\n",
      "Epoch 29/500\n",
      "21/21 [==============================] - 13s 622ms/step - loss: 0.0283 - val_loss: 0.0439\n",
      "Epoch 30/500\n",
      "21/21 [==============================] - 13s 624ms/step - loss: 0.0288 - val_loss: 0.0498\n",
      "Epoch 31/500\n",
      "21/21 [==============================] - 13s 618ms/step - loss: 0.0290 - val_loss: 0.0478\n",
      "Epoch 32/500\n",
      "21/21 [==============================] - 13s 595ms/step - loss: 0.0300 - val_loss: 0.0463\n",
      "Epoch 33/500\n",
      "21/21 [==============================] - 13s 595ms/step - loss: 0.0292 - val_loss: 0.0486\n",
      "Epoch 34/500\n",
      "21/21 [==============================] - 12s 594ms/step - loss: 0.0277 - val_loss: 0.0511\n",
      "Epoch 35/500\n",
      "21/21 [==============================] - 12s 595ms/step - loss: 0.0276 - val_loss: 0.0450\n",
      "Epoch 36/500\n",
      "21/21 [==============================] - 13s 595ms/step - loss: 0.0281 - val_loss: 0.0474\n",
      "Epoch 37/500\n",
      "21/21 [==============================] - 13s 597ms/step - loss: 0.0272 - val_loss: 0.0494\n",
      "Epoch 38/500\n",
      "21/21 [==============================] - 13s 595ms/step - loss: 0.0280 - val_loss: 0.0439\n",
      "Epoch 39/500\n",
      "21/21 [==============================] - 12s 595ms/step - loss: 0.0270 - val_loss: 0.0488\n",
      "Epoch 40/500\n",
      "21/21 [==============================] - 13s 596ms/step - loss: 0.0253 - val_loss: 0.0463\n",
      "Epoch 41/500\n",
      "21/21 [==============================] - 13s 596ms/step - loss: 0.0258 - val_loss: 0.0483\n",
      "Epoch 42/500\n",
      "21/21 [==============================] - 13s 595ms/step - loss: 0.0256 - val_loss: 0.0491\n",
      "Epoch 43/500\n",
      "21/21 [==============================] - 13s 596ms/step - loss: 0.0256 - val_loss: 0.0497\n",
      "Epoch 44/500\n",
      "21/21 [==============================] - 13s 595ms/step - loss: 0.0255 - val_loss: 0.0503\n",
      "Epoch 45/500\n",
      "21/21 [==============================] - 13s 596ms/step - loss: 0.0271 - val_loss: 0.0476\n",
      "Epoch 46/500\n",
      "21/21 [==============================] - 13s 596ms/step - loss: 0.0254 - val_loss: 0.0510\n",
      "Epoch 47/500\n",
      "21/21 [==============================] - 13s 597ms/step - loss: 0.0261 - val_loss: 0.0474\n",
      "Epoch 48/500\n",
      "21/21 [==============================] - 13s 596ms/step - loss: 0.0260 - val_loss: 0.0495\n",
      "Epoch 49/500\n",
      "21/21 [==============================] - 13s 596ms/step - loss: 0.0243 - val_loss: 0.0476\n",
      "Epoch 50/500\n",
      "21/21 [==============================] - 13s 595ms/step - loss: 0.0262 - val_loss: 0.0455\n",
      "Epoch 51/500\n",
      "21/21 [==============================] - 13s 596ms/step - loss: 0.0253 - val_loss: 0.0499\n",
      "Epoch 52/500\n",
      "21/21 [==============================] - 13s 596ms/step - loss: 0.0268 - val_loss: 0.0465\n",
      "Epoch 53/500\n",
      "21/21 [==============================] - 13s 596ms/step - loss: 0.0256 - val_loss: 0.0470\n",
      "Epoch 54/500\n",
      "21/21 [==============================] - 13s 596ms/step - loss: 0.0249 - val_loss: 0.0475\n",
      "Epoch 55/500\n",
      "21/21 [==============================] - 13s 603ms/step - loss: 0.0258 - val_loss: 0.0662\n",
      "Epoch 56/500\n",
      "21/21 [==============================] - 13s 622ms/step - loss: 0.0266 - val_loss: 0.0460\n",
      "Epoch 57/500\n",
      "21/21 [==============================] - 13s 623ms/step - loss: 0.0261 - val_loss: 0.0481\n",
      "Epoch 58/500\n",
      "21/21 [==============================] - 13s 621ms/step - loss: 0.0244 - val_loss: 0.0799\n",
      "Epoch 59/500\n",
      "21/21 [==============================] - 13s 622ms/step - loss: 0.0244 - val_loss: 0.0679\n",
      "Epoch 60/500\n",
      "21/21 [==============================] - 13s 624ms/step - loss: 0.0248 - val_loss: 0.0602\n",
      "Epoch 61/500\n",
      "21/21 [==============================] - 13s 623ms/step - loss: 0.0236 - val_loss: 0.0774\n",
      "Epoch 62/500\n",
      "21/21 [==============================] - 13s 623ms/step - loss: 0.0275 - val_loss: 0.0511\n",
      "Epoch 63/500\n",
      "21/21 [==============================] - 13s 624ms/step - loss: 0.0252 - val_loss: 0.0519\n",
      "Epoch 64/500\n",
      "21/21 [==============================] - 13s 623ms/step - loss: 0.0252 - val_loss: 0.0546\n",
      "Epoch 65/500\n",
      "21/21 [==============================] - 13s 623ms/step - loss: 0.0256 - val_loss: 0.0440\n",
      "Epoch 66/500\n",
      "21/21 [==============================] - 13s 621ms/step - loss: 0.0241 - val_loss: 0.0575\n",
      "Epoch 67/500\n",
      "21/21 [==============================] - 13s 622ms/step - loss: 0.0236 - val_loss: 0.0672\n",
      "Epoch 68/500\n",
      "21/21 [==============================] - 13s 622ms/step - loss: 0.0235 - val_loss: 0.0670\n",
      "Epoch 69/500\n",
      "21/21 [==============================] - 13s 622ms/step - loss: 0.0231 - val_loss: 0.0441\n",
      "Epoch 70/500\n",
      "21/21 [==============================] - 13s 623ms/step - loss: 0.0247 - val_loss: 0.0476\n",
      "Epoch 71/500\n",
      "21/21 [==============================] - 13s 623ms/step - loss: 0.0244 - val_loss: 0.0640\n",
      "Epoch 72/500\n",
      "21/21 [==============================] - 13s 623ms/step - loss: 0.0233 - val_loss: 0.0582\n",
      "Epoch 73/500\n",
      "21/21 [==============================] - 13s 622ms/step - loss: 0.0232 - val_loss: 0.0582\n",
      "Epoch 74/500\n",
      "21/21 [==============================] - 13s 623ms/step - loss: 0.0239 - val_loss: 0.0653\n",
      "Epoch 75/500\n",
      "21/21 [==============================] - 13s 624ms/step - loss: 0.0233 - val_loss: 0.0635\n",
      "Epoch 76/500\n",
      "21/21 [==============================] - 13s 624ms/step - loss: 0.0227 - val_loss: 0.0685\n",
      "Epoch 77/500\n",
      "14/21 [===================>..........] - ETA: 4s - loss: 0.0222"
     ]
    },
    {
     "ename": "KeyboardInterrupt",
     "evalue": "",
     "output_type": "error",
     "traceback": [
      "\u001b[0;31m---------------------------------------------------------------------------\u001b[0m",
      "\u001b[0;31mKeyboardInterrupt\u001b[0m                         Traceback (most recent call last)",
      "\u001b[0;32m<ipython-input-14-b66149bc289a>\u001b[0m in \u001b[0;36m<module>\u001b[0;34m\u001b[0m\n\u001b[1;32m      3\u001b[0m \u001b[0;34m\u001b[0m\u001b[0m\n\u001b[1;32m      4\u001b[0m \u001b[0;31m# 学習\u001b[0m\u001b[0;34m\u001b[0m\u001b[0;34m\u001b[0m\u001b[0;34m\u001b[0m\u001b[0m\n\u001b[0;32m----> 5\u001b[0;31m hist = model.fit(X_train, y_train,\n\u001b[0m\u001b[1;32m      6\u001b[0m                  \u001b[0mepochs\u001b[0m\u001b[0;34m=\u001b[0m\u001b[0mn_epoch\u001b[0m\u001b[0;34m,\u001b[0m\u001b[0;34m\u001b[0m\u001b[0;34m\u001b[0m\u001b[0m\n\u001b[1;32m      7\u001b[0m                  \u001b[0mvalidation_data\u001b[0m\u001b[0;34m=\u001b[0m\u001b[0;34m(\u001b[0m\u001b[0mX_val\u001b[0m\u001b[0;34m,\u001b[0m \u001b[0my_val\u001b[0m\u001b[0;34m)\u001b[0m\u001b[0;34m,\u001b[0m\u001b[0;34m\u001b[0m\u001b[0;34m\u001b[0m\u001b[0m\n",
      "\u001b[0;32m~/.cache/pypoetry/virtualenvs/trade-Pm8PR6AO-py3.8/lib/python3.8/site-packages/tensorflow/python/keras/engine/training.py\u001b[0m in \u001b[0;36mfit\u001b[0;34m(self, x, y, batch_size, epochs, verbose, callbacks, validation_split, validation_data, shuffle, class_weight, sample_weight, initial_epoch, steps_per_epoch, validation_steps, validation_batch_size, validation_freq, max_queue_size, workers, use_multiprocessing)\u001b[0m\n\u001b[1;32m   1103\u001b[0m               \u001b[0mlogs\u001b[0m \u001b[0;34m=\u001b[0m \u001b[0mtmp_logs\u001b[0m  \u001b[0;31m# No error, now safe to assign to logs.\u001b[0m\u001b[0;34m\u001b[0m\u001b[0;34m\u001b[0m\u001b[0m\n\u001b[1;32m   1104\u001b[0m               \u001b[0mend_step\u001b[0m \u001b[0;34m=\u001b[0m \u001b[0mstep\u001b[0m \u001b[0;34m+\u001b[0m \u001b[0mdata_handler\u001b[0m\u001b[0;34m.\u001b[0m\u001b[0mstep_increment\u001b[0m\u001b[0;34m\u001b[0m\u001b[0;34m\u001b[0m\u001b[0m\n\u001b[0;32m-> 1105\u001b[0;31m               \u001b[0mcallbacks\u001b[0m\u001b[0;34m.\u001b[0m\u001b[0mon_train_batch_end\u001b[0m\u001b[0;34m(\u001b[0m\u001b[0mend_step\u001b[0m\u001b[0;34m,\u001b[0m \u001b[0mlogs\u001b[0m\u001b[0;34m)\u001b[0m\u001b[0;34m\u001b[0m\u001b[0;34m\u001b[0m\u001b[0m\n\u001b[0m\u001b[1;32m   1106\u001b[0m               \u001b[0;32mif\u001b[0m \u001b[0mself\u001b[0m\u001b[0;34m.\u001b[0m\u001b[0mstop_training\u001b[0m\u001b[0;34m:\u001b[0m\u001b[0;34m\u001b[0m\u001b[0;34m\u001b[0m\u001b[0m\n\u001b[1;32m   1107\u001b[0m                 \u001b[0;32mbreak\u001b[0m\u001b[0;34m\u001b[0m\u001b[0;34m\u001b[0m\u001b[0m\n",
      "\u001b[0;32m~/.cache/pypoetry/virtualenvs/trade-Pm8PR6AO-py3.8/lib/python3.8/site-packages/tensorflow/python/keras/callbacks.py\u001b[0m in \u001b[0;36mon_train_batch_end\u001b[0;34m(self, batch, logs)\u001b[0m\n\u001b[1;32m    452\u001b[0m     \"\"\"\n\u001b[1;32m    453\u001b[0m     \u001b[0;32mif\u001b[0m \u001b[0mself\u001b[0m\u001b[0;34m.\u001b[0m\u001b[0m_should_call_train_batch_hooks\u001b[0m\u001b[0;34m:\u001b[0m\u001b[0;34m\u001b[0m\u001b[0;34m\u001b[0m\u001b[0m\n\u001b[0;32m--> 454\u001b[0;31m       \u001b[0mself\u001b[0m\u001b[0;34m.\u001b[0m\u001b[0m_call_batch_hook\u001b[0m\u001b[0;34m(\u001b[0m\u001b[0mModeKeys\u001b[0m\u001b[0;34m.\u001b[0m\u001b[0mTRAIN\u001b[0m\u001b[0;34m,\u001b[0m \u001b[0;34m'end'\u001b[0m\u001b[0;34m,\u001b[0m \u001b[0mbatch\u001b[0m\u001b[0;34m,\u001b[0m \u001b[0mlogs\u001b[0m\u001b[0;34m=\u001b[0m\u001b[0mlogs\u001b[0m\u001b[0;34m)\u001b[0m\u001b[0;34m\u001b[0m\u001b[0;34m\u001b[0m\u001b[0m\n\u001b[0m\u001b[1;32m    455\u001b[0m \u001b[0;34m\u001b[0m\u001b[0m\n\u001b[1;32m    456\u001b[0m   \u001b[0;32mdef\u001b[0m \u001b[0mon_test_batch_begin\u001b[0m\u001b[0;34m(\u001b[0m\u001b[0mself\u001b[0m\u001b[0;34m,\u001b[0m \u001b[0mbatch\u001b[0m\u001b[0;34m,\u001b[0m \u001b[0mlogs\u001b[0m\u001b[0;34m=\u001b[0m\u001b[0;32mNone\u001b[0m\u001b[0;34m)\u001b[0m\u001b[0;34m:\u001b[0m\u001b[0;34m\u001b[0m\u001b[0;34m\u001b[0m\u001b[0m\n",
      "\u001b[0;32m~/.cache/pypoetry/virtualenvs/trade-Pm8PR6AO-py3.8/lib/python3.8/site-packages/tensorflow/python/keras/callbacks.py\u001b[0m in \u001b[0;36m_call_batch_hook\u001b[0;34m(self, mode, hook, batch, logs)\u001b[0m\n\u001b[1;32m    294\u001b[0m       \u001b[0mself\u001b[0m\u001b[0;34m.\u001b[0m\u001b[0m_call_batch_begin_hook\u001b[0m\u001b[0;34m(\u001b[0m\u001b[0mmode\u001b[0m\u001b[0;34m,\u001b[0m \u001b[0mbatch\u001b[0m\u001b[0;34m,\u001b[0m \u001b[0mlogs\u001b[0m\u001b[0;34m)\u001b[0m\u001b[0;34m\u001b[0m\u001b[0;34m\u001b[0m\u001b[0m\n\u001b[1;32m    295\u001b[0m     \u001b[0;32melif\u001b[0m \u001b[0mhook\u001b[0m \u001b[0;34m==\u001b[0m \u001b[0;34m'end'\u001b[0m\u001b[0;34m:\u001b[0m\u001b[0;34m\u001b[0m\u001b[0;34m\u001b[0m\u001b[0m\n\u001b[0;32m--> 296\u001b[0;31m       \u001b[0mself\u001b[0m\u001b[0;34m.\u001b[0m\u001b[0m_call_batch_end_hook\u001b[0m\u001b[0;34m(\u001b[0m\u001b[0mmode\u001b[0m\u001b[0;34m,\u001b[0m \u001b[0mbatch\u001b[0m\u001b[0;34m,\u001b[0m \u001b[0mlogs\u001b[0m\u001b[0;34m)\u001b[0m\u001b[0;34m\u001b[0m\u001b[0;34m\u001b[0m\u001b[0m\n\u001b[0m\u001b[1;32m    297\u001b[0m     \u001b[0;32melse\u001b[0m\u001b[0;34m:\u001b[0m\u001b[0;34m\u001b[0m\u001b[0;34m\u001b[0m\u001b[0m\n\u001b[1;32m    298\u001b[0m       \u001b[0;32mraise\u001b[0m \u001b[0mValueError\u001b[0m\u001b[0;34m(\u001b[0m\u001b[0;34m'Unrecognized hook: {}'\u001b[0m\u001b[0;34m.\u001b[0m\u001b[0mformat\u001b[0m\u001b[0;34m(\u001b[0m\u001b[0mhook\u001b[0m\u001b[0;34m)\u001b[0m\u001b[0;34m)\u001b[0m\u001b[0;34m\u001b[0m\u001b[0;34m\u001b[0m\u001b[0m\n",
      "\u001b[0;32m~/.cache/pypoetry/virtualenvs/trade-Pm8PR6AO-py3.8/lib/python3.8/site-packages/tensorflow/python/keras/callbacks.py\u001b[0m in \u001b[0;36m_call_batch_end_hook\u001b[0;34m(self, mode, batch, logs)\u001b[0m\n\u001b[1;32m    314\u001b[0m       \u001b[0mself\u001b[0m\u001b[0;34m.\u001b[0m\u001b[0m_batch_times\u001b[0m\u001b[0;34m.\u001b[0m\u001b[0mappend\u001b[0m\u001b[0;34m(\u001b[0m\u001b[0mbatch_time\u001b[0m\u001b[0;34m)\u001b[0m\u001b[0;34m\u001b[0m\u001b[0;34m\u001b[0m\u001b[0m\n\u001b[1;32m    315\u001b[0m \u001b[0;34m\u001b[0m\u001b[0m\n\u001b[0;32m--> 316\u001b[0;31m     \u001b[0mself\u001b[0m\u001b[0;34m.\u001b[0m\u001b[0m_call_batch_hook_helper\u001b[0m\u001b[0;34m(\u001b[0m\u001b[0mhook_name\u001b[0m\u001b[0;34m,\u001b[0m \u001b[0mbatch\u001b[0m\u001b[0;34m,\u001b[0m \u001b[0mlogs\u001b[0m\u001b[0;34m)\u001b[0m\u001b[0;34m\u001b[0m\u001b[0;34m\u001b[0m\u001b[0m\n\u001b[0m\u001b[1;32m    317\u001b[0m \u001b[0;34m\u001b[0m\u001b[0m\n\u001b[1;32m    318\u001b[0m     \u001b[0;32mif\u001b[0m \u001b[0mlen\u001b[0m\u001b[0;34m(\u001b[0m\u001b[0mself\u001b[0m\u001b[0;34m.\u001b[0m\u001b[0m_batch_times\u001b[0m\u001b[0;34m)\u001b[0m \u001b[0;34m>=\u001b[0m \u001b[0mself\u001b[0m\u001b[0;34m.\u001b[0m\u001b[0m_num_batches_for_timing_check\u001b[0m\u001b[0;34m:\u001b[0m\u001b[0;34m\u001b[0m\u001b[0;34m\u001b[0m\u001b[0m\n",
      "\u001b[0;32m~/.cache/pypoetry/virtualenvs/trade-Pm8PR6AO-py3.8/lib/python3.8/site-packages/tensorflow/python/keras/callbacks.py\u001b[0m in \u001b[0;36m_call_batch_hook_helper\u001b[0;34m(self, hook_name, batch, logs)\u001b[0m\n\u001b[1;32m    354\u001b[0m       \u001b[0mhook\u001b[0m \u001b[0;34m=\u001b[0m \u001b[0mgetattr\u001b[0m\u001b[0;34m(\u001b[0m\u001b[0mcallback\u001b[0m\u001b[0;34m,\u001b[0m \u001b[0mhook_name\u001b[0m\u001b[0;34m)\u001b[0m\u001b[0;34m\u001b[0m\u001b[0;34m\u001b[0m\u001b[0m\n\u001b[1;32m    355\u001b[0m       \u001b[0;32mif\u001b[0m \u001b[0mgetattr\u001b[0m\u001b[0;34m(\u001b[0m\u001b[0mcallback\u001b[0m\u001b[0;34m,\u001b[0m \u001b[0;34m'_supports_tf_logs'\u001b[0m\u001b[0;34m,\u001b[0m \u001b[0;32mFalse\u001b[0m\u001b[0;34m)\u001b[0m\u001b[0;34m:\u001b[0m\u001b[0;34m\u001b[0m\u001b[0;34m\u001b[0m\u001b[0m\n\u001b[0;32m--> 356\u001b[0;31m         \u001b[0mhook\u001b[0m\u001b[0;34m(\u001b[0m\u001b[0mbatch\u001b[0m\u001b[0;34m,\u001b[0m \u001b[0mlogs\u001b[0m\u001b[0;34m)\u001b[0m\u001b[0;34m\u001b[0m\u001b[0;34m\u001b[0m\u001b[0m\n\u001b[0m\u001b[1;32m    357\u001b[0m       \u001b[0;32melse\u001b[0m\u001b[0;34m:\u001b[0m\u001b[0;34m\u001b[0m\u001b[0;34m\u001b[0m\u001b[0m\n\u001b[1;32m    358\u001b[0m         \u001b[0;32mif\u001b[0m \u001b[0mnumpy_logs\u001b[0m \u001b[0;32mis\u001b[0m \u001b[0;32mNone\u001b[0m\u001b[0;34m:\u001b[0m  \u001b[0;31m# Only convert once.\u001b[0m\u001b[0;34m\u001b[0m\u001b[0;34m\u001b[0m\u001b[0m\n",
      "\u001b[0;32m~/.cache/pypoetry/virtualenvs/trade-Pm8PR6AO-py3.8/lib/python3.8/site-packages/tensorflow/python/keras/callbacks.py\u001b[0m in \u001b[0;36mon_train_batch_end\u001b[0;34m(self, batch, logs)\u001b[0m\n\u001b[1;32m   1018\u001b[0m \u001b[0;34m\u001b[0m\u001b[0m\n\u001b[1;32m   1019\u001b[0m   \u001b[0;32mdef\u001b[0m \u001b[0mon_train_batch_end\u001b[0m\u001b[0;34m(\u001b[0m\u001b[0mself\u001b[0m\u001b[0;34m,\u001b[0m \u001b[0mbatch\u001b[0m\u001b[0;34m,\u001b[0m \u001b[0mlogs\u001b[0m\u001b[0;34m=\u001b[0m\u001b[0;32mNone\u001b[0m\u001b[0;34m)\u001b[0m\u001b[0;34m:\u001b[0m\u001b[0;34m\u001b[0m\u001b[0;34m\u001b[0m\u001b[0m\n\u001b[0;32m-> 1020\u001b[0;31m     \u001b[0mself\u001b[0m\u001b[0;34m.\u001b[0m\u001b[0m_batch_update_progbar\u001b[0m\u001b[0;34m(\u001b[0m\u001b[0mbatch\u001b[0m\u001b[0;34m,\u001b[0m \u001b[0mlogs\u001b[0m\u001b[0;34m)\u001b[0m\u001b[0;34m\u001b[0m\u001b[0;34m\u001b[0m\u001b[0m\n\u001b[0m\u001b[1;32m   1021\u001b[0m \u001b[0;34m\u001b[0m\u001b[0m\n\u001b[1;32m   1022\u001b[0m   \u001b[0;32mdef\u001b[0m \u001b[0mon_test_batch_end\u001b[0m\u001b[0;34m(\u001b[0m\u001b[0mself\u001b[0m\u001b[0;34m,\u001b[0m \u001b[0mbatch\u001b[0m\u001b[0;34m,\u001b[0m \u001b[0mlogs\u001b[0m\u001b[0;34m=\u001b[0m\u001b[0;32mNone\u001b[0m\u001b[0;34m)\u001b[0m\u001b[0;34m:\u001b[0m\u001b[0;34m\u001b[0m\u001b[0;34m\u001b[0m\u001b[0m\n",
      "\u001b[0;32m~/.cache/pypoetry/virtualenvs/trade-Pm8PR6AO-py3.8/lib/python3.8/site-packages/tensorflow/python/keras/callbacks.py\u001b[0m in \u001b[0;36m_batch_update_progbar\u001b[0;34m(self, batch, logs)\u001b[0m\n\u001b[1;32m   1082\u001b[0m     \u001b[0;32mif\u001b[0m \u001b[0mself\u001b[0m\u001b[0;34m.\u001b[0m\u001b[0mverbose\u001b[0m \u001b[0;34m==\u001b[0m \u001b[0;36m1\u001b[0m\u001b[0;34m:\u001b[0m\u001b[0;34m\u001b[0m\u001b[0;34m\u001b[0m\u001b[0m\n\u001b[1;32m   1083\u001b[0m       \u001b[0;31m# Only block async when verbose = 1.\u001b[0m\u001b[0;34m\u001b[0m\u001b[0;34m\u001b[0m\u001b[0;34m\u001b[0m\u001b[0m\n\u001b[0;32m-> 1084\u001b[0;31m       \u001b[0mlogs\u001b[0m \u001b[0;34m=\u001b[0m \u001b[0mtf_utils\u001b[0m\u001b[0;34m.\u001b[0m\u001b[0mto_numpy_or_python_type\u001b[0m\u001b[0;34m(\u001b[0m\u001b[0mlogs\u001b[0m\u001b[0;34m)\u001b[0m\u001b[0;34m\u001b[0m\u001b[0;34m\u001b[0m\u001b[0m\n\u001b[0m\u001b[1;32m   1085\u001b[0m       \u001b[0mself\u001b[0m\u001b[0;34m.\u001b[0m\u001b[0mprogbar\u001b[0m\u001b[0;34m.\u001b[0m\u001b[0mupdate\u001b[0m\u001b[0;34m(\u001b[0m\u001b[0mself\u001b[0m\u001b[0;34m.\u001b[0m\u001b[0mseen\u001b[0m\u001b[0;34m,\u001b[0m \u001b[0mlist\u001b[0m\u001b[0;34m(\u001b[0m\u001b[0mlogs\u001b[0m\u001b[0;34m.\u001b[0m\u001b[0mitems\u001b[0m\u001b[0;34m(\u001b[0m\u001b[0;34m)\u001b[0m\u001b[0;34m)\u001b[0m\u001b[0;34m,\u001b[0m \u001b[0mfinalize\u001b[0m\u001b[0;34m=\u001b[0m\u001b[0;32mFalse\u001b[0m\u001b[0;34m)\u001b[0m\u001b[0;34m\u001b[0m\u001b[0;34m\u001b[0m\u001b[0m\n\u001b[1;32m   1086\u001b[0m \u001b[0;34m\u001b[0m\u001b[0m\n",
      "\u001b[0;32m~/.cache/pypoetry/virtualenvs/trade-Pm8PR6AO-py3.8/lib/python3.8/site-packages/tensorflow/python/keras/utils/tf_utils.py\u001b[0m in \u001b[0;36mto_numpy_or_python_type\u001b[0;34m(tensors)\u001b[0m\n\u001b[1;32m    512\u001b[0m     \u001b[0;32mreturn\u001b[0m \u001b[0mt\u001b[0m  \u001b[0;31m# Don't turn ragged or sparse tensors to NumPy.\u001b[0m\u001b[0;34m\u001b[0m\u001b[0;34m\u001b[0m\u001b[0m\n\u001b[1;32m    513\u001b[0m \u001b[0;34m\u001b[0m\u001b[0m\n\u001b[0;32m--> 514\u001b[0;31m   \u001b[0;32mreturn\u001b[0m \u001b[0mnest\u001b[0m\u001b[0;34m.\u001b[0m\u001b[0mmap_structure\u001b[0m\u001b[0;34m(\u001b[0m\u001b[0m_to_single_numpy_or_python_type\u001b[0m\u001b[0;34m,\u001b[0m \u001b[0mtensors\u001b[0m\u001b[0;34m)\u001b[0m\u001b[0;34m\u001b[0m\u001b[0;34m\u001b[0m\u001b[0m\n\u001b[0m\u001b[1;32m    515\u001b[0m \u001b[0;34m\u001b[0m\u001b[0m\n\u001b[1;32m    516\u001b[0m \u001b[0;34m\u001b[0m\u001b[0m\n",
      "\u001b[0;32m~/.cache/pypoetry/virtualenvs/trade-Pm8PR6AO-py3.8/lib/python3.8/site-packages/tensorflow/python/util/nest.py\u001b[0m in \u001b[0;36mmap_structure\u001b[0;34m(func, *structure, **kwargs)\u001b[0m\n\u001b[1;32m    657\u001b[0m \u001b[0;34m\u001b[0m\u001b[0m\n\u001b[1;32m    658\u001b[0m   return pack_sequence_as(\n\u001b[0;32m--> 659\u001b[0;31m       \u001b[0mstructure\u001b[0m\u001b[0;34m[\u001b[0m\u001b[0;36m0\u001b[0m\u001b[0;34m]\u001b[0m\u001b[0;34m,\u001b[0m \u001b[0;34m[\u001b[0m\u001b[0mfunc\u001b[0m\u001b[0;34m(\u001b[0m\u001b[0;34m*\u001b[0m\u001b[0mx\u001b[0m\u001b[0;34m)\u001b[0m \u001b[0;32mfor\u001b[0m \u001b[0mx\u001b[0m \u001b[0;32min\u001b[0m \u001b[0mentries\u001b[0m\u001b[0;34m]\u001b[0m\u001b[0;34m,\u001b[0m\u001b[0;34m\u001b[0m\u001b[0;34m\u001b[0m\u001b[0m\n\u001b[0m\u001b[1;32m    660\u001b[0m       expand_composites=expand_composites)\n\u001b[1;32m    661\u001b[0m \u001b[0;34m\u001b[0m\u001b[0m\n",
      "\u001b[0;32m~/.cache/pypoetry/virtualenvs/trade-Pm8PR6AO-py3.8/lib/python3.8/site-packages/tensorflow/python/util/nest.py\u001b[0m in \u001b[0;36m<listcomp>\u001b[0;34m(.0)\u001b[0m\n\u001b[1;32m    657\u001b[0m \u001b[0;34m\u001b[0m\u001b[0m\n\u001b[1;32m    658\u001b[0m   return pack_sequence_as(\n\u001b[0;32m--> 659\u001b[0;31m       \u001b[0mstructure\u001b[0m\u001b[0;34m[\u001b[0m\u001b[0;36m0\u001b[0m\u001b[0;34m]\u001b[0m\u001b[0;34m,\u001b[0m \u001b[0;34m[\u001b[0m\u001b[0mfunc\u001b[0m\u001b[0;34m(\u001b[0m\u001b[0;34m*\u001b[0m\u001b[0mx\u001b[0m\u001b[0;34m)\u001b[0m \u001b[0;32mfor\u001b[0m \u001b[0mx\u001b[0m \u001b[0;32min\u001b[0m \u001b[0mentries\u001b[0m\u001b[0;34m]\u001b[0m\u001b[0;34m,\u001b[0m\u001b[0;34m\u001b[0m\u001b[0;34m\u001b[0m\u001b[0m\n\u001b[0m\u001b[1;32m    660\u001b[0m       expand_composites=expand_composites)\n\u001b[1;32m    661\u001b[0m \u001b[0;34m\u001b[0m\u001b[0m\n",
      "\u001b[0;32m~/.cache/pypoetry/virtualenvs/trade-Pm8PR6AO-py3.8/lib/python3.8/site-packages/tensorflow/python/keras/utils/tf_utils.py\u001b[0m in \u001b[0;36m_to_single_numpy_or_python_type\u001b[0;34m(t)\u001b[0m\n\u001b[1;32m    508\u001b[0m   \u001b[0;32mdef\u001b[0m \u001b[0m_to_single_numpy_or_python_type\u001b[0m\u001b[0;34m(\u001b[0m\u001b[0mt\u001b[0m\u001b[0;34m)\u001b[0m\u001b[0;34m:\u001b[0m\u001b[0;34m\u001b[0m\u001b[0;34m\u001b[0m\u001b[0m\n\u001b[1;32m    509\u001b[0m     \u001b[0;32mif\u001b[0m \u001b[0misinstance\u001b[0m\u001b[0;34m(\u001b[0m\u001b[0mt\u001b[0m\u001b[0;34m,\u001b[0m \u001b[0mops\u001b[0m\u001b[0;34m.\u001b[0m\u001b[0mTensor\u001b[0m\u001b[0;34m)\u001b[0m\u001b[0;34m:\u001b[0m\u001b[0;34m\u001b[0m\u001b[0;34m\u001b[0m\u001b[0m\n\u001b[0;32m--> 510\u001b[0;31m       \u001b[0mx\u001b[0m \u001b[0;34m=\u001b[0m \u001b[0mt\u001b[0m\u001b[0;34m.\u001b[0m\u001b[0mnumpy\u001b[0m\u001b[0;34m(\u001b[0m\u001b[0;34m)\u001b[0m\u001b[0;34m\u001b[0m\u001b[0;34m\u001b[0m\u001b[0m\n\u001b[0m\u001b[1;32m    511\u001b[0m       \u001b[0;32mreturn\u001b[0m \u001b[0mx\u001b[0m\u001b[0;34m.\u001b[0m\u001b[0mitem\u001b[0m\u001b[0;34m(\u001b[0m\u001b[0;34m)\u001b[0m \u001b[0;32mif\u001b[0m \u001b[0mnp\u001b[0m\u001b[0;34m.\u001b[0m\u001b[0mndim\u001b[0m\u001b[0;34m(\u001b[0m\u001b[0mx\u001b[0m\u001b[0;34m)\u001b[0m \u001b[0;34m==\u001b[0m \u001b[0;36m0\u001b[0m \u001b[0;32melse\u001b[0m \u001b[0mx\u001b[0m\u001b[0;34m\u001b[0m\u001b[0;34m\u001b[0m\u001b[0m\n\u001b[1;32m    512\u001b[0m     \u001b[0;32mreturn\u001b[0m \u001b[0mt\u001b[0m  \u001b[0;31m# Don't turn ragged or sparse tensors to NumPy.\u001b[0m\u001b[0;34m\u001b[0m\u001b[0;34m\u001b[0m\u001b[0m\n",
      "\u001b[0;32m~/.cache/pypoetry/virtualenvs/trade-Pm8PR6AO-py3.8/lib/python3.8/site-packages/tensorflow/python/framework/ops.py\u001b[0m in \u001b[0;36mnumpy\u001b[0;34m(self)\u001b[0m\n\u001b[1;32m   1069\u001b[0m     \"\"\"\n\u001b[1;32m   1070\u001b[0m     \u001b[0;31m# TODO(slebedev): Consider avoiding a copy for non-CPU or remote tensors.\u001b[0m\u001b[0;34m\u001b[0m\u001b[0;34m\u001b[0m\u001b[0;34m\u001b[0m\u001b[0m\n\u001b[0;32m-> 1071\u001b[0;31m     \u001b[0mmaybe_arr\u001b[0m \u001b[0;34m=\u001b[0m \u001b[0mself\u001b[0m\u001b[0;34m.\u001b[0m\u001b[0m_numpy\u001b[0m\u001b[0;34m(\u001b[0m\u001b[0;34m)\u001b[0m  \u001b[0;31m# pylint: disable=protected-access\u001b[0m\u001b[0;34m\u001b[0m\u001b[0;34m\u001b[0m\u001b[0m\n\u001b[0m\u001b[1;32m   1072\u001b[0m     \u001b[0;32mreturn\u001b[0m \u001b[0mmaybe_arr\u001b[0m\u001b[0;34m.\u001b[0m\u001b[0mcopy\u001b[0m\u001b[0;34m(\u001b[0m\u001b[0;34m)\u001b[0m \u001b[0;32mif\u001b[0m \u001b[0misinstance\u001b[0m\u001b[0;34m(\u001b[0m\u001b[0mmaybe_arr\u001b[0m\u001b[0;34m,\u001b[0m \u001b[0mnp\u001b[0m\u001b[0;34m.\u001b[0m\u001b[0mndarray\u001b[0m\u001b[0;34m)\u001b[0m \u001b[0;32melse\u001b[0m \u001b[0mmaybe_arr\u001b[0m\u001b[0;34m\u001b[0m\u001b[0;34m\u001b[0m\u001b[0m\n\u001b[1;32m   1073\u001b[0m \u001b[0;34m\u001b[0m\u001b[0m\n",
      "\u001b[0;32m~/.cache/pypoetry/virtualenvs/trade-Pm8PR6AO-py3.8/lib/python3.8/site-packages/tensorflow/python/framework/ops.py\u001b[0m in \u001b[0;36m_numpy\u001b[0;34m(self)\u001b[0m\n\u001b[1;32m   1035\u001b[0m   \u001b[0;32mdef\u001b[0m \u001b[0m_numpy\u001b[0m\u001b[0;34m(\u001b[0m\u001b[0mself\u001b[0m\u001b[0;34m)\u001b[0m\u001b[0;34m:\u001b[0m\u001b[0;34m\u001b[0m\u001b[0;34m\u001b[0m\u001b[0m\n\u001b[1;32m   1036\u001b[0m     \u001b[0;32mtry\u001b[0m\u001b[0;34m:\u001b[0m\u001b[0;34m\u001b[0m\u001b[0;34m\u001b[0m\u001b[0m\n\u001b[0;32m-> 1037\u001b[0;31m       \u001b[0;32mreturn\u001b[0m \u001b[0mself\u001b[0m\u001b[0;34m.\u001b[0m\u001b[0m_numpy_internal\u001b[0m\u001b[0;34m(\u001b[0m\u001b[0;34m)\u001b[0m\u001b[0;34m\u001b[0m\u001b[0;34m\u001b[0m\u001b[0m\n\u001b[0m\u001b[1;32m   1038\u001b[0m     \u001b[0;32mexcept\u001b[0m \u001b[0mcore\u001b[0m\u001b[0;34m.\u001b[0m\u001b[0m_NotOkStatusException\u001b[0m \u001b[0;32mas\u001b[0m \u001b[0me\u001b[0m\u001b[0;34m:\u001b[0m  \u001b[0;31m# pylint: disable=protected-access\u001b[0m\u001b[0;34m\u001b[0m\u001b[0;34m\u001b[0m\u001b[0m\n\u001b[1;32m   1039\u001b[0m       \u001b[0msix\u001b[0m\u001b[0;34m.\u001b[0m\u001b[0mraise_from\u001b[0m\u001b[0;34m(\u001b[0m\u001b[0mcore\u001b[0m\u001b[0;34m.\u001b[0m\u001b[0m_status_to_exception\u001b[0m\u001b[0;34m(\u001b[0m\u001b[0me\u001b[0m\u001b[0;34m.\u001b[0m\u001b[0mcode\u001b[0m\u001b[0;34m,\u001b[0m \u001b[0me\u001b[0m\u001b[0;34m.\u001b[0m\u001b[0mmessage\u001b[0m\u001b[0;34m)\u001b[0m\u001b[0;34m,\u001b[0m \u001b[0;32mNone\u001b[0m\u001b[0;34m)\u001b[0m  \u001b[0;31m# pylint: disable=protected-access\u001b[0m\u001b[0;34m\u001b[0m\u001b[0;34m\u001b[0m\u001b[0m\n",
      "\u001b[0;31mKeyboardInterrupt\u001b[0m: "
     ]
    }
   ],
   "source": [
    "batch_size = 200\n",
    "n_epoch = 500\n",
    "\n",
    "# 学習\n",
    "hist = model.fit(X_train, y_train,\n",
    "                 epochs=n_epoch,\n",
    "                 validation_data=(X_val, y_val),\n",
    "                 verbose=1,\n",
    "                 batch_size=batch_size)"
   ]
  },
  {
   "cell_type": "code",
   "execution_count": null,
   "id": "parallel-occurrence",
   "metadata": {},
   "outputs": [],
   "source": [
    "plt.plot(hist.history['loss'],label=\"train set\")\n",
    "plt.plot(hist.history['val_loss'],label=\"val set\")\n",
    "plt.title('model loss')\n",
    "plt.xlabel('epoch')\n",
    "plt.ylabel('loss')\n",
    "# plt.ylim(0, 0.002)\n",
    "plt.legend()\n",
    "plt.show()"
   ]
  },
  {
   "cell_type": "code",
   "execution_count": 15,
   "id": "fabulous-source",
   "metadata": {},
   "outputs": [],
   "source": [
    "y_stack  = model.predict(X_test)\n",
    "y_stack = std_close * y_stack + mean_close\n",
    "y_raw = std_close * y_test + mean_close"
   ]
  },
  {
   "cell_type": "code",
   "execution_count": 16,
   "id": "homeless-bulletin",
   "metadata": {},
   "outputs": [
    {
     "data": {
      "image/png": "[encoded data removed]",
      "text/plain": [
       "<Figure size 1080x432 with 1 Axes>"
      ]
     },
     "metadata": {
      "needs_background": "light"
     },
     "output_type": "display_data"
    }
   ],
   "source": [
    "pd.Series(y_stack[0, :]).plot(label='pred0')\n",
    "\n",
    "pd.Series(y_raw[0, :]).plot(label='actual')\n",
    "plt.legend()\n",
    "# plt.xlim(400, 500)\n",
    "plt.show()"
   ]
  },
  {
   "cell_type": "code",
   "execution_count": null,
   "id": "combined-contamination",
   "metadata": {},
   "outputs": [],
   "source": [
    "y_raw"
   ]
  },
  {
   "cell_type": "code",
   "execution_count": null,
   "id": "behind-dallas",
   "metadata": {},
   "outputs": [],
   "source": []
  }
 ],
 "metadata": {
  "kernelspec": {
   "display_name": "Python 3",
   "language": "python",
   "name": "python3"
  },
  "language_info": {
   "codemirror_mode": {
    "name": "ipython",
    "version": 3
   },
   "file_extension": ".py",
   "mimetype": "text/x-python",
   "name": "python",
   "nbconvert_exporter": "python",
   "pygments_lexer": "ipython3",
   "version": "3.8.7"
  }
 },
 "nbformat": 4,
 "nbformat_minor": 5
}
