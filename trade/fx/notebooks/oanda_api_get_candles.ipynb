{
 "cells": [
  {
   "cell_type": "code",
   "execution_count": 1,
   "id": "hollow-myrtle",
   "metadata": {},
   "outputs": [],
   "source": [
    "import os"
   ]
  },
  {
   "cell_type": "code",
   "execution_count": 11,
   "id": "dated-authority",
   "metadata": {},
   "outputs": [],
   "source": [
    "import pandas as pd"
   ]
  },
  {
   "cell_type": "code",
   "execution_count": 2,
   "id": "bearing-panic",
   "metadata": {},
   "outputs": [],
   "source": [
    "from oandapyV20 import API\n",
    "from oandapyV20.exceptions import V20Error\n",
    "from oandapyV20.endpoints.pricing import PricingStream\n",
    "import oandapyV20.endpoints.orders as orders\n",
    "import oandapyV20.endpoints.instruments as instruments"
   ]
  },
  {
   "cell_type": "code",
   "execution_count": 3,
   "id": "retired-motor",
   "metadata": {},
   "outputs": [],
   "source": [
    "accountID = os.environ['oanda_account_id']\n",
    "access_token = os.environ['oanda_access_token']\n",
    "\n",
    "api = API(access_token=access_token, environment=\"live\")"
   ]
  },
  {
   "cell_type": "code",
   "execution_count": 4,
   "id": "brief-edgar",
   "metadata": {
    "scrolled": true
   },
   "outputs": [],
   "source": [
    "# import oandapyV20.endpoints.accounts as accounts\n",
    "# params = { \"instruments\": \"EUR_USD,EUR_JPY,USD_JPY\" }\n",
    "# r = accounts.AccountInstruments(accountID=accountID, params=params)\n",
    "# api.request(r)"
   ]
  },
  {
   "cell_type": "code",
   "execution_count": 5,
   "id": "extra-surgeon",
   "metadata": {},
   "outputs": [],
   "source": [
    "# r = accounts.AccountSummary(accountID)\n",
    "# api.request(r)"
   ]
  },
  {
   "cell_type": "code",
   "execution_count": 6,
   "id": "acknowledged-sweet",
   "metadata": {},
   "outputs": [],
   "source": [
    "import json"
   ]
  },
  {
   "cell_type": "code",
   "execution_count": 29,
   "id": "formed-grocery",
   "metadata": {},
   "outputs": [],
   "source": [
    "params = {\n",
    "  \"count\": 1000,\n",
    "  \"granularity\": \"M1\"\n",
    "}\n",
    "r = instruments.InstrumentsCandles(instrument=\"USD_JPY\", params=params)\n",
    "data = api.request(r)"
   ]
  },
  {
   "cell_type": "code",
   "execution_count": 30,
   "id": "pressing-filename",
   "metadata": {},
   "outputs": [],
   "source": [
    "prices = []\n",
    "for c in data['candles']:\n",
    "    prices.append([c['time'], c['mid']['o'], c['mid']['h'], c['mid']['l'], c['mid']['c'], c['volume']])"
   ]
  },
  {
   "cell_type": "code",
   "execution_count": 31,
   "id": "irish-barrel",
   "metadata": {},
   "outputs": [],
   "source": [
    "df = pd.DataFrame(prices, columns=['time', 'open', 'high', 'low', 'close', 'volume'])\n",
    "df['time'] = pd.to_datetime(df['time'])\n",
    "df = df.set_index('time')"
   ]
  },
  {
   "cell_type": "code",
   "execution_count": 32,
   "id": "lasting-feeding",
   "metadata": {},
   "outputs": [
    {
     "data": {
      "text/plain": [
       "DatetimeIndex(['2021-04-02 03:03:00+00:00', '2021-04-02 03:04:00+00:00',\n",
       "               '2021-04-02 03:05:00+00:00', '2021-04-02 03:06:00+00:00',\n",
       "               '2021-04-02 03:07:00+00:00', '2021-04-02 03:08:00+00:00',\n",
       "               '2021-04-02 03:09:00+00:00', '2021-04-02 03:10:00+00:00',\n",
       "               '2021-04-02 03:11:00+00:00', '2021-04-02 03:12:00+00:00',\n",
       "               ...\n",
       "               '2021-04-02 20:47:00+00:00', '2021-04-02 20:48:00+00:00',\n",
       "               '2021-04-02 20:49:00+00:00', '2021-04-02 20:50:00+00:00',\n",
       "               '2021-04-02 20:53:00+00:00', '2021-04-02 20:54:00+00:00',\n",
       "               '2021-04-02 20:55:00+00:00', '2021-04-02 20:56:00+00:00',\n",
       "               '2021-04-02 20:58:00+00:00', '2021-04-02 20:59:00+00:00'],\n",
       "              dtype='datetime64[ns, UTC]', name='time', length=1000, freq=None)"
      ]
     },
     "execution_count": 32,
     "metadata": {},
     "output_type": "execute_result"
    }
   ],
   "source": [
    "df.index"
   ]
  },
  {
   "cell_type": "code",
   "execution_count": 33,
   "id": "robust-version",
   "metadata": {},
   "outputs": [
    {
     "data": {
      "text/html": [
       "<div>\n",
       "<style scoped>\n",
       "    .dataframe tbody tr th:only-of-type {\n",
       "        vertical-align: middle;\n",
       "    }\n",
       "\n",
       "    .dataframe tbody tr th {\n",
       "        vertical-align: top;\n",
       "    }\n",
       "\n",
       "    .dataframe thead th {\n",
       "        text-align: right;\n",
       "    }\n",
       "</style>\n",
       "<table border=\"1\" class=\"dataframe\">\n",
       "  <thead>\n",
       "    <tr style=\"text-align: right;\">\n",
       "      <th></th>\n",
       "      <th>open</th>\n",
       "      <th>high</th>\n",
       "      <th>low</th>\n",
       "      <th>close</th>\n",
       "      <th>volume</th>\n",
       "    </tr>\n",
       "    <tr>\n",
       "      <th>time</th>\n",
       "      <th></th>\n",
       "      <th></th>\n",
       "      <th></th>\n",
       "      <th></th>\n",
       "      <th></th>\n",
       "    </tr>\n",
       "  </thead>\n",
       "  <tbody>\n",
       "    <tr>\n",
       "      <th>2021-04-02 03:03:00+00:00</th>\n",
       "      <td>110.625</td>\n",
       "      <td>110.632</td>\n",
       "      <td>110.624</td>\n",
       "      <td>110.630</td>\n",
       "      <td>43</td>\n",
       "    </tr>\n",
       "    <tr>\n",
       "      <th>2021-04-02 03:04:00+00:00</th>\n",
       "      <td>110.629</td>\n",
       "      <td>110.630</td>\n",
       "      <td>110.626</td>\n",
       "      <td>110.626</td>\n",
       "      <td>23</td>\n",
       "    </tr>\n",
       "    <tr>\n",
       "      <th>2021-04-02 03:05:00+00:00</th>\n",
       "      <td>110.627</td>\n",
       "      <td>110.631</td>\n",
       "      <td>110.624</td>\n",
       "      <td>110.624</td>\n",
       "      <td>66</td>\n",
       "    </tr>\n",
       "    <tr>\n",
       "      <th>2021-04-02 03:06:00+00:00</th>\n",
       "      <td>110.626</td>\n",
       "      <td>110.627</td>\n",
       "      <td>110.622</td>\n",
       "      <td>110.624</td>\n",
       "      <td>58</td>\n",
       "    </tr>\n",
       "    <tr>\n",
       "      <th>2021-04-02 03:07:00+00:00</th>\n",
       "      <td>110.626</td>\n",
       "      <td>110.626</td>\n",
       "      <td>110.614</td>\n",
       "      <td>110.625</td>\n",
       "      <td>45</td>\n",
       "    </tr>\n",
       "    <tr>\n",
       "      <th>...</th>\n",
       "      <td>...</td>\n",
       "      <td>...</td>\n",
       "      <td>...</td>\n",
       "      <td>...</td>\n",
       "      <td>...</td>\n",
       "    </tr>\n",
       "    <tr>\n",
       "      <th>2021-04-02 20:54:00+00:00</th>\n",
       "      <td>110.642</td>\n",
       "      <td>110.642</td>\n",
       "      <td>110.642</td>\n",
       "      <td>110.642</td>\n",
       "      <td>1</td>\n",
       "    </tr>\n",
       "    <tr>\n",
       "      <th>2021-04-02 20:55:00+00:00</th>\n",
       "      <td>110.655</td>\n",
       "      <td>110.661</td>\n",
       "      <td>110.655</td>\n",
       "      <td>110.661</td>\n",
       "      <td>2</td>\n",
       "    </tr>\n",
       "    <tr>\n",
       "      <th>2021-04-02 20:56:00+00:00</th>\n",
       "      <td>110.653</td>\n",
       "      <td>110.687</td>\n",
       "      <td>110.647</td>\n",
       "      <td>110.687</td>\n",
       "      <td>5</td>\n",
       "    </tr>\n",
       "    <tr>\n",
       "      <th>2021-04-02 20:58:00+00:00</th>\n",
       "      <td>110.679</td>\n",
       "      <td>110.691</td>\n",
       "      <td>110.679</td>\n",
       "      <td>110.679</td>\n",
       "      <td>4</td>\n",
       "    </tr>\n",
       "    <tr>\n",
       "      <th>2021-04-02 20:59:00+00:00</th>\n",
       "      <td>110.689</td>\n",
       "      <td>110.689</td>\n",
       "      <td>110.675</td>\n",
       "      <td>110.675</td>\n",
       "      <td>4</td>\n",
       "    </tr>\n",
       "  </tbody>\n",
       "</table>\n",
       "<p>1000 rows × 5 columns</p>\n",
       "</div>"
      ],
      "text/plain": [
       "                              open     high      low    close  volume\n",
       "time                                                                 \n",
       "2021-04-02 03:03:00+00:00  110.625  110.632  110.624  110.630      43\n",
       "2021-04-02 03:04:00+00:00  110.629  110.630  110.626  110.626      23\n",
       "2021-04-02 03:05:00+00:00  110.627  110.631  110.624  110.624      66\n",
       "2021-04-02 03:06:00+00:00  110.626  110.627  110.622  110.624      58\n",
       "2021-04-02 03:07:00+00:00  110.626  110.626  110.614  110.625      45\n",
       "...                            ...      ...      ...      ...     ...\n",
       "2021-04-02 20:54:00+00:00  110.642  110.642  110.642  110.642       1\n",
       "2021-04-02 20:55:00+00:00  110.655  110.661  110.655  110.661       2\n",
       "2021-04-02 20:56:00+00:00  110.653  110.687  110.647  110.687       5\n",
       "2021-04-02 20:58:00+00:00  110.679  110.691  110.679  110.679       4\n",
       "2021-04-02 20:59:00+00:00  110.689  110.689  110.675  110.675       4\n",
       "\n",
       "[1000 rows x 5 columns]"
      ]
     },
     "execution_count": 33,
     "metadata": {},
     "output_type": "execute_result"
    }
   ],
   "source": [
    "df"
   ]
  },
  {
   "cell_type": "code",
   "execution_count": null,
   "id": "recognized-interview",
   "metadata": {},
   "outputs": [],
   "source": []
  },
  {
   "cell_type": "code",
   "execution_count": null,
   "id": "ahead-sheriff",
   "metadata": {},
   "outputs": [],
   "source": []
  }
 ],
 "metadata": {
  "kernelspec": {
   "display_name": "Python 3",
   "language": "python",
   "name": "python3"
  },
  "language_info": {
   "codemirror_mode": {
    "name": "ipython",
    "version": 3
   },
   "file_extension": ".py",
   "mimetype": "text/x-python",
   "name": "python",
   "nbconvert_exporter": "python",
   "pygments_lexer": "ipython3",
   "version": "3.8.7"
  }
 },
 "nbformat": 4,
 "nbformat_minor": 5
}
