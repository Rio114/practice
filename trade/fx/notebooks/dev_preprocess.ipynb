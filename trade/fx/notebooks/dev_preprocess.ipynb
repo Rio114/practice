{
 "cells": [
  {
   "cell_type": "code",
   "execution_count": 1,
   "id": "constant-candy",
   "metadata": {},
   "outputs": [],
   "source": [
    "import sys\n",
    "sys.path.append('..')\n",
    "import time"
   ]
  },
  {
   "cell_type": "code",
   "execution_count": 2,
   "id": "above-feeling",
   "metadata": {},
   "outputs": [],
   "source": [
    "import numpy as np\n",
    "import pandas as pd\n",
    "import matplotlib.pyplot as plt"
   ]
  },
  {
   "cell_type": "code",
   "execution_count": 3,
   "id": "stretch-anxiety",
   "metadata": {
    "scrolled": true
   },
   "outputs": [],
   "source": [
    "from utils.oanda_utils import get_candles_df, load_candles_df\n",
    "from utils.indicators import add_sma\n",
    "from utils.preprocesses import split_df, add_target"
   ]
  },
  {
   "cell_type": "code",
   "execution_count": 5,
   "id": "valid-count",
   "metadata": {},
   "outputs": [],
   "source": [
    "from utils.stats import jarque_bera_normal_dist, ljung_box_auto_corr, adfuller_unit_root"
   ]
  },
  {
   "cell_type": "code",
   "execution_count": 6,
   "id": "strange-induction",
   "metadata": {},
   "outputs": [],
   "source": [
    "import datetime"
   ]
  },
  {
   "cell_type": "code",
   "execution_count": 7,
   "id": "primary-defense",
   "metadata": {},
   "outputs": [],
   "source": [
    "df = load_candles_df(\"../data/usd_jpy_m1.csv\")\n",
    "df['time']  = pd.to_datetime(df['time'], utc=True)\n",
    "df = df.set_index('time')"
   ]
  },
  {
   "cell_type": "code",
   "execution_count": 8,
   "id": "bacterial-reunion",
   "metadata": {},
   "outputs": [],
   "source": [
    "target_window = 10\n",
    "df = add_target(df, target_window, align=\"C\")"
   ]
  },
  {
   "cell_type": "code",
   "execution_count": 10,
   "id": "legal-pittsburgh",
   "metadata": {},
   "outputs": [
    {
     "name": "stdout",
     "output_type": "stream",
     "text": [
      "Jack Bera: \t Jarque_beraResult(statistic=1815.2714852294166, pvalue=0.0)\n"
     ]
    }
   ],
   "source": [
    "jarque_bera_normal_dist(df[\"C\"].apply(np.log).diff().dropna())"
   ]
  },
  {
   "cell_type": "code",
   "execution_count": 25,
   "id": "superior-princess",
   "metadata": {},
   "outputs": [
    {
     "name": "stdout",
     "output_type": "stream",
     "text": [
      "1 3.829953173471047 0.05034433924495086\n",
      "2 4.001606866149845 0.1352265940619419\n",
      "3 6.374832464841147 0.09473168186660956\n",
      "4 6.562251344096615 0.16091006226638804\n",
      "5 6.635558552341858 0.2491852900103888\n",
      "6 13.177848543679179 0.040297043218276166\n",
      "7 14.463741159420264 0.04352187517534447\n",
      "8 16.375998841355077 0.03730390422716841\n",
      "9 16.52585046231573 0.05667998382022813\n",
      "10 17.459401315340447 0.06479683329312833\n"
     ]
    }
   ],
   "source": [
    "ljung_box_auto_corr(df[\"C\"].apply(np.log).diff().dropna(), 10)"
   ]
  },
  {
   "cell_type": "code",
   "execution_count": 17,
   "id": "failing-journalism",
   "metadata": {},
   "outputs": [
    {
     "name": "stdout",
     "output_type": "stream",
     "text": [
      "---ctt---\n",
      "(-72.02851048742228, 0.0, 0, 5467, {'1%': -4.373250863916808, '5%': -3.833470663723131, '10%': -3.553929575690367}, -36370.89624698518)\n",
      "---ct---\n",
      "(-72.02975968183344, 0.0, 0, 5467, {'1%': -3.960426905874412, '5%': -3.411293375588838, '10%': -3.1275230782317216}, -36372.265174120395)\n",
      "---c---\n",
      "(-72.00893646758799, 0.0, 0, 5467, {'1%': -3.4315467025937836, '5%': -2.8620688230848064, '10%': -2.5670514914596914}, -36371.92824350352)\n",
      "---nc---\n",
      "(-71.98865314043223, 0.0, 0, 5467, {'1%': -2.566149084220808, '5%': -1.9410492435461104, '10%': -1.6167715082466638}, -36372.10417476253)\n"
     ]
    }
   ],
   "source": [
    "adfuller_unit_root(df[\"C\"].dropna())"
   ]
  },
  {
   "cell_type": "code",
   "execution_count": 26,
   "id": "final-excitement",
   "metadata": {},
   "outputs": [],
   "source": [
    "df['return_rate'] = df['C'].apply(np.log).diff()"
   ]
  },
  {
   "cell_type": "code",
   "execution_count": 45,
   "id": "vanilla-candidate",
   "metadata": {},
   "outputs": [],
   "source": [
    "lag_window = 10\n",
    "features = [\"O\", \"H\", \"L\", \"C\"]\n",
    "\n",
    "X = np.zeros([df.shape[0] - lag_window - target_window, lag_window, len(features)])\n",
    "y = np.zeros([df.shape[0] - lag_window - target_window])\n",
    "\n",
    "for i in range(len(df))[lag_window:-target_window]:\n",
    "    for j, f in enumerate(features):\n",
    "        X[i-lag_window-target_window, :, j] = df[f].iloc[i-lag_window:i]\n",
    "        y[i-lag_window-target_window] = df['target'].iloc[i]"
   ]
  },
  {
   "cell_type": "code",
   "execution_count": 47,
   "id": "assumed-colorado",
   "metadata": {},
   "outputs": [
    {
     "data": {
      "text/plain": [
       "DatetimeIndex(['2021-03-23 00:10:00+00:00', '2021-03-23 00:11:00+00:00',\n",
       "               '2021-03-23 00:12:00+00:00', '2021-03-23 00:13:00+00:00',\n",
       "               '2021-03-23 00:14:00+00:00', '2021-03-23 00:15:00+00:00',\n",
       "               '2021-03-23 00:16:00+00:00', '2021-03-23 00:17:00+00:00',\n",
       "               '2021-03-23 00:18:00+00:00', '2021-03-23 00:19:00+00:00',\n",
       "               ...\n",
       "               '2021-03-26 20:40:00+00:00', '2021-03-26 20:41:00+00:00',\n",
       "               '2021-03-26 20:42:00+00:00', '2021-03-26 20:43:00+00:00',\n",
       "               '2021-03-26 20:44:00+00:00', '2021-03-26 20:45:00+00:00',\n",
       "               '2021-03-26 20:46:00+00:00', '2021-03-26 20:47:00+00:00',\n",
       "               '2021-03-26 20:48:00+00:00', '2021-03-26 20:49:00+00:00'],\n",
       "              dtype='datetime64[ns, UTC]', name='time', length=5449, freq=None)"
      ]
     },
     "execution_count": 47,
     "metadata": {},
     "output_type": "execute_result"
    }
   ],
   "source": [
    "idx = df.index[lag_window:-target_window]"
   ]
  },
  {
   "cell_type": "code",
   "execution_count": 66,
   "id": "negative-tenant",
   "metadata": {},
   "outputs": [],
   "source": [
    "train_start = datetime.datetime(2021, 3, 23, tzinfo=datetime.timezone.utc)\n",
    "valid_start = datetime.datetime(2021, 3, 25, tzinfo=datetime.timezone.utc)\n",
    "test_start = datetime.datetime(2021, 3, 26, tzinfo=datetime.timezone.utc)\n",
    "test_end = datetime.datetime(2021, 3, 27, tzinfo=datetime.timezone.utc)"
   ]
  },
  {
   "cell_type": "code",
   "execution_count": 67,
   "id": "municipal-tuner",
   "metadata": {},
   "outputs": [],
   "source": []
  },
  {
   "cell_type": "code",
   "execution_count": 69,
   "id": "municipal-swaziland",
   "metadata": {},
   "outputs": [],
   "source": [
    "df_train, df_valid, df_test = split_df(df.iloc[:-target_window][cols], train_start, valid_start, test_start, test_end)"
   ]
  },
  {
   "cell_type": "code",
   "execution_count": null,
   "id": "grateful-danger",
   "metadata": {},
   "outputs": [],
   "source": []
  },
  {
   "cell_type": "code",
   "execution_count": 61,
   "id": "sustained-detector",
   "metadata": {},
   "outputs": [
    {
     "ename": "ModuleNotFoundError",
     "evalue": "No module named 'keras'",
     "output_type": "error",
     "traceback": [
      "\u001b[0;31m---------------------------------------------------------------------------\u001b[0m",
      "\u001b[0;31mModuleNotFoundError\u001b[0m                       Traceback (most recent call last)",
      "\u001b[0;32m<ipython-input-61-ac47fdc04673>\u001b[0m in \u001b[0;36m<module>\u001b[0;34m\u001b[0m\n\u001b[0;32m----> 1\u001b[0;31m \u001b[0;32mfrom\u001b[0m \u001b[0mkeras\u001b[0m\u001b[0;34m.\u001b[0m\u001b[0mmodels\u001b[0m \u001b[0;32mimport\u001b[0m \u001b[0mSequential\u001b[0m\u001b[0;34m\u001b[0m\u001b[0;34m\u001b[0m\u001b[0m\n\u001b[0m\u001b[1;32m      2\u001b[0m \u001b[0;32mfrom\u001b[0m \u001b[0mkeras\u001b[0m\u001b[0;34m.\u001b[0m\u001b[0mlayers\u001b[0m \u001b[0;32mimport\u001b[0m \u001b[0mActivation\u001b[0m\u001b[0;34m,\u001b[0m \u001b[0mDense\u001b[0m\u001b[0;34m\u001b[0m\u001b[0;34m\u001b[0m\u001b[0m\n\u001b[1;32m      3\u001b[0m \u001b[0;32mfrom\u001b[0m \u001b[0mkeras\u001b[0m\u001b[0;34m.\u001b[0m\u001b[0mlayers\u001b[0m \u001b[0;32mimport\u001b[0m \u001b[0mLSTM\u001b[0m\u001b[0;34m\u001b[0m\u001b[0;34m\u001b[0m\u001b[0m\n\u001b[1;32m      4\u001b[0m \u001b[0;32mfrom\u001b[0m \u001b[0mkeras\u001b[0m\u001b[0;34m.\u001b[0m\u001b[0mlayers\u001b[0m \u001b[0;32mimport\u001b[0m \u001b[0mDropout\u001b[0m\u001b[0;34m\u001b[0m\u001b[0;34m\u001b[0m\u001b[0m\n",
      "\u001b[0;31mModuleNotFoundError\u001b[0m: No module named 'keras'"
     ]
    }
   ],
   "source": [
    "from keras.models import Sequential\n",
    "from keras.layers import Activation, Dense\n",
    "from keras.layers import LSTM\n",
    "from keras.layers import Dropout"
   ]
  },
  {
   "cell_type": "code",
   "execution_count": null,
   "id": "absent-gateway",
   "metadata": {},
   "outputs": [],
   "source": [
    "def build_model(inputs, output_size, neurons, activ_func=\"linear\",\n",
    "                dropout=0.25, loss=\"mae\", optimizer=\"adam\"):\n",
    "    model = Sequential()\n",
    " \n",
    "    model.add(LSTM(neurons, input_shape=(inputs.shape[1], inputs.shape[2])))\n",
    "    model.add(Dropout(dropout))\n",
    "    model.add(Dense(units=output_size))\n",
    "    model.add(Activation(activ_func))\n",
    " \n",
    "    model.compile(loss=loss, optimizer=optimizer)\n",
    "    return model"
   ]
  },
  {
   "cell_type": "code",
   "execution_count": null,
   "id": "combined-globe",
   "metadata": {},
   "outputs": [],
   "source": [
    "\n",
    "\n",
    "# ランダムシードの設定\n",
    "np.random.seed(202)\n",
    " \n",
    "# 初期モデルの構築\n",
    "yen_model = build_model(train_lstm_in, output_size=1, neurons = 20)\n",
    " \n",
    "# データを流してフィッティングさせましょう\n",
    "yen_history = yen_model.fit(train_lstm_in, lstm_train_out, \n",
    "                            epochs=10, batch_size=1, verbose=2, shuffle=True)\n"
   ]
  },
  {
   "cell_type": "code",
   "execution_count": null,
   "id": "rotary-place",
   "metadata": {},
   "outputs": [],
   "source": []
  }
 ],
 "metadata": {
  "kernelspec": {
   "display_name": "Python 3",
   "language": "python",
   "name": "python3"
  },
  "language_info": {
   "codemirror_mode": {
    "name": "ipython",
    "version": 3
   },
   "file_extension": ".py",
   "mimetype": "text/x-python",
   "name": "python",
   "nbconvert_exporter": "python",
   "pygments_lexer": "ipython3",
   "version": "3.8.7"
  }
 },
 "nbformat": 4,
 "nbformat_minor": 5
}
