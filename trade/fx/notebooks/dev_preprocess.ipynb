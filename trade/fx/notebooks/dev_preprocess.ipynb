{
 "cells": [
  {
   "cell_type": "code",
   "execution_count": 1,
   "id": "constant-candy",
   "metadata": {},
   "outputs": [],
   "source": [
    "import sys\n",
    "sys.path.append('..')\n",
    "import time"
   ]
  },
  {
   "cell_type": "code",
   "execution_count": 2,
   "id": "above-feeling",
   "metadata": {},
   "outputs": [],
   "source": [
    "import numpy as np\n",
    "import pandas as pd\n",
    "import matplotlib.pyplot as plt"
   ]
  },
  {
   "cell_type": "code",
   "execution_count": 3,
   "id": "stretch-anxiety",
   "metadata": {
    "scrolled": true
   },
   "outputs": [],
   "source": [
    "from utils.oanda_utils import get_candles_df, load_candles_df\n",
    "from utils.indicators import add_sma\n",
    "from utils.preprocesses import split_df, add_target"
   ]
  },
  {
   "cell_type": "code",
   "execution_count": 4,
   "id": "valid-count",
   "metadata": {},
   "outputs": [],
   "source": [
    "from utils.stats import jarque_bera_normal_dist, ljung_box_auto_corr, adfuller_unit_root"
   ]
  },
  {
   "cell_type": "code",
   "execution_count": 5,
   "id": "strange-induction",
   "metadata": {},
   "outputs": [],
   "source": [
    "import datetime"
   ]
  },
  {
   "cell_type": "code",
   "execution_count": 108,
   "id": "primary-defense",
   "metadata": {},
   "outputs": [],
   "source": [
    "df = load_candles_df(\"../data/usd_jpy_m1.csv\")\n",
    "df['time']  = pd.to_datetime(df['time'], utc=True)\n",
    "df = df.set_index('time')"
   ]
  },
  {
   "cell_type": "code",
   "execution_count": 109,
   "id": "bacterial-reunion",
   "metadata": {},
   "outputs": [],
   "source": [
    "target_window = 10\n",
    "df['target'] = df['C'].apply(np.log).diff().shift(-1)\n",
    "\n",
    "df = df.dropna()"
   ]
  },
  {
   "cell_type": "code",
   "execution_count": 110,
   "id": "vanilla-candidate",
   "metadata": {},
   "outputs": [],
   "source": [
    "lag_window = 30\n",
    "features = [\"O\", \"H\", \"L\", \"C\"]\n",
    "# features = [\"C\"]\n",
    "\n",
    "X = np.zeros([df.shape[0] - lag_window - target_window, lag_window, len(features)])\n",
    "y = np.zeros([df.shape[0] - lag_window - target_window, 1])\n",
    "\n",
    "for i in range(len(df))[lag_window:-target_window]:\n",
    "    X[i-lag_window-target_window, :, :] = df[features].iloc[i-lag_window:i]\n",
    "    y[i-lag_window-target_window, 0] = df['target'].iloc[i]"
   ]
  },
  {
   "cell_type": "code",
   "execution_count": 111,
   "id": "opposed-battle",
   "metadata": {},
   "outputs": [],
   "source": [
    "from sklearn.preprocessing import StandardScaler as ss"
   ]
  },
  {
   "cell_type": "code",
   "execution_count": 112,
   "id": "documentary-working",
   "metadata": {},
   "outputs": [],
   "source": [
    "scaler = ss()"
   ]
  },
  {
   "cell_type": "code",
   "execution_count": 113,
   "id": "direct-holocaust",
   "metadata": {},
   "outputs": [],
   "source": [
    "mean = X.mean()\n",
    "std = X.std()"
   ]
  },
  {
   "cell_type": "code",
   "execution_count": 114,
   "id": "aggregate-arthritis",
   "metadata": {},
   "outputs": [],
   "source": [
    "X = (X - mean) / std"
   ]
  },
  {
   "cell_type": "code",
   "execution_count": 115,
   "id": "assumed-colorado",
   "metadata": {},
   "outputs": [],
   "source": [
    "idx = df.index[lag_window:-target_window]"
   ]
  },
  {
   "cell_type": "code",
   "execution_count": 116,
   "id": "negative-tenant",
   "metadata": {},
   "outputs": [],
   "source": [
    "train_start = datetime.datetime(2021, 3, 23, tzinfo=datetime.timezone.utc)\n",
    "valid_start = datetime.datetime(2021, 3, 25, tzinfo=datetime.timezone.utc)\n",
    "test_start = datetime.datetime(2021, 3, 26, tzinfo=datetime.timezone.utc)\n",
    "test_end = datetime.datetime(2021, 3, 27, tzinfo=datetime.timezone.utc)"
   ]
  },
  {
   "cell_type": "code",
   "execution_count": 117,
   "id": "municipal-tuner",
   "metadata": {},
   "outputs": [],
   "source": [
    "cond_train = idx >= train_start\n",
    "cond_train &= idx < valid_start\n",
    "\n",
    "cond_valid = idx >= valid_start\n",
    "cond_valid &= idx < test_start\n",
    "\n",
    "cond_test = idx >= test_start\n",
    "cond_test &= idx < test_end\n",
    "\n",
    "\n",
    "X_train = X[cond_train]\n",
    "y_train = y[cond_train]\n",
    "\n",
    "X_valid = X[cond_valid]\n",
    "y_valid = y[cond_valid]\n",
    "\n",
    "X_test = X[cond_test]\n",
    "y_test = y[cond_test]"
   ]
  },
  {
   "cell_type": "code",
   "execution_count": 118,
   "id": "sustained-detector",
   "metadata": {},
   "outputs": [],
   "source": [
    "from keras.models import Sequential\n",
    "from keras.layers import Activation, Dense\n",
    "from keras.layers import LSTM\n",
    "from keras.layers import Dropout"
   ]
  },
  {
   "cell_type": "code",
   "execution_count": 119,
   "id": "surprising-stevens",
   "metadata": {},
   "outputs": [],
   "source": [
    "import tensorflow as tf\n",
    "physical_devices = tf.config.list_physical_devices('GPU')\n",
    "tf.config.experimental.set_memory_growth(physical_devices[0], enable=True)"
   ]
  },
  {
   "cell_type": "code",
   "execution_count": 120,
   "id": "absent-gateway",
   "metadata": {},
   "outputs": [],
   "source": [
    "def build_model(inputs, outputs, neurons, activ_func=\"tanh\",\n",
    "                dropout=0.25, loss=\"mae\", optimizer=\"adam\"):\n",
    "    \n",
    "    model = Sequential()\n",
    "    \n",
    "    model.add(LSTM(neurons, input_shape=(inputs.shape[1], inputs.shape[2])))\n",
    "    model.add(Dropout(dropout))\n",
    "    model.add(Dense(units=outputs.shape[1]))\n",
    "    model.add(Activation(activ_func))\n",
    "    \n",
    "    model.compile(loss=loss, optimizer=optimizer)\n",
    "    \n",
    "    return model"
   ]
  },
  {
   "cell_type": "code",
   "execution_count": 121,
   "id": "combined-globe",
   "metadata": {
    "scrolled": true
   },
   "outputs": [],
   "source": [
    "np.random.seed(999)\n",
    " \n",
    "# 初期モデルの構築\n",
    "model = build_model(X_train, y_train, neurons=20)"
   ]
  },
  {
   "cell_type": "code",
   "execution_count": 122,
   "id": "entire-potential",
   "metadata": {},
   "outputs": [
    {
     "name": "stdout",
     "output_type": "stream",
     "text": [
      "Model: \"sequential_7\"\n",
      "_________________________________________________________________\n",
      "Layer (type)                 Output Shape              Param #   \n",
      "=================================================================\n",
      "lstm_8 (LSTM)                (None, 20)                2000      \n",
      "_________________________________________________________________\n",
      "dropout_6 (Dropout)          (None, 20)                0         \n",
      "_________________________________________________________________\n",
      "dense_6 (Dense)              (None, 1)                 21        \n",
      "_________________________________________________________________\n",
      "activation_6 (Activation)    (None, 1)                 0         \n",
      "=================================================================\n",
      "Total params: 2,021\n",
      "Trainable params: 2,021\n",
      "Non-trainable params: 0\n",
      "_________________________________________________________________\n"
     ]
    }
   ],
   "source": [
    "model.summary()"
   ]
  },
  {
   "cell_type": "code",
   "execution_count": 123,
   "id": "rotary-place",
   "metadata": {
    "scrolled": true
   },
   "outputs": [
    {
     "name": "stdout",
     "output_type": "stream",
     "text": [
      "Epoch 1/100\n",
      "140/140 [==============================] - 2s 6ms/step - loss: 0.1640 - val_loss: 0.0077\n",
      "Epoch 2/100\n",
      "140/140 [==============================] - 1s 6ms/step - loss: 0.0183 - val_loss: 0.0025\n",
      "Epoch 3/100\n",
      "140/140 [==============================] - 1s 6ms/step - loss: 0.0061 - val_loss: 0.0024\n",
      "Epoch 4/100\n",
      "140/140 [==============================] - 1s 7ms/step - loss: 0.0035 - val_loss: 0.0025\n",
      "Epoch 5/100\n",
      "140/140 [==============================] - 1s 9ms/step - loss: 0.0032 - val_loss: 0.0023\n",
      "Epoch 6/100\n",
      "140/140 [==============================] - 1s 7ms/step - loss: 0.0027 - val_loss: 0.0019\n",
      "Epoch 7/100\n",
      "140/140 [==============================] - 1s 8ms/step - loss: 0.0025 - val_loss: 0.0036\n",
      "Epoch 8/100\n",
      "140/140 [==============================] - 1s 6ms/step - loss: 0.0020 - val_loss: 0.0017\n",
      "Epoch 9/100\n",
      "140/140 [==============================] - 1s 7ms/step - loss: 0.0018 - val_loss: 0.0019\n",
      "Epoch 10/100\n",
      "140/140 [==============================] - 1s 7ms/step - loss: 0.0015 - val_loss: 0.0015\n",
      "Epoch 11/100\n",
      "140/140 [==============================] - 1s 7ms/step - loss: 0.0015 - val_loss: 0.0013\n",
      "Epoch 12/100\n",
      "140/140 [==============================] - 1s 5ms/step - loss: 0.0012 - val_loss: 0.0014\n",
      "Epoch 13/100\n",
      "140/140 [==============================] - 1s 8ms/step - loss: 0.0014 - val_loss: 0.0018\n",
      "Epoch 14/100\n",
      "140/140 [==============================] - 1s 8ms/step - loss: 0.0011 - val_loss: 0.0033\n",
      "Epoch 15/100\n",
      "140/140 [==============================] - 1s 7ms/step - loss: 0.0012 - val_loss: 0.0022\n",
      "Epoch 16/100\n",
      "140/140 [==============================] - 1s 8ms/step - loss: 0.0012 - val_loss: 0.0027\n",
      "Epoch 17/100\n",
      "140/140 [==============================] - 1s 7ms/step - loss: 8.4542e-04 - val_loss: 0.0043\n",
      "Epoch 18/100\n",
      "140/140 [==============================] - 1s 7ms/step - loss: 7.8125e-04 - val_loss: 0.0030\n",
      "Epoch 19/100\n",
      "140/140 [==============================] - 1s 7ms/step - loss: 7.3787e-04 - val_loss: 0.0035\n",
      "Epoch 20/100\n",
      "140/140 [==============================] - 1s 6ms/step - loss: 7.5219e-04 - val_loss: 0.0032\n",
      "Epoch 21/100\n",
      "140/140 [==============================] - 1s 5ms/step - loss: 7.3157e-04 - val_loss: 0.0045\n",
      "Epoch 22/100\n",
      "140/140 [==============================] - 1s 7ms/step - loss: 5.8062e-04 - val_loss: 0.0047\n",
      "Epoch 23/100\n",
      "140/140 [==============================] - 1s 7ms/step - loss: 7.3390e-04 - val_loss: 0.0034\n",
      "Epoch 24/100\n",
      "140/140 [==============================] - 1s 7ms/step - loss: 5.3200e-04 - val_loss: 0.0043\n",
      "Epoch 25/100\n",
      "140/140 [==============================] - 1s 8ms/step - loss: 4.9026e-04 - val_loss: 0.0042\n",
      "Epoch 26/100\n",
      "140/140 [==============================] - 1s 7ms/step - loss: 5.8766e-04 - val_loss: 0.0032\n",
      "Epoch 27/100\n",
      "140/140 [==============================] - 1s 7ms/step - loss: 4.4741e-04 - val_loss: 0.0035\n",
      "Epoch 28/100\n",
      "140/140 [==============================] - 1s 7ms/step - loss: 4.1629e-04 - val_loss: 0.0029\n",
      "Epoch 29/100\n",
      "140/140 [==============================] - 1s 6ms/step - loss: 3.7080e-04 - val_loss: 0.0032\n",
      "Epoch 30/100\n",
      "140/140 [==============================] - 1s 6ms/step - loss: 3.8184e-04 - val_loss: 0.0038\n",
      "Epoch 31/100\n",
      "140/140 [==============================] - 1s 7ms/step - loss: 3.7101e-04 - val_loss: 0.0027\n",
      "Epoch 32/100\n",
      "140/140 [==============================] - 1s 6ms/step - loss: 3.2451e-04 - val_loss: 0.0028\n",
      "Epoch 33/100\n",
      "140/140 [==============================] - 1s 7ms/step - loss: 4.0699e-04 - val_loss: 0.0023\n",
      "Epoch 34/100\n",
      "140/140 [==============================] - 1s 7ms/step - loss: 2.9907e-04 - val_loss: 0.0030\n",
      "Epoch 35/100\n",
      "140/140 [==============================] - 1s 8ms/step - loss: 3.1971e-04 - val_loss: 0.0023\n",
      "Epoch 36/100\n",
      "140/140 [==============================] - 1s 7ms/step - loss: 2.4996e-04 - val_loss: 0.0018\n",
      "Epoch 37/100\n",
      "140/140 [==============================] - 1s 8ms/step - loss: 3.3083e-04 - val_loss: 0.0014\n",
      "Epoch 38/100\n",
      "140/140 [==============================] - 1s 7ms/step - loss: 2.3837e-04 - val_loss: 0.0012\n",
      "Epoch 39/100\n",
      "140/140 [==============================] - 1s 6ms/step - loss: 2.5029e-04 - val_loss: 0.0010\n",
      "Epoch 40/100\n",
      "140/140 [==============================] - 1s 6ms/step - loss: 1.9711e-04 - val_loss: 7.5388e-04\n",
      "Epoch 41/100\n",
      "140/140 [==============================] - 1s 6ms/step - loss: 1.6878e-04 - val_loss: 5.8598e-04\n",
      "Epoch 42/100\n",
      "140/140 [==============================] - 1s 7ms/step - loss: 2.2158e-04 - val_loss: 5.0728e-04\n",
      "Epoch 43/100\n",
      "140/140 [==============================] - 1s 6ms/step - loss: 2.2865e-04 - val_loss: 8.2114e-04\n",
      "Epoch 44/100\n",
      "140/140 [==============================] - 1s 7ms/step - loss: 1.6757e-04 - val_loss: 5.5941e-04\n",
      "Epoch 45/100\n",
      "140/140 [==============================] - 1s 7ms/step - loss: 1.7760e-04 - val_loss: 6.7666e-04\n",
      "Epoch 46/100\n",
      "140/140 [==============================] - 1s 5ms/step - loss: 2.3213e-04 - val_loss: 5.4165e-04\n",
      "Epoch 47/100\n",
      "140/140 [==============================] - 1s 8ms/step - loss: 1.8412e-04 - val_loss: 4.6353e-04\n",
      "Epoch 48/100\n",
      "140/140 [==============================] - 1s 6ms/step - loss: 1.4626e-04 - val_loss: 5.6741e-04\n",
      "Epoch 49/100\n",
      "140/140 [==============================] - 1s 7ms/step - loss: 1.8552e-04 - val_loss: 6.1705e-04\n",
      "Epoch 50/100\n",
      "140/140 [==============================] - 1s 6ms/step - loss: 1.6407e-04 - val_loss: 6.3510e-04\n",
      "Epoch 51/100\n",
      "140/140 [==============================] - 1s 7ms/step - loss: 1.8298e-04 - val_loss: 4.2213e-04\n",
      "Epoch 52/100\n",
      "140/140 [==============================] - 1s 5ms/step - loss: 1.2127e-04 - val_loss: 5.1262e-04\n",
      "Epoch 53/100\n",
      "140/140 [==============================] - 1s 6ms/step - loss: 1.2581e-04 - val_loss: 5.2292e-04\n",
      "Epoch 54/100\n",
      "140/140 [==============================] - 1s 6ms/step - loss: 1.8097e-04 - val_loss: 3.7762e-04\n",
      "Epoch 55/100\n",
      "140/140 [==============================] - 1s 7ms/step - loss: 1.1098e-04 - val_loss: 8.0646e-04\n",
      "Epoch 56/100\n",
      "140/140 [==============================] - 1s 6ms/step - loss: 1.4470e-04 - val_loss: 4.1504e-04\n",
      "Epoch 57/100\n",
      "140/140 [==============================] - 1s 7ms/step - loss: 1.2323e-04 - val_loss: 6.5570e-04\n",
      "Epoch 58/100\n",
      "140/140 [==============================] - 1s 6ms/step - loss: 1.5174e-04 - val_loss: 3.6059e-04\n",
      "Epoch 59/100\n",
      "140/140 [==============================] - 1s 7ms/step - loss: 9.6134e-05 - val_loss: 2.5668e-04\n",
      "Epoch 60/100\n",
      "140/140 [==============================] - 1s 6ms/step - loss: 1.6069e-04 - val_loss: 2.6761e-04\n",
      "Epoch 61/100\n",
      "140/140 [==============================] - 1s 6ms/step - loss: 9.2600e-05 - val_loss: 4.3529e-04\n",
      "Epoch 62/100\n",
      "140/140 [==============================] - 1s 6ms/step - loss: 8.2616e-05 - val_loss: 5.3488e-04\n",
      "Epoch 63/100\n",
      "140/140 [==============================] - 1s 7ms/step - loss: 9.7051e-05 - val_loss: 3.5187e-04\n",
      "Epoch 64/100\n",
      "140/140 [==============================] - 1s 7ms/step - loss: 9.3777e-05 - val_loss: 2.1387e-04\n",
      "Epoch 65/100\n",
      "140/140 [==============================] - 1s 6ms/step - loss: 1.0661e-04 - val_loss: 1.4761e-04\n",
      "Epoch 66/100\n",
      "140/140 [==============================] - 1s 5ms/step - loss: 8.8626e-05 - val_loss: 3.3935e-04\n",
      "Epoch 67/100\n",
      "140/140 [==============================] - 1s 7ms/step - loss: 1.6378e-04 - val_loss: 4.0720e-04\n",
      "Epoch 68/100\n",
      "140/140 [==============================] - 1s 7ms/step - loss: 1.0576e-04 - val_loss: 3.2824e-04\n",
      "Epoch 69/100\n",
      "140/140 [==============================] - 1s 6ms/step - loss: 1.2181e-04 - val_loss: 1.8749e-04\n",
      "Epoch 70/100\n",
      "140/140 [==============================] - 1s 6ms/step - loss: 8.5493e-05 - val_loss: 1.2410e-04\n",
      "Epoch 71/100\n",
      "140/140 [==============================] - 1s 7ms/step - loss: 9.3794e-05 - val_loss: 1.2949e-04\n",
      "Epoch 72/100\n",
      "140/140 [==============================] - 1s 7ms/step - loss: 8.9392e-05 - val_loss: 6.5903e-05\n",
      "Epoch 73/100\n",
      "140/140 [==============================] - 1s 6ms/step - loss: 9.7428e-05 - val_loss: 2.3419e-04\n",
      "Epoch 74/100\n",
      "140/140 [==============================] - 1s 7ms/step - loss: 9.8612e-05 - val_loss: 1.9667e-04\n",
      "Epoch 75/100\n",
      "140/140 [==============================] - 1s 5ms/step - loss: 1.0964e-04 - val_loss: 1.7118e-04\n",
      "Epoch 76/100\n",
      "140/140 [==============================] - 1s 7ms/step - loss: 8.6170e-05 - val_loss: 1.0089e-04\n",
      "Epoch 77/100\n"
     ]
    },
    {
     "name": "stdout",
     "output_type": "stream",
     "text": [
      "140/140 [==============================] - 1s 5ms/step - loss: 9.3694e-05 - val_loss: 1.0313e-04\n",
      "Epoch 78/100\n",
      "140/140 [==============================] - 1s 7ms/step - loss: 1.0859e-04 - val_loss: 1.0693e-04\n",
      "Epoch 79/100\n",
      "140/140 [==============================] - 1s 5ms/step - loss: 1.0555e-04 - val_loss: 1.2661e-04\n",
      "Epoch 80/100\n",
      "140/140 [==============================] - 1s 7ms/step - loss: 1.3251e-04 - val_loss: 1.6021e-04\n",
      "Epoch 81/100\n",
      "140/140 [==============================] - 1s 7ms/step - loss: 7.5265e-05 - val_loss: 1.7041e-04\n",
      "Epoch 82/100\n",
      "140/140 [==============================] - 1s 10ms/step - loss: 1.1556e-04 - val_loss: 1.2768e-04\n",
      "Epoch 83/100\n",
      "140/140 [==============================] - 1s 8ms/step - loss: 7.9435e-05 - val_loss: 7.8162e-05\n",
      "Epoch 84/100\n",
      "140/140 [==============================] - 1s 7ms/step - loss: 9.1543e-05 - val_loss: 7.2259e-05\n",
      "Epoch 85/100\n",
      "140/140 [==============================] - 1s 8ms/step - loss: 7.4508e-05 - val_loss: 4.2927e-04\n",
      "Epoch 86/100\n",
      "140/140 [==============================] - 1s 8ms/step - loss: 1.1707e-04 - val_loss: 6.0820e-05\n",
      "Epoch 87/100\n",
      "140/140 [==============================] - 1s 9ms/step - loss: 8.0209e-05 - val_loss: 1.8307e-04\n",
      "Epoch 88/100\n",
      "140/140 [==============================] - 1s 8ms/step - loss: 8.2916e-05 - val_loss: 1.5756e-04\n",
      "Epoch 89/100\n",
      "140/140 [==============================] - 1s 9ms/step - loss: 7.5278e-05 - val_loss: 1.7336e-04\n",
      "Epoch 90/100\n",
      "140/140 [==============================] - 1s 7ms/step - loss: 9.8561e-05 - val_loss: 9.0747e-05\n",
      "Epoch 91/100\n",
      "140/140 [==============================] - 1s 10ms/step - loss: 7.7657e-05 - val_loss: 7.3491e-05\n",
      "Epoch 92/100\n",
      "140/140 [==============================] - 1s 8ms/step - loss: 8.0760e-05 - val_loss: 5.9125e-05\n",
      "Epoch 93/100\n",
      "140/140 [==============================] - 1s 8ms/step - loss: 7.9296e-05 - val_loss: 9.0159e-05\n",
      "Epoch 94/100\n",
      "140/140 [==============================] - 1s 7ms/step - loss: 9.6311e-05 - val_loss: 1.4405e-04\n",
      "Epoch 95/100\n",
      "140/140 [==============================] - 1s 8ms/step - loss: 9.9918e-05 - val_loss: 6.6294e-05\n",
      "Epoch 96/100\n",
      "140/140 [==============================] - 1s 6ms/step - loss: 8.2133e-05 - val_loss: 2.1946e-04\n",
      "Epoch 97/100\n",
      "140/140 [==============================] - 1s 8ms/step - loss: 8.7966e-05 - val_loss: 1.6619e-04\n",
      "Epoch 98/100\n",
      "140/140 [==============================] - 1s 9ms/step - loss: 1.1008e-04 - val_loss: 2.1250e-04\n",
      "Epoch 99/100\n",
      "140/140 [==============================] - 1s 7ms/step - loss: 1.0150e-04 - val_loss: 6.4153e-05\n",
      "Epoch 100/100\n",
      "140/140 [==============================] - 1s 7ms/step - loss: 7.8679e-05 - val_loss: 1.3413e-04\n"
     ]
    }
   ],
   "source": [
    "history = model.fit(X_train, y_train, \n",
    "                    epochs=100, \n",
    "                    validation_data=(X_valid, y_valid),\n",
    "                    batch_size=20, verbose=1,\n",
    "                    shuffle=True)\n"
   ]
  },
  {
   "cell_type": "code",
   "execution_count": 124,
   "id": "grateful-tower",
   "metadata": {},
   "outputs": [
    {
     "data": {
      "text/plain": [
       "<AxesSubplot:>"
      ]
     },
     "execution_count": 124,
     "metadata": {},
     "output_type": "execute_result"
    },
    {
     "data": {
      "image/png": "[encoded data removed]",
      "text/plain": [
       "<Figure size 432x288 with 1 Axes>"
      ]
     },
     "metadata": {
      "needs_background": "light"
     },
     "output_type": "display_data"
    }
   ],
   "source": [
    "pd.Series(y_train[:,0]).plot()\n",
    "pd.Series(model.predict(X_train)[:,0]).plot()"
   ]
  },
  {
   "cell_type": "code",
   "execution_count": 125,
   "id": "effective-election",
   "metadata": {},
   "outputs": [
    {
     "data": {
      "text/plain": [
       "<AxesSubplot:>"
      ]
     },
     "execution_count": 125,
     "metadata": {},
     "output_type": "execute_result"
    },
    {
     "data": {
      "image/png": "[encoded data removed]",
      "text/plain": [
       "<Figure size 432x288 with 1 Axes>"
      ]
     },
     "metadata": {
      "needs_background": "light"
     },
     "output_type": "display_data"
    }
   ],
   "source": [
    "pd.Series(y_valid[:,0]).plot()\n",
    "pd.Series(model.predict(X_valid)[:,0]).plot()"
   ]
  },
  {
   "cell_type": "code",
   "execution_count": 126,
   "id": "particular-crystal",
   "metadata": {},
   "outputs": [
    {
     "data": {
      "text/plain": [
       "<AxesSubplot:>"
      ]
     },
     "execution_count": 126,
     "metadata": {},
     "output_type": "execute_result"
    },
    {
     "data": {
      "image/png": "[encoded data removed]",
      "text/plain": [
       "<Figure size 432x288 with 1 Axes>"
      ]
     },
     "metadata": {
      "needs_background": "light"
     },
     "output_type": "display_data"
    }
   ],
   "source": [
    "pd.Series(y_test[:,0]).plot()\n",
    "pd.Series(model.predict(X_test)[:,0]).plot()"
   ]
  },
  {
   "cell_type": "code",
   "execution_count": null,
   "id": "packed-express",
   "metadata": {},
   "outputs": [],
   "source": []
  },
  {
   "cell_type": "code",
   "execution_count": null,
   "id": "massive-qualification",
   "metadata": {},
   "outputs": [],
   "source": []
  }
 ],
 "metadata": {
  "kernelspec": {
   "display_name": "Python 3",
   "language": "python",
   "name": "python3"
  },
  "language_info": {
   "codemirror_mode": {
    "name": "ipython",
    "version": 3
   },
   "file_extension": ".py",
   "mimetype": "text/x-python",
   "name": "python",
   "nbconvert_exporter": "python",
   "pygments_lexer": "ipython3",
   "version": "3.8.7"
  }
 },
 "nbformat": 4,
 "nbformat_minor": 5
}
