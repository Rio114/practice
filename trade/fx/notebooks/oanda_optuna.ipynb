{
 "cells": [
  {
   "cell_type": "code",
   "execution_count": 1,
   "id": "applied-papua",
   "metadata": {},
   "outputs": [],
   "source": [
    "import os\n",
    "import sys\n",
    "sys.path.append('..')\n",
    "\n",
    "import pandas as pd\n",
    "import numpy as np\n",
    "from matplotlib import pylab as plt\n",
    "\n",
    "import optuna"
   ]
  },
  {
   "cell_type": "code",
   "execution_count": 2,
   "id": "standard-prediction",
   "metadata": {},
   "outputs": [],
   "source": [
    "token = os.environ['oanda_access_token']\n",
    "account = os.environ['oanda_account_id']"
   ]
  },
  {
   "cell_type": "code",
   "execution_count": 3,
   "id": "efficient-trinidad",
   "metadata": {},
   "outputs": [],
   "source": [
    "from my_oanda.my_oanda import Bot"
   ]
  },
  {
   "cell_type": "code",
   "execution_count": 4,
   "id": "closed-happening",
   "metadata": {},
   "outputs": [],
   "source": [
    "class MyBot(Bot):\n",
    "    def set_param(self, a, b, c, d, stop_loss, take_profit):\n",
    "        self.a = a\n",
    "        self.b = b\n",
    "        self.c = c\n",
    "        self.d = d\n",
    "        self.stop_loss = stop_loss\n",
    "        self.take_profit = take_profit\n",
    "        self.params = {\"a\":a, \"b\":b, \"c\":c, \"d\":d, \"stop_loss\":stop_loss, \"take_profit\":take_profit}\n",
    "        \n",
    "    def atr(self, *, period: int = 14, price: str = \"C\"):\n",
    "        a = (self.df.H - self.df.L).abs()\n",
    "        b = (self.df.H - self.df[price].shift()).abs()\n",
    "        c = (self.df.L - self.df[price].shift()).abs()\n",
    "\n",
    "        df = pd.concat([a, b, c], axis=1).max(axis=1)\n",
    "        return df.ewm(span=period).mean()\n",
    "        \n",
    "    def strategy(self):\n",
    "        rsi = self.rsi(period=self.a)\n",
    "        ema = self.ema(period=self.b)\n",
    "        atr = self.atr(period=self.c)\n",
    "        lower = ema - atr\n",
    "        upper = ema + atr\n",
    "        self.buy_entry = (rsi < self.d )& (self.df.C < lower)\n",
    "        self.sell_entry = (rsi > 100-self.d) & (self.df.C > upper)\n",
    "        self.sell_exit = ema > self.df.C\n",
    "        self.buy_exit = ema < self.df.C\n"
   ]
  },
  {
   "cell_type": "code",
   "execution_count": 5,
   "id": "distributed-halifax",
   "metadata": {},
   "outputs": [],
   "source": [
    "start = \"2020-1-1\"\n",
    "end = \"2020-12-31\"\n",
    "glan = \"M2\"\n",
    "inst = \"USD_JPY\""
   ]
  },
  {
   "cell_type": "code",
   "execution_count": 6,
   "id": "waiting-fraction",
   "metadata": {},
   "outputs": [],
   "source": [
    "mybot = MyBot(\n",
    "    account_id=account,\n",
    "    access_token=token,\n",
    "    environment='live',\n",
    "    instrument=inst,\n",
    "    granularity=glan, # 15 second candlestick,\n",
    "    folder = \"../data/\"\n",
    ")"
   ]
  },
  {
   "cell_type": "code",
   "execution_count": 7,
   "id": "secret-drilling",
   "metadata": {},
   "outputs": [],
   "source": [
    "def objective(trial):\n",
    "    a = trial.suggest_int('a', 5, 50)\n",
    "    b = trial.suggest_int('b', 5, 50)\n",
    "    c = trial.suggest_int('c', 5, 50)\n",
    "    d = trial.suggest_int('d', 20, 40)\n",
    "    \n",
    "    sl = trial.suggest_int('stop_loss', 5, 50)\n",
    "    tp = trial.suggest_int('take_profit', 5, 50)\n",
    "    \n",
    "    mybot.set_param(a, b, c, d, sl, tp)\n",
    "    \n",
    "    score =  -mybot.backtest(from_date=start, to_date=end)['total profit']\n",
    "#     print('a: %d, b: %d, score: %1.2f' % (a, b, -score))\n",
    "    return score"
   ]
  },
  {
   "cell_type": "code",
   "execution_count": 8,
   "id": "third-crack",
   "metadata": {
    "scrolled": true
   },
   "outputs": [
    {
     "name": "stderr",
     "output_type": "stream",
     "text": [
      "\u001b[32m[I 2021-02-21 09:41:26,866]\u001b[0m A new study created in memory with name: no-name-332f1f8a-40dd-4312-93b5-af0f56142ece\u001b[0m\n",
      "\u001b[32m[I 2021-02-21 09:41:27,743]\u001b[0m Trial 0 finished with value: -46310.0 and parameters: {'a': 47, 'b': 6, 'c': 19, 'd': 38, 'stop_loss': 14, 'take_profit': 41}. Best is trial 0 with value: -46310.0.\u001b[0m\n",
      "\u001b[32m[I 2021-02-21 09:41:28,601]\u001b[0m Trial 1 finished with value: -55440.0 and parameters: {'a': 24, 'b': 39, 'c': 34, 'd': 24, 'stop_loss': 14, 'take_profit': 30}. Best is trial 1 with value: -55440.0.\u001b[0m\n",
      "\u001b[32m[I 2021-02-21 09:41:29,646]\u001b[0m Trial 2 finished with value: -140830.0 and parameters: {'a': 6, 'b': 23, 'c': 43, 'd': 24, 'stop_loss': 41, 'take_profit': 41}. Best is trial 2 with value: -140830.0.\u001b[0m\n",
      "\u001b[32m[I 2021-02-21 09:41:30,488]\u001b[0m Trial 3 finished with value: -36750.0 and parameters: {'a': 26, 'b': 23, 'c': 44, 'd': 20, 'stop_loss': 30, 'take_profit': 20}. Best is trial 2 with value: -140830.0.\u001b[0m\n",
      "\u001b[32m[I 2021-02-21 09:41:31,337]\u001b[0m Trial 4 finished with value: -68980.0 and parameters: {'a': 50, 'b': 23, 'c': 48, 'd': 32, 'stop_loss': 16, 'take_profit': 22}. Best is trial 2 with value: -140830.0.\u001b[0m\n",
      "\u001b[32m[I 2021-02-21 09:41:32,350]\u001b[0m Trial 5 finished with value: -153510.0 and parameters: {'a': 15, 'b': 48, 'c': 47, 'd': 33, 'stop_loss': 24, 'take_profit': 34}. Best is trial 5 with value: -153510.0.\u001b[0m\n",
      "\u001b[32m[I 2021-02-21 09:41:33,174]\u001b[0m Trial 6 finished with value: -53840.0 and parameters: {'a': 49, 'b': 35, 'c': 7, 'd': 31, 'stop_loss': 43, 'take_profit': 32}. Best is trial 5 with value: -153510.0.\u001b[0m\n",
      "\u001b[32m[I 2021-02-21 09:41:34,127]\u001b[0m Trial 7 finished with value: -141250.0 and parameters: {'a': 29, 'b': 21, 'c': 28, 'd': 37, 'stop_loss': 37, 'take_profit': 36}. Best is trial 5 with value: -153510.0.\u001b[0m\n",
      "\u001b[32m[I 2021-02-21 09:41:35,081]\u001b[0m Trial 8 finished with value: -144830.0 and parameters: {'a': 10, 'b': 23, 'c': 48, 'd': 20, 'stop_loss': 28, 'take_profit': 25}. Best is trial 5 with value: -153510.0.\u001b[0m\n",
      "\u001b[32m[I 2021-02-21 09:41:36,019]\u001b[0m Trial 9 finished with value: -211870.0 and parameters: {'a': 28, 'b': 26, 'c': 40, 'd': 34, 'stop_loss': 8, 'take_profit': 33}. Best is trial 9 with value: -211870.0.\u001b[0m\n",
      "\u001b[32m[I 2021-02-21 09:41:36,989]\u001b[0m Trial 10 finished with value: -73250.0 and parameters: {'a': 37, 'b': 10, 'c': 35, 'd': 40, 'stop_loss': 5, 'take_profit': 6}. Best is trial 9 with value: -211870.0.\u001b[0m\n",
      "\u001b[32m[I 2021-02-21 09:41:38,060]\u001b[0m Trial 11 finished with value: -223960.0 and parameters: {'a': 16, 'b': 50, 'c': 38, 'd': 34, 'stop_loss': 7, 'take_profit': 48}. Best is trial 11 with value: -223960.0.\u001b[0m\n",
      "\u001b[32m[I 2021-02-21 09:41:39,154]\u001b[0m Trial 12 finished with value: -275510.0 and parameters: {'a': 18, 'b': 34, 'c': 37, 'd': 36, 'stop_loss': 5, 'take_profit': 47}. Best is trial 12 with value: -275510.0.\u001b[0m\n",
      "\u001b[33m[W 2021-02-21 09:41:39,204]\u001b[0m Trial 13 failed because of the following error: ParserError(\"Error tokenizing data. C error: Calling read(nbytes) on source failed. Try engine='python'.\")\n",
      "Traceback (most recent call last):\n",
      "  File \"/home/ryoji/.cache/pypoetry/virtualenvs/trade-Pm8PR6AO-py3.8/lib/python3.8/site-packages/optuna/_optimize.py\", line 211, in _run_trial\n",
      "    value_or_values = func(trial)\n",
      "  File \"<ipython-input-7-4a68b3b2719b>\", line 12, in objective\n",
      "    score =  -mybot.backtest(from_date=start, to_date=end)['total profit']\n",
      "  File \"../my_oanda/my_oanda.py\", line 391, in backtest\n",
      "    self.df = pd.read_csv(\n",
      "  File \"/home/ryoji/.cache/pypoetry/virtualenvs/trade-Pm8PR6AO-py3.8/lib/python3.8/site-packages/pandas/io/parsers.py\", line 605, in read_csv\n",
      "    return _read(filepath_or_buffer, kwds)\n",
      "  File \"/home/ryoji/.cache/pypoetry/virtualenvs/trade-Pm8PR6AO-py3.8/lib/python3.8/site-packages/pandas/io/parsers.py\", line 463, in _read\n",
      "    return parser.read(nrows)\n",
      "  File \"/home/ryoji/.cache/pypoetry/virtualenvs/trade-Pm8PR6AO-py3.8/lib/python3.8/site-packages/pandas/io/parsers.py\", line 1052, in read\n",
      "    index, columns, col_dict = self._engine.read(nrows)\n",
      "  File \"/home/ryoji/.cache/pypoetry/virtualenvs/trade-Pm8PR6AO-py3.8/lib/python3.8/site-packages/pandas/io/parsers.py\", line 2056, in read\n",
      "    data = self._reader.read(nrows)\n",
      "  File \"pandas/_libs/parsers.pyx\", line 756, in pandas._libs.parsers.TextReader.read\n",
      "  File \"pandas/_libs/parsers.pyx\", line 771, in pandas._libs.parsers.TextReader._read_low_memory\n",
      "  File \"pandas/_libs/parsers.pyx\", line 827, in pandas._libs.parsers.TextReader._read_rows\n",
      "  File \"pandas/_libs/parsers.pyx\", line 814, in pandas._libs.parsers.TextReader._tokenize_rows\n",
      "  File \"pandas/_libs/parsers.pyx\", line 1951, in pandas._libs.parsers.raise_parser_error\n",
      "pandas.errors.ParserError: Error tokenizing data. C error: Calling read(nbytes) on source failed. Try engine='python'.\u001b[0m\n"
     ]
    },
    {
     "ename": "ParserError",
     "evalue": "Error tokenizing data. C error: Calling read(nbytes) on source failed. Try engine='python'.",
     "output_type": "error",
     "traceback": [
      "\u001b[0;31m---------------------------------------------------------------------------\u001b[0m",
      "\u001b[0;31mParserError\u001b[0m                               Traceback (most recent call last)",
      "\u001b[0;32m<ipython-input-8-268d75d981dc>\u001b[0m in \u001b[0;36m<module>\u001b[0;34m\u001b[0m\n\u001b[1;32m      1\u001b[0m \u001b[0mstudy\u001b[0m \u001b[0;34m=\u001b[0m \u001b[0moptuna\u001b[0m\u001b[0;34m.\u001b[0m\u001b[0mcreate_study\u001b[0m\u001b[0;34m(\u001b[0m\u001b[0;34m)\u001b[0m\u001b[0;34m\u001b[0m\u001b[0;34m\u001b[0m\u001b[0m\n\u001b[0;32m----> 2\u001b[0;31m \u001b[0mstudy\u001b[0m\u001b[0;34m.\u001b[0m\u001b[0moptimize\u001b[0m\u001b[0;34m(\u001b[0m\u001b[0mobjective\u001b[0m\u001b[0;34m,\u001b[0m \u001b[0mn_trials\u001b[0m\u001b[0;34m=\u001b[0m\u001b[0;36m1000\u001b[0m\u001b[0;34m)\u001b[0m\u001b[0;34m\u001b[0m\u001b[0;34m\u001b[0m\u001b[0m\n\u001b[0m",
      "\u001b[0;32m~/.cache/pypoetry/virtualenvs/trade-Pm8PR6AO-py3.8/lib/python3.8/site-packages/optuna/study.py\u001b[0m in \u001b[0;36moptimize\u001b[0;34m(self, func, n_trials, timeout, n_jobs, catch, callbacks, gc_after_trial, show_progress_bar)\u001b[0m\n\u001b[1;32m    374\u001b[0m                 \u001b[0mIf\u001b[0m \u001b[0mnested\u001b[0m \u001b[0minvocation\u001b[0m \u001b[0mof\u001b[0m \u001b[0mthis\u001b[0m \u001b[0mmethod\u001b[0m \u001b[0moccurs\u001b[0m\u001b[0;34m.\u001b[0m\u001b[0;34m\u001b[0m\u001b[0;34m\u001b[0m\u001b[0m\n\u001b[1;32m    375\u001b[0m         \"\"\"\n\u001b[0;32m--> 376\u001b[0;31m         _optimize(\n\u001b[0m\u001b[1;32m    377\u001b[0m             \u001b[0mstudy\u001b[0m\u001b[0;34m=\u001b[0m\u001b[0mself\u001b[0m\u001b[0;34m,\u001b[0m\u001b[0;34m\u001b[0m\u001b[0;34m\u001b[0m\u001b[0m\n\u001b[1;32m    378\u001b[0m             \u001b[0mfunc\u001b[0m\u001b[0;34m=\u001b[0m\u001b[0mfunc\u001b[0m\u001b[0;34m,\u001b[0m\u001b[0;34m\u001b[0m\u001b[0;34m\u001b[0m\u001b[0m\n",
      "\u001b[0;32m~/.cache/pypoetry/virtualenvs/trade-Pm8PR6AO-py3.8/lib/python3.8/site-packages/optuna/_optimize.py\u001b[0m in \u001b[0;36m_optimize\u001b[0;34m(study, func, n_trials, timeout, n_jobs, catch, callbacks, gc_after_trial, show_progress_bar)\u001b[0m\n\u001b[1;32m     61\u001b[0m     \u001b[0;32mtry\u001b[0m\u001b[0;34m:\u001b[0m\u001b[0;34m\u001b[0m\u001b[0;34m\u001b[0m\u001b[0m\n\u001b[1;32m     62\u001b[0m         \u001b[0;32mif\u001b[0m \u001b[0mn_jobs\u001b[0m \u001b[0;34m==\u001b[0m \u001b[0;36m1\u001b[0m\u001b[0;34m:\u001b[0m\u001b[0;34m\u001b[0m\u001b[0;34m\u001b[0m\u001b[0m\n\u001b[0;32m---> 63\u001b[0;31m             _optimize_sequential(\n\u001b[0m\u001b[1;32m     64\u001b[0m                 \u001b[0mstudy\u001b[0m\u001b[0;34m,\u001b[0m\u001b[0;34m\u001b[0m\u001b[0;34m\u001b[0m\u001b[0m\n\u001b[1;32m     65\u001b[0m                 \u001b[0mfunc\u001b[0m\u001b[0;34m,\u001b[0m\u001b[0;34m\u001b[0m\u001b[0;34m\u001b[0m\u001b[0m\n",
      "\u001b[0;32m~/.cache/pypoetry/virtualenvs/trade-Pm8PR6AO-py3.8/lib/python3.8/site-packages/optuna/_optimize.py\u001b[0m in \u001b[0;36m_optimize_sequential\u001b[0;34m(study, func, n_trials, timeout, catch, callbacks, gc_after_trial, reseed_sampler_rng, time_start, progress_bar)\u001b[0m\n\u001b[1;32m    162\u001b[0m \u001b[0;34m\u001b[0m\u001b[0m\n\u001b[1;32m    163\u001b[0m         \u001b[0;32mtry\u001b[0m\u001b[0;34m:\u001b[0m\u001b[0;34m\u001b[0m\u001b[0;34m\u001b[0m\u001b[0m\n\u001b[0;32m--> 164\u001b[0;31m             \u001b[0mtrial\u001b[0m \u001b[0;34m=\u001b[0m \u001b[0m_run_trial\u001b[0m\u001b[0;34m(\u001b[0m\u001b[0mstudy\u001b[0m\u001b[0;34m,\u001b[0m \u001b[0mfunc\u001b[0m\u001b[0;34m,\u001b[0m \u001b[0mcatch\u001b[0m\u001b[0;34m)\u001b[0m\u001b[0;34m\u001b[0m\u001b[0;34m\u001b[0m\u001b[0m\n\u001b[0m\u001b[1;32m    165\u001b[0m         \u001b[0;32mexcept\u001b[0m \u001b[0mException\u001b[0m\u001b[0;34m:\u001b[0m\u001b[0;34m\u001b[0m\u001b[0;34m\u001b[0m\u001b[0m\n\u001b[1;32m    166\u001b[0m             \u001b[0;32mraise\u001b[0m\u001b[0;34m\u001b[0m\u001b[0;34m\u001b[0m\u001b[0m\n",
      "\u001b[0;32m~/.cache/pypoetry/virtualenvs/trade-Pm8PR6AO-py3.8/lib/python3.8/site-packages/optuna/_optimize.py\u001b[0m in \u001b[0;36m_run_trial\u001b[0;34m(study, func, catch)\u001b[0m\n\u001b[1;32m    260\u001b[0m \u001b[0;34m\u001b[0m\u001b[0m\n\u001b[1;32m    261\u001b[0m     \u001b[0;32mif\u001b[0m \u001b[0mstate\u001b[0m \u001b[0;34m==\u001b[0m \u001b[0mTrialState\u001b[0m\u001b[0;34m.\u001b[0m\u001b[0mFAIL\u001b[0m \u001b[0;32mand\u001b[0m \u001b[0mfunc_err\u001b[0m \u001b[0;32mis\u001b[0m \u001b[0;32mnot\u001b[0m \u001b[0;32mNone\u001b[0m \u001b[0;32mand\u001b[0m \u001b[0;32mnot\u001b[0m \u001b[0misinstance\u001b[0m\u001b[0;34m(\u001b[0m\u001b[0mfunc_err\u001b[0m\u001b[0;34m,\u001b[0m \u001b[0mcatch\u001b[0m\u001b[0;34m)\u001b[0m\u001b[0;34m:\u001b[0m\u001b[0;34m\u001b[0m\u001b[0;34m\u001b[0m\u001b[0m\n\u001b[0;32m--> 262\u001b[0;31m         \u001b[0;32mraise\u001b[0m \u001b[0mfunc_err\u001b[0m\u001b[0;34m\u001b[0m\u001b[0;34m\u001b[0m\u001b[0m\n\u001b[0m\u001b[1;32m    263\u001b[0m     \u001b[0;32mreturn\u001b[0m \u001b[0mtrial\u001b[0m\u001b[0;34m\u001b[0m\u001b[0;34m\u001b[0m\u001b[0m\n\u001b[1;32m    264\u001b[0m \u001b[0;34m\u001b[0m\u001b[0m\n",
      "\u001b[0;32m~/.cache/pypoetry/virtualenvs/trade-Pm8PR6AO-py3.8/lib/python3.8/site-packages/optuna/_optimize.py\u001b[0m in \u001b[0;36m_run_trial\u001b[0;34m(study, func, catch)\u001b[0m\n\u001b[1;32m    209\u001b[0m \u001b[0;34m\u001b[0m\u001b[0m\n\u001b[1;32m    210\u001b[0m     \u001b[0;32mtry\u001b[0m\u001b[0;34m:\u001b[0m\u001b[0;34m\u001b[0m\u001b[0;34m\u001b[0m\u001b[0m\n\u001b[0;32m--> 211\u001b[0;31m         \u001b[0mvalue_or_values\u001b[0m \u001b[0;34m=\u001b[0m \u001b[0mfunc\u001b[0m\u001b[0;34m(\u001b[0m\u001b[0mtrial\u001b[0m\u001b[0;34m)\u001b[0m\u001b[0;34m\u001b[0m\u001b[0;34m\u001b[0m\u001b[0m\n\u001b[0m\u001b[1;32m    212\u001b[0m     \u001b[0;32mexcept\u001b[0m \u001b[0mexceptions\u001b[0m\u001b[0;34m.\u001b[0m\u001b[0mTrialPruned\u001b[0m \u001b[0;32mas\u001b[0m \u001b[0me\u001b[0m\u001b[0;34m:\u001b[0m\u001b[0;34m\u001b[0m\u001b[0;34m\u001b[0m\u001b[0m\n\u001b[1;32m    213\u001b[0m         \u001b[0;31m# TODO(mamu): Handle multi-objective cases.\u001b[0m\u001b[0;34m\u001b[0m\u001b[0;34m\u001b[0m\u001b[0;34m\u001b[0m\u001b[0m\n",
      "\u001b[0;32m<ipython-input-7-4a68b3b2719b>\u001b[0m in \u001b[0;36mobjective\u001b[0;34m(trial)\u001b[0m\n\u001b[1;32m     10\u001b[0m     \u001b[0mmybot\u001b[0m\u001b[0;34m.\u001b[0m\u001b[0mset_param\u001b[0m\u001b[0;34m(\u001b[0m\u001b[0ma\u001b[0m\u001b[0;34m,\u001b[0m \u001b[0mb\u001b[0m\u001b[0;34m,\u001b[0m \u001b[0mc\u001b[0m\u001b[0;34m,\u001b[0m \u001b[0md\u001b[0m\u001b[0;34m,\u001b[0m \u001b[0msl\u001b[0m\u001b[0;34m,\u001b[0m \u001b[0mtp\u001b[0m\u001b[0;34m)\u001b[0m\u001b[0;34m\u001b[0m\u001b[0;34m\u001b[0m\u001b[0m\n\u001b[1;32m     11\u001b[0m \u001b[0;34m\u001b[0m\u001b[0m\n\u001b[0;32m---> 12\u001b[0;31m     \u001b[0mscore\u001b[0m \u001b[0;34m=\u001b[0m  \u001b[0;34m-\u001b[0m\u001b[0mmybot\u001b[0m\u001b[0;34m.\u001b[0m\u001b[0mbacktest\u001b[0m\u001b[0;34m(\u001b[0m\u001b[0mfrom_date\u001b[0m\u001b[0;34m=\u001b[0m\u001b[0mstart\u001b[0m\u001b[0;34m,\u001b[0m \u001b[0mto_date\u001b[0m\u001b[0;34m=\u001b[0m\u001b[0mend\u001b[0m\u001b[0;34m)\u001b[0m\u001b[0;34m[\u001b[0m\u001b[0;34m'total profit'\u001b[0m\u001b[0;34m]\u001b[0m\u001b[0;34m\u001b[0m\u001b[0;34m\u001b[0m\u001b[0m\n\u001b[0m\u001b[1;32m     13\u001b[0m \u001b[0;31m#     print('a: %d, b: %d, score: %1.2f' % (a, b, -score))\u001b[0m\u001b[0;34m\u001b[0m\u001b[0;34m\u001b[0m\u001b[0;34m\u001b[0m\u001b[0m\n\u001b[1;32m     14\u001b[0m     \u001b[0;32mreturn\u001b[0m \u001b[0mscore\u001b[0m\u001b[0;34m\u001b[0m\u001b[0;34m\u001b[0m\u001b[0m\n",
      "\u001b[0;32m~/Documents/git/practice/trade/fx/my_oanda/my_oanda.py\u001b[0m in \u001b[0;36mbacktest\u001b[0;34m(self, from_date, to_date, filename, show)\u001b[0m\n\u001b[1;32m    389\u001b[0m         )\n\u001b[1;32m    390\u001b[0m         \u001b[0;32mif\u001b[0m \u001b[0mos\u001b[0m\u001b[0;34m.\u001b[0m\u001b[0mpath\u001b[0m\u001b[0;34m.\u001b[0m\u001b[0mexists\u001b[0m\u001b[0;34m(\u001b[0m\u001b[0mcsv\u001b[0m\u001b[0;34m)\u001b[0m\u001b[0;34m:\u001b[0m\u001b[0;34m\u001b[0m\u001b[0;34m\u001b[0m\u001b[0m\n\u001b[0;32m--> 391\u001b[0;31m             self.df = pd.read_csv(\n\u001b[0m\u001b[1;32m    392\u001b[0m                 \u001b[0mcsv\u001b[0m\u001b[0;34m,\u001b[0m \u001b[0mindex_col\u001b[0m\u001b[0;34m=\u001b[0m\u001b[0;36m0\u001b[0m\u001b[0;34m,\u001b[0m \u001b[0mparse_dates\u001b[0m\u001b[0;34m=\u001b[0m\u001b[0;32mTrue\u001b[0m\u001b[0;34m,\u001b[0m \u001b[0minfer_datetime_format\u001b[0m\u001b[0;34m=\u001b[0m\u001b[0;32mTrue\u001b[0m\u001b[0;34m\u001b[0m\u001b[0;34m\u001b[0m\u001b[0m\n\u001b[1;32m    393\u001b[0m             )\n",
      "\u001b[0;32m~/.cache/pypoetry/virtualenvs/trade-Pm8PR6AO-py3.8/lib/python3.8/site-packages/pandas/io/parsers.py\u001b[0m in \u001b[0;36mread_csv\u001b[0;34m(filepath_or_buffer, sep, delimiter, header, names, index_col, usecols, squeeze, prefix, mangle_dupe_cols, dtype, engine, converters, true_values, false_values, skipinitialspace, skiprows, skipfooter, nrows, na_values, keep_default_na, na_filter, verbose, skip_blank_lines, parse_dates, infer_datetime_format, keep_date_col, date_parser, dayfirst, cache_dates, iterator, chunksize, compression, thousands, decimal, lineterminator, quotechar, quoting, doublequote, escapechar, comment, encoding, dialect, error_bad_lines, warn_bad_lines, delim_whitespace, low_memory, memory_map, float_precision, storage_options)\u001b[0m\n\u001b[1;32m    603\u001b[0m     \u001b[0mkwds\u001b[0m\u001b[0;34m.\u001b[0m\u001b[0mupdate\u001b[0m\u001b[0;34m(\u001b[0m\u001b[0mkwds_defaults\u001b[0m\u001b[0;34m)\u001b[0m\u001b[0;34m\u001b[0m\u001b[0;34m\u001b[0m\u001b[0m\n\u001b[1;32m    604\u001b[0m \u001b[0;34m\u001b[0m\u001b[0m\n\u001b[0;32m--> 605\u001b[0;31m     \u001b[0;32mreturn\u001b[0m \u001b[0m_read\u001b[0m\u001b[0;34m(\u001b[0m\u001b[0mfilepath_or_buffer\u001b[0m\u001b[0;34m,\u001b[0m \u001b[0mkwds\u001b[0m\u001b[0;34m)\u001b[0m\u001b[0;34m\u001b[0m\u001b[0;34m\u001b[0m\u001b[0m\n\u001b[0m\u001b[1;32m    606\u001b[0m \u001b[0;34m\u001b[0m\u001b[0m\n\u001b[1;32m    607\u001b[0m \u001b[0;34m\u001b[0m\u001b[0m\n",
      "\u001b[0;32m~/.cache/pypoetry/virtualenvs/trade-Pm8PR6AO-py3.8/lib/python3.8/site-packages/pandas/io/parsers.py\u001b[0m in \u001b[0;36m_read\u001b[0;34m(filepath_or_buffer, kwds)\u001b[0m\n\u001b[1;32m    461\u001b[0m \u001b[0;34m\u001b[0m\u001b[0m\n\u001b[1;32m    462\u001b[0m     \u001b[0;32mwith\u001b[0m \u001b[0mparser\u001b[0m\u001b[0;34m:\u001b[0m\u001b[0;34m\u001b[0m\u001b[0;34m\u001b[0m\u001b[0m\n\u001b[0;32m--> 463\u001b[0;31m         \u001b[0;32mreturn\u001b[0m \u001b[0mparser\u001b[0m\u001b[0;34m.\u001b[0m\u001b[0mread\u001b[0m\u001b[0;34m(\u001b[0m\u001b[0mnrows\u001b[0m\u001b[0;34m)\u001b[0m\u001b[0;34m\u001b[0m\u001b[0;34m\u001b[0m\u001b[0m\n\u001b[0m\u001b[1;32m    464\u001b[0m \u001b[0;34m\u001b[0m\u001b[0m\n\u001b[1;32m    465\u001b[0m \u001b[0;34m\u001b[0m\u001b[0m\n",
      "\u001b[0;32m~/.cache/pypoetry/virtualenvs/trade-Pm8PR6AO-py3.8/lib/python3.8/site-packages/pandas/io/parsers.py\u001b[0m in \u001b[0;36mread\u001b[0;34m(self, nrows)\u001b[0m\n\u001b[1;32m   1050\u001b[0m     \u001b[0;32mdef\u001b[0m \u001b[0mread\u001b[0m\u001b[0;34m(\u001b[0m\u001b[0mself\u001b[0m\u001b[0;34m,\u001b[0m \u001b[0mnrows\u001b[0m\u001b[0;34m=\u001b[0m\u001b[0;32mNone\u001b[0m\u001b[0;34m)\u001b[0m\u001b[0;34m:\u001b[0m\u001b[0;34m\u001b[0m\u001b[0;34m\u001b[0m\u001b[0m\n\u001b[1;32m   1051\u001b[0m         \u001b[0mnrows\u001b[0m \u001b[0;34m=\u001b[0m \u001b[0mvalidate_integer\u001b[0m\u001b[0;34m(\u001b[0m\u001b[0;34m\"nrows\"\u001b[0m\u001b[0;34m,\u001b[0m \u001b[0mnrows\u001b[0m\u001b[0;34m)\u001b[0m\u001b[0;34m\u001b[0m\u001b[0;34m\u001b[0m\u001b[0m\n\u001b[0;32m-> 1052\u001b[0;31m         \u001b[0mindex\u001b[0m\u001b[0;34m,\u001b[0m \u001b[0mcolumns\u001b[0m\u001b[0;34m,\u001b[0m \u001b[0mcol_dict\u001b[0m \u001b[0;34m=\u001b[0m \u001b[0mself\u001b[0m\u001b[0;34m.\u001b[0m\u001b[0m_engine\u001b[0m\u001b[0;34m.\u001b[0m\u001b[0mread\u001b[0m\u001b[0;34m(\u001b[0m\u001b[0mnrows\u001b[0m\u001b[0;34m)\u001b[0m\u001b[0;34m\u001b[0m\u001b[0;34m\u001b[0m\u001b[0m\n\u001b[0m\u001b[1;32m   1053\u001b[0m \u001b[0;34m\u001b[0m\u001b[0m\n\u001b[1;32m   1054\u001b[0m         \u001b[0;32mif\u001b[0m \u001b[0mindex\u001b[0m \u001b[0;32mis\u001b[0m \u001b[0;32mNone\u001b[0m\u001b[0;34m:\u001b[0m\u001b[0;34m\u001b[0m\u001b[0;34m\u001b[0m\u001b[0m\n",
      "\u001b[0;32m~/.cache/pypoetry/virtualenvs/trade-Pm8PR6AO-py3.8/lib/python3.8/site-packages/pandas/io/parsers.py\u001b[0m in \u001b[0;36mread\u001b[0;34m(self, nrows)\u001b[0m\n\u001b[1;32m   2054\u001b[0m     \u001b[0;32mdef\u001b[0m \u001b[0mread\u001b[0m\u001b[0;34m(\u001b[0m\u001b[0mself\u001b[0m\u001b[0;34m,\u001b[0m \u001b[0mnrows\u001b[0m\u001b[0;34m=\u001b[0m\u001b[0;32mNone\u001b[0m\u001b[0;34m)\u001b[0m\u001b[0;34m:\u001b[0m\u001b[0;34m\u001b[0m\u001b[0;34m\u001b[0m\u001b[0m\n\u001b[1;32m   2055\u001b[0m         \u001b[0;32mtry\u001b[0m\u001b[0;34m:\u001b[0m\u001b[0;34m\u001b[0m\u001b[0;34m\u001b[0m\u001b[0m\n\u001b[0;32m-> 2056\u001b[0;31m             \u001b[0mdata\u001b[0m \u001b[0;34m=\u001b[0m \u001b[0mself\u001b[0m\u001b[0;34m.\u001b[0m\u001b[0m_reader\u001b[0m\u001b[0;34m.\u001b[0m\u001b[0mread\u001b[0m\u001b[0;34m(\u001b[0m\u001b[0mnrows\u001b[0m\u001b[0;34m)\u001b[0m\u001b[0;34m\u001b[0m\u001b[0;34m\u001b[0m\u001b[0m\n\u001b[0m\u001b[1;32m   2057\u001b[0m         \u001b[0;32mexcept\u001b[0m \u001b[0mStopIteration\u001b[0m\u001b[0;34m:\u001b[0m\u001b[0;34m\u001b[0m\u001b[0;34m\u001b[0m\u001b[0m\n\u001b[1;32m   2058\u001b[0m             \u001b[0;32mif\u001b[0m \u001b[0mself\u001b[0m\u001b[0;34m.\u001b[0m\u001b[0m_first_chunk\u001b[0m\u001b[0;34m:\u001b[0m\u001b[0;34m\u001b[0m\u001b[0;34m\u001b[0m\u001b[0m\n",
      "\u001b[0;32mpandas/_libs/parsers.pyx\u001b[0m in \u001b[0;36mpandas._libs.parsers.TextReader.read\u001b[0;34m()\u001b[0m\n",
      "\u001b[0;32mpandas/_libs/parsers.pyx\u001b[0m in \u001b[0;36mpandas._libs.parsers.TextReader._read_low_memory\u001b[0;34m()\u001b[0m\n",
      "\u001b[0;32mpandas/_libs/parsers.pyx\u001b[0m in \u001b[0;36mpandas._libs.parsers.TextReader._read_rows\u001b[0;34m()\u001b[0m\n",
      "\u001b[0;32mpandas/_libs/parsers.pyx\u001b[0m in \u001b[0;36mpandas._libs.parsers.TextReader._tokenize_rows\u001b[0;34m()\u001b[0m\n",
      "\u001b[0;32mpandas/_libs/parsers.pyx\u001b[0m in \u001b[0;36mpandas._libs.parsers.raise_parser_error\u001b[0;34m()\u001b[0m\n",
      "\u001b[0;31mParserError\u001b[0m: Error tokenizing data. C error: Calling read(nbytes) on source failed. Try engine='python'."
     ]
    }
   ],
   "source": [
    "study = optuna.create_study()\n",
    "study.optimize(objective, n_trials=1000)"
   ]
  },
  {
   "cell_type": "code",
   "execution_count": 17,
   "id": "irish-sheffield",
   "metadata": {},
   "outputs": [
    {
     "data": {
      "text/plain": [
       "-46310.0"
      ]
     },
     "execution_count": 17,
     "metadata": {},
     "output_type": "execute_result"
    }
   ],
   "source": [
    "study.trials[0].values[0]"
   ]
  },
  {
   "cell_type": "code",
   "execution_count": 9,
   "id": "literary-greene",
   "metadata": {},
   "outputs": [],
   "source": [
    "params=study.best_trial.params"
   ]
  },
  {
   "cell_type": "code",
   "execution_count": 10,
   "id": "italian-persian",
   "metadata": {},
   "outputs": [
    {
     "data": {
      "text/plain": [
       "{'a': 18, 'b': 34, 'c': 37, 'd': 36, 'stop_loss': 5, 'take_profit': 47}"
      ]
     },
     "execution_count": 10,
     "metadata": {},
     "output_type": "execute_result"
    }
   ],
   "source": [
    "params"
   ]
  },
  {
   "cell_type": "code",
   "execution_count": 11,
   "id": "arctic-evans",
   "metadata": {},
   "outputs": [],
   "source": [
    "mybot.set_param(params['a'], params['b'], params['c'], params['d'], params['stop_loss'], params['take_profit'])"
   ]
  },
  {
   "cell_type": "code",
   "execution_count": 12,
   "id": "worth-collection",
   "metadata": {},
   "outputs": [
    {
     "name": "stdout",
     "output_type": "stream",
     "text": [
      "total profit                                                 275510.0\n",
      "total trades                                                   9766.0\n",
      "win rate                                                       53.963\n",
      "profit factor                                                   1.117\n",
      "maximum drawdown                                              24550.0\n",
      "recovery factor                                                11.222\n",
      "riskreward ratio                                                 1.03\n",
      "sharpe ratio                                                    0.043\n",
      "average return                                                 25.419\n",
      "stop loss                                                      4673.0\n",
      "take profit                                                      16.0\n",
      "params              {'a': 18, 'b': 34, 'c': 37, 'd': 36, 'stop_los...\n",
      "dtype: object\n"
     ]
    },
    {
     "data": {
      "text/plain": [
       "total profit                                                 275510.0\n",
       "total trades                                                   9766.0\n",
       "win rate                                                       53.963\n",
       "profit factor                                                   1.117\n",
       "maximum drawdown                                              24550.0\n",
       "recovery factor                                                11.222\n",
       "riskreward ratio                                                 1.03\n",
       "sharpe ratio                                                    0.043\n",
       "average return                                                 25.419\n",
       "stop loss                                                      4673.0\n",
       "take profit                                                      16.0\n",
       "params              {'a': 18, 'b': 34, 'c': 37, 'd': 36, 'stop_los...\n",
       "dtype: object"
      ]
     },
     "execution_count": 12,
     "metadata": {},
     "output_type": "execute_result"
    },
    {
     "data": {
      "image/png": "[encoded data removed]",
      "text/plain": [
       "<Figure size 432x288 with 3 Axes>"
      ]
     },
     "metadata": {
      "needs_background": "light"
     },
     "output_type": "display_data"
    }
   ],
   "source": [
    "mybot.backtest(from_date=start, to_date=end, filename=\"hogebacktest.png\", show=True)"
   ]
  },
  {
   "cell_type": "code",
   "execution_count": 13,
   "id": "boring-england",
   "metadata": {},
   "outputs": [
    {
     "name": "stdout",
     "output_type": "stream",
     "text": [
      "total profit                                                  11910.0\n",
      "total trades                                                   1095.0\n",
      "win rate                                                       60.913\n",
      "profit factor                                                   1.061\n",
      "maximum drawdown                                              12870.0\n",
      "recovery factor                                                 0.925\n",
      "riskreward ratio                                                0.684\n",
      "sharpe ratio                                                    0.025\n",
      "average return                                                 10.326\n",
      "stop loss                                                       388.0\n",
      "take profit                                                       0.0\n",
      "params              {'a': 18, 'b': 34, 'c': 37, 'd': 36, 'stop_los...\n",
      "dtype: object\n"
     ]
    },
    {
     "data": {
      "text/plain": [
       "total profit                                                  11910.0\n",
       "total trades                                                   1095.0\n",
       "win rate                                                       60.913\n",
       "profit factor                                                   1.061\n",
       "maximum drawdown                                              12870.0\n",
       "recovery factor                                                 0.925\n",
       "riskreward ratio                                                0.684\n",
       "sharpe ratio                                                    0.025\n",
       "average return                                                 10.326\n",
       "stop loss                                                       388.0\n",
       "take profit                                                       0.0\n",
       "params              {'a': 18, 'b': 34, 'c': 37, 'd': 36, 'stop_los...\n",
       "dtype: object"
      ]
     },
     "execution_count": 13,
     "metadata": {},
     "output_type": "execute_result"
    },
    {
     "data": {
      "image/png": "[encoded data removed]",
      "text/plain": [
       "<Figure size 432x288 with 3 Axes>"
      ]
     },
     "metadata": {
      "needs_background": "light"
     },
     "output_type": "display_data"
    }
   ],
   "source": [
    "start_rev = \"2021-1-1\"\n",
    "end_rev = \"2021-2-19\"\n",
    "mybot.backtest(from_date=start_rev, to_date=end_rev, filename=\"hogebacktest.png\", show=True)"
   ]
  },
  {
   "cell_type": "code",
   "execution_count": null,
   "id": "quick-psychiatry",
   "metadata": {},
   "outputs": [],
   "source": []
  },
  {
   "cell_type": "code",
   "execution_count": null,
   "id": "returning-antibody",
   "metadata": {},
   "outputs": [],
   "source": [
    "#total profit        14490.000"
   ]
  }
 ],
 "metadata": {
  "kernelspec": {
   "display_name": "Python 3",
   "language": "python",
   "name": "python3"
  },
  "language_info": {
   "codemirror_mode": {
    "name": "ipython",
    "version": 3
   },
   "file_extension": ".py",
   "mimetype": "text/x-python",
   "name": "python",
   "nbconvert_exporter": "python",
   "pygments_lexer": "ipython3",
   "version": "3.8.7"
  }
 },
 "nbformat": 4,
 "nbformat_minor": 5
}
