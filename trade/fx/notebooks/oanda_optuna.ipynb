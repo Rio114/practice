{
 "cells": [
  {
   "cell_type": "code",
   "execution_count": 1,
   "id": "applied-papua",
   "metadata": {},
   "outputs": [],
   "source": [
    "import os\n",
    "import sys\n",
    "sys.path.append('..')\n",
    "\n",
    "import pandas as pd\n",
    "import numpy as np\n",
    "from matplotlib import pylab as plt\n",
    "\n",
    "import optuna"
   ]
  },
  {
   "cell_type": "code",
   "execution_count": 2,
   "id": "standard-prediction",
   "metadata": {},
   "outputs": [],
   "source": [
    "token = os.environ['oanda_access_token']\n",
    "account = os.environ['oanda_account_id']"
   ]
  },
  {
   "cell_type": "code",
   "execution_count": 3,
   "id": "efficient-trinidad",
   "metadata": {},
   "outputs": [],
   "source": [
    "from my_oanda.my_oanda import Bot"
   ]
  },
  {
   "cell_type": "code",
   "execution_count": 4,
   "id": "closed-happening",
   "metadata": {},
   "outputs": [],
   "source": [
    "class MyBot(Bot):\n",
    "    def set_param(self, a, b, c, d, stop_loss, take_profit):\n",
    "        self.a = a\n",
    "        self.b = b\n",
    "        self.c = c\n",
    "        self.d = d\n",
    "        self.stop_loss = stop_loss\n",
    "        self.take_profit = take_profit\n",
    "        \n",
    "    def atr(self, *, period: int = 14, price: str = \"C\"):\n",
    "        a = (self.df.H - self.df.L).abs()\n",
    "        b = (self.df.H - self.df[price].shift()).abs()\n",
    "        c = (self.df.L - self.df[price].shift()).abs()\n",
    "\n",
    "        df = pd.concat([a, b, c], axis=1).max(axis=1)\n",
    "        return df.ewm(span=period).mean()\n",
    "        \n",
    "    def strategy(self):\n",
    "        rsi = self.rsi(period=self.a)\n",
    "        ema = self.ema(period=self.b)\n",
    "        atr = self.atr(period=self.c)\n",
    "        lower = ema - atr\n",
    "        upper = ema + atr\n",
    "        self.buy_entry = (rsi < self.d )& (self.df.C < lower)\n",
    "        self.sell_entry = (rsi > 100-self.d) & (self.df.C > upper)\n",
    "        self.sell_exit = ema > self.df.C\n",
    "        self.buy_exit = ema < self.df.C\n"
   ]
  },
  {
   "cell_type": "code",
   "execution_count": 5,
   "id": "distributed-halifax",
   "metadata": {},
   "outputs": [],
   "source": [
    "start = \"2020-1-1\"\n",
    "end = \"2020-12-31\"\n",
    "glan = \"M1\"\n",
    "inst = \"USD_JPY\""
   ]
  },
  {
   "cell_type": "code",
   "execution_count": 6,
   "id": "waiting-fraction",
   "metadata": {},
   "outputs": [],
   "source": [
    "mybot = MyBot(\n",
    "    account_id=account,\n",
    "    access_token=token,\n",
    "    environment='live',\n",
    "    instrument=inst,\n",
    "    granularity=glan, # 15 second candlestick,\n",
    "    folder = \"../data/\"\n",
    ")"
   ]
  },
  {
   "cell_type": "code",
   "execution_count": 7,
   "id": "secret-drilling",
   "metadata": {},
   "outputs": [],
   "source": [
    "def objective(trial):\n",
    "    a = trial.suggest_int('a', 5, 50)\n",
    "    b = trial.suggest_int('b', 5, 50)\n",
    "    c = trial.suggest_int('c', 5, 50)\n",
    "    d = trial.suggest_int('d', 20, 40)\n",
    "    \n",
    "    sl = trial.suggest_int('stop_loss', 5, 50)\n",
    "    tp = trial.suggest_int('take_profit', 5, 50)\n",
    "    \n",
    "    mybot.set_param(a, b, c, d, sl, tp)\n",
    "    \n",
    "    score =  -mybot.backtest(from_date=start, to_date=end)['total profit']\n",
    "#     print('a: %d, b: %d, score: %1.2f' % (a, b, -score))\n",
    "    return score"
   ]
  },
  {
   "cell_type": "code",
   "execution_count": 8,
   "id": "third-crack",
   "metadata": {
    "scrolled": true
   },
   "outputs": [
    {
     "name": "stderr",
     "output_type": "stream",
     "text": [
      "\u001b[32m[I 2021-02-20 23:17:06,806]\u001b[0m A new study created in memory with name: no-name-d4014cac-8e70-471f-ada4-0166169b11d3\u001b[0m\n",
      "\u001b[32m[I 2021-02-20 23:20:34,350]\u001b[0m Trial 0 finished with value: -146830.0 and parameters: {'a': 36, 'b': 13, 'c': 30, 'd': 37, 'stop_loss': 14, 'take_profit': 35}. Best is trial 0 with value: -146830.0.\u001b[0m\n",
      "\u001b[32m[I 2021-02-20 23:20:39,476]\u001b[0m Trial 1 finished with value: -15120.0 and parameters: {'a': 43, 'b': 27, 'c': 31, 'd': 31, 'stop_loss': 47, 'take_profit': 26}. Best is trial 0 with value: -146830.0.\u001b[0m\n",
      "\u001b[32m[I 2021-02-20 23:20:44,227]\u001b[0m Trial 2 finished with value: -4150.0 and parameters: {'a': 45, 'b': 24, 'c': 42, 'd': 20, 'stop_loss': 14, 'take_profit': 26}. Best is trial 0 with value: -146830.0.\u001b[0m\n",
      "\u001b[32m[I 2021-02-20 23:20:48,939]\u001b[0m Trial 3 finished with value: -64200.0 and parameters: {'a': 41, 'b': 37, 'c': 43, 'd': 29, 'stop_loss': 5, 'take_profit': 39}. Best is trial 0 with value: -146830.0.\u001b[0m\n",
      "\u001b[32m[I 2021-02-20 23:20:54,539]\u001b[0m Trial 4 finished with value: -126310.0 and parameters: {'a': 31, 'b': 36, 'c': 25, 'd': 39, 'stop_loss': 35, 'take_profit': 27}. Best is trial 0 with value: -146830.0.\u001b[0m\n",
      "\u001b[32m[I 2021-02-20 23:20:59,080]\u001b[0m Trial 5 finished with value: -44780.0 and parameters: {'a': 32, 'b': 18, 'c': 16, 'd': 23, 'stop_loss': 9, 'take_profit': 39}. Best is trial 0 with value: -146830.0.\u001b[0m\n",
      "\u001b[32m[I 2021-02-20 23:21:03,931]\u001b[0m Trial 6 finished with value: -21230.0 and parameters: {'a': 36, 'b': 13, 'c': 10, 'd': 22, 'stop_loss': 5, 'take_profit': 37}. Best is trial 0 with value: -146830.0.\u001b[0m\n",
      "\u001b[32m[I 2021-02-20 23:21:08,923]\u001b[0m Trial 7 finished with value: -125690.0 and parameters: {'a': 23, 'b': 42, 'c': 44, 'd': 24, 'stop_loss': 7, 'take_profit': 20}. Best is trial 0 with value: -146830.0.\u001b[0m\n",
      "\u001b[32m[I 2021-02-20 23:21:14,273]\u001b[0m Trial 8 finished with value: -166030.0 and parameters: {'a': 26, 'b': 38, 'c': 16, 'd': 33, 'stop_loss': 8, 'take_profit': 38}. Best is trial 8 with value: -166030.0.\u001b[0m\n",
      "\u001b[32m[I 2021-02-20 23:21:19,337]\u001b[0m Trial 9 finished with value: -188430.0 and parameters: {'a': 31, 'b': 28, 'c': 32, 'd': 33, 'stop_loss': 9, 'take_profit': 26}. Best is trial 9 with value: -188430.0.\u001b[0m\n",
      "\u001b[32m[I 2021-02-20 23:21:25,424]\u001b[0m Trial 10 finished with value: -110310.0 and parameters: {'a': 8, 'b': 50, 'c': 37, 'd': 35, 'stop_loss': 27, 'take_profit': 6}. Best is trial 9 with value: -188430.0.\u001b[0m\n",
      "\u001b[32m[I 2021-02-20 23:21:30,936]\u001b[0m Trial 11 finished with value: -257260.0 and parameters: {'a': 19, 'b': 33, 'c': 20, 'd': 32, 'stop_loss': 21, 'take_profit': 47}. Best is trial 11 with value: -257260.0.\u001b[0m\n",
      "\u001b[32m[I 2021-02-20 23:21:36,368]\u001b[0m Trial 12 finished with value: -268730.0 and parameters: {'a': 16, 'b': 29, 'c': 22, 'd': 28, 'stop_loss': 24, 'take_profit': 49}. Best is trial 12 with value: -268730.0.\u001b[0m\n",
      "\u001b[32m[I 2021-02-20 23:21:41,914]\u001b[0m Trial 13 finished with value: -266930.0 and parameters: {'a': 14, 'b': 31, 'c': 20, 'd': 27, 'stop_loss': 25, 'take_profit': 50}. Best is trial 12 with value: -268730.0.\u001b[0m\n",
      "\u001b[32m[I 2021-02-20 23:21:47,644]\u001b[0m Trial 14 finished with value: -146730.0 and parameters: {'a': 11, 'b': 47, 'c': 5, 'd': 27, 'stop_loss': 34, 'take_profit': 50}. Best is trial 12 with value: -268730.0.\u001b[0m\n",
      "\u001b[32m[I 2021-02-20 23:21:53,100]\u001b[0m Trial 15 finished with value: -206730.0 and parameters: {'a': 15, 'b': 21, 'c': 23, 'd': 27, 'stop_loss': 25, 'take_profit': 46}. Best is trial 12 with value: -268730.0.\u001b[0m\n",
      "\u001b[32m[I 2021-02-20 23:21:58,730]\u001b[0m Trial 16 finished with value: -187820.0 and parameters: {'a': 6, 'b': 6, 'c': 14, 'd': 26, 'stop_loss': 35, 'take_profit': 50}. Best is trial 12 with value: -268730.0.\u001b[0m\n",
      "\u001b[32m[I 2021-02-20 23:22:04,417]\u001b[0m Trial 17 finished with value: -266420.0 and parameters: {'a': 16, 'b': 33, 'c': 8, 'd': 29, 'stop_loss': 19, 'take_profit': 14}. Best is trial 12 with value: -268730.0.\u001b[0m\n",
      "\u001b[32m[I 2021-02-20 23:22:10,054]\u001b[0m Trial 18 finished with value: -212130.0 and parameters: {'a': 11, 'b': 31, 'c': 20, 'd': 25, 'stop_loss': 41, 'take_profit': 43}. Best is trial 12 with value: -268730.0.\u001b[0m\n",
      "\u001b[32m[I 2021-02-20 23:22:14,841]\u001b[0m Trial 19 finished with value: -32370.0 and parameters: {'a': 24, 'b': 43, 'c': 50, 'd': 20, 'stop_loss': 30, 'take_profit': 44}. Best is trial 12 with value: -268730.0.\u001b[0m\n",
      "\u001b[32m[I 2021-02-20 23:22:20,176]\u001b[0m Trial 20 finished with value: -245520.0 and parameters: {'a': 19, 'b': 18, 'c': 27, 'd': 29, 'stop_loss': 22, 'take_profit': 50}. Best is trial 12 with value: -268730.0.\u001b[0m\n",
      "\u001b[32m[I 2021-02-20 23:22:25,687]\u001b[0m Trial 21 finished with value: -267060.0 and parameters: {'a': 16, 'b': 31, 'c': 5, 'd': 29, 'stop_loss': 19, 'take_profit': 10}. Best is trial 12 with value: -268730.0.\u001b[0m\n",
      "\u001b[32m[I 2021-02-20 23:22:31,409]\u001b[0m Trial 22 finished with value: -233310.0 and parameters: {'a': 13, 'b': 28, 'c': 12, 'd': 28, 'stop_loss': 15, 'take_profit': 11}. Best is trial 12 with value: -268730.0.\u001b[0m\n",
      "\u001b[32m[I 2021-02-20 23:22:36,728]\u001b[0m Trial 23 finished with value: -198160.0 and parameters: {'a': 21, 'b': 26, 'c': 5, 'd': 31, 'stop_loss': 18, 'take_profit': 5}. Best is trial 12 with value: -268730.0.\u001b[0m\n",
      "\u001b[32m[I 2021-02-20 23:22:42,730]\u001b[0m Trial 24 finished with value: -202600.0 and parameters: {'a': 7, 'b': 31, 'c': 20, 'd': 26, 'stop_loss': 30, 'take_profit': 20}. Best is trial 12 with value: -268730.0.\u001b[0m\n",
      "\u001b[32m[I 2021-02-20 23:22:48,211]\u001b[0m Trial 25 finished with value: -213060.0 and parameters: {'a': 15, 'b': 40, 'c': 35, 'd': 25, 'stop_loss': 24, 'take_profit': 34}. Best is trial 12 with value: -268730.0.\u001b[0m\n",
      "\u001b[32m[I 2021-02-20 23:22:53,527]\u001b[0m Trial 26 finished with value: -227200.0 and parameters: {'a': 18, 'b': 23, 'c': 23, 'd': 30, 'stop_loss': 30, 'take_profit': 10}. Best is trial 12 with value: -268730.0.\u001b[0m\n",
      "\u001b[32m[I 2021-02-20 23:22:59,177]\u001b[0m Trial 27 finished with value: -199910.0 and parameters: {'a': 10, 'b': 34, 'c': 17, 'd': 22, 'stop_loss': 18, 'take_profit': 19}. Best is trial 12 with value: -268730.0.\u001b[0m\n",
      "\u001b[32m[I 2021-02-20 23:23:05,444]\u001b[0m Trial 28 finished with value: -190340.0 and parameters: {'a': 5, 'b': 30, 'c': 27, 'd': 28, 'stop_loss': 27, 'take_profit': 32}. Best is trial 12 with value: -268730.0.\u001b[0m\n",
      "\u001b[32m[I 2021-02-20 23:23:10,646]\u001b[0m Trial 29 finished with value: -194420.0 and parameters: {'a': 28, 'b': 19, 'c': 9, 'd': 34, 'stop_loss': 13, 'take_profit': 31}. Best is trial 12 with value: -268730.0.\u001b[0m\n",
      "\u001b[32m[I 2021-02-20 23:23:15,318]\u001b[0m Trial 30 finished with value: -31770.0 and parameters: {'a': 50, 'b': 23, 'c': 29, 'd': 31, 'stop_loss': 23, 'take_profit': 42}. Best is trial 12 with value: -268730.0.\u001b[0m\n",
      "\u001b[32m[I 2021-02-20 23:23:20,744]\u001b[0m Trial 31 finished with value: -242380.0 and parameters: {'a': 17, 'b': 35, 'c': 7, 'd': 29, 'stop_loss': 19, 'take_profit': 15}. Best is trial 12 with value: -268730.0.\u001b[0m\n",
      "\u001b[32m[I 2021-02-20 23:23:26,526]\u001b[0m Trial 32 finished with value: -259020.0 and parameters: {'a': 15, 'b': 32, 'c': 10, 'd': 30, 'stop_loss': 20, 'take_profit': 11}. Best is trial 12 with value: -268730.0.\u001b[0m\n",
      "\u001b[32m[I 2021-02-20 23:23:31,926]\u001b[0m Trial 33 finished with value: -184640.0 and parameters: {'a': 21, 'b': 29, 'c': 13, 'd': 27, 'stop_loss': 14, 'take_profit': 15}. Best is trial 12 with value: -268730.0.\u001b[0m\n",
      "\u001b[32m[I 2021-02-20 23:23:37,667]\u001b[0m Trial 34 finished with value: -239630.0 and parameters: {'a': 14, 'b': 25, 'c': 5, 'd': 28, 'stop_loss': 17, 'take_profit': 8}. Best is trial 12 with value: -268730.0.\u001b[0m\n",
      "\u001b[32m[I 2021-02-20 23:23:44,017]\u001b[0m Trial 35 finished with value: -237160.0 and parameters: {'a': 9, 'b': 37, 'c': 18, 'd': 31, 'stop_loss': 12, 'take_profit': 15}. Best is trial 12 with value: -268730.0.\u001b[0m\n",
      "\u001b[32m[I 2021-02-20 23:23:50,074]\u001b[0m Trial 36 finished with value: -149500.0 and parameters: {'a': 12, 'b': 39, 'c': 24, 'd': 36, 'stop_loss': 25, 'take_profit': 17}. Best is trial 12 with value: -268730.0.\u001b[0m\n",
      "\u001b[32m[I 2021-02-20 23:23:54,797]\u001b[0m Trial 37 finished with value: -227350.0 and parameters: {'a': 17, 'b': 34, 'c': 8, 'd': 25, 'stop_loss': 16, 'take_profit': 24}. Best is trial 12 with value: -268730.0.\u001b[0m\n",
      "\u001b[32m[I 2021-02-20 23:23:59,783]\u001b[0m Trial 38 finished with value: -160000.0 and parameters: {'a': 22, 'b': 26, 'c': 12, 'd': 29, 'stop_loss': 32, 'take_profit': 23}. Best is trial 12 with value: -268730.0.\u001b[0m\n"
     ]
    },
    {
     "name": "stderr",
     "output_type": "stream",
     "text": [
      "\u001b[32m[I 2021-02-20 23:24:04,644]\u001b[0m Trial 39 finished with value: -30090.0 and parameters: {'a': 27, 'b': 41, 'c': 33, 'd': 23, 'stop_loss': 41, 'take_profit': 8}. Best is trial 12 with value: -268730.0.\u001b[0m\n",
      "\u001b[32m[I 2021-02-20 23:24:10,046]\u001b[0m Trial 40 finished with value: -147470.0 and parameters: {'a': 24, 'b': 36, 'c': 15, 'd': 32, 'stop_loss': 22, 'take_profit': 47}. Best is trial 12 with value: -268730.0.\u001b[0m\n",
      "\u001b[32m[I 2021-02-20 23:24:16,278]\u001b[0m Trial 41 finished with value: -233360.0 and parameters: {'a': 14, 'b': 32, 'c': 10, 'd': 30, 'stop_loss': 20, 'take_profit': 12}. Best is trial 12 with value: -268730.0.\u001b[0m\n",
      "\u001b[32m[I 2021-02-20 23:24:21,966]\u001b[0m Trial 42 finished with value: -302580.0 and parameters: {'a': 16, 'b': 29, 'c': 7, 'd': 30, 'stop_loss': 11, 'take_profit': 13}. Best is trial 42 with value: -302580.0.\u001b[0m\n",
      "\u001b[32m[I 2021-02-20 23:24:27,453]\u001b[0m Trial 43 finished with value: -258700.0 and parameters: {'a': 17, 'b': 27, 'c': 5, 'd': 28, 'stop_loss': 10, 'take_profit': 8}. Best is trial 42 with value: -302580.0.\u001b[0m\n",
      "\u001b[32m[I 2021-02-20 23:24:32,665]\u001b[0m Trial 44 finished with value: -196950.0 and parameters: {'a': 20, 'b': 30, 'c': 8, 'd': 26, 'stop_loss': 11, 'take_profit': 14}. Best is trial 42 with value: -302580.0.\u001b[0m\n",
      "\u001b[32m[I 2021-02-20 23:24:38,896]\u001b[0m Trial 45 finished with value: -260980.0 and parameters: {'a': 12, 'b': 21, 'c': 19, 'd': 32, 'stop_loss': 6, 'take_profit': 5}. Best is trial 42 with value: -302580.0.\u001b[0m\n",
      "\u001b[32m[I 2021-02-20 23:24:44,302]\u001b[0m Trial 46 finished with value: -207100.0 and parameters: {'a': 17, 'b': 44, 'c': 22, 'd': 27, 'stop_loss': 26, 'take_profit': 13}. Best is trial 42 with value: -302580.0.\u001b[0m\n",
      "\u001b[32m[I 2021-02-20 23:24:50,705]\u001b[0m Trial 47 finished with value: -183050.0 and parameters: {'a': 10, 'b': 28, 'c': 7, 'd': 39, 'stop_loss': 29, 'take_profit': 18}. Best is trial 42 with value: -302580.0.\u001b[0m\n",
      "\u001b[32m[I 2021-02-20 23:24:57,164]\u001b[0m Trial 48 finished with value: -215340.0 and parameters: {'a': 8, 'b': 33, 'c': 26, 'd': 29, 'stop_loss': 16, 'take_profit': 9}. Best is trial 42 with value: -302580.0.\u001b[0m\n",
      "\u001b[32m[I 2021-02-20 23:25:02,464]\u001b[0m Trial 49 finished with value: -126340.0 and parameters: {'a': 34, 'b': 37, 'c': 40, 'd': 33, 'stop_loss': 23, 'take_profit': 22}. Best is trial 42 with value: -302580.0.\u001b[0m\n",
      "\u001b[32m[I 2021-02-20 23:25:07,509]\u001b[0m Trial 50 finished with value: -10480.0 and parameters: {'a': 41, 'b': 24, 'c': 29, 'd': 30, 'stop_loss': 20, 'take_profit': 49}. Best is trial 42 with value: -302580.0.\u001b[0m\n",
      "\u001b[32m[I 2021-02-20 23:25:13,601]\u001b[0m Trial 51 finished with value: -301180.0 and parameters: {'a': 12, 'b': 21, 'c': 18, 'd': 32, 'stop_loss': 5, 'take_profit': 6}. Best is trial 42 with value: -302580.0.\u001b[0m\n",
      "\u001b[32m[I 2021-02-20 23:25:19,478]\u001b[0m Trial 52 finished with value: -284440.0 and parameters: {'a': 13, 'b': 12, 'c': 21, 'd': 31, 'stop_loss': 5, 'take_profit': 6}. Best is trial 42 with value: -302580.0.\u001b[0m\n",
      "\u001b[32m[I 2021-02-20 23:25:25,276]\u001b[0m Trial 53 finished with value: -272580.0 and parameters: {'a': 12, 'b': 7, 'c': 21, 'd': 34, 'stop_loss': 5, 'take_profit': 7}. Best is trial 42 with value: -302580.0.\u001b[0m\n",
      "\u001b[32m[I 2021-02-20 23:25:31,581]\u001b[0m Trial 54 finished with value: -262200.0 and parameters: {'a': 5, 'b': 6, 'c': 22, 'd': 34, 'stop_loss': 5, 'take_profit': 6}. Best is trial 42 with value: -302580.0.\u001b[0m\n",
      "\u001b[32m[I 2021-02-20 23:25:37,527]\u001b[0m Trial 55 finished with value: -238750.0 and parameters: {'a': 12, 'b': 10, 'c': 16, 'd': 33, 'stop_loss': 8, 'take_profit': 6}. Best is trial 42 with value: -302580.0.\u001b[0m\n",
      "\u001b[32m[I 2021-02-20 23:25:43,390]\u001b[0m Trial 56 finished with value: -261160.0 and parameters: {'a': 19, 'b': 12, 'c': 21, 'd': 35, 'stop_loss': 7, 'take_profit': 7}. Best is trial 42 with value: -302580.0.\u001b[0m\n",
      "\u001b[32m[I 2021-02-20 23:25:49,736]\u001b[0m Trial 57 finished with value: -358160.0 and parameters: {'a': 8, 'b': 9, 'c': 24, 'd': 32, 'stop_loss': 5, 'take_profit': 10}. Best is trial 57 with value: -358160.0.\u001b[0m\n",
      "\u001b[32m[I 2021-02-20 23:25:56,264]\u001b[0m Trial 58 finished with value: -277340.0 and parameters: {'a': 7, 'b': 8, 'c': 25, 'd': 34, 'stop_loss': 9, 'take_profit': 5}. Best is trial 57 with value: -358160.0.\u001b[0m\n",
      "\u001b[32m[I 2021-02-20 23:26:02,942]\u001b[0m Trial 59 finished with value: -337500.0 and parameters: {'a': 7, 'b': 9, 'c': 24, 'd': 38, 'stop_loss': 5, 'take_profit': 5}. Best is trial 57 with value: -358160.0.\u001b[0m\n",
      "\u001b[32m[I 2021-02-20 23:26:09,473]\u001b[0m Trial 60 finished with value: -283410.0 and parameters: {'a': 7, 'b': 15, 'c': 25, 'd': 38, 'stop_loss': 9, 'take_profit': 5}. Best is trial 57 with value: -358160.0.\u001b[0m\n",
      "\u001b[32m[I 2021-02-20 23:26:16,149]\u001b[0m Trial 61 finished with value: -278290.0 and parameters: {'a': 7, 'b': 16, 'c': 25, 'd': 40, 'stop_loss': 8, 'take_profit': 5}. Best is trial 57 with value: -358160.0.\u001b[0m\n",
      "\u001b[32m[I 2021-02-20 23:26:22,957]\u001b[0m Trial 62 finished with value: -276610.0 and parameters: {'a': 5, 'b': 15, 'c': 30, 'd': 38, 'stop_loss': 7, 'take_profit': 5}. Best is trial 57 with value: -358160.0.\u001b[0m\n",
      "\u001b[32m[I 2021-02-20 23:26:29,320]\u001b[0m Trial 63 finished with value: -257390.0 and parameters: {'a': 9, 'b': 15, 'c': 24, 'd': 40, 'stop_loss': 10, 'take_profit': 10}. Best is trial 57 with value: -358160.0.\u001b[0m\n",
      "\u001b[32m[I 2021-02-20 23:26:35,888]\u001b[0m Trial 64 finished with value: -426840.0 and parameters: {'a': 7, 'b': 14, 'c': 26, 'd': 37, 'stop_loss': 5, 'take_profit': 9}. Best is trial 64 with value: -426840.0.\u001b[0m\n",
      "\u001b[32m[I 2021-02-20 23:26:42,145]\u001b[0m Trial 65 finished with value: -396760.0 and parameters: {'a': 10, 'b': 12, 'c': 28, 'd': 37, 'stop_loss': 5, 'take_profit': 9}. Best is trial 64 with value: -426840.0.\u001b[0m\n",
      "\u001b[32m[I 2021-02-20 23:26:48,290]\u001b[0m Trial 66 finished with value: -395570.0 and parameters: {'a': 10, 'b': 10, 'c': 32, 'd': 37, 'stop_loss': 5, 'take_profit': 12}. Best is trial 64 with value: -426840.0.\u001b[0m\n",
      "\u001b[32m[I 2021-02-20 23:26:54,330]\u001b[0m Trial 67 finished with value: -336680.0 and parameters: {'a': 10, 'b': 9, 'c': 32, 'd': 37, 'stop_loss': 6, 'take_profit': 12}. Best is trial 64 with value: -426840.0.\u001b[0m\n",
      "\u001b[32m[I 2021-02-20 23:27:00,464]\u001b[0m Trial 68 finished with value: -332810.0 and parameters: {'a': 10, 'b': 9, 'c': 33, 'd': 37, 'stop_loss': 6, 'take_profit': 12}. Best is trial 64 with value: -426840.0.\u001b[0m\n",
      "\u001b[32m[I 2021-02-20 23:27:06,671]\u001b[0m Trial 69 finished with value: -383340.0 and parameters: {'a': 10, 'b': 10, 'c': 33, 'd': 37, 'stop_loss': 6, 'take_profit': 17}. Best is trial 64 with value: -426840.0.\u001b[0m\n",
      "\u001b[32m[I 2021-02-20 23:27:12,175]\u001b[0m Trial 70 finished with value: -112390.0 and parameters: {'a': 9, 'b': 5, 'c': 36, 'd': 37, 'stop_loss': 50, 'take_profit': 17}. Best is trial 64 with value: -426840.0.\u001b[0m\n",
      "\u001b[32m[I 2021-02-20 23:27:18,222]\u001b[0m Trial 71 finished with value: -332810.0 and parameters: {'a': 10, 'b': 9, 'c': 33, 'd': 37, 'stop_loss': 6, 'take_profit': 12}. Best is trial 64 with value: -426840.0.\u001b[0m\n",
      "\u001b[32m[I 2021-02-20 23:27:24,522]\u001b[0m Trial 72 finished with value: -370690.0 and parameters: {'a': 6, 'b': 11, 'c': 31, 'd': 36, 'stop_loss': 7, 'take_profit': 11}. Best is trial 64 with value: -426840.0.\u001b[0m\n",
      "\u001b[32m[I 2021-02-20 23:27:30,885]\u001b[0m Trial 73 finished with value: -385710.0 and parameters: {'a': 6, 'b': 11, 'c': 28, 'd': 38, 'stop_loss': 7, 'take_profit': 10}. Best is trial 64 with value: -426840.0.\u001b[0m\n",
      "\u001b[32m[I 2021-02-20 23:27:37,255]\u001b[0m Trial 74 finished with value: -353940.0 and parameters: {'a': 6, 'b': 11, 'c': 29, 'd': 36, 'stop_loss': 8, 'take_profit': 9}. Best is trial 64 with value: -426840.0.\u001b[0m\n",
      "\u001b[32m[I 2021-02-20 23:27:43,495]\u001b[0m Trial 75 finished with value: -354630.0 and parameters: {'a': 5, 'b': 11, 'c': 29, 'd': 36, 'stop_loss': 12, 'take_profit': 10}. Best is trial 64 with value: -426840.0.\u001b[0m\n",
      "\u001b[32m[I 2021-02-20 23:27:49,914]\u001b[0m Trial 76 finished with value: -333210.0 and parameters: {'a': 5, 'b': 13, 'c': 31, 'd': 36, 'stop_loss': 13, 'take_profit': 10}. Best is trial 64 with value: -426840.0.\u001b[0m\n",
      "\u001b[32m[I 2021-02-20 23:27:56,191]\u001b[0m Trial 77 finished with value: -330500.0 and parameters: {'a': 8, 'b': 11, 'c': 28, 'd': 39, 'stop_loss': 10, 'take_profit': 14}. Best is trial 64 with value: -426840.0.\u001b[0m\n",
      "\u001b[32m[I 2021-02-20 23:28:02,507]\u001b[0m Trial 78 finished with value: -382600.0 and parameters: {'a': 6, 'b': 13, 'c': 39, 'd': 35, 'stop_loss': 7, 'take_profit': 9}. Best is trial 64 with value: -426840.0.\u001b[0m\n"
     ]
    },
    {
     "name": "stderr",
     "output_type": "stream",
     "text": [
      "\u001b[32m[I 2021-02-20 23:28:08,963]\u001b[0m Trial 79 finished with value: -369420.0 and parameters: {'a': 6, 'b': 17, 'c': 40, 'd': 35, 'stop_loss': 7, 'take_profit': 17}. Best is trial 64 with value: -426840.0.\u001b[0m\n",
      "\u001b[32m[I 2021-02-20 23:28:15,424]\u001b[0m Trial 80 finished with value: -363900.0 and parameters: {'a': 6, 'b': 17, 'c': 46, 'd': 35, 'stop_loss': 7, 'take_profit': 15}. Best is trial 64 with value: -426840.0.\u001b[0m\n",
      "\u001b[32m[I 2021-02-20 23:28:22,091]\u001b[0m Trial 81 finished with value: -360470.0 and parameters: {'a': 6, 'b': 17, 'c': 44, 'd': 39, 'stop_loss': 7, 'take_profit': 16}. Best is trial 64 with value: -426840.0.\u001b[0m\n",
      "\u001b[32m[I 2021-02-20 23:28:28,380]\u001b[0m Trial 82 finished with value: -368690.0 and parameters: {'a': 6, 'b': 14, 'c': 48, 'd': 35, 'stop_loss': 9, 'take_profit': 20}. Best is trial 64 with value: -426840.0.\u001b[0m\n",
      "\u001b[32m[I 2021-02-20 23:28:34,808]\u001b[0m Trial 83 finished with value: -324940.0 and parameters: {'a': 9, 'b': 13, 'c': 40, 'd': 35, 'stop_loss': 9, 'take_profit': 21}. Best is trial 64 with value: -426840.0.\u001b[0m\n",
      "\u001b[32m[I 2021-02-20 23:28:41,135]\u001b[0m Trial 84 finished with value: -275260.0 and parameters: {'a': 11, 'b': 14, 'c': 50, 'd': 38, 'stop_loss': 11, 'take_profit': 19}. Best is trial 64 with value: -426840.0.\u001b[0m\n",
      "\u001b[32m[I 2021-02-20 23:28:47,365]\u001b[0m Trial 85 finished with value: -362880.0 and parameters: {'a': 8, 'b': 14, 'c': 38, 'd': 35, 'stop_loss': 8, 'take_profit': 28}. Best is trial 64 with value: -426840.0.\u001b[0m\n",
      "\u001b[32m[I 2021-02-20 23:28:53,822]\u001b[0m Trial 86 finished with value: -337850.0 and parameters: {'a': 5, 'b': 19, 'c': 48, 'd': 36, 'stop_loss': 7, 'take_profit': 17}. Best is trial 64 with value: -426840.0.\u001b[0m\n",
      "\u001b[32m[I 2021-02-20 23:28:59,926]\u001b[0m Trial 87 finished with value: -280760.0 and parameters: {'a': 6, 'b': 7, 'c': 35, 'd': 38, 'stop_loss': 12, 'take_profit': 13}. Best is trial 64 with value: -426840.0.\u001b[0m\n",
      "\u001b[32m[I 2021-02-20 23:29:06,121]\u001b[0m Trial 88 finished with value: -318160.0 and parameters: {'a': 9, 'b': 14, 'c': 38, 'd': 37, 'stop_loss': 9, 'take_profit': 25}. Best is trial 64 with value: -426840.0.\u001b[0m\n",
      "\u001b[32m[I 2021-02-20 23:29:12,540]\u001b[0m Trial 89 finished with value: -416720.0 and parameters: {'a': 7, 'b': 12, 'c': 31, 'd': 36, 'stop_loss': 6, 'take_profit': 11}. Best is trial 64 with value: -426840.0.\u001b[0m\n",
      "\u001b[32m[I 2021-02-20 23:29:18,763]\u001b[0m Trial 90 finished with value: -360950.0 and parameters: {'a': 11, 'b': 12, 'c': 31, 'd': 36, 'stop_loss': 6, 'take_profit': 11}. Best is trial 64 with value: -426840.0.\u001b[0m\n",
      "\u001b[32m[I 2021-02-20 23:29:25,080]\u001b[0m Trial 91 finished with value: -327310.0 and parameters: {'a': 7, 'b': 11, 'c': 27, 'd': 35, 'stop_loss': 10, 'take_profit': 9}. Best is trial 64 with value: -426840.0.\u001b[0m\n",
      "\u001b[32m[I 2021-02-20 23:29:31,192]\u001b[0m Trial 92 finished with value: -298360.0 and parameters: {'a': 8, 'b': 10, 'c': 42, 'd': 37, 'stop_loss': 8, 'take_profit': 8}. Best is trial 64 with value: -426840.0.\u001b[0m\n",
      "\u001b[32m[I 2021-02-20 23:29:37,551]\u001b[0m Trial 93 finished with value: -427290.0 and parameters: {'a': 5, 'b': 13, 'c': 34, 'd': 36, 'stop_loss': 6, 'take_profit': 16}. Best is trial 93 with value: -427290.0.\u001b[0m\n",
      "\u001b[32m[I 2021-02-20 23:29:43,750]\u001b[0m Trial 94 finished with value: -374390.0 and parameters: {'a': 5, 'b': 7, 'c': 34, 'd': 36, 'stop_loss': 5, 'take_profit': 14}. Best is trial 93 with value: -427290.0.\u001b[0m\n",
      "\u001b[32m[I 2021-02-20 23:29:49,557]\u001b[0m Trial 95 finished with value: -297760.0 and parameters: {'a': 13, 'b': 7, 'c': 34, 'd': 36, 'stop_loss': 5, 'take_profit': 14}. Best is trial 93 with value: -427290.0.\u001b[0m\n",
      "\u001b[32m[I 2021-02-20 23:29:56,030]\u001b[0m Trial 96 finished with value: -384200.0 and parameters: {'a': 5, 'b': 10, 'c': 32, 'd': 37, 'stop_loss': 6, 'take_profit': 11}. Best is trial 93 with value: -427290.0.\u001b[0m\n",
      "\u001b[32m[I 2021-02-20 23:30:00,936]\u001b[0m Trial 97 finished with value: -89040.0 and parameters: {'a': 48, 'b': 5, 'c': 35, 'd': 38, 'stop_loss': 5, 'take_profit': 13}. Best is trial 93 with value: -427290.0.\u001b[0m\n",
      "\u001b[32m[I 2021-02-20 23:30:06,864]\u001b[0m Trial 98 finished with value: -314380.0 and parameters: {'a': 11, 'b': 8, 'c': 37, 'd': 39, 'stop_loss': 6, 'take_profit': 7}. Best is trial 93 with value: -427290.0.\u001b[0m\n",
      "\u001b[32m[I 2021-02-20 23:30:13,301]\u001b[0m Trial 99 finished with value: -285090.0 and parameters: {'a': 5, 'b': 10, 'c': 32, 'd': 37, 'stop_loss': 40, 'take_profit': 9}. Best is trial 93 with value: -427290.0.\u001b[0m\n",
      "\u001b[32m[I 2021-02-20 23:30:19,803]\u001b[0m Trial 100 finished with value: -404550.0 and parameters: {'a': 8, 'b': 12, 'c': 28, 'd': 40, 'stop_loss': 6, 'take_profit': 16}. Best is trial 93 with value: -427290.0.\u001b[0m\n",
      "\u001b[32m[I 2021-02-20 23:30:26,205]\u001b[0m Trial 101 finished with value: -405470.0 and parameters: {'a': 8, 'b': 12, 'c': 28, 'd': 40, 'stop_loss': 6, 'take_profit': 15}. Best is trial 93 with value: -427290.0.\u001b[0m\n",
      "\u001b[32m[I 2021-02-20 23:30:32,519]\u001b[0m Trial 102 finished with value: -396880.0 and parameters: {'a': 10, 'b': 13, 'c': 28, 'd': 40, 'stop_loss': 6, 'take_profit': 16}. Best is trial 93 with value: -427290.0.\u001b[0m\n",
      "\u001b[32m[I 2021-02-20 23:30:38,908]\u001b[0m Trial 103 finished with value: -359300.0 and parameters: {'a': 10, 'b': 16, 'c': 28, 'd': 40, 'stop_loss': 6, 'take_profit': 16}. Best is trial 93 with value: -427290.0.\u001b[0m\n",
      "\u001b[32m[I 2021-02-20 23:30:45,179]\u001b[0m Trial 104 finished with value: -360030.0 and parameters: {'a': 8, 'b': 12, 'c': 26, 'd': 40, 'stop_loss': 8, 'take_profit': 18}. Best is trial 93 with value: -427290.0.\u001b[0m\n",
      "\u001b[32m[I 2021-02-20 23:30:51,544]\u001b[0m Trial 105 finished with value: -381100.0 and parameters: {'a': 8, 'b': 10, 'c': 30, 'd': 39, 'stop_loss': 6, 'take_profit': 16}. Best is trial 93 with value: -427290.0.\u001b[0m\n",
      "\u001b[32m[I 2021-02-20 23:30:57,750]\u001b[0m Trial 106 finished with value: -385960.0 and parameters: {'a': 13, 'b': 12, 'c': 30, 'd': 39, 'stop_loss': 5, 'take_profit': 13}. Best is trial 93 with value: -427290.0.\u001b[0m\n",
      "\u001b[32m[I 2021-02-20 23:31:04,310]\u001b[0m Trial 107 finished with value: -290310.0 and parameters: {'a': 13, 'b': 12, 'c': 27, 'd': 39, 'stop_loss': 10, 'take_profit': 11}. Best is trial 93 with value: -427290.0.\u001b[0m\n",
      "\u001b[32m[I 2021-02-20 23:31:10,888]\u001b[0m Trial 108 finished with value: -414560.0 and parameters: {'a': 9, 'b': 13, 'c': 30, 'd': 40, 'stop_loss': 5, 'take_profit': 12}. Best is trial 93 with value: -427290.0.\u001b[0m\n",
      "\u001b[32m[I 2021-02-20 23:31:17,311]\u001b[0m Trial 109 finished with value: -352200.0 and parameters: {'a': 11, 'b': 16, 'c': 28, 'd': 40, 'stop_loss': 5, 'take_profit': 12}. Best is trial 93 with value: -427290.0.\u001b[0m\n",
      "\u001b[32m[I 2021-02-20 23:31:23,541]\u001b[0m Trial 110 finished with value: -241650.0 and parameters: {'a': 14, 'b': 19, 'c': 26, 'd': 39, 'stop_loss': 8, 'take_profit': 13}. Best is trial 93 with value: -427290.0.\u001b[0m\n",
      "\u001b[32m[I 2021-02-20 23:31:29,842]\u001b[0m Trial 111 finished with value: -365650.0 and parameters: {'a': 9, 'b': 13, 'c': 30, 'd': 38, 'stop_loss': 6, 'take_profit': 11}. Best is trial 93 with value: -427290.0.\u001b[0m\n",
      "\u001b[32m[I 2021-02-20 23:31:36,300]\u001b[0m Trial 112 finished with value: -365770.0 and parameters: {'a': 7, 'b': 8, 'c': 32, 'd': 40, 'stop_loss': 5, 'take_profit': 15}. Best is trial 93 with value: -427290.0.\u001b[0m\n"
     ]
    },
    {
     "ename": "KeyboardInterrupt",
     "evalue": "",
     "output_type": "error",
     "traceback": [
      "\u001b[0;31m---------------------------------------------------------------------------\u001b[0m",
      "\u001b[0;31mKeyboardInterrupt\u001b[0m                         Traceback (most recent call last)",
      "\u001b[0;32m<ipython-input-8-268d75d981dc>\u001b[0m in \u001b[0;36m<module>\u001b[0;34m\u001b[0m\n\u001b[1;32m      1\u001b[0m \u001b[0mstudy\u001b[0m \u001b[0;34m=\u001b[0m \u001b[0moptuna\u001b[0m\u001b[0;34m.\u001b[0m\u001b[0mcreate_study\u001b[0m\u001b[0;34m(\u001b[0m\u001b[0;34m)\u001b[0m\u001b[0;34m\u001b[0m\u001b[0;34m\u001b[0m\u001b[0m\n\u001b[0;32m----> 2\u001b[0;31m \u001b[0mstudy\u001b[0m\u001b[0;34m.\u001b[0m\u001b[0moptimize\u001b[0m\u001b[0;34m(\u001b[0m\u001b[0mobjective\u001b[0m\u001b[0;34m,\u001b[0m \u001b[0mn_trials\u001b[0m\u001b[0;34m=\u001b[0m\u001b[0;36m1000\u001b[0m\u001b[0;34m)\u001b[0m\u001b[0;34m\u001b[0m\u001b[0;34m\u001b[0m\u001b[0m\n\u001b[0m",
      "\u001b[0;32m~/.cache/pypoetry/virtualenvs/trade-MVAPLqw_-py3.8/lib/python3.8/site-packages/optuna/study.py\u001b[0m in \u001b[0;36moptimize\u001b[0;34m(self, func, n_trials, timeout, n_jobs, catch, callbacks, gc_after_trial, show_progress_bar)\u001b[0m\n\u001b[1;32m    374\u001b[0m                 \u001b[0mIf\u001b[0m \u001b[0mnested\u001b[0m \u001b[0minvocation\u001b[0m \u001b[0mof\u001b[0m \u001b[0mthis\u001b[0m \u001b[0mmethod\u001b[0m \u001b[0moccurs\u001b[0m\u001b[0;34m.\u001b[0m\u001b[0;34m\u001b[0m\u001b[0;34m\u001b[0m\u001b[0m\n\u001b[1;32m    375\u001b[0m         \"\"\"\n\u001b[0;32m--> 376\u001b[0;31m         _optimize(\n\u001b[0m\u001b[1;32m    377\u001b[0m             \u001b[0mstudy\u001b[0m\u001b[0;34m=\u001b[0m\u001b[0mself\u001b[0m\u001b[0;34m,\u001b[0m\u001b[0;34m\u001b[0m\u001b[0;34m\u001b[0m\u001b[0m\n\u001b[1;32m    378\u001b[0m             \u001b[0mfunc\u001b[0m\u001b[0;34m=\u001b[0m\u001b[0mfunc\u001b[0m\u001b[0;34m,\u001b[0m\u001b[0;34m\u001b[0m\u001b[0;34m\u001b[0m\u001b[0m\n",
      "\u001b[0;32m~/.cache/pypoetry/virtualenvs/trade-MVAPLqw_-py3.8/lib/python3.8/site-packages/optuna/_optimize.py\u001b[0m in \u001b[0;36m_optimize\u001b[0;34m(study, func, n_trials, timeout, n_jobs, catch, callbacks, gc_after_trial, show_progress_bar)\u001b[0m\n\u001b[1;32m     61\u001b[0m     \u001b[0;32mtry\u001b[0m\u001b[0;34m:\u001b[0m\u001b[0;34m\u001b[0m\u001b[0;34m\u001b[0m\u001b[0m\n\u001b[1;32m     62\u001b[0m         \u001b[0;32mif\u001b[0m \u001b[0mn_jobs\u001b[0m \u001b[0;34m==\u001b[0m \u001b[0;36m1\u001b[0m\u001b[0;34m:\u001b[0m\u001b[0;34m\u001b[0m\u001b[0;34m\u001b[0m\u001b[0m\n\u001b[0;32m---> 63\u001b[0;31m             _optimize_sequential(\n\u001b[0m\u001b[1;32m     64\u001b[0m                 \u001b[0mstudy\u001b[0m\u001b[0;34m,\u001b[0m\u001b[0;34m\u001b[0m\u001b[0;34m\u001b[0m\u001b[0m\n\u001b[1;32m     65\u001b[0m                 \u001b[0mfunc\u001b[0m\u001b[0;34m,\u001b[0m\u001b[0;34m\u001b[0m\u001b[0;34m\u001b[0m\u001b[0m\n",
      "\u001b[0;32m~/.cache/pypoetry/virtualenvs/trade-MVAPLqw_-py3.8/lib/python3.8/site-packages/optuna/_optimize.py\u001b[0m in \u001b[0;36m_optimize_sequential\u001b[0;34m(study, func, n_trials, timeout, catch, callbacks, gc_after_trial, reseed_sampler_rng, time_start, progress_bar)\u001b[0m\n\u001b[1;32m    162\u001b[0m \u001b[0;34m\u001b[0m\u001b[0m\n\u001b[1;32m    163\u001b[0m         \u001b[0;32mtry\u001b[0m\u001b[0;34m:\u001b[0m\u001b[0;34m\u001b[0m\u001b[0;34m\u001b[0m\u001b[0m\n\u001b[0;32m--> 164\u001b[0;31m             \u001b[0mtrial\u001b[0m \u001b[0;34m=\u001b[0m \u001b[0m_run_trial\u001b[0m\u001b[0;34m(\u001b[0m\u001b[0mstudy\u001b[0m\u001b[0;34m,\u001b[0m \u001b[0mfunc\u001b[0m\u001b[0;34m,\u001b[0m \u001b[0mcatch\u001b[0m\u001b[0;34m)\u001b[0m\u001b[0;34m\u001b[0m\u001b[0;34m\u001b[0m\u001b[0m\n\u001b[0m\u001b[1;32m    165\u001b[0m         \u001b[0;32mexcept\u001b[0m \u001b[0mException\u001b[0m\u001b[0;34m:\u001b[0m\u001b[0;34m\u001b[0m\u001b[0;34m\u001b[0m\u001b[0m\n\u001b[1;32m    166\u001b[0m             \u001b[0;32mraise\u001b[0m\u001b[0;34m\u001b[0m\u001b[0;34m\u001b[0m\u001b[0m\n",
      "\u001b[0;32m~/.cache/pypoetry/virtualenvs/trade-MVAPLqw_-py3.8/lib/python3.8/site-packages/optuna/_optimize.py\u001b[0m in \u001b[0;36m_run_trial\u001b[0;34m(study, func, catch)\u001b[0m\n\u001b[1;32m    209\u001b[0m \u001b[0;34m\u001b[0m\u001b[0m\n\u001b[1;32m    210\u001b[0m     \u001b[0;32mtry\u001b[0m\u001b[0;34m:\u001b[0m\u001b[0;34m\u001b[0m\u001b[0;34m\u001b[0m\u001b[0m\n\u001b[0;32m--> 211\u001b[0;31m         \u001b[0mvalue_or_values\u001b[0m \u001b[0;34m=\u001b[0m \u001b[0mfunc\u001b[0m\u001b[0;34m(\u001b[0m\u001b[0mtrial\u001b[0m\u001b[0;34m)\u001b[0m\u001b[0;34m\u001b[0m\u001b[0;34m\u001b[0m\u001b[0m\n\u001b[0m\u001b[1;32m    212\u001b[0m     \u001b[0;32mexcept\u001b[0m \u001b[0mexceptions\u001b[0m\u001b[0;34m.\u001b[0m\u001b[0mTrialPruned\u001b[0m \u001b[0;32mas\u001b[0m \u001b[0me\u001b[0m\u001b[0;34m:\u001b[0m\u001b[0;34m\u001b[0m\u001b[0;34m\u001b[0m\u001b[0m\n\u001b[1;32m    213\u001b[0m         \u001b[0;31m# TODO(mamu): Handle multi-objective cases.\u001b[0m\u001b[0;34m\u001b[0m\u001b[0;34m\u001b[0m\u001b[0;34m\u001b[0m\u001b[0m\n",
      "\u001b[0;32m<ipython-input-7-4a68b3b2719b>\u001b[0m in \u001b[0;36mobjective\u001b[0;34m(trial)\u001b[0m\n\u001b[1;32m     10\u001b[0m     \u001b[0mmybot\u001b[0m\u001b[0;34m.\u001b[0m\u001b[0mset_param\u001b[0m\u001b[0;34m(\u001b[0m\u001b[0ma\u001b[0m\u001b[0;34m,\u001b[0m \u001b[0mb\u001b[0m\u001b[0;34m,\u001b[0m \u001b[0mc\u001b[0m\u001b[0;34m,\u001b[0m \u001b[0md\u001b[0m\u001b[0;34m,\u001b[0m \u001b[0msl\u001b[0m\u001b[0;34m,\u001b[0m \u001b[0mtp\u001b[0m\u001b[0;34m)\u001b[0m\u001b[0;34m\u001b[0m\u001b[0;34m\u001b[0m\u001b[0m\n\u001b[1;32m     11\u001b[0m \u001b[0;34m\u001b[0m\u001b[0m\n\u001b[0;32m---> 12\u001b[0;31m     \u001b[0mscore\u001b[0m \u001b[0;34m=\u001b[0m  \u001b[0;34m-\u001b[0m\u001b[0mmybot\u001b[0m\u001b[0;34m.\u001b[0m\u001b[0mbacktest\u001b[0m\u001b[0;34m(\u001b[0m\u001b[0mfrom_date\u001b[0m\u001b[0;34m=\u001b[0m\u001b[0mstart\u001b[0m\u001b[0;34m,\u001b[0m \u001b[0mto_date\u001b[0m\u001b[0;34m=\u001b[0m\u001b[0mend\u001b[0m\u001b[0;34m)\u001b[0m\u001b[0;34m[\u001b[0m\u001b[0;34m'total profit'\u001b[0m\u001b[0;34m]\u001b[0m\u001b[0;34m\u001b[0m\u001b[0;34m\u001b[0m\u001b[0m\n\u001b[0m\u001b[1;32m     13\u001b[0m \u001b[0;31m#     print('a: %d, b: %d, score: %1.2f' % (a, b, -score))\u001b[0m\u001b[0;34m\u001b[0m\u001b[0;34m\u001b[0m\u001b[0;34m\u001b[0m\u001b[0m\n\u001b[1;32m     14\u001b[0m     \u001b[0;32mreturn\u001b[0m \u001b[0mscore\u001b[0m\u001b[0;34m\u001b[0m\u001b[0;34m\u001b[0m\u001b[0m\n",
      "\u001b[0;32m~/git/practice/trade/fx/my_oanda/my_oanda.py\u001b[0m in \u001b[0;36mbacktest\u001b[0;34m(self, from_date, to_date, filename, show)\u001b[0m\n\u001b[1;32m    483\u001b[0m             \u001b[0;32mif\u001b[0m \u001b[0mbuy_price\u001b[0m \u001b[0;34m!=\u001b[0m \u001b[0;36m0\u001b[0m \u001b[0;32mand\u001b[0m \u001b[0mself\u001b[0m\u001b[0;34m.\u001b[0m\u001b[0mtake_profit\u001b[0m \u001b[0;34m>\u001b[0m \u001b[0;36m0\u001b[0m\u001b[0;34m:\u001b[0m\u001b[0;34m\u001b[0m\u001b[0;34m\u001b[0m\u001b[0m\n\u001b[1;32m    484\u001b[0m                 \u001b[0mlimit_price\u001b[0m \u001b[0;34m=\u001b[0m \u001b[0mbuy_price\u001b[0m \u001b[0;34m+\u001b[0m \u001b[0mself\u001b[0m\u001b[0;34m.\u001b[0m\u001b[0mtake_profit\u001b[0m \u001b[0;34m*\u001b[0m \u001b[0mself\u001b[0m\u001b[0;34m.\u001b[0m\u001b[0mpoint\u001b[0m\u001b[0;34m\u001b[0m\u001b[0;34m\u001b[0m\u001b[0m\n\u001b[0;32m--> 485\u001b[0;31m                 \u001b[0;32mif\u001b[0m \u001b[0mh\u001b[0m\u001b[0;34m[\u001b[0m\u001b[0mi\u001b[0m\u001b[0;34m]\u001b[0m \u001b[0;34m>=\u001b[0m \u001b[0mlimit_price\u001b[0m\u001b[0;34m:\u001b[0m\u001b[0;34m\u001b[0m\u001b[0;34m\u001b[0m\u001b[0m\n\u001b[0m\u001b[1;32m    486\u001b[0m                     \u001b[0mlong_trade\u001b[0m\u001b[0;34m[\u001b[0m\u001b[0mi\u001b[0m\u001b[0;34m]\u001b[0m \u001b[0;34m=\u001b[0m \u001b[0;34m-\u001b[0m\u001b[0mlimit_price\u001b[0m\u001b[0;34m\u001b[0m\u001b[0;34m\u001b[0m\u001b[0m\n\u001b[1;32m    487\u001b[0m                     long_pl[i] = (\n",
      "\u001b[0;31mKeyboardInterrupt\u001b[0m: "
     ]
    }
   ],
   "source": [
    "study = optuna.create_study()\n",
    "study.optimize(objective, n_trials=1000)"
   ]
  },
  {
   "cell_type": "code",
   "execution_count": 9,
   "id": "literary-greene",
   "metadata": {},
   "outputs": [],
   "source": [
    "params=study.best_trial.params"
   ]
  },
  {
   "cell_type": "code",
   "execution_count": 10,
   "id": "italian-persian",
   "metadata": {},
   "outputs": [
    {
     "data": {
      "text/plain": [
       "{'a': 5, 'b': 13, 'c': 34, 'd': 36, 'stop_loss': 6, 'take_profit': 16}"
      ]
     },
     "execution_count": 10,
     "metadata": {},
     "output_type": "execute_result"
    }
   ],
   "source": [
    "params"
   ]
  },
  {
   "cell_type": "code",
   "execution_count": 11,
   "id": "arctic-evans",
   "metadata": {},
   "outputs": [],
   "source": [
    "mybot.set_param(params['a'], params['b'], params['c'], params['d'], params['stop_loss'], params['take_profit'])"
   ]
  },
  {
   "cell_type": "code",
   "execution_count": 12,
   "id": "worth-collection",
   "metadata": {},
   "outputs": [
    {
     "name": "stdout",
     "output_type": "stream",
     "text": [
      "total profit        427290.000\n",
      "total trades         28692.000\n",
      "win rate                64.809\n",
      "profit factor            1.112\n",
      "maximum drawdown     33720.000\n",
      "recovery factor         12.672\n",
      "riskreward ratio         0.597\n",
      "sharpe ratio             0.039\n",
      "average return          13.817\n",
      "stop loss             5476.000\n",
      "take profit            184.000\n",
      "dtype: float64\n"
     ]
    },
    {
     "data": {
      "text/plain": [
       "total profit        427290.000\n",
       "total trades         28692.000\n",
       "win rate                64.809\n",
       "profit factor            1.112\n",
       "maximum drawdown     33720.000\n",
       "recovery factor         12.672\n",
       "riskreward ratio         0.597\n",
       "sharpe ratio             0.039\n",
       "average return          13.817\n",
       "stop loss             5476.000\n",
       "take profit            184.000\n",
       "dtype: float64"
      ]
     },
     "execution_count": 12,
     "metadata": {},
     "output_type": "execute_result"
    },
    {
     "data": {
      "image/png": "[encoded data removed]",
      "text/plain": [
       "<Figure size 432x288 with 3 Axes>"
      ]
     },
     "metadata": {
      "needs_background": "light"
     },
     "output_type": "display_data"
    }
   ],
   "source": [
    "mybot.backtest(from_date=start, to_date=end, filename=\"hogebacktest.png\", show=True)"
   ]
  },
  {
   "cell_type": "code",
   "execution_count": 13,
   "id": "boring-england",
   "metadata": {},
   "outputs": [
    {
     "name": "stdout",
     "output_type": "stream",
     "text": [
      "total profit        66550.000\n",
      "total trades         3569.000\n",
      "win rate               68.282\n",
      "profit factor           1.231\n",
      "maximum drawdown     4950.000\n",
      "recovery factor        13.444\n",
      "riskreward ratio        0.536\n",
      "sharpe ratio            0.075\n",
      "average return         17.858\n",
      "stop loss             344.000\n",
      "take profit             0.000\n",
      "dtype: float64\n"
     ]
    },
    {
     "data": {
      "text/plain": [
       "total profit        66550.000\n",
       "total trades         3569.000\n",
       "win rate               68.282\n",
       "profit factor           1.231\n",
       "maximum drawdown     4950.000\n",
       "recovery factor        13.444\n",
       "riskreward ratio        0.536\n",
       "sharpe ratio            0.075\n",
       "average return         17.858\n",
       "stop loss             344.000\n",
       "take profit             0.000\n",
       "dtype: float64"
      ]
     },
     "execution_count": 13,
     "metadata": {},
     "output_type": "execute_result"
    },
    {
     "data": {
      "image/png": "[encoded data removed]",
      "text/plain": [
       "<Figure size 432x288 with 3 Axes>"
      ]
     },
     "metadata": {
      "needs_background": "light"
     },
     "output_type": "display_data"
    }
   ],
   "source": [
    "start_rev = \"2021-1-1\"\n",
    "end_rev = \"2021-2-19\"\n",
    "mybot.backtest(from_date=start_rev, to_date=end_rev, filename=\"hogebacktest.png\", show=True)"
   ]
  },
  {
   "cell_type": "code",
   "execution_count": null,
   "id": "quick-psychiatry",
   "metadata": {},
   "outputs": [],
   "source": []
  },
  {
   "cell_type": "code",
   "execution_count": null,
   "id": "returning-antibody",
   "metadata": {},
   "outputs": [],
   "source": [
    "#total profit        14490.000"
   ]
  }
 ],
 "metadata": {
  "kernelspec": {
   "display_name": "Python 3",
   "language": "python",
   "name": "python3"
  },
  "language_info": {
   "codemirror_mode": {
    "name": "ipython",
    "version": 3
   },
   "file_extension": ".py",
   "mimetype": "text/x-python",
   "name": "python",
   "nbconvert_exporter": "python",
   "pygments_lexer": "ipython3",
   "version": "3.8.7"
  }
 },
 "nbformat": 4,
 "nbformat_minor": 5
}
