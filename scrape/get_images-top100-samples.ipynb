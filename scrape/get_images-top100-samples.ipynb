{
 "cells": [
  {
   "cell_type": "code",
   "execution_count": 118,
   "metadata": {},
   "outputs": [],
   "source": [
    "from bs4 import BeautifulSoup\n",
    "import requests\n",
    "import pandas as pd\n",
    "import time\n",
    "import re\n",
    "import urllib\n",
    "import os"
   ]
  },
  {
   "cell_type": "code",
   "execution_count": 78,
   "metadata": {},
   "outputs": [],
   "source": [
    "url_home = 'http://www.dmm.co.jp'\n",
    "url_base = 'http://www.dmm.co.jp/digital/videoa/-/ranking/=/term=monthly/type=actress/page='\n",
    "pages = range(1,6,1)\n"
   ]
  },
  {
   "cell_type": "code",
   "execution_count": 129,
   "metadata": {},
   "outputs": [],
   "source": [
    "acts = []\n",
    "for p in pages:\n",
    "    url = url_base + str(p) + '/'\n",
    "    soup = BeautifulSoup(requests.get(url).content) \n",
    "    rank = len(soup.find_all('table',{'class':\"w100 mg-b20 work\"})) \n",
    "    for r in range(rank):  \n",
    "        for a in range(2):\n",
    "            img_tag = soup.find_all('table',{'class':\"w100 mg-b20 work\"})[r].find_all('td')[a]\n",
    "            \n",
    "            face_url =img_tag.find_all('a')[0].find('img')['src']\n",
    "            face_name = img_tag.find_all('a')[0].find('img')['src'].split('/')[-1]\n",
    "            name = img_tag.find_all('a')[0].find('img')['alt']\n",
    "            \n",
    "            url_act = url_home + img_tag.find_all('a')[1]['href']\n",
    "            soup_act = BeautifulSoup(requests.get(url_act).content) \n",
    "            num_titles = len(soup_act.find('div', {'class':\"d-item\"}).find_all('p', {'class':'tmb'}))\n",
    "            \n",
    "            for i in range(num_titles):\n",
    "                url_sample = soup_act.find('div', {'class':\"d-item\"}).find_all('p', {'class':'tmb'})[i].find('a')['href'].split('?')[0]\n",
    "                soup_sample = BeautifulSoup(requests.get(url_sample).content) \n",
    "                num_appear = len(soup_sample.find('span', {'id':'performer'}))\n",
    "                title = soup_act.find('div', {'class':\"d-item\"}).find_all('p', {'class':'tmb'})[i].find('img')['alt']\n",
    "                if num_appear > 2:\n",
    "                    continue\n",
    "                if soup_sample.find('div', {'id':\"sample-image-block\"}) is None:\n",
    "                    continue\n",
    "                    \n",
    "                num_samples = len(soup_sample.find('div', {'id':\"sample-image-block\"}).find_all('img'))\n",
    "                for num in range(num_samples):\n",
    "                    img_url = soup_sample.find('div', {'id':\"sample-image-block\"}).find_all('img')[0]['src'].split('-')\n",
    "                    img_url_rev = img_url[0] + 'jp-' + str(num+1) + '.jpg'\n",
    "                    file_name = img_url_rev.split('/')[-1]\n",
    "\n",
    "                    act = {'name':name,\n",
    "                           'face_url':face_url,\n",
    "                           'face_name':face_name,\n",
    "                           'img_url':img_url_rev,\n",
    "                           'file_name':file_name,\n",
    "                           'title':title}\n",
    "                    acts.append(act)\n",
    "                    \n",
    "                    act_dir = 'images_best_titles/' + name\n",
    "                    \n",
    "                    try:\n",
    "                        os.makedirs(act_dir)\n",
    "                    except FileExistsError:\n",
    "                        pass\n",
    "                    \n",
    "                    dst_path = act_dir + '/' + file_name\n",
    "                    data = urllib.request.urlopen(img_url_rev).read()\n",
    "                    with open(dst_path, mode=\"wb\") as f:\n",
    "                        f.write(data)\n",
    "                    time.sleep(0.5)"
   ]
  },
  {
   "cell_type": "code",
   "execution_count": 130,
   "metadata": {},
   "outputs": [],
   "source": [
    "df = pd.DataFrame(acts)\n",
    "df.to_csv('acts_best_titles.csv', index=False)"
   ]
  },
  {
   "cell_type": "code",
   "execution_count": null,
   "metadata": {},
   "outputs": [],
   "source": []
  }
 ],
 "metadata": {
  "kernelspec": {
   "display_name": "Python 3",
   "language": "python",
   "name": "python3"
  },
  "language_info": {
   "codemirror_mode": {
    "name": "ipython",
    "version": 3
   },
   "file_extension": ".py",
   "mimetype": "text/x-python",
   "name": "python",
   "nbconvert_exporter": "python",
   "pygments_lexer": "ipython3",
   "version": "3.6.7"
  }
 },
 "nbformat": 4,
 "nbformat_minor": 2
}
