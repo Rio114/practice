{
 "cells": [
  {
   "cell_type": "code",
   "execution_count": 33,
   "metadata": {},
   "outputs": [],
   "source": [
    "import cv2"
   ]
  },
  {
   "cell_type": "code",
   "execution_count": 34,
   "metadata": {},
   "outputs": [],
   "source": [
    "low_dir = 'data/low/'\n",
    "high_dir = 'data/high/'\n",
    "data_dir = 'data/'\n",
    "\n",
    "filename = 'y2mate.com - GoPro Line of the Winter_ Nicolas Falquet - Switzerland 4.14.15 - Snow_EMVPpPE_Bx4_1080p.mp4'\n",
    "\n",
    "# path = 'data/movie.mp4'\n",
    "path = data_dir + filename"
   ]
  },
  {
   "cell_type": "code",
   "execution_count": 38,
   "metadata": {},
   "outputs": [
    {
     "name": "stdout",
     "output_type": "stream",
     "text": [
      "width: 1920\n",
      "height: 1080\n",
      "frame_count: 4537\n",
      "frame_rate: 25.0\n"
     ]
    }
   ],
   "source": [
    "cap = cv2.VideoCapture(path)\n",
    "\n",
    "width = int(cap.get(cv2.CAP_PROP_FRAME_WIDTH)) # 動画の画面横幅\n",
    "height = int(cap.get(cv2.CAP_PROP_FRAME_HEIGHT)) # 動画の画面縦幅\n",
    "fcnt = int(cap.get(cv2.CAP_PROP_FRAME_COUNT)) # 総フレーム数\n",
    "fps = cap.get(cv2.CAP_PROP_FPS)\n",
    "print('width:',  width)\n",
    "print('height:',  height)\n",
    "print('frame_count:',  fcnt)\n",
    "print('frame_rate:',  fps)    "
   ]
  },
  {
   "cell_type": "code",
   "execution_count": 39,
   "metadata": {},
   "outputs": [],
   "source": [
    "r = 1 / 4\n",
    "\n",
    "for f in range(fcnt):\n",
    "    ret, frame = cap.read()\n",
    "    if(f % int(fps*5) == 0):\n",
    "        imgname = filename.split('.')[0] + f'_{f}.png'\n",
    "        \n",
    "        cv2.imwrite(high_dir+imgname, frame)    \n",
    "        low_frame = cv2.resize(frame , (int(width*r), int(height*r)))\n",
    "        cv2.imwrite(low_dir+imgname, low_frame)"
   ]
  },
  {
   "cell_type": "code",
   "execution_count": null,
   "metadata": {},
   "outputs": [],
   "source": [
    "# cv2.imshow('frame', frame)\n",
    "# cv2.waitKey(0)\n",
    "# cv2.destroyAllWindows()\n",
    "\n",
    "# cv2.imshow('frame', low_frame)\n",
    "# cv2.waitKey(0)\n",
    "# cv2.destroyAllWindows()"
   ]
  },
  {
   "cell_type": "code",
   "execution_count": 41,
   "metadata": {},
   "outputs": [
    {
     "name": "stdout",
     "output_type": "stream",
     "text": [
      "width: 480\n",
      "height: 270\n",
      "frame_count: 4537\n",
      "frame_rate: 25.0\n"
     ]
    }
   ],
   "source": [
    "print('width:',  int(width*r))\n",
    "print('height:',  int(height*r))\n",
    "print('frame_count:',  fcnt)\n",
    "print('frame_rate:',  fps)   "
   ]
  },
  {
   "cell_type": "code",
   "execution_count": null,
   "metadata": {},
   "outputs": [],
   "source": []
  }
 ],
 "metadata": {
  "kernelspec": {
   "display_name": "Python 3",
   "language": "python",
   "name": "python3"
  },
  "language_info": {
   "codemirror_mode": {
    "name": "ipython",
    "version": 3
   },
   "file_extension": ".py",
   "mimetype": "text/x-python",
   "name": "python",
   "nbconvert_exporter": "python",
   "pygments_lexer": "ipython3",
   "version": "3.7.3"
  }
 },
 "nbformat": 4,
 "nbformat_minor": 4
}
