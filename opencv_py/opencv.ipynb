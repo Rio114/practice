{
 "cells": [
  {
   "cell_type": "code",
   "execution_count": 17,
   "metadata": {},
   "outputs": [],
   "source": [
    "import cv2"
   ]
  },
  {
   "cell_type": "code",
   "execution_count": 18,
   "metadata": {},
   "outputs": [],
   "source": [
    "folder = 'data/'\n",
    "rate = '720p'\n",
    "# rate = '240p'\n",
    "filename = f'0lER8F1wmJ8_{rate}.mp4'\n",
    "path = folder + filename"
   ]
  },
  {
   "cell_type": "code",
   "execution_count": 19,
   "metadata": {},
   "outputs": [
    {
     "name": "stdout",
     "output_type": "stream",
     "text": [
      "1280 720 29886 29\n"
     ]
    }
   ],
   "source": [
    "video = cv2.VideoCapture(path) # 引数がファイルパス\n",
    "width = int(video.get(cv2.CAP_PROP_FRAME_WIDTH)) # 動画の画面横幅\n",
    "height = int(video.get(cv2.CAP_PROP_FRAME_HEIGHT)) # 動画の画面縦幅\n",
    "frame_count = int(video.get(cv2.CAP_PROP_FRAME_COUNT)) # 総フレーム数\n",
    "frame_rate = int(video.get(cv2.CAP_PROP_FPS)) # \n",
    "print(width, height, frame_count, frame_rate)"
   ]
  },
  {
   "cell_type": "code",
   "execution_count": 20,
   "metadata": {},
   "outputs": [],
   "source": [
    "for _ in range(4000):\n",
    "    ret, frame = video.read()\n",
    "#     re1, frame1 = video1.read()"
   ]
  },
  {
   "cell_type": "code",
   "execution_count": 21,
   "metadata": {},
   "outputs": [],
   "source": [
    "cv2.imshow('image',frame)\n",
    "cv2.waitKey(0)\n",
    "cv2.destroyAllWindows()"
   ]
  },
  {
   "cell_type": "markdown",
   "metadata": {},
   "source": [
    "\n",
    "train\n",
    "opencvでフレームごとに240p -> 720pを学習する。\n",
    "\n",
    "\n",
    "\n",
    "input\n",
    " - source: youtube (converter)\n",
    " - file type:mp4\n",
    " - frame size: 240p, 720p \n",
    "\n",
    "generate\n",
    "- input\n",
    " - mp4\n",
    " - 240p\n",
    "\n",
    "- framework\n",
    " GAN\n",
    "\n",
    "- output\n",
    " - mp4\n",
    " - 720p\n"
   ]
  },
  {
   "cell_type": "code",
   "execution_count": null,
   "metadata": {},
   "outputs": [],
   "source": []
  }
 ],
 "metadata": {
  "kernelspec": {
   "display_name": "Python 3",
   "language": "python",
   "name": "python3"
  },
  "language_info": {
   "codemirror_mode": {
    "name": "ipython",
    "version": 3
   },
   "file_extension": ".py",
   "mimetype": "text/x-python",
   "name": "python",
   "nbconvert_exporter": "python",
   "pygments_lexer": "ipython3",
   "version": "3.7.3"
  }
 },
 "nbformat": 4,
 "nbformat_minor": 2
}
