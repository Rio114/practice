{
 "cells": [
  {
   "cell_type": "code",
   "execution_count": 15,
   "metadata": {},
   "outputs": [],
   "source": [
    "from gan_layers import gan_network\n",
    "import os\n",
    "import numpy as np\n",
    "from PIL import Image\n",
    "import random\n",
    "import cv2"
   ]
  },
  {
   "cell_type": "code",
   "execution_count": 68,
   "metadata": {},
   "outputs": [],
   "source": [
    "input_dir = 'train/240p/'\n",
    "tgt_dir = 'train/720p/'\n",
    "img_list = os.listdir(input_dir)\n",
    "assert img_list == os.listdir(tgt_dir)\n",
    "\n",
    "input_path = input_dir + img_list[0]\n",
    "input_shape_temp = np.array(Image.open(input_path)).shape\n",
    "\n",
    "tgt_path = tgt_dir + img_list[0]\n",
    "tgt_shape_temp = np.array(Image.open(tgt_path)).shape"
   ]
  },
  {
   "cell_type": "code",
   "execution_count": 66,
   "metadata": {},
   "outputs": [
    {
     "data": {
      "text/plain": [
       "(720, 1280, 3)"
      ]
     },
     "execution_count": 66,
     "metadata": {},
     "output_type": "execute_result"
    }
   ],
   "source": [
    "tgt_shape"
   ]
  },
  {
   "cell_type": "code",
   "execution_count": 64,
   "metadata": {},
   "outputs": [],
   "source": [
    "class ImageDataGenerator(object):\n",
    "    def __init__(self, input_dir, tgt_dir):\n",
    "        self.input_dir = input_dir\n",
    "        self.tgt_dir = tgt_dir\n",
    "        self.img_list = os.listdir(input_dir)\n",
    "        assert self.img_list == os.listdir(tgt_dir)\n",
    "        self.reset()\n",
    "\n",
    "    def reset(self):\n",
    "        self.inputs = []\n",
    "        self.targets = []\n",
    "\n",
    "    def flow_from_directory(self, batch_size=16):\n",
    "        train_imges = random.sample(self.img_list, batch_size)\n",
    "        while True:\n",
    "            for img in train_imges:\n",
    "                input_path = input_dir + img\n",
    "                tgt_path = tgt_dir + img\n",
    "\n",
    "                X = (np.array(Image.open(input_path)) - 127.5) / 127.5\n",
    "                Y = (np.array(Image.open(tgt_path)) - 127.5) / 127.5\n",
    "\n",
    "                X_list.append(X.reshape([1, X.shape[0], X.shape[1], X.shape[2]]))\n",
    "                Y_list.append(Y.reshape([1, Y.shape[0], Y.shape[1], Y.shape[2]]))\n",
    "    \n",
    "            inputs = np.vstack(X_list)\n",
    "            targets = np.vstack(Y_list)\n",
    "\n",
    "            yield inputs, targets"
   ]
  },
  {
   "cell_type": "code",
   "execution_count": 69,
   "metadata": {},
   "outputs": [
    {
     "data": {
      "text/plain": [
       "(None, (240, 426, 3))"
      ]
     },
     "execution_count": 69,
     "metadata": {},
     "output_type": "execute_result"
    }
   ],
   "source": [
    "input_shape = (None, input_shape_temp)\n",
    "input_shape"
   ]
  },
  {
   "cell_type": "code",
   "execution_count": null,
   "metadata": {},
   "outputs": [],
   "source": [
    "input_shape = (None, input_shape_temp)\n",
    "tgt_shape = (None, tgt_shape_temp)\n",
    "\n",
    "\n",
    "inputs = Input(shape=noise_shape)\n",
    "tensors = [inputs]\n",
    "self.gen_net = []\n",
    "\n",
    "self.gen_net.append(BatchNormalization(momentum=0.8))\n",
    "self.gen_net.append(UpSampling2D())\n",
    "self.gen_net.append(Conv2D(128, kernel_size=3, padding=\"same\"))\n",
    "self.gen_net.append(Activation(\"relu\"))\n",
    "self.gen_net.append(BatchNormalization(momentum=0.8))\n",
    "self.gen_net.append(UpSampling2D())\n",
    "self.gen_net.append(Conv2D(64, kernel_size=3, padding=\"same\"))\n",
    "self.gen_net.append(Activation(\"relu\"))\n",
    "self.gen_net.append(BatchNormalization(momentum=0.8))\n",
    "self.gen_net.append(Conv2D(3, kernel_size=3, padding=\"same\"))\n",
    "\n",
    "for i, l in enumerate(self.gen_net):\n",
    "    tensors.append(l(tensors[i]))\n",
    "\n",
    "\n",
    "return Model(tensors[0], tensors[-1])"
   ]
  },
  {
   "cell_type": "code",
   "execution_count": null,
   "metadata": {},
   "outputs": [],
   "source": [
    "# "
   ]
  }
 ],
 "metadata": {
  "kernelspec": {
   "display_name": "Python 3",
   "language": "python",
   "name": "python3"
  },
  "language_info": {
   "codemirror_mode": {
    "name": "ipython",
    "version": 3
   },
   "file_extension": ".py",
   "mimetype": "text/x-python",
   "name": "python",
   "nbconvert_exporter": "python",
   "pygments_lexer": "ipython3",
   "version": "3.7.3"
  }
 },
 "nbformat": 4,
 "nbformat_minor": 2
}
