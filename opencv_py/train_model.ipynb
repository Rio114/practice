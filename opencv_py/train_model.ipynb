{
 "cells": [
  {
   "cell_type": "code",
   "execution_count": 1,
   "metadata": {},
   "outputs": [
    {
     "name": "stderr",
     "output_type": "stream",
     "text": [
      "Using TensorFlow backend.\n"
     ]
    }
   ],
   "source": [
    "from srgan import SRGAN\n",
    "from generator import ImageDataGenerator"
   ]
  },
  {
   "cell_type": "code",
   "execution_count": 2,
   "metadata": {},
   "outputs": [
    {
     "name": "stderr",
     "output_type": "stream",
     "text": [
      "/usr/local/lib/python3.6/dist-packages/keras/engine/saving.py:341: UserWarning: No training configuration found in save file: the model was *not* compiled. Compile it manually.\n",
      "  warnings.warn('No training configuration found in save file: '\n"
     ]
    }
   ],
   "source": [
    "vgg_path = 'vgg16_notop.h5'\n",
    "srgan = SRGAN(vgg_path)"
   ]
  },
  {
   "cell_type": "code",
   "execution_count": 3,
   "metadata": {
    "scrolled": true
   },
   "outputs": [
    {
     "data": {
      "text/plain": [
       "array([[[[-6.4019307e-02, -9.6997641e-02,  5.9879228e-02, ...,\n",
       "           8.7729946e-02,  6.8247676e-02,  8.4239915e-02],\n",
       "         [ 1.6279750e-02,  8.3545014e-02,  8.6520627e-02, ...,\n",
       "           9.1249079e-02, -9.6805841e-03, -8.8277221e-02],\n",
       "         [-1.7069846e-02, -9.3752041e-02,  2.5562599e-02, ...,\n",
       "           8.5183337e-02, -9.3452908e-02,  8.1886128e-02]],\n",
       "\n",
       "        [[ 8.3834842e-02, -6.9144741e-02,  8.6247623e-03, ...,\n",
       "          -3.0633777e-02, -3.6644518e-02, -9.0567000e-02],\n",
       "         [-6.6590719e-02, -5.5438355e-03,  3.1284675e-02, ...,\n",
       "          -5.7288442e-02, -7.6375261e-02,  6.8522125e-02],\n",
       "         [ 4.5445547e-02,  4.6527162e-02, -1.0746993e-02, ...,\n",
       "          -3.2152362e-02, -1.7170660e-02, -7.4874565e-02]],\n",
       "\n",
       "        [[ 3.0185640e-02, -1.9338951e-03, -6.8848819e-02, ...,\n",
       "          -1.4554374e-02, -2.9686853e-02,  3.1160235e-02],\n",
       "         [ 3.4146920e-02,  1.9989245e-02,  6.3897491e-02, ...,\n",
       "          -3.7835971e-02,  5.0771847e-02, -2.4040848e-02],\n",
       "         [ 5.4716915e-02,  9.3380377e-02, -6.8873912e-02, ...,\n",
       "          -6.2903129e-02,  4.6659291e-02, -2.2764206e-02]]],\n",
       "\n",
       "\n",
       "       [[[ 3.5127595e-02, -6.0718898e-02,  7.1645901e-03, ...,\n",
       "          -3.1746924e-05, -7.8949690e-02,  3.0694753e-02],\n",
       "         [ 5.5850700e-02,  7.0295006e-02, -3.8386986e-02, ...,\n",
       "           1.3836123e-02, -1.5296914e-02, -1.6141430e-02],\n",
       "         [-6.7021944e-02,  9.5746994e-02, -1.0266729e-02, ...,\n",
       "          -9.0550639e-02, -7.7387109e-02, -8.5768461e-02]],\n",
       "\n",
       "        [[-3.5376005e-02,  2.7142078e-02,  2.6984647e-02, ...,\n",
       "           9.7239628e-02, -3.8957957e-02,  3.0438289e-02],\n",
       "         [-6.8394050e-02,  6.4920112e-02, -3.3806361e-02, ...,\n",
       "          -8.8243879e-02, -2.4903819e-02, -4.2130016e-02],\n",
       "         [-8.4494665e-02,  6.1119109e-02,  2.5966018e-04, ...,\n",
       "          -3.7847482e-02,  6.0622990e-02,  6.8840593e-02]],\n",
       "\n",
       "        [[-4.0257074e-02, -7.8469813e-03, -3.9263371e-02, ...,\n",
       "           8.0603585e-03,  3.8479924e-02,  9.3385324e-02],\n",
       "         [-5.4198291e-02,  9.5188156e-02,  4.7291145e-02, ...,\n",
       "          -6.7981899e-02, -2.0370118e-02, -9.6726991e-02],\n",
       "         [ 9.3423411e-02,  9.7862899e-02,  5.4408878e-02, ...,\n",
       "           7.8545004e-02, -4.7633208e-02, -5.0260946e-03]]],\n",
       "\n",
       "\n",
       "       [[[-1.4937036e-02, -8.8391878e-02,  2.3352988e-02, ...,\n",
       "           7.7405751e-02,  3.8313866e-04,  5.3242832e-02],\n",
       "         [-9.1494545e-03, -9.9304914e-03,  7.2043762e-03, ...,\n",
       "          -6.6328995e-02, -4.8225179e-02, -2.8768495e-02],\n",
       "         [ 8.5356265e-02,  4.5959428e-03,  8.2612783e-02, ...,\n",
       "          -4.4722233e-02,  6.5811679e-02,  6.2369540e-02]],\n",
       "\n",
       "        [[ 9.1840699e-02, -7.7398598e-02, -9.5225990e-02, ...,\n",
       "          -9.7425602e-02, -1.6759440e-02,  7.6212272e-02],\n",
       "         [ 9.4175652e-02, -1.9271038e-02, -7.6130375e-02, ...,\n",
       "           2.0448007e-02, -3.5898842e-02,  2.8965607e-02],\n",
       "         [-6.2513053e-02,  4.6448112e-03, -7.3219463e-02, ...,\n",
       "          -7.0131764e-02,  8.1885681e-02, -5.8000203e-02]],\n",
       "\n",
       "        [[-4.1241240e-02,  2.0934477e-02, -8.4990673e-02, ...,\n",
       "           3.6908120e-02, -7.5860798e-02, -1.2743600e-02],\n",
       "         [-6.5341689e-02,  1.9952059e-03, -2.0133533e-02, ...,\n",
       "           9.1760948e-02,  9.7323805e-03, -2.1579526e-02],\n",
       "         [ 2.5616080e-02,  1.3297759e-02, -1.1948153e-02, ...,\n",
       "           6.4773545e-02, -2.0476520e-02, -6.0157370e-02]]]],\n",
       "      dtype=float32)"
      ]
     },
     "execution_count": 3,
     "metadata": {},
     "output_type": "execute_result"
    }
   ],
   "source": [
    "srgan.vgg_combined.get_weights()[0]"
   ]
  },
  {
   "cell_type": "code",
   "execution_count": 4,
   "metadata": {},
   "outputs": [],
   "source": [
    "input_dir = 'data/low/'\n",
    "tgt_dir = 'data/high/'\n",
    "gen = ImageDataGenerator(input_dir, tgt_dir)"
   ]
  },
  {
   "cell_type": "code",
   "execution_count": 5,
   "metadata": {},
   "outputs": [],
   "source": [
    "data = gen.flow_from_directory().__next__()"
   ]
  },
  {
   "cell_type": "code",
   "execution_count": null,
   "metadata": {},
   "outputs": [
    {
     "name": "stdout",
     "output_type": "stream",
     "text": [
      "training generator...\n"
     ]
    }
   ],
   "source": [
    "X_low = data[0]\n",
    "X_high = data[1]\n",
    "srgan.train(X_low, X_high)"
   ]
  },
  {
   "cell_type": "code",
   "execution_count": null,
   "metadata": {},
   "outputs": [],
   "source": [
    "srgan.vgg_combined.get_weights()[0]"
   ]
  },
  {
   "cell_type": "code",
   "execution_count": null,
   "metadata": {},
   "outputs": [],
   "source": []
  },
  {
   "cell_type": "code",
   "execution_count": null,
   "metadata": {},
   "outputs": [],
   "source": []
  }
 ],
 "metadata": {
  "kernelspec": {
   "display_name": "Python 3",
   "language": "python",
   "name": "python3"
  },
  "language_info": {
   "codemirror_mode": {
    "name": "ipython",
    "version": 3
   },
   "file_extension": ".py",
   "mimetype": "text/x-python",
   "name": "python",
   "nbconvert_exporter": "python",
   "pygments_lexer": "ipython3",
   "version": "3.6.9"
  }
 },
 "nbformat": 4,
 "nbformat_minor": 2
}
