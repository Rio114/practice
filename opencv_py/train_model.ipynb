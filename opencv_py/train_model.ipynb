{
 "cells": [
  {
   "cell_type": "code",
   "execution_count": 1,
   "metadata": {},
   "outputs": [],
   "source": [
    "# from gan_layers import gan_network\n",
    "import os\n",
    "import numpy as np\n",
    "from PIL import Image\n",
    "import random\n",
    "import cv2"
   ]
  },
  {
   "cell_type": "code",
   "execution_count": 2,
   "metadata": {},
   "outputs": [],
   "source": [
    "input_dir = 'train/240p/'\n",
    "tgt_dir = 'train/720p/'\n",
    "img_list = os.listdir(input_dir)\n",
    "assert img_list == os.listdir(tgt_dir)\n",
    "\n",
    "input_path = input_dir + img_list[0]\n",
    "input_shape_temp = np.array(Image.open(input_path)).shape\n",
    "\n",
    "tgt_path = tgt_dir + img_list[0]\n",
    "tgt_shape_temp = np.array(Image.open(tgt_path)).shape"
   ]
  },
  {
   "cell_type": "code",
   "execution_count": 3,
   "metadata": {},
   "outputs": [
    {
     "name": "stderr",
     "output_type": "stream",
     "text": [
      "Using TensorFlow backend.\n"
     ]
    }
   ],
   "source": [
    "from layer import UNET"
   ]
  },
  {
   "cell_type": "code",
   "execution_count": 44,
   "metadata": {},
   "outputs": [],
   "source": [
    "from keras.models import Model\n",
    "from keras.layers import Conv2D, MaxPooling2D, UpSampling2D, Input, Dense\n",
    "from keras.layers import Flatten, Reshape, Activation, Concatenate, Dropout, BatchNormalization\n",
    "\n",
    "\n",
    "class UNET():\n",
    "    def __init__(self, input_shape=(240, 426, 3), tgt_shape=(720, 1280, 3)):\n",
    "        self.input_shape = input_shape\n",
    "        self.tgt_shape = tgt_shape\n",
    "\n",
    "    def down(self, input_layer, filters, pool=True):\n",
    "        conv1 = Conv2D(filters, (3, 3), padding='same', activation='relu')(input_layer)\n",
    "        residual = Conv2D(filters, (3, 3), padding='same', activation='relu')(conv1)\n",
    "        if pool:\n",
    "            max_pool = MaxPooling2D()(residual)\n",
    "            return max_pool, residual\n",
    "        else:\n",
    "            return residual\n",
    "\n",
    "    def up_res(self, input_layer, residual, filters):\n",
    "        filters= int(filters)\n",
    "        upsample = UpSampling2D()(input_layer)\n",
    "        upconv = Conv2D(filters, kernel_size=(2, 2), padding=\"same\")(upsample)\n",
    "        concat = Concatenate(axis=3)([residual, upconv])\n",
    "        conv1 = Conv2D(filters, (3, 3), padding='same', activation='relu')(concat)    \n",
    "        conv2 = Conv2D(filters, (3, 3), padding='same', activation='relu')(conv1)\n",
    "        return conv2\n",
    "    \n",
    "    def up_only(self, input_layer, filters):\n",
    "        filters= int(filters)\n",
    "        upsample = UpSampling2D()(input_layer)\n",
    "        upconv = Conv2D(filters, kernel_size=(2, 2), padding=\"same\")(upsample)\n",
    "        conv1 = Conv2D(filters, (3, 3), padding='same', activation='relu')(upconv)    \n",
    "        conv2 = Conv2D(filters, (3, 3), padding='same', activation='relu')(conv1)\n",
    "        return conv2\n",
    "\n",
    "    def unet(self, num_filter=64):\n",
    "        input_layer = Input(shape = self.input_shape)\n",
    "        layers = [input_layer]\n",
    "        residuals = []\n",
    "\n",
    "        # Down 1, 64\n",
    "        down1, res1 = self.down(input_layer, num_filter)\n",
    "        residuals.append(res1)\n",
    "        num_filter *= 2\n",
    "\n",
    "#         # Down 2, 128\n",
    "#         down2, res2 = self.down(down1, num_filter)\n",
    "#         residuals.append(res1)\n",
    "#         num_filter *= 2\n",
    "\n",
    "        # Down 3, 8\n",
    "        down3 = self.down(down1, num_filter, pool=False)\n",
    "\n",
    "        # Up 1, 128\n",
    "        num_filter /= 2\n",
    "        up1 = self.up_res(down3, residual=residuals[-1], filters=num_filter)\n",
    "\n",
    "        # Up 2, 64\n",
    "        num_filter /= 2\n",
    "#         up2 = self.up_only(up1, filters=num_filter)\n",
    "        up3 = UpSampling2D(size=(3,3))(up1)\n",
    "        out = Conv2D(filters=1, kernel_size=(1, 1), activation=\"sigmoid\")(up3)\n",
    "        model = Model(input_layer, out)\n",
    "\n",
    "        return model\n"
   ]
  },
  {
   "cell_type": "code",
   "execution_count": 45,
   "metadata": {},
   "outputs": [],
   "source": [
    "model = UNET().unet()"
   ]
  },
  {
   "cell_type": "code",
   "execution_count": 46,
   "metadata": {},
   "outputs": [
    {
     "name": "stdout",
     "output_type": "stream",
     "text": [
      "Model: \"model_9\"\n",
      "__________________________________________________________________________________________________\n",
      "Layer (type)                    Output Shape         Param #     Connected to                     \n",
      "==================================================================================================\n",
      "input_17 (InputLayer)           (None, 240, 426, 3)  0                                            \n",
      "__________________________________________________________________________________________________\n",
      "conv2d_118 (Conv2D)             (None, 240, 426, 64) 1792        input_17[0][0]                   \n",
      "__________________________________________________________________________________________________\n",
      "conv2d_119 (Conv2D)             (None, 240, 426, 64) 36928       conv2d_118[0][0]                 \n",
      "__________________________________________________________________________________________________\n",
      "max_pooling2d_23 (MaxPooling2D) (None, 120, 213, 64) 0           conv2d_119[0][0]                 \n",
      "__________________________________________________________________________________________________\n",
      "conv2d_120 (Conv2D)             (None, 120, 213, 128 73856       max_pooling2d_23[0][0]           \n",
      "__________________________________________________________________________________________________\n",
      "conv2d_121 (Conv2D)             (None, 120, 213, 128 147584      conv2d_120[0][0]                 \n",
      "__________________________________________________________________________________________________\n",
      "up_sampling2d_18 (UpSampling2D) (None, 240, 426, 128 0           conv2d_121[0][0]                 \n",
      "__________________________________________________________________________________________________\n",
      "conv2d_122 (Conv2D)             (None, 240, 426, 64) 32832       up_sampling2d_18[0][0]           \n",
      "__________________________________________________________________________________________________\n",
      "concatenate_11 (Concatenate)    (None, 240, 426, 128 0           conv2d_119[0][0]                 \n",
      "                                                                 conv2d_122[0][0]                 \n",
      "__________________________________________________________________________________________________\n",
      "conv2d_123 (Conv2D)             (None, 240, 426, 64) 73792       concatenate_11[0][0]             \n",
      "__________________________________________________________________________________________________\n",
      "conv2d_124 (Conv2D)             (None, 240, 426, 64) 36928       conv2d_123[0][0]                 \n",
      "__________________________________________________________________________________________________\n",
      "up_sampling2d_19 (UpSampling2D) (None, 720, 1278, 64 0           conv2d_124[0][0]                 \n",
      "__________________________________________________________________________________________________\n",
      "conv2d_125 (Conv2D)             (None, 720, 1278, 1) 65          up_sampling2d_19[0][0]           \n",
      "==================================================================================================\n",
      "Total params: 403,777\n",
      "Trainable params: 403,777\n",
      "Non-trainable params: 0\n",
      "__________________________________________________________________________________________________\n"
     ]
    }
   ],
   "source": [
    "model.summary()"
   ]
  },
  {
   "cell_type": "code",
   "execution_count": 64,
   "metadata": {},
   "outputs": [],
   "source": [
    "class ImageDataGenerator(object):\n",
    "    def __init__(self, input_dir, tgt_dir):\n",
    "        self.input_dir = input_dir\n",
    "        self.tgt_dir = tgt_dir\n",
    "        self.img_list = os.listdir(input_dir)\n",
    "        assert self.img_list == os.listdir(tgt_dir)\n",
    "        self.reset()\n",
    "\n",
    "    def reset(self):\n",
    "        self.inputs = []\n",
    "        self.targets = []\n",
    "\n",
    "    def flow_from_directory(self, batch_size=16):\n",
    "        train_imges = random.sample(self.img_list, batch_size)\n",
    "        while True:\n",
    "            for img in train_imges:\n",
    "                input_path = input_dir + img\n",
    "                tgt_path = tgt_dir + img\n",
    "\n",
    "                X = (np.array(Image.open(input_path)) - 127.5) / 127.5\n",
    "                Y = (np.array(Image.open(tgt_path)) - 127.5) / 127.5\n",
    "\n",
    "                X_list.append(X.reshape([1, X.shape[0], X.shape[1], X.shape[2]]))\n",
    "                Y_list.append(Y.reshape([1, Y.shape[0], Y.shape[1], Y.shape[2]]))\n",
    "    \n",
    "            inputs = np.vstack(X_list)\n",
    "            targets = np.vstack(Y_list)\n",
    "\n",
    "            yield inputs, targets"
   ]
  },
  {
   "cell_type": "code",
   "execution_count": null,
   "metadata": {},
   "outputs": [],
   "source": [
    "# "
   ]
  },
  {
   "cell_type": "code",
   "execution_count": null,
   "metadata": {},
   "outputs": [],
   "source": []
  },
  {
   "cell_type": "code",
   "execution_count": null,
   "metadata": {},
   "outputs": [],
   "source": []
  }
 ],
 "metadata": {
  "kernelspec": {
   "display_name": "Python 3",
   "language": "python",
   "name": "python3"
  }
 },
 "nbformat": 4,
 "nbformat_minor": 2
}
